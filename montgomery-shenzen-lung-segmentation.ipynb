{
  "nbformat": 4,
  "nbformat_minor": 5,
  "metadata": {
    "accelerator": "GPU",
    "colab": {
      "name": "experimento1-dataset2-parte1.ipynb",
      "provenance": []
    },
    "kernelspec": {
      "display_name": "Python 3",
      "language": "python",
      "name": "python3"
    },
    "language_info": {
      "codemirror_mode": {
        "name": "ipython",
        "version": 3
      },
      "file_extension": ".py",
      "mimetype": "text/x-python",
      "name": "python",
      "nbconvert_exporter": "python",
      "pygments_lexer": "ipython3",
      "version": "3.8.7"
    }
  },
  "cells": [
    {
      "cell_type": "markdown",
      "metadata": {
        "id": "isolated-intermediate"
      },
      "source": [
        "# Experimento 1\n",
        "***\n",
        "- Conjuntos de dados: Montgomery + Shenzen\n",
        "- Testando a equalização de histograma em comparação com a mudança típica de escala"
      ],
      "id": "isolated-intermediate"
    },
    {
      "cell_type": "markdown",
      "metadata": {
        "id": "secure-rocket"
      },
      "source": [
        "### Importando os pacotes necessários"
      ],
      "id": "secure-rocket"
    },
    {
      "cell_type": "code",
      "metadata": {
        "id": "published-reasoning"
      },
      "source": [
        "import glob\n",
        "import re\n",
        "from tqdm import tqdm\n",
        "import urllib.request\n",
        "import pandas as pd\n",
        "from sklearn.model_selection import train_test_split\n",
        "from keras.preprocessing.image import ImageDataGenerator\n",
        "from sklearn.metrics import confusion_matrix, precision_recall_fscore_support\n",
        "import matplotlib.pyplot as plt\n",
        "import numpy as np\n",
        "\n",
        "import tensorflow as tf\n",
        "from tensorflow.keras import layers\n",
        "from tensorflow.keras import Model\n",
        "from tensorflow.keras.applications.inception_v3 import InceptionV3\n",
        "from tensorflow.keras import optimizers\n",
        "from tensorflow.keras.callbacks import ModelCheckpoint\n",
        "\n",
        "import warnings\n",
        "warnings.filterwarnings(\"ignore\")"
      ],
      "id": "published-reasoning",
      "execution_count": 1,
      "outputs": []
    },
    {
      "cell_type": "code",
      "metadata": {
        "id": "7WLkTSpBsvgf"
      },
      "source": [
        "import numpy as np\n",
        "import pandas as pd\n",
        "import cv2\n",
        "import torch\n",
        "import albumentations as A\n",
        "from lungs_segmentation.pre_trained_models import create_model\n",
        "from tensorflow.keras.preprocessing.image import ImageDataGenerator\n",
        "from lungs_segmentation.pre_trained_models import create_model\n",
        "import lungs_segmentation.inference as inference\n",
        "import matplotlib.pyplot as plt\n",
        "import matplotlib\n",
        "import tensorflow as tf\n",
        "import os\n",
        "\n",
        "model_seg = create_model(\"resnet34\", )\n",
        "\n",
        "device = torch.device('cuda' if torch.cuda.is_available() else 'cpu')\n",
        "model_seg = model_seg.to(device)\n",
        "\n",
        "\n",
        "def segmentation(image = [], path = 'image.png'):\n",
        "\n",
        "  try:\n",
        "    image = tf.keras.preprocessing.image.array_to_img(image)\n",
        "    tf.keras.preprocessing.image.save_img(path, image)\n",
        "  except:\n",
        "    pass\n",
        "    \n",
        "  image, mask = inference.inference(model_seg, path, 0.2)\n",
        "  for values_i in range(0, len(mask[0])):\n",
        "    for values_j in range(0, len(mask[0])):\n",
        "      if (mask[0, values_i, values_j] + mask[1, values_i, values_j]) == 0:\n",
        "        image[values_i, values_j, 0] = 0\n",
        "        image[values_i, values_j, 1] = 0\n",
        "        image[values_i, values_j, 2] = 0\n",
        "  \n",
        "  return image"
      ],
      "id": "7WLkTSpBsvgf",
      "execution_count": 2,
      "outputs": []
    },
    {
      "cell_type": "markdown",
      "metadata": {
        "id": "contained-waterproof"
      },
      "source": [
        "### Pré-processando os dados"
      ],
      "id": "contained-waterproof"
    },
    {
      "cell_type": "code",
      "metadata": {
        "id": "right-hungarian"
      },
      "source": [
        "# coletando o caminho dos arquivos dos dados do hospital shenzen\n",
        "filelist_shenzen = glob.glob('/content/drive/MyDrive/ChinaSet_AllFiles/ChinaSet_AllFiles/CXR_png/*.png')\n",
        "# coletando o caminho dos arquivos dos dados do hospital montgomery\n",
        "filelist_montgomery = glob.glob('/content/drive/MyDrive/Montgomery/MontgomerySet/CXR_png/*.png')\n",
        "# juntando os dois datasets\n",
        "filelist = filelist_shenzen + filelist_montgomery"
      ],
      "id": "right-hungarian",
      "execution_count": 3,
      "outputs": []
    },
    {
      "cell_type": "code",
      "metadata": {
        "colab": {
          "base_uri": "https://localhost:8080/"
        },
        "id": "vital-cloud",
        "outputId": "4c96b446-b9a8-4625-ac5d-37dbcfa49104"
      },
      "source": [
        "# quantidade de imagens disponíveis no dataset\n",
        "print('quantidade de imagens:', str(len(filelist)))"
      ],
      "id": "vital-cloud",
      "execution_count": 4,
      "outputs": [
        {
          "output_type": "stream",
          "text": [
            "quantidade de imagens: 800\n"
          ],
          "name": "stdout"
        }
      ]
    },
    {
      "cell_type": "code",
      "metadata": {
        "id": "authorized-maine"
      },
      "source": [
        "def extract_label(file_list):\n",
        "    \n",
        "    # inicializando uma lista vazia\n",
        "    labels = []\n",
        "    \n",
        "    # iterando na lista de arquivos\n",
        "    for file in tqdm(file_list):\n",
        "        # detectando as classes presentes no nome da imagem\n",
        "        current_label = re.findall('[0-9]{4}_(.+?).png', file)\n",
        "        # adicionando a lista de rótulos as classes correspondentes a cada uma das imagens\n",
        "        labels.append(current_label[0])\n",
        "        \n",
        "    return labels"
      ],
      "id": "authorized-maine",
      "execution_count": 5,
      "outputs": []
    },
    {
      "cell_type": "code",
      "metadata": {
        "colab": {
          "base_uri": "https://localhost:8080/"
        },
        "id": "verified-legislation",
        "outputId": "7b12d70a-2f09-41f1-8545-41b189194601"
      },
      "source": [
        "# extraindo os rótulos\n",
        "labels = extract_label(filelist)"
      ],
      "id": "verified-legislation",
      "execution_count": 6,
      "outputs": [
        {
          "output_type": "stream",
          "text": [
            "100%|██████████| 800/800 [00:00<00:00, 155878.62it/s]\n"
          ],
          "name": "stderr"
        }
      ]
    },
    {
      "cell_type": "code",
      "metadata": {
        "colab": {
          "base_uri": "https://localhost:8080/"
        },
        "id": "pressing-dakota",
        "outputId": "2ea56cd6-e4f1-4ac2-bff0-e5fa41c41073"
      },
      "source": [
        "# visualizando a quantidade de rótulos\n",
        "print('quantidade de rótulos:', str(len(labels)))"
      ],
      "id": "pressing-dakota",
      "execution_count": 7,
      "outputs": [
        {
          "output_type": "stream",
          "text": [
            "quantidade de rótulos: 800\n"
          ],
          "name": "stdout"
        }
      ]
    },
    {
      "cell_type": "code",
      "metadata": {
        "id": "extra-tennessee"
      },
      "source": [
        "# criando um dataframe com os caminhos das imagens\n",
        "full_data = pd.DataFrame(filelist, columns = ['filepath'])\n",
        "# adicionando os rótulos em cada imagem\n",
        "full_data['target'] = labels"
      ],
      "id": "extra-tennessee",
      "execution_count": 8,
      "outputs": []
    },
    {
      "cell_type": "code",
      "metadata": {
        "id": "subtle-planet"
      },
      "source": [
        "# modificando o formato dos dados para float32\n",
        "dict_type = {'target': 'float32'}\n",
        "full_data = full_data.astype(dict_type)"
      ],
      "id": "subtle-planet",
      "execution_count": 9,
      "outputs": []
    },
    {
      "cell_type": "code",
      "metadata": {
        "id": "certified-allah"
      },
      "source": [
        "# separando os dados de treinamento e de teste\n",
        "train_df, test_df = train_test_split(full_data, stratify = full_data['target'],\n",
        "                                     test_size = 0.2, random_state = 42)"
      ],
      "id": "certified-allah",
      "execution_count": 10,
      "outputs": []
    },
    {
      "cell_type": "code",
      "metadata": {
        "id": "homeless-treasurer"
      },
      "source": [
        "# separando os dados de validação dos dados de treinamento\n",
        "train_df, validation_df = train_test_split(train_df, stratify = train_df['target'],\n",
        "                                           test_size = 0.2, random_state = 42)"
      ],
      "id": "homeless-treasurer",
      "execution_count": 11,
      "outputs": []
    },
    {
      "cell_type": "code",
      "metadata": {
        "colab": {
          "base_uri": "https://localhost:8080/"
        },
        "id": "british-alloy",
        "outputId": "615a8443-9582-485d-b42d-f58b27fd77b9"
      },
      "source": [
        "# visualizando a quantidade de dados\n",
        "print('quantidade de imagens de treinamento:', len(train_df['filepath']))\n",
        "print('quantidade de rótulos de treinamento:', len(train_df['target']))\n",
        "print('quantidade de imagens de teste:', len(test_df['filepath']))\n",
        "print('quantidade de rótulos de teste:', len(test_df['target']))\n",
        "print('quantidade de imagens de validação:', len(validation_df['filepath']))\n",
        "print('quantidade de rótulos de validação:', len(validation_df['target']))"
      ],
      "id": "british-alloy",
      "execution_count": 12,
      "outputs": [
        {
          "output_type": "stream",
          "text": [
            "quantidade de imagens de treinamento: 512\n",
            "quantidade de rótulos de treinamento: 512\n",
            "quantidade de imagens de teste: 160\n",
            "quantidade de rótulos de teste: 160\n",
            "quantidade de imagens de validação: 128\n",
            "quantidade de rótulos de validação: 128\n"
          ],
          "name": "stdout"
        }
      ]
    },
    {
      "cell_type": "markdown",
      "metadata": {
        "id": "other-nightlife"
      },
      "source": [
        "### Aplicando mudança de escala típica"
      ],
      "id": "other-nightlife"
    },
    {
      "cell_type": "code",
      "metadata": {
        "colab": {
          "base_uri": "https://localhost:8080/"
        },
        "id": "altered-insert",
        "outputId": "2bdde1e9-9cd5-42f5-830e-9fca5323c8d4"
      },
      "source": [
        "# normalizando as imagens de treinamento e aplicando aumento de dados\n",
        "image_generator = ImageDataGenerator(preprocessing_function = segmentation)\n",
        "\n",
        "# criando o gerador de imagens de treinamento \n",
        "train_generator = image_generator.flow_from_dataframe(\n",
        "                                                      dataframe = train_df,\n",
        "                                                      directory = '',\n",
        "                                                      x_col = 'filepath',\n",
        "                                                      y_col = 'target',\n",
        "                                                      batch_size = 32,\n",
        "                                                      seed = 42,\n",
        "                                                      shuffle = True,\n",
        "                                                      class_mode = 'raw',\n",
        "                                                      color_mode = 'rgb',\n",
        "                                                      target_size = (512, 512))\n",
        "# normalizando as imagens de teste e validação \n",
        "test_datagen = ImageDataGenerator(preprocessing_function = segmentation)\n",
        "\n",
        "# criando o gerador de imagens de validação \n",
        "valid_generator = test_datagen.flow_from_dataframe(\n",
        "                                                      dataframe = validation_df,\n",
        "                                                      directory = '.', \n",
        "                                                      x_col = 'filepath',\n",
        "                                                      y_col = 'target',\n",
        "                                                      batch_size = 32,\n",
        "                                                      seed = 42,\n",
        "                                                      shuffle = True,\n",
        "                                                      class_mode = 'raw',\n",
        "                                                      target_size = (512, 512))\n",
        "\n",
        "test_generator = test_datagen.flow_from_dataframe(\n",
        "                                                  dataframe = test_df, \n",
        "                                                  directory = '.',\n",
        "                                                  x_col = 'filepath',\n",
        "                                                  y_col = 'target',\n",
        "                                                  batch_size = 32,\n",
        "                                                  seed = 42,\n",
        "                                                  shuffle = True,\n",
        "                                                  class_mode = 'raw',\n",
        "                                                  target_size = (512, 512))"
      ],
      "id": "altered-insert",
      "execution_count": 22,
      "outputs": [
        {
          "output_type": "stream",
          "text": [
            "Found 512 validated image filenames.\n",
            "Found 128 validated image filenames.\n",
            "Found 160 validated image filenames.\n"
          ],
          "name": "stdout"
        }
      ]
    },
    {
      "cell_type": "markdown",
      "metadata": {
        "id": "primary-appliance"
      },
      "source": [
        "### Preparando a rede neural convolucional"
      ],
      "id": "primary-appliance"
    },
    {
      "cell_type": "code",
      "metadata": {
        "id": "occasional-oklahoma"
      },
      "source": [
        "# baixando os pesos treinados da rede inception\n",
        "!wget --no-check-certificate \\\n",
        "    https://storage.googleapis.com/mledu-datasets/inception_v3_weights_tf_dim_ordering_tf_kernels_notop.h5 \\\n",
        "    -O /tmp/inception_v3_weights_tf_dim_ordering_tf_kernels_notop.h5"
      ],
      "id": "occasional-oklahoma",
      "execution_count": null,
      "outputs": []
    },
    {
      "cell_type": "code",
      "metadata": {
        "id": "developed-coordinator"
      },
      "source": [
        "# referenciando o local em que os pesos estão armazenados\n",
        "local_weights_file = '/tmp/inception_v3_weights_tf_dim_ordering_tf_kernels_notop.h5'\n",
        "\n",
        "# carregando a arquitetura inception pré-treinada\n",
        "pre_trained_model = InceptionV3(input_shape = (512, 512, 3), \n",
        "                                include_top = False, \n",
        "                                weights = None)\n",
        "\n",
        "# carregando os pesos treinados com outros dados \n",
        "pre_trained_model.load_weights(local_weights_file)\n",
        "\n",
        "# definindo as flags iniciais  \n",
        "pre_trained_model.trainable = True\n",
        "set_trainable = False\n",
        "\n",
        "# para a arquitetura inception, a rede será retreinada a partir da camada 'mixed6'\n",
        "for layer in pre_trained_model.layers:\n",
        "    if layer.name == 'mixed6':\n",
        "        set_trainable = True\n",
        "    if set_trainable:\n",
        "        layer.trainable = True\n",
        "    else:\n",
        "        layer.trainable = False\n",
        "\n",
        "# obtendo a última camada como sendo a nomeada por 'mixed7'\n",
        "last_layer = pre_trained_model.get_layer('mixed7')\n",
        "last_output = last_layer.output"
      ],
      "id": "developed-coordinator",
      "execution_count": 24,
      "outputs": []
    },
    {
      "cell_type": "code",
      "metadata": {
        "id": "sustainable-devil"
      },
      "source": [
        "# definindo uma camada de achatamento\n",
        "x = layers.GlobalAveragePooling2D()(last_output)              \n",
        "# adicionando uma camada de saída com um neurônio e uma função de ativação sigmoide\n",
        "x = layers.Dense(units = 1, activation = 'sigmoid')(x)           \n",
        "\n",
        "# conecatando as camadas definidas acima com a arquitetura inception\n",
        "model = Model(pre_trained_model.input, x) \n",
        "\n",
        "# compilando a rede \n",
        "model.compile(optimizer = optimizers.RMSprop(learning_rate = 0.0001), loss = 'binary_crossentropy', \n",
        "              metrics = ['acc']) "
      ],
      "id": "sustainable-devil",
      "execution_count": 25,
      "outputs": []
    },
    {
      "cell_type": "code",
      "metadata": {
        "id": "weighted-enhancement"
      },
      "source": [
        "# definindo o caminho pelo qual os pesos serão armazenados \n",
        "filepath = \"transferlearning_weights.hdf5\"\n",
        "# callback para salvar o melhor valor dos pesos em relação ao desempenho com os dados de validação \n",
        "checkpoint = ModelCheckpoint(filepath, monitor = 'val_acc', verbose = 1, save_best_only = True, mode = 'max')"
      ],
      "id": "weighted-enhancement",
      "execution_count": 26,
      "outputs": []
    },
    {
      "cell_type": "code",
      "metadata": {
        "id": "understood-calgary"
      },
      "source": [
        "# definindo um array de callbacks\n",
        "callbacks = [checkpoint]"
      ],
      "id": "understood-calgary",
      "execution_count": 27,
      "outputs": []
    },
    {
      "cell_type": "code",
      "metadata": {
        "colab": {
          "base_uri": "https://localhost:8080/",
          "height": 1000
        },
        "id": "criminal-terror",
        "outputId": "81cdc897-5280-4ded-abcd-41dc2458c8b6"
      },
      "source": [
        "# treinando a rede neural convolucional\n",
        "history = model.fit_generator(train_generator, steps_per_epoch = 512  // 32, \n",
        "                              validation_data = valid_generator, validation_steps = 128 // 32,\n",
        "                              callbacks = callbacks, epochs = 50)"
      ],
      "id": "criminal-terror",
      "execution_count": 28,
      "outputs": [
        {
          "output_type": "stream",
          "text": [
            "Epoch 1/50\n",
            "16/16 [==============================] - 582s 37s/step - loss: 0.6673 - acc: 0.6005 - val_loss: 0.6045 - val_acc: 0.6719\n",
            "\n",
            "Epoch 00001: val_acc improved from -inf to 0.67188, saving model to transferlearning_weights.hdf5\n",
            "Epoch 2/50\n",
            "16/16 [==============================] - 552s 35s/step - loss: 0.5353 - acc: 0.7950 - val_loss: 0.4701 - val_acc: 0.8359\n",
            "\n",
            "Epoch 00002: val_acc improved from 0.67188 to 0.83594, saving model to transferlearning_weights.hdf5\n",
            "Epoch 3/50\n",
            "16/16 [==============================] - 573s 36s/step - loss: 0.4266 - acc: 0.8521 - val_loss: 0.3913 - val_acc: 0.8438\n",
            "\n",
            "Epoch 00003: val_acc improved from 0.83594 to 0.84375, saving model to transferlearning_weights.hdf5\n",
            "Epoch 4/50\n",
            "16/16 [==============================] - 569s 36s/step - loss: 0.3817 - acc: 0.8557 - val_loss: 0.3643 - val_acc: 0.8359\n",
            "\n",
            "Epoch 00004: val_acc did not improve from 0.84375\n",
            "Epoch 5/50\n",
            "16/16 [==============================] - 576s 37s/step - loss: 0.3501 - acc: 0.8647 - val_loss: 0.2959 - val_acc: 0.8594\n",
            "\n",
            "Epoch 00005: val_acc improved from 0.84375 to 0.85938, saving model to transferlearning_weights.hdf5\n",
            "Epoch 6/50\n",
            "16/16 [==============================] - 567s 36s/step - loss: 0.2865 - acc: 0.9057 - val_loss: 0.2778 - val_acc: 0.8828\n",
            "\n",
            "Epoch 00006: val_acc improved from 0.85938 to 0.88281, saving model to transferlearning_weights.hdf5\n",
            "Epoch 7/50\n",
            "16/16 [==============================] - 564s 36s/step - loss: 0.2772 - acc: 0.9129 - val_loss: 0.3317 - val_acc: 0.8672\n",
            "\n",
            "Epoch 00007: val_acc did not improve from 0.88281\n",
            "Epoch 8/50\n",
            "16/16 [==============================] - 569s 36s/step - loss: 0.2505 - acc: 0.9260 - val_loss: 0.2909 - val_acc: 0.8906\n",
            "\n",
            "Epoch 00008: val_acc improved from 0.88281 to 0.89062, saving model to transferlearning_weights.hdf5\n",
            "Epoch 9/50\n",
            "16/16 [==============================] - 568s 36s/step - loss: 0.2099 - acc: 0.9473 - val_loss: 0.2478 - val_acc: 0.9219\n",
            "\n",
            "Epoch 00009: val_acc improved from 0.89062 to 0.92188, saving model to transferlearning_weights.hdf5\n",
            "Epoch 10/50\n",
            "16/16 [==============================] - 578s 37s/step - loss: 0.1750 - acc: 0.9533 - val_loss: 0.4781 - val_acc: 0.7734\n",
            "\n",
            "Epoch 00010: val_acc did not improve from 0.92188\n",
            "Epoch 11/50\n",
            "16/16 [==============================] - 581s 37s/step - loss: 0.1650 - acc: 0.9764 - val_loss: 0.2793 - val_acc: 0.8906\n",
            "\n",
            "Epoch 00011: val_acc did not improve from 0.92188\n",
            "Epoch 12/50\n",
            "16/16 [==============================] - 577s 37s/step - loss: 0.1677 - acc: 0.9629 - val_loss: 0.2352 - val_acc: 0.8828\n",
            "\n",
            "Epoch 00012: val_acc did not improve from 0.92188\n",
            "Epoch 13/50\n",
            "16/16 [==============================] - 585s 37s/step - loss: 0.1211 - acc: 0.9908 - val_loss: 0.2841 - val_acc: 0.8906\n",
            "\n",
            "Epoch 00013: val_acc did not improve from 0.92188\n",
            "Epoch 14/50\n",
            "16/16 [==============================] - 579s 37s/step - loss: 0.1009 - acc: 0.9937 - val_loss: 0.2287 - val_acc: 0.8828\n",
            "\n",
            "Epoch 00014: val_acc did not improve from 0.92188\n",
            "Epoch 15/50\n",
            "16/16 [==============================] - 587s 37s/step - loss: 0.0859 - acc: 0.9960 - val_loss: 0.2448 - val_acc: 0.8984\n",
            "\n",
            "Epoch 00015: val_acc did not improve from 0.92188\n",
            "Epoch 16/50\n",
            "16/16 [==============================] - 589s 37s/step - loss: 0.0747 - acc: 0.9995 - val_loss: 0.2420 - val_acc: 0.8828\n",
            "\n",
            "Epoch 00016: val_acc did not improve from 0.92188\n",
            "Epoch 17/50\n",
            "16/16 [==============================] - 570s 36s/step - loss: 0.0601 - acc: 1.0000 - val_loss: 0.2244 - val_acc: 0.8906\n",
            "\n",
            "Epoch 00017: val_acc did not improve from 0.92188\n",
            "Epoch 18/50\n",
            "16/16 [==============================] - 567s 36s/step - loss: 0.0611 - acc: 1.0000 - val_loss: 0.2355 - val_acc: 0.9062\n",
            "\n",
            "Epoch 00018: val_acc did not improve from 0.92188\n",
            "Epoch 19/50\n",
            "16/16 [==============================] - 569s 36s/step - loss: 0.0509 - acc: 1.0000 - val_loss: 0.2150 - val_acc: 0.8984\n",
            "\n",
            "Epoch 00019: val_acc did not improve from 0.92188\n",
            "Epoch 20/50\n",
            "16/16 [==============================] - 573s 36s/step - loss: 0.0473 - acc: 1.0000 - val_loss: 0.2398 - val_acc: 0.8984\n",
            "\n",
            "Epoch 00020: val_acc did not improve from 0.92188\n",
            "Epoch 21/50\n",
            "16/16 [==============================] - 567s 36s/step - loss: 0.0385 - acc: 1.0000 - val_loss: 0.2124 - val_acc: 0.8984\n",
            "\n",
            "Epoch 00021: val_acc did not improve from 0.92188\n",
            "Epoch 22/50\n",
            "16/16 [==============================] - 566s 36s/step - loss: 0.0393 - acc: 1.0000 - val_loss: 0.2173 - val_acc: 0.9062\n",
            "\n",
            "Epoch 00022: val_acc did not improve from 0.92188\n",
            "Epoch 23/50\n",
            "16/16 [==============================] - 569s 36s/step - loss: 0.0290 - acc: 1.0000 - val_loss: 0.2318 - val_acc: 0.8984\n",
            "\n",
            "Epoch 00023: val_acc did not improve from 0.92188\n",
            "Epoch 24/50\n",
            "16/16 [==============================] - 568s 36s/step - loss: 0.0308 - acc: 1.0000 - val_loss: 0.3058 - val_acc: 0.8359\n",
            "\n",
            "Epoch 00024: val_acc did not improve from 0.92188\n",
            "Epoch 25/50\n",
            "16/16 [==============================] - 570s 36s/step - loss: 0.0334 - acc: 1.0000 - val_loss: 0.2260 - val_acc: 0.9141\n",
            "\n",
            "Epoch 00025: val_acc did not improve from 0.92188\n",
            "Epoch 26/50\n",
            "16/16 [==============================] - 577s 37s/step - loss: 0.0245 - acc: 1.0000 - val_loss: 0.2281 - val_acc: 0.9141\n",
            "\n",
            "Epoch 00026: val_acc did not improve from 0.92188\n",
            "Epoch 27/50\n",
            "16/16 [==============================] - 567s 36s/step - loss: 0.0217 - acc: 1.0000 - val_loss: 0.2051 - val_acc: 0.9141\n",
            "\n",
            "Epoch 00027: val_acc did not improve from 0.92188\n",
            "Epoch 28/50\n",
            "16/16 [==============================] - 573s 36s/step - loss: 0.0191 - acc: 1.0000 - val_loss: 0.2287 - val_acc: 0.9062\n",
            "\n",
            "Epoch 00028: val_acc did not improve from 0.92188\n",
            "Epoch 29/50\n",
            "16/16 [==============================] - 578s 37s/step - loss: 0.0149 - acc: 1.0000 - val_loss: 0.2234 - val_acc: 0.9062\n",
            "\n",
            "Epoch 00029: val_acc did not improve from 0.92188\n",
            "Epoch 30/50\n",
            " 5/16 [========>.....................] - ETA: 5:01 - loss: 0.0167 - acc: 1.0000"
          ],
          "name": "stdout"
        },
        {
          "output_type": "error",
          "ename": "KeyboardInterrupt",
          "evalue": "ignored",
          "traceback": [
            "\u001b[0;31m---------------------------------------------------------------------------\u001b[0m",
            "\u001b[0;31mKeyboardInterrupt\u001b[0m                         Traceback (most recent call last)",
            "\u001b[0;32m<ipython-input-28-f9c00a3aa827>\u001b[0m in \u001b[0;36m<module>\u001b[0;34m()\u001b[0m\n\u001b[1;32m      2\u001b[0m history = model.fit_generator(train_generator, steps_per_epoch = 512  // 32, \n\u001b[1;32m      3\u001b[0m                               \u001b[0mvalidation_data\u001b[0m \u001b[0;34m=\u001b[0m \u001b[0mvalid_generator\u001b[0m\u001b[0;34m,\u001b[0m \u001b[0mvalidation_steps\u001b[0m \u001b[0;34m=\u001b[0m \u001b[0;36m128\u001b[0m \u001b[0;34m//\u001b[0m \u001b[0;36m32\u001b[0m\u001b[0;34m,\u001b[0m\u001b[0;34m\u001b[0m\u001b[0;34m\u001b[0m\u001b[0m\n\u001b[0;32m----> 4\u001b[0;31m                               callbacks = callbacks, epochs = 50)\n\u001b[0m",
            "\u001b[0;32m/usr/local/lib/python3.7/dist-packages/tensorflow/python/keras/engine/training.py\u001b[0m in \u001b[0;36mfit_generator\u001b[0;34m(self, generator, steps_per_epoch, epochs, verbose, callbacks, validation_data, validation_steps, validation_freq, class_weight, max_queue_size, workers, use_multiprocessing, shuffle, initial_epoch)\u001b[0m\n\u001b[1;32m   1859\u001b[0m         \u001b[0muse_multiprocessing\u001b[0m\u001b[0;34m=\u001b[0m\u001b[0muse_multiprocessing\u001b[0m\u001b[0;34m,\u001b[0m\u001b[0;34m\u001b[0m\u001b[0;34m\u001b[0m\u001b[0m\n\u001b[1;32m   1860\u001b[0m         \u001b[0mshuffle\u001b[0m\u001b[0;34m=\u001b[0m\u001b[0mshuffle\u001b[0m\u001b[0;34m,\u001b[0m\u001b[0;34m\u001b[0m\u001b[0;34m\u001b[0m\u001b[0m\n\u001b[0;32m-> 1861\u001b[0;31m         initial_epoch=initial_epoch)\n\u001b[0m\u001b[1;32m   1862\u001b[0m \u001b[0;34m\u001b[0m\u001b[0m\n\u001b[1;32m   1863\u001b[0m   def evaluate_generator(self,\n",
            "\u001b[0;32m/usr/local/lib/python3.7/dist-packages/tensorflow/python/keras/engine/training.py\u001b[0m in \u001b[0;36mfit\u001b[0;34m(self, x, y, batch_size, epochs, verbose, callbacks, validation_split, validation_data, shuffle, class_weight, sample_weight, initial_epoch, steps_per_epoch, validation_steps, validation_batch_size, validation_freq, max_queue_size, workers, use_multiprocessing)\u001b[0m\n\u001b[1;32m   1098\u001b[0m                 _r=1):\n\u001b[1;32m   1099\u001b[0m               \u001b[0mcallbacks\u001b[0m\u001b[0;34m.\u001b[0m\u001b[0mon_train_batch_begin\u001b[0m\u001b[0;34m(\u001b[0m\u001b[0mstep\u001b[0m\u001b[0;34m)\u001b[0m\u001b[0;34m\u001b[0m\u001b[0;34m\u001b[0m\u001b[0m\n\u001b[0;32m-> 1100\u001b[0;31m               \u001b[0mtmp_logs\u001b[0m \u001b[0;34m=\u001b[0m \u001b[0mself\u001b[0m\u001b[0;34m.\u001b[0m\u001b[0mtrain_function\u001b[0m\u001b[0;34m(\u001b[0m\u001b[0miterator\u001b[0m\u001b[0;34m)\u001b[0m\u001b[0;34m\u001b[0m\u001b[0;34m\u001b[0m\u001b[0m\n\u001b[0m\u001b[1;32m   1101\u001b[0m               \u001b[0;32mif\u001b[0m \u001b[0mdata_handler\u001b[0m\u001b[0;34m.\u001b[0m\u001b[0mshould_sync\u001b[0m\u001b[0;34m:\u001b[0m\u001b[0;34m\u001b[0m\u001b[0;34m\u001b[0m\u001b[0m\n\u001b[1;32m   1102\u001b[0m                 \u001b[0mcontext\u001b[0m\u001b[0;34m.\u001b[0m\u001b[0masync_wait\u001b[0m\u001b[0;34m(\u001b[0m\u001b[0;34m)\u001b[0m\u001b[0;34m\u001b[0m\u001b[0;34m\u001b[0m\u001b[0m\n",
            "\u001b[0;32m/usr/local/lib/python3.7/dist-packages/tensorflow/python/eager/def_function.py\u001b[0m in \u001b[0;36m__call__\u001b[0;34m(self, *args, **kwds)\u001b[0m\n\u001b[1;32m    826\u001b[0m     \u001b[0mtracing_count\u001b[0m \u001b[0;34m=\u001b[0m \u001b[0mself\u001b[0m\u001b[0;34m.\u001b[0m\u001b[0mexperimental_get_tracing_count\u001b[0m\u001b[0;34m(\u001b[0m\u001b[0;34m)\u001b[0m\u001b[0;34m\u001b[0m\u001b[0;34m\u001b[0m\u001b[0m\n\u001b[1;32m    827\u001b[0m     \u001b[0;32mwith\u001b[0m \u001b[0mtrace\u001b[0m\u001b[0;34m.\u001b[0m\u001b[0mTrace\u001b[0m\u001b[0;34m(\u001b[0m\u001b[0mself\u001b[0m\u001b[0;34m.\u001b[0m\u001b[0m_name\u001b[0m\u001b[0;34m)\u001b[0m \u001b[0;32mas\u001b[0m \u001b[0mtm\u001b[0m\u001b[0;34m:\u001b[0m\u001b[0;34m\u001b[0m\u001b[0;34m\u001b[0m\u001b[0m\n\u001b[0;32m--> 828\u001b[0;31m       \u001b[0mresult\u001b[0m \u001b[0;34m=\u001b[0m \u001b[0mself\u001b[0m\u001b[0;34m.\u001b[0m\u001b[0m_call\u001b[0m\u001b[0;34m(\u001b[0m\u001b[0;34m*\u001b[0m\u001b[0margs\u001b[0m\u001b[0;34m,\u001b[0m \u001b[0;34m**\u001b[0m\u001b[0mkwds\u001b[0m\u001b[0;34m)\u001b[0m\u001b[0;34m\u001b[0m\u001b[0;34m\u001b[0m\u001b[0m\n\u001b[0m\u001b[1;32m    829\u001b[0m       \u001b[0mcompiler\u001b[0m \u001b[0;34m=\u001b[0m \u001b[0;34m\"xla\"\u001b[0m \u001b[0;32mif\u001b[0m \u001b[0mself\u001b[0m\u001b[0;34m.\u001b[0m\u001b[0m_experimental_compile\u001b[0m \u001b[0;32melse\u001b[0m \u001b[0;34m\"nonXla\"\u001b[0m\u001b[0;34m\u001b[0m\u001b[0;34m\u001b[0m\u001b[0m\n\u001b[1;32m    830\u001b[0m       \u001b[0mnew_tracing_count\u001b[0m \u001b[0;34m=\u001b[0m \u001b[0mself\u001b[0m\u001b[0;34m.\u001b[0m\u001b[0mexperimental_get_tracing_count\u001b[0m\u001b[0;34m(\u001b[0m\u001b[0;34m)\u001b[0m\u001b[0;34m\u001b[0m\u001b[0;34m\u001b[0m\u001b[0m\n",
            "\u001b[0;32m/usr/local/lib/python3.7/dist-packages/tensorflow/python/eager/def_function.py\u001b[0m in \u001b[0;36m_call\u001b[0;34m(self, *args, **kwds)\u001b[0m\n\u001b[1;32m    853\u001b[0m       \u001b[0;31m# In this case we have created variables on the first call, so we run the\u001b[0m\u001b[0;34m\u001b[0m\u001b[0;34m\u001b[0m\u001b[0;34m\u001b[0m\u001b[0m\n\u001b[1;32m    854\u001b[0m       \u001b[0;31m# defunned version which is guaranteed to never create variables.\u001b[0m\u001b[0;34m\u001b[0m\u001b[0;34m\u001b[0m\u001b[0;34m\u001b[0m\u001b[0m\n\u001b[0;32m--> 855\u001b[0;31m       \u001b[0;32mreturn\u001b[0m \u001b[0mself\u001b[0m\u001b[0;34m.\u001b[0m\u001b[0m_stateless_fn\u001b[0m\u001b[0;34m(\u001b[0m\u001b[0;34m*\u001b[0m\u001b[0margs\u001b[0m\u001b[0;34m,\u001b[0m \u001b[0;34m**\u001b[0m\u001b[0mkwds\u001b[0m\u001b[0;34m)\u001b[0m  \u001b[0;31m# pylint: disable=not-callable\u001b[0m\u001b[0;34m\u001b[0m\u001b[0;34m\u001b[0m\u001b[0m\n\u001b[0m\u001b[1;32m    856\u001b[0m     \u001b[0;32melif\u001b[0m \u001b[0mself\u001b[0m\u001b[0;34m.\u001b[0m\u001b[0m_stateful_fn\u001b[0m \u001b[0;32mis\u001b[0m \u001b[0;32mnot\u001b[0m \u001b[0;32mNone\u001b[0m\u001b[0;34m:\u001b[0m\u001b[0;34m\u001b[0m\u001b[0;34m\u001b[0m\u001b[0m\n\u001b[1;32m    857\u001b[0m       \u001b[0;31m# Release the lock early so that multiple threads can perform the call\u001b[0m\u001b[0;34m\u001b[0m\u001b[0;34m\u001b[0m\u001b[0;34m\u001b[0m\u001b[0m\n",
            "\u001b[0;32m/usr/local/lib/python3.7/dist-packages/tensorflow/python/eager/function.py\u001b[0m in \u001b[0;36m__call__\u001b[0;34m(self, *args, **kwargs)\u001b[0m\n\u001b[1;32m   2941\u001b[0m        filtered_flat_args) = self._maybe_define_function(args, kwargs)\n\u001b[1;32m   2942\u001b[0m     return graph_function._call_flat(\n\u001b[0;32m-> 2943\u001b[0;31m         filtered_flat_args, captured_inputs=graph_function.captured_inputs)  # pylint: disable=protected-access\n\u001b[0m\u001b[1;32m   2944\u001b[0m \u001b[0;34m\u001b[0m\u001b[0m\n\u001b[1;32m   2945\u001b[0m   \u001b[0;34m@\u001b[0m\u001b[0mproperty\u001b[0m\u001b[0;34m\u001b[0m\u001b[0;34m\u001b[0m\u001b[0m\n",
            "\u001b[0;32m/usr/local/lib/python3.7/dist-packages/tensorflow/python/eager/function.py\u001b[0m in \u001b[0;36m_call_flat\u001b[0;34m(self, args, captured_inputs, cancellation_manager)\u001b[0m\n\u001b[1;32m   1917\u001b[0m       \u001b[0;31m# No tape is watching; skip to running the function.\u001b[0m\u001b[0;34m\u001b[0m\u001b[0;34m\u001b[0m\u001b[0;34m\u001b[0m\u001b[0m\n\u001b[1;32m   1918\u001b[0m       return self._build_call_outputs(self._inference_function.call(\n\u001b[0;32m-> 1919\u001b[0;31m           ctx, args, cancellation_manager=cancellation_manager))\n\u001b[0m\u001b[1;32m   1920\u001b[0m     forward_backward = self._select_forward_and_backward_functions(\n\u001b[1;32m   1921\u001b[0m         \u001b[0margs\u001b[0m\u001b[0;34m,\u001b[0m\u001b[0;34m\u001b[0m\u001b[0;34m\u001b[0m\u001b[0m\n",
            "\u001b[0;32m/usr/local/lib/python3.7/dist-packages/tensorflow/python/eager/function.py\u001b[0m in \u001b[0;36mcall\u001b[0;34m(self, ctx, args, cancellation_manager)\u001b[0m\n\u001b[1;32m    558\u001b[0m               \u001b[0minputs\u001b[0m\u001b[0;34m=\u001b[0m\u001b[0margs\u001b[0m\u001b[0;34m,\u001b[0m\u001b[0;34m\u001b[0m\u001b[0;34m\u001b[0m\u001b[0m\n\u001b[1;32m    559\u001b[0m               \u001b[0mattrs\u001b[0m\u001b[0;34m=\u001b[0m\u001b[0mattrs\u001b[0m\u001b[0;34m,\u001b[0m\u001b[0;34m\u001b[0m\u001b[0;34m\u001b[0m\u001b[0m\n\u001b[0;32m--> 560\u001b[0;31m               ctx=ctx)\n\u001b[0m\u001b[1;32m    561\u001b[0m         \u001b[0;32melse\u001b[0m\u001b[0;34m:\u001b[0m\u001b[0;34m\u001b[0m\u001b[0;34m\u001b[0m\u001b[0m\n\u001b[1;32m    562\u001b[0m           outputs = execute.execute_with_cancellation(\n",
            "\u001b[0;32m/usr/local/lib/python3.7/dist-packages/tensorflow/python/eager/execute.py\u001b[0m in \u001b[0;36mquick_execute\u001b[0;34m(op_name, num_outputs, inputs, attrs, ctx, name)\u001b[0m\n\u001b[1;32m     58\u001b[0m     \u001b[0mctx\u001b[0m\u001b[0;34m.\u001b[0m\u001b[0mensure_initialized\u001b[0m\u001b[0;34m(\u001b[0m\u001b[0;34m)\u001b[0m\u001b[0;34m\u001b[0m\u001b[0;34m\u001b[0m\u001b[0m\n\u001b[1;32m     59\u001b[0m     tensors = pywrap_tfe.TFE_Py_Execute(ctx._handle, device_name, op_name,\n\u001b[0;32m---> 60\u001b[0;31m                                         inputs, attrs, num_outputs)\n\u001b[0m\u001b[1;32m     61\u001b[0m   \u001b[0;32mexcept\u001b[0m \u001b[0mcore\u001b[0m\u001b[0;34m.\u001b[0m\u001b[0m_NotOkStatusException\u001b[0m \u001b[0;32mas\u001b[0m \u001b[0me\u001b[0m\u001b[0;34m:\u001b[0m\u001b[0;34m\u001b[0m\u001b[0;34m\u001b[0m\u001b[0m\n\u001b[1;32m     62\u001b[0m     \u001b[0;32mif\u001b[0m \u001b[0mname\u001b[0m \u001b[0;32mis\u001b[0m \u001b[0;32mnot\u001b[0m \u001b[0;32mNone\u001b[0m\u001b[0;34m:\u001b[0m\u001b[0;34m\u001b[0m\u001b[0;34m\u001b[0m\u001b[0m\n",
            "\u001b[0;31mKeyboardInterrupt\u001b[0m: "
          ]
        }
      ]
    },
    {
      "cell_type": "markdown",
      "metadata": {
        "id": "6qAXMCpEtfZn"
      },
      "source": [
        "### Salvando o modelo desenvolvido"
      ],
      "id": "6qAXMCpEtfZn"
    },
    {
      "cell_type": "code",
      "metadata": {
        "id": "TjU2eNSSCHzi"
      },
      "source": [
        "# carregando o melhor peso obtido para o modelo\n",
        "best_model = model\n",
        "best_model.load_weights('/content/transferlearning_weights.hdf5')"
      ],
      "id": "TjU2eNSSCHzi",
      "execution_count": 29,
      "outputs": []
    },
    {
      "cell_type": "code",
      "metadata": {
        "colab": {
          "base_uri": "https://localhost:8080/"
        },
        "id": "TmdCYuWKFn-K",
        "outputId": "77470b42-2dd9-4746-97b5-f2b82e303d13"
      },
      "source": [
        "# salvando os dois modelos obtidos durante o treinamento\n",
        "model.save('model1')\n",
        "best_model.save('model2')"
      ],
      "id": "TmdCYuWKFn-K",
      "execution_count": 30,
      "outputs": [
        {
          "output_type": "stream",
          "text": [
            "INFO:tensorflow:Assets written to: model1/assets\n",
            "INFO:tensorflow:Assets written to: model2/assets\n"
          ],
          "name": "stdout"
        }
      ]
    },
    {
      "cell_type": "markdown",
      "metadata": {
        "id": "Z9pM4QyKuNX0"
      },
      "source": [
        "### Métricas de avaliação do modelo"
      ],
      "id": "Z9pM4QyKuNX0"
    },
    {
      "cell_type": "code",
      "metadata": {
        "id": "l-_-j2qNuMOy"
      },
      "source": [
        "# carregando os dados de teste \n",
        "(x1, y1) = test_generator[0]\n",
        "(x2, y2) = test_generator[1]\n",
        "(x3, y3) = test_generator[2]\n",
        "(x4, y4) = test_generator[3]\n",
        "(x5, y5) = test_generator[4]\n",
        "\n",
        "x = np.concatenate((x1, x2, x3, x4, x5))\n",
        "y = np.concatenate((y1, y2, y3, y4, y5))"
      ],
      "id": "l-_-j2qNuMOy",
      "execution_count": 31,
      "outputs": []
    },
    {
      "cell_type": "code",
      "metadata": {
        "id": "p82MECCsuxS7"
      },
      "source": [
        "# realizando a predição para os dados de teste\n",
        "predict = model.predict(x)"
      ],
      "id": "p82MECCsuxS7",
      "execution_count": 32,
      "outputs": []
    },
    {
      "cell_type": "code",
      "metadata": {
        "id": "5M4uWWLUuyhk"
      },
      "source": [
        "from sklearn.metrics import precision_score, recall_score, accuracy_score, f1_score, confusion_matrix\n",
        "\n",
        "def thresholds(limiar, predict):\n",
        "  '''predição para diferentes thresholds'''\n",
        "\n",
        "  predict_ = []\n",
        "  for i in predict:\n",
        "    if i > limiar:\n",
        "      predict_.append(1)\n",
        "    else:\n",
        "      predict_.append(0)\n",
        "  \n",
        "  return predict_\n",
        "\n",
        "def precision_recall_accuracy_curve(predict, y):\n",
        "  ''' Relaciona a curva da Precisão, Sensibilidade e Acurácia em relação a diferentes Thresholds'''\n",
        "\n",
        "  limiares = np.arange(0, 1, 0.05)\n",
        "  predicts = []\n",
        "  precisions = []\n",
        "  recalls = []\n",
        "  accuracy = []\n",
        "  flag = 0\n",
        "  for i in limiares:\n",
        "    predicts.append(thresholds(i, predict))\n",
        "    precisions.append(precision_score(predicts[flag], y))\n",
        "    recalls.append(recall_score(predicts[flag], y))\n",
        "    accuracy.append(accuracy_score(predicts[flag], y))\n",
        "    flag += 1\n",
        "  \n",
        "  return precisions, recalls, accuracy\n",
        "\n",
        "def plot_precision_recall_accuracy_curve(precisions, recalls, accuracy):\n",
        "  '''Plotando a curva de Precisão, Sensibilidade e Acurácia'''\n",
        "\n",
        "  plt.figure(figsize = (10,5))\n",
        "  plt.plot(np.arange(0, 1, 0.05), precisions, label = 'Precision')\n",
        "  plt.plot(np.arange(0, 1, 0.05), recalls, label = 'Recall')\n",
        "  plt.plot(np.arange(0, 1, 0.05), accuracy, label = 'Accuracy')\n",
        "  plt.title('Precisão, Sensibilidade e Acurácia para diferentes Thresholds')\n",
        "  plt.xlabel('Thresholds')\n",
        "  plt.legend()\n",
        "  plt.savefig('curve-analysis')\n",
        "\n",
        "  return None\n",
        "\n",
        "def best_metrics(threshold, predict, y):\n",
        "  '''Melhores valores para o threshold escolhido'''\n",
        "\n",
        "  predict_ = thresholds(threshold, predict)\n",
        "  print('Matriz de Confusão:\\n', confusion_matrix(predict_, y))\n",
        "  print('Acurácia:', accuracy_score(predict_, y))\n",
        "  print('Precisão', precision_score(predict_, y))\n",
        "  print('Sensibilidade:', recall_score(predict_, y)) \n",
        "  print('F1_Score:', f1_score(predict_, y))\n",
        "\n",
        "  return None"
      ],
      "id": "5M4uWWLUuyhk",
      "execution_count": 36,
      "outputs": []
    },
    {
      "cell_type": "code",
      "metadata": {
        "colab": {
          "base_uri": "https://localhost:8080/",
          "height": 350
        },
        "id": "F7HYjObeu0jD",
        "outputId": "dcaeb1f6-c444-48d5-9e33-77e0cb621e4e"
      },
      "source": [
        "# plotando a curva da Precisão, Sensibilidade e Acurácia \n",
        "precisions, recalls, accuracy = precision_recall_accuracy_curve(predict, y)\n",
        "plot_precision_recall_accuracy_curve(precisions, recalls, accuracy)"
      ],
      "id": "F7HYjObeu0jD",
      "execution_count": 37,
      "outputs": [
        {
          "output_type": "display_data",
          "data": {
            "image/png": "[encoded data removed]",
            "text/plain": [
              "<Figure size 720x360 with 1 Axes>"
            ]
          },
          "metadata": {
            "tags": [],
            "needs_background": "dark"
          }
        }
      ]
    },
    {
      "cell_type": "code",
      "metadata": {
        "colab": {
          "base_uri": "https://localhost:8080/"
        },
        "id": "cCIv0u1zu2bq",
        "outputId": "24c0c3d3-1073-42c9-8d54-01ef16bb3340"
      },
      "source": [
        "# analisando as melhores métricas encontradas para o modelo\n",
        "best_metrics(threshold = 0.50, predict = predict, y = y)"
      ],
      "id": "cCIv0u1zu2bq",
      "execution_count": 44,
      "outputs": [
        {
          "output_type": "stream",
          "text": [
            "Matriz de Confusão:\n",
            " [[69 14]\n",
            " [12 65]]\n",
            "Acurácia: 0.8375\n",
            "Precisão 0.8227848101265823\n",
            "Sensibilidade: 0.8441558441558441\n",
            "F1_Score: 0.8333333333333334\n"
          ],
          "name": "stdout"
        }
      ]
    },
    {
      "cell_type": "code",
      "metadata": {
        "id": "UtwBFntlFqWo"
      },
      "source": [
        "# plotando o histórico de treinamento\n",
        "plt.plot(history.history['acc'])\n",
        "plt.plot(history.history['val_acc'])\n",
        "plt.title('model accuracy')\n",
        "plt.ylabel('accuracy')\n",
        "plt.xlabel('epoch')\n",
        "plt.legend(['train', 'test'], loc='upper left')\n",
        "plt.show()\n",
        "plt.savefig('model-accuracy')\n",
        "plt.plot(history.history['loss'])\n",
        "plt.plot(history.history['val_loss'])\n",
        "plt.title('model loss')\n",
        "plt.ylabel('loss')\n",
        "plt.xlabel('epoch')\n",
        "plt.legend(['train', 'test'], loc='upper left')\n",
        "plt.show()\n",
        "plt.savefig('model-loss')"
      ],
      "id": "UtwBFntlFqWo",
      "execution_count": null,
      "outputs": []
    },
    {
      "cell_type": "code",
      "metadata": {
        "id": "0TvLz0Xzva5c"
      },
      "source": [
        "# visualizando a arquitetura do modelo\n",
        "model.summary()"
      ],
      "id": "0TvLz0Xzva5c",
      "execution_count": null,
      "outputs": []
    }
  ]
}