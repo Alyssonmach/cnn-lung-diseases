{
 "cells": [
  {
   "cell_type": "markdown",
   "id": "arabic-appraisal",
   "metadata": {},
   "source": [
    "# Conjunto de Dados 4: *ChestXray-NIH*\n",
    "***\n",
    "> Disponível em: <https://nihcc.app.box.com/v/ChestXray-NIHCC/folder/36938765345>. Acesso em 19 fev. 2021."
   ]
  },
  {
   "cell_type": "markdown",
   "id": "stuffed-chinese",
   "metadata": {},
   "source": [
    "### Importação dos pacotes necessários"
   ]
  },
  {
   "cell_type": "code",
   "execution_count": null,
   "id": "brilliant-oxide",
   "metadata": {},
   "outputs": [],
   "source": [
    "from keras.preprocessing.image import ImageDataGenerator\n",
    "import urllib.request\n",
    "urllib.request.urlretrieve('https://raw.githubusercontent.com/Alyssonmach/cnn-lung-diseases/main/cxr8_dados.py', 'cxr8_dados.py')\n",
    "urllib.request.urlretrieve('https://raw.githubusercontent.com/Alyssonmach/histogram-equalization/main/histogram_equalization.py', 'histogram_equalization.py')\n",
    "from histogram_equalization import histogram_equalization\n",
    "from cxr8_dados import data_download, organize_csv, download_images, train_validation_test_split \n",
    "\n",
    "import warnings\n",
    "warnings.filterwarnings(\"ignore\")"
   ]
  },
  {
   "cell_type": "markdown",
   "id": "toxic-ballot",
   "metadata": {},
   "source": [
    "### Baixando os dados"
   ]
  },
  {
   "cell_type": "code",
   "execution_count": null,
   "id": "flexible-argentina",
   "metadata": {},
   "outputs": [],
   "source": [
    "# baixando dataframe\n",
    "data_download('https://raw.githubusercontent.com/Alyssonmach/cnn-lung-diseases/main/dataframe-info.csv', 'dataframe-info.csv')"
   ]
  },
  {
   "cell_type": "code",
   "execution_count": null,
   "id": "northern-round",
   "metadata": {},
   "outputs": [],
   "source": [
    "# baixando as imagens a serem utilizadas\n",
    "download_images()"
   ]
  },
  {
   "cell_type": "code",
   "execution_count": null,
   "id": "immediate-webcam",
   "metadata": {},
   "outputs": [],
   "source": [
    "# descompactando os arquivos e removendo os arquivos compactados\n",
    "!tar -xvzf images_01.tar.gz -C /content/\n",
    "!rm /content/images_01.tar.gz \n",
    "!tar -xvzf images_02.tar.gz -C /content/\n",
    "!rm /content/images_02.tar.gz\n",
    "!tar -xvzf images_03.tar.gz -C /content/\n",
    "!rm /content/images_03.tar.gz\n",
    "!tar -xvzf images_04.tar.gz -C /content/\n",
    "!rm /content/images_04.tar.gz\n",
    "!tar -xvzf images_05.tar.gz -C /content/\n",
    "!rm /content/images_05.tar.gz\n",
    "!tar -xvzf images_06.tar.gz -C /content/\n",
    "!rm /content/images_06.tar.gz\n",
    "!tar -xvzf images_07.tar.gz -C /content/\n",
    "!rm /content/images_07.tar.gz\n",
    "!tar -xvzf images_08.tar.gz -C /content/\n",
    "!rm /content/images_08.tar.gz\n",
    "!tar -xvzf images_09.tar.gz -C /content/\n",
    "!rm /content/images_09.tar.gz\n",
    "!tar -xvzf images_10.tar.gz -C /content/\n",
    "!rm /content/images_10.tar.gz\n",
    "!tar -xvzf images_11.tar.gz -C /content/\n",
    "!rm /content/images_11.tar.gz\n",
    "!tar -xvzf images_12.tar.gz -C /content/\n",
    "!rm /content/images_12.tar.gz"
   ]
  },
  {
   "cell_type": "code",
   "execution_count": null,
   "id": "heard-nightmare",
   "metadata": {},
   "outputs": [],
   "source": [
    "# especificando o diretório com as imagens \n",
    "IMAGE_DIR = \"/content/images/\""
   ]
  },
  {
   "cell_type": "code",
   "execution_count": null,
   "id": "digital-upper",
   "metadata": {},
   "outputs": [],
   "source": [
    "# obtendo o dataframe organizando\n",
    "dataframe = organize_csv('/content/dataframe-info.csv')"
   ]
  },
  {
   "cell_type": "code",
   "execution_count": null,
   "id": "molecular-trick",
   "metadata": {},
   "outputs": [],
   "source": [
    "# visualizando o dataframe\n",
    "print(dataframe.head())\n",
    "print('dataframe shape:', dataframe.shape)"
   ]
  },
  {
   "cell_type": "code",
   "execution_count": null,
   "id": "regulation-parker",
   "metadata": {},
   "outputs": [],
   "source": [
    "# particionando o dataset em dados de treino, validação e teste  \n",
    "train_df, validation_df, test_df = train_validation_test_split(dataframe)"
   ]
  },
  {
   "cell_type": "code",
   "execution_count": null,
   "id": "informational-rhythm",
   "metadata": {},
   "outputs": [],
   "source": [
    "# visualizando detalhes dos dados de treinamento\n",
    "print(train_df.head())\n",
    "print('train_df shape:', train_df.shape)"
   ]
  },
  {
   "cell_type": "code",
   "execution_count": null,
   "id": "prospective-mailing",
   "metadata": {},
   "outputs": [],
   "source": [
    "# visualizando detalhes dos dados de treinamento\n",
    "print(validation_df.head())\n",
    "print('validation_df shape:', validation_df.shape)"
   ]
  },
  {
   "cell_type": "code",
   "execution_count": null,
   "id": "applied-progress",
   "metadata": {},
   "outputs": [],
   "source": [
    "# visualizando detalhes dos dados de teste \n",
    "print(test_df.head())\n",
    "print('validation_df shape:', test_df.shape)"
   ]
  },
  {
   "cell_type": "markdown",
   "id": "absolute-rogers",
   "metadata": {},
   "source": [
    "### Gerados de Dados para a rede pelo Tensorflow"
   ]
  },
  {
   "cell_type": "markdown",
   "id": "dietary-sarah",
   "metadata": {},
   "source": [
    "> **Opção 1**"
   ]
  },
  {
   "cell_type": "code",
   "execution_count": null,
   "id": "smaller-rescue",
   "metadata": {},
   "outputs": [],
   "source": [
    "# normalizando as imagens de treinamento e aplicando aumento de dados\n",
    "image_generator = ImageDataGenerator(samplewise_center = True, samplewise_std_normalization = True,\n",
    "                                     rotation_range = 20, zoom_range = 0.2)\n",
    "\n",
    "# criando o gerador de imagens de treinamento \n",
    "train_generator = image_generator.flow_from_dataframe(\n",
    "                                                      dataframe = train_df,\n",
    "                                                      directory = IMAGE_DIR,\n",
    "                                                      x_col = 'Image Index',\n",
    "                                                      y_col = 'labels',\n",
    "                                                      batch_size = 256,\n",
    "                                                      seed = 42,\n",
    "                                                      shuffle = True,\n",
    "                                                      class_mode = 'raw',\n",
    "                                                      color_mode = 'rgb',\n",
    "                                                      target_size = (256, 256))\n",
    "# criando o gerador de imagens de validação \n",
    "valid_generator = image_generator.flow_from_dataframe(\n",
    "                                                      dataframe = validation_df,\n",
    "                                                      directory = IMAGE_DIR, \n",
    "                                                      x_col = 'Image Index',\n",
    "                                                      y_col = 'labels',\n",
    "                                                      batch_size = 128,\n",
    "                                                      seed = 42,\n",
    "                                                      shuffle = True,\n",
    "                                                      class_mode = 'raw',\n",
    "                                                      target_size = (256, 256))\n",
    "\n",
    "# normalizando as imagens de teste \n",
    "test_datagen = ImageDataGenerator(samplewise_center = True, samplewise_std_normalization = True)\n",
    "\n",
    "test_generator = test_datagen.flow_from_dataframe(\n",
    "                                                  dataframe = test_df, \n",
    "                                                  directory = IMAGE_DIR,\n",
    "                                                  x_col = 'Image Index',\n",
    "                                                  y_col = 'labels',\n",
    "                                                  batch_size = 128,\n",
    "                                                  seed = 42,\n",
    "                                                  shuffle = True,\n",
    "                                                  class_mode = 'raw',\n",
    "                                                  target_size = (256, 256))"
   ]
  },
  {
   "cell_type": "markdown",
   "id": "vulnerable-breach",
   "metadata": {},
   "source": [
    "> **Opção 2**"
   ]
  },
  {
   "cell_type": "code",
   "execution_count": null,
   "id": "flying-hunger",
   "metadata": {},
   "outputs": [],
   "source": [
    "# normalizando as imagens de treinamento e aplicando aumento de dados\n",
    "image_generator = ImageDataGenerator(preprocessing_function = histogram_equalization,\n",
    "                                     rescale = 1./255., rotation_range = 20, zoom_range = 0.2)\n",
    "\n",
    "# criando o gerador de imagens de treinamento \n",
    "train_generator = image_generator.flow_from_dataframe(\n",
    "                                                      dataframe = train_df,\n",
    "                                                      directory = IMAGE_DIR,\n",
    "                                                      x_col = 'Image Index',\n",
    "                                                      y_col = 'labels',\n",
    "                                                      batch_size = 256,\n",
    "                                                      seed = 42,\n",
    "                                                      shuffle = True,\n",
    "                                                      class_mode = 'raw',\n",
    "                                                      color_mode = 'rgb',\n",
    "                                                      target_size = (256, 256))\n",
    "# criando o gerador de imagens de validação \n",
    "valid_generator = image_generator.flow_from_dataframe(\n",
    "                                                      dataframe = validation_df,\n",
    "                                                      directory = IMAGE_DIR, \n",
    "                                                      x_col = 'Image Index',\n",
    "                                                      y_col = 'labels',\n",
    "                                                      batch_size = 128,\n",
    "                                                      seed = 42,\n",
    "                                                      shuffle = True,\n",
    "                                                      class_mode = 'raw',\n",
    "                                                      target_size = (256, 256))\n",
    "\n",
    "# normalizando as imagens de teste \n",
    "test_datagen = ImageDataGenerator(preprocessing_function = histogram_equalization,\n",
    "                                  rescale = 1./255.)\n",
    "\n",
    "test_generator = test_datagen.flow_from_dataframe(\n",
    "                                                  dataframe = test_df, \n",
    "                                                  directory = IMAGE_DIR,\n",
    "                                                  x_col = 'Image Index',\n",
    "                                                  y_col = 'labels',\n",
    "                                                  batch_size = 128,\n",
    "                                                  seed = 42,\n",
    "                                                  shuffle = True,\n",
    "                                                  class_mode = 'raw',\n",
    "                                                  target_size = (256, 256))"
   ]
  },
  {
   "cell_type": "markdown",
   "id": "former-winner",
   "metadata": {},
   "source": [
    "> **Opção 3**"
   ]
  },
  {
   "cell_type": "code",
   "execution_count": null,
   "id": "medical-assurance",
   "metadata": {},
   "outputs": [],
   "source": [
    "# normalizando as imagens de treinamento e aplicando aumento de dados\n",
    "image_generator = ImageDataGenerator(rescale = 1./255., rotation_range = 20, zoom_range = 0.2)\n",
    "\n",
    "# criando o gerador de imagens de treinamento \n",
    "train_generator = image_generator.flow_from_dataframe(\n",
    "                                                      dataframe = train_df,\n",
    "                                                      directory = IMAGE_DIR,\n",
    "                                                      x_col = 'Image Index',\n",
    "                                                      y_col = 'labels',\n",
    "                                                      batch_size = 256,\n",
    "                                                      seed = 42,\n",
    "                                                      shuffle = True,\n",
    "                                                      class_mode = 'raw',\n",
    "                                                      color_mode = 'rgb',\n",
    "                                                      target_size = (256, 256))\n",
    "# criando o gerador de imagens de validação \n",
    "valid_generator = image_generator.flow_from_dataframe(\n",
    "                                                      dataframe = validation_df,\n",
    "                                                      directory = IMAGE_DIR, \n",
    "                                                      x_col = 'Image Index',\n",
    "                                                      y_col = 'labels',\n",
    "                                                      batch_size = 128,\n",
    "                                                      seed = 42,\n",
    "                                                      shuffle = True,\n",
    "                                                      class_mode = 'raw',\n",
    "                                                      target_size = (256, 256))\n",
    "\n",
    "# normalizando as imagens de teste \n",
    "test_datagen = ImageDataGenerator(rescale = 1./255.)\n",
    "\n",
    "test_generator = test_datagen.flow_from_dataframe(\n",
    "                                                  dataframe = test_df, \n",
    "                                                  directory = IMAGE_DIR,\n",
    "                                                  x_col = 'Image Index',\n",
    "                                                  y_col = 'labels',\n",
    "                                                  batch_size = 128,\n",
    "                                                  seed = 42,\n",
    "                                                  shuffle = True,\n",
    "                                                  class_mode = 'raw',\n",
    "                                                  target_size = (256, 256))"
   ]
  }
 ],
 "metadata": {
  "kernelspec": {
   "display_name": "Python 3",
   "language": "python",
   "name": "python3"
  },
  "language_info": {
   "codemirror_mode": {
    "name": "ipython",
    "version": 3
   },
   "file_extension": ".py",
   "mimetype": "text/x-python",
   "name": "python",
   "nbconvert_exporter": "python",
   "pygments_lexer": "ipython3",
   "version": "3.8.7"
  }
 },
 "nbformat": 4,
 "nbformat_minor": 5
}
