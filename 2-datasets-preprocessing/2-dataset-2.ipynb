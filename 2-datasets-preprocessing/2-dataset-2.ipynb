{
 "cells": [
  {
   "cell_type": "markdown",
   "id": "patent-bracelet",
   "metadata": {},
   "source": [
    "# Conjunto de Dados 3: *VinBigData Image Dataset*\n",
    "***\n",
    "> Disponível em: <https://www.kaggle.com/awsaf49/vinbigdata-original-image-dataset>. Acesso em 24 fev. 2021."
   ]
  },
  {
   "cell_type": "markdown",
   "id": "rental-feature",
   "metadata": {},
   "source": [
    "### Importação dos pacotes"
   ]
  },
  {
   "cell_type": "code",
   "execution_count": null,
   "id": "placed-discipline",
   "metadata": {},
   "outputs": [],
   "source": [
    "import os\n",
    "import pandas as pd\n",
    "from sklearn.model_selection import train_test_split\n",
    "\n",
    "import warnings\n",
    "warnings.filterwarnings(\"ignore\")"
   ]
  },
  {
   "cell_type": "markdown",
   "id": "cordless-exhibit",
   "metadata": {},
   "source": [
    "### Baixando os dados"
   ]
  },
  {
   "cell_type": "code",
   "execution_count": null,
   "id": "controlling-fraction",
   "metadata": {},
   "outputs": [],
   "source": [
    "# lendo os dados de um arquivo csv\n",
    "dataframe = pd.read_csv('../datasets/archive (1)/vinbigdata/train.csv')\n",
    "# criando uma coluna com os caminhos relativos as imagens\n",
    "dataframe['image_path'] = '../datasets/archive (1)/vinbigdata/train/' + dataframe.image_id + '.jpg'"
   ]
  },
  {
   "cell_type": "code",
   "execution_count": null,
   "id": "beautiful-danger",
   "metadata": {},
   "outputs": [],
   "source": [
    "print('total de imagens disponíveis:', str(len(set(dataframe['image_path']))))"
   ]
  },
  {
   "cell_type": "code",
   "execution_count": null,
   "id": "public-writing",
   "metadata": {},
   "outputs": [],
   "source": [
    "# visualizando os casos disponíveis\n",
    "dataframe['class_name'].value_counts()"
   ]
  },
  {
   "cell_type": "code",
   "execution_count": null,
   "id": "sufficient-expense",
   "metadata": {},
   "outputs": [],
   "source": [
    "# removendo os casos não relativos a distúrbios pulmonares\n",
    "dataframe = dataframe[dataframe.class_name != 'Aortic enlargement']\n",
    "dataframe = dataframe[dataframe.class_name != 'Cardiomegaly']\n",
    "dataframe = dataframe[dataframe.class_name != 'Other lesion']\n",
    "dataframe = dataframe[dataframe.class_name != 'Consolidation']"
   ]
  },
  {
   "cell_type": "code",
   "execution_count": null,
   "id": "other-actor",
   "metadata": {},
   "outputs": [],
   "source": [
    "# separando os casos rotulados como normais e anormais\n",
    "normal_cases = dataframe[(dataframe.class_id == 14) & (dataframe.class_name == 'No finding')]\n",
    "abnormal_cases = dataframe[(dataframe.class_id != 14) & (dataframe.class_name != 'No finding')]\n",
    "\n",
    "print('total de dados após a filtração:', str(len(set(normal_cases['image_path'])) + len(set(abnormal_cases['image_path']))))"
   ]
  },
  {
   "cell_type": "code",
   "execution_count": null,
   "id": "equipped-thousand",
   "metadata": {},
   "outputs": [],
   "source": [
    "# removendo as imagens repetidas\n",
    "normal_path = list(set(normal_cases['image_path']))\n",
    "abnormal_path = list(set(abnormal_cases['image_path']))\n",
    "\n",
    "# criando dataframes especifos com caminhos para as imagens e rótulos\n",
    "normal_data = pd.DataFrame(normal_path, columns = ['filepath'])\n",
    "normal_data['target'] = 0\n",
    "abnormal_data = pd.DataFrame(abnormal_path, columns = ['filepath'])\n",
    "abnormal_data['target'] = 1"
   ]
  },
  {
   "cell_type": "code",
   "execution_count": null,
   "id": "upper-livestock",
   "metadata": {},
   "outputs": [],
   "source": [
    "print('quantidade de dados rotulados como normais:', len(normal_path))\n",
    "print('quantidade de dados rotulados como anormais:', len(abnormal_path))"
   ]
  },
  {
   "cell_type": "code",
   "execution_count": null,
   "id": "beneficial-annual",
   "metadata": {},
   "outputs": [],
   "source": [
    "normal, _ = train_test_split(normal, test_size = 0.65, random_state = 42)"
   ]
  },
  {
   "cell_type": "code",
   "execution_count": null,
   "id": "binary-opera",
   "metadata": {},
   "outputs": [],
   "source": [
    "# concatenando os dataframes de casos normais e anormais\n",
    "full_data = pd.concat([normal_data, abnormal_data])"
   ]
  },
  {
   "cell_type": "code",
   "execution_count": null,
   "id": "academic-browse",
   "metadata": {},
   "outputs": [],
   "source": [
    "# misturando todos os dados do dataframe e reiniciando os valores dos índices \n",
    "full_data = full_data.sample(frac = 1, axis = 0, random_state = 42).reset_index(drop=True)"
   ]
  },
  {
   "cell_type": "code",
   "execution_count": null,
   "id": "right-heaven",
   "metadata": {},
   "outputs": [],
   "source": [
    "# modificando o formato dos dados para float32\n",
    "dict_type = {'target': 'float32'}\n",
    "full_data = full_data.astype(dict_type)"
   ]
  },
  {
   "cell_type": "code",
   "execution_count": null,
   "id": "sorted-malaysia",
   "metadata": {},
   "outputs": [],
   "source": [
    "# separando os dados de treinamento e de teste\n",
    "train_df, test_df = train_test_split(full_data, stratify = full_data['target'],\n",
    "                                     test_size = 0.2, random_state = 42)"
   ]
  },
  {
   "cell_type": "code",
   "execution_count": null,
   "id": "single-practice",
   "metadata": {},
   "outputs": [],
   "source": [
    "# separando os dados de validação dos dados de treinamento\n",
    "train_df, validation_df = train_test_split(train_df, stratify = train_df['target'],\n",
    "                                           test_size = 0.2, random_state = 42)"
   ]
  },
  {
   "cell_type": "code",
   "execution_count": null,
   "id": "fatal-office",
   "metadata": {},
   "outputs": [],
   "source": [
    "# visualizando a quantidade de dados\n",
    "print('quantidade de imagens de treinamento:', len(train_df['filepath']))\n",
    "print('quantidade de rótulos de treinamento:', len(train_df['target']))\n",
    "print('quantidade de imagens de teste:', len(test_df['filepath']))\n",
    "print('quantidade de rótulos de teste:', len(test_df['target']))\n",
    "print('quantidade de imagens de validação:', len(validation_df['filepath']))\n",
    "print('quantidade de rótulos de validação:', len(validation_df['target']))"
   ]
  },
  {
   "cell_type": "markdown",
   "id": "electric-trance",
   "metadata": {},
   "source": [
    "### Gerados de Dados para a rede pelo Tensorflow"
   ]
  },
  {
   "cell_type": "markdown",
   "id": "structural-moment",
   "metadata": {},
   "source": [
    "> **Opção 1**"
   ]
  },
  {
   "cell_type": "code",
   "execution_count": null,
   "id": "skilled-yorkshire",
   "metadata": {},
   "outputs": [],
   "source": [
    "# normalizando as imagens de treinamento e aplicando aumento de dados\n",
    "image_generator = ImageDataGenerator(samplewise_center = True, samplewise_std_normalization = True,\n",
    "                                     rotation_range = 20, zoom_range = 0.2)\n",
    "\n",
    "# criando o gerador de imagens de treinamento \n",
    "train_generator = image_generator.flow_from_dataframe(\n",
    "                                                      dataframe = train_df,\n",
    "                                                      directory = '',\n",
    "                                                      x_col = 'filepath',\n",
    "                                                      y_col = 'target',\n",
    "                                                      batch_size = 32,\n",
    "                                                      seed = 42,\n",
    "                                                      shuffle = True,\n",
    "                                                      class_mode = 'raw',\n",
    "                                                      color_mode = 'rgb',\n",
    "                                                      target_size = (256, 256))\n",
    "# criando o gerador de imagens de validação \n",
    "valid_generator = image_generator.flow_from_dataframe(\n",
    "                                                      dataframe = validation_df,\n",
    "                                                      directory = '.', \n",
    "                                                      x_col = 'filepath',\n",
    "                                                      y_col = 'target',\n",
    "                                                      batch_size = 32,\n",
    "                                                      seed = 42,\n",
    "                                                      shuffle = True,\n",
    "                                                      class_mode = 'raw',\n",
    "                                                      target_size = (256, 256))\n",
    "\n",
    "# normalizando as imagens de teste \n",
    "test_datagen = ImageDataGenerator(samplewise_center = True, samplewise_std_normalization = True)\n",
    "\n",
    "test_generator = test_datagen.flow_from_dataframe(\n",
    "                                                  dataframe = test_df, \n",
    "                                                  directory = '.',\n",
    "                                                  x_col = 'filepath',\n",
    "                                                  y_col = 'target',\n",
    "                                                  batch_size = 32,\n",
    "                                                  seed = 42,\n",
    "                                                  shuffle = True,\n",
    "                                                  class_mode = 'raw',\n",
    "                                                  target_size = (256, 256))"
   ]
  },
  {
   "cell_type": "markdown",
   "id": "regional-lawsuit",
   "metadata": {},
   "source": [
    "> **Opção 2**"
   ]
  },
  {
   "cell_type": "code",
   "execution_count": null,
   "id": "normal-begin",
   "metadata": {},
   "outputs": [],
   "source": [
    "# normalizando as imagens de treinamento e aplicando aumento de dados\n",
    "image_generator = ImageDataGenerator(preprocessing_function = histogram_equalization,\n",
    "                                     rescale = 1./255., rotation_range = 20, zoom_range = 0.2)\n",
    "\n",
    "# criando o gerador de imagens de treinamento \n",
    "train_generator = image_generator.flow_from_dataframe(\n",
    "                                                      dataframe = train_df,\n",
    "                                                      directory = '',\n",
    "                                                      x_col = 'filepath',\n",
    "                                                      y_col = 'target',\n",
    "                                                      batch_size = 32,\n",
    "                                                      seed = 42,\n",
    "                                                      shuffle = True,\n",
    "                                                      class_mode = 'raw',\n",
    "                                                      color_mode = 'rgb',\n",
    "                                                      target_size = (256, 256))\n",
    "# criando o gerador de imagens de validação \n",
    "valid_generator = image_generator.flow_from_dataframe(\n",
    "                                                      dataframe = validation_df,\n",
    "                                                      directory = '.', \n",
    "                                                      x_col = 'filepath',\n",
    "                                                      y_col = 'target',\n",
    "                                                      batch_size = 32,\n",
    "                                                      seed = 42,\n",
    "                                                      shuffle = True,\n",
    "                                                      class_mode = 'raw',\n",
    "                                                      target_size = (256, 256))\n",
    "\n",
    "# normalizando as imagens de teste \n",
    "test_datagen = ImageDataGenerator(preprocessing_function = histogram_equalization,\n",
    "                                  rescale = 1./255.)\n",
    "\n",
    "test_generator = test_datagen.flow_from_dataframe(\n",
    "                                                  dataframe = test_df, \n",
    "                                                  directory = '.',\n",
    "                                                  x_col = 'filepath',\n",
    "                                                  y_col = 'target',\n",
    "                                                  batch_size = 32,\n",
    "                                                  seed = 42,\n",
    "                                                  shuffle = True,\n",
    "                                                  class_mode = 'raw',\n",
    "                                                  target_size = (256, 256))"
   ]
  },
  {
   "cell_type": "markdown",
   "id": "specialized-testimony",
   "metadata": {},
   "source": [
    "> **Opção 3**"
   ]
  },
  {
   "cell_type": "code",
   "execution_count": null,
   "id": "great-fluid",
   "metadata": {},
   "outputs": [],
   "source": [
    "# normalizando as imagens de treinamento e aplicando aumento de dados\n",
    "image_generator = ImageDataGenerator(rescale = 1./255.,\n",
    "                                     rotation_range = 20, zoom_range = 0.2)\n",
    "\n",
    "# criando o gerador de imagens de treinamento \n",
    "train_generator = image_generator.flow_from_dataframe(\n",
    "                                                      dataframe = train_df,\n",
    "                                                      directory = '',\n",
    "                                                      x_col = 'filepath',\n",
    "                                                      y_col = 'target',\n",
    "                                                      batch_size = 32,\n",
    "                                                      seed = 42,\n",
    "                                                      shuffle = True,\n",
    "                                                      class_mode = 'raw',\n",
    "                                                      color_mode = 'rgb',\n",
    "                                                      target_size = (256, 256))\n",
    "# criando o gerador de imagens de validação \n",
    "valid_generator = image_generator.flow_from_dataframe(\n",
    "                                                      dataframe = validation_df,\n",
    "                                                      directory = '.', \n",
    "                                                      x_col = 'filepath',\n",
    "                                                      y_col = 'target',\n",
    "                                                      batch_size = 32,\n",
    "                                                      seed = 42,\n",
    "                                                      shuffle = True,\n",
    "                                                      class_mode = 'raw',\n",
    "                                                      target_size = (256, 256))\n",
    "\n",
    "# normalizando as imagens de teste \n",
    "test_datagen = ImageDataGenerator(rescale = 1./255.)\n",
    "\n",
    "test_generator = test_datagen.flow_from_dataframe(\n",
    "                                                  dataframe = test_df, \n",
    "                                                  directory = '.',\n",
    "                                                  x_col = 'filepath',\n",
    "                                                  y_col = 'target',\n",
    "                                                  batch_size = 32,\n",
    "                                                  seed = 42,\n",
    "                                                  shuffle = True,\n",
    "                                                  class_mode = 'raw',\n",
    "                                                  target_size = (256, 256))"
   ]
  }
 ],
 "metadata": {
  "kernelspec": {
   "display_name": "Python 3",
   "language": "python",
   "name": "python3"
  },
  "language_info": {
   "codemirror_mode": {
    "name": "ipython",
    "version": 3
   },
   "file_extension": ".py",
   "mimetype": "text/x-python",
   "name": "python",
   "nbconvert_exporter": "python",
   "pygments_lexer": "ipython3",
   "version": "3.8.7"
  }
 },
 "nbformat": 4,
 "nbformat_minor": 5
}
