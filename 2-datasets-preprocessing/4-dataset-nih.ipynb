{
  "nbformat": 4,
  "nbformat_minor": 5,
  "metadata": {
    "kernelspec": {
      "display_name": "Python 3",
      "language": "python",
      "name": "python3"
    },
    "language_info": {
      "codemirror_mode": {
        "name": "ipython",
        "version": 3
      },
      "file_extension": ".py",
      "mimetype": "text/x-python",
      "name": "python",
      "nbconvert_exporter": "python",
      "pygments_lexer": "ipython3",
      "version": "3.8.7"
    },
    "colab": {
      "name": "4-dataset-nih.ipynb",
      "provenance": [],
      "toc_visible": true
    }
  },
  "cells": [
    {
      "cell_type": "markdown",
      "metadata": {
        "id": "arabic-appraisal"
      },
      "source": [
        "# Conjunto de Dados 4: *ChestXray-NIH*\n",
        "***\n",
        "> Disponível em: <https://nihcc.app.box.com/v/ChestXray-NIHCC/folder/36938765345>. Acesso em 19 fev. 2021."
      ],
      "id": "arabic-appraisal"
    },
    {
      "cell_type": "markdown",
      "metadata": {
        "id": "stuffed-chinese"
      },
      "source": [
        "### Importação dos pacotes necessários"
      ],
      "id": "stuffed-chinese"
    },
    {
      "cell_type": "code",
      "metadata": {
        "id": "brilliant-oxide"
      },
      "source": [
        "from keras.preprocessing.image import ImageDataGenerator\n",
        "import urllib.request\n",
        "urllib.request.urlretrieve('https://raw.githubusercontent.com/Alyssonmach/cnn-lung-diseases/main/assets/cxr8_dados.py', 'cxr8_dados.py')\n",
        "urllib.request.urlretrieve('https://raw.githubusercontent.com/Alyssonmach/histogram-equalization/main/histogram_equalization.py', 'histogram_equalization.py')\n",
        "from histogram_equalization import histogram_equalization\n",
        "from cxr8_dados import data_download, organize_csv, download_images, train_validation_test_split \n",
        "import glob\n",
        "import time\n",
        "\n",
        "import warnings\n",
        "warnings.filterwarnings(\"ignore\")"
      ],
      "id": "brilliant-oxide",
      "execution_count": 2,
      "outputs": []
    },
    {
      "cell_type": "markdown",
      "metadata": {
        "id": "toxic-ballot"
      },
      "source": [
        "### Baixando os dados"
      ],
      "id": "toxic-ballot"
    },
    {
      "cell_type": "code",
      "metadata": {
        "id": "flexible-argentina"
      },
      "source": [
        "# baixando dataframe\n",
        "data_download('https://raw.githubusercontent.com/Alyssonmach/cnn-lung-diseases/main/assets/dataframe-info.csv', 'dataframe-info.csv')"
      ],
      "id": "flexible-argentina",
      "execution_count": 3,
      "outputs": []
    },
    {
      "cell_type": "code",
      "metadata": {
        "id": "northern-round"
      },
      "source": [
        "# baixando as imagens a serem utilizadas\n",
        "download_images()"
      ],
      "id": "northern-round",
      "execution_count": null,
      "outputs": []
    },
    {
      "cell_type": "code",
      "metadata": {
        "id": "heard-nightmare"
      },
      "source": [
        "# especificando o diretório com as imagens \n",
        "IMAGE_DIR = ['/content/drive/MyDrive/images-nih1',\n",
        "             '/content/drive/MyDrive/images-nih2',\n",
        "             '/content/drive/MyDrive/images-nih3',\n",
        "             '/content/drive/MyDrive/images-nih4']"
      ],
      "id": "heard-nightmare",
      "execution_count": null,
      "outputs": []
    },
    {
      "cell_type": "code",
      "metadata": {
        "id": "digital-upper"
      },
      "source": [
        "# obtendo o dataframe organizando\n",
        "dataframe, (normal, anormal) = organize_csv('/content/dataframe-info.csv')"
      ],
      "id": "digital-upper",
      "execution_count": 6,
      "outputs": []
    },
    {
      "cell_type": "code",
      "metadata": {
        "id": "molecular-trick",
        "colab": {
          "base_uri": "https://localhost:8080/"
        },
        "outputId": "6c1c829d-2cad-428c-e477-458631d666ad"
      },
      "source": [
        "# visualizando o dataframe\n",
        "print(dataframe.head())\n",
        "print('dataframe shape:', dataframe.shape)"
      ],
      "id": "molecular-trick",
      "execution_count": 7,
      "outputs": [
        {
          "output_type": "stream",
          "text": [
            "        Image Index  labels\n",
            "0  00011895_001.png       0\n",
            "1  00015384_004.png       0\n",
            "2  00028131_011.png       0\n",
            "3  00028792_001.png       1\n",
            "4  00010716_000.png       0\n",
            "dataframe shape: (87982, 2)\n"
          ],
          "name": "stdout"
        }
      ]
    },
    {
      "cell_type": "code",
      "metadata": {
        "id": "regulation-parker"
      },
      "source": [
        "# particionando o dataset em dados de treino, validação e teste  \n",
        "train_df, validation_df, test_df = train_validation_test_split(dataframe)"
      ],
      "id": "regulation-parker",
      "execution_count": 8,
      "outputs": []
    },
    {
      "cell_type": "code",
      "metadata": {
        "id": "informational-rhythm",
        "colab": {
          "base_uri": "https://localhost:8080/"
        },
        "outputId": "83e10b11-bc73-4f1d-b031-36c48571cd5f"
      },
      "source": [
        "# visualizando detalhes dos dados de treinamento\n",
        "print(train_df.head())\n",
        "print('train_df shape:', train_df.shape)"
      ],
      "id": "informational-rhythm",
      "execution_count": null,
      "outputs": [
        {
          "output_type": "stream",
          "text": [
            "            Image Index  labels\n",
            "68473  00013172_000.png       1\n",
            "86448  00010007_169.png       1\n",
            "61928  00016051_010.png       0\n",
            "44912  00004594_002.png       0\n",
            "20587  00007406_003.png       0\n",
            "train_df shape: (84497, 2)\n"
          ],
          "name": "stdout"
        }
      ]
    },
    {
      "cell_type": "code",
      "metadata": {
        "id": "prospective-mailing",
        "colab": {
          "base_uri": "https://localhost:8080/"
        },
        "outputId": "b68625e3-9199-457c-aa57-25071190894e"
      },
      "source": [
        "# visualizando detalhes dos dados de treinamento\n",
        "print(validation_df.head())\n",
        "print('validation_df shape:', validation_df.shape)"
      ],
      "id": "prospective-mailing",
      "execution_count": 9,
      "outputs": [
        {
          "output_type": "stream",
          "text": [
            "            Image Index  labels\n",
            "57440  00016944_004.png       1\n",
            "85690  00010695_015.png       1\n",
            "52337  00011380_014.png       1\n",
            "11606  00010749_000.png       1\n",
            "27801  00012976_006.png       0\n",
            "validation_df shape: (1725, 2)\n"
          ],
          "name": "stdout"
        }
      ]
    },
    {
      "cell_type": "code",
      "metadata": {
        "id": "applied-progress",
        "colab": {
          "base_uri": "https://localhost:8080/"
        },
        "outputId": "188bd197-2ab5-4702-c6b4-784cb392129b"
      },
      "source": [
        "# visualizando detalhes dos dados de teste \n",
        "print(test_df.head())\n",
        "print('validation_df shape:', test_df.shape)"
      ],
      "id": "applied-progress",
      "execution_count": 10,
      "outputs": [
        {
          "output_type": "stream",
          "text": [
            "            Image Index  labels\n",
            "3423   00004605_005.png       1\n",
            "34940  00018610_042.png       1\n",
            "1864   00029870_000.png       0\n",
            "38846  00007632_014.png       1\n",
            "46844  00001286_003.png       1\n",
            "validation_df shape: (1760, 2)\n"
          ],
          "name": "stdout"
        }
      ]
    },
    {
      "cell_type": "markdown",
      "metadata": {
        "id": "absolute-rogers"
      },
      "source": [
        "### Gerados de Dados para a rede pelo Tensorflow"
      ],
      "id": "absolute-rogers"
    },
    {
      "cell_type": "code",
      "metadata": {
        "id": "curSC-HwT-61"
      },
      "source": [
        "# função para baixar os caminhos de todas as imagens\n",
        "def find_files():\n",
        "\n",
        "  file1 = glob.glob('/content/drive/MyDrive/images-nih1/images/*.png')\n",
        "  time.sleep(10)\n",
        "  file2 = glob.glob('/content/drive/MyDrive/images-nih2/images/*.png')\n",
        "  time.sleep(10)\n",
        "  file3 = glob.glob('/content/drive/MyDrive/images-nih3/images/*.png')\n",
        "  time.sleep(10)\n",
        "  file4 = glob.glob('/content/drive/MyDrive/images-nih4/images/*.png')\n",
        "\n",
        "  return file1, file2, file3, file4\n",
        "\n",
        "file1, file2, file3, file4 = find_files()\n",
        "\n",
        "# função para adicionar os caminhos das imagens nos diretórios a partir do arquivo csv\n",
        "def replace_file(dataframe, new_file, image):\n",
        "\n",
        "  index = int(dataframe[dataframe['Image Index'] == image].index.values)\n",
        "  dataframe['Image Index'][index] = new_file\n",
        "\n",
        "  return None"
      ],
      "id": "curSC-HwT-61",
      "execution_count": 46,
      "outputs": []
    },
    {
      "cell_type": "code",
      "metadata": {
        "id": "XqIS1xsxNuaa"
      },
      "source": [
        "# organizando o arquivo csv \n",
        "\n",
        "result = ''\n",
        "\n",
        "for image in train_df['Image Index']:\n",
        "  for file_ in file1:\n",
        "    result = file_.find(image)\n",
        "    if result > 0:\n",
        "      replace_file(dataframe = train_df, new_file = file_, image = image)\n",
        "  for file_ in file2:\n",
        "    result = file_.find(image)\n",
        "    if result > 0:\n",
        "      replace_file(dataframe = train_df, new_file = file_, image = image)\n",
        "  for file_ in file3:\n",
        "    result = file_.find(image)\n",
        "    if result > 0:\n",
        "      replace_file(dataframe = train_df, new_file = file_, image = image)\n",
        "  for file_ in file4:\n",
        "    result = file_.find(image)\n",
        "    if result > 0:\n",
        "      replace_file(dataframe = train_df, new_file = file_, image = image)\n",
        "\n",
        "for image in validation_df['Image Index']:\n",
        "  for file_ in file1:\n",
        "    result = file_.find(image)\n",
        "    if result > 0:\n",
        "      replace_file(dataframe = validation_df, new_file = file_, image = image)\n",
        "  for file_ in file2:\n",
        "    result = file_.find(image)\n",
        "    if result > 0:\n",
        "      replace_file(dataframe = validation_df, new_file = file_, image = image)\n",
        "  for file_ in file3:\n",
        "    result = file_.find(image)\n",
        "    if result > 0:\n",
        "      replace_file(dataframe = validation_df, new_file = file_, image = image)\n",
        "  for file_ in file4:\n",
        "    result = file_.find(image)\n",
        "    if result > 0:\n",
        "      replace_file(dataframe = validation_df, new_file = file_, image = image)\n",
        "\n",
        "for image in test_df['Image Index']:\n",
        "  for file_ in file1:\n",
        "    result = file_.find(image)\n",
        "    if result > 0:\n",
        "      replace_file(dataframe = test_df, new_file = file_, image = image)\n",
        "  for file_ in file2:\n",
        "    result = file_.find(image)\n",
        "    if result > 0:\n",
        "      replace_file(dataframe = test_df, new_file = file_, image = image)\n",
        "  for file_ in file3:\n",
        "    result = file_.find(image)\n",
        "    if result > 0:\n",
        "      replace_file(dataframe = test_df, new_file = file_, image = image)\n",
        "  for file_ in file4:\n",
        "    result = file_.find(image)\n",
        "    if result > 0:\n",
        "      replace_file(dataframe = test_df, new_file = file_, image = image)\n"
      ],
      "id": "XqIS1xsxNuaa",
      "execution_count": 62,
      "outputs": []
    },
    {
      "cell_type": "code",
      "metadata": {
        "id": "04gBKWqghiFv"
      },
      "source": [
        "# salvando os dataframes manipulados em arquivos csv\n",
        "train_df.to_csv('train_df.csv')\n",
        "validation_df.to_csv('validation_df.csv')\n",
        "test_df.to_csv('test_df.csv')"
      ],
      "id": "04gBKWqghiFv",
      "execution_count": 68,
      "outputs": []
    },
    {
      "cell_type": "markdown",
      "metadata": {
        "id": "dietary-sarah"
      },
      "source": [
        "> **Opção 1**"
      ],
      "id": "dietary-sarah"
    },
    {
      "cell_type": "code",
      "metadata": {
        "id": "smaller-rescue",
        "colab": {
          "base_uri": "https://localhost:8080/"
        },
        "outputId": "8bac529f-f317-47ca-c3bf-f727bd8c5517"
      },
      "source": [
        "# normalizando as imagens de treinamento e aplicando aumento de dados\n",
        "image_generator = ImageDataGenerator(samplewise_center = True, samplewise_std_normalization = True,\n",
        "                                     rotation_range = 10, zoom_range = 0.2)\n",
        "\n",
        "# criando o gerador de imagens de treinamento \n",
        "train_generator = image_generator.flow_from_dataframe(\n",
        "                                                      dataframe = train_df,\n",
        "                                                      x_col = 'Image Index',\n",
        "                                                      y_col = 'labels',\n",
        "                                                      batch_size = 256,\n",
        "                                                      seed = 42,\n",
        "                                                      shuffle = True,\n",
        "                                                      class_mode = 'raw',\n",
        "                                                      color_mode = 'rgb',\n",
        "                                                      target_size = (256, 256))\n",
        "# criando o gerador de imagens de validação \n",
        "valid_generator = image_generator.flow_from_dataframe(\n",
        "                                                      dataframe = validation_df, \n",
        "                                                      x_col = 'Image Index',\n",
        "                                                      y_col = 'labels',\n",
        "                                                      batch_size = 128,\n",
        "                                                      seed = 42,\n",
        "                                                      shuffle = True,\n",
        "                                                      class_mode = 'raw',\n",
        "                                                      target_size = (256, 256))\n",
        "\n",
        "# normalizando as imagens de teste \n",
        "test_datagen = ImageDataGenerator(samplewise_center = True, samplewise_std_normalization = True)\n",
        "\n",
        "test_generator = test_datagen.flow_from_dataframe(\n",
        "                                                  dataframe = test_df, \n",
        "                                                  x_col = 'Image Index',\n",
        "                                                  y_col = 'labels',\n",
        "                                                  batch_size = 128,\n",
        "                                                  seed = 42,\n",
        "                                                  shuffle = True,\n",
        "                                                  class_mode = 'raw',\n",
        "                                                  target_size = (256, 256))"
      ],
      "id": "smaller-rescue",
      "execution_count": 69,
      "outputs": [
        {
          "output_type": "stream",
          "text": [
            "Found 84497 validated image filenames.\n",
            "Found 1725 validated image filenames.\n",
            "Found 1760 validated image filenames.\n"
          ],
          "name": "stdout"
        }
      ]
    },
    {
      "cell_type": "markdown",
      "metadata": {
        "id": "vulnerable-breach"
      },
      "source": [
        "- **Opção 2**"
      ],
      "id": "vulnerable-breach"
    },
    {
      "cell_type": "code",
      "metadata": {
        "id": "medical-assurance",
        "colab": {
          "base_uri": "https://localhost:8080/"
        },
        "outputId": "c1b08342-413f-430e-9ed1-3fc1c23abe2d"
      },
      "source": [
        "# normalizando as imagens de treinamento e aplicando aumento de dados\n",
        "image_generator = ImageDataGenerator(rescale = 1./255., rotation_range = 10, zoom_range = 0.2)\n",
        "\n",
        "# criando o gerador de imagens de treinamento \n",
        "train_generator = image_generator.flow_from_dataframe(\n",
        "                                                      dataframe = train_df,\n",
        "                                                      x_col = 'Image Index',\n",
        "                                                      y_col = 'labels',\n",
        "                                                      batch_size = 256,\n",
        "                                                      seed = 42,\n",
        "                                                      shuffle = True,\n",
        "                                                      class_mode = 'raw',\n",
        "                                                      color_mode = 'rgb',\n",
        "                                                      target_size = (256, 256))\n",
        "# criando o gerador de imagens de validação \n",
        "valid_generator = image_generator.flow_from_dataframe(\n",
        "                                                      dataframe = validation_df,\n",
        "                                                      x_col = 'Image Index',\n",
        "                                                      y_col = 'labels',\n",
        "                                                      batch_size = 128,\n",
        "                                                      seed = 42,\n",
        "                                                      shuffle = True,\n",
        "                                                      class_mode = 'raw',\n",
        "                                                      target_size = (256, 256))\n",
        "\n",
        "# normalizando as imagens de teste \n",
        "test_datagen = ImageDataGenerator(rescale = 1./255.)\n",
        "\n",
        "test_generator = test_datagen.flow_from_dataframe(\n",
        "                                                  dataframe = test_df, \n",
        "                                                  x_col = 'Image Index',\n",
        "                                                  y_col = 'labels',\n",
        "                                                  batch_size = 128,\n",
        "                                                  seed = 42,\n",
        "                                                  shuffle = True,\n",
        "                                                  class_mode = 'raw',\n",
        "                                                  target_size = (256, 256))"
      ],
      "id": "medical-assurance",
      "execution_count": 71,
      "outputs": [
        {
          "output_type": "stream",
          "text": [
            "Found 84497 validated image filenames.\n",
            "Found 1725 validated image filenames.\n",
            "Found 1760 validated image filenames.\n"
          ],
          "name": "stdout"
        }
      ]
    }
  ]
}