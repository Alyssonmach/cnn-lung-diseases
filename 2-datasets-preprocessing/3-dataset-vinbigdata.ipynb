{
 "cells": [
  {
   "cell_type": "markdown",
   "id": "patent-bracelet",
   "metadata": {},
   "source": [
    "# Conjunto de Dados 3: *VinBigData Image Dataset*\n",
    "***\n",
    "> Disponível em: <https://www.kaggle.com/awsaf49/vinbigdata-original-image-dataset>. Acesso em 24 fev. 2021."
   ]
  },
  {
   "cell_type": "markdown",
   "id": "rental-feature",
   "metadata": {},
   "source": [
    "### Importação dos pacotes"
   ]
  },
  {
   "cell_type": "code",
   "execution_count": 1,
   "id": "placed-discipline",
   "metadata": {},
   "outputs": [],
   "source": [
    "import os\n",
    "import pandas as pd\n",
    "from sklearn.model_selection import train_test_split\n",
    "\n",
    "import warnings\n",
    "warnings.filterwarnings(\"ignore\")"
   ]
  },
  {
   "cell_type": "markdown",
   "id": "cordless-exhibit",
   "metadata": {},
   "source": [
    "### Pré-processamento nos dados"
   ]
  },
  {
   "cell_type": "code",
   "execution_count": 2,
   "id": "controlling-fraction",
   "metadata": {},
   "outputs": [],
   "source": [
    "# lendo os dados de um arquivo csv\n",
    "dataframe = pd.read_csv('../datasets/archive (1)/vinbigdata/train.csv')\n",
    "# criando uma coluna com os caminhos relativos as imagens\n",
    "dataframe['image_path'] = '../datasets/archive (1)/vinbigdata/train/' + dataframe.image_id + '.jpg'"
   ]
  },
  {
   "cell_type": "code",
   "execution_count": 3,
   "id": "beautiful-danger",
   "metadata": {},
   "outputs": [
    {
     "name": "stdout",
     "output_type": "stream",
     "text": [
      "total de imagens disponíveis: 15000\n"
     ]
    }
   ],
   "source": [
    "print('total de imagens disponíveis:', str(len(set(dataframe['image_path']))))"
   ]
  },
  {
   "cell_type": "code",
   "execution_count": 4,
   "id": "public-writing",
   "metadata": {},
   "outputs": [
    {
     "data": {
      "text/plain": [
       "No finding            31818\n",
       "Aortic enlargement     7162\n",
       "Cardiomegaly           5427\n",
       "Pleural thickening     4842\n",
       "Pulmonary fibrosis     4655\n",
       "Nodule/Mass            2580\n",
       "Lung Opacity           2483\n",
       "Pleural effusion       2476\n",
       "Other lesion           2203\n",
       "Infiltration           1247\n",
       "ILD                    1000\n",
       "Calcification           960\n",
       "Consolidation           556\n",
       "Atelectasis             279\n",
       "Pneumothorax            226\n",
       "Name: class_name, dtype: int64"
      ]
     },
     "execution_count": 4,
     "metadata": {},
     "output_type": "execute_result"
    }
   ],
   "source": [
    "# visualizando os casos disponíveis\n",
    "dataframe['class_name'].value_counts()"
   ]
  },
  {
   "cell_type": "code",
   "execution_count": 5,
   "id": "sufficient-expense",
   "metadata": {},
   "outputs": [],
   "source": [
    "# removendo os casos não relativos a distúrbios pulmonares\n",
    "dataframe = dataframe[dataframe.class_name != 'Aortic enlargement']\n",
    "dataframe = dataframe[dataframe.class_name != 'Cardiomegaly']\n",
    "dataframe = dataframe[dataframe.class_name != 'Other lesion']\n",
    "dataframe = dataframe[dataframe.class_name != 'Consolidation']"
   ]
  },
  {
   "cell_type": "code",
   "execution_count": 6,
   "id": "other-actor",
   "metadata": {},
   "outputs": [
    {
     "name": "stdout",
     "output_type": "stream",
     "text": [
      "total de dados após a filtração: 13948\n"
     ]
    }
   ],
   "source": [
    "# separando os casos rotulados como normais e anormais\n",
    "normal_cases = dataframe[(dataframe.class_id == 14) & (dataframe.class_name == 'No finding')]\n",
    "abnormal_cases = dataframe[(dataframe.class_id != 14) & (dataframe.class_name != 'No finding')]\n",
    "\n",
    "print('total de dados após a filtração:', str(len(set(normal_cases['image_path'])) + len(set(abnormal_cases['image_path']))))"
   ]
  },
  {
   "cell_type": "code",
   "execution_count": 7,
   "id": "equipped-thousand",
   "metadata": {},
   "outputs": [],
   "source": [
    "# removendo as imagens repetidas\n",
    "normal_path = list(set(normal_cases['image_path']))\n",
    "abnormal_path = list(set(abnormal_cases['image_path']))\n",
    "\n",
    "# criando dataframes especifos com caminhos para as imagens e rótulos\n",
    "normal_data = pd.DataFrame(normal_path, columns = ['filepath'])\n",
    "normal_data['target'] = 0\n",
    "abnormal_data = pd.DataFrame(abnormal_path, columns = ['filepath'])\n",
    "abnormal_data['target'] = 1"
   ]
  },
  {
   "cell_type": "code",
   "execution_count": 12,
   "id": "upper-livestock",
   "metadata": {},
   "outputs": [
    {
     "name": "stdout",
     "output_type": "stream",
     "text": [
      "quantidade de dados rotulados como normais: 10606\n",
      "quantidade de dados rotulados como anormais: 3342\n"
     ]
    }
   ],
   "source": [
    "print('quantidade de dados rotulados como normais:', len(normal_data))\n",
    "print('quantidade de dados rotulados como anormais:', len(abnormal_data))"
   ]
  },
  {
   "cell_type": "code",
   "execution_count": 24,
   "id": "beneficial-annual",
   "metadata": {},
   "outputs": [],
   "source": [
    "# removendo 69% dos casos normais para balancear os dados\n",
    "normal, _ = train_test_split(normal_data, test_size = 0.69, random_state = 42)"
   ]
  },
  {
   "cell_type": "code",
   "execution_count": 26,
   "id": "becoming-jesus",
   "metadata": {},
   "outputs": [
    {
     "name": "stdout",
     "output_type": "stream",
     "text": [
      "quantidade de dados rotulados como normais: 3287\n",
      "quantidade de dados rotulados como anormais: 3342\n"
     ]
    }
   ],
   "source": [
    "print('quantidade de dados rotulados como normais:', len(normal))\n",
    "print('quantidade de dados rotulados como anormais:', len(abnormal_data))"
   ]
  },
  {
   "cell_type": "code",
   "execution_count": 27,
   "id": "binary-opera",
   "metadata": {},
   "outputs": [],
   "source": [
    "# concatenando os dataframes de casos normais e anormais\n",
    "full_data = pd.concat([normal, abnormal_data])"
   ]
  },
  {
   "cell_type": "code",
   "execution_count": 28,
   "id": "academic-browse",
   "metadata": {},
   "outputs": [],
   "source": [
    "# misturando todos os dados do dataframe e reiniciando os valores dos índices \n",
    "full_data = full_data.sample(frac = 1, axis = 0, random_state = 42).reset_index(drop=True)"
   ]
  },
  {
   "cell_type": "code",
   "execution_count": 29,
   "id": "right-heaven",
   "metadata": {},
   "outputs": [],
   "source": [
    "# modificando o formato dos dados para float32\n",
    "dict_type = {'target': 'float32'}\n",
    "full_data = full_data.astype(dict_type) "
   ]
  },
  {
   "cell_type": "code",
   "execution_count": 30,
   "id": "sorted-malaysia",
   "metadata": {},
   "outputs": [],
   "source": [
    "# separando os dados de treinamento e de teste\n",
    "train_df, test_df = train_test_split(full_data, stratify = full_data['target'],\n",
    "                                     test_size = 0.2, random_state = 42)"
   ]
  },
  {
   "cell_type": "code",
   "execution_count": 31,
   "id": "single-practice",
   "metadata": {},
   "outputs": [],
   "source": [
    "# separando os dados de validação dos dados de treinamento\n",
    "train_df, validation_df = train_test_split(train_df, stratify = train_df['target'],\n",
    "                                           test_size = 0.2, random_state = 42)"
   ]
  },
  {
   "cell_type": "code",
   "execution_count": 32,
   "id": "fatal-office",
   "metadata": {},
   "outputs": [
    {
     "name": "stdout",
     "output_type": "stream",
     "text": [
      "quantidade de imagens de treinamento: 4242\n",
      "quantidade de rótulos de treinamento: 4242\n",
      "quantidade de imagens de teste: 1326\n",
      "quantidade de rótulos de teste: 1326\n",
      "quantidade de imagens de validação: 1061\n",
      "quantidade de rótulos de validação: 1061\n"
     ]
    }
   ],
   "source": [
    "# visualizando a quantidade de dados\n",
    "print('quantidade de imagens de treinamento:', len(train_df['filepath']))\n",
    "print('quantidade de rótulos de treinamento:', len(train_df['target']))\n",
    "print('quantidade de imagens de teste:', len(test_df['filepath']))\n",
    "print('quantidade de rótulos de teste:', len(test_df['target']))\n",
    "print('quantidade de imagens de validação:', len(validation_df['filepath']))\n",
    "print('quantidade de rótulos de validação:', len(validation_df['target']))"
   ]
  },
  {
   "cell_type": "markdown",
   "id": "electric-trance",
   "metadata": {},
   "source": [
    "### Gerador de dados para a rede pelo Tensorflow"
   ]
  },
  {
   "cell_type": "markdown",
   "id": "structural-moment",
   "metadata": {},
   "source": [
    "- **Opção 1**"
   ]
  },
  {
   "cell_type": "code",
   "execution_count": 36,
   "id": "skilled-yorkshire",
   "metadata": {},
   "outputs": [
    {
     "name": "stdout",
     "output_type": "stream",
     "text": [
      "Found 4242 validated image filenames.\n",
      "Found 1061 validated image filenames.\n",
      "Found 1326 validated image filenames.\n"
     ]
    }
   ],
   "source": [
    "# normalizando as imagens de treinamento e aplicando aumento de dados\n",
    "image_generator = ImageDataGenerator(samplewise_center = True, samplewise_std_normalization = True,\n",
    "                                     rotation_range = 10, zoom_range = 0.2)\n",
    "\n",
    "# criando o gerador de imagens de treinamento \n",
    "train_generator = image_generator.flow_from_dataframe(\n",
    "                                                      dataframe = train_df,\n",
    "                                                      directory = '',\n",
    "                                                      x_col = 'filepath',\n",
    "                                                      y_col = 'target',\n",
    "                                                      batch_size = 32,\n",
    "                                                      seed = 42,\n",
    "                                                      shuffle = True,\n",
    "                                                      class_mode = 'raw',\n",
    "                                                      target_size = (256, 256))\n",
    "# criando o gerador de imagens de validação \n",
    "valid_generator = image_generator.flow_from_dataframe(\n",
    "                                                      dataframe = validation_df,\n",
    "                                                      directory = '.', \n",
    "                                                      x_col = 'filepath',\n",
    "                                                      y_col = 'target',\n",
    "                                                      batch_size = 32,\n",
    "                                                      seed = 42,\n",
    "                                                      shuffle = True,\n",
    "                                                      class_mode = 'raw',\n",
    "                                                      target_size = (256, 256))\n",
    "\n",
    "# normalizando as imagens de teste \n",
    "test_datagen = ImageDataGenerator(samplewise_center = True, samplewise_std_normalization = True)\n",
    "\n",
    "test_generator = test_datagen.flow_from_dataframe(\n",
    "                                                  dataframe = test_df, \n",
    "                                                  directory = '.',\n",
    "                                                  x_col = 'filepath',\n",
    "                                                  y_col = 'target',\n",
    "                                                  batch_size = 32,\n",
    "                                                  seed = 42,\n",
    "                                                  shuffle = True,\n",
    "                                                  class_mode = 'raw',\n",
    "                                                  target_size = (256, 256))"
   ]
  },
  {
   "cell_type": "markdown",
   "id": "regional-lawsuit",
   "metadata": {},
   "source": [
    "- **Opção 2**"
   ]
  },
  {
   "cell_type": "code",
   "execution_count": 37,
   "id": "great-fluid",
   "metadata": {},
   "outputs": [
    {
     "name": "stdout",
     "output_type": "stream",
     "text": [
      "Found 4242 validated image filenames.\n",
      "Found 1061 validated image filenames.\n",
      "Found 1326 validated image filenames.\n"
     ]
    }
   ],
   "source": [
    "# normalizando as imagens de treinamento e aplicando aumento de dados\n",
    "image_generator = ImageDataGenerator(rescale = 1./255.,\n",
    "                                     rotation_range = 10, zoom_range = 0.2)\n",
    "\n",
    "# criando o gerador de imagens de treinamento \n",
    "train_generator = image_generator.flow_from_dataframe(\n",
    "                                                      dataframe = train_df,\n",
    "                                                      directory = '',\n",
    "                                                      x_col = 'filepath',\n",
    "                                                      y_col = 'target',\n",
    "                                                      batch_size = 32,\n",
    "                                                      seed = 42,\n",
    "                                                      shuffle = True,\n",
    "                                                      class_mode = 'raw',\n",
    "                                                      color_mode = 'rgb',\n",
    "                                                      target_size = (256, 256))\n",
    "# criando o gerador de imagens de validação \n",
    "valid_generator = image_generator.flow_from_dataframe(\n",
    "                                                      dataframe = validation_df,\n",
    "                                                      directory = '.', \n",
    "                                                      x_col = 'filepath',\n",
    "                                                      y_col = 'target',\n",
    "                                                      batch_size = 32,\n",
    "                                                      seed = 42,\n",
    "                                                      shuffle = True,\n",
    "                                                      class_mode = 'raw',\n",
    "                                                      target_size = (256, 256))\n",
    "\n",
    "# normalizando as imagens de teste \n",
    "test_datagen = ImageDataGenerator(rescale = 1./255.)\n",
    "\n",
    "test_generator = test_datagen.flow_from_dataframe(\n",
    "                                                  dataframe = test_df, \n",
    "                                                  directory = '.',\n",
    "                                                  x_col = 'filepath',\n",
    "                                                  y_col = 'target',\n",
    "                                                  batch_size = 32,\n",
    "                                                  seed = 42,\n",
    "                                                  shuffle = True,\n",
    "                                                  class_mode = 'raw',\n",
    "                                                  target_size = (256, 256))"
   ]
  }
 ],
 "metadata": {
  "kernelspec": {
   "display_name": "Python 3",
   "language": "python",
   "name": "python3"
  },
  "language_info": {
   "codemirror_mode": {
    "name": "ipython",
    "version": 3
   },
   "file_extension": ".py",
   "mimetype": "text/x-python",
   "name": "python",
   "nbconvert_exporter": "python",
   "pygments_lexer": "ipython3",
   "version": "3.8.7"
  }
 },
 "nbformat": 4,
 "nbformat_minor": 5
}
