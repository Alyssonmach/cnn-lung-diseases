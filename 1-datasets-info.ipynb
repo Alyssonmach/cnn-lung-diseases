{
 "cells": [
  {
   "cell_type": "markdown",
   "id": "powered-house",
   "metadata": {},
   "source": [
    "# Pulmonary Chest X-Ray Abnormalities - Informações dos datasets\n",
    "\n",
    "## Dataset Kaggle\n",
    "***\n",
    "- [Pulmonary Chest X-Ray Abnormalities](https://www.kaggle.com/kmader/pulmonary-chest-xray-abnormalities) [1]\n",
    "- [Chest X-Ray Pneumonia](https://www.kaggle.com/paultimothymooney/chest-xray-pneumonia)\n",
    "\n",
    "### Conjunto de Dados 1: Montgomery County X-ray Set\n",
    "***\n",
    "As imagens de raios-X neste conjunto de dados foram adquiridas do programa de controle da tuberculose do Departamento de Saúde e Serviços Humanos do Condado de Montgomery, MD, EUA. Esse conjunto de dados contém 138 radiografias póstero-anterior, das quais 80 são radiografias normais e 58 são anormais com manifestações de tuberculose. Todas as imagens são desidentificadas e disponíveis no formato DICOM (Digital Imaging and Communications in Medicine). O conjunto cobre uma ampla gama de anormalidades, incluindo efusões e padrões miliares. O conjunto de dados inclui leituras de radiologia disponíveis como um arquivo de texto (preservando a identidade dos pacientes) [2].\n",
    "\n",
    "### Conjunto de Dados 2: China Set - The Shenzhen set - Chest X-ray Database\n",
    "***\n",
    "O banco de dados de imagem digital padrão para tuberculose foi criado pela Biblioteca Nacional de Medicina, Maryland, EUA, em colaboração com o Hospital Popular de Shenzhen No.3, Faculdade de Medicina de Guangdong, Shenzhen, China. As radiografias de tórax são de clínicas ambulatoriais e foram capturadas como parte da rotina diária usando os sistemas Philips DR Digital Diagnose. O conjunto de dados contém 336 casos com manifestação de tuberculose e 326 casos normais [3].\n",
    "\n",
    "### Conjunto de Dados 3: Chest X-Ray Pneumonia\n",
    "***\n",
    "O conjunto de dados é organizado em 3 pastas de treinamento, validação e teste, e contém subpastas para cada categoria de imagem (Pneumonia / Normal). Existem 5.863 imagens de Raios-X (JPEG) e 2 categorias (Pneumonia / Normal). Imagens de raio-X de tórax (ântero-posterior) foram selecionadas de pacientes pediátricos de um a cinco anos de idade do Guangzhou Women and Children’s Medical Center, Guangzhou. Todas as imagens de raios-X de tórax foram realizadas como parte dos cuidados clínicos de rotina dos pacientes. Para a análise das imagens de raios-X de tórax, todas as radiografias de tórax foram inicialmente selecionadas para controle de qualidade, removendo todas as imagens de baixa qualidade ou ilegíveis. Os diagnósticos para as imagens foram então avaliados por dois médicos especialistas antes de serem liberados para o treinamento do sistema de IA. A fim de contabilizar quaisquer erros de classificação, o conjunto de avaliação também foi verificado por um terceiro especialista [4].\n",
    "\n",
    "### Conjunto de Dados 4: Chest X-ray Database\n",
    "***\n",
    "O conjunto de dados compreende 112.120 imagens de raios-X de visão frontal com os quatorze rótulos de imagens de doenças extraídos de texto (onde cada imagem pode ter vários rótulos), extraídos dos relatórios radiológicos associados usando processamento de linguagem natural. Quatorze patologias torácicas comuns incluem Atelectasia, Consolidação, Infiltração, Pneumotórax, Edema, Enfisema, Fibrose, Efusão, Pneumonia, Espessamento Pleural, Cardiomegalia, Nódulo, Massa e Hérnia, que é uma extensão dos 8 padrões de doença comuns listados no artigo CVPR2017 [6].\n",
    "\n",
    "### Referências \n",
    "***\n",
    "[1] Jaeger S, Candemir S, Antani S, Wáng YX, Lu PX, Thoma G. **Two public chest X-ray datasets for computer-aided screening of pulmonary diseases**. Quant Imaging Med Surg. 2014;4(6):475-477. doi:10.3978/j.issn.2223-4292.2014.11.20  \n",
    "\n",
    "[2] Jaeger S, Karargyris A, Candemir S, Folio L, Siegelman J, Callaghan F, Xue Z, Palaniappan K, Singh RK, Antani S, Thoma G, Wang YX, Lu PX, McDonald CJ. **Automatic tuberculosis screening using chest radiographs**. IEEE Trans Med Imaging. 2014 Feb;33(2):233-45. doi: 10.1109/TMI.2013.2284099. PMID: 24108713  \n",
    "\n",
    "[3] Candemir S, Jaeger S, Palaniappan K, Musco JP, Singh RK, Xue Z, Karargyris A, Antani S, Thoma G, McDonald CJ. **Lung segmentation in chest radiographs using anatomical atlases with nonrigid registration**. IEEE Trans Med Imaging. 2014 Feb;33(2):577-90. doi: 10.1109/TMI.2013.2290491. PMID: 24239990\n",
    "\n",
    "[4] Daniel S. Kermany, Michael Goldbaum, Wenjia Cai, Carolina C.S. Valentim, Huiying Liang, Sally L. Baxter, Alex McKeown, Ge Yang, Xiaokang Wu, Fangbing Yan, Justin Dong, Made K. Prasadha, Jacqueline Pei, Magdalene Y.L. Ting, Jie Zhu, Christina Li, Sierra Hewett, Jason Dong, Ian Ziyar, Alexander Shi, Runze Zhang, Lianghong Zheng, Rui Hou, William Shi, Xin Fu, Yaou Duan, Viet A.N. Huu, Cindy Wen, Edward D. Zhang, Charlotte L. Zhang, Oulan Li, Xiaobo Wang, Michael A. Singer, Xiaodong Sun, Jie Xu, Ali Tafreshi, M. Anthony Lewis, Huimin Xia, & Kang Zhang (2018). **Identifying Medical Diagnoses and Treatable Diseases by Image-Based Deep LearningCell**, 172(5), 1122-1131.e9.\n",
    "\n",
    "[5] Wang, X., Peng, Y., Lu, L., Lu, Z., Bagheri, M., & Summers, R. (2017). **ChestX-Ray8: Hospital-Scale Chest X-Ray Database and Benchmarks on Weakly-Supervised Classification and Localization of Common Thorax Diseases**, 2017 IEEE Conference on Computer Vision and Pattern Recognition (CVPR).\n",
    "\n",
    "[6] Xiaosong Wang, Yifan Peng, Le Lu, Zhiyong Lu, MohammadhadiBagheri, Ronald M. Summers. **ChestX-ray8: Hospital-scale Chest X-ray Database and Benchmarks on Weakly-Supervised Classification and Localization of Common Thorax Diseases**, IEEE CVPR, pp. 3462-3471,2017."
   ]
  }
 ],
 "metadata": {
  "kernelspec": {
   "display_name": "Python 3",
   "language": "python",
   "name": "python3"
  },
  "language_info": {
   "codemirror_mode": {
    "name": "ipython",
    "version": 3
   },
   "file_extension": ".py",
   "mimetype": "text/x-python",
   "name": "python",
   "nbconvert_exporter": "python",
   "pygments_lexer": "ipython3",
   "version": "3.8.7"
  }
 },
 "nbformat": 4,
 "nbformat_minor": 5
}
