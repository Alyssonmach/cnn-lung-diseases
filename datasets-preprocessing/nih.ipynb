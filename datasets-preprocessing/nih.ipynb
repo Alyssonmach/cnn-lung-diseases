{
 "cells": [
  {
   "cell_type": "markdown",
   "id": "separate-truth",
   "metadata": {
    "id": "arabic-appraisal"
   },
   "source": [
    "# Conjunto de Dados 4: *NIH Dataset*\n",
    "***\n",
    "* Disponível em: <https://nihcc.app.box.com/v/ChestXray-NIHCC/folder/36938765345>. Acesso em 19 fev. 2021."
   ]
  },
  {
   "cell_type": "markdown",
   "id": "special-bernard",
   "metadata": {
    "id": "stuffed-chinese"
   },
   "source": [
    "### Importação dos pacotes "
   ]
  },
  {
   "cell_type": "code",
   "execution_count": 38,
   "id": "super-packing",
   "metadata": {
    "id": "brilliant-oxide"
   },
   "outputs": [],
   "source": [
    "from keras.preprocessing.image import ImageDataGenerator\n",
    "from sklearn.utils import class_weight\n",
    "import numpy as np\n",
    "import urllib.request\n",
    "path = 'https://raw.githubusercontent.com/Alyssonmach/cnn-lung-diseases/main/assets/cxr8_dados.py'\n",
    "file_path = 'cxr8_dados.py'\n",
    "urllib.request.urlretrieve(path, file_path)\n",
    "from cxr8_dados import data_download, organize_csv, download_images, train_validation_test_split \n",
    "import glob\n",
    "import time\n",
    "\n",
    "import warnings\n",
    "warnings.filterwarnings(\"ignore\")"
   ]
  },
  {
   "cell_type": "markdown",
   "id": "sudden-tourist",
   "metadata": {
    "id": "toxic-ballot"
   },
   "source": [
    "### Pré-processamento dos dados"
   ]
  },
  {
   "cell_type": "code",
   "execution_count": null,
   "id": "b33ed59f",
   "metadata": {},
   "outputs": [],
   "source": [
    "def organize_csv(file_name):\n",
    "    '''\n",
    "    organizando os dados de arquivo csv\n",
    "\n",
    "    Args:\n",
    "        file_name (list) --> lista com os arquivos de imagens\n",
    "    \n",
    "    Returns:\n",
    "        dataframe (pandas) --> dataframe do pandas das imagens com suas rotulações\n",
    "        lenght_normal (int) --> quantidade de imagens com rotulações normais\n",
    "        lenght_abnormal (int) --> quantidade de imagens com rotulações anormais\n",
    "    '''\n",
    "    \n",
    "    dataframe = pd.read_csv(file_name)\n",
    "    dataframe = dataframe.rename(columns = {'Finding Labels': 'finding_labels'})\n",
    "    dataframe = dataframe.drop(columns = ['Follow-up #', 'Patient Age', 'Patient Gender', 'View Position',\n",
    "                                          'OriginalImage[Width', 'Height]', 'OriginalImagePixelSpacing[x', 'y]',\n",
    "                                          'Patient ID']) \n",
    "  \n",
    "    dataframe = dataframe[(dataframe.finding_labels == 'No Finding') | (dataframe.finding_labels == 'Atelectasis') |\n",
    "                          (dataframe.finding_labels == 'Consolidation') | (dataframe.finding_labels == 'Edema') |\n",
    "                          (dataframe.finding_labels == 'Effusion') | (dataframe.finding_labels == 'Emphysema') |\n",
    "                          (dataframe.finding_labels == 'Fibrosis') | (dataframe.finding_labels == 'Infiltration') |\n",
    "                          (dataframe.finding_labels == 'Nodule') | (dataframe.finding_labels == 'Pleural_Thickening') |\n",
    "                          (dataframe.finding_labels == 'Pneumonia') | (dataframe.finding_labels == 'Pneumothorax')]\n",
    " \n",
    "    abnormal = list(dataframe[(dataframe.finding_labels == 'Atelectasis') |\n",
    "                              (dataframe.finding_labels == 'Consolidation') |\n",
    "                              (dataframe.finding_labels == 'Edema') |\n",
    "                              (dataframe.finding_labels == 'Effusion') |\n",
    "                              (dataframe.finding_labels == 'Emphysema') |\n",
    "                              (dataframe.finding_labels == 'Fibrosis') |\n",
    "                              (dataframe.finding_labels == 'Infiltration') |\n",
    "                              (dataframe.finding_labels == 'Nodule') |\n",
    "                              (dataframe.finding_labels == 'Pleural_Thickening') |\n",
    "                              (dataframe.finding_labels == 'Pneumonia') |\n",
    "                              (dataframe.finding_labels == 'Pneumothorax')].index)\n",
    "  \n",
    "    normal = list(dataframe[(dataframe.finding_labels == 'No Finding')].index) \n",
    "    abnormal = dataframe.loc[abnormal, :]\n",
    "    abnormal['labels'] = 1\n",
    "    normal = dataframe.loc[normal, :]\n",
    "    normal['labels'] = 0\n",
    "    dataframe = pd.concat([normal, abnormal])\n",
    "    dataframe = dataframe.sample(frac = 1, axis = 0, random_state = 42).reset_index(drop = True)\n",
    "\n",
    "    return dataframe, (len(normal), len(abnormal))"
   ]
  },
  {
   "cell_type": "code",
   "execution_count": null,
   "id": "2c05beb1",
   "metadata": {},
   "outputs": [],
   "source": [
    "def train_validation_test_split(dataframe):\n",
    "    '''\n",
    "    particionando os dados em treinamento, validação e teste\n",
    "\n",
    "    Args:\n",
    "        dataframe (pandas) --> dataset de análise\n",
    "    \n",
    "    Returns:\n",
    "        train_df (pandas) --> dataframe com os dados de treinamento\n",
    "        validation_df (pandas) --> dataframe com os dados de validação\n",
    "        test_df (pandas) --> dataframe com os dados de teste\n",
    "    '''\n",
    "      \n",
    "    train_df, test_df = train_test_split(dataframe, test_size = 0.04, stratify = dataframe['labels'], random_state = 42)\n",
    "    train_df, validation_df = train_test_split(train_df, test_size = 0.02, stratify = train_df['labels'], \n",
    "                                               random_state = 42)\n",
    "    \n",
    "    return train_df, validation_df, test_df "
   ]
  },
  {
   "cell_type": "code",
   "execution_count": 5,
   "id": "handmade-raleigh",
   "metadata": {
    "colab": {
     "base_uri": "https://localhost:8080/"
    },
    "id": "Yq4fZfSS96XR",
    "outputId": "0bd89f62-6747-4eb3-e3ed-e6c5e1a934b0"
   },
   "outputs": [
    {
     "data": {
      "text/plain": [
       "No Finding            60361\n",
       "Infiltration           9547\n",
       "Atelectasis            4215\n",
       "Effusion               3955\n",
       "Nodule                 2705\n",
       "Pneumothorax           2194\n",
       "Consolidation          1310\n",
       "Pleural_Thickening     1126\n",
       "Emphysema               892\n",
       "Fibrosis                727\n",
       "Edema                   628\n",
       "Pneumonia               322\n",
       "Name: finding_labels, dtype: int64"
      ]
     },
     "execution_count": 5,
     "metadata": {},
     "output_type": "execute_result"
    }
   ],
   "source": [
    "IMAGE_DIR = ['../0-datasets/nih/arquivos-descompactados/file01/images/',\n",
    "             '../0-datasets/nih/arquivos-descompactados/file02/images/',\n",
    "             '../0-datasets/nih/arquivos-descompactados/file03/images/']\n",
    "dataframe, (normal, anormal) = organize_csv('nih-dataframe.csv')\n",
    "dataframe['finding_labels'].value_counts()"
   ]
  },
  {
   "cell_type": "code",
   "execution_count": 6,
   "id": "about-trustee",
   "metadata": {
    "colab": {
     "base_uri": "https://localhost:8080/"
    },
    "id": "molecular-trick",
    "outputId": "b804d1b2-e6d2-40d2-9c0e-35607437a335"
   },
   "outputs": [
    {
     "name": "stdout",
     "output_type": "stream",
     "text": [
      "        Image Index finding_labels  labels\n",
      "0  00011895_001.png     No Finding       0\n",
      "1  00015384_004.png     No Finding       0\n",
      "2  00028131_011.png     No Finding       0\n",
      "3  00028792_001.png   Infiltration       1\n",
      "4  00010716_000.png     No Finding       0\n",
      "dataframe shape: (87982, 3)\n"
     ]
    }
   ],
   "source": [
    "print(dataframe.head())\n",
    "print('dataframe shape:', dataframe.shape)"
   ]
  },
  {
   "cell_type": "code",
   "execution_count": 8,
   "id": "permanent-hearing",
   "metadata": {
    "colab": {
     "base_uri": "https://localhost:8080/"
    },
    "id": "informational-rhythm",
    "outputId": "617d8093-eb45-4ef2-af15-99469b209d55"
   },
   "outputs": [
    {
     "name": "stdout",
     "output_type": "stream",
     "text": [
      "            Image Index finding_labels  labels\n",
      "55527  00012919_007.png     No Finding       0\n",
      "74217  00027706_024.png     No Finding       0\n",
      "52448  00008850_010.png  Consolidation       1\n",
      "77009  00022899_003.png    Atelectasis       1\n",
      "25183  00007009_006.png     No Finding       0\n",
      "train_df shape: (82772, 3)\n"
     ]
    }
   ],
   "source": [
    "train_df, validation_df, test_df = train_validation_test_split(dataframe)\n",
    "print(train_df.head())\n",
    "print('train_df shape:', train_df.shape)"
   ]
  },
  {
   "cell_type": "code",
   "execution_count": 9,
   "id": "exciting-chapel",
   "metadata": {
    "colab": {
     "base_uri": "https://localhost:8080/"
    },
    "id": "prospective-mailing",
    "outputId": "d81d4898-d339-419d-a645-fd7cfb0a60b2"
   },
   "outputs": [
    {
     "name": "stdout",
     "output_type": "stream",
     "text": [
      "            Image Index finding_labels  labels\n",
      "17330  00007233_003.png     No Finding       0\n",
      "29556  00013531_017.png     No Finding       0\n",
      "54182  00006793_000.png     No Finding       0\n",
      "83937  00005673_000.png     No Finding       0\n",
      "47689  00027492_002.png     No Finding       0\n",
      "validation_df shape: (1690, 3)\n"
     ]
    }
   ],
   "source": [
    "print(validation_df.head())\n",
    "print('validation_df shape:', validation_df.shape)"
   ]
  },
  {
   "cell_type": "code",
   "execution_count": 10,
   "id": "south-above",
   "metadata": {
    "colab": {
     "base_uri": "https://localhost:8080/"
    },
    "id": "applied-progress",
    "outputId": "bc11acc5-78f2-466a-ee83-ac86c44a4904"
   },
   "outputs": [
    {
     "name": "stdout",
     "output_type": "stream",
     "text": [
      "            Image Index finding_labels  labels\n",
      "8926   00014125_022.png     No Finding       0\n",
      "53413  00011950_004.png     No Finding       0\n",
      "25438  00016836_000.png     No Finding       0\n",
      "54890  00021866_001.png     No Finding       0\n",
      "38688  00029821_017.png     No Finding       0\n",
      "validation_df shape: (3520, 3)\n"
     ]
    }
   ],
   "source": [
    "print(test_df.head())\n",
    "print('validation_df shape:', test_df.shape)"
   ]
  },
  {
   "cell_type": "markdown",
   "id": "compact-jenny",
   "metadata": {
    "id": "absolute-rogers"
   },
   "source": [
    "### Gerados de Dados para a rede pelo Tensorflow"
   ]
  },
  {
   "cell_type": "code",
   "execution_count": 21,
   "id": "powered-twins",
   "metadata": {
    "id": "curSC-HwT-61"
   },
   "outputs": [],
   "source": [
    "def find_files():\n",
    "  '''\n",
    "  função que retorna uma lista de arquivos do conjunto de imagens NIH\n",
    "\n",
    "  Returns:\n",
    "    files (list) --> lista de arquivos do conjunto de imagens NIH\n",
    "  '''\n",
    "\n",
    "  files = list()\n",
    "  for index in range(1, 13):\n",
    "    files.append(glob.glob('../0-datasets/nih/arquivos-descompactados/file' + index + '/images/*.PNG'))\n",
    "  \n",
    "  return files"
   ]
  },
  {
   "cell_type": "code",
   "execution_count": null,
   "id": "e237c63c",
   "metadata": {},
   "outputs": [],
   "source": [
    "def replace_file(dataframe, new_file, image):\n",
    "  '''\n",
    "  renomeia itens do dataset NIH\n",
    "\n",
    "  Args:\n",
    "    dataframe (pandas) --> dataframe do pandas do conjunto de imagens\n",
    "    new_file (str) --> nome do novo arquivo a ser renomeado no dataframe\n",
    "    image (str) --> localização da imagem de análise\n",
    "  '''\n",
    "\n",
    "  index = int(dataframe[dataframe['Image Index'] == image].index.values)\n",
    "  dataframe['Image Index'][index] = new_file\n",
    "\n",
    "  return None"
   ]
  },
  {
   "cell_type": "code",
   "execution_count": 23,
   "id": "frank-avenue",
   "metadata": {
    "id": "XqIS1xsxNuaa"
   },
   "outputs": [],
   "source": [
    "files, result = find_files(), ''\n",
    "\n",
    "for image in train_df['Image Index']:\n",
    "  for file_ in files:\n",
    "    result = file_.find(image)\n",
    "    if result > 0:\n",
    "      replace_file(dataframe = train_df, new_file = file_, image = image)\n",
    "\n",
    "for image in validation_df['Image Index']:\n",
    "  for file_ in files:\n",
    "    result = file_.find(image)\n",
    "    if result > 0:\n",
    "      replace_file(dataframe = validation_df, new_file = file_, image = image)\n",
    "  \n",
    "for image in test_df['Image Index']:\n",
    "  for file_ in files:\n",
    "    result = file_.find(image)\n",
    "    if result > 0:\n",
    "      replace_file(dataframe = test_df, new_file = file_, image = image)"
   ]
  },
  {
   "cell_type": "code",
   "execution_count": 44,
   "id": "e86ac57c-8a1e-4905-bce6-d5766de15952",
   "metadata": {},
   "outputs": [
    {
     "data": {
      "text/html": [
       "<div>\n",
       "<style scoped>\n",
       "    .dataframe tbody tr th:only-of-type {\n",
       "        vertical-align: middle;\n",
       "    }\n",
       "\n",
       "    .dataframe tbody tr th {\n",
       "        vertical-align: top;\n",
       "    }\n",
       "\n",
       "    .dataframe thead th {\n",
       "        text-align: right;\n",
       "    }\n",
       "</style>\n",
       "<table border=\"1\" class=\"dataframe\">\n",
       "  <thead>\n",
       "    <tr style=\"text-align: right;\">\n",
       "      <th></th>\n",
       "      <th>Image Index</th>\n",
       "      <th>finding_labels</th>\n",
       "      <th>labels</th>\n",
       "    </tr>\n",
       "  </thead>\n",
       "  <tbody>\n",
       "    <tr>\n",
       "      <th>55527</th>\n",
       "      <td>../0-datasets/nih/arquivos-descompactados/file...</td>\n",
       "      <td>No Finding</td>\n",
       "      <td>normal</td>\n",
       "    </tr>\n",
       "    <tr>\n",
       "      <th>74217</th>\n",
       "      <td>../0-datasets/nih/arquivos-descompactados/file...</td>\n",
       "      <td>No Finding</td>\n",
       "      <td>normal</td>\n",
       "    </tr>\n",
       "    <tr>\n",
       "      <th>52448</th>\n",
       "      <td>../0-datasets/nih/arquivos-descompactados/file...</td>\n",
       "      <td>Consolidation</td>\n",
       "      <td>abnormal</td>\n",
       "    </tr>\n",
       "    <tr>\n",
       "      <th>77009</th>\n",
       "      <td>../0-datasets/nih/arquivos-descompactados/file...</td>\n",
       "      <td>Atelectasis</td>\n",
       "      <td>abnormal</td>\n",
       "    </tr>\n",
       "    <tr>\n",
       "      <th>25183</th>\n",
       "      <td>../0-datasets/nih/arquivos-descompactados/file...</td>\n",
       "      <td>No Finding</td>\n",
       "      <td>normal</td>\n",
       "    </tr>\n",
       "  </tbody>\n",
       "</table>\n",
       "</div>"
      ],
      "text/plain": [
       "                                             Image Index finding_labels  \\\n",
       "55527  ../0-datasets/nih/arquivos-descompactados/file...     No Finding   \n",
       "74217  ../0-datasets/nih/arquivos-descompactados/file...     No Finding   \n",
       "52448  ../0-datasets/nih/arquivos-descompactados/file...  Consolidation   \n",
       "77009  ../0-datasets/nih/arquivos-descompactados/file...    Atelectasis   \n",
       "25183  ../0-datasets/nih/arquivos-descompactados/file...     No Finding   \n",
       "\n",
       "         labels  \n",
       "55527    normal  \n",
       "74217    normal  \n",
       "52448  abnormal  \n",
       "77009  abnormal  \n",
       "25183    normal  "
      ]
     },
     "execution_count": 44,
     "metadata": {},
     "output_type": "execute_result"
    }
   ],
   "source": [
    "train_df.loc[train_df.labels == 1, 'labels'] = 'abnormal'\n",
    "train_df.loc[train_df.labels == 0, 'labels'] = 'normal'\n",
    "\n",
    "validation_df.loc[validation_df.labels == 1, 'labels'] = 'abnormal'\n",
    "validation_df.loc[validation_df.labels == 0, 'labels'] = 'normal'\n",
    "\n",
    "test_df.loc[test_df.labels == 1, 'labels'] = 'abnormal'\n",
    "test_df.loc[test_df.labels == 0, 'labels'] = 'normal'\n",
    "\n",
    "train_df.head()"
   ]
  },
  {
   "cell_type": "code",
   "execution_count": null,
   "id": "8a905271",
   "metadata": {},
   "outputs": [],
   "source": [
    "train_df.to_csv('train_df.csv')\n",
    "validation_df.to_csv('validation_df.csv')\n",
    "test_df.to_csv('test_df.csv')"
   ]
  },
  {
   "cell_type": "code",
   "execution_count": 34,
   "id": "05623f79-ae88-411c-a954-784cbbd9d031",
   "metadata": {},
   "outputs": [
    {
     "name": "stdout",
     "output_type": "stream",
     "text": [
      "No Finding            56787\n",
      "Infiltration           8982\n",
      "Atelectasis            3974\n",
      "Effusion               3746\n",
      "Nodule                 2533\n",
      "Pneumothorax           2058\n",
      "Consolidation          1235\n",
      "Pleural_Thickening     1044\n",
      "Emphysema               841\n",
      "Fibrosis                684\n",
      "Edema                   587\n",
      "Pneumonia               301\n",
      "Name: finding_labels, dtype: int64\n",
      "\n",
      "Quantidade de exemplos disponíveis: 82772 imagens\n"
     ]
    }
   ],
   "source": [
    "print(train_df['finding_labels'].value_counts())\n",
    "print('\\nQuantidade de exemplos disponíveis: {} imagens'.format(len(train_df)))"
   ]
  },
  {
   "cell_type": "code",
   "execution_count": 33,
   "id": "24bdc0f3-de7c-4bc4-8800-f8fe6160da8c",
   "metadata": {},
   "outputs": [
    {
     "name": "stdout",
     "output_type": "stream",
     "text": [
      "No Finding            1159\n",
      "Infiltration           182\n",
      "Atelectasis             85\n",
      "Effusion                61\n",
      "Nodule                  55\n",
      "Pneumothorax            39\n",
      "Consolidation           32\n",
      "Pleural_Thickening      26\n",
      "Edema                   20\n",
      "Emphysema               17\n",
      "Fibrosis                10\n",
      "Pneumonia                4\n",
      "Name: finding_labels, dtype: int64\n",
      "\n",
      "Quantidade de exemplos disponíveis: 1690 imagens\n"
     ]
    }
   ],
   "source": [
    "print(validation_df['finding_labels'].value_counts())\n",
    "print('\\nQuantidade de exemplos disponíveis: {} imagens'.format(len(validation_df)))"
   ]
  },
  {
   "cell_type": "code",
   "execution_count": 31,
   "id": "d7ca8258-60b2-493a-88a3-aac55cafeb14",
   "metadata": {},
   "outputs": [
    {
     "name": "stdout",
     "output_type": "stream",
     "text": [
      "No Finding            2415\n",
      "Infiltration           383\n",
      "Atelectasis            156\n",
      "Effusion               148\n",
      "Nodule                 117\n",
      "Pneumothorax            97\n",
      "Pleural_Thickening      56\n",
      "Consolidation           43\n",
      "Emphysema               34\n",
      "Fibrosis                33\n",
      "Edema                   21\n",
      "Pneumonia               17\n",
      "Name: finding_labels, dtype: int64\n",
      "\n",
      "Quantidade de exemplos disponíveis: 3520 imagens\n"
     ]
    }
   ],
   "source": [
    "print(test_df['finding_labels'].value_counts())\n",
    "print('\\nQuantidade de exemplos disponíveis: {} imagens'.format(len(test_df)))"
   ]
  },
  {
   "cell_type": "code",
   "execution_count": 39,
   "id": "76836002-8209-438e-bdf2-2103ba7d4bdf",
   "metadata": {},
   "outputs": [],
   "source": [
    "class_weights = class_weight.compute_class_weight('balanced', np.unique(train_df['finding_labels']),\n",
    "                                                  train_df['finding_labels'])\n",
    "class_weight = {0: class_weights[0], 1: class_weights[1], 2: class_weights[2], \n",
    "                3: class_weights[3], 4: class_weights[4], 5: class_weights[5],\n",
    "                6: class_weights[6], 7: class_weights[7], 8: class_weights[8],\n",
    "                9: class_weights[9], 10: class_weights[10], 11: class_weights[11]}"
   ]
  },
  {
   "cell_type": "markdown",
   "id": "descending-musician",
   "metadata": {
    "id": "vulnerable-breach"
   },
   "source": [
    "### Testando com o gerador de dados do Keras"
   ]
  },
  {
   "cell_type": "code",
   "execution_count": 28,
   "id": "swiss-security",
   "metadata": {
    "colab": {
     "base_uri": "https://localhost:8080/"
    },
    "id": "medical-assurance",
    "outputId": "7bad5ac3-1114-4cd8-e2ab-0c8596f96701"
   },
   "outputs": [
    {
     "name": "stdout",
     "output_type": "stream",
     "text": [
      "Found 82772 validated image filenames belonging to 12 classes.\n",
      "Found 1690 validated image filenames belonging to 12 classes.\n",
      "Found 3520 validated image filenames belonging to 12 classes.\n"
     ]
    }
   ],
   "source": [
    "image_generator = ImageDataGenerator(rescale = 1./255., rotation_range = 10, zoom_range = 0.2)\n",
    " \n",
    "train_generator = image_generator.flow_from_dataframe(dataframe = train_df, x_col = 'Image Index',\n",
    "                                                      y_col = 'finding_labels', batch_size = 256,\n",
    "                                                      seed = 42, shuffle = True, class_mode = 'categorical',\n",
    "                                                      color_mode = 'rgb', target_size = (256, 256))\n",
    "\n",
    "valid_generator = image_generator.flow_from_dataframe(dataframe = validation_df, x_col = 'Image Index',\n",
    "                                                      y_col = 'finding_labels', batch_size = 128,\n",
    "                                                      seed = 42, shuffle = True, class_mode = 'categorical',\n",
    "                                                      target_size = (256, 256))\n",
    " \n",
    "test_datagen = ImageDataGenerator(rescale = 1./255.)\n",
    "\n",
    "test_generator = test_datagen.flow_from_dataframe(dataframe = test_df, x_col = 'Image Index', y_col = 'finding_labels',\n",
    "                                                  batch_size = 128, seed = 42, shuffle = True, \n",
    "                                                  class_mode = 'categorical', target_size = (256, 256))"
   ]
  },
  {
   "cell_type": "code",
   "execution_count": 108,
   "id": "limited-preparation",
   "metadata": {
    "colab": {
     "base_uri": "https://localhost:8080/"
    },
    "id": "pSYy4TDFh6SR",
    "outputId": "e5edb8ea-3cd1-4a04-fb15-9ee21ce686e0"
   },
   "outputs": [
    {
     "data": {
      "text/plain": [
       "{'Atelectasis': 0,\n",
       " 'Consolidation': 1,\n",
       " 'Edema': 2,\n",
       " 'Effusion': 3,\n",
       " 'Emphysema': 4,\n",
       " 'Fibrosis': 5,\n",
       " 'Infiltration': 6,\n",
       " 'No Finding': 7,\n",
       " 'Nodule': 8,\n",
       " 'Pleural_Thickening': 9,\n",
       " 'Pneumonia': 10,\n",
       " 'Pneumothorax': 11}"
      ]
     },
     "execution_count": 108,
     "metadata": {
      "tags": []
     },
     "output_type": "execute_result"
    }
   ],
   "source": [
    "train_generator.class_indices"
   ]
  }
 ],
 "metadata": {
  "colab": {
   "name": "4-dataset-nih.ipynb",
   "provenance": [],
   "toc_visible": true
  },
  "kernelspec": {
   "display_name": "Python 3",
   "language": "python",
   "name": "python3"
  },
  "language_info": {
   "codemirror_mode": {
    "name": "ipython",
    "version": 3
   },
   "file_extension": ".py",
   "mimetype": "text/x-python",
   "name": "python",
   "nbconvert_exporter": "python",
   "pygments_lexer": "ipython3",
   "version": "3.8.7"
  }
 },
 "nbformat": 4,
 "nbformat_minor": 5
}
