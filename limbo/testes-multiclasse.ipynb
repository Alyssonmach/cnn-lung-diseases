{
  "nbformat": 4,
  "nbformat_minor": 5,
  "metadata": {
    "kernelspec": {
      "display_name": "Python 3",
      "language": "python",
      "name": "python3"
    },
    "language_info": {
      "codemirror_mode": {
        "name": "ipython",
        "version": 3
      },
      "file_extension": ".py",
      "mimetype": "text/x-python",
      "name": "python",
      "nbconvert_exporter": "python",
      "pygments_lexer": "ipython3",
      "version": "3.8.7"
    },
    "colab": {
      "name": "experiment5-dataset4.ipynb",
      "provenance": [],
      "toc_visible": true,
      "machine_shape": "hm"
    },
    "accelerator": "GPU"
  },
  "cells": [
    {
      "cell_type": "markdown",
      "metadata": {
        "id": "weekly-aerospace"
      },
      "source": [
        "# Experimento 5 \n",
        "***\n",
        "- Rede utilizada: Inception\n",
        "- Conjunto de Dados: VinBigData\n",
        "- Modelando uma para classificar problemas pulmonares em 11 classes distintas"
      ],
      "id": "weekly-aerospace"
    },
    {
      "cell_type": "markdown",
      "metadata": {
        "id": "current-following"
      },
      "source": [
        "### Importação dos pacotes"
      ],
      "id": "current-following"
    },
    {
      "cell_type": "code",
      "metadata": {
        "id": "meaningful-iraqi"
      },
      "source": [
        "import os\n",
        "import pandas as pd\n",
        "from sklearn.model_selection import train_test_split\n",
        "from sklearn.utils import class_weight\n",
        "from keras.preprocessing.image import ImageDataGenerator\n",
        "from sklearn.metrics import confusion_matrix, precision_recall_fscore_support, accuracy_score\n",
        "import matplotlib.pyplot as plt\n",
        "import numpy as np\n",
        "\n",
        "import tensorflow as tf\n",
        "from tensorflow.keras import layers\n",
        "from tensorflow.keras import Model\n",
        "from tensorflow.keras.applications.xception import Xception\n",
        "#from tensorflow.keras.applications.inception_v3 import InceptionV3\n",
        "from tensorflow.keras import optimizers\n",
        "from tensorflow.keras.callbacks import ModelCheckpoint, ReduceLROnPlateau\n",
        "import tensorflow as tf\n",
        "\n",
        "import warnings\n",
        "warnings.filterwarnings(\"ignore\")"
      ],
      "id": "meaningful-iraqi",
      "execution_count": 1,
      "outputs": []
    },
    {
      "cell_type": "markdown",
      "metadata": {
        "id": "banned-comfort"
      },
      "source": [
        "### Pré-processamento nos dados"
      ],
      "id": "banned-comfort"
    },
    {
      "cell_type": "code",
      "metadata": {
        "id": "heated-adult"
      },
      "source": [
        "# lendo os dados de um arquivo csv\n",
        "dataframe = pd.read_csv('/content/drive/MyDrive/vinbigdata/train.csv')\n",
        "# criando uma coluna com os caminhos relativos as imagens\n",
        "dataframe['image_path'] = '/content/drive/MyDrive/vinbigdata/train/' + dataframe.image_id + '.jpg'"
      ],
      "id": "heated-adult",
      "execution_count": 2,
      "outputs": []
    },
    {
      "cell_type": "code",
      "metadata": {
        "id": "starting-setting",
        "colab": {
          "base_uri": "https://localhost:8080/"
        },
        "outputId": "d2bc6322-548f-447b-ac0a-e4a7f9daa61a"
      },
      "source": [
        "print('total de imagens disponíveis:', str(len(set(dataframe['image_path']))))"
      ],
      "id": "starting-setting",
      "execution_count": 3,
      "outputs": [
        {
          "output_type": "stream",
          "text": [
            "total de imagens disponíveis: 15000\n"
          ],
          "name": "stdout"
        }
      ]
    },
    {
      "cell_type": "code",
      "metadata": {
        "id": "tough-newfoundland",
        "colab": {
          "base_uri": "https://localhost:8080/"
        },
        "outputId": "98bd4c00-ea42-4181-c3fe-060fa65c9e8a"
      },
      "source": [
        "# visualizando os casos disponíveis\n",
        "dataframe['class_name'].value_counts()"
      ],
      "id": "tough-newfoundland",
      "execution_count": 4,
      "outputs": [
        {
          "output_type": "execute_result",
          "data": {
            "text/plain": [
              "No finding            31818\n",
              "Aortic enlargement     7162\n",
              "Cardiomegaly           5427\n",
              "Pleural thickening     4842\n",
              "Pulmonary fibrosis     4655\n",
              "Nodule/Mass            2580\n",
              "Lung Opacity           2483\n",
              "Pleural effusion       2476\n",
              "Other lesion           2203\n",
              "Infiltration           1247\n",
              "ILD                    1000\n",
              "Calcification           960\n",
              "Consolidation           556\n",
              "Atelectasis             279\n",
              "Pneumothorax            226\n",
              "Name: class_name, dtype: int64"
            ]
          },
          "metadata": {
            "tags": []
          },
          "execution_count": 4
        }
      ]
    },
    {
      "cell_type": "code",
      "metadata": {
        "id": "intermediate-anchor"
      },
      "source": [
        "# removendo os casos não relativos a distúrbios pulmonares\n",
        "dataframe = dataframe[dataframe.class_name != 'Aortic enlargement']\n",
        "dataframe = dataframe[dataframe.class_name != 'Cardiomegaly']\n",
        "dataframe = dataframe[dataframe.class_name != 'Other lesion']"
      ],
      "id": "intermediate-anchor",
      "execution_count": 5,
      "outputs": []
    },
    {
      "cell_type": "code",
      "metadata": {
        "id": "retained-message",
        "colab": {
          "base_uri": "https://localhost:8080/"
        },
        "outputId": "692cde63-cdfc-436b-ddd4-77b6ab0e1694"
      },
      "source": [
        "# separando os casos rotulados como normais e anormais\n",
        "normal_cases = dataframe[(dataframe.class_id == 14) & (dataframe.class_name == 'No finding')]\n",
        "abnormal_cases = dataframe[(dataframe.class_id != 14) & (dataframe.class_name != 'No finding')]\n",
        "\n",
        "print('total de dados após a filtração:', str(len(set(normal_cases['image_path'])) + len(set(abnormal_cases['image_path']))))"
      ],
      "id": "retained-message",
      "execution_count": 6,
      "outputs": [
        {
          "output_type": "stream",
          "text": [
            "total de dados após a filtração: 13952\n"
          ],
          "name": "stdout"
        }
      ]
    },
    {
      "cell_type": "code",
      "metadata": {
        "id": "forty-system"
      },
      "source": [
        "# removendo as imagens repetidas\n",
        "normal_data = normal_cases[['image_path', 'class_name']].drop_duplicates(subset = 'image_path', )\n",
        "abnormal_data = abnormal_cases[['image_path', 'class_name']].drop_duplicates(subset = 'image_path', )\n",
        "\n",
        "# criando dataframes especifos com caminhos para as imagens e rótulos\n",
        "normal_data['target'] = 'normal'\n",
        "abnormal_data['target'] = 'abnormal'"
      ],
      "id": "forty-system",
      "execution_count": 7,
      "outputs": []
    },
    {
      "cell_type": "code",
      "metadata": {
        "id": "viral-conspiracy",
        "colab": {
          "base_uri": "https://localhost:8080/"
        },
        "outputId": "0bd01175-cab1-46d2-aaf2-022ea70524dc"
      },
      "source": [
        "print('quantidade de dados rotulados como normais:', len(normal_data))\n",
        "print('quantidade de dados rotulados como anormais:', len(abnormal_data))"
      ],
      "id": "viral-conspiracy",
      "execution_count": 8,
      "outputs": [
        {
          "output_type": "stream",
          "text": [
            "quantidade de dados rotulados como normais: 10606\n",
            "quantidade de dados rotulados como anormais: 3346\n"
          ],
          "name": "stdout"
        }
      ]
    },
    {
      "cell_type": "code",
      "metadata": {
        "id": "baking-shield"
      },
      "source": [
        "# removendo 69% dos casos normais para balancear os dados\n",
        "normal, _ = train_test_split(normal_data, test_size = 0.69, random_state = 42)"
      ],
      "id": "baking-shield",
      "execution_count": 9,
      "outputs": []
    },
    {
      "cell_type": "code",
      "metadata": {
        "id": "little-communications",
        "colab": {
          "base_uri": "https://localhost:8080/"
        },
        "outputId": "4191090e-2190-45c7-e8cb-377597bfa228"
      },
      "source": [
        "print('quantidade de dados rotulados como normais:', len(normal))\n",
        "print('quantidade de dados rotulados como anormais:', len(abnormal_data))"
      ],
      "id": "little-communications",
      "execution_count": 10,
      "outputs": [
        {
          "output_type": "stream",
          "text": [
            "quantidade de dados rotulados como normais: 3287\n",
            "quantidade de dados rotulados como anormais: 3346\n"
          ],
          "name": "stdout"
        }
      ]
    },
    {
      "cell_type": "code",
      "metadata": {
        "id": "flying-supervision"
      },
      "source": [
        "# concatenando os dataframes de casos normais e anormais\n",
        "full_data = abnormal_data"
      ],
      "id": "flying-supervision",
      "execution_count": 11,
      "outputs": []
    },
    {
      "cell_type": "code",
      "metadata": {
        "id": "QRS6Rb4Oj-t6",
        "colab": {
          "base_uri": "https://localhost:8080/"
        },
        "outputId": "0e0cb79b-300a-40cc-9507-cb628674b6a3"
      },
      "source": [
        "# visualizando a quantidade de exemplos por classe disponíveis\n",
        "full_data['class_name'].value_counts()"
      ],
      "id": "QRS6Rb4Oj-t6",
      "execution_count": 12,
      "outputs": [
        {
          "output_type": "execute_result",
          "data": {
            "text/plain": [
              "Pleural thickening    901\n",
              "Pulmonary fibrosis    742\n",
              "Lung Opacity          427\n",
              "Nodule/Mass           339\n",
              "Pleural effusion      328\n",
              "Calcification         167\n",
              "Infiltration          163\n",
              "ILD                   152\n",
              "Consolidation          59\n",
              "Atelectasis            41\n",
              "Pneumothorax           27\n",
              "Name: class_name, dtype: int64"
            ]
          },
          "metadata": {
            "tags": []
          },
          "execution_count": 12
        }
      ]
    },
    {
      "cell_type": "code",
      "metadata": {
        "id": "GKZYDuypT5-W"
      },
      "source": [
        "# importando os dataframes dos dados de treinamento, validação e teste\n",
        "train_df = pd.read_csv('/content/drive/MyDrive/train_df.csv', sep = ',', index_col=  0)\n",
        "validation_df = pd.read_csv('/content/drive/MyDrive/validation_df.csv', sep = ',', index_col=  0)\n",
        "test_df = pd.read_csv('/content/drive/MyDrive/test_df.csv' , sep = ',', index_col=  0)"
      ],
      "id": "GKZYDuypT5-W",
      "execution_count": 13,
      "outputs": []
    },
    {
      "cell_type": "code",
      "metadata": {
        "id": "4n3QarWhUUr9"
      },
      "source": [
        "# tornando as classes na coluna 'labels' categórica\n",
        "train_df.loc[train_df.labels == 1, 'labels'] = 'abnormal'\n",
        "train_df.loc[train_df.labels == 0, 'labels'] = 'normal'\n",
        "\n",
        "validation_df.loc[validation_df.labels == 1, 'labels'] = 'abnormal'\n",
        "validation_df.loc[validation_df.labels == 0, 'labels'] = 'normal'\n",
        "\n",
        "test_df.loc[test_df.labels == 1, 'labels'] = 'abnormal'\n",
        "test_df.loc[test_df.labels == 0, 'labels'] = 'normal'"
      ],
      "id": "4n3QarWhUUr9",
      "execution_count": 14,
      "outputs": []
    },
    {
      "cell_type": "code",
      "metadata": {
        "id": "BxIV_-VxUXdo"
      },
      "source": [
        "# separando os casos de anormalidade no dataset nih\n",
        "train_abnormal_cases = train_df[train_df.labels == 'abnormal']\n",
        "validation_abnormal_cases = validation_df[validation_df.labels == 'abnormal']\n",
        "test_abnormal_cases = test_df[test_df.labels == 'abnormal']"
      ],
      "id": "BxIV_-VxUXdo",
      "execution_count": 15,
      "outputs": []
    },
    {
      "cell_type": "code",
      "metadata": {
        "id": "1pSQO3nvUk_O"
      },
      "source": [
        "# concatenando os dados do dataset nih\n",
        "nih_data = pd.concat([train_abnormal_cases, validation_abnormal_cases,\n",
        "                      test_abnormal_cases])"
      ],
      "id": "1pSQO3nvUk_O",
      "execution_count": 16,
      "outputs": []
    },
    {
      "cell_type": "code",
      "metadata": {
        "id": "rUVi7bt1V6wO"
      },
      "source": [
        "# organizando o nome das colunas\n",
        "nih_data.rename(columns= {'Image Index': 'image_path', 'finding_labels': 'class_name',\n",
        "                          'labels': 'target'}, inplace = True)"
      ],
      "id": "rUVi7bt1V6wO",
      "execution_count": 17,
      "outputs": []
    },
    {
      "cell_type": "code",
      "metadata": {
        "id": "svw6fI2JW0ye"
      },
      "source": [
        "# concatenando os dados do vinbigdata e do nih\n",
        "full_data = pd.concat([full_data, nih_data])"
      ],
      "id": "svw6fI2JW0ye",
      "execution_count": 18,
      "outputs": []
    },
    {
      "cell_type": "code",
      "metadata": {
        "id": "cCLoX1KPXXm1"
      },
      "source": [
        "# removendo classes ineficientes para o aprendizado da rede \n",
        "full_data = full_data[(full_data.class_name != 'ILD') & (full_data.class_name != 'Calcification')]\n",
        "full_data = full_data[(full_data.class_name != 'Pneumonia') & (full_data.class_name != 'Pleural effusion')]\n",
        "full_data = full_data[(full_data.class_name != 'Nodule/Mass') & (full_data.class_name != 'Lung Opacity')]\n",
        "full_data = full_data[full_data.class_name != 'Pleural_Thickening']"
      ],
      "id": "cCLoX1KPXXm1",
      "execution_count": 19,
      "outputs": []
    },
    {
      "cell_type": "code",
      "metadata": {
        "id": "fnld5AI6Ya4d"
      },
      "source": [
        "# separando os dados de cada uma das classes\n",
        "infiltration = full_data[full_data.class_name == 'Infiltration']\n",
        "atelectasis = full_data[full_data.class_name == 'Atelectasis']\n",
        "nodule = full_data[full_data.class_name == 'Nodule']\n",
        "pneumothorax = full_data[full_data.class_name == 'Pneumothorax']\n",
        "consolidation = full_data[full_data.class_name == 'Consolidation']\n",
        "rest_abnormal_data = full_data[(full_data.class_name == 'Pleural thickening') |\n",
        "                               (full_data.class_name == 'Emphysema') |\n",
        "                               (full_data.class_name == 'Pulmonary fibrosis') |\n",
        "                               (full_data.class_name == 'Fibrosis') |\n",
        "                               (full_data.class_name == 'Edema')]"
      ],
      "id": "fnld5AI6Ya4d",
      "execution_count": 20,
      "outputs": []
    },
    {
      "cell_type": "code",
      "metadata": {
        "id": "_xYjJi_AanzW"
      },
      "source": [
        "# organizando a quantidade de dados disponíveis em cada uma das classes\n",
        "infiltration_, _ = train_test_split(infiltration, test_size = 0.99, random_state = 42)\n",
        "atelectasis_, _ = train_test_split(atelectasis, test_size = 0.977, random_state = 42)\n",
        "nodule_, _ = train_test_split(nodule, test_size = 0.964, random_state = 42)\n",
        "pneumothorax_, _ = train_test_split(pneumothorax, test_size = 0.956, random_state = 42)\n",
        "consolidation_, _ = train_test_split(consolidation, test_size = 0.929, random_state = 42)\n",
        "rest_abnormal_data_, _ = train_test_split(rest_abnormal_data, test_size = 0.88, random_state = 42, \n",
        "                                          stratify = rest_abnormal_data['class_name'])\n",
        "full_data = pd.concat([infiltration_, atelectasis_, nodule_, pneumothorax_, consolidation_, rest_abnormal_data_])"
      ],
      "id": "_xYjJi_AanzW",
      "execution_count": 21,
      "outputs": []
    },
    {
      "cell_type": "code",
      "metadata": {
        "colab": {
          "base_uri": "https://localhost:8080/"
        },
        "id": "Ejs7xDFAcNGs",
        "outputId": "6a454f14-32d7-43b7-e450-33bca79672a1"
      },
      "source": [
        "# visualizando o resultado final da quantidade de exemplos disponíveis em cada classe\n",
        "full_data['class_name'].value_counts()"
      ],
      "id": "Ejs7xDFAcNGs",
      "execution_count": 22,
      "outputs": [
        {
          "output_type": "execute_result",
          "data": {
            "text/plain": [
              "Pleural thickening    108\n",
              "Emphysema             107\n",
              "Nodule                 97\n",
              "Atelectasis            97\n",
              "Consolidation          97\n",
              "Pneumothorax           97\n",
              "Infiltration           97\n",
              "Pulmonary fibrosis     89\n",
              "Fibrosis               87\n",
              "Edema                  75\n",
              "Name: class_name, dtype: int64"
            ]
          },
          "metadata": {
            "tags": []
          },
          "execution_count": 22
        }
      ]
    },
    {
      "cell_type": "code",
      "metadata": {
        "id": "worst-management"
      },
      "source": [
        "# separando os dados de treinamento e de teste\n",
        "train_df, test_df = train_test_split(full_data, stratify = full_data['target'],\n",
        "                                     test_size = 0.15, random_state = 42)"
      ],
      "id": "worst-management",
      "execution_count": 23,
      "outputs": []
    },
    {
      "cell_type": "code",
      "metadata": {
        "id": "future-weather"
      },
      "source": [
        "# separando os dados de validação dos dados de treinamento\n",
        "train_df, validation_df = train_test_split(train_df, stratify = train_df['target'],\n",
        "                                           test_size = 0.25, random_state = 42)"
      ],
      "id": "future-weather",
      "execution_count": 24,
      "outputs": []
    },
    {
      "cell_type": "code",
      "metadata": {
        "id": "secret-session",
        "colab": {
          "base_uri": "https://localhost:8080/"
        },
        "outputId": "d1832dfc-3f37-4edb-c87f-d04cd2b6b79f"
      },
      "source": [
        "# visualizando a quantidade de dados\n",
        "print('quantidade de imagens de treinamento:', len(train_df['image_path']))\n",
        "print('quantidade de rótulos de treinamento:', len(train_df['target']))\n",
        "print('quantidade de imagens de teste:', len(test_df['image_path']))\n",
        "print('quantidade de rótulos de teste:', len(test_df['target']))\n",
        "print('quantidade de imagens de validação:', len(validation_df['image_path']))\n",
        "print('quantidade de rótulos de validação:', len(validation_df['target']))"
      ],
      "id": "secret-session",
      "execution_count": 25,
      "outputs": [
        {
          "output_type": "stream",
          "text": [
            "quantidade de imagens de treinamento: 606\n",
            "quantidade de rótulos de treinamento: 606\n",
            "quantidade de imagens de teste: 143\n",
            "quantidade de rótulos de teste: 143\n",
            "quantidade de imagens de validação: 202\n",
            "quantidade de rótulos de validação: 202\n"
          ],
          "name": "stdout"
        }
      ]
    },
    {
      "cell_type": "code",
      "metadata": {
        "id": "1f8i2GizdDEU"
      },
      "source": [
        "# organizando um dicionário para realizar o balanceamento nos dados das classes\n",
        "class_weights = class_weight.compute_class_weight('balanced', np.unique(train_df['class_name']),\n",
        "                                                  train_df['class_name'])\n",
        "class_weight = {0: class_weights[0], 1: class_weights[1], 2: class_weights[2], 3: class_weights[3],\n",
        "                4: class_weights[4], 5: class_weights[5], 6: class_weights[6], 7: class_weights[7],\n",
        "                8: class_weights[8], 9: class_weights[9]}"
      ],
      "id": "1f8i2GizdDEU",
      "execution_count": 26,
      "outputs": []
    },
    {
      "cell_type": "code",
      "metadata": {
        "id": "bulgarian-staff",
        "colab": {
          "base_uri": "https://localhost:8080/"
        },
        "outputId": "b8e237bb-9f43-4158-ad34-3393fee89e9d"
      },
      "source": [
        "# normalizando as imagens de treinamento e aplicando aumento de dados\n",
        "image_generator = ImageDataGenerator(rescale = 1./255.,\n",
        "                                     rotation_range = 10, zoom_range = 0.2)\n",
        "\n",
        "# criando o gerador de imagens de treinamento \n",
        "train_generator = image_generator.flow_from_dataframe(\n",
        "                                                      dataframe = train_df,\n",
        "                                                      directory = '',\n",
        "                                                      x_col = 'image_path',\n",
        "                                                      y_col = 'class_name',\n",
        "                                                      batch_size = 32,\n",
        "                                                      seed = 42,\n",
        "                                                      shuffle = True,\n",
        "                                                      class_mode = 'categorical',\n",
        "                                                      target_size = (512, 512))\n",
        "\n",
        "# normalizando as imagens de teste e validação\n",
        "test_datagen = ImageDataGenerator(rescale = 1./255.)\n",
        "\n",
        "# criando o gerador de imagens de validação \n",
        "valid_generator = test_datagen.flow_from_dataframe(\n",
        "                                                      dataframe = validation_df,\n",
        "                                                      directory = '.', \n",
        "                                                      x_col = 'image_path',\n",
        "                                                      y_col = 'class_name',\n",
        "                                                      batch_size = 32,\n",
        "                                                      seed = 42,\n",
        "                                                      shuffle = True,\n",
        "                                                      class_mode = 'categorical',\n",
        "                                                      target_size = (512, 512))\n",
        "\n",
        "test_generator = test_datagen.flow_from_dataframe(\n",
        "                                                  dataframe = test_df, \n",
        "                                                  directory = '.',\n",
        "                                                  x_col = 'image_path',\n",
        "                                                  y_col = 'class_name',\n",
        "                                                  batch_size = 32,\n",
        "                                                  seed = 42,\n",
        "                                                  shuffle = True,\n",
        "                                                  class_mode = 'categorical',\n",
        "                                                  target_size = (512, 512))"
      ],
      "id": "bulgarian-staff",
      "execution_count": 27,
      "outputs": [
        {
          "output_type": "stream",
          "text": [
            "Found 606 validated image filenames belonging to 10 classes.\n",
            "Found 202 validated image filenames belonging to 10 classes.\n",
            "Found 143 validated image filenames belonging to 10 classes.\n"
          ],
          "name": "stdout"
        }
      ]
    },
    {
      "cell_type": "markdown",
      "metadata": {
        "id": "rolled-luxury"
      },
      "source": [
        "### Preparando a rede neural convolucional"
      ],
      "id": "rolled-luxury"
    },
    {
      "cell_type": "code",
      "metadata": {
        "id": "vEjKBnM-DfVb"
      },
      "source": [
        "# realizando transferência de aprendizado com a mobile net\n",
        "model = Xception(input_shape = (512, 512, 3), include_top = False, weights = 'imagenet')"
      ],
      "id": "vEjKBnM-DfVb",
      "execution_count": 28,
      "outputs": []
    },
    {
      "cell_type": "code",
      "metadata": {
        "id": "g1V-vMWlE8UM"
      },
      "source": [
        "# obtendo a última camada como sendo a nomeada por 'mixed7'\n",
        "last_layer = model.get_layer('block14_sepconv2_act')\n",
        "last_output = last_layer.output\n",
        "#x = layers.GlobalAveragePooling2D()(last_output)\n",
        "# conectando a rede uma camada de achatamento\n",
        "x = layers.Flatten()(last_output)\n",
        "# conectando a rede uma camada com 1024 neurônios e função de ativação relu\n",
        "x = layers.Dense(units = 512, activation = tf.nn.relu)(x)\n",
        "# aplicando uma camada de dropout com uma taxa de 20% (normalização)\n",
        "x = layers.Dropout(rate = 0.2)(x) \n",
        "# adicionando uma camada de saída com um neurônio e uma função de ativação sigmoide\n",
        "x = layers.Dense(units = 10, activation = tf.nn.softmax)(x)      \n",
        "# conecatando as camadas definidas acima com a arquitetura inception\n",
        "model = Model(model.input, x) \n",
        "# compilando a rede \n",
        "model.compile(optimizer = optimizers.RMSprop(learning_rate = 0.0001), loss = 'categorical_crossentropy', \n",
        "              metrics = ['acc'])"
      ],
      "id": "g1V-vMWlE8UM",
      "execution_count": 29,
      "outputs": []
    },
    {
      "cell_type": "code",
      "metadata": {
        "id": "engaged-culture"
      },
      "source": [
        "# definindo o caminho pelo qual os pesos serão armazenados \n",
        "filepath = \"transferlearning_weights.hdf5\"\n",
        "# callback para salvar o melhor valor dos pesos em relação ao desempenho com os dados de validação \n",
        "checkpoint = ModelCheckpoint(filepath, monitor = 'val_acc', verbose = 1, save_best_only = True, mode = 'max')\n",
        "# definindo um array de callbacks\n",
        "callbacks = [checkpoint]"
      ],
      "id": "engaged-culture",
      "execution_count": 30,
      "outputs": []
    },
    {
      "cell_type": "code",
      "metadata": {
        "id": "mighty-manufacturer",
        "colab": {
          "base_uri": "https://localhost:8080/",
          "height": 511
        },
        "outputId": "2f7103fd-3108-45d9-9a6c-98aba0c4ae24"
      },
      "source": [
        "# treinando a rede neural convolucional\n",
        "history = model.fit_generator(train_generator, steps_per_epoch = 606 // 32, \n",
        "                              validation_data = valid_generator, validation_steps = 202 // 32,\n",
        "                              callbacks = callbacks, epochs = 10, class_weight = class_weight)"
      ],
      "id": "mighty-manufacturer",
      "execution_count": 31,
      "outputs": [
        {
          "output_type": "stream",
          "text": [
            "Epoch 1/10\n"
          ],
          "name": "stdout"
        },
        {
          "output_type": "error",
          "ename": "ResourceExhaustedError",
          "evalue": "ignored",
          "traceback": [
            "\u001b[0;31m---------------------------------------------------------------------------\u001b[0m",
            "\u001b[0;31mResourceExhaustedError\u001b[0m                    Traceback (most recent call last)",
            "\u001b[0;32m<ipython-input-31-d82ef65fade9>\u001b[0m in \u001b[0;36m<module>\u001b[0;34m()\u001b[0m\n\u001b[1;32m      2\u001b[0m history = model.fit_generator(train_generator, steps_per_epoch = 606 // 32, \n\u001b[1;32m      3\u001b[0m                               \u001b[0mvalidation_data\u001b[0m \u001b[0;34m=\u001b[0m \u001b[0mvalid_generator\u001b[0m\u001b[0;34m,\u001b[0m \u001b[0mvalidation_steps\u001b[0m \u001b[0;34m=\u001b[0m \u001b[0;36m202\u001b[0m \u001b[0;34m//\u001b[0m \u001b[0;36m32\u001b[0m\u001b[0;34m,\u001b[0m\u001b[0;34m\u001b[0m\u001b[0;34m\u001b[0m\u001b[0m\n\u001b[0;32m----> 4\u001b[0;31m                               callbacks = callbacks, epochs = 10, class_weight = class_weight)\n\u001b[0m",
            "\u001b[0;32m/usr/local/lib/python3.7/dist-packages/tensorflow/python/keras/engine/training.py\u001b[0m in \u001b[0;36mfit_generator\u001b[0;34m(self, generator, steps_per_epoch, epochs, verbose, callbacks, validation_data, validation_steps, validation_freq, class_weight, max_queue_size, workers, use_multiprocessing, shuffle, initial_epoch)\u001b[0m\n\u001b[1;32m   1859\u001b[0m         \u001b[0muse_multiprocessing\u001b[0m\u001b[0;34m=\u001b[0m\u001b[0muse_multiprocessing\u001b[0m\u001b[0;34m,\u001b[0m\u001b[0;34m\u001b[0m\u001b[0;34m\u001b[0m\u001b[0m\n\u001b[1;32m   1860\u001b[0m         \u001b[0mshuffle\u001b[0m\u001b[0;34m=\u001b[0m\u001b[0mshuffle\u001b[0m\u001b[0;34m,\u001b[0m\u001b[0;34m\u001b[0m\u001b[0;34m\u001b[0m\u001b[0m\n\u001b[0;32m-> 1861\u001b[0;31m         initial_epoch=initial_epoch)\n\u001b[0m\u001b[1;32m   1862\u001b[0m \u001b[0;34m\u001b[0m\u001b[0m\n\u001b[1;32m   1863\u001b[0m   def evaluate_generator(self,\n",
            "\u001b[0;32m/usr/local/lib/python3.7/dist-packages/tensorflow/python/keras/engine/training.py\u001b[0m in \u001b[0;36mfit\u001b[0;34m(self, x, y, batch_size, epochs, verbose, callbacks, validation_split, validation_data, shuffle, class_weight, sample_weight, initial_epoch, steps_per_epoch, validation_steps, validation_batch_size, validation_freq, max_queue_size, workers, use_multiprocessing)\u001b[0m\n\u001b[1;32m   1098\u001b[0m                 _r=1):\n\u001b[1;32m   1099\u001b[0m               \u001b[0mcallbacks\u001b[0m\u001b[0;34m.\u001b[0m\u001b[0mon_train_batch_begin\u001b[0m\u001b[0;34m(\u001b[0m\u001b[0mstep\u001b[0m\u001b[0;34m)\u001b[0m\u001b[0;34m\u001b[0m\u001b[0;34m\u001b[0m\u001b[0m\n\u001b[0;32m-> 1100\u001b[0;31m               \u001b[0mtmp_logs\u001b[0m \u001b[0;34m=\u001b[0m \u001b[0mself\u001b[0m\u001b[0;34m.\u001b[0m\u001b[0mtrain_function\u001b[0m\u001b[0;34m(\u001b[0m\u001b[0miterator\u001b[0m\u001b[0;34m)\u001b[0m\u001b[0;34m\u001b[0m\u001b[0;34m\u001b[0m\u001b[0m\n\u001b[0m\u001b[1;32m   1101\u001b[0m               \u001b[0;32mif\u001b[0m \u001b[0mdata_handler\u001b[0m\u001b[0;34m.\u001b[0m\u001b[0mshould_sync\u001b[0m\u001b[0;34m:\u001b[0m\u001b[0;34m\u001b[0m\u001b[0;34m\u001b[0m\u001b[0m\n\u001b[1;32m   1102\u001b[0m                 \u001b[0mcontext\u001b[0m\u001b[0;34m.\u001b[0m\u001b[0masync_wait\u001b[0m\u001b[0;34m(\u001b[0m\u001b[0;34m)\u001b[0m\u001b[0;34m\u001b[0m\u001b[0;34m\u001b[0m\u001b[0m\n",
            "\u001b[0;32m/usr/local/lib/python3.7/dist-packages/tensorflow/python/eager/def_function.py\u001b[0m in \u001b[0;36m__call__\u001b[0;34m(self, *args, **kwds)\u001b[0m\n\u001b[1;32m    826\u001b[0m     \u001b[0mtracing_count\u001b[0m \u001b[0;34m=\u001b[0m \u001b[0mself\u001b[0m\u001b[0;34m.\u001b[0m\u001b[0mexperimental_get_tracing_count\u001b[0m\u001b[0;34m(\u001b[0m\u001b[0;34m)\u001b[0m\u001b[0;34m\u001b[0m\u001b[0;34m\u001b[0m\u001b[0m\n\u001b[1;32m    827\u001b[0m     \u001b[0;32mwith\u001b[0m \u001b[0mtrace\u001b[0m\u001b[0;34m.\u001b[0m\u001b[0mTrace\u001b[0m\u001b[0;34m(\u001b[0m\u001b[0mself\u001b[0m\u001b[0;34m.\u001b[0m\u001b[0m_name\u001b[0m\u001b[0;34m)\u001b[0m \u001b[0;32mas\u001b[0m \u001b[0mtm\u001b[0m\u001b[0;34m:\u001b[0m\u001b[0;34m\u001b[0m\u001b[0;34m\u001b[0m\u001b[0m\n\u001b[0;32m--> 828\u001b[0;31m       \u001b[0mresult\u001b[0m \u001b[0;34m=\u001b[0m \u001b[0mself\u001b[0m\u001b[0;34m.\u001b[0m\u001b[0m_call\u001b[0m\u001b[0;34m(\u001b[0m\u001b[0;34m*\u001b[0m\u001b[0margs\u001b[0m\u001b[0;34m,\u001b[0m \u001b[0;34m**\u001b[0m\u001b[0mkwds\u001b[0m\u001b[0;34m)\u001b[0m\u001b[0;34m\u001b[0m\u001b[0;34m\u001b[0m\u001b[0m\n\u001b[0m\u001b[1;32m    829\u001b[0m       \u001b[0mcompiler\u001b[0m \u001b[0;34m=\u001b[0m \u001b[0;34m\"xla\"\u001b[0m \u001b[0;32mif\u001b[0m \u001b[0mself\u001b[0m\u001b[0;34m.\u001b[0m\u001b[0m_experimental_compile\u001b[0m \u001b[0;32melse\u001b[0m \u001b[0;34m\"nonXla\"\u001b[0m\u001b[0;34m\u001b[0m\u001b[0;34m\u001b[0m\u001b[0m\n\u001b[1;32m    830\u001b[0m       \u001b[0mnew_tracing_count\u001b[0m \u001b[0;34m=\u001b[0m \u001b[0mself\u001b[0m\u001b[0;34m.\u001b[0m\u001b[0mexperimental_get_tracing_count\u001b[0m\u001b[0;34m(\u001b[0m\u001b[0;34m)\u001b[0m\u001b[0;34m\u001b[0m\u001b[0;34m\u001b[0m\u001b[0m\n",
            "\u001b[0;32m/usr/local/lib/python3.7/dist-packages/tensorflow/python/eager/def_function.py\u001b[0m in \u001b[0;36m_call\u001b[0;34m(self, *args, **kwds)\u001b[0m\n\u001b[1;32m    886\u001b[0m         \u001b[0;31m# Lifting succeeded, so variables are initialized and we can run the\u001b[0m\u001b[0;34m\u001b[0m\u001b[0;34m\u001b[0m\u001b[0;34m\u001b[0m\u001b[0m\n\u001b[1;32m    887\u001b[0m         \u001b[0;31m# stateless function.\u001b[0m\u001b[0;34m\u001b[0m\u001b[0;34m\u001b[0m\u001b[0;34m\u001b[0m\u001b[0m\n\u001b[0;32m--> 888\u001b[0;31m         \u001b[0;32mreturn\u001b[0m \u001b[0mself\u001b[0m\u001b[0;34m.\u001b[0m\u001b[0m_stateless_fn\u001b[0m\u001b[0;34m(\u001b[0m\u001b[0;34m*\u001b[0m\u001b[0margs\u001b[0m\u001b[0;34m,\u001b[0m \u001b[0;34m**\u001b[0m\u001b[0mkwds\u001b[0m\u001b[0;34m)\u001b[0m\u001b[0;34m\u001b[0m\u001b[0;34m\u001b[0m\u001b[0m\n\u001b[0m\u001b[1;32m    889\u001b[0m     \u001b[0;32melse\u001b[0m\u001b[0;34m:\u001b[0m\u001b[0;34m\u001b[0m\u001b[0;34m\u001b[0m\u001b[0m\n\u001b[1;32m    890\u001b[0m       \u001b[0m_\u001b[0m\u001b[0;34m,\u001b[0m \u001b[0m_\u001b[0m\u001b[0;34m,\u001b[0m \u001b[0m_\u001b[0m\u001b[0;34m,\u001b[0m \u001b[0mfiltered_flat_args\u001b[0m \u001b[0;34m=\u001b[0m\u001b[0;31m \u001b[0m\u001b[0;31m\\\u001b[0m\u001b[0;34m\u001b[0m\u001b[0;34m\u001b[0m\u001b[0m\n",
            "\u001b[0;32m/usr/local/lib/python3.7/dist-packages/tensorflow/python/eager/function.py\u001b[0m in \u001b[0;36m__call__\u001b[0;34m(self, *args, **kwargs)\u001b[0m\n\u001b[1;32m   2941\u001b[0m        filtered_flat_args) = self._maybe_define_function(args, kwargs)\n\u001b[1;32m   2942\u001b[0m     return graph_function._call_flat(\n\u001b[0;32m-> 2943\u001b[0;31m         filtered_flat_args, captured_inputs=graph_function.captured_inputs)  # pylint: disable=protected-access\n\u001b[0m\u001b[1;32m   2944\u001b[0m \u001b[0;34m\u001b[0m\u001b[0m\n\u001b[1;32m   2945\u001b[0m   \u001b[0;34m@\u001b[0m\u001b[0mproperty\u001b[0m\u001b[0;34m\u001b[0m\u001b[0;34m\u001b[0m\u001b[0m\n",
            "\u001b[0;32m/usr/local/lib/python3.7/dist-packages/tensorflow/python/eager/function.py\u001b[0m in \u001b[0;36m_call_flat\u001b[0;34m(self, args, captured_inputs, cancellation_manager)\u001b[0m\n\u001b[1;32m   1917\u001b[0m       \u001b[0;31m# No tape is watching; skip to running the function.\u001b[0m\u001b[0;34m\u001b[0m\u001b[0;34m\u001b[0m\u001b[0;34m\u001b[0m\u001b[0m\n\u001b[1;32m   1918\u001b[0m       return self._build_call_outputs(self._inference_function.call(\n\u001b[0;32m-> 1919\u001b[0;31m           ctx, args, cancellation_manager=cancellation_manager))\n\u001b[0m\u001b[1;32m   1920\u001b[0m     forward_backward = self._select_forward_and_backward_functions(\n\u001b[1;32m   1921\u001b[0m         \u001b[0margs\u001b[0m\u001b[0;34m,\u001b[0m\u001b[0;34m\u001b[0m\u001b[0;34m\u001b[0m\u001b[0m\n",
            "\u001b[0;32m/usr/local/lib/python3.7/dist-packages/tensorflow/python/eager/function.py\u001b[0m in \u001b[0;36mcall\u001b[0;34m(self, ctx, args, cancellation_manager)\u001b[0m\n\u001b[1;32m    558\u001b[0m               \u001b[0minputs\u001b[0m\u001b[0;34m=\u001b[0m\u001b[0margs\u001b[0m\u001b[0;34m,\u001b[0m\u001b[0;34m\u001b[0m\u001b[0;34m\u001b[0m\u001b[0m\n\u001b[1;32m    559\u001b[0m               \u001b[0mattrs\u001b[0m\u001b[0;34m=\u001b[0m\u001b[0mattrs\u001b[0m\u001b[0;34m,\u001b[0m\u001b[0;34m\u001b[0m\u001b[0;34m\u001b[0m\u001b[0m\n\u001b[0;32m--> 560\u001b[0;31m               ctx=ctx)\n\u001b[0m\u001b[1;32m    561\u001b[0m         \u001b[0;32melse\u001b[0m\u001b[0;34m:\u001b[0m\u001b[0;34m\u001b[0m\u001b[0;34m\u001b[0m\u001b[0m\n\u001b[1;32m    562\u001b[0m           outputs = execute.execute_with_cancellation(\n",
            "\u001b[0;32m/usr/local/lib/python3.7/dist-packages/tensorflow/python/eager/execute.py\u001b[0m in \u001b[0;36mquick_execute\u001b[0;34m(op_name, num_outputs, inputs, attrs, ctx, name)\u001b[0m\n\u001b[1;32m     58\u001b[0m     \u001b[0mctx\u001b[0m\u001b[0;34m.\u001b[0m\u001b[0mensure_initialized\u001b[0m\u001b[0;34m(\u001b[0m\u001b[0;34m)\u001b[0m\u001b[0;34m\u001b[0m\u001b[0;34m\u001b[0m\u001b[0m\n\u001b[1;32m     59\u001b[0m     tensors = pywrap_tfe.TFE_Py_Execute(ctx._handle, device_name, op_name,\n\u001b[0;32m---> 60\u001b[0;31m                                         inputs, attrs, num_outputs)\n\u001b[0m\u001b[1;32m     61\u001b[0m   \u001b[0;32mexcept\u001b[0m \u001b[0mcore\u001b[0m\u001b[0;34m.\u001b[0m\u001b[0m_NotOkStatusException\u001b[0m \u001b[0;32mas\u001b[0m \u001b[0me\u001b[0m\u001b[0;34m:\u001b[0m\u001b[0;34m\u001b[0m\u001b[0;34m\u001b[0m\u001b[0m\n\u001b[1;32m     62\u001b[0m     \u001b[0;32mif\u001b[0m \u001b[0mname\u001b[0m \u001b[0;32mis\u001b[0m \u001b[0;32mnot\u001b[0m \u001b[0;32mNone\u001b[0m\u001b[0;34m:\u001b[0m\u001b[0;34m\u001b[0m\u001b[0;34m\u001b[0m\u001b[0m\n",
            "\u001b[0;31mResourceExhaustedError\u001b[0m:  OOM when allocating tensor with shape[32,256,64,64] and type float on /job:localhost/replica:0/task:0/device:GPU:0 by allocator GPU_0_bfc\n\t [[node model/block4_sepconv1_act/Relu (defined at <ipython-input-31-d82ef65fade9>:4) ]]\nHint: If you want to see a list of allocated tensors when OOM happens, add report_tensor_allocations_upon_oom to RunOptions for current allocation info.\n [Op:__inference_train_function_12390]\n\nFunction call stack:\ntrain_function\n"
          ]
        }
      ]
    },
    {
      "cell_type": "markdown",
      "metadata": {
        "id": "concrete-house"
      },
      "source": [
        "### Salvando o modelo"
      ],
      "id": "concrete-house"
    },
    {
      "cell_type": "code",
      "metadata": {
        "id": "distant-harassment"
      },
      "source": [
        "# carregando o melhor peso obtido para o modelo\n",
        "best_model = model\n",
        "best_model.load_weights('/content/transferlearning_weights.hdf5')"
      ],
      "id": "distant-harassment",
      "execution_count": null,
      "outputs": []
    },
    {
      "cell_type": "code",
      "metadata": {
        "id": "humanitarian-ultimate"
      },
      "source": [
        "# salvando os dois modelos obtidos durante o treinamento\n",
        "model.save('model1')\n",
        "best_model.save('model2')"
      ],
      "id": "humanitarian-ultimate",
      "execution_count": null,
      "outputs": []
    },
    {
      "cell_type": "code",
      "metadata": {
        "id": "T--QqT_wP9D9"
      },
      "source": [
        "!mv /content/model1 /content/drive/MyDrive/experimentos/v2.0-exp5-ds4\n",
        "!mv /content/model2 /content/drive/MyDrive/experimentos/v2.0-exp5-ds4"
      ],
      "id": "T--QqT_wP9D9",
      "execution_count": null,
      "outputs": []
    },
    {
      "cell_type": "code",
      "metadata": {
        "id": "professional-freight"
      },
      "source": [
        "# carregando o melhor modelo para realização de testes de desempenho\n",
        "#model = tf.keras.models.load_model('/content/drive/MyDrive/experimentos/v2.0-exp3-ds4/model2')"
      ],
      "id": "professional-freight",
      "execution_count": null,
      "outputs": []
    },
    {
      "cell_type": "code",
      "metadata": {
        "id": "broke-learning"
      },
      "source": [
        "model.evaluate(test_generator)"
      ],
      "id": "broke-learning",
      "execution_count": null,
      "outputs": []
    },
    {
      "cell_type": "markdown",
      "metadata": {
        "id": "jewish-saturn"
      },
      "source": [
        "### Métricas de avaliação do modelo"
      ],
      "id": "jewish-saturn"
    },
    {
      "cell_type": "code",
      "metadata": {
        "id": "therapeutic-medium"
      },
      "source": [
        "# carregando os dados de teste\n",
        "for i in range(0, 42):\n",
        "  (x1, y1) = test_generator[i]\n",
        "  if i == 0:\n",
        "    x, y = x1, y1\n",
        "  else:\n",
        "    x = np.concatenate((x, x1))\n",
        "    y = np.concatenate((y, y1))"
      ],
      "id": "therapeutic-medium",
      "execution_count": null,
      "outputs": []
    },
    {
      "cell_type": "code",
      "metadata": {
        "id": "dependent-gnome"
      },
      "source": [
        "# realizando a predição para os dados de teste\n",
        "predict = model.predict(x)"
      ],
      "id": "dependent-gnome",
      "execution_count": null,
      "outputs": []
    },
    {
      "cell_type": "code",
      "metadata": {
        "id": "precise-kuwait"
      },
      "source": [
        "count_global = 0\n",
        "for predicts in predict:\n",
        "    count = 0\n",
        "    aux = np.zeros((11,))\n",
        "    for values in predicts:\n",
        "        if values >= 0.50:\n",
        "            aux[count] = 1.\n",
        "        else:\n",
        "            aux[count] = 0.\n",
        "        count += 1\n",
        "    predict[count_global] = aux\n",
        "    count_global += 1"
      ],
      "id": "precise-kuwait",
      "execution_count": null,
      "outputs": []
    },
    {
      "cell_type": "code",
      "metadata": {
        "id": "starting-swaziland"
      },
      "source": [
        "print('Matriz de Confusão:\\n', confusion_matrix(y.argmax(axis = 1), predict.argmax(axis = 1)))\n",
        "print('Acurácia:', accuracy_score(y.argmax(axis = 1), predict.argmax(axis = 1)))\n",
        "print('Precisão', precision_score(y.argmax(axis = 1), predict.argmax(axis = 1)))\n",
        "print('Sensibilidade:', recall_score(y.argmax(axis = 1), predict.argmax(axis = 1))) \n",
        "print('F1_Score:', f1_score(y.argmax(axis = 1), predict.argmax(axis = 1)))"
      ],
      "id": "starting-swaziland",
      "execution_count": null,
      "outputs": []
    },
    {
      "cell_type": "code",
      "metadata": {
        "id": "nominated-aviation"
      },
      "source": [
        "# visualizando o ganho de acurácia durante o treinamento\n",
        "plt.figure(figsize = (15,5))\n",
        "plt.subplot(1, 2, 1)\n",
        "plt.plot(history.history['acc'])\n",
        "plt.plot(history.history['val_acc'])\n",
        "plt.title('model accuracy')\n",
        "plt.ylabel('accuracy')\n",
        "plt.xlabel('epoch')\n",
        "plt.legend(['train', 'test'], loc='upper left')\n",
        "plt.savefig('model-accuracy')\n",
        "\n",
        "# visualizando o decaimento da função de custo durante o treinamento \n",
        "plt.subplot(1, 2, 2)\n",
        "plt.plot(history.history['loss'])\n",
        "plt.plot(history.history['val_loss'])\n",
        "plt.title('model loss')\n",
        "plt.ylabel('loss')\n",
        "plt.xlabel('epoch')\n",
        "plt.legend(['train', 'test'], loc='upper left')\n",
        "plt.savefig('model-loss')"
      ],
      "id": "nominated-aviation",
      "execution_count": null,
      "outputs": []
    },
    {
      "cell_type": "markdown",
      "metadata": {
        "id": "upset-sending"
      },
      "source": [
        "### Visualizando a arquitetura da rede"
      ],
      "id": "upset-sending"
    },
    {
      "cell_type": "code",
      "metadata": {
        "id": "compatible-contract"
      },
      "source": [
        "# visualizando a arquitetura do modelo\n",
        "model.summary()"
      ],
      "id": "compatible-contract",
      "execution_count": null,
      "outputs": []
    }
  ]
}
