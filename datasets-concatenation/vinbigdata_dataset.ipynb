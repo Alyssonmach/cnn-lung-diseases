{
  "nbformat": 4,
  "nbformat_minor": 0,
  "metadata": {
    "colab": {
      "name": "vinbigdata-dataset.ipynb",
      "provenance": []
    },
    "kernelspec": {
      "name": "python3",
      "display_name": "Python 3"
    },
    "language_info": {
      "name": "python"
    }
  },
  "cells": [
    {
      "cell_type": "code",
      "execution_count": 50,
      "metadata": {
        "id": "eSlZezIEmm1x"
      },
      "outputs": [],
      "source": [
        "from functools import partial\n",
        "import pandas as pd\n",
        "import numpy as np"
      ]
    },
    {
      "cell_type": "code",
      "source": [
        "def organize_path(file_):\n",
        "  return '/content/vinbigdata/train/' + file_ + '.jpg'"
      ],
      "metadata": {
        "id": "0RBBgbdZsRGF"
      },
      "execution_count": 15,
      "outputs": []
    },
    {
      "cell_type": "code",
      "source": [
        "!cp /content/drive/MyDrive/datasets/vinbigdata-dataset.zip /content/\n",
        "!unzip /content/vinbigdata-dataset.zip"
      ],
      "metadata": {
        "id": "grj76v6Imvtd"
      },
      "execution_count": 2,
      "outputs": []
    },
    {
      "cell_type": "code",
      "source": [
        "vinbigdata_df = pd.read_csv('/content/vinbigdata/train.csv')\n",
        "vinbigdata_df = vinbigdata_df.drop(['class_id', 'rad_id', 'x_min', 'y_min', \n",
        "                                    'x_max', 'y_max', 'width', 'height'], \n",
        "                                   axis = 1)\n",
        "\n",
        "vinbigdata_df.rename(columns = {'image_id': 'Path'}, inplace = True)\n",
        "path = list(vinbigdata_df['Path'])\n",
        "path = list(map(organize_path, path))\n",
        "vinbigdata_df['Path'] = path\n",
        "vinbigdata_df['Dataset'] = ['VinBigData'] * len(vinbigdata_df)\n",
        "vinbigdata_df['Sex'] = ['No Inf'] * len(vinbigdata_df)"
      ],
      "metadata": {
        "id": "8w-USQPDo_y7"
      },
      "execution_count": 16,
      "outputs": []
    },
    {
      "cell_type": "code",
      "source": [
        "pneumothorax = vinbigdata_df[vinbigdata_df['class_name'] == 'Pneumothorax']\n",
        "atelectasis = vinbigdata_df[vinbigdata_df['class_name'] == 'Atelectasis']\n",
        "consolidation = vinbigdata_df[vinbigdata_df['class_name'] == 'Consolidation']\n",
        "infiltration = vinbigdata_df[vinbigdata_df['class_name'] == 'Infiltration']\n",
        "nodule_mass = vinbigdata_df[vinbigdata_df['class_name'] == 'Nodule/Mass']\n",
        "thickening = vinbigdata_df[vinbigdata_df['class_name'] == 'Pleural thickening']\n",
        "fibrosis = vinbigdata_df[vinbigdata_df['class_name'] == 'Pulmonary fibrosis']\n",
        "opacity = vinbigdata_df[vinbigdata_df['class_name'] == 'Lung Opacity']\n",
        "effusion = vinbigdata_df[vinbigdata_df['class_name'] == 'Pleural effusion']\n",
        "\n",
        "dict_abnormalities = {'pneumothorax': pneumothorax, 'atelectasis': atelectasis,\n",
        "                      'consolidation': consolidation, 'opacity': opacity,\n",
        "                      'nodule_mass': nodule_mass, 'thickening': thickening,\n",
        "                      'fibrosis': fibrosis, 'effusion': effusion, \n",
        "                      'infiltration': infiltration}\n",
        "\n",
        "for keys, items in dict_abnormalities.items():\n",
        "  dict_abnormalities[keys][keys] = [1] * len(items)\n",
        "  columns_others = list(dict_abnormalities.keys())\n",
        "  columns_others.remove(keys)\n",
        "  zeros = np.zeros((len(items), 8))\n",
        "  others_df = pd.DataFrame(data = zeros, columns = columns_others)\n",
        "  dict_abnormalities[keys] = dict_abnormalities[keys].join(others_df)\n",
        "  dict_abnormalities[keys] = dict_abnormalities[keys].fillna(0)\n",
        "  columns = np.concatenate((['Dataset', 'Path', 'Sex', 'class_name'], \n",
        "                           list(dict_abnormalities.keys())))\n",
        "  dict_abnormalities[keys] = dict_abnormalities[keys][columns]"
      ],
      "metadata": {
        "id": "bCkPjEsLqe_A"
      },
      "execution_count": null,
      "outputs": []
    },
    {
      "cell_type": "code",
      "source": [
        "vinbigdata_df = pd.concat((dict_abnormalities['pneumothorax'],\n",
        "                           dict_abnormalities['atelectasis'],\n",
        "                           dict_abnormalities['consolidation'],\n",
        "                           dict_abnormalities['opacity'],\n",
        "                           dict_abnormalities['nodule_mass'],\n",
        "                           dict_abnormalities['thickening'],\n",
        "                           dict_abnormalities['fibrosis'],\n",
        "                           dict_abnormalities['effusion'],\n",
        "                           dict_abnormalities['infiltration']))\n",
        "vinbigdata_df = vinbigdata_df.drop(['class_name'], axis = 1)"
      ],
      "metadata": {
        "id": "V68TpeeRs6QE"
      },
      "execution_count": 65,
      "outputs": []
    },
    {
      "cell_type": "code",
      "source": [
        "columns = np.concatenate((['Dataset', 'Path', 'Sex'], \n",
        "                          list(dict_abnormalities.keys())))\n",
        "vinbigdata_df.to_csv(path_or_buf = 'vinbigdata_df.csv', columns = columns)"
      ],
      "metadata": {
        "id": "ZS52RTfs2IVa"
      },
      "execution_count": 68,
      "outputs": []
    }
  ]
}