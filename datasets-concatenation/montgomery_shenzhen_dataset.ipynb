{
  "nbformat": 4,
  "nbformat_minor": 0,
  "metadata": {
    "colab": {
      "name": "montgomery-shenzhen-dataset.ipynb",
      "provenance": []
    },
    "kernelspec": {
      "name": "python3",
      "display_name": "Python 3"
    },
    "language_info": {
      "name": "python"
    }
  },
  "cells": [
    {
      "cell_type": "code",
      "source": [
        "from functools import partial\n",
        "import pandas as pd\n",
        "import os"
      ],
      "metadata": {
        "id": "A4BPXuSjBDmz"
      },
      "execution_count": 49,
      "outputs": []
    },
    {
      "cell_type": "code",
      "source": [
        "def add_path(file_, path):\n",
        "  '''\n",
        "  add the images folder to the file name\n",
        "\n",
        "  Args:\n",
        "    file_ (str) --> file that is inside the folder\n",
        "    path (str) --> folder that contains the files\n",
        "  \n",
        "  Returns:\n",
        "    filepath (str) --> file with destination path\n",
        "  '''\n",
        "\n",
        "  return path + file_"
      ],
      "metadata": {
        "id": "M6Iuj_wABabw"
      },
      "execution_count": 29,
      "outputs": []
    },
    {
      "cell_type": "code",
      "source": [
        "def select_abnormalities(file_img):\n",
        "  '''\n",
        "  select images with associated abnormalities\n",
        "\n",
        "  Args:\n",
        "    file_img (str) --> montogomery or shenzhen filename \n",
        "  \n",
        "  Returns:\n",
        "    list_files_ab (list) --> returns the file if it is an abnormal image\n",
        "  '''\n",
        "\n",
        "  try:\n",
        "    if int(file_img.split('.')[0][-1]) == 1:\n",
        "      return file_img\n",
        "  except:\n",
        "    pass"
      ],
      "metadata": {
        "id": "PREx1pktGA5c"
      },
      "execution_count": 34,
      "outputs": []
    },
    {
      "cell_type": "code",
      "source": [
        "def read_txt(file_):\n",
        "  '''\n",
        "  read a txt file from a list\n",
        "  \n",
        "  Args:\n",
        "    file_ (str) --> txt file path\n",
        "\n",
        "  Returns:\n",
        "    content (str) --> txt file text content\n",
        "  '''\n",
        "\n",
        "  file_ = open(file_, \"r\")\n",
        "  \n",
        "  return file_.read().lower()"
      ],
      "metadata": {
        "id": "WbI5_cnoN2VT"
      },
      "execution_count": 102,
      "outputs": []
    },
    {
      "cell_type": "code",
      "source": [
        "def find_sex(content_str, dataset):\n",
        "  '''\n",
        "  finds the patient's sex from clinical notes\n",
        "  \n",
        "  Args:\n",
        "    content_str (str) --> string with the clinical information of radiographs\n",
        "    dataset (str) --> reference data set\n",
        "\n",
        "  Returns:\n",
        "    sex_info (str) --> patient sex found\n",
        "  '''\n",
        "\n",
        "  if dataset == 'montgomery':\n",
        "    if 'sex: f' in content_str: return 'female'\n",
        "    elif 'sex: m' in content_str: return 'male'\n",
        "  elif dataset == 'shenzhen':\n",
        "    if 'female' in content_str: return 'female'\n",
        "    elif 'male' in content_str: return 'male'"
      ],
      "metadata": {
        "id": "jdq201ESPVc6"
      },
      "execution_count": 140,
      "outputs": []
    },
    {
      "cell_type": "code",
      "source": [
        "!cp /content/drive/MyDrive/datasets/montgomery-shenzhen-datasets.zip /content\n",
        "!unzip /content/montgomery-shenzhen-datasets.zip"
      ],
      "metadata": {
        "id": "t7SfOUioJj59"
      },
      "execution_count": null,
      "outputs": []
    },
    {
      "cell_type": "code",
      "source": [
        "montgomery_f = os.listdir('/content/Montgomery/MontgomerySet/CXR_png')\n",
        "montgomery_l = os.listdir('/content/Montgomery/MontgomerySet/ClinicalReadings')\n",
        "shenzhen_f = os.listdir('/content/ChinaSet_AllFiles/ChinaSet_AllFiles/CXR_png')\n",
        "shenzhen_l = os.listdir('/content/ChinaSet_AllFiles/ChinaSet_AllFiles/ClinicalReadings')"
      ],
      "metadata": {
        "id": "N--RE8zGMgof"
      },
      "execution_count": 103,
      "outputs": []
    },
    {
      "cell_type": "code",
      "source": [
        "montgomery_f = list(map(select_abnormalities, montgomery_f))\n",
        "montgomery_l = list(map(select_abnormalities, montgomery_l))\n",
        "shenzhen_f = list(map(select_abnormalities, shenzhen_f))\n",
        "shenzhen_l = list(map(select_abnormalities, shenzhen_l))"
      ],
      "metadata": {
        "id": "sHeOsCVJMj8V"
      },
      "execution_count": 104,
      "outputs": []
    },
    {
      "cell_type": "code",
      "source": [
        "montgomery_f = [x for x in montgomery_f if x != None]\n",
        "montgomery_l = [x for x in montgomery_l if x != None]\n",
        "shenzhen_f = [x for x in shenzhen_f if x != None]\n",
        "shenzhen_l = [x for x in shenzhen_l if x != None]"
      ],
      "metadata": {
        "id": "A-6JmjjNM01J"
      },
      "execution_count": 105,
      "outputs": []
    },
    {
      "cell_type": "code",
      "execution_count": 106,
      "metadata": {
        "id": "GxjH4Wuu_cmj"
      },
      "outputs": [],
      "source": [
        "partial_add_path = partial(add_path, \n",
        "  path = '/content/Montgomery/MontgomerySet/CXR_png/')\n",
        "montgomery_f = list(map(partial_add_path, montgomery_f))\n",
        "partial_add_path = partial(add_path, \n",
        "  path = '/content/Montgomery/MontgomerySet/ClinicalReadings/')\n",
        "montgomery_l = list(map(partial_add_path, montgomery_l))\n",
        "partial_add_path = partial(add_path, \n",
        "  path = '/content/ChinaSet_AllFiles/ChinaSet_AllFiles/CXR_png/')\n",
        "shenzhen_f = list(map(partial_add_path, shenzhen_f))\n",
        "partial_add_path = partial(add_path, \n",
        "  path = '/content/ChinaSet_AllFiles/ChinaSet_AllFiles/ClinicalReadings/')\n",
        "shenzhen_l = list(map(partial_add_path, shenzhen_l))"
      ]
    },
    {
      "cell_type": "code",
      "source": [
        "montgomery_l_sex = list(map(read_txt, montgomery_l))\n",
        "partial_find_sex = partial(find_sex, dataset = 'montgomery')\n",
        "montgomery_l_sex = list(map(partial_find_sex, montgomery_l_sex))\n",
        "shenzhen_l_sex = list(map(read_txt, shenzhen_l))\n",
        "partial_find_sex = partial(find_sex, dataset = 'shenzhen')\n",
        "shenzhen_l_sex = list(map(partial_find_sex, shenzhen_l_sex))"
      ],
      "metadata": {
        "id": "jGT0ixwrOyQh"
      },
      "execution_count": 151,
      "outputs": []
    },
    {
      "cell_type": "code",
      "source": [
        "montgomery_df = pd.DataFrame(data = montgomery_f, columns = ['Path'])\n",
        "montgomery_df['Dataset'] = ['Montgomery'] * len(montgomery_f)\n",
        "montgomery_df['Tuberculosis'] = [1] * len(montgomery_f)\n",
        "montgomery_df['Sex'] = montgomery_l_sex\n",
        "montgomery_df = montgomery_df[['Dataset', 'Path', 'Sex', 'Tuberculosis']]\n",
        "\n",
        "shenzhen_df = pd.DataFrame(data = shenzhen_f, columns = ['Path'])\n",
        "shenzhen_df['Dataset'] = ['Shenzhen'] * len(shenzhen_f)\n",
        "shenzhen_df['Tuberculosis'] = [1] * len(shenzhen_f)\n",
        "shenzhen_df['Sex'] = shenzhen_l_sex\n",
        "shenzhen_df = shenzhen_df[['Dataset', 'Path', 'Sex', 'Tuberculosis']]\n",
        "\n",
        "montgomery_shenzhen_df = pd.concat([montgomery_df, shenzhen_df])\n",
        "montgomery_shenzhen_df.to_csv(path_or_buf = 'montgomery_shenzhen_df.csv', \n",
        "  columns = ['Dataset', 'Path', 'Sex', 'Tuberculosis'])"
      ],
      "metadata": {
        "id": "b4t6IQExChUE"
      },
      "execution_count": 175,
      "outputs": []
    }
  ]
}