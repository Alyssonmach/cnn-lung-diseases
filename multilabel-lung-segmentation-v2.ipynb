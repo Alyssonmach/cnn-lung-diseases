{
  "nbformat": 4,
  "nbformat_minor": 5,
  "metadata": {
    "kernelspec": {
      "display_name": "Python 3",
      "language": "python",
      "name": "python3"
    },
    "language_info": {
      "codemirror_mode": {
        "name": "ipython",
        "version": 3
      },
      "file_extension": ".py",
      "mimetype": "text/x-python",
      "name": "python",
      "nbconvert_exporter": "python",
      "pygments_lexer": "ipython3",
      "version": "3.8.7"
    },
    "colab": {
      "name": "experimento2_dataset4.ipynb",
      "provenance": [],
      "toc_visible": true,
      "machine_shape": "hm",
      "include_colab_link": true
    },
    "accelerator": "TPU"
  },
  "cells": [
    {
      "cell_type": "markdown",
      "metadata": {
        "id": "view-in-github",
        "colab_type": "text"
      },
      "source": [
        "<a href=\"https://colab.research.google.com/github/Alyssonmach/cnn-lung-diseases/blob/main/multilabel-lung-segmentation-v2.ipynb\" target=\"_parent\"><img src=\"https://colab.research.google.com/assets/colab-badge.svg\" alt=\"Open In Colab\"/></a>"
      ]
    },
    {
      "cell_type": "markdown",
      "metadata": {
        "id": "laughing-kazakhstan"
      },
      "source": [
        "### Importação dos pacotes"
      ],
      "id": "laughing-kazakhstan"
    },
    {
      "cell_type": "code",
      "metadata": {
        "id": "applicable-billion"
      },
      "source": [
        "import os\n",
        "import pandas as pd\n",
        "from sklearn.model_selection import train_test_split\n",
        "from sklearn.utils import class_weight\n",
        "from keras.preprocessing.image import ImageDataGenerator\n",
        "from sklearn.metrics import confusion_matrix, precision_recall_fscore_support, accuracy_score\n",
        "import matplotlib.pyplot as plt\n",
        "import numpy as np\n",
        "\n",
        "import tensorflow as tf\n",
        "from tensorflow.keras import layers\n",
        "from tensorflow.keras import Model\n",
        "from tensorflow.keras.applications.inception_v3 import InceptionV3\n",
        "from tensorflow.keras import optimizers\n",
        "from tensorflow.keras.callbacks import ModelCheckpoint, ReduceLROnPlateau\n",
        "import tensorflow as tf\n",
        "\n",
        "import warnings\n",
        "warnings.filterwarnings(\"ignore\")"
      ],
      "id": "applicable-billion",
      "execution_count": 62,
      "outputs": []
    },
    {
      "cell_type": "markdown",
      "metadata": {
        "id": "worst-fisher"
      },
      "source": [
        "### Pré-processamento nos dados"
      ],
      "id": "worst-fisher"
    },
    {
      "cell_type": "code",
      "metadata": {
        "id": "regulation-costume"
      },
      "source": [
        "# lendo os dados de um arquivo csv\n",
        "dataframe = pd.read_csv('/content/drive/MyDrive/vinbigdata/train.csv')\n",
        "# criando uma coluna com os caminhos relativos as imagens\n",
        "dataframe['image_path'] = '/content/drive/MyDrive/vinbigdata_seg/' + dataframe.image_id + '.jpg'"
      ],
      "id": "regulation-costume",
      "execution_count": 2,
      "outputs": []
    },
    {
      "cell_type": "code",
      "metadata": {
        "id": "necessary-medication",
        "colab": {
          "base_uri": "https://localhost:8080/"
        },
        "outputId": "632aa71c-2f5b-4ee5-8b89-00be7409d51c"
      },
      "source": [
        "print('total de imagens disponíveis:', str(len(set(dataframe['image_path']))))"
      ],
      "id": "necessary-medication",
      "execution_count": 3,
      "outputs": [
        {
          "output_type": "stream",
          "text": [
            "total de imagens disponíveis: 15000\n"
          ],
          "name": "stdout"
        }
      ]
    },
    {
      "cell_type": "code",
      "metadata": {
        "id": "widespread-enclosure",
        "colab": {
          "base_uri": "https://localhost:8080/"
        },
        "outputId": "c04c9549-7c50-4259-fac7-dd8bdc550557"
      },
      "source": [
        "# visualizando os casos disponíveis\n",
        "dataframe['class_name'].value_counts()"
      ],
      "id": "widespread-enclosure",
      "execution_count": 4,
      "outputs": [
        {
          "output_type": "execute_result",
          "data": {
            "text/plain": [
              "No finding            31818\n",
              "Aortic enlargement     7162\n",
              "Cardiomegaly           5427\n",
              "Pleural thickening     4842\n",
              "Pulmonary fibrosis     4655\n",
              "Nodule/Mass            2580\n",
              "Lung Opacity           2483\n",
              "Pleural effusion       2476\n",
              "Other lesion           2203\n",
              "Infiltration           1247\n",
              "ILD                    1000\n",
              "Calcification           960\n",
              "Consolidation           556\n",
              "Atelectasis             279\n",
              "Pneumothorax            226\n",
              "Name: class_name, dtype: int64"
            ]
          },
          "metadata": {
            "tags": []
          },
          "execution_count": 4
        }
      ]
    },
    {
      "cell_type": "code",
      "metadata": {
        "id": "informal-ottawa"
      },
      "source": [
        "# removendo os casos não relativos a distúrbios pulmonares\n",
        "dataframe = dataframe[dataframe.class_name != 'Aortic enlargement']\n",
        "dataframe = dataframe[dataframe.class_name != 'Cardiomegaly']\n",
        "dataframe = dataframe[dataframe.class_name != 'Other lesion']\n",
        "dataframe = dataframe[dataframe.class_name != 'Consolidation']"
      ],
      "id": "informal-ottawa",
      "execution_count": 5,
      "outputs": []
    },
    {
      "cell_type": "code",
      "metadata": {
        "id": "plastic-master",
        "colab": {
          "base_uri": "https://localhost:8080/"
        },
        "outputId": "4f1c886c-d520-4ac4-b7b0-321914d26677"
      },
      "source": [
        "# separando os casos rotulados como normais e anormais\n",
        "normal_cases = dataframe[(dataframe.class_id == 14) & (dataframe.class_name == 'No finding')]\n",
        "abnormal_cases = dataframe[(dataframe.class_id != 14) & (dataframe.class_name != 'No finding')]\n",
        "\n",
        "print('total de dados após a filtração:', str(len(set(normal_cases['image_path'])) + len(set(abnormal_cases['image_path']))))"
      ],
      "id": "plastic-master",
      "execution_count": 6,
      "outputs": [
        {
          "output_type": "stream",
          "text": [
            "total de dados após a filtração: 13948\n"
          ],
          "name": "stdout"
        }
      ]
    },
    {
      "cell_type": "code",
      "metadata": {
        "id": "secure-alignment"
      },
      "source": [
        "# removendo as imagens repetidas\n",
        "normal_data = normal_cases[['image_path', 'class_name']].drop_duplicates(subset = 'image_path', )\n",
        "abnormal_data = abnormal_cases[['image_path', 'class_name']].drop_duplicates(subset = 'image_path', )\n",
        "\n",
        "# criando dataframes especifos com caminhos para as imagens e rótulos\n",
        "normal_data['target'] = 'normal'\n",
        "abnormal_data['target'] = 'abnormal'"
      ],
      "id": "secure-alignment",
      "execution_count": 7,
      "outputs": []
    },
    {
      "cell_type": "code",
      "metadata": {
        "id": "sudden-platform",
        "colab": {
          "base_uri": "https://localhost:8080/"
        },
        "outputId": "c4332ae0-ac01-4868-8317-914d8f5d05ef"
      },
      "source": [
        "print('quantidade de dados rotulados como normais:', len(normal_data))\n",
        "print('quantidade de dados rotulados como anormais:', len(abnormal_data))"
      ],
      "id": "sudden-platform",
      "execution_count": 8,
      "outputs": [
        {
          "output_type": "stream",
          "text": [
            "quantidade de dados rotulados como normais: 10606\n",
            "quantidade de dados rotulados como anormais: 3342\n"
          ],
          "name": "stdout"
        }
      ]
    },
    {
      "cell_type": "code",
      "metadata": {
        "id": "prompt-embassy"
      },
      "source": [
        "# removendo 69% dos casos normais para balancear os dados\n",
        "normal, _ = train_test_split(normal_data, test_size = 0.69, random_state = 42)"
      ],
      "id": "prompt-embassy",
      "execution_count": 9,
      "outputs": []
    },
    {
      "cell_type": "code",
      "metadata": {
        "id": "sitting-works",
        "colab": {
          "base_uri": "https://localhost:8080/"
        },
        "outputId": "b11bb656-f3e1-4770-8338-646bae0e70ff"
      },
      "source": [
        "print('quantidade de dados rotulados como normais:', len(normal))\n",
        "print('quantidade de dados rotulados como anormais:', len(abnormal_data))"
      ],
      "id": "sitting-works",
      "execution_count": 10,
      "outputs": [
        {
          "output_type": "stream",
          "text": [
            "quantidade de dados rotulados como normais: 3287\n",
            "quantidade de dados rotulados como anormais: 3342\n"
          ],
          "name": "stdout"
        }
      ]
    },
    {
      "cell_type": "code",
      "metadata": {
        "id": "funny-document"
      },
      "source": [
        "# concatenando os dataframes de casos normais e anormais\n",
        "full_data = pd.concat([normal, abnormal_data])"
      ],
      "id": "funny-document",
      "execution_count": 11,
      "outputs": []
    },
    {
      "cell_type": "code",
      "metadata": {
        "id": "golden-reading"
      },
      "source": [
        "# misturando todos os dados do dataframe e reiniciando os valores dos índices \n",
        "full_data = full_data.sample(frac = 1, axis = 0, random_state = 42).reset_index(drop=True)"
      ],
      "id": "golden-reading",
      "execution_count": 12,
      "outputs": []
    },
    {
      "cell_type": "code",
      "metadata": {
        "id": "alpha-poster"
      },
      "source": [
        "full_data = full_data[full_data.class_name != 'No finding']\n",
        "full_data = full_data[full_data.class_name != 'Atelectasis']\n",
        "full_data = full_data[full_data.class_name != 'Pneumothorax']"
      ],
      "id": "alpha-poster",
      "execution_count": 13,
      "outputs": []
    },
    {
      "cell_type": "code",
      "metadata": {
        "id": "lqVhndhsR0lo",
        "colab": {
          "base_uri": "https://localhost:8080/"
        },
        "outputId": "01cb6f20-8a27-40fa-b748-1c4399b5c788"
      },
      "source": [
        "full_data['class_name'].value_counts()"
      ],
      "id": "lqVhndhsR0lo",
      "execution_count": 14,
      "outputs": [
        {
          "output_type": "execute_result",
          "data": {
            "text/plain": [
              "Pleural thickening    908\n",
              "Pulmonary fibrosis    746\n",
              "Lung Opacity          448\n",
              "Nodule/Mass           347\n",
              "Pleural effusion      332\n",
              "Infiltration          169\n",
              "Calcification         167\n",
              "ILD                   152\n",
              "Name: class_name, dtype: int64"
            ]
          },
          "metadata": {
            "tags": []
          },
          "execution_count": 14
        }
      ]
    },
    {
      "cell_type": "code",
      "metadata": {
        "id": "aLJ0l5rb54AG"
      },
      "source": [
        "pleural = full_data[full_data.class_name == 'Pleural thickening']\n",
        "pleural_, _ = train_test_split(pleural, test_size = 0.8, random_state = 42)\n",
        "fibrosis = full_data[full_data.class_name == 'Pulmonary fibrosis']\n",
        "fibrosis_, _ = train_test_split(fibrosis, test_size = 0.78, random_state = 42)\n",
        "opacity = full_data[full_data.class_name == 'Lung Opacity']\n",
        "opacity_, _ = train_test_split(opacity, test_size = 0.62, random_state = 42)\n",
        "nodule = full_data[full_data.class_name == 'Nodule/Mass']\n",
        "nodule_, _ = train_test_split(nodule, test_size = 0.50, random_state = 42)\n",
        "effusion = full_data[full_data.class_name == 'Pleural effusion']\n",
        "effusion_, _ = train_test_split(effusion, test_size = 0.47, random_state = 42)\n",
        "infiltration = full_data[full_data.class_name == 'Infiltration']\n",
        "calcification = full_data[full_data.class_name == 'Calcification']\n",
        "ild = full_data[full_data.class_name == 'ILD']\n",
        "full_data = pd.concat([pleural_, fibrosis_, opacity_, nodule_, effusion_,\n",
        "                        infiltration, calcification, ild])"
      ],
      "id": "aLJ0l5rb54AG",
      "execution_count": 55,
      "outputs": []
    },
    {
      "cell_type": "code",
      "metadata": {
        "colab": {
          "base_uri": "https://localhost:8080/"
        },
        "id": "0duMBJwD8Xcq",
        "outputId": "18e2a800-630a-4129-df87-9a9de7746103"
      },
      "source": [
        "full_data['class_name'].value_counts()"
      ],
      "id": "0duMBJwD8Xcq",
      "execution_count": 56,
      "outputs": [
        {
          "output_type": "execute_result",
          "data": {
            "text/plain": [
              "Pleural thickening    181\n",
              "Pleural effusion      175\n",
              "Nodule/Mass           173\n",
              "Lung Opacity          170\n",
              "Infiltration          169\n",
              "Calcification         167\n",
              "Pulmonary fibrosis    164\n",
              "ILD                   152\n",
              "Name: class_name, dtype: int64"
            ]
          },
          "metadata": {
            "tags": []
          },
          "execution_count": 56
        }
      ]
    },
    {
      "cell_type": "code",
      "metadata": {
        "id": "medium-brand"
      },
      "source": [
        "# separando os dados de treinamento e de teste\n",
        "train_df, test_df = train_test_split(full_data, stratify = full_data['class_name'],\n",
        "                                     test_size = 0.2, random_state = 42)"
      ],
      "id": "medium-brand",
      "execution_count": 57,
      "outputs": []
    },
    {
      "cell_type": "code",
      "metadata": {
        "id": "extraordinary-retrieval"
      },
      "source": [
        "# separando os dados de validação dos dados de treinamento\n",
        "train_df, validation_df = train_test_split(train_df, stratify = train_df['class_name'],\n",
        "                                           test_size = 0.2, random_state = 42)"
      ],
      "id": "extraordinary-retrieval",
      "execution_count": 58,
      "outputs": []
    },
    {
      "cell_type": "code",
      "metadata": {
        "id": "dependent-collins",
        "colab": {
          "base_uri": "https://localhost:8080/"
        },
        "outputId": "c42c471a-d412-4b70-9c5d-faef205b7f74"
      },
      "source": [
        "# visualizando a quantidade de dados\n",
        "print('quantidade de imagens de treinamento:', len(train_df['image_path']))\n",
        "print('quantidade de rótulos de treinamento:', len(train_df['class_name']))\n",
        "print('quantidade de imagens de teste:', len(test_df['image_path']))\n",
        "print('quantidade de rótulos de teste:', len(test_df['class_name']))\n",
        "print('quantidade de imagens de validação:', len(validation_df['image_path']))\n",
        "print('quantidade de rótulos de validação:', len(validation_df['class_name']))"
      ],
      "id": "dependent-collins",
      "execution_count": 59,
      "outputs": [
        {
          "output_type": "stream",
          "text": [
            "quantidade de imagens de treinamento: 864\n",
            "quantidade de rótulos de treinamento: 864\n",
            "quantidade de imagens de teste: 271\n",
            "quantidade de rótulos de teste: 271\n",
            "quantidade de imagens de validação: 216\n",
            "quantidade de rótulos de validação: 216\n"
          ],
          "name": "stdout"
        }
      ]
    },
    {
      "cell_type": "code",
      "metadata": {
        "id": "zFEnCluXpVS3"
      },
      "source": [
        "# organizando um dicionário para realizar o balanceamento nos dados das classes\n",
        "class_weights = class_weight.compute_class_weight('balanced', np.unique(train_df['class_name']),\n",
        "                                                  train_df['class_name'])\n",
        "class_weight = {0: class_weights[0], 1: class_weights[1], 2: class_weights[2], \n",
        "                3: class_weights[3], 4: class_weights[4], 5: class_weights[5],\n",
        "                6: class_weights[6], 7: class_weights[7]}"
      ],
      "id": "zFEnCluXpVS3",
      "execution_count": 63,
      "outputs": []
    },
    {
      "cell_type": "code",
      "metadata": {
        "id": "requested-pakistan",
        "colab": {
          "base_uri": "https://localhost:8080/"
        },
        "outputId": "b23385fd-3129-407e-e81a-2f987bc2b049"
      },
      "source": [
        "# normalizando as imagens de treinamento e aplicando aumento de dados\n",
        "image_generator = ImageDataGenerator()\n",
        "\n",
        "# criando o gerador de imagens de treinamento \n",
        "train_generator = image_generator.flow_from_dataframe(\n",
        "                                                      dataframe = train_df,\n",
        "                                                      directory = '',\n",
        "                                                      x_col = 'image_path',\n",
        "                                                      y_col = 'class_name',\n",
        "                                                      batch_size = 32,\n",
        "                                                      seed = 42,\n",
        "                                                      shuffle = True,\n",
        "                                                      class_mode = 'categorical',\n",
        "                                                      target_size = (256, 256))\n",
        "# criando o gerador de imagens de validação \n",
        "valid_generator = image_generator.flow_from_dataframe(\n",
        "                                                      dataframe = validation_df,\n",
        "                                                      directory = '.', \n",
        "                                                      x_col = 'image_path',\n",
        "                                                      y_col = 'class_name',\n",
        "                                                      batch_size = 32,\n",
        "                                                      seed = 42,\n",
        "                                                      shuffle = True,\n",
        "                                                      class_mode = 'categorical',\n",
        "                                                      target_size = (256, 256))\n",
        "\n",
        "# normalizando as imagens de teste \n",
        "test_datagen = ImageDataGenerator()\n",
        "\n",
        "test_generator = test_datagen.flow_from_dataframe(\n",
        "                                                  dataframe = test_df, \n",
        "                                                  directory = '.',\n",
        "                                                  x_col = 'image_path',\n",
        "                                                  y_col = 'class_name',\n",
        "                                                  batch_size = 32,\n",
        "                                                  seed = 42,\n",
        "                                                  shuffle = True,\n",
        "                                                  class_mode = 'categorical',\n",
        "                                                  target_size = (256, 256))"
      ],
      "id": "requested-pakistan",
      "execution_count": 64,
      "outputs": [
        {
          "output_type": "stream",
          "text": [
            "Found 864 validated image filenames belonging to 8 classes.\n",
            "Found 216 validated image filenames belonging to 8 classes.\n",
            "Found 271 validated image filenames belonging to 8 classes.\n"
          ],
          "name": "stdout"
        }
      ]
    },
    {
      "cell_type": "markdown",
      "metadata": {
        "id": "compatible-fetish"
      },
      "source": [
        "### Preparando a rede neural convolucional"
      ],
      "id": "compatible-fetish"
    },
    {
      "cell_type": "code",
      "metadata": {
        "id": "anonymous-rotation",
        "colab": {
          "base_uri": "https://localhost:8080/"
        },
        "outputId": "22911080-23d5-49b0-b31b-dab5b13efc9c"
      },
      "source": [
        "# baixando os pesos treinados da rede inception\n",
        "!wget --no-check-certificate \\\n",
        "    https://storage.googleapis.com/mledu-datasets/inception_v3_weights_tf_dim_ordering_tf_kernels_notop.h5 \\\n",
        "    -O /tmp/inception_v3_weights_tf_dim_ordering_tf_kernels_notop.h5"
      ],
      "id": "anonymous-rotation",
      "execution_count": 65,
      "outputs": [
        {
          "output_type": "stream",
          "text": [
            "--2021-05-07 03:51:05--  https://storage.googleapis.com/mledu-datasets/inception_v3_weights_tf_dim_ordering_tf_kernels_notop.h5\n",
            "Resolving storage.googleapis.com (storage.googleapis.com)... 142.250.125.128, 142.250.136.128, 142.250.148.128, ...\n",
            "Connecting to storage.googleapis.com (storage.googleapis.com)|142.250.125.128|:443... connected.\n",
            "HTTP request sent, awaiting response... 200 OK\n",
            "Length: 87910968 (84M) [application/x-hdf]\n",
            "Saving to: ‘/tmp/inception_v3_weights_tf_dim_ordering_tf_kernels_notop.h5’\n",
            "\n",
            "/tmp/inception_v3_w 100%[===================>]  83.84M  75.7MB/s    in 1.1s    \n",
            "\n",
            "2021-05-07 03:51:06 (75.7 MB/s) - ‘/tmp/inception_v3_weights_tf_dim_ordering_tf_kernels_notop.h5’ saved [87910968/87910968]\n",
            "\n"
          ],
          "name": "stdout"
        }
      ]
    },
    {
      "cell_type": "code",
      "metadata": {
        "id": "compact-knife"
      },
      "source": [
        "# referenciando o local em que os pesos estão armazenados\n",
        "local_weights_file = '/tmp/inception_v3_weights_tf_dim_ordering_tf_kernels_notop.h5'\n",
        "\n",
        "# carregando a arquitetura inception pré-treinada\n",
        "pre_trained_model = InceptionV3(input_shape = (256, 256, 3), \n",
        "                                include_top = False, \n",
        "                                weights = None)\n",
        "\n",
        "# carregando os pesos treinados com outros dados \n",
        "pre_trained_model.load_weights(local_weights_file)\n",
        "\n",
        "# definindo as flags iniciais  \n",
        "#pre_trained_model.trainable = True\n",
        "#set_trainable = False\n",
        "\n",
        "# para a arquitetura inception, a rede será retreinada a partir da camada 'mixed8'\n",
        "#for layer in pre_trained_model.layers:\n",
        "#    if layer.name == 'mixed8':\n",
        "#        set_trainable = True\n",
        "#    if set_trainable:\n",
        "#        layer.trainable = True\n",
        "#    else:\n",
        "#       layer.trainable = False\n",
        "\n",
        "# visualizando a arquitetura definida\n",
        "#pre_trained_model.summary()\n",
        "\n",
        "# obtendo a última camada como sendo a nomeada por 'mixed7'\n",
        "last_layer = pre_trained_model.get_layer('mixed7')\n",
        "last_output = last_layer.output"
      ],
      "id": "compact-knife",
      "execution_count": 66,
      "outputs": []
    },
    {
      "cell_type": "code",
      "metadata": {
        "id": "double-sound"
      },
      "source": [
        "# definindo uma camada de achatamento\n",
        "x = layers.GlobalAveragePooling2D()(last_output)\n",
        "# conecatando a rede uma camada com 1024 neurônios e função de ativação relu\n",
        "#x = layers.Dense(units = 512, activation = 'relu')(x)     \n",
        "# conecatando a rede uma camada com 128 neurônios e função de ativação relu\n",
        "#x = layers.Dense(units = 256, activation = 'relu')(x) \n",
        "# aplicando uma camada de dropout com uma taxa de 20% (normalização)\n",
        "#x = layers.Dropout(rate = 0.2)(x)                  \n",
        "# adicionando uma camada de saída com um neurônio e uma função de ativação sigmoide\n",
        "x = layers.Dense(units = 8, activation = 'softmax')(x)           \n",
        "\n",
        "# conecatando as camadas definidas acima com a arquitetura inception\n",
        "model = Model(pre_trained_model.input, x) \n",
        "\n",
        "# compilando a rede \n",
        "model.compile(optimizer = 'adam', loss = 'categorical_crossentropy', \n",
        "              metrics = ['acc'])"
      ],
      "id": "double-sound",
      "execution_count": 67,
      "outputs": []
    },
    {
      "cell_type": "code",
      "metadata": {
        "id": "found-baker"
      },
      "source": [
        "# definindo o caminho pelo qual os pesos serão armazenados \n",
        "filepath = \"transferlearning_weights.hdf5\"\n",
        "# callback para salvar o melhor valor dos pesos em relação ao desempenho com os dados de validação \n",
        "checkpoint = ModelCheckpoint(filepath, monitor = 'val_acc', verbose = 1, save_best_only = True, mode = 'max')\n",
        "plateau = ReduceLROnPlateau(monitor = 'val_acc', factor = 0.5, patience = 2, verbose = 1)"
      ],
      "id": "found-baker",
      "execution_count": 69,
      "outputs": []
    },
    {
      "cell_type": "code",
      "metadata": {
        "id": "forward-guide"
      },
      "source": [
        "# definindo um array de callbacks\n",
        "callbacks = [checkpoint, plateau]"
      ],
      "id": "forward-guide",
      "execution_count": 70,
      "outputs": []
    },
    {
      "cell_type": "code",
      "metadata": {
        "id": "vital-constitutional",
        "colab": {
          "base_uri": "https://localhost:8080/"
        },
        "outputId": "0448d14d-e745-4ce6-9500-719229379afc"
      },
      "source": [
        "# treinando a rede neural convolucional\n",
        "history = model.fit_generator(train_generator, steps_per_epoch = 864 // 32, \n",
        "                              validation_data = valid_generator, validation_steps = 216 // 32,\n",
        "                              callbacks = callbacks, epochs = 20, class_weight = class_weight)"
      ],
      "id": "vital-constitutional",
      "execution_count": null,
      "outputs": [
        {
          "output_type": "stream",
          "text": [
            "Epoch 1/20\n",
            "27/27 [==============================] - 67s 2s/step - loss: 2.0802 - acc: 0.1381 - val_loss: 161.8178 - val_acc: 0.1458\n",
            "\n",
            "Epoch 00001: val_acc improved from -inf to 0.14583, saving model to transferlearning_weights.hdf5\n",
            "Epoch 2/20\n",
            "27/27 [==============================] - 57s 2s/step - loss: 1.9335 - acc: 0.2416 - val_loss: 443.9358 - val_acc: 0.1250\n",
            "\n",
            "Epoch 00002: val_acc did not improve from 0.14583\n",
            "Epoch 3/20\n",
            "27/27 [==============================] - 58s 2s/step - loss: 1.8711 - acc: 0.2768 - val_loss: 58.7328 - val_acc: 0.1250\n",
            "\n",
            "Epoch 00003: val_acc did not improve from 0.14583\n",
            "\n",
            "Epoch 00003: ReduceLROnPlateau reducing learning rate to 0.0005000000237487257.\n",
            "Epoch 4/20\n",
            "27/27 [==============================] - 60s 2s/step - loss: 1.6989 - acc: 0.3325 - val_loss: 13.1242 - val_acc: 0.1562\n",
            "\n",
            "Epoch 00004: val_acc improved from 0.14583 to 0.15625, saving model to transferlearning_weights.hdf5\n",
            "Epoch 5/20\n",
            "27/27 [==============================] - 60s 2s/step - loss: 1.4292 - acc: 0.5014 - val_loss: 3.9505 - val_acc: 0.1510\n",
            "\n",
            "Epoch 00005: val_acc did not improve from 0.15625\n",
            "Epoch 6/20\n",
            "27/27 [==============================] - 57s 2s/step - loss: 1.1989 - acc: 0.5811 - val_loss: 8.9031 - val_acc: 0.1562\n",
            "\n",
            "Epoch 00006: val_acc did not improve from 0.15625\n",
            "\n",
            "Epoch 00006: ReduceLROnPlateau reducing learning rate to 0.0002500000118743628.\n",
            "Epoch 7/20\n",
            "27/27 [==============================] - 56s 2s/step - loss: 0.8802 - acc: 0.7257 - val_loss: 4.4572 - val_acc: 0.1719\n",
            "\n",
            "Epoch 00007: val_acc improved from 0.15625 to 0.17188, saving model to transferlearning_weights.hdf5\n",
            "Epoch 8/20\n",
            "27/27 [==============================] - 57s 2s/step - loss: 0.4466 - acc: 0.8908 - val_loss: 4.9279 - val_acc: 0.1510\n",
            "\n",
            "Epoch 00008: val_acc did not improve from 0.17188\n",
            "Epoch 9/20\n",
            "27/27 [==============================] - 59s 2s/step - loss: 0.2550 - acc: 0.9526 - val_loss: 2.8549 - val_acc: 0.2031\n",
            "\n",
            "Epoch 00009: val_acc improved from 0.17188 to 0.20312, saving model to transferlearning_weights.hdf5\n",
            "Epoch 10/20\n",
            "27/27 [==============================] - 59s 2s/step - loss: 0.1651 - acc: 0.9627 - val_loss: 3.9187 - val_acc: 0.1354\n",
            "\n",
            "Epoch 00010: val_acc did not improve from 0.20312\n",
            "Epoch 11/20\n",
            "27/27 [==============================] - 59s 2s/step - loss: 0.1542 - acc: 0.9601 - val_loss: 4.2350 - val_acc: 0.1615\n",
            "\n",
            "Epoch 00011: val_acc did not improve from 0.20312\n",
            "\n",
            "Epoch 00011: ReduceLROnPlateau reducing learning rate to 0.0001250000059371814.\n",
            "Epoch 12/20\n",
            "27/27 [==============================] - 59s 2s/step - loss: 0.0906 - acc: 0.9774 - val_loss: 3.8207 - val_acc: 0.1771\n",
            "\n",
            "Epoch 00012: val_acc did not improve from 0.20312\n",
            "Epoch 13/20\n",
            "27/27 [==============================] - 59s 2s/step - loss: 0.0571 - acc: 0.9937 - val_loss: 3.3034 - val_acc: 0.1771\n",
            "\n",
            "Epoch 00013: val_acc did not improve from 0.20312\n",
            "\n",
            "Epoch 00013: ReduceLROnPlateau reducing learning rate to 6.25000029685907e-05.\n",
            "Epoch 14/20\n",
            "27/27 [==============================] - 59s 2s/step - loss: 0.0268 - acc: 0.9991 - val_loss: 3.2304 - val_acc: 0.2188\n",
            "\n",
            "Epoch 00014: val_acc improved from 0.20312 to 0.21875, saving model to transferlearning_weights.hdf5\n",
            "Epoch 15/20\n",
            "19/27 [====================>.........] - ETA: 16s - loss: 0.0347 - acc: 0.9996"
          ],
          "name": "stdout"
        }
      ]
    },
    {
      "cell_type": "markdown",
      "metadata": {
        "id": "ONyCuKQpZfOB"
      },
      "source": [
        "### Salvando o modelo"
      ],
      "id": "ONyCuKQpZfOB"
    },
    {
      "cell_type": "code",
      "metadata": {
        "id": "W-CChFX2tVH2"
      },
      "source": [
        "# carregando o melhor peso obtido para o modelo\n",
        "best_model = model\n",
        "best_model.load_weights('/content/transferlearning_weights.hdf5')"
      ],
      "id": "W-CChFX2tVH2",
      "execution_count": null,
      "outputs": []
    },
    {
      "cell_type": "code",
      "metadata": {
        "id": "blslunH_y4-E"
      },
      "source": [
        "# salvando os dois modelos obtidos durante o treinamento\n",
        "model.save('model1')\n",
        "best_model.save('model2')"
      ],
      "id": "blslunH_y4-E",
      "execution_count": null,
      "outputs": []
    },
    {
      "cell_type": "code",
      "metadata": {
        "id": "2EJjwd2RZ5lW"
      },
      "source": [
        "best_model.evaluate(test_generator)"
      ],
      "id": "2EJjwd2RZ5lW",
      "execution_count": null,
      "outputs": []
    },
    {
      "cell_type": "markdown",
      "metadata": {
        "id": "fYuik7UGZ8UA"
      },
      "source": [
        "### Métricas de avaliação do modelo"
      ],
      "id": "fYuik7UGZ8UA"
    },
    {
      "cell_type": "code",
      "metadata": {
        "id": "5YnpFy7NaAQ3"
      },
      "source": [
        "# carregando os dados de teste\n",
        "for i in range(0, 21):\n",
        "  (x1, y1) = test_generator[i]\n",
        "  if i == 0:\n",
        "    x, y = x1, y1\n",
        "  else:\n",
        "    x = np.concatenate((x, x1))\n",
        "    y = np.concatenate((y, y1))"
      ],
      "id": "5YnpFy7NaAQ3",
      "execution_count": null,
      "outputs": []
    },
    {
      "cell_type": "code",
      "metadata": {
        "id": "h6Mh6iQEme8U"
      },
      "source": [
        "# realizando a predição para os dados de teste\n",
        "predict = model.predict(x)\n",
        "\n",
        "count_global = 0\n",
        "for predicts in predict:\n",
        "    count = 0\n",
        "    aux = np.zeros((8,))\n",
        "    for values in predicts:\n",
        "        if values >= 0.40:\n",
        "            aux[count] = 1.\n",
        "        else:\n",
        "            aux[count] = 0.\n",
        "        count += 1\n",
        "    predict[count_global] = aux\n",
        "    count_global += 1"
      ],
      "id": "h6Mh6iQEme8U",
      "execution_count": null,
      "outputs": []
    },
    {
      "cell_type": "code",
      "metadata": {
        "id": "hGqwPHeVaJDc"
      },
      "source": [
        "from sklearn.metrics import precision_score, recall_score, accuracy_score, f1_score, confusion_matrix\n",
        "print('Matriz de Confusão:\\n', confusion_matrix(y.argmax(axis = 1), predict.argmax(axis = 1)))\n",
        "print('Acurácia:', accuracy_score(y.argmax(axis = 1), predict.argmax(axis = 1)))\n",
        "print('Precisão', precision_score(y.argmax(axis = 1), predict.argmax(axis = 1), average = 'weighted'))\n",
        "print('Sensibilidade:', recall_score(y.argmax(axis = 1), predict.argmax(axis = 1), average = 'weighted')) \n",
        "print('F1_Score:', f1_score(y.argmax(axis = 1), predict.argmax(axis = 1), average = 'weighted'))"
      ],
      "id": "hGqwPHeVaJDc",
      "execution_count": null,
      "outputs": []
    }
  ]
}