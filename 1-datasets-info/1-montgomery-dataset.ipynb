{
 "cells": [
  {
   "cell_type": "markdown",
   "id": "physical-expense",
   "metadata": {},
   "source": [
    "# Conjunto de Dados 1: _Montgomery County X-ray Set_\n",
    "***\n",
    "> Disponível em: <https://www.kaggle.com/kmader/pulmonary-chest-xray-abnormalities>. Acesso em 19 fev. 2021."
   ]
  },
  {
   "cell_type": "markdown",
   "id": "invisible-ontario",
   "metadata": {},
   "source": [
    "As imagens de raios-X neste conjunto de dados foram adquiridas do programa de controle da tuberculose do Departamento de Saúde e Serviços Humanos do Condado de Montgomery, MD, EUA. Esse conjunto de dados contém 138 radiografias póstero-anterior, das quais 80 são radiografias normais e 58 são anormais com manifestações de tuberculose. Todas as imagens são desidentificadas e disponíveis no formato DICOM (Digital Imaging and Communications in Medicine). O conjunto cobre uma ampla gama de anormalidades, incluindo efusões e padrões miliares. O conjunto de dados inclui leituras de radiologia disponíveis como um arquivo de texto, mantendo a identidade do paciente preservada por motivos éticos e legais (JAEGER et al., 2013)."
   ]
  },
  {
   "cell_type": "markdown",
   "id": "selective-scout",
   "metadata": {},
   "source": [
    "## Referência\n",
    "***\n",
    "- JAEGER, S. et al. Automatic tuberculosis screening using chest radiographs. IEEE transactions on medical imaging, IEEE, v. 33, n. 2, p. 233–245, 2013."
   ]
  }
 ],
 "metadata": {
  "kernelspec": {
   "display_name": "Python 3",
   "language": "python",
   "name": "python3"
  },
  "language_info": {
   "codemirror_mode": {
    "name": "ipython",
    "version": 3
   },
   "file_extension": ".py",
   "mimetype": "text/x-python",
   "name": "python",
   "nbconvert_exporter": "python",
   "pygments_lexer": "ipython3",
   "version": "3.8.7"
  }
 },
 "nbformat": 4,
 "nbformat_minor": 5
}
