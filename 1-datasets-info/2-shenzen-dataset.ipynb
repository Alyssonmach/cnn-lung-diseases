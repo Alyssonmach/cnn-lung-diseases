{
 "cells": [
  {
   "cell_type": "markdown",
   "id": "adolescent-cardiff",
   "metadata": {},
   "source": [
    "# Conjunto de Dados 2: _China Set - The Shenzhen set - Chest X-ray Database_\n",
    "***\n",
    "> Disponível em: <https://www.kaggle.com/kmader/pulmonary-chest-xray-abnormalities>. Acesso em 19 fev. 2021."
   ]
  },
  {
   "cell_type": "markdown",
   "id": "apart-australia",
   "metadata": {},
   "source": [
    "O banco de dados de imagem digital padrão para tuberculose foi criado pela Biblioteca Nacional de Medicina, Maryland, EUA, em colaboração com o Hospital Popular de Shenzhen No.3, Faculdade de Medicina de Guangdong, Shenzhen, China. As radiografias de tórax são de clínicas ambulatoriais e foram capturadas como parte da rotina diária usando os sistemas Philips DR Digital Diagnose. O conjunto de dados contém 336 casos com manifestação de tuberculose e 326 casos normais (CANDEMIRet al., 2013)."
   ]
  },
  {
   "cell_type": "markdown",
   "id": "organizational-layer",
   "metadata": {},
   "source": [
    "## Referência\n",
    "***\n",
    "- CANDEMIR, S. et al. Lung segmentation in chest radiographs using anatomical atlases with non rigid registration. IEEE transactions on medical imaging, IEEE, v. 33, n. 2, p.577–590, 2013."
   ]
  }
 ],
 "metadata": {
  "kernelspec": {
   "display_name": "Python 3",
   "language": "python",
   "name": "python3"
  },
  "language_info": {
   "codemirror_mode": {
    "name": "ipython",
    "version": 3
   },
   "file_extension": ".py",
   "mimetype": "text/x-python",
   "name": "python",
   "nbconvert_exporter": "python",
   "pygments_lexer": "ipython3",
   "version": "3.8.7"
  }
 },
 "nbformat": 4,
 "nbformat_minor": 5
}
