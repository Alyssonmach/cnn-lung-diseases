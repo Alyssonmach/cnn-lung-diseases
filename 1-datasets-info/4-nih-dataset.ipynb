{
 "cells": [
  {
   "cell_type": "markdown",
   "id": "proved-insulin",
   "metadata": {},
   "source": [
    "# Conjunto de Dados 4: *ChestXray-NIH*\n",
    "***\n",
    "> Disponível em: <https://nihcc.app.box.com/v/ChestXray-NIHCC/folder/36938765345>. Acesso em 19 fev. 2021."
   ]
  },
  {
   "cell_type": "markdown",
   "id": "musical-questionnaire",
   "metadata": {},
   "source": [
    "O conjunto de dados compreende 112.120 imagens de raios-X de visão frontal com quatorze rótulos relacionados a distúrbios pulmonares, extraídos dos relatórios radiológicos associados usando processamento de linguagem natural. Quatorze patologias torácicas comuns incluem Atelectasia, Consolidação, Infiltração, Pneumotórax, Edema, Enfisema, Fibrose, Efusão, Pneumonia, Espessamento Pleural, Cardiomegalia, Nódulo, Massa e Hérnia, que é uma extensão dos 8 padrões de doença comuns listados no artigo CVPR 2017 (WANG et al., 2017)."
   ]
  },
  {
   "cell_type": "markdown",
   "id": "unlikely-subject",
   "metadata": {},
   "source": [
    "## Referência\n",
    "***\n",
    "- WANG, X. et al. Hospital-scale chest x-ray database and benchmarks on weakly-supervised classification and localization of common thorax diseases. In:IEEE CVPR.[S.l.: s.n.], 2017. p. 3462–3471."
   ]
  }
 ],
 "metadata": {
  "kernelspec": {
   "display_name": "Python 3",
   "language": "python",
   "name": "python3"
  },
  "language_info": {
   "codemirror_mode": {
    "name": "ipython",
    "version": 3
   },
   "file_extension": ".py",
   "mimetype": "text/x-python",
   "name": "python",
   "nbconvert_exporter": "python",
   "pygments_lexer": "ipython3",
   "version": "3.8.7"
  }
 },
 "nbformat": 4,
 "nbformat_minor": 5
}
