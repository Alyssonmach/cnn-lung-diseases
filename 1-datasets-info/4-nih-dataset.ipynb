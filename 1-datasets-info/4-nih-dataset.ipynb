{
 "cells": [
  {
   "cell_type": "markdown",
   "id": "proved-insulin",
   "metadata": {},
   "source": [
    "# Conjunto de Dados 4: *ChestXray-NIH*\n",
    "***\n",
    "> Disponível em: <https://nihcc.app.box.com/v/ChestXray-NIHCC/folder/36938765345>. Acesso em 19 fev. 2021."
   ]
  },
  {
   "cell_type": "markdown",
   "id": "musical-questionnaire",
   "metadata": {},
   "source": [
    "O conjunto de dados compreende 112.120 imagens de raios-X de visão frontal com quatorze rótulos relacionados a distúrbios pulmonares, extraídos dos relatórios radiológicos associados usando processamento de linguagem natural. Quatorze patologias torácicas comuns incluem Atelectasia, Consolidação, Infiltração, Pneumotórax, Edema, Enfisema, Fibrose, Efusão, Pneumonia, Espessamento Pleural, Cardiomegalia, Nódulo, Massa e Hérnia, que é uma extensão dos 8 padrões de doença comuns listados no artigo CVPR 2017 (WANG et al., 2017)."
   ]
  },
  {
   "cell_type": "markdown",
   "id": "84b79748-3dc0-4d0d-9176-7a45ccefc77e",
   "metadata": {},
   "source": [
    "### Baixando os dados"
   ]
  },
  {
   "cell_type": "code",
   "execution_count": 1,
   "id": "3afa1543-10ff-4308-ba3f-4ae66c744cee",
   "metadata": {},
   "outputs": [
    {
     "name": "stdout",
     "output_type": "stream",
     "text": [
      "downloading../0-datasets/nih/images_01.tar.gz...\n",
      "downloading../0-datasets/nih/images_02.tar.gz...\n",
      "downloading../0-datasets/nih/images_03.tar.gz...\n",
      "downloading../0-datasets/nih/images_04.tar.gz...\n",
      "downloading../0-datasets/nih/images_05.tar.gz...\n",
      "downloading../0-datasets/nih/images_06.tar.gz...\n",
      "downloading../0-datasets/nih/images_07.tar.gz...\n",
      "downloading../0-datasets/nih/images_08.tar.gz...\n",
      "downloading../0-datasets/nih/images_09.tar.gz...\n",
      "downloading../0-datasets/nih/images_10.tar.gz...\n",
      "downloading../0-datasets/nih/images_11.tar.gz...\n",
      "downloading../0-datasets/nih/images_12.tar.gz...\n",
      "Download complete. Please check the checksums\n"
     ]
    }
   ],
   "source": [
    "import urllib.request as url\n",
    "\n",
    "links = [\n",
    "    'https://nihcc.box.com/shared/static/vfk49d74nhbxq3nqjg0900w5nvkorp5c.gz',\n",
    "    'https://nihcc.box.com/shared/static/i28rlmbvmfjbl8p2n3ril0pptcmcu9d1.gz',\n",
    "    'https://nihcc.box.com/shared/static/f1t00wrtdk94satdfb9olcolqx20z2jp.gz',\n",
    "    'https://nihcc.box.com/shared/static/0aowwzs5lhjrceb3qp67ahp0rd1l1etg.gz',\n",
    "    'https://nihcc.box.com/shared/static/v5e3goj22zr6h8tzualxfsqlqaygfbsn.gz',\n",
    "    'https://nihcc.box.com/shared/static/asi7ikud9jwnkrnkj99jnpfkjdes7l6l.gz',\n",
    "    'https://nihcc.box.com/shared/static/jn1b4mw4n6lnh74ovmcjb8y48h8xj07n.gz',\n",
    "    'https://nihcc.box.com/shared/static/tvpxmn7qyrgl0w8wfh9kqfjskv6nmm1j.gz',\n",
    "    'https://nihcc.box.com/shared/static/upyy3ml7qdumlgk2rfcvlb9k6gvqq2pj.gz',\n",
    "    'https://nihcc.box.com/shared/static/l6nilvfa9cg3s28tqv1qc1olm3gnz54p.gz',\n",
    "    'https://nihcc.box.com/shared/static/hhq8fkdgvcari67vfhs7ppg2w6ni4jze.gz',\n",
    "    'https://nihcc.box.com/shared/static/ioqwiy20ihqwyr8pf4c24eazhh281pbu.gz']\n",
    "\n",
    "for idx, link in enumerate(links):\n",
    "    fn = '../0-datasets/nih/images_%02d.tar.gz' % (idx+1)\n",
    "    print('downloading'+fn+'...')\n",
    "    url.urlretrieve(link, fn)  \n",
    "\n",
    "print(\"Download complete. Please check the checksums\")"
   ]
  },
  {
   "cell_type": "markdown",
   "id": "b5dafcf5-6a6e-42ef-a39e-7a19c37c9995",
   "metadata": {},
   "source": [
    "### Descompactando os arquivos"
   ]
  },
  {
   "cell_type": "code",
   "execution_count": 2,
   "id": "f4f7964e-6c31-4c7a-9231-b862255ba31d",
   "metadata": {},
   "outputs": [],
   "source": [
    "import tarfile\n",
    "\n",
    "t = tarfile.open(\"../0-datasets/nih/images_01.tar.gz\")\n",
    "t.extractall('../0-datasets/nih/arquivos-descompactados/file01/')\n",
    "t = tarfile.open(\"../0-datasets/nih/images_02.tar.gz\")\n",
    "t.extractall('../0-datasets/nih/arquivos-descompactados/file01/')\n",
    "t = tarfile.open(\"../0-datasets/nih/images_03.tar.gz\")\n",
    "t.extractall('../0-datasets/nih/arquivos-descompactados/file01/')\n",
    "t = tarfile.open(\"../0-datasets/nih/images_04.tar.gz\")\n",
    "t.extractall('../0-datasets/nih/arquivos-descompactados/file01/')\n",
    "t = tarfile.open(\"../0-datasets/nih/images_05.tar.gz\")\n",
    "t.extractall('../0-datasets/nih/arquivos-descompactados/file02/')\n",
    "t = tarfile.open(\"../0-datasets/nih/images_06.tar.gz\")\n",
    "t.extractall('../0-datasets/nih/arquivos-descompactados/file02/')\n",
    "t = tarfile.open(\"../0-datasets/nih/images_07.tar.gz\")\n",
    "t.extractall('../0-datasets/nih/arquivos-descompactados/file02/')\n",
    "t = tarfile.open(\"../0-datasets/nih/images_08.tar.gz\")\n",
    "t.extractall('../0-datasets/nih/arquivos-descompactados/file02/')\n",
    "t = tarfile.open(\"../0-datasets/nih/images_09.tar.gz\")\n",
    "t.extractall('../0-datasets/nih/arquivos-descompactados/file03/')\n",
    "t = tarfile.open(\"../0-datasets/nih/images_10.tar.gz\")\n",
    "t.extractall('../0-datasets/nih/arquivos-descompactados/file03/')\n",
    "t = tarfile.open(\"../0-datasets/nih/images_11.tar.gz\")\n",
    "t.extractall('../0-datasets/nih/arquivos-descompactados/file03/')\n",
    "t = tarfile.open(\"../0-datasets/nih/images_12.tar.gz\")\n",
    "t.extractall('../0-datasets/nih/arquivos-descompactados/file03/')"
   ]
  },
  {
   "cell_type": "markdown",
   "id": "unlikely-subject",
   "metadata": {},
   "source": [
    "## Referência\n",
    "***\n",
    "- WANG, X. et al. Hospital-scale chest x-ray database and benchmarks on weakly-supervised classification and localization of common thorax diseases. In:IEEE CVPR.[S.l.: s.n.], 2017. p. 3462–3471."
   ]
  }
 ],
 "metadata": {
  "kernelspec": {
   "display_name": "Python 3",
   "language": "python",
   "name": "python3"
  },
  "language_info": {
   "codemirror_mode": {
    "name": "ipython",
    "version": 3
   },
   "file_extension": ".py",
   "mimetype": "text/x-python",
   "name": "python",
   "nbconvert_exporter": "python",
   "pygments_lexer": "ipython3",
   "version": "3.8.7"
  }
 },
 "nbformat": 4,
 "nbformat_minor": 5
}
