{
 "cells": [
  {
   "cell_type": "markdown",
   "id": "incident-cosmetic",
   "metadata": {},
   "source": [
    "# Conjunto de Dados 3: *VinBigData Image Dataset*\n",
    "***\n",
    "> Disponível em: <https://www.kaggle.com/awsaf49/vinbigdata-original-image-dataset>. Acesso em 24 fev. 2021."
   ]
  },
  {
   "cell_type": "markdown",
   "id": "piano-freeze",
   "metadata": {},
   "source": [
    "O conjunto de dados coletados do Instituto VinBigdata, compreende 18.000 varreduras CXR póstero-anterior (PA) em formato DICOM (convertidas para imagens .jpg), cujas identificações foram removidas para proteger a privacidade dos pacientes. Todas as imagens foram marcadas por um painel de radiologistas experientes quanto à presença de 14 achados radiográficos críticos. "
   ]
  },
  {
   "cell_type": "markdown",
   "id": "breathing-company",
   "metadata": {},
   "source": [
    "## Referência\n",
    "***\n",
    "- Ha Q. Nguyen, Khanh Lam, Linh T. Le, Hieu H. Pham, Dat Q. Tran, Dung B. Nguyen, Dung D. Le, Chi M. Pham, Hang T. T. Tong, Diep H. Dinh, Cuong D. Do, Luu T. Doan, Cuong N. Nguyen, Binh T. Nguyen, Que V. Nguyen, Au D. Hoang, Hien N. Phan, Anh T. Nguyen, Phuong H. Ho, Dat T. Ngo, Nghia T. Nguyen, Nhan T. Nguyen, Minh Dao, & Van Vu. (2021). VinDr-CXR: An open dataset of chest X-rays with radiologist's annotations."
   ]
  }
 ],
 "metadata": {
  "kernelspec": {
   "display_name": "Python 3",
   "language": "python",
   "name": "python3"
  },
  "language_info": {
   "codemirror_mode": {
    "name": "ipython",
    "version": 3
   },
   "file_extension": ".py",
   "mimetype": "text/x-python",
   "name": "python",
   "nbconvert_exporter": "python",
   "pygments_lexer": "ipython3",
   "version": "3.8.7"
  }
 },
 "nbformat": 4,
 "nbformat_minor": 5
}
