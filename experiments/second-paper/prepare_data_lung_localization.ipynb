{
  "nbformat": 4,
  "nbformat_minor": 0,
  "metadata": {
    "colab": {
      "name": "prepare-data-lung-localization.ipynb",
      "provenance": [],
      "machine_shape": "hm",
      "collapsed_sections": [],
      "authorship_tag": "ABX9TyMWlV7E9f5JE0RTqSje1Brd"
    },
    "kernelspec": {
      "name": "python3",
      "display_name": "Python 3"
    },
    "language_info": {
      "name": "python"
    },
    "accelerator": "GPU",
    "gpuClass": "standard"
  },
  "cells": [
    {
      "cell_type": "markdown",
      "source": [
        "### Instalação de Pacotes Auxiliares"
      ],
      "metadata": {
        "id": "fn9qToVBXEgx"
      }
    },
    {
      "cell_type": "code",
      "execution_count": null,
      "metadata": {
        "id": "c4lUqWzYVsn2"
      },
      "outputs": [],
      "source": [
        "!pip install lungs_segmentation\n",
        "!pip uninstall opencv-python\n",
        "!pip uninstall opencv-contrib-python\n",
        "!pip3 install opencv-contrib-python==4.5.5.62"
      ]
    },
    {
      "cell_type": "markdown",
      "source": [
        "### Importação de Pacotes Auxiliares"
      ],
      "metadata": {
        "id": "g0NI5BD9XHFC"
      }
    },
    {
      "cell_type": "code",
      "source": [
        "from distutils.dir_util import copy_tree\n",
        "from bbox_delimiters import bbox_utils\n",
        "import matplotlib.pyplot as plt\n",
        "import shutil, tarfile, os\n",
        "import tensorflow as tf\n",
        "import pandas as pd\n",
        "import numpy as np\n",
        "import cv2"
      ],
      "metadata": {
        "id": "8inaDzNKXLsq"
      },
      "execution_count": 2,
      "outputs": []
    },
    {
      "cell_type": "code",
      "source": [
        "from google.colab import drive\n",
        "drive.mount('/content/drive')"
      ],
      "metadata": {
        "id": "vo0NRhR-XiHq"
      },
      "execution_count": null,
      "outputs": []
    },
    {
      "cell_type": "markdown",
      "source": [
        "### Baixando os Dados do Servidor"
      ],
      "metadata": {
        "id": "6grUP8suWnTN"
      }
    },
    {
      "cell_type": "code",
      "source": [
        "shutil.copy(src = '/content/drive/MyDrive/datasets-projeto/chexpert-v10-small.zip', \n",
        "            dst = '/content/')\n",
        "\n",
        "shutil.unpack_archive(filename = '/content/chexpert-v10-small.zip', \n",
        "                      extract_dir = '', format = 'zip')\n",
        "\n",
        "os.remove(path = '/content/chexpert-v10-small.zip')"
      ],
      "metadata": {
        "id": "A4rit9Z6WlLm"
      },
      "execution_count": 6,
      "outputs": []
    },
    {
      "cell_type": "code",
      "source": [
        "shutil.copy(src = '/content/drive/MyDrive/datasets-projeto/vinbigdata-dataset.zip', \n",
        "            dst = '/content/')\n",
        "\n",
        "shutil.unpack_archive(filename = '/content/vinbigdata-dataset.zip', \n",
        "                      extract_dir = '', format = 'zip')\n",
        "\n",
        "os.remove(path = '/content/vinbigdata-dataset.zip')"
      ],
      "metadata": {
        "id": "kHcq7us6Wrsq"
      },
      "execution_count": 47,
      "outputs": []
    },
    {
      "cell_type": "code",
      "source": [
        "copy_tree(src = '/content/drive/MyDrive/datasets-projeto/nih-files', \n",
        "          dst = '/content/nih-files/')\n",
        "\n",
        "extract_files = os.listdir('/content/nih-files')\n",
        "\n",
        "for files in extract_files:\n",
        "  print(f'Extraindo /content/nih-files/{files}')\n",
        "  file_ = tarfile.open(f'/content/nih-files/{files}')\n",
        "  file_.extractall('/content/')\n",
        "  file_.close()\n",
        "  os.remove(f'/content/nih-files/{files}')\n",
        "\n",
        "shutil.rmtree(path = '/content/nih-files')"
      ],
      "metadata": {
        "id": "sPRHpnFxWqFS"
      },
      "execution_count": null,
      "outputs": []
    },
    {
      "cell_type": "code",
      "source": [
        "dataset = pd.read_csv('/content/all_datasets.csv', index_col = 0)"
      ],
      "metadata": {
        "id": "sBFV8NGOWw-n"
      },
      "execution_count": 3,
      "outputs": []
    },
    {
      "cell_type": "markdown",
      "source": [
        "### Aplicando o Algoritmo de Localização Pulmonar nas Imagens"
      ],
      "metadata": {
        "id": "BV9Fvbe9ZuAq"
      }
    },
    {
      "cell_type": "code",
      "source": [
        "shutil.copy(src = '/content/drive/MyDrive/lung-localization/vgg/model_vgg5.zip', \n",
        "            dst = '/content/')\n",
        "\n",
        "shutil.unpack_archive(filename = '/content/model_vgg5.zip', \n",
        "                      extract_dir = '', format = 'zip')\n",
        "\n",
        "os.remove(path = '/content/model_vgg5.zip')\n",
        "\n",
        "model_loc = tf.keras.models.load_model('/content/content/model_vgg5')\n",
        "\n",
        "lung_localization = bbox_utils()"
      ],
      "metadata": {
        "id": "TeKgt1PLZ0D9"
      },
      "execution_count": 4,
      "outputs": []
    },
    {
      "cell_type": "code",
      "source": [
        "def make_localization(filename):\n",
        "  '''\n",
        "  aplica o recorte da região pulmonar nas imagens de radiografia\n",
        "\n",
        "  Args:\n",
        "    filename (str) --> localização relativa da imagem no computador\n",
        "  '''\n",
        "\n",
        "  try:\n",
        "    coordinates = lung_localization.make_localization_cnn(model = model_loc, path_file = filename)\n",
        "    image_array = cv2.imread(filename = filename)\n",
        "    crop_image = lung_localization.crop_image(image = image_array, list_coordinates = coordinates)\n",
        "    lung_localization.save_img(image = crop_image, path_file = filename)\n",
        "  except:\n",
        "    pass\n",
        "\n",
        "  return"
      ],
      "metadata": {
        "id": "X3HAAkLdZ0tz"
      },
      "execution_count": 5,
      "outputs": []
    },
    {
      "cell_type": "code",
      "source": [
        "def test_image_files(image_files, arr_ref = 'Array 1'):\n",
        "  '''\n",
        "  testa a existência das imagens nos diretórios\n",
        "\n",
        "  Args:\n",
        "    image_files (list) --> lista com a localização relativa das imagens no \n",
        "    computador\n",
        "    arr_ref (str) --> Nome de referência da lista de strings analisada\n",
        "  '''\n",
        "\n",
        "  for image_file in image_files:\n",
        "    try:\n",
        "      test = plt.imread(image_file)\n",
        "    except:\n",
        "      print(f'Erro ao ler {image_file} | Array de Referência: {arr_ref}')"
      ],
      "metadata": {
        "id": "XdbNymWBmuTI"
      },
      "execution_count": 6,
      "outputs": []
    },
    {
      "cell_type": "code",
      "source": [
        "dataset_chexpert = dataset[dataset['Dataset'] == 'CheXpert']\n",
        "image_files = list(dataset_chexpert['Path'])\n",
        "img_files1 = image_files[int(0*len(image_files)/7) : int(1*len(image_files)/7)]\n",
        "img_files2 = image_files[int(1*len(image_files)/7) : int(2*len(image_files)/7)]\n",
        "img_files3 = image_files[int(2*len(image_files)/7) : int(3*len(image_files)/7)]\n",
        "img_files4 = image_files[int(3*len(image_files)/7) : int(4*len(image_files)/7)]\n",
        "img_files5 = image_files[int(4*len(image_files)/7) : int(5*len(image_files)/7)]\n",
        "img_files6 = image_files[int(5*len(image_files)/7) : int(6*len(image_files)/7)]\n",
        "img_files7 = image_files[int(6*len(image_files)/7) : int(7*len(image_files)/7)]"
      ],
      "metadata": {
        "id": "g5IHQ4UsjfBs"
      },
      "execution_count": 19,
      "outputs": []
    },
    {
      "cell_type": "code",
      "source": [
        "test_image_files(image_files = img_files1, arr_ref = 'Array 1')\n",
        "test_image_files(image_files = img_files2, arr_ref = 'Array 2')\n",
        "test_image_files(image_files = img_files3, arr_ref = 'Array 3')\n",
        "test_image_files(image_files = img_files4, arr_ref = 'Array 4')\n",
        "test_image_files(image_files = img_files5, arr_ref = 'Array 5')\n",
        "test_image_files(image_files = img_files6, arr_ref = 'Array 6')\n",
        "test_image_files(image_files = img_files7, arr_ref = 'Array 7')"
      ],
      "metadata": {
        "id": "vMcaEyy2nXaj"
      },
      "execution_count": null,
      "outputs": []
    },
    {
      "cell_type": "code",
      "source": [
        "_ = list(map(make_localization, img_files1))\n",
        "print('Recorte pulmonar nas imagens \"img_files1\" feito com sucesso!')\n",
        "_ = list(map(make_localization, img_files2))\n",
        "print('Recorte pulmonar nas imagens \"img_files2\" feito com sucesso!')\n",
        "_ = list(map(make_localization, img_files3))\n",
        "print('Recorte pulmonar nas imagens \"img_files3\" feito com sucesso!')\n",
        "_ = list(map(make_localization, img_files4))\n",
        "print('Recorte pulmonar nas imagens \"img_files4\" feito com sucesso!')\n",
        "_ = list(map(make_localization, img_files5))\n",
        "print('Recorte pulmonar nas imagens \"img_files5\" feito com sucesso!')\n",
        "_ = list(map(make_localization, img_files6))\n",
        "print('Recorte pulmonar nas imagens \"img_files6\" feito com sucesso!')\n",
        "_ = list(map(make_localization, img_files7))\n",
        "print('Recorte pulmonar nas imagens \"img_files7\" feito com sucesso!')"
      ],
      "metadata": {
        "id": "HslxgCAiZ3QJ"
      },
      "execution_count": null,
      "outputs": []
    },
    {
      "cell_type": "code",
      "source": [
        "shutil.make_archive(base_name = 'CheXpert-v1.0-small', format = 'zip', \n",
        "                    root_dir = '/content/CheXpert-v1.0-small')\n",
        "shutil.move('/content/CheXpert-v1.0-small.zip', \n",
        "            '/content/drive/MyDrive/datasets-lung-loc')"
      ],
      "metadata": {
        "id": "VQTASSrejv2X"
      },
      "execution_count": null,
      "outputs": []
    },
    {
      "cell_type": "code",
      "source": [
        "dataset_vinbigdata = dataset[dataset['Dataset'] == 'VinBigData']\n",
        "image_files = list(dataset_vinbigdata['Path'])\n",
        "img_files1 = image_files[int(0*len(image_files)/2) : int(1*len(image_files)/2)]\n",
        "img_files2 = image_files[int(1*len(image_files)/2) : int(2*len(image_files)/2)]"
      ],
      "metadata": {
        "id": "nFgVdRIF7YVl"
      },
      "execution_count": 71,
      "outputs": []
    },
    {
      "cell_type": "code",
      "source": [
        "test_image_files(image_files = img_files1, arr_ref = 'Array 1')\n",
        "test_image_files(image_files = img_files2, arr_ref = 'Array 2')"
      ],
      "metadata": {
        "id": "DwH5k5Xe8bN-"
      },
      "execution_count": null,
      "outputs": []
    },
    {
      "cell_type": "code",
      "source": [
        "_ = list(map(make_localization, img_files1))\n",
        "print('Recorte pulmonar nas imagens \"img_files1\" feito com sucesso!')\n",
        "_ = list(map(make_localization, img_files2))\n",
        "print('Recorte pulmonar nas imagens \"img_files2\" feito com sucesso!')"
      ],
      "metadata": {
        "id": "o5yUYyga8gIl"
      },
      "execution_count": null,
      "outputs": []
    },
    {
      "cell_type": "code",
      "source": [
        "shutil.make_archive(base_name = 'vinbigdata', format = 'zip', \n",
        "                    root_dir = '/content/vinbigdata')\n",
        "shutil.move('/content/vinbigdata.zip', \n",
        "            '/content/drive/MyDrive/datasets-lung-loc')"
      ],
      "metadata": {
        "id": "jWuFuTgE8qaY"
      },
      "execution_count": null,
      "outputs": []
    },
    {
      "cell_type": "code",
      "source": [
        "dataset_nih = dataset[dataset['Dataset'] == 'NIH']\n",
        "image_files = list(dataset_nih['Path'])\n",
        "img_files1 = image_files[int(0*len(image_files)/4) : int(1*len(image_files)/4)]\n",
        "img_files2 = image_files[int(1*len(image_files)/4) : int(2*len(image_files)/4)]\n",
        "img_files3 = image_files[int(2*len(image_files)/4) : int(3*len(image_files)/4)]\n",
        "img_files4 = image_files[int(3*len(image_files)/4) : int(4*len(image_files)/4)]"
      ],
      "metadata": {
        "id": "y_K5Ryx8L65p"
      },
      "execution_count": 7,
      "outputs": []
    },
    {
      "cell_type": "code",
      "source": [
        "test_image_files(image_files = img_files1, arr_ref = 'Array 1')\n",
        "test_image_files(image_files = img_files2, arr_ref = 'Array 2')\n",
        "test_image_files(image_files = img_files3, arr_ref = 'Array 3')\n",
        "test_image_files(image_files = img_files4, arr_ref = 'Array 4')"
      ],
      "metadata": {
        "id": "Tv2m-Wn-L8ZZ"
      },
      "execution_count": null,
      "outputs": []
    },
    {
      "cell_type": "code",
      "source": [
        "_ = list(map(make_localization, img_files1[1:]))\n",
        "print('Recorte pulmonar nas imagens \"img_files1\" feito com sucesso!')\n",
        "_ = list(map(make_localization, img_files2))\n",
        "print('Recorte pulmonar nas imagens \"img_files2\" feito com sucesso!')\n",
        "_ = list(map(make_localization, img_files3))\n",
        "print('Recorte pulmonar nas imagens \"img_files3\" feito com sucesso!')\n",
        "_ = list(map(make_localization, img_files4))\n",
        "print('Recorte pulmonar nas imagens \"img_files4\" feito com sucesso!')"
      ],
      "metadata": {
        "id": "lYwD7guNMBhx"
      },
      "execution_count": null,
      "outputs": []
    },
    {
      "cell_type": "code",
      "source": [
        "shutil.make_archive(base_name = 'images', format = 'zip', \n",
        "                    root_dir = '/content/images')\n",
        "shutil.move('/content/images.zip', \n",
        "            '/content/drive/MyDrive/datasets-lung-loc')"
      ],
      "metadata": {
        "id": "n2cLkz3eMVGL"
      },
      "execution_count": null,
      "outputs": []
    }
  ]
}