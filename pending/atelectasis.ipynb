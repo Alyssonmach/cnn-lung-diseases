{
  "nbformat": 4,
  "nbformat_minor": 0,
  "metadata": {
    "colab": {
      "name": "atelectasis.ipynb",
      "provenance": [],
      "machine_shape": "hm",
      "authorship_tag": "ABX9TyO82LEdmV7ZyvePex8QWDFt"
    },
    "kernelspec": {
      "name": "python3",
      "display_name": "Python 3"
    },
    "language_info": {
      "name": "python"
    },
    "accelerator": "GPU"
  },
  "cells": [
    {
      "cell_type": "code",
      "metadata": {
        "id": "tf1T-7fcXOjm"
      },
      "source": [
        "import os\n",
        "import pandas as pd\n",
        "from sklearn.model_selection import train_test_split\n",
        "from keras.preprocessing.image import ImageDataGenerator\n",
        "from sklearn.metrics import confusion_matrix, precision_recall_fscore_support, accuracy_score\n",
        "import matplotlib.pyplot as plt\n",
        "import numpy as np\n",
        "\n",
        "import tensorflow as tf\n",
        "from tensorflow.keras import layers\n",
        "from tensorflow.keras import Model\n",
        "from tensorflow.keras.applications import MobileNetV2\n",
        "from tensorflow.keras import optimizers\n",
        "from tensorflow.keras.callbacks import ModelCheckpoint\n",
        "import tensorflow as tf\n",
        "import urllib.request as url\n",
        "\n",
        "import warnings\n",
        "warnings.filterwarnings(\"ignore\")"
      ],
      "execution_count": 1,
      "outputs": []
    },
    {
      "cell_type": "code",
      "metadata": {
        "colab": {
          "base_uri": "https://localhost:8080/"
        },
        "id": "CXeLXbPgXU-2",
        "outputId": "150f37e5-e02a-42fb-a951-2a5b00ce4c76"
      },
      "source": [
        "import tensorflow as tf\n",
        "device_name = tf.test.gpu_device_name()\n",
        "if 'GPU' not in device_name:\n",
        "  print('GPU device not found')\n",
        "print('Found GPU at: {}'.format(device_name))"
      ],
      "execution_count": 2,
      "outputs": [
        {
          "output_type": "stream",
          "text": [
            "Found GPU at: /device:GPU:0\n"
          ],
          "name": "stdout"
        }
      ]
    },
    {
      "cell_type": "code",
      "metadata": {
        "id": "Q3fkO0s4Xb_s"
      },
      "source": [
        "os.environ['CUDA_VISIBLE_DEVICES'] = '0'"
      ],
      "execution_count": 3,
      "outputs": []
    },
    {
      "cell_type": "code",
      "metadata": {
        "id": "bd6hSo4nXf0e"
      },
      "source": [
        "train_df = pd.read_csv('/content/drive/MyDrive/train_df.csv', sep = ',', index_col = 0)\n",
        "validation_df = pd.read_csv('/content/drive/MyDrive/validation_df.csv', sep = ',', index_col = 0)\n",
        "test_df = pd.read_csv('/content/drive/MyDrive/test_df.csv', sep = ',', index_col = 0)"
      ],
      "execution_count": 4,
      "outputs": []
    },
    {
      "cell_type": "code",
      "metadata": {
        "id": "dzmX8AmdXi5U"
      },
      "source": [
        "train_df = train_df[train_df.finding_labels != 'No Finding']\n",
        "validation_df = validation_df[validation_df.finding_labels != 'No Finding']\n",
        "test_df = test_df[test_df.finding_labels != 'No Finding']"
      ],
      "execution_count": 5,
      "outputs": []
    },
    {
      "cell_type": "code",
      "metadata": {
        "colab": {
          "base_uri": "https://localhost:8080/"
        },
        "id": "HxPpYL-qXkFM",
        "outputId": "1d65f711-6ba4-483c-e028-55d722060738"
      },
      "source": [
        "infiltration, _ = train_test_split(train_df[train_df.finding_labels == 'Infiltration'], test_size = 0.94)\n",
        "atelectasis, _ = train_test_split(train_df[train_df.finding_labels == 'Atelectasis'], test_size = 0.85)\n",
        "effusion, _ = train_test_split(train_df[train_df.finding_labels == 'Effusion'], test_size = 0.85)\n",
        "nodule, _ = train_test_split(train_df[train_df.finding_labels == 'Nodule'], test_size = 0.78)\n",
        "pneumothorax, _ = train_test_split(train_df[train_df.finding_labels == 'Pneumothorax'], test_size = 0.72)\n",
        "consolidation, _ = train_test_split(train_df[train_df.finding_labels == 'Consolidation'], test_size = 0.55)\n",
        "pleural_thickening, _ = train_test_split(train_df[train_df.finding_labels == 'Pleural_Thickening'], test_size = 0.45)\n",
        "emphysema, _ = train_test_split(train_df[train_df.finding_labels == 'Emphysema'], test_size = 0.32)\n",
        "fibrosis, _ = train_test_split(train_df[train_df.finding_labels == 'Fibrosis'], test_size = 0.16)  \n",
        "edema = train_df[train_df.finding_labels == 'Edema']   \n",
        "train_df = pd.concat([infiltration, atelectasis, effusion, nodule, pneumothorax, consolidation,\n",
        "                   pleural_thickening, emphysema, fibrosis, edema])\n",
        "train_df['finding_labels'].value_counts()      "
      ],
      "execution_count": 6,
      "outputs": [
        {
          "output_type": "execute_result",
          "data": {
            "text/plain": [
              "Atelectasis           585\n",
              "Edema                 578\n",
              "Pneumothorax          566\n",
              "Pleural_Thickening    565\n",
              "Fibrosis              563\n",
              "Emphysema             556\n",
              "Consolidation         550\n",
              "Nodule                549\n",
              "Effusion              546\n",
              "Infiltration          526\n",
              "Name: finding_labels, dtype: int64"
            ]
          },
          "metadata": {
            "tags": []
          },
          "execution_count": 6
        }
      ]
    },
    {
      "cell_type": "code",
      "metadata": {
        "colab": {
          "base_uri": "https://localhost:8080/"
        },
        "id": "lvWGXgSZXl_D",
        "outputId": "c16456e6-dfc8-4428-83fa-abeb707922dc"
      },
      "source": [
        "infiltration, _ = train_test_split(validation_df[validation_df.finding_labels == 'Infiltration'], test_size = 0.94)\n",
        "atelectasis, _ = train_test_split(validation_df[validation_df.finding_labels == 'Atelectasis'], test_size = 0.85)\n",
        "effusion, _ = train_test_split(validation_df[validation_df.finding_labels == 'Effusion'], test_size = 0.85)\n",
        "nodule, _ = train_test_split(validation_df[validation_df.finding_labels == 'Nodule'], test_size = 0.78)\n",
        "pneumothorax, _ = train_test_split(validation_df[validation_df.finding_labels == 'Pneumothorax'], test_size = 0.72)\n",
        "consolidation, _ = train_test_split(validation_df[validation_df.finding_labels == 'Consolidation'], test_size = 0.55)\n",
        "pleural_thickening, _ = train_test_split(validation_df[validation_df.finding_labels == 'Pleural_Thickening'], test_size = 0.45)\n",
        "emphysema, _ = train_test_split(validation_df[validation_df.finding_labels == 'Emphysema'], test_size = 0.32)\n",
        "fibrosis, _ = train_test_split(validation_df[validation_df.finding_labels == 'Fibrosis'], test_size = 0.16)  \n",
        "edema = validation_df[validation_df.finding_labels == 'Edema']   \n",
        "validation_df = pd.concat([infiltration, atelectasis, effusion, nodule, pneumothorax, consolidation,\n",
        "                   pleural_thickening, emphysema, fibrosis, edema])\n",
        "validation_df['finding_labels'].value_counts()      "
      ],
      "execution_count": 7,
      "outputs": [
        {
          "output_type": "execute_result",
          "data": {
            "text/plain": [
              "Edema                 35\n",
              "Emphysema             31\n",
              "Pleural_Thickening    31\n",
              "Effusion              29\n",
              "Atelectasis           29\n",
              "Infiltration          29\n",
              "Fibrosis              28\n",
              "Nodule                26\n",
              "Pneumothorax          25\n",
              "Consolidation         24\n",
              "Name: finding_labels, dtype: int64"
            ]
          },
          "metadata": {
            "tags": []
          },
          "execution_count": 7
        }
      ]
    },
    {
      "cell_type": "code",
      "metadata": {
        "colab": {
          "base_uri": "https://localhost:8080/"
        },
        "id": "UUqOPAaKXnP4",
        "outputId": "1ac237cf-fafe-4987-f18a-f2f3a83ce4f8"
      },
      "source": [
        "infiltration, _ = train_test_split(test_df[test_df.finding_labels == 'Infiltration'], test_size = 0.94)\n",
        "atelectasis, _ = train_test_split(test_df[test_df.finding_labels == 'Atelectasis'], test_size = 0.85)\n",
        "effusion, _ = train_test_split(test_df[test_df.finding_labels == 'Effusion'], test_size = 0.85)\n",
        "nodule, _ = train_test_split(test_df[test_df.finding_labels == 'Nodule'], test_size = 0.78)\n",
        "pneumothorax, _ = train_test_split(test_df[test_df.finding_labels == 'Pneumothorax'], test_size = 0.72)\n",
        "consolidation, _ = train_test_split(test_df[test_df.finding_labels == 'Consolidation'], test_size = 0.55)\n",
        "pleural_thickening, _ = train_test_split(test_df[test_df.finding_labels == 'Pleural_Thickening'], test_size = 0.45)\n",
        "emphysema, _ = train_test_split(test_df[test_df.finding_labels == 'Emphysema'], test_size = 0.32)\n",
        "fibrosis, _ = train_test_split(test_df[test_df.finding_labels == 'Fibrosis'], test_size = 0.16)  \n",
        "edema = test_df[test_df.finding_labels == 'Edema']   \n",
        "test_df = pd.concat([infiltration, atelectasis, effusion, nodule, pneumothorax, consolidation,\n",
        "                   pleural_thickening, emphysema, fibrosis, edema])\n",
        "test_df['finding_labels'].value_counts()      "
      ],
      "execution_count": 8,
      "outputs": [
        {
          "output_type": "execute_result",
          "data": {
            "text/plain": [
              "Pneumothorax          22\n",
              "Pleural_Thickening    22\n",
              "Emphysema             19\n",
              "Nodule                18\n",
              "Fibrosis              18\n",
              "Atelectasis           17\n",
              "Infiltration          17\n",
              "Effusion              16\n",
              "Edema                 15\n",
              "Consolidation         13\n",
              "Name: finding_labels, dtype: int64"
            ]
          },
          "metadata": {
            "tags": []
          },
          "execution_count": 8
        }
      ]
    },
    {
      "cell_type": "code",
      "metadata": {
        "id": "wZRbNLFOX1ga"
      },
      "source": [
        "atelectasis = train_df[train_df.finding_labels == 'Atelectasis']\n",
        "atelectasis['class_name'] =  1\n",
        "others = train_df[train_df.finding_labels != 'Atelectasis']\n",
        "others = train_df[train_df.finding_labels != 'No finding']\n",
        "others['class_name'] = 0\n",
        "others , _ = train_test_split(others, test_size = 0.9, random_state = 42, \n",
        "                               shuffle = True, stratify = others['finding_labels'])\n",
        "train_df_ = pd.concat([atelectasis, others])"
      ],
      "execution_count": 9,
      "outputs": []
    },
    {
      "cell_type": "code",
      "metadata": {
        "id": "_J4trG5RaX45"
      },
      "source": [
        "atelectasis = validation_df[validation_df.finding_labels == 'Atelectasis']\n",
        "atelectasis['class_name'] =  1\n",
        "others = validation_df[validation_df.finding_labels != 'Atelectasis']\n",
        "others = validation_df[validation_df.finding_labels != 'No finding']\n",
        "others['class_name'] = 0\n",
        "others , _ = train_test_split(others, test_size = 0.9, random_state = 42, \n",
        "                               shuffle = True, stratify = others['finding_labels'])\n",
        "validation_df_ = pd.concat([atelectasis, others])"
      ],
      "execution_count": 10,
      "outputs": []
    },
    {
      "cell_type": "code",
      "metadata": {
        "id": "vO7S3UkIaetn"
      },
      "source": [
        "atelectasis = test_df[test_df.finding_labels == 'Atelectasis']\n",
        "atelectasis['class_name'] =  1\n",
        "others = test_df[test_df.finding_labels != 'Atelectasis']\n",
        "others = test_df[test_df.finding_labels != 'No finding']\n",
        "others['class_name'] = 0\n",
        "others , _ = train_test_split(others, test_size = 0.9, random_state = 42, \n",
        "                               shuffle = True, stratify = others['finding_labels'])\n",
        "test_df_ = pd.concat([atelectasis, others])"
      ],
      "execution_count": 11,
      "outputs": []
    },
    {
      "cell_type": "code",
      "metadata": {
        "colab": {
          "base_uri": "https://localhost:8080/"
        },
        "id": "UKJfEIkBXo0D",
        "outputId": "29bfeb19-d43f-4edb-a16f-5aacc3624800"
      },
      "source": [
        "image_generator = ImageDataGenerator(rescale = 1/255, samplewise_center = True, \n",
        "                                     samplewise_std_normalization = True,\n",
        "                                     horizontal_flip = True,\n",
        "                                     vertical_flip = False,\n",
        "                                     height_shift_range = 0.05,\n",
        "                                     width_shift_range = 0.1,\n",
        "                                     rotation_range = 5,\n",
        "                                     shear_range = 0.1,\n",
        "                                     fill_mode = 'reflect',\n",
        "                                     zoom_range = 0.15)\n",
        "\n",
        "train_generator = image_generator.flow_from_dataframe(\n",
        "                                                      dataframe = train_df_,\n",
        "                                                      directory = '',\n",
        "                                                      x_col = 'Image Index',\n",
        "                                                      y_col = 'class_name',\n",
        "                                                      batch_size = 32,\n",
        "                                                      seed = 42,\n",
        "                                                      shuffle = True,\n",
        "                                                      class_mode = 'raw',\n",
        "                                                      target_size = (256, 256))\n",
        "\n",
        "test_datagen = ImageDataGenerator(samplewise_center = True, \n",
        "                                  samplewise_std_normalization = True)\n",
        "\n",
        "valid_generator = test_datagen.flow_from_dataframe(\n",
        "                                                      dataframe = validation_df_,\n",
        "                                                      directory = '.', \n",
        "                                                      x_col = 'Image Index',\n",
        "                                                      y_col = 'class_name',\n",
        "                                                      batch_size = 32,\n",
        "                                                      seed = 42,\n",
        "                                                      shuffle = True,\n",
        "                                                      class_mode = 'raw',\n",
        "                                                      target_size = (256, 256))\n",
        "\n",
        "test_generator = test_datagen.flow_from_dataframe(\n",
        "                                                  dataframe = test_df_, \n",
        "                                                  directory = '.',\n",
        "                                                  x_col = 'Image Index',\n",
        "                                                  y_col = 'class_name',\n",
        "                                                  batch_size = 32,\n",
        "                                                  seed = 42,\n",
        "                                                  shuffle = True,\n",
        "                                                  class_mode = 'raw',\n",
        "                                                  target_size = (256, 256))"
      ],
      "execution_count": 12,
      "outputs": [
        {
          "output_type": "stream",
          "text": [
            "Found 1143 validated image filenames.\n",
            "Found 57 validated image filenames.\n",
            "Found 34 validated image filenames.\n"
          ],
          "name": "stdout"
        }
      ]
    },
    {
      "cell_type": "code",
      "metadata": {
        "colab": {
          "base_uri": "https://localhost:8080/"
        },
        "id": "_VmyzrkTa7u3",
        "outputId": "a08daa3f-7411-47d1-cfdc-30c9dc458b2d"
      },
      "source": [
        "model = MobileNetV2(input_shape = (256, 256, 3), include_top = False, weights = 'imagenet')\n",
        "x = tf.keras.layers.GlobalAveragePooling2D()(model.output)\n",
        "x = tf.keras.layers.Dense(units = 1, activation = 'sigmoid')(x)\n",
        "\n",
        "model = tf.keras.models.Model(inputs = model.input, outputs = x)"
      ],
      "execution_count": 13,
      "outputs": [
        {
          "output_type": "stream",
          "text": [
            "WARNING:tensorflow:`input_shape` is undefined or non-square, or `rows` is not in [96, 128, 160, 192, 224]. Weights for input shape (224, 224) will be loaded as the default.\n"
          ],
          "name": "stdout"
        }
      ]
    },
    {
      "cell_type": "code",
      "metadata": {
        "id": "wcM2MUWkbUOT"
      },
      "source": [
        "filepath = \"/content/drive/MyDrive/experimentos/multilabel/atelectasis/transferlearning_weights.hdf5\"\n",
        "checkpoint = ModelCheckpoint(filepath, monitor = 'val_acc', verbose = 1, save_best_only = True, mode = 'max')"
      ],
      "execution_count": 14,
      "outputs": []
    },
    {
      "cell_type": "code",
      "metadata": {
        "id": "I5ArHB02bnde"
      },
      "source": [
        "callbacks = [checkpoint]"
      ],
      "execution_count": 15,
      "outputs": []
    },
    {
      "cell_type": "code",
      "metadata": {
        "id": "cM8LJ2VEbuMj"
      },
      "source": [
        "model.compile(optimizer = optimizers.RMSprop(learning_rate = 0.0001), loss = 'binary_crossentropy', \n",
        "              metrics = ['acc'])"
      ],
      "execution_count": 16,
      "outputs": []
    },
    {
      "cell_type": "code",
      "metadata": {
        "colab": {
          "base_uri": "https://localhost:8080/"
        },
        "id": "KQp2fsnkb005",
        "outputId": "63becaa0-81bb-4300-ed2f-c2acc81c1e8d"
      },
      "source": [
        "history = model.fit(train_generator, steps_per_epoch = 1143 // 32, \n",
        "                    validation_data = valid_generator, validation_steps = 57 // 32,\n",
        "                    callbacks = callbacks, epochs = 20)"
      ],
      "execution_count": 18,
      "outputs": [
        {
          "output_type": "stream",
          "text": [
            "Epoch 1/20\n",
            "35/35 [==============================] - 588s 17s/step - loss: 0.6800 - acc: 0.5968 - val_loss: 0.7124 - val_acc: 0.5625\n",
            "\n",
            "Epoch 00001: val_acc improved from -inf to 0.56250, saving model to /content/drive/MyDrive/experimentos/multilabel/atelectasis/transferlearning_weights.hdf5\n",
            "Epoch 2/20\n",
            "35/35 [==============================] - 30s 855ms/step - loss: 0.6306 - acc: 0.6517 - val_loss: 0.7446 - val_acc: 0.5000\n",
            "\n",
            "Epoch 00002: val_acc did not improve from 0.56250\n",
            "Epoch 3/20\n",
            "35/35 [==============================] - 30s 858ms/step - loss: 0.5928 - acc: 0.6931 - val_loss: 0.8197 - val_acc: 0.5000\n",
            "\n",
            "Epoch 00003: val_acc did not improve from 0.56250\n",
            "Epoch 4/20\n",
            "35/35 [==============================] - 30s 856ms/step - loss: 0.5491 - acc: 0.7138 - val_loss: 0.7123 - val_acc: 0.5625\n",
            "\n",
            "Epoch 00004: val_acc did not improve from 0.56250\n",
            "Epoch 5/20\n",
            "35/35 [==============================] - 30s 855ms/step - loss: 0.5074 - acc: 0.7534 - val_loss: 0.7267 - val_acc: 0.5938\n",
            "\n",
            "Epoch 00005: val_acc improved from 0.56250 to 0.59375, saving model to /content/drive/MyDrive/experimentos/multilabel/atelectasis/transferlearning_weights.hdf5\n",
            "Epoch 6/20\n",
            "35/35 [==============================] - 30s 841ms/step - loss: 0.4764 - acc: 0.7651 - val_loss: 0.8439 - val_acc: 0.4688\n",
            "\n",
            "Epoch 00006: val_acc did not improve from 0.59375\n",
            "Epoch 7/20\n",
            "35/35 [==============================] - 30s 860ms/step - loss: 0.4650 - acc: 0.7786 - val_loss: 0.6915 - val_acc: 0.5938\n",
            "\n",
            "Epoch 00007: val_acc did not improve from 0.59375\n",
            "Epoch 8/20\n",
            "35/35 [==============================] - 30s 853ms/step - loss: 0.4040 - acc: 0.8083 - val_loss: 0.8483 - val_acc: 0.5625\n",
            "\n",
            "Epoch 00008: val_acc did not improve from 0.59375\n",
            "Epoch 9/20\n",
            "35/35 [==============================] - 30s 853ms/step - loss: 0.3974 - acc: 0.8200 - val_loss: 0.8649 - val_acc: 0.5000\n",
            "\n",
            "Epoch 00009: val_acc did not improve from 0.59375\n",
            "Epoch 10/20\n",
            "35/35 [==============================] - 30s 844ms/step - loss: 0.3695 - acc: 0.8416 - val_loss: 1.0318 - val_acc: 0.4062\n",
            "\n",
            "Epoch 00010: val_acc did not improve from 0.59375\n",
            "Epoch 11/20\n",
            "35/35 [==============================] - 30s 850ms/step - loss: 0.3672 - acc: 0.8407 - val_loss: 0.7534 - val_acc: 0.6250\n",
            "\n",
            "Epoch 00011: val_acc improved from 0.59375 to 0.62500, saving model to /content/drive/MyDrive/experimentos/multilabel/atelectasis/transferlearning_weights.hdf5\n",
            "Epoch 12/20\n",
            "35/35 [==============================] - 30s 863ms/step - loss: 0.3515 - acc: 0.8366 - val_loss: 0.8622 - val_acc: 0.5000\n",
            "\n",
            "Epoch 00012: val_acc did not improve from 0.62500\n",
            "Epoch 13/20\n",
            "35/35 [==============================] - 30s 854ms/step - loss: 0.3246 - acc: 0.8650 - val_loss: 0.9828 - val_acc: 0.5625\n",
            "\n",
            "Epoch 00013: val_acc did not improve from 0.62500\n",
            "Epoch 14/20\n",
            "35/35 [==============================] - 30s 855ms/step - loss: 0.3184 - acc: 0.8731 - val_loss: 0.8991 - val_acc: 0.6250\n",
            "\n",
            "Epoch 00014: val_acc did not improve from 0.62500\n",
            "Epoch 15/20\n",
            "35/35 [==============================] - 30s 852ms/step - loss: 0.2859 - acc: 0.8821 - val_loss: 1.4014 - val_acc: 0.5312\n",
            "\n",
            "Epoch 00015: val_acc did not improve from 0.62500\n",
            "Epoch 16/20\n",
            "35/35 [==============================] - 30s 848ms/step - loss: 0.2729 - acc: 0.8812 - val_loss: 0.9815 - val_acc: 0.5938\n",
            "\n",
            "Epoch 00016: val_acc did not improve from 0.62500\n",
            "Epoch 17/20\n",
            "35/35 [==============================] - 30s 852ms/step - loss: 0.2629 - acc: 0.8920 - val_loss: 0.8348 - val_acc: 0.5312\n",
            "\n",
            "Epoch 00017: val_acc did not improve from 0.62500\n",
            "Epoch 18/20\n",
            "35/35 [==============================] - 30s 848ms/step - loss: 0.2423 - acc: 0.8938 - val_loss: 0.7534 - val_acc: 0.6250\n",
            "\n",
            "Epoch 00018: val_acc did not improve from 0.62500\n",
            "Epoch 19/20\n",
            "35/35 [==============================] - 30s 856ms/step - loss: 0.2404 - acc: 0.9037 - val_loss: 0.6840 - val_acc: 0.7500\n",
            "\n",
            "Epoch 00019: val_acc improved from 0.62500 to 0.75000, saving model to /content/drive/MyDrive/experimentos/multilabel/atelectasis/transferlearning_weights.hdf5\n",
            "Epoch 20/20\n",
            "35/35 [==============================] - 30s 854ms/step - loss: 0.2513 - acc: 0.8965 - val_loss: 0.9219 - val_acc: 0.5938\n",
            "\n",
            "Epoch 00020: val_acc did not improve from 0.75000\n"
          ],
          "name": "stdout"
        }
      ]
    },
    {
      "cell_type": "code",
      "metadata": {
        "colab": {
          "base_uri": "https://localhost:8080/"
        },
        "id": "BVMdwXb8rW7w",
        "outputId": "896641b0-b85a-4855-d98e-6766fd97b07c"
      },
      "source": [
        "model.load_weights('/content/drive/MyDrive/experimentos/multilabel/atelectasis/transferlearning_weights.hdf5')\n",
        "model.evaluate(test_generator)"
      ],
      "execution_count": 26,
      "outputs": [
        {
          "output_type": "stream",
          "text": [
            "2/2 [==============================] - 1s 10ms/step - loss: 1.0613 - acc: 0.5588\n"
          ],
          "name": "stdout"
        },
        {
          "output_type": "execute_result",
          "data": {
            "text/plain": [
              "[1.0613316297531128, 0.5588235259056091]"
            ]
          },
          "metadata": {
            "tags": []
          },
          "execution_count": 26
        }
      ]
    },
    {
      "cell_type": "code",
      "metadata": {
        "id": "wu1rImcyr80l"
      },
      "source": [
        "(x,y) = test_generator[0]"
      ],
      "execution_count": 27,
      "outputs": []
    },
    {
      "cell_type": "code",
      "metadata": {
        "id": "PVX7g0TtsFgE"
      },
      "source": [
        "predict = model.predict(x)"
      ],
      "execution_count": 28,
      "outputs": []
    },
    {
      "cell_type": "code",
      "metadata": {
        "id": "m9ZcfBk7sF_7"
      },
      "source": [
        "from sklearn.metrics import precision_score, recall_score, accuracy_score, f1_score, confusion_matrix\n",
        "\n",
        "def thresholds(limiar, predict):\n",
        "  '''predição para diferentes thresholds'''\n",
        "\n",
        "  predict_ = []\n",
        "  for i in predict:\n",
        "    if i > limiar:\n",
        "      predict_.append(1)\n",
        "    else:\n",
        "      predict_.append(0)\n",
        "  \n",
        "  return predict_\n",
        "\n",
        "def precision_recall_accuracy_curve(predict, y):\n",
        "  ''' Relaciona a curva da Precisão, Sensibilidade e Acurácia em relação a diferentes Thresholds'''\n",
        "\n",
        "  limiares = np.arange(0, 1, 0.05)\n",
        "  predicts = []\n",
        "  precisions = []\n",
        "  recalls = []\n",
        "  accuracy = []\n",
        "  flag = 0\n",
        "  for i in limiares:\n",
        "    predicts.append(thresholds(i, predict))\n",
        "    precisions.append(precision_score(predicts[flag], y))\n",
        "    recalls.append(recall_score(predicts[flag], y))\n",
        "    accuracy.append(accuracy_score(predicts[flag], y))\n",
        "    flag += 1\n",
        "  \n",
        "  return precisions, recalls, accuracy\n",
        "\n",
        "def plot_precision_recall_accuracy_curve(precisions, recalls, accuracy):\n",
        "  '''Plotando a curva de Precisão, Sensibilidade e Acurácia'''\n",
        "\n",
        "  plt.figure(figsize = (10,5))\n",
        "  plt.plot(np.arange(0, 1, 0.05), precisions, label = 'Precision')\n",
        "  plt.plot(np.arange(0, 1, 0.05), recalls, label = 'Recall')\n",
        "  plt.plot(np.arange(0, 1, 0.05), accuracy, label = 'Accuracy')\n",
        "  plt.title('Precisão, Sensibilidade e Acurácia para diferentes Thresholds')\n",
        "  plt.xlabel('Thresholds')\n",
        "  plt.legend()\n",
        "  plt.savefig('curve-analysis')\n",
        "\n",
        "  return None\n",
        "\n",
        "def best_metrics(threshold, predict, y):\n",
        "  '''Melhores valores para o threshold escolhido'''\n",
        "\n",
        "  predict_ = thresholds(threshold, predict)\n",
        "  print('Matriz de Confusão:\\n', confusion_matrix(predict_, y))\n",
        "  print('Acurácia:', accuracy_score(predict_, y))\n",
        "  print('Precisão', precision_score(predict_, y))\n",
        "  print('Sensibilidade:', recall_score(predict_, y)) \n",
        "  print('F1_Score:', f1_score(predict_, y))\n",
        "\n",
        "  return None"
      ],
      "execution_count": 29,
      "outputs": []
    },
    {
      "cell_type": "code",
      "metadata": {
        "colab": {
          "base_uri": "https://localhost:8080/",
          "height": 350
        },
        "id": "Ijs1l2tusITV",
        "outputId": "9d8cbc7b-abaf-41f2-852c-f81dbba9a07c"
      },
      "source": [
        "# plotando a curva da Precisão, Sensibilidade e Acurácia \n",
        "precisions, recalls, accuracy = precision_recall_accuracy_curve(predict, y)\n",
        "plot_precision_recall_accuracy_curve(precisions, recalls, accuracy)"
      ],
      "execution_count": 30,
      "outputs": [
        {
          "output_type": "display_data",
          "data": {
            "image/png": "[encoded data removed]",
            "text/plain": [
              "<Figure size 720x360 with 1 Axes>"
            ]
          },
          "metadata": {
            "tags": [],
            "needs_background": "light"
          }
        }
      ]
    },
    {
      "cell_type": "code",
      "metadata": {
        "colab": {
          "base_uri": "https://localhost:8080/"
        },
        "id": "NIZAPksKsJdC",
        "outputId": "3857ab60-4915-4bca-a5c4-c0e96eb298ed"
      },
      "source": [
        "# analisando as melhores métricas encontradas para o modelo\n",
        "best_metrics(threshold = 0.55, predict = predict, y = y)"
      ],
      "execution_count": 35,
      "outputs": [
        {
          "output_type": "stream",
          "text": [
            "Matriz de Confusão:\n",
            " [[10  8]\n",
            " [ 6  8]]\n",
            "Acurácia: 0.5625\n",
            "Precisão 0.5\n",
            "Sensibilidade: 0.5714285714285714\n",
            "F1_Score: 0.5333333333333333\n"
          ],
          "name": "stdout"
        }
      ]
    },
    {
      "cell_type": "code",
      "metadata": {
        "colab": {
          "base_uri": "https://localhost:8080/"
        },
        "id": "tciuteEHtBM5",
        "outputId": "80e761ec-65aa-4606-8228-e69e0cb5f744"
      },
      "source": [
        "model.save('/content/drive/MyDrive/experimentos/multilabel/atelectasis/model1')"
      ],
      "execution_count": 36,
      "outputs": [
        {
          "output_type": "stream",
          "text": [
            "INFO:tensorflow:Assets written to: /content/drive/MyDrive/experimentos/multilabel/atelectasis/model1/assets\n"
          ],
          "name": "stdout"
        }
      ]
    }
  ]
}