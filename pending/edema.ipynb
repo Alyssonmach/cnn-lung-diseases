{
  "nbformat": 4,
  "nbformat_minor": 0,
  "metadata": {
    "colab": {
      "name": "edema.ipynb",
      "provenance": [],
      "machine_shape": "hm",
      "authorship_tag": "ABX9TyNwqBZ25amO0FtIMhxu/YSU"
    },
    "kernelspec": {
      "name": "python3",
      "display_name": "Python 3"
    },
    "language_info": {
      "name": "python"
    },
    "accelerator": "GPU"
  },
  "cells": [
    {
      "cell_type": "code",
      "metadata": {
        "id": "Mo94R4oveLfr"
      },
      "source": [
        "import os\n",
        "import pandas as pd\n",
        "from sklearn.model_selection import train_test_split\n",
        "from keras.preprocessing.image import ImageDataGenerator\n",
        "from sklearn.metrics import confusion_matrix, precision_recall_fscore_support, accuracy_score\n",
        "import matplotlib.pyplot as plt\n",
        "import numpy as np\n",
        "\n",
        "import tensorflow as tf\n",
        "from tensorflow.keras import layers\n",
        "from tensorflow.keras import Model\n",
        "from tensorflow.keras.applications import MobileNetV2\n",
        "from tensorflow.keras import optimizers\n",
        "from tensorflow.keras.callbacks import ModelCheckpoint\n",
        "import tensorflow as tf\n",
        "import urllib.request as url\n",
        "\n",
        "import warnings\n",
        "warnings.filterwarnings(\"ignore\")"
      ],
      "execution_count": 1,
      "outputs": []
    },
    {
      "cell_type": "code",
      "metadata": {
        "colab": {
          "base_uri": "https://localhost:8080/"
        },
        "id": "jnYRd5sreSa7",
        "outputId": "4a249d2b-912c-4a73-90e9-99d4789cad7f"
      },
      "source": [
        "import tensorflow as tf\n",
        "device_name = tf.test.gpu_device_name()\n",
        "if 'GPU' not in device_name:\n",
        "  print('GPU device not found')\n",
        "print('Found GPU at: {}'.format(device_name))"
      ],
      "execution_count": 2,
      "outputs": [
        {
          "output_type": "stream",
          "text": [
            "Found GPU at: /device:GPU:0\n"
          ],
          "name": "stdout"
        }
      ]
    },
    {
      "cell_type": "code",
      "metadata": {
        "id": "PZGsirqYeUnS"
      },
      "source": [
        "os.environ['CUDA_VISIBLE_DEVICES'] = '0'"
      ],
      "execution_count": 3,
      "outputs": []
    },
    {
      "cell_type": "code",
      "metadata": {
        "id": "W9RSusD1ehXl"
      },
      "source": [
        "train_df = pd.read_csv('/content/drive/MyDrive/train_df.csv', sep = ',', index_col = 0)\n",
        "validation_df = pd.read_csv('/content/drive/MyDrive/validation_df.csv', sep = ',', index_col = 0)\n",
        "test_df = pd.read_csv('/content/drive/MyDrive/test_df.csv', sep = ',', index_col = 0)"
      ],
      "execution_count": 4,
      "outputs": []
    },
    {
      "cell_type": "code",
      "metadata": {
        "id": "Nf7Oy_l4ei01"
      },
      "source": [
        "train_df = train_df[train_df.finding_labels != 'No Finding']\n",
        "validation_df = validation_df[validation_df.finding_labels != 'No Finding']\n",
        "test_df = test_df[test_df.finding_labels != 'No Finding']"
      ],
      "execution_count": 5,
      "outputs": []
    },
    {
      "cell_type": "code",
      "metadata": {
        "colab": {
          "base_uri": "https://localhost:8080/"
        },
        "id": "TtYYCnRbej9M",
        "outputId": "f24102d3-6f29-4801-ed18-810e6389101c"
      },
      "source": [
        "infiltration, _ = train_test_split(train_df[train_df.finding_labels == 'Infiltration'], test_size = 0.94)\n",
        "atelectasis, _ = train_test_split(train_df[train_df.finding_labels == 'Atelectasis'], test_size = 0.85)\n",
        "effusion, _ = train_test_split(train_df[train_df.finding_labels == 'Effusion'], test_size = 0.85)\n",
        "nodule, _ = train_test_split(train_df[train_df.finding_labels == 'Nodule'], test_size = 0.78)\n",
        "pneumothorax, _ = train_test_split(train_df[train_df.finding_labels == 'Pneumothorax'], test_size = 0.72)\n",
        "consolidation, _ = train_test_split(train_df[train_df.finding_labels == 'Consolidation'], test_size = 0.55)\n",
        "pleural_thickening, _ = train_test_split(train_df[train_df.finding_labels == 'Pleural_Thickening'], test_size = 0.45)\n",
        "emphysema, _ = train_test_split(train_df[train_df.finding_labels == 'Emphysema'], test_size = 0.32)\n",
        "fibrosis, _ = train_test_split(train_df[train_df.finding_labels == 'Fibrosis'], test_size = 0.16)  \n",
        "edema = train_df[train_df.finding_labels == 'Edema']   \n",
        "train_df = pd.concat([infiltration, atelectasis, effusion, nodule, pneumothorax, consolidation,\n",
        "                   pleural_thickening, emphysema, fibrosis, edema])\n",
        "train_df['finding_labels'].value_counts()      "
      ],
      "execution_count": 6,
      "outputs": [
        {
          "output_type": "execute_result",
          "data": {
            "text/plain": [
              "Atelectasis           585\n",
              "Edema                 578\n",
              "Pneumothorax          566\n",
              "Pleural_Thickening    565\n",
              "Fibrosis              563\n",
              "Emphysema             556\n",
              "Consolidation         550\n",
              "Nodule                549\n",
              "Effusion              546\n",
              "Infiltration          526\n",
              "Name: finding_labels, dtype: int64"
            ]
          },
          "metadata": {
            "tags": []
          },
          "execution_count": 6
        }
      ]
    },
    {
      "cell_type": "code",
      "metadata": {
        "colab": {
          "base_uri": "https://localhost:8080/"
        },
        "id": "-JtbL6NJelR7",
        "outputId": "dfb7140a-c478-4ab1-adba-59db70be815d"
      },
      "source": [
        "infiltration, _ = train_test_split(validation_df[validation_df.finding_labels == 'Infiltration'], test_size = 0.94)\n",
        "atelectasis, _ = train_test_split(validation_df[validation_df.finding_labels == 'Atelectasis'], test_size = 0.85)\n",
        "effusion, _ = train_test_split(validation_df[validation_df.finding_labels == 'Effusion'], test_size = 0.85)\n",
        "nodule, _ = train_test_split(validation_df[validation_df.finding_labels == 'Nodule'], test_size = 0.78)\n",
        "pneumothorax, _ = train_test_split(validation_df[validation_df.finding_labels == 'Pneumothorax'], test_size = 0.72)\n",
        "consolidation, _ = train_test_split(validation_df[validation_df.finding_labels == 'Consolidation'], test_size = 0.55)\n",
        "pleural_thickening, _ = train_test_split(validation_df[validation_df.finding_labels == 'Pleural_Thickening'], test_size = 0.45)\n",
        "emphysema, _ = train_test_split(validation_df[validation_df.finding_labels == 'Emphysema'], test_size = 0.32)\n",
        "fibrosis, _ = train_test_split(validation_df[validation_df.finding_labels == 'Fibrosis'], test_size = 0.16)  \n",
        "edema = validation_df[validation_df.finding_labels == 'Edema']   \n",
        "validation_df = pd.concat([infiltration, atelectasis, effusion, nodule, pneumothorax, consolidation,\n",
        "                   pleural_thickening, emphysema, fibrosis, edema])\n",
        "validation_df['finding_labels'].value_counts()      "
      ],
      "execution_count": 7,
      "outputs": [
        {
          "output_type": "execute_result",
          "data": {
            "text/plain": [
              "Edema                 35\n",
              "Pleural_Thickening    31\n",
              "Emphysema             31\n",
              "Atelectasis           29\n",
              "Effusion              29\n",
              "Infiltration          29\n",
              "Fibrosis              28\n",
              "Nodule                26\n",
              "Pneumothorax          25\n",
              "Consolidation         24\n",
              "Name: finding_labels, dtype: int64"
            ]
          },
          "metadata": {
            "tags": []
          },
          "execution_count": 7
        }
      ]
    },
    {
      "cell_type": "code",
      "metadata": {
        "colab": {
          "base_uri": "https://localhost:8080/"
        },
        "id": "SZqnC6odenpS",
        "outputId": "3c60e9da-8412-4343-9b5d-d4ed9cc3f746"
      },
      "source": [
        "infiltration, _ = train_test_split(test_df[test_df.finding_labels == 'Infiltration'], test_size = 0.94)\n",
        "atelectasis, _ = train_test_split(test_df[test_df.finding_labels == 'Atelectasis'], test_size = 0.85)\n",
        "effusion, _ = train_test_split(test_df[test_df.finding_labels == 'Effusion'], test_size = 0.85)\n",
        "nodule, _ = train_test_split(test_df[test_df.finding_labels == 'Nodule'], test_size = 0.78)\n",
        "pneumothorax, _ = train_test_split(test_df[test_df.finding_labels == 'Pneumothorax'], test_size = 0.72)\n",
        "consolidation, _ = train_test_split(test_df[test_df.finding_labels == 'Consolidation'], test_size = 0.55)\n",
        "pleural_thickening, _ = train_test_split(test_df[test_df.finding_labels == 'Pleural_Thickening'], test_size = 0.45)\n",
        "emphysema, _ = train_test_split(test_df[test_df.finding_labels == 'Emphysema'], test_size = 0.32)\n",
        "fibrosis, _ = train_test_split(test_df[test_df.finding_labels == 'Fibrosis'], test_size = 0.16)  \n",
        "edema = test_df[test_df.finding_labels == 'Edema']   \n",
        "test_df = pd.concat([infiltration, atelectasis, effusion, nodule, pneumothorax, consolidation,\n",
        "                   pleural_thickening, emphysema, fibrosis, edema])\n",
        "test_df['finding_labels'].value_counts()      "
      ],
      "execution_count": 8,
      "outputs": [
        {
          "output_type": "execute_result",
          "data": {
            "text/plain": [
              "Pleural_Thickening    22\n",
              "Pneumothorax          22\n",
              "Emphysema             19\n",
              "Fibrosis              18\n",
              "Nodule                18\n",
              "Atelectasis           17\n",
              "Infiltration          17\n",
              "Effusion              16\n",
              "Edema                 15\n",
              "Consolidation         13\n",
              "Name: finding_labels, dtype: int64"
            ]
          },
          "metadata": {
            "tags": []
          },
          "execution_count": 8
        }
      ]
    },
    {
      "cell_type": "code",
      "metadata": {
        "id": "7A87okIte1R7"
      },
      "source": [
        "edema = train_df[train_df.finding_labels == 'Edema']\n",
        "edema['class_name'] =  1\n",
        "others = train_df[train_df.finding_labels != 'Edema']\n",
        "others = train_df[train_df.finding_labels != 'No finding']\n",
        "others['class_name'] = 0\n",
        "others , _ = train_test_split(others, test_size = 0.9, random_state = 42, \n",
        "                               shuffle = True, stratify = others['finding_labels'])\n",
        "train_df_ = pd.concat([edema, others])"
      ],
      "execution_count": 9,
      "outputs": []
    },
    {
      "cell_type": "code",
      "metadata": {
        "id": "pSpq28-Ee216"
      },
      "source": [
        "edema = validation_df[validation_df.finding_labels == 'Edema']\n",
        "edema['class_name'] =  1\n",
        "others = validation_df[validation_df.finding_labels != 'Edema']\n",
        "others = validation_df[validation_df.finding_labels != 'No finding']\n",
        "others['class_name'] = 0\n",
        "others , _ = train_test_split(others, test_size = 0.9, random_state = 42, \n",
        "                               shuffle = True, stratify = others['finding_labels'])\n",
        "validation_df_ = pd.concat([edema, others])"
      ],
      "execution_count": 10,
      "outputs": []
    },
    {
      "cell_type": "code",
      "metadata": {
        "id": "pGVA9gemesUC"
      },
      "source": [
        "edema = test_df[test_df.finding_labels == 'Edema']\n",
        "edema['class_name'] =  1\n",
        "others = test_df[test_df.finding_labels != 'Edema']\n",
        "others = test_df[test_df.finding_labels != 'No finding']\n",
        "others['class_name'] = 0\n",
        "others , _ = train_test_split(others, test_size = 0.9, random_state = 42, \n",
        "                               shuffle = True, stratify = others['finding_labels'])\n",
        "test_df_ = pd.concat([edema, others])"
      ],
      "execution_count": 11,
      "outputs": []
    },
    {
      "cell_type": "code",
      "metadata": {
        "colab": {
          "base_uri": "https://localhost:8080/"
        },
        "id": "Df1UsT8zf5pF",
        "outputId": "2be7446c-8eaa-4bec-db30-6c2c7483fda7"
      },
      "source": [
        "image_generator = ImageDataGenerator(rescale = 1/255, samplewise_center = True, \n",
        "                                     samplewise_std_normalization = True,\n",
        "                                     horizontal_flip = True,\n",
        "                                     vertical_flip = False,\n",
        "                                     height_shift_range = 0.05,\n",
        "                                     width_shift_range = 0.1,\n",
        "                                     rotation_range = 5,\n",
        "                                     shear_range = 0.1,\n",
        "                                     fill_mode = 'reflect',\n",
        "                                     zoom_range = 0.15)\n",
        "\n",
        "train_generator = image_generator.flow_from_dataframe(\n",
        "                                                      dataframe = train_df_,\n",
        "                                                      directory = '',\n",
        "                                                      x_col = 'Image Index',\n",
        "                                                      y_col = 'class_name',\n",
        "                                                      batch_size = 32,\n",
        "                                                      seed = 42,\n",
        "                                                      shuffle = True,\n",
        "                                                      class_mode = 'raw',\n",
        "                                                      target_size = (256, 256))\n",
        "\n",
        "test_datagen = ImageDataGenerator(samplewise_center = True, \n",
        "                                  samplewise_std_normalization = True)\n",
        "\n",
        "valid_generator = test_datagen.flow_from_dataframe(\n",
        "                                                      dataframe = validation_df_,\n",
        "                                                      directory = '.', \n",
        "                                                      x_col = 'Image Index',\n",
        "                                                      y_col = 'class_name',\n",
        "                                                      batch_size = 32,\n",
        "                                                      seed = 42,\n",
        "                                                      shuffle = True,\n",
        "                                                      class_mode = 'raw',\n",
        "                                                      target_size = (256, 256))\n",
        "\n",
        "test_generator = test_datagen.flow_from_dataframe(\n",
        "                                                  dataframe = test_df_, \n",
        "                                                  directory = '.',\n",
        "                                                  x_col = 'Image Index',\n",
        "                                                  y_col = 'class_name',\n",
        "                                                  batch_size = 32,\n",
        "                                                  seed = 42,\n",
        "                                                  shuffle = True,\n",
        "                                                  class_mode = 'raw',\n",
        "                                                  target_size = (256, 256))"
      ],
      "execution_count": 12,
      "outputs": [
        {
          "output_type": "stream",
          "text": [
            "Found 1136 validated image filenames.\n",
            "Found 63 validated image filenames.\n",
            "Found 32 validated image filenames.\n"
          ],
          "name": "stdout"
        }
      ]
    },
    {
      "cell_type": "code",
      "metadata": {
        "colab": {
          "base_uri": "https://localhost:8080/"
        },
        "id": "zIA9bJfYf7lT",
        "outputId": "214ca13c-4af0-4b8f-b718-32c6420ea483"
      },
      "source": [
        "model = MobileNetV2(input_shape = (256, 256, 3), include_top = False, weights = 'imagenet')\n",
        "x = tf.keras.layers.GlobalAveragePooling2D()(model.output)\n",
        "x = tf.keras.layers.Dense(units = 1, activation = 'sigmoid')(x)\n",
        "\n",
        "model = tf.keras.models.Model(inputs = model.input, outputs = x)"
      ],
      "execution_count": 13,
      "outputs": [
        {
          "output_type": "stream",
          "text": [
            "WARNING:tensorflow:`input_shape` is undefined or non-square, or `rows` is not in [96, 128, 160, 192, 224]. Weights for input shape (224, 224) will be loaded as the default.\n"
          ],
          "name": "stdout"
        }
      ]
    },
    {
      "cell_type": "code",
      "metadata": {
        "id": "c17oHBHpgAGN"
      },
      "source": [
        "filepath = \"/content/drive/MyDrive/experimentos/multilabel/edema/transferlearning_weights.hdf5\"\n",
        "checkpoint = ModelCheckpoint(filepath, monitor = 'val_acc', verbose = 1, save_best_only = True, mode = 'max')"
      ],
      "execution_count": 14,
      "outputs": []
    },
    {
      "cell_type": "code",
      "metadata": {
        "id": "5njQGk4VgLUC"
      },
      "source": [
        "callbacks = [checkpoint]"
      ],
      "execution_count": 15,
      "outputs": []
    },
    {
      "cell_type": "code",
      "metadata": {
        "id": "MdKM0MJ5gMfJ"
      },
      "source": [
        "model.compile(optimizer = optimizers.RMSprop(learning_rate = 0.0001), loss = 'binary_crossentropy', \n",
        "              metrics = ['acc'])"
      ],
      "execution_count": 16,
      "outputs": []
    },
    {
      "cell_type": "code",
      "metadata": {
        "colab": {
          "base_uri": "https://localhost:8080/"
        },
        "id": "gfMWlj-PgNsL",
        "outputId": "147690a2-7a6e-4242-f355-99349308e853"
      },
      "source": [
        "history = model.fit(train_generator, steps_per_epoch = 1136 // 32, \n",
        "                    validation_data = valid_generator, validation_steps = 63 // 32,\n",
        "                    callbacks = callbacks, epochs = 20)"
      ],
      "execution_count": 17,
      "outputs": [
        {
          "output_type": "stream",
          "text": [
            "Epoch 1/20\n",
            "35/35 [==============================] - 273s 8s/step - loss: 0.6091 - acc: 0.6683 - val_loss: 0.5493 - val_acc: 0.7500\n",
            "\n",
            "Epoch 00001: val_acc improved from -inf to 0.75000, saving model to /content/drive/MyDrive/experimentos/multilabel/edema/transferlearning_weights.hdf5\n",
            "Epoch 2/20\n",
            "35/35 [==============================] - 30s 856ms/step - loss: 0.4589 - acc: 0.7819 - val_loss: 0.7697 - val_acc: 0.6875\n",
            "\n",
            "Epoch 00002: val_acc did not improve from 0.75000\n",
            "Epoch 3/20\n",
            "35/35 [==============================] - 30s 847ms/step - loss: 0.4387 - acc: 0.8059 - val_loss: 0.7731 - val_acc: 0.5625\n",
            "\n",
            "Epoch 00003: val_acc did not improve from 0.75000\n",
            "Epoch 4/20\n",
            "35/35 [==============================] - 30s 843ms/step - loss: 0.3858 - acc: 0.8324 - val_loss: 0.6490 - val_acc: 0.6875\n",
            "\n",
            "Epoch 00004: val_acc did not improve from 0.75000\n",
            "Epoch 5/20\n",
            "35/35 [==============================] - 30s 846ms/step - loss: 0.3660 - acc: 0.8429 - val_loss: 0.7331 - val_acc: 0.7500\n",
            "\n",
            "Epoch 00005: val_acc did not improve from 0.75000\n",
            "Epoch 6/20\n",
            "35/35 [==============================] - 30s 847ms/step - loss: 0.3685 - acc: 0.8403 - val_loss: 0.6924 - val_acc: 0.7188\n",
            "\n",
            "Epoch 00006: val_acc did not improve from 0.75000\n",
            "Epoch 7/20\n",
            "35/35 [==============================] - 30s 845ms/step - loss: 0.3035 - acc: 0.8883 - val_loss: 0.7376 - val_acc: 0.7500\n",
            "\n",
            "Epoch 00007: val_acc did not improve from 0.75000\n",
            "Epoch 8/20\n",
            "35/35 [==============================] - 30s 851ms/step - loss: 0.3035 - acc: 0.8728 - val_loss: 0.7709 - val_acc: 0.7188\n",
            "\n",
            "Epoch 00008: val_acc did not improve from 0.75000\n",
            "Epoch 9/20\n",
            "35/35 [==============================] - 30s 845ms/step - loss: 0.2836 - acc: 0.8862 - val_loss: 0.4677 - val_acc: 0.8750\n",
            "\n",
            "Epoch 00009: val_acc improved from 0.75000 to 0.87500, saving model to /content/drive/MyDrive/experimentos/multilabel/edema/transferlearning_weights.hdf5\n",
            "Epoch 10/20\n",
            "35/35 [==============================] - 30s 848ms/step - loss: 0.2437 - acc: 0.8910 - val_loss: 0.6134 - val_acc: 0.8438\n",
            "\n",
            "Epoch 00010: val_acc did not improve from 0.87500\n",
            "Epoch 11/20\n",
            "35/35 [==============================] - 30s 846ms/step - loss: 0.2774 - acc: 0.8847 - val_loss: 0.8452 - val_acc: 0.6875\n",
            "\n",
            "Epoch 00011: val_acc did not improve from 0.87500\n",
            "Epoch 12/20\n",
            "35/35 [==============================] - 30s 866ms/step - loss: 0.2253 - acc: 0.9001 - val_loss: 0.5565 - val_acc: 0.7812\n",
            "\n",
            "Epoch 00012: val_acc did not improve from 0.87500\n",
            "Epoch 13/20\n",
            "35/35 [==============================] - 30s 848ms/step - loss: 0.2169 - acc: 0.9193 - val_loss: 0.7348 - val_acc: 0.7812\n",
            "\n",
            "Epoch 00013: val_acc did not improve from 0.87500\n",
            "Epoch 14/20\n",
            "35/35 [==============================] - 30s 848ms/step - loss: 0.2212 - acc: 0.9120 - val_loss: 0.9384 - val_acc: 0.6875\n",
            "\n",
            "Epoch 00014: val_acc did not improve from 0.87500\n",
            "Epoch 15/20\n",
            "35/35 [==============================] - 30s 846ms/step - loss: 0.1944 - acc: 0.9141 - val_loss: 0.3277 - val_acc: 0.8750\n",
            "\n",
            "Epoch 00015: val_acc did not improve from 0.87500\n",
            "Epoch 16/20\n",
            "35/35 [==============================] - 30s 850ms/step - loss: 0.1951 - acc: 0.9236 - val_loss: 0.6683 - val_acc: 0.7188\n",
            "\n",
            "Epoch 00016: val_acc did not improve from 0.87500\n",
            "Epoch 17/20\n",
            "35/35 [==============================] - 30s 842ms/step - loss: 0.1703 - acc: 0.9348 - val_loss: 0.9395 - val_acc: 0.5625\n",
            "\n",
            "Epoch 00017: val_acc did not improve from 0.87500\n",
            "Epoch 18/20\n",
            "35/35 [==============================] - 30s 850ms/step - loss: 0.1803 - acc: 0.9230 - val_loss: 0.8519 - val_acc: 0.8125\n",
            "\n",
            "Epoch 00018: val_acc did not improve from 0.87500\n",
            "Epoch 19/20\n",
            "35/35 [==============================] - 30s 845ms/step - loss: 0.1698 - acc: 0.9154 - val_loss: 1.0695 - val_acc: 0.7188\n",
            "\n",
            "Epoch 00019: val_acc did not improve from 0.87500\n",
            "Epoch 20/20\n",
            "35/35 [==============================] - 30s 846ms/step - loss: 0.2360 - acc: 0.8964 - val_loss: 0.8966 - val_acc: 0.6875\n",
            "\n",
            "Epoch 00020: val_acc did not improve from 0.87500\n"
          ],
          "name": "stdout"
        }
      ]
    },
    {
      "cell_type": "code",
      "metadata": {
        "colab": {
          "base_uri": "https://localhost:8080/"
        },
        "id": "--ZhLj7xpTMC",
        "outputId": "91e344f2-0777-4a91-bdbf-cf4636c73b6a"
      },
      "source": [
        "model.evaluate(test_generator)"
      ],
      "execution_count": 18,
      "outputs": [
        {
          "output_type": "stream",
          "text": [
            "1/1 [==============================] - 1s 519ms/step - loss: 0.9618 - acc: 0.7188\n"
          ],
          "name": "stdout"
        },
        {
          "output_type": "execute_result",
          "data": {
            "text/plain": [
              "[0.9617717266082764, 0.71875]"
            ]
          },
          "metadata": {
            "tags": []
          },
          "execution_count": 18
        }
      ]
    },
    {
      "cell_type": "code",
      "metadata": {
        "id": "NlU1QcLlpdhG"
      },
      "source": [
        "(x,y) = test_generator[0]"
      ],
      "execution_count": 19,
      "outputs": []
    },
    {
      "cell_type": "code",
      "metadata": {
        "id": "bYmgZssEqIBu"
      },
      "source": [
        "predict = model.predict(x)"
      ],
      "execution_count": 21,
      "outputs": []
    },
    {
      "cell_type": "code",
      "metadata": {
        "id": "lCSICGm9qKpe"
      },
      "source": [
        "from sklearn.metrics import precision_score, recall_score, accuracy_score, f1_score, confusion_matrix\n",
        "\n",
        "def thresholds(limiar, predict):\n",
        "  '''predição para diferentes thresholds'''\n",
        "\n",
        "  predict_ = []\n",
        "  for i in predict:\n",
        "    if i > limiar:\n",
        "      predict_.append(1)\n",
        "    else:\n",
        "      predict_.append(0)\n",
        "  \n",
        "  return predict_\n",
        "\n",
        "def precision_recall_accuracy_curve(predict, y):\n",
        "  ''' Relaciona a curva da Precisão, Sensibilidade e Acurácia em relação a diferentes Thresholds'''\n",
        "\n",
        "  limiares = np.arange(0, 1, 0.05)\n",
        "  predicts = []\n",
        "  precisions = []\n",
        "  recalls = []\n",
        "  accuracy = []\n",
        "  flag = 0\n",
        "  for i in limiares:\n",
        "    predicts.append(thresholds(i, predict))\n",
        "    precisions.append(precision_score(predicts[flag], y))\n",
        "    recalls.append(recall_score(predicts[flag], y))\n",
        "    accuracy.append(accuracy_score(predicts[flag], y))\n",
        "    flag += 1\n",
        "  \n",
        "  return precisions, recalls, accuracy\n",
        "\n",
        "def plot_precision_recall_accuracy_curve(precisions, recalls, accuracy):\n",
        "  '''Plotando a curva de Precisão, Sensibilidade e Acurácia'''\n",
        "\n",
        "  plt.figure(figsize = (10,5))\n",
        "  plt.plot(np.arange(0, 1, 0.05), precisions, label = 'Precision')\n",
        "  plt.plot(np.arange(0, 1, 0.05), recalls, label = 'Recall')\n",
        "  plt.plot(np.arange(0, 1, 0.05), accuracy, label = 'Accuracy')\n",
        "  plt.title('Precisão, Sensibilidade e Acurácia para diferentes Thresholds')\n",
        "  plt.xlabel('Thresholds')\n",
        "  plt.legend()\n",
        "  plt.savefig('curve-analysis')\n",
        "\n",
        "  return None\n",
        "\n",
        "def best_metrics(threshold, predict, y):\n",
        "  '''Melhores valores para o threshold escolhido'''\n",
        "\n",
        "  predict_ = thresholds(threshold, predict)\n",
        "  print('Matriz de Confusão:\\n', confusion_matrix(predict_, y))\n",
        "  print('Acurácia:', accuracy_score(predict_, y))\n",
        "  print('Precisão', precision_score(predict_, y))\n",
        "  print('Sensibilidade:', recall_score(predict_, y)) \n",
        "  print('F1_Score:', f1_score(predict_, y))\n",
        "\n",
        "  return None"
      ],
      "execution_count": 22,
      "outputs": []
    },
    {
      "cell_type": "code",
      "metadata": {
        "colab": {
          "base_uri": "https://localhost:8080/",
          "height": 350
        },
        "id": "1RQoGmRPqLoX",
        "outputId": "3d18e667-1adc-4f87-cebd-4d903c4bee23"
      },
      "source": [
        "# plotando a curva da Precisão, Sensibilidade e Acurácia \n",
        "precisions, recalls, accuracy = precision_recall_accuracy_curve(predict, y)\n",
        "plot_precision_recall_accuracy_curve(precisions, recalls, accuracy)"
      ],
      "execution_count": 23,
      "outputs": [
        {
          "output_type": "display_data",
          "data": {
            "image/png": "[encoded data removed]",
            "text/plain": [
              "<Figure size 720x360 with 1 Axes>"
            ]
          },
          "metadata": {
            "tags": [],
            "needs_background": "light"
          }
        }
      ]
    },
    {
      "cell_type": "code",
      "metadata": {
        "colab": {
          "base_uri": "https://localhost:8080/"
        },
        "id": "7wPIOB4aqRCS",
        "outputId": "b719a0ca-5e6e-4afe-a0d9-a1fbad66bb44"
      },
      "source": [
        "# analisando as melhores métricas encontradas para o modelo\n",
        "best_metrics(threshold = 0.20, predict = predict, y = y)"
      ],
      "execution_count": 24,
      "outputs": [
        {
          "output_type": "stream",
          "text": [
            "Matriz de Confusão:\n",
            " [[13  2]\n",
            " [ 4 13]]\n",
            "Acurácia: 0.8125\n",
            "Precisão 0.8666666666666667\n",
            "Sensibilidade: 0.7647058823529411\n",
            "F1_Score: 0.8125\n"
          ],
          "name": "stdout"
        }
      ]
    },
    {
      "cell_type": "code",
      "metadata": {
        "colab": {
          "base_uri": "https://localhost:8080/",
          "height": 350
        },
        "id": "fJIVsB6OqWy_",
        "outputId": "b176f50f-e75c-4cd8-ee64-c6c150cad586"
      },
      "source": [
        "# visualizando o ganho de acurácia durante o treinamento\n",
        "plt.figure(figsize = (15,5))\n",
        "plt.subplot(1, 2, 1)\n",
        "plt.plot(history.history['acc'])\n",
        "plt.plot(history.history['val_acc'])\n",
        "plt.title('model accuracy')\n",
        "plt.ylabel('accuracy')\n",
        "plt.xlabel('epoch')\n",
        "plt.legend(['train', 'test'], loc='upper left')\n",
        "plt.savefig('model-accuracy')\n",
        "\n",
        "# visualizando o decaimento da função de custo durante o treinamento \n",
        "plt.subplot(1, 2, 2)\n",
        "plt.plot(history.history['loss'])\n",
        "plt.plot(history.history['val_loss'])\n",
        "plt.title('model loss')\n",
        "plt.ylabel('loss')\n",
        "plt.xlabel('epoch')\n",
        "plt.legend(['train', 'test'], loc='upper left')\n",
        "plt.savefig('model-loss')"
      ],
      "execution_count": 25,
      "outputs": [
        {
          "output_type": "display_data",
          "data": {
            "image/png": "[encoded data removed]",
            "text/plain": [
              "<Figure size 1080x360 with 2 Axes>"
            ]
          },
          "metadata": {
            "tags": [],
            "needs_background": "light"
          }
        }
      ]
    },
    {
      "cell_type": "code",
      "metadata": {
        "colab": {
          "base_uri": "https://localhost:8080/"
        },
        "id": "Za3ltcznrJQF",
        "outputId": "2e676efe-ba80-42ec-8362-8885264be37e"
      },
      "source": [
        "model.save('/content/drive/MyDrive/experimentos/multilabel/edema/model1')"
      ],
      "execution_count": 26,
      "outputs": [
        {
          "output_type": "stream",
          "text": [
            "INFO:tensorflow:Assets written to: /content/drive/MyDrive/experimentos/multilabel/edema/model1/assets\n"
          ],
          "name": "stdout"
        }
      ]
    },
    {
      "cell_type": "code",
      "metadata": {
        "id": "44AQ_oP-riFz"
      },
      "source": [
        "model.load_weights('/content/drive/MyDrive/experimentos/multilabel/edema/transferlearning_weights.hdf5')"
      ],
      "execution_count": 27,
      "outputs": []
    },
    {
      "cell_type": "code",
      "metadata": {
        "colab": {
          "base_uri": "https://localhost:8080/"
        },
        "id": "78oe4bcrshh6",
        "outputId": "0e21d1ba-89bc-4910-87bf-99f47648a863"
      },
      "source": [
        "model.evaluate(test_generator)"
      ],
      "execution_count": 28,
      "outputs": [
        {
          "output_type": "stream",
          "text": [
            "1/1 [==============================] - 1s 535ms/step - loss: 0.9702 - acc: 0.8438\n"
          ],
          "name": "stdout"
        },
        {
          "output_type": "execute_result",
          "data": {
            "text/plain": [
              "[0.9701976776123047, 0.84375]"
            ]
          },
          "metadata": {
            "tags": []
          },
          "execution_count": 28
        }
      ]
    },
    {
      "cell_type": "code",
      "metadata": {
        "id": "g5Rj2a04skSN"
      },
      "source": [
        "predict = model.predict(x)"
      ],
      "execution_count": 29,
      "outputs": []
    },
    {
      "cell_type": "code",
      "metadata": {
        "colab": {
          "base_uri": "https://localhost:8080/",
          "height": 350
        },
        "id": "RETCjqgKss-R",
        "outputId": "2e67fabf-4cbe-4837-99e2-3eed982d8522"
      },
      "source": [
        "# plotando a curva da Precisão, Sensibilidade e Acurácia \n",
        "precisions, recalls, accuracy = precision_recall_accuracy_curve(predict, y)\n",
        "plot_precision_recall_accuracy_curve(precisions, recalls, accuracy)"
      ],
      "execution_count": 30,
      "outputs": [
        {
          "output_type": "display_data",
          "data": {
            "image/png": "[encoded data removed]",
            "text/plain": [
              "<Figure size 720x360 with 1 Axes>"
            ]
          },
          "metadata": {
            "tags": [],
            "needs_background": "light"
          }
        }
      ]
    },
    {
      "cell_type": "code",
      "metadata": {
        "colab": {
          "base_uri": "https://localhost:8080/"
        },
        "id": "3hjYiRMHsw1j",
        "outputId": "8f24a502-cb9a-47b5-f551-ac1daf52edd6"
      },
      "source": [
        "# analisando as melhores métricas encontradas para o modelo\n",
        "best_metrics(threshold = 0.50, predict = predict, y = y)"
      ],
      "execution_count": 31,
      "outputs": [
        {
          "output_type": "stream",
          "text": [
            "Matriz de Confusão:\n",
            " [[13  1]\n",
            " [ 4 14]]\n",
            "Acurácia: 0.84375\n",
            "Precisão 0.9333333333333333\n",
            "Sensibilidade: 0.7777777777777778\n",
            "F1_Score: 0.8484848484848485\n"
          ],
          "name": "stdout"
        }
      ]
    },
    {
      "cell_type": "code",
      "metadata": {
        "colab": {
          "base_uri": "https://localhost:8080/"
        },
        "id": "0GYvBd92s208",
        "outputId": "89625cd5-507e-40b8-f114-114ac5fc0237"
      },
      "source": [
        "model.save('/content/drive/MyDrive/experimentos/multilabel/edema/model2')"
      ],
      "execution_count": 32,
      "outputs": [
        {
          "output_type": "stream",
          "text": [
            "INFO:tensorflow:Assets written to: /content/drive/MyDrive/experimentos/multilabel/edema/model2/assets\n"
          ],
          "name": "stdout"
        }
      ]
    }
  ]
}