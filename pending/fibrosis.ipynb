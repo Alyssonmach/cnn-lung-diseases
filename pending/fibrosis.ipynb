{
  "nbformat": 4,
  "nbformat_minor": 0,
  "metadata": {
    "colab": {
      "name": "fibrosis.ipynb",
      "provenance": [],
      "machine_shape": "hm",
      "authorship_tag": "ABX9TyOjFnJeJCUW+Rwy5I33m+rS"
    },
    "kernelspec": {
      "name": "python3",
      "display_name": "Python 3"
    },
    "language_info": {
      "name": "python"
    },
    "accelerator": "TPU"
  },
  "cells": [
    {
      "cell_type": "code",
      "metadata": {
        "id": "bNfOOwwi2Q6R"
      },
      "source": [
        "import os\n",
        "import pandas as pd\n",
        "from sklearn.model_selection import train_test_split\n",
        "from keras.preprocessing.image import ImageDataGenerator\n",
        "from sklearn.metrics import confusion_matrix, precision_recall_fscore_support, accuracy_score\n",
        "import matplotlib.pyplot as plt\n",
        "import numpy as np\n",
        "\n",
        "import tensorflow as tf\n",
        "from tensorflow.keras import layers\n",
        "from tensorflow.keras import Model\n",
        "from tensorflow.keras.applications import MobileNetV2\n",
        "from tensorflow.keras import optimizers\n",
        "from tensorflow.keras.callbacks import ModelCheckpoint\n",
        "import tensorflow as tf\n",
        "import urllib.request as url\n",
        "\n",
        "import warnings\n",
        "warnings.filterwarnings(\"ignore\")"
      ],
      "execution_count": 1,
      "outputs": []
    },
    {
      "cell_type": "code",
      "metadata": {
        "id": "aMUZM1_C2XDs"
      },
      "source": [
        "train_df = pd.read_csv('/content/drive/MyDrive/train_df.csv', sep = ',', index_col = 0)\n",
        "validation_df = pd.read_csv('/content/drive/MyDrive/validation_df.csv', sep = ',', index_col = 0)\n",
        "test_df = pd.read_csv('/content/drive/MyDrive/test_df.csv', sep = ',', index_col = 0)"
      ],
      "execution_count": 3,
      "outputs": []
    },
    {
      "cell_type": "code",
      "metadata": {
        "id": "-vwsNxxJ2fpL"
      },
      "source": [
        "train_df = train_df[train_df.finding_labels != 'No Finding']\n",
        "validation_df = validation_df[validation_df.finding_labels != 'No Finding']\n",
        "test_df = test_df[test_df.finding_labels != 'No Finding']"
      ],
      "execution_count": 4,
      "outputs": []
    },
    {
      "cell_type": "code",
      "metadata": {
        "colab": {
          "base_uri": "https://localhost:8080/"
        },
        "id": "nTKAPz_q2g-5",
        "outputId": "074c33bb-9f0e-4527-dffe-aef1c627a1f3"
      },
      "source": [
        "infiltration, _ = train_test_split(train_df[train_df.finding_labels == 'Infiltration'], test_size = 0.94)\n",
        "atelectasis, _ = train_test_split(train_df[train_df.finding_labels == 'Atelectasis'], test_size = 0.85)\n",
        "effusion, _ = train_test_split(train_df[train_df.finding_labels == 'Effusion'], test_size = 0.85)\n",
        "nodule, _ = train_test_split(train_df[train_df.finding_labels == 'Nodule'], test_size = 0.78)\n",
        "pneumothorax, _ = train_test_split(train_df[train_df.finding_labels == 'Pneumothorax'], test_size = 0.72)\n",
        "consolidation, _ = train_test_split(train_df[train_df.finding_labels == 'Consolidation'], test_size = 0.55)\n",
        "pleural_thickening, _ = train_test_split(train_df[train_df.finding_labels == 'Pleural_Thickening'], test_size = 0.45)\n",
        "emphysema, _ = train_test_split(train_df[train_df.finding_labels == 'Emphysema'], test_size = 0.32)\n",
        "fibrosis, _ = train_test_split(train_df[train_df.finding_labels == 'Fibrosis'], test_size = 0.16)  \n",
        "edema = train_df[train_df.finding_labels == 'Edema']   \n",
        "train_df = pd.concat([infiltration, atelectasis, effusion, nodule, pneumothorax, consolidation,\n",
        "                   pleural_thickening, emphysema, fibrosis, edema])\n",
        "train_df['finding_labels'].value_counts()      "
      ],
      "execution_count": 5,
      "outputs": [
        {
          "output_type": "execute_result",
          "data": {
            "text/plain": [
              "Atelectasis           585\n",
              "Edema                 578\n",
              "Pneumothorax          566\n",
              "Pleural_Thickening    565\n",
              "Fibrosis              563\n",
              "Emphysema             556\n",
              "Consolidation         550\n",
              "Nodule                549\n",
              "Effusion              546\n",
              "Infiltration          526\n",
              "Name: finding_labels, dtype: int64"
            ]
          },
          "metadata": {
            "tags": []
          },
          "execution_count": 5
        }
      ]
    },
    {
      "cell_type": "code",
      "metadata": {
        "colab": {
          "base_uri": "https://localhost:8080/"
        },
        "id": "-DicOkQz2h85",
        "outputId": "31976a4f-2175-425a-937b-aadb568fecff"
      },
      "source": [
        "infiltration, _ = train_test_split(validation_df[validation_df.finding_labels == 'Infiltration'], test_size = 0.94)\n",
        "atelectasis, _ = train_test_split(validation_df[validation_df.finding_labels == 'Atelectasis'], test_size = 0.85)\n",
        "effusion, _ = train_test_split(validation_df[validation_df.finding_labels == 'Effusion'], test_size = 0.85)\n",
        "nodule, _ = train_test_split(validation_df[validation_df.finding_labels == 'Nodule'], test_size = 0.78)\n",
        "pneumothorax, _ = train_test_split(validation_df[validation_df.finding_labels == 'Pneumothorax'], test_size = 0.72)\n",
        "consolidation, _ = train_test_split(validation_df[validation_df.finding_labels == 'Consolidation'], test_size = 0.55)\n",
        "pleural_thickening, _ = train_test_split(validation_df[validation_df.finding_labels == 'Pleural_Thickening'], test_size = 0.45)\n",
        "emphysema, _ = train_test_split(validation_df[validation_df.finding_labels == 'Emphysema'], test_size = 0.32)\n",
        "fibrosis, _ = train_test_split(validation_df[validation_df.finding_labels == 'Fibrosis'], test_size = 0.16)  \n",
        "edema = validation_df[validation_df.finding_labels == 'Edema']   \n",
        "validation_df = pd.concat([infiltration, atelectasis, effusion, nodule, pneumothorax, consolidation,\n",
        "                   pleural_thickening, emphysema, fibrosis, edema])\n",
        "validation_df['finding_labels'].value_counts()      "
      ],
      "execution_count": 6,
      "outputs": [
        {
          "output_type": "execute_result",
          "data": {
            "text/plain": [
              "Edema                 35\n",
              "Emphysema             31\n",
              "Pleural_Thickening    31\n",
              "Effusion              29\n",
              "Atelectasis           29\n",
              "Infiltration          29\n",
              "Fibrosis              28\n",
              "Nodule                26\n",
              "Pneumothorax          25\n",
              "Consolidation         24\n",
              "Name: finding_labels, dtype: int64"
            ]
          },
          "metadata": {
            "tags": []
          },
          "execution_count": 6
        }
      ]
    },
    {
      "cell_type": "code",
      "metadata": {
        "colab": {
          "base_uri": "https://localhost:8080/"
        },
        "id": "qrETaqwS2khL",
        "outputId": "a49d5005-e889-423c-f9ea-af0c3be8ceac"
      },
      "source": [
        "infiltration, _ = train_test_split(test_df[test_df.finding_labels == 'Infiltration'], test_size = 0.94)\n",
        "atelectasis, _ = train_test_split(test_df[test_df.finding_labels == 'Atelectasis'], test_size = 0.85)\n",
        "effusion, _ = train_test_split(test_df[test_df.finding_labels == 'Effusion'], test_size = 0.85)\n",
        "nodule, _ = train_test_split(test_df[test_df.finding_labels == 'Nodule'], test_size = 0.78)\n",
        "pneumothorax, _ = train_test_split(test_df[test_df.finding_labels == 'Pneumothorax'], test_size = 0.72)\n",
        "consolidation, _ = train_test_split(test_df[test_df.finding_labels == 'Consolidation'], test_size = 0.55)\n",
        "pleural_thickening, _ = train_test_split(test_df[test_df.finding_labels == 'Pleural_Thickening'], test_size = 0.45)\n",
        "emphysema, _ = train_test_split(test_df[test_df.finding_labels == 'Emphysema'], test_size = 0.32)\n",
        "fibrosis, _ = train_test_split(test_df[test_df.finding_labels == 'Fibrosis'], test_size = 0.16)  \n",
        "edema = test_df[test_df.finding_labels == 'Edema']   \n",
        "test_df = pd.concat([infiltration, atelectasis, effusion, nodule, pneumothorax, consolidation,\n",
        "                   pleural_thickening, emphysema, fibrosis, edema])\n",
        "test_df['finding_labels'].value_counts()      "
      ],
      "execution_count": 7,
      "outputs": [
        {
          "output_type": "execute_result",
          "data": {
            "text/plain": [
              "Pleural_Thickening    22\n",
              "Pneumothorax          22\n",
              "Emphysema             19\n",
              "Fibrosis              18\n",
              "Nodule                18\n",
              "Atelectasis           17\n",
              "Infiltration          17\n",
              "Effusion              16\n",
              "Edema                 15\n",
              "Consolidation         13\n",
              "Name: finding_labels, dtype: int64"
            ]
          },
          "metadata": {
            "tags": []
          },
          "execution_count": 7
        }
      ]
    },
    {
      "cell_type": "code",
      "metadata": {
        "id": "wJF-V40a2mbD"
      },
      "source": [
        "fibrosis = train_df[train_df.finding_labels == 'Fibrosis']\n",
        "fibrosis['class_name'] =  1\n",
        "others = train_df[train_df.finding_labels != 'Fibrosis']\n",
        "others = train_df[train_df.finding_labels != 'No finding']\n",
        "others['class_name'] = 0\n",
        "others , _ = train_test_split(others, test_size = 0.9, random_state = 42, \n",
        "                               shuffle = True, stratify = others['finding_labels'])\n",
        "train_df_ = pd.concat([fibrosis, others])"
      ],
      "execution_count": 8,
      "outputs": []
    },
    {
      "cell_type": "code",
      "metadata": {
        "id": "Y8qT37Ks2uAZ"
      },
      "source": [
        "fibrosis = validation_df[validation_df.finding_labels == 'Fibrosis']\n",
        "fibrosis['class_name'] =  1\n",
        "others = validation_df[validation_df.finding_labels != 'Fibrosis']\n",
        "others = validation_df[validation_df.finding_labels != 'No finding']\n",
        "others['class_name'] = 0\n",
        "others , _ = train_test_split(others, test_size = 0.9, random_state = 42, \n",
        "                               shuffle = True, stratify = others['finding_labels'])\n",
        "validation_df_ = pd.concat([fibrosis, others])"
      ],
      "execution_count": 9,
      "outputs": []
    },
    {
      "cell_type": "code",
      "metadata": {
        "id": "EDS5rzGK2wLl"
      },
      "source": [
        "fibrosis = test_df[test_df.finding_labels == 'Fibrosis']\n",
        "fibrosis['class_name'] =  1\n",
        "others = test_df[test_df.finding_labels != 'Fibrosis']\n",
        "others = test_df[test_df.finding_labels != 'No finding']\n",
        "others['class_name'] = 0\n",
        "others , _ = train_test_split(others, test_size = 0.9, random_state = 42, \n",
        "                               shuffle = True, stratify = others['finding_labels'])\n",
        "test_df_ = pd.concat([fibrosis, others])"
      ],
      "execution_count": 10,
      "outputs": []
    },
    {
      "cell_type": "code",
      "metadata": {
        "colab": {
          "base_uri": "https://localhost:8080/"
        },
        "id": "KHzhA8dG3J6F",
        "outputId": "81990475-3da2-4ef5-9442-ee6cbfc31933"
      },
      "source": [
        "image_generator = ImageDataGenerator(rescale = 1/255, samplewise_center = True, \n",
        "                                     samplewise_std_normalization = True,\n",
        "                                     horizontal_flip = True,\n",
        "                                     vertical_flip = False,\n",
        "                                     height_shift_range = 0.05,\n",
        "                                     width_shift_range = 0.1,\n",
        "                                     rotation_range = 5,\n",
        "                                     shear_range = 0.1,\n",
        "                                     fill_mode = 'reflect',\n",
        "                                     zoom_range = 0.15)\n",
        "\n",
        "train_generator = image_generator.flow_from_dataframe(\n",
        "                                                      dataframe = train_df_,\n",
        "                                                      directory = '',\n",
        "                                                      x_col = 'Image Index',\n",
        "                                                      y_col = 'class_name',\n",
        "                                                      batch_size = 32,\n",
        "                                                      seed = 42,\n",
        "                                                      shuffle = True,\n",
        "                                                      class_mode = 'raw',\n",
        "                                                      target_size = (256, 256))\n",
        "\n",
        "test_datagen = ImageDataGenerator(samplewise_center = True, \n",
        "                                  samplewise_std_normalization = True)\n",
        "\n",
        "valid_generator = test_datagen.flow_from_dataframe(\n",
        "                                                      dataframe = validation_df_,\n",
        "                                                      directory = '.', \n",
        "                                                      x_col = 'Image Index',\n",
        "                                                      y_col = 'class_name',\n",
        "                                                      batch_size = 32,\n",
        "                                                      seed = 42,\n",
        "                                                      shuffle = True,\n",
        "                                                      class_mode = 'raw',\n",
        "                                                      target_size = (256, 256))\n",
        "\n",
        "test_generator = test_datagen.flow_from_dataframe(\n",
        "                                                  dataframe = test_df_, \n",
        "                                                  directory = '.',\n",
        "                                                  x_col = 'Image Index',\n",
        "                                                  y_col = 'class_name',\n",
        "                                                  batch_size = 32,\n",
        "                                                  seed = 42,\n",
        "                                                  shuffle = True,\n",
        "                                                  class_mode = 'raw',\n",
        "                                                  target_size = (256, 256))"
      ],
      "execution_count": 14,
      "outputs": [
        {
          "output_type": "stream",
          "text": [
            "Found 1117 validated image filenames.\n",
            "Found 56 validated image filenames.\n",
            "Found 35 validated image filenames.\n"
          ],
          "name": "stdout"
        }
      ]
    },
    {
      "cell_type": "code",
      "metadata": {
        "colab": {
          "base_uri": "https://localhost:8080/"
        },
        "id": "XvV-OWDr3NQp",
        "outputId": "0ca1d790-80ee-4b38-e001-c1bc24948a58"
      },
      "source": [
        "model = MobileNetV2(input_shape = (256, 256, 3), include_top = False, weights = 'imagenet')\n",
        "x = tf.keras.layers.GlobalAveragePooling2D()(model.output)\n",
        "x = tf.keras.layers.Dense(units = 1, activation = 'sigmoid')(x)\n",
        "\n",
        "model = tf.keras.models.Model(inputs = model.input, outputs = x)"
      ],
      "execution_count": 15,
      "outputs": [
        {
          "output_type": "stream",
          "text": [
            "WARNING:tensorflow:`input_shape` is undefined or non-square, or `rows` is not in [96, 128, 160, 192, 224]. Weights for input shape (224, 224) will be loaded as the default.\n",
            "Downloading data from https://storage.googleapis.com/tensorflow/keras-applications/mobilenet_v2/mobilenet_v2_weights_tf_dim_ordering_tf_kernels_1.0_224_no_top.h5\n",
            "9412608/9406464 [==============================] - 0s 0us/step\n"
          ],
          "name": "stdout"
        }
      ]
    },
    {
      "cell_type": "code",
      "metadata": {
        "id": "PCXMEOfT3OyR"
      },
      "source": [
        "filepath = \"/content/drive/MyDrive/experimentos/multilabel/fibrosis/transferlearning_weights.hdf5\"\n",
        "checkpoint = ModelCheckpoint(filepath, monitor = 'val_acc', verbose = 1, save_best_only = True, mode = 'max')"
      ],
      "execution_count": 16,
      "outputs": []
    },
    {
      "cell_type": "code",
      "metadata": {
        "id": "v7vPm6Ic3PuJ"
      },
      "source": [
        "callbacks = [checkpoint]"
      ],
      "execution_count": 17,
      "outputs": []
    },
    {
      "cell_type": "code",
      "metadata": {
        "id": "F_hXJ0iD3dA6"
      },
      "source": [
        "model.compile(optimizer = optimizers.RMSprop(learning_rate = 0.0001), loss = 'binary_crossentropy', \n",
        "              metrics = ['acc'])"
      ],
      "execution_count": 18,
      "outputs": []
    },
    {
      "cell_type": "code",
      "metadata": {
        "colab": {
          "base_uri": "https://localhost:8080/"
        },
        "id": "i2ald3jO3Z_R",
        "outputId": "4fb73355-0cf6-4cee-d435-f65ba446f0bf"
      },
      "source": [
        "history = model.fit(train_generator, steps_per_epoch = 1117 // 32, \n",
        "                    validation_data = valid_generator, validation_steps = 56 // 32,\n",
        "                    callbacks = callbacks, epochs = 30)"
      ],
      "execution_count": 19,
      "outputs": [
        {
          "output_type": "stream",
          "text": [
            "Epoch 1/30\n",
            "34/34 [==============================] - 409s 12s/step - loss: 0.6614 - acc: 0.6179 - val_loss: 0.5836 - val_acc: 0.7188\n",
            "\n",
            "Epoch 00001: val_acc improved from -inf to 0.71875, saving model to /content/drive/MyDrive/experimentos/multilabel/fibrosis/transferlearning_weights.hdf5\n",
            "Epoch 2/30\n",
            "34/34 [==============================] - 64s 2s/step - loss: 0.5573 - acc: 0.7026 - val_loss: 0.6237 - val_acc: 0.6562\n",
            "\n",
            "Epoch 00002: val_acc did not improve from 0.71875\n",
            "Epoch 3/30\n",
            "34/34 [==============================] - 65s 2s/step - loss: 0.5419 - acc: 0.6888 - val_loss: 0.6775 - val_acc: 0.5938\n",
            "\n",
            "Epoch 00003: val_acc did not improve from 0.71875\n",
            "Epoch 4/30\n",
            "34/34 [==============================] - 64s 2s/step - loss: 0.5078 - acc: 0.7646 - val_loss: 0.8413 - val_acc: 0.5312\n",
            "\n",
            "Epoch 00004: val_acc did not improve from 0.71875\n",
            "Epoch 5/30\n",
            "34/34 [==============================] - 64s 2s/step - loss: 0.4706 - acc: 0.7637 - val_loss: 0.8886 - val_acc: 0.5312\n",
            "\n",
            "Epoch 00005: val_acc did not improve from 0.71875\n",
            "Epoch 6/30\n",
            "34/34 [==============================] - 63s 2s/step - loss: 0.4334 - acc: 0.7892 - val_loss: 0.7916 - val_acc: 0.5625\n",
            "\n",
            "Epoch 00006: val_acc did not improve from 0.71875\n",
            "Epoch 7/30\n",
            "34/34 [==============================] - 63s 2s/step - loss: 0.4419 - acc: 0.7823 - val_loss: 1.0101 - val_acc: 0.4375\n",
            "\n",
            "Epoch 00007: val_acc did not improve from 0.71875\n",
            "Epoch 8/30\n",
            "34/34 [==============================] - 65s 2s/step - loss: 0.4267 - acc: 0.8073 - val_loss: 0.9729 - val_acc: 0.5000\n",
            "\n",
            "Epoch 00008: val_acc did not improve from 0.71875\n",
            "Epoch 9/30\n",
            "34/34 [==============================] - 65s 2s/step - loss: 0.3753 - acc: 0.8350 - val_loss: 0.6508 - val_acc: 0.5312\n",
            "\n",
            "Epoch 00009: val_acc did not improve from 0.71875\n",
            "Epoch 10/30\n",
            "34/34 [==============================] - 65s 2s/step - loss: 0.3674 - acc: 0.8404 - val_loss: 0.6535 - val_acc: 0.6250\n",
            "\n",
            "Epoch 00010: val_acc did not improve from 0.71875\n",
            "Epoch 11/30\n",
            "34/34 [==============================] - 65s 2s/step - loss: 0.3473 - acc: 0.8394 - val_loss: 0.7852 - val_acc: 0.5938\n",
            "\n",
            "Epoch 00011: val_acc did not improve from 0.71875\n",
            "Epoch 12/30\n",
            "34/34 [==============================] - 64s 2s/step - loss: 0.3211 - acc: 0.8685 - val_loss: 0.8860 - val_acc: 0.5000\n",
            "\n",
            "Epoch 00012: val_acc did not improve from 0.71875\n",
            "Epoch 13/30\n",
            "34/34 [==============================] - 65s 2s/step - loss: 0.3221 - acc: 0.8399 - val_loss: 0.8559 - val_acc: 0.5000\n",
            "\n",
            "Epoch 00013: val_acc did not improve from 0.71875\n",
            "Epoch 14/30\n",
            "34/34 [==============================] - 65s 2s/step - loss: 0.2928 - acc: 0.8690 - val_loss: 0.7559 - val_acc: 0.6562\n",
            "\n",
            "Epoch 00014: val_acc did not improve from 0.71875\n",
            "Epoch 15/30\n",
            "34/34 [==============================] - 66s 2s/step - loss: 0.2610 - acc: 0.8976 - val_loss: 0.9728 - val_acc: 0.5312\n",
            "\n",
            "Epoch 00015: val_acc did not improve from 0.71875\n",
            "Epoch 16/30\n",
            "34/34 [==============================] - 65s 2s/step - loss: 0.2438 - acc: 0.8920 - val_loss: 0.6310 - val_acc: 0.6875\n",
            "\n",
            "Epoch 00016: val_acc did not improve from 0.71875\n",
            "Epoch 17/30\n",
            "34/34 [==============================] - 64s 2s/step - loss: 0.2330 - acc: 0.9125 - val_loss: 0.9026 - val_acc: 0.6250\n",
            "\n",
            "Epoch 00017: val_acc did not improve from 0.71875\n",
            "Epoch 18/30\n",
            "34/34 [==============================] - 64s 2s/step - loss: 0.2642 - acc: 0.8852 - val_loss: 1.2821 - val_acc: 0.4688\n",
            "\n",
            "Epoch 00018: val_acc did not improve from 0.71875\n",
            "Epoch 19/30\n",
            "34/34 [==============================] - 64s 2s/step - loss: 0.2296 - acc: 0.9025 - val_loss: 1.2161 - val_acc: 0.5625\n",
            "\n",
            "Epoch 00019: val_acc did not improve from 0.71875\n",
            "Epoch 20/30\n",
            "34/34 [==============================] - 64s 2s/step - loss: 0.1921 - acc: 0.9235 - val_loss: 1.2819 - val_acc: 0.5312\n",
            "\n",
            "Epoch 00020: val_acc did not improve from 0.71875\n",
            "Epoch 21/30\n",
            "34/34 [==============================] - 63s 2s/step - loss: 0.2321 - acc: 0.9099 - val_loss: 1.9682 - val_acc: 0.4688\n",
            "\n",
            "Epoch 00021: val_acc did not improve from 0.71875\n",
            "Epoch 22/30\n",
            "34/34 [==============================] - 65s 2s/step - loss: 0.2234 - acc: 0.9181 - val_loss: 1.9880 - val_acc: 0.5312\n",
            "\n",
            "Epoch 00022: val_acc did not improve from 0.71875\n",
            "Epoch 23/30\n",
            "34/34 [==============================] - 65s 2s/step - loss: 0.2139 - acc: 0.9023 - val_loss: 2.2747 - val_acc: 0.4375\n",
            "\n",
            "Epoch 00023: val_acc did not improve from 0.71875\n",
            "Epoch 24/30\n",
            "34/34 [==============================] - 65s 2s/step - loss: 0.2054 - acc: 0.9218 - val_loss: 1.5815 - val_acc: 0.5625\n",
            "\n",
            "Epoch 00024: val_acc did not improve from 0.71875\n",
            "Epoch 25/30\n",
            "34/34 [==============================] - 63s 2s/step - loss: 0.2039 - acc: 0.9114 - val_loss: 1.9840 - val_acc: 0.5000\n",
            "\n",
            "Epoch 00025: val_acc did not improve from 0.71875\n",
            "Epoch 26/30\n",
            "34/34 [==============================] - 64s 2s/step - loss: 0.2043 - acc: 0.9115 - val_loss: 1.4087 - val_acc: 0.6250\n",
            "\n",
            "Epoch 00026: val_acc did not improve from 0.71875\n",
            "Epoch 27/30\n",
            "34/34 [==============================] - 63s 2s/step - loss: 0.1824 - acc: 0.9249 - val_loss: 1.0166 - val_acc: 0.6250\n",
            "\n",
            "Epoch 00027: val_acc did not improve from 0.71875\n",
            "Epoch 28/30\n",
            "34/34 [==============================] - 64s 2s/step - loss: 0.1712 - acc: 0.9287 - val_loss: 1.8804 - val_acc: 0.5312\n",
            "\n",
            "Epoch 00028: val_acc did not improve from 0.71875\n",
            "Epoch 29/30\n",
            "34/34 [==============================] - 64s 2s/step - loss: 0.2051 - acc: 0.9125 - val_loss: 1.3111 - val_acc: 0.5312\n",
            "\n",
            "Epoch 00029: val_acc did not improve from 0.71875\n",
            "Epoch 30/30\n",
            "34/34 [==============================] - 64s 2s/step - loss: 0.1651 - acc: 0.9260 - val_loss: 1.7576 - val_acc: 0.5625\n",
            "\n",
            "Epoch 00030: val_acc did not improve from 0.71875\n"
          ],
          "name": "stdout"
        }
      ]
    },
    {
      "cell_type": "code",
      "metadata": {
        "colab": {
          "base_uri": "https://localhost:8080/"
        },
        "id": "gwdj7g1lCiNN",
        "outputId": "30605eef-d8b6-415f-ef54-48831e7fb2a4"
      },
      "source": [
        "model.evaluate(test_generator)"
      ],
      "execution_count": 20,
      "outputs": [
        {
          "output_type": "stream",
          "text": [
            "2/2 [==============================] - 2s 1s/step - loss: 1.5475 - acc: 0.5143\n"
          ],
          "name": "stdout"
        },
        {
          "output_type": "execute_result",
          "data": {
            "text/plain": [
              "[1.5475001335144043, 0.5142857432365417]"
            ]
          },
          "metadata": {
            "tags": []
          },
          "execution_count": 20
        }
      ]
    },
    {
      "cell_type": "code",
      "metadata": {
        "colab": {
          "base_uri": "https://localhost:8080/"
        },
        "id": "4gJSRP-4Coi5",
        "outputId": "7c163002-dbde-4bd4-c56a-994f0725bd4f"
      },
      "source": [
        "model.save('/content/drive/MyDrive/experimentos/fibrosis/pneumothorax/model1')"
      ],
      "execution_count": 21,
      "outputs": [
        {
          "output_type": "stream",
          "text": [
            "INFO:tensorflow:Assets written to: /content/drive/MyDrive/experimentos/fibrosis/pneumothorax/model1/assets\n"
          ],
          "name": "stdout"
        }
      ]
    },
    {
      "cell_type": "code",
      "metadata": {
        "colab": {
          "base_uri": "https://localhost:8080/"
        },
        "id": "y33Ahe94Cwky",
        "outputId": "8e0a5414-0261-477d-f53c-c6628133f2e4"
      },
      "source": [
        "model.load_weights('/content/drive/MyDrive/experimentos/multilabel/fibrosis/transferlearning_weights.hdf5')\n",
        "model.evaluate(test_generator)"
      ],
      "execution_count": 22,
      "outputs": [
        {
          "output_type": "stream",
          "text": [
            "2/2 [==============================] - 1s 53ms/step - loss: 0.6599 - acc: 0.6286\n"
          ],
          "name": "stdout"
        },
        {
          "output_type": "execute_result",
          "data": {
            "text/plain": [
              "[0.6599048376083374, 0.6285714507102966]"
            ]
          },
          "metadata": {
            "tags": []
          },
          "execution_count": 22
        }
      ]
    },
    {
      "cell_type": "code",
      "metadata": {
        "colab": {
          "base_uri": "https://localhost:8080/"
        },
        "id": "a-a1ye4LC5Xd",
        "outputId": "0c503eae-3d15-4c73-e772-e34717648cc2"
      },
      "source": [
        "model.save('/content/drive/MyDrive/experimentos/fibrosis/pneumothorax/model2')"
      ],
      "execution_count": 23,
      "outputs": [
        {
          "output_type": "stream",
          "text": [
            "INFO:tensorflow:Assets written to: /content/drive/MyDrive/experimentos/fibrosis/pneumothorax/model2/assets\n"
          ],
          "name": "stdout"
        }
      ]
    },
    {
      "cell_type": "code",
      "metadata": {
        "id": "JvOVtqJvDRrv"
      },
      "source": [
        "(x,y) = test_generator[0]"
      ],
      "execution_count": 24,
      "outputs": []
    },
    {
      "cell_type": "code",
      "metadata": {
        "id": "SvgySVBpDUV5"
      },
      "source": [
        "predict = model.predict(x)"
      ],
      "execution_count": 25,
      "outputs": []
    },
    {
      "cell_type": "code",
      "metadata": {
        "id": "pmNWXhHODYe6"
      },
      "source": [
        "from sklearn.metrics import precision_score, recall_score, accuracy_score, f1_score, confusion_matrix\n",
        "\n",
        "def thresholds(limiar, predict):\n",
        "  '''predição para diferentes thresholds'''\n",
        "\n",
        "  predict_ = []\n",
        "  for i in predict:\n",
        "    if i > limiar:\n",
        "      predict_.append(1)\n",
        "    else:\n",
        "      predict_.append(0)\n",
        "  \n",
        "  return predict_\n",
        "\n",
        "def precision_recall_accuracy_curve(predict, y):\n",
        "  ''' Relaciona a curva da Precisão, Sensibilidade e Acurácia em relação a diferentes Thresholds'''\n",
        "\n",
        "  limiares = np.arange(0, 1, 0.05)\n",
        "  predicts = []\n",
        "  precisions = []\n",
        "  recalls = []\n",
        "  accuracy = []\n",
        "  flag = 0\n",
        "  for i in limiares:\n",
        "    predicts.append(thresholds(i, predict))\n",
        "    precisions.append(precision_score(predicts[flag], y))\n",
        "    recalls.append(recall_score(predicts[flag], y))\n",
        "    accuracy.append(accuracy_score(predicts[flag], y))\n",
        "    flag += 1\n",
        "  \n",
        "  return precisions, recalls, accuracy\n",
        "\n",
        "def plot_precision_recall_accuracy_curve(precisions, recalls, accuracy):\n",
        "  '''Plotando a curva de Precisão, Sensibilidade e Acurácia'''\n",
        "\n",
        "  plt.figure(figsize = (10,5))\n",
        "  plt.plot(np.arange(0, 1, 0.05), precisions, label = 'Precision')\n",
        "  plt.plot(np.arange(0, 1, 0.05), recalls, label = 'Recall')\n",
        "  plt.plot(np.arange(0, 1, 0.05), accuracy, label = 'Accuracy')\n",
        "  plt.title('Precisão, Sensibilidade e Acurácia para diferentes Thresholds')\n",
        "  plt.xlabel('Thresholds')\n",
        "  plt.legend()\n",
        "  plt.savefig('curve-analysis')\n",
        "\n",
        "  return None\n",
        "\n",
        "def best_metrics(threshold, predict, y):\n",
        "  '''Melhores valores para o threshold escolhido'''\n",
        "\n",
        "  predict_ = thresholds(threshold, predict)\n",
        "  print('Matriz de Confusão:\\n', confusion_matrix(predict_, y))\n",
        "  print('Acurácia:', accuracy_score(predict_, y))\n",
        "  print('Precisão', precision_score(predict_, y))\n",
        "  print('Sensibilidade:', recall_score(predict_, y)) \n",
        "  print('F1_Score:', f1_score(predict_, y))\n",
        "\n",
        "  return None"
      ],
      "execution_count": 26,
      "outputs": []
    },
    {
      "cell_type": "code",
      "metadata": {
        "colab": {
          "base_uri": "https://localhost:8080/",
          "height": 350
        },
        "id": "A5AYRQkqDZi5",
        "outputId": "79ee1066-b1d2-4724-e901-805cff0cbe97"
      },
      "source": [
        "# plotando a curva da Precisão, Sensibilidade e Acurácia \n",
        "precisions, recalls, accuracy = precision_recall_accuracy_curve(predict, y)\n",
        "plot_precision_recall_accuracy_curve(precisions, recalls, accuracy)"
      ],
      "execution_count": 27,
      "outputs": [
        {
          "output_type": "display_data",
          "data": {
            "image/png": "[encoded data removed]",
            "text/plain": [
              "<Figure size 720x360 with 1 Axes>"
            ]
          },
          "metadata": {
            "tags": [],
            "needs_background": "light"
          }
        }
      ]
    },
    {
      "cell_type": "code",
      "metadata": {
        "colab": {
          "base_uri": "https://localhost:8080/"
        },
        "id": "RYNk0U9bDoXy",
        "outputId": "eddc9254-d830-4cc5-8303-cb733c6f1e66"
      },
      "source": [
        "# analisando as melhores métricas encontradas para o modelo\n",
        "best_metrics(threshold = 0.55, predict = predict, y = y)"
      ],
      "execution_count": 28,
      "outputs": [
        {
          "output_type": "stream",
          "text": [
            "Matriz de Confusão:\n",
            " [[ 7  2]\n",
            " [ 8 15]]\n",
            "Acurácia: 0.6875\n",
            "Precisão 0.8823529411764706\n",
            "Sensibilidade: 0.6521739130434783\n",
            "F1_Score: 0.75\n"
          ],
          "name": "stdout"
        }
      ]
    },
    {
      "cell_type": "code",
      "metadata": {
        "colab": {
          "base_uri": "https://localhost:8080/",
          "height": 350
        },
        "id": "Xn2aNgQFDrVP",
        "outputId": "49a0e5fa-3c11-4e0c-d8ab-e5581365acb8"
      },
      "source": [
        "# visualizando o ganho de acurácia durante o treinamento\n",
        "plt.figure(figsize = (15,5))\n",
        "plt.subplot(1, 2, 1)\n",
        "plt.plot(history.history['acc'])\n",
        "plt.plot(history.history['val_acc'])\n",
        "plt.title('model accuracy')\n",
        "plt.ylabel('accuracy')\n",
        "plt.xlabel('epoch')\n",
        "plt.legend(['train', 'test'], loc='upper left')\n",
        "plt.savefig('model-accuracy')\n",
        "\n",
        "# visualizando o decaimento da função de custo durante o treinamento \n",
        "plt.subplot(1, 2, 2)\n",
        "plt.plot(history.history['loss'])\n",
        "plt.plot(history.history['val_loss'])\n",
        "plt.title('model loss')\n",
        "plt.ylabel('loss')\n",
        "plt.xlabel('epoch')\n",
        "plt.legend(['train', 'test'], loc='upper left')\n",
        "plt.savefig('model-loss')"
      ],
      "execution_count": 29,
      "outputs": [
        {
          "output_type": "display_data",
          "data": {
            "image/png": "[encoded data removed]",
            "text/plain": [
              "<Figure size 1080x360 with 2 Axes>"
            ]
          },
          "metadata": {
            "tags": [],
            "needs_background": "light"
          }
        }
      ]
    }
  ]
}