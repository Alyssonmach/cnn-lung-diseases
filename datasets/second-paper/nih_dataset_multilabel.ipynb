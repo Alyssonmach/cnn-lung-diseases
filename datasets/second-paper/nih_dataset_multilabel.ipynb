{
  "nbformat": 4,
  "nbformat_minor": 0,
  "metadata": {
    "colab": {
      "name": "nih_dataset_multilabel.ipynb",
      "provenance": [],
      "authorship_tag": "ABX9TyOfhwx4xDZS+qVCpqB7gF8l"
    },
    "kernelspec": {
      "name": "python3",
      "display_name": "Python 3"
    },
    "language_info": {
      "name": "python"
    }
  },
  "cells": [
    {
      "cell_type": "code",
      "execution_count": null,
      "metadata": {
        "id": "jzpLqZNSoHPF"
      },
      "outputs": [],
      "source": [
        "import matplotlib.pyplot as plt\n",
        "from functools import partial\n",
        "import pandas as pd\n",
        "import numpy as np\n",
        "import tarfile \n",
        "import os\n",
        "\n",
        "from google.colab import drive\n",
        "drive.mount('/content/drive')"
      ]
    },
    {
      "cell_type": "code",
      "source": [
        "def add_path(file_, path):\n",
        "  '''\n",
        "  add the images folder to the file name\n",
        "\n",
        "  Args:\n",
        "    file_ (str) --> file that is inside the folder\n",
        "    path (str) --> folder that contains the files\n",
        "  \n",
        "  Returns:\n",
        "    filepath (str) --> file with destination path\n",
        "  '''\n",
        "\n",
        "  return path + file_"
      ],
      "metadata": {
        "id": "iIg6I8bYockS"
      },
      "execution_count": 2,
      "outputs": []
    },
    {
      "cell_type": "code",
      "source": [
        "!cp -r /content/drive/MyDrive/datasets-projeto/nih-files /content"
      ],
      "metadata": {
        "id": "13ypN2FmofNz"
      },
      "execution_count": 3,
      "outputs": []
    },
    {
      "cell_type": "code",
      "source": [
        "extract_files = os.listdir('/content/nih-files')\n",
        "\n",
        "for files in extract_files:\n",
        "  file_ = tarfile.open(f'/content/nih-files/{files}') \n",
        "  file_.extractall('/content/') \n",
        "  file_.close() "
      ],
      "metadata": {
        "id": "kVjAYrjGokpQ"
      },
      "execution_count": 4,
      "outputs": []
    },
    {
      "cell_type": "code",
      "source": [
        "nih_df = pd.read_csv('/content/nih_original_csv_file.csv')\n",
        "nih_df = nih_df.drop(['Follow-up #', 'Patient ID', 'Patient Age', \n",
        "                      'View Position', 'OriginalImage[Width', 'Height]', \n",
        "                      'OriginalImagePixelSpacing[x', 'y]'], axis = 1)"
      ],
      "metadata": {
        "id": "rVjqSc0volo4"
      },
      "execution_count": 16,
      "outputs": []
    },
    {
      "cell_type": "code",
      "source": [
        "nih_df.rename(columns = {'Patient Gender': 'Sex'}, inplace = True)\n",
        "nih_df['Sex'].replace({'M': 'male', 'F': 'female'}, inplace = True)\n",
        "\n",
        "image_index = list(nih_df['Image Index'])\n",
        "partial_add_path = partial(add_path, path = '/content/images/')\n",
        "image_index = list(map(partial_add_path, image_index))\n",
        "\n",
        "nih_df['Path'] = image_index\n",
        "nih_df = nih_df.drop(['Image Index'], axis = 1)\n",
        "nih_df['Dataset'] = ['NIH'] * len(nih_df)\n",
        "nih_df['Label Type'] = ['Multilabel'] * len(nih_df)"
      ],
      "metadata": {
        "id": "Xsb47kikooo8"
      },
      "execution_count": 17,
      "outputs": []
    },
    {
      "cell_type": "code",
      "source": [
        "abnormalities_combinations = list()\n",
        "classes = ['Nodule', 'Effusion', 'Atelectasis',  'Pneumothorax', 'Mass']\n",
        "combinations = ['01', '02', '03', '04', '11', '12', '13', '14', '22', '23', \n",
        "                '24', '33', '34', '44', '012', '013', '014', '123', '124', \n",
        "                '234', '0123', '0124', '1234']\n",
        "\n",
        "for combination in combinations:\n",
        "  sub_classes = list()\n",
        "  for element in list(combination):\n",
        "    sub_classes.append(classes[int(element)])\n",
        "  abnormalities_combinations.append(sub_classes)"
      ],
      "metadata": {
        "id": "7H8dQx9RuUJu"
      },
      "execution_count": 26,
      "outputs": []
    },
    {
      "cell_type": "code",
      "source": [
        "nih_df['Finding Labels'][1]"
      ],
      "metadata": {
        "colab": {
          "base_uri": "https://localhost:8080/",
          "height": 35
        },
        "id": "HzvbITqF4Sse",
        "outputId": "6bac3121-5307-4690-c81e-ede5c691023b"
      },
      "execution_count": 31,
      "outputs": [
        {
          "output_type": "execute_result",
          "data": {
            "text/plain": [
              "'Cardiomegaly|Emphysema'"
            ],
            "application/vnd.google.colaboratory.intrinsic+json": {
              "type": "string"
            }
          },
          "metadata": {},
          "execution_count": 31
        }
      ]
    },
    {
      "cell_type": "code",
      "source": [
        "nih_df['Finding Labels'].value_counts()"
      ],
      "metadata": {
        "colab": {
          "base_uri": "https://localhost:8080/"
        },
        "id": "KHr0wlOA3UGL",
        "outputId": "bc28eaaa-84ff-4a71-b8a1-9047078fd5c3"
      },
      "execution_count": 28,
      "outputs": [
        {
          "output_type": "execute_result",
          "data": {
            "text/plain": [
              "No Finding                                                         60361\n",
              "Infiltration                                                        9547\n",
              "Atelectasis                                                         4215\n",
              "Effusion                                                            3955\n",
              "Nodule                                                              2705\n",
              "                                                                   ...  \n",
              "Atelectasis|Consolidation|Edema|Effusion|Infiltration|Pneumonia        1\n",
              "Atelectasis|Consolidation|Effusion|Emphysema|Mass|Pneumothorax         1\n",
              "Cardiomegaly|Effusion|Pleural_Thickening|Pneumothorax                  1\n",
              "Edema|Infiltration|Pneumothorax                                        1\n",
              "Atelectasis|Consolidation|Mass|Pleural_Thickening|Pneumothorax         1\n",
              "Name: Finding Labels, Length: 836, dtype: int64"
            ]
          },
          "metadata": {},
          "execution_count": 28
        }
      ]
    },
    {
      "cell_type": "code",
      "source": [
        "classes = ['Nodule', 'Effusion', 'Atelectasis',  'Pneumothorax', 'Mass']\n",
        "\n",
        "dict_abnormalities = dict()\n",
        "for classe in classes:\n",
        "  dict_abnormalities[classe] = nih_df[nih_df['Finding Labels'] == classe]\n",
        "\n",
        "for keys, items in dict_abnormalities.items():\n",
        "  dict_abnormalities[keys][keys] = [1] * len(items)\n",
        "  columns_others = list(dict_abnormalities.keys())\n",
        "  columns_others.remove(keys)\n",
        "  zeros = np.zeros((len(items), 5))\n",
        "  others_df = pd.DataFrame(data = zeros, columns = columns_others)\n",
        "  dict_abnormalities[keys] = dict_abnormalities[keys].join(others_df)\n",
        "  dict_abnormalities[keys] = dict_abnormalities[keys].fillna(0)\n",
        "  columns = np.concatenate((['Dataset', 'Path', 'Sex', 'Finding Labels', \n",
        "                             'Label Type'], list(dict_abnormalities.keys())))\n",
        "  dict_abnormalities[keys] = dict_abnormalities[keys][columns]"
      ],
      "metadata": {
        "id": "kmitJqEIosc5"
      },
      "execution_count": null,
      "outputs": []
    },
    {
      "cell_type": "code",
      "source": [
        "abnormalities_combinations"
      ],
      "metadata": {
        "colab": {
          "base_uri": "https://localhost:8080/"
        },
        "id": "iOxarEjov-iY",
        "outputId": "e46082a4-5218-4d2f-b301-c83f9ac9171b"
      },
      "execution_count": 27,
      "outputs": [
        {
          "output_type": "execute_result",
          "data": {
            "text/plain": [
              "[['Nodule', 'Effusion'],\n",
              " ['Nodule', 'Atelectasis'],\n",
              " ['Nodule', 'Pneumothorax'],\n",
              " ['Nodule', 'Mass'],\n",
              " ['Effusion', 'Effusion'],\n",
              " ['Effusion', 'Atelectasis'],\n",
              " ['Effusion', 'Pneumothorax'],\n",
              " ['Effusion', 'Mass'],\n",
              " ['Atelectasis', 'Atelectasis'],\n",
              " ['Atelectasis', 'Pneumothorax'],\n",
              " ['Atelectasis', 'Mass'],\n",
              " ['Pneumothorax', 'Pneumothorax'],\n",
              " ['Pneumothorax', 'Mass'],\n",
              " ['Mass', 'Mass'],\n",
              " ['Nodule', 'Effusion', 'Atelectasis'],\n",
              " ['Nodule', 'Effusion', 'Pneumothorax'],\n",
              " ['Nodule', 'Effusion', 'Mass'],\n",
              " ['Effusion', 'Atelectasis', 'Pneumothorax'],\n",
              " ['Effusion', 'Atelectasis', 'Mass'],\n",
              " ['Atelectasis', 'Pneumothorax', 'Mass'],\n",
              " ['Nodule', 'Effusion', 'Atelectasis', 'Pneumothorax'],\n",
              " ['Nodule', 'Effusion', 'Atelectasis', 'Mass'],\n",
              " ['Effusion', 'Atelectasis', 'Pneumothorax', 'Mass']]"
            ]
          },
          "metadata": {},
          "execution_count": 27
        }
      ]
    }
  ]
}