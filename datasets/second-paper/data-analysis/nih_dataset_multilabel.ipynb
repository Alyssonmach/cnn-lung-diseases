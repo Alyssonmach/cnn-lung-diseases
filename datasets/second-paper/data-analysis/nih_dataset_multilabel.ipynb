{
  "nbformat": 4,
  "nbformat_minor": 0,
  "metadata": {
    "colab": {
      "name": "nih_dataset_multilabel.ipynb",
      "provenance": [],
      "authorship_tag": "ABX9TyPGTEHDA3RBwq0bVMzLY6td"
    },
    "kernelspec": {
      "name": "python3",
      "display_name": "Python 3"
    },
    "language_info": {
      "name": "python"
    }
  },
  "cells": [
    {
      "cell_type": "code",
      "execution_count": null,
      "metadata": {
        "id": "jzpLqZNSoHPF"
      },
      "outputs": [],
      "source": [
        "import matplotlib.pyplot as plt\n",
        "from functools import partial\n",
        "import pandas as pd\n",
        "import numpy as np\n",
        "import tarfile \n",
        "import os\n",
        "\n",
        "from google.colab import drive\n",
        "drive.mount('/content/drive')"
      ]
    },
    {
      "cell_type": "code",
      "source": [
        "def add_path(file_, path):\n",
        "  '''\n",
        "  add the images folder to the file name\n",
        "\n",
        "  Args:\n",
        "    file_ (str) --> file that is inside the folder\n",
        "    path (str) --> folder that contains the files\n",
        "  \n",
        "  Returns:\n",
        "    filepath (str) --> file with destination path\n",
        "  '''\n",
        "\n",
        "  return path + file_"
      ],
      "metadata": {
        "id": "iIg6I8bYockS"
      },
      "execution_count": null,
      "outputs": []
    },
    {
      "cell_type": "code",
      "source": [
        "!cp -r /content/drive/MyDrive/datasets-projeto/nih-files /content"
      ],
      "metadata": {
        "id": "13ypN2FmofNz"
      },
      "execution_count": null,
      "outputs": []
    },
    {
      "cell_type": "code",
      "source": [
        "extract_files = os.listdir('/content/nih-files')\n",
        "\n",
        "for files in extract_files:\n",
        "  file_ = tarfile.open(f'/content/nih-files/{files}') \n",
        "  file_.extractall('/content/') \n",
        "  file_.close() "
      ],
      "metadata": {
        "id": "kVjAYrjGokpQ"
      },
      "execution_count": 92,
      "outputs": []
    },
    {
      "cell_type": "code",
      "source": [
        "nih_df = pd.read_csv('/content/nih_original_csv_file.csv')\n",
        "nih_df = nih_df.drop(['Follow-up #', 'Patient ID', 'Patient Age', \n",
        "                      'View Position', 'OriginalImage[Width', 'Height]', \n",
        "                      'OriginalImagePixelSpacing[x', 'y]'], axis = 1)"
      ],
      "metadata": {
        "id": "rVjqSc0volo4"
      },
      "execution_count": 93,
      "outputs": []
    },
    {
      "cell_type": "code",
      "source": [
        "nih_df.rename(columns = {'Patient Gender': 'Sex'}, inplace = True)\n",
        "nih_df['Sex'].replace({'M': 'male', 'F': 'female'}, inplace = True)\n",
        "\n",
        "image_index = list(nih_df['Image Index'])\n",
        "partial_add_path = partial(add_path, path = '/content/images/')\n",
        "image_index = list(map(partial_add_path, image_index))\n",
        "\n",
        "nih_df['Path'] = image_index\n",
        "nih_df = nih_df.drop(['Image Index'], axis = 1)\n",
        "nih_df['Dataset'] = ['NIH'] * len(nih_df)\n",
        "nih_df['Label Type'] = ['Multilabel'] * len(nih_df)"
      ],
      "metadata": {
        "id": "Xsb47kikooo8"
      },
      "execution_count": 94,
      "outputs": []
    },
    {
      "cell_type": "code",
      "source": [
        "abnormalities_combinations = list()\n",
        "classes = ['Nodule', 'Effusion', 'Atelectasis',  'Pneumothorax', 'Mass']\n",
        "all_classes = ['Atelectasis', 'Cardiomegaly', 'Effusion', 'Infiltration', 'Mass',\n",
        "               'Nodule', 'Pneumonia', 'Pneumothorax', 'Consolidation', 'Edema',\n",
        "               'Emphysema', 'Fibrosis', 'Pleural_Thickening', 'Hernia']\n",
        "combinations = ['01', '02', '03', '04', '12', '13', '14',  '23', '24', '34',\n",
        "                '012', '013', '014', '123', '124', '234', '0123', '0124', \n",
        "                '1234', '01234']\n",
        "\n",
        "for combination in combinations:\n",
        "  sub_classes = list()\n",
        "  for element in list(combination):\n",
        "    sub_classes.append(classes[int(element)])\n",
        "  abnormalities_combinations.append(sub_classes)"
      ],
      "metadata": {
        "id": "7H8dQx9RuUJu"
      },
      "execution_count": 122,
      "outputs": []
    },
    {
      "cell_type": "code",
      "source": [
        "values_ref = dict()\n",
        "for combination_index in range(0, len(combinations)):\n",
        "  values_ref[str(combination_index)] = list()\n",
        "\n",
        "for index in range(0, len(nih_df)):\n",
        "  for combination_index, combination in enumerate(abnormalities_combinations):\n",
        "    no_contain = 0\n",
        "    other_diseases = set(all_classes) - set(combination)\n",
        "    for disease in combination:\n",
        "      if disease in nih_df['Finding Labels'][index]: pass\n",
        "      else: no_contain = 1\n",
        "      for other_disease in other_diseases:\n",
        "        if other_disease in nih_df['Finding Labels'][index]: no_contain = 1\n",
        "    if no_contain == 0: values_ref[str(combination_index)].append(index)"
      ],
      "metadata": {
        "id": "BHpR0eAnGJjx"
      },
      "execution_count": 123,
      "outputs": []
    },
    {
      "cell_type": "code",
      "source": [
        "count_findings = dict()\n",
        "\n",
        "for disease in classes:\n",
        "  count_findings[disease] = 0\n",
        "\n",
        "for combination_index, combination in enumerate(abnormalities_combinations):\n",
        "  for disease in combination:\n",
        "    count_findings[disease] += len(values_ref[str(combination_index)])\n",
        "\n",
        "count_findings = list(count_findings.values())\n",
        "\n",
        "plt.figure(figsize = (20, 10))\n",
        "plt.bar(classes, count_findings)\n",
        "plt.xticks(rotation = 30, size = 20)\n",
        "plt.ylabel('Imagens', size = 20)\n",
        "plt.title('Quantidade Total de Imagens: Base de Dados NIH - Multirrótulo', \n",
        "          size = 25)"
      ],
      "metadata": {
        "id": "kmitJqEIosc5",
        "outputId": "51eee5f6-44a5-42fe-bc00-f10acf084136",
        "colab": {
          "base_uri": "https://localhost:8080/",
          "height": 576
        }
      },
      "execution_count": 124,
      "outputs": [
        {
          "output_type": "execute_result",
          "data": {
            "text/plain": [
              "Text(0.5, 1.0, 'Quantidade Total de Imagens: Base de Dados NIH - Multirrótulo')"
            ]
          },
          "metadata": {},
          "execution_count": 124
        },
        {
          "output_type": "display_data",
          "data": {
            "text/plain": [
              "<Figure size 1440x720 with 1 Axes>"
            ],
            "image/png": "[encoded data removed]"
          },
          "metadata": {
            "needs_background": "light"
          }
        }
      ]
    },
    {
      "cell_type": "code",
      "source": [
        "for index, keys in enumerate(values_ref.keys()):\n",
        "  dataset_aux = nih_df.iloc[values_ref[keys], :]\n",
        "  if index == 0:\n",
        "    nih_df_balanced = dataset_aux\n",
        "  else:\n",
        "    nih_df_balanced = pd.concat((nih_df_balanced, dataset_aux))"
      ],
      "metadata": {
        "id": "1MqOqYM6JLSE"
      },
      "execution_count": 125,
      "outputs": []
    },
    {
      "cell_type": "code",
      "source": [
        "nih_df_balanced['No Finding'] = 0\n",
        "\n",
        "finding_labels = list(nih_df_balanced['Finding Labels'])\n",
        "one_hot_array = np.zeros((len(nih_df_balanced), len(classes)))\n",
        "\n",
        "for index_labels, labels in enumerate(finding_labels):\n",
        "  for index_disease, disease in enumerate(classes):\n",
        "    if disease in labels:\n",
        "      one_hot_array[index_labels, index_disease] = 1.0\n",
        "\n",
        "for index, disease in enumerate(classes):\n",
        "  nih_df_balanced[disease] = one_hot_array[:, index]\n",
        "\n",
        "nih_df_balanced.drop('Finding Labels', axis = 1, inplace = True)\n",
        "columns = np.concatenate((['Dataset', 'Path', 'Sex', 'Label Type', 'No Finding'], classes))\n",
        "nih_df_balanced[columns]"
      ],
      "metadata": {
        "id": "DpoZXH3OKRND"
      },
      "execution_count": 127,
      "outputs": []
    },
    {
      "cell_type": "code",
      "source": [
        "nih_df_balanced.to_csv(path_or_buf = 'nih_df_multilabel.csv', columns = columns)"
      ],
      "metadata": {
        "id": "Ddi8KZEFMna-"
      },
      "execution_count": 138,
      "outputs": []
    }
  ]
}