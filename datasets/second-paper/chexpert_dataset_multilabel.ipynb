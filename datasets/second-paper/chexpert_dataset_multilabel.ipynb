{
  "nbformat": 4,
  "nbformat_minor": 0,
  "metadata": {
    "colab": {
      "name": "chexpert_dataset_multilabel.ipynb",
      "provenance": [],
      "machine_shape": "hm",
      "collapsed_sections": [],
      "authorship_tag": "ABX9TyO5EvgZ9/847RgyvyBBO342"
    },
    "kernelspec": {
      "name": "python3",
      "display_name": "Python 3"
    },
    "language_info": {
      "name": "python"
    },
    "accelerator": "GPU",
    "gpuClass": "standard"
  },
  "cells": [
    {
      "cell_type": "code",
      "execution_count": 1,
      "metadata": {
        "colab": {
          "base_uri": "https://localhost:8080/"
        },
        "id": "MVYnNCB_kt1O",
        "outputId": "093cebef-9695-452d-dc43-878fb94e1cac"
      },
      "outputs": [
        {
          "output_type": "stream",
          "name": "stdout",
          "text": [
            "Mounted at /content/drive\n"
          ]
        }
      ],
      "source": [
        "import matplotlib.pyplot as plt\n",
        "from functools import partial\n",
        "import pandas as pd\n",
        "import numpy as np\n",
        "\n",
        "from google.colab import drive\n",
        "drive.mount('/content/drive')"
      ]
    },
    {
      "cell_type": "code",
      "source": [
        "def add_path(file_, path):\n",
        "  '''\n",
        "  add the images folder to the file name\n",
        "\n",
        "  Args:\n",
        "    file_ (str) --> file that is inside the folder\n",
        "    path (str) --> folder that contains the files\n",
        "  \n",
        "  Returns:\n",
        "    filepath (str) --> file with destination path\n",
        "  '''\n",
        "\n",
        "  return path + file_"
      ],
      "metadata": {
        "id": "mLLpa6DolcJL"
      },
      "execution_count": 7,
      "outputs": []
    },
    {
      "cell_type": "code",
      "source": [
        "!cp /content/drive/MyDrive/datasets-projeto/chexpert-v10-small.zip /content/\n",
        "!unzip /content/chexpert-v10-small.zip"
      ],
      "metadata": {
        "id": "mYcpKz7kliM7"
      },
      "execution_count": null,
      "outputs": []
    },
    {
      "cell_type": "code",
      "source": [
        "chexpert_df = pd.read_csv('/content/CheXpert-v1.0-small/train.csv')\n",
        "chexpert_df = chexpert_df.fillna(0)\n",
        "\n",
        "chexpert_df = chexpert_df.drop(['Age', 'Enlarged Cardiomediastinum', \n",
        "                                'Cardiomegaly', 'Pleural Other',\n",
        "                                'Fracture', 'Support Devices', \n",
        "                                'Lung Lesion', 'Consolidation',\n",
        "                                'Pneumonia', 'Edema'], axis = 1)\n",
        "\n",
        "chexpert_df = chexpert_df[chexpert_df['Frontal/Lateral'] == 'Frontal']\n",
        "chexpert_df = chexpert_df[(chexpert_df['AP/PA'] == 'AP') |\n",
        "                          (chexpert_df['AP/PA'] == 'PA')]\n",
        "chexpert_df = chexpert_df.drop(['Frontal/Lateral', 'AP/PA'], axis = 1)"
      ],
      "metadata": {
        "id": "LBjDNPxxm4qH"
      },
      "execution_count": 195,
      "outputs": []
    },
    {
      "cell_type": "code",
      "source": [
        "path = list(chexpert_df['Path'])\n",
        "partial_add_path = partial(add_path, path = '/content/')\n",
        "path = list(map(partial_add_path, path))\n",
        "chexpert_df['Path'] = path\n",
        "chexpert_df['Sex'].replace({'Female': 'female', 'Male': 'male'}, inplace = True)\n",
        "chexpert_df.replace([-1.0], 0, inplace = True)"
      ],
      "metadata": {
        "id": "pRMPwBegm52R"
      },
      "execution_count": 196,
      "outputs": []
    },
    {
      "cell_type": "code",
      "source": [
        "findings = list()\n",
        "classes = list(chexpert_df.columns)[3:]\n",
        "\n",
        "for classe in classes:\n",
        "  classes_aux = classes.copy()\n",
        "  classes_aux.remove(classe)\n",
        "  finding = chexpert_df[(chexpert_df[classe] == 1.0) & \n",
        "                        ((chexpert_df[classes_aux[0]] == 1.0) |\n",
        "                        (chexpert_df[classes_aux[1]] == 1.0) |\n",
        "                        (chexpert_df[classes_aux[2]] == 1.0))]\n",
        "  findings.append(finding)\n",
        "\n",
        "for index, sub in enumerate(findings):\n",
        "  if index == 0:\n",
        "    chexpert_df = sub\n",
        "  elif index != len(findings):\n",
        "    chexpert_df = pd.concat((chexpert_df, sub))"
      ],
      "metadata": {
        "id": "ClbjnGBVnAxN"
      },
      "execution_count": 197,
      "outputs": []
    },
    {
      "cell_type": "code",
      "source": [
        "chexpert_df['Dataset'] = ['CheXpert'] * len(chexpert_df)\n",
        "chexpert_df['Label Type'] = ['Multilabel'] * len(chexpert_df)\n",
        "chexpert_df['No Finding'] = 0.0\n",
        "columns = np.concatenate((['Dataset', 'Path', 'Sex', 'Label Type', 'No Finding'], classes))\n",
        "chexpert_df = chexpert_df[columns]"
      ],
      "metadata": {
        "id": "21DG6_MeLeik"
      },
      "execution_count": 198,
      "outputs": []
    },
    {
      "cell_type": "code",
      "source": [
        "values = list()\n",
        "for class_ in classes:\n",
        "  values.append(list(chexpert_df[classes][class_]))\n",
        "\n",
        "values_string = list()\n",
        "for index, value in enumerate(values):\n",
        "  sub_values_string = list()\n",
        "  for one_value in value:\n",
        "    sub_values_string.append(int(one_value) * classes[index])\n",
        "  values_string.append(sub_values_string)\n",
        "\n",
        "multilabel_string = list()\n",
        "for index in range(0, len(values_string[0])):\n",
        "  multilabel_string.append(values_string[0][index] + values_string[1][index] + \n",
        "                           values_string[2][index] + values_string[3][index])\n",
        "\n",
        "chexpert_df['multilabel_ref'] = multilabel_string"
      ],
      "metadata": {
        "id": "NOFXd7psNipg"
      },
      "execution_count": 199,
      "outputs": []
    },
    {
      "cell_type": "code",
      "source": [
        "count_findings = list()\n",
        "for finding in classes:\n",
        "  count = dict(chexpert_df[finding].value_counts())[1.0]\n",
        "  count_findings.append(count)\n",
        "\n",
        "plt.figure(figsize = (20, 10))\n",
        "plt.bar(classes, count_findings)\n",
        "plt.xticks(rotation = 30, size = 20)\n",
        "plt.ylabel('Imagens', size = 20)\n",
        "plt.title('Quantidade Total de Imagens: Base de Dados CheXpert - Multirrótulo', \n",
        "          size = 25)"
      ],
      "metadata": {
        "colab": {
          "base_uri": "https://localhost:8080/",
          "height": 574
        },
        "id": "R5KqP-OuLuT1",
        "outputId": "901c4627-3633-46a3-c67e-d964082546c4"
      },
      "execution_count": 200,
      "outputs": [
        {
          "output_type": "execute_result",
          "data": {
            "text/plain": [
              "Text(0.5, 1.0, 'Quantidade Total de Imagens: Base de Dados CheXpert - Multirrótulo')"
            ]
          },
          "metadata": {},
          "execution_count": 200
        },
        {
          "output_type": "display_data",
          "data": {
            "text/plain": [
              "<Figure size 1440x720 with 1 Axes>"
            ],
            "image/png": "[encoded data removed]"
          },
          "metadata": {
            "needs_background": "light"
          }
        }
      ]
    },
    {
      "cell_type": "code",
      "source": [
        "a = chexpert_df[chexpert_df['multilabel_ref'] == 'Lung OpacityPleural Effusion'].sample(int(76660*(0.03)))\n",
        "b = chexpert_df[chexpert_df['multilabel_ref'] == 'Lung OpacityAtelectasisPleural Effusion'].sample(int(17274*(0.2)))\n",
        "c = chexpert_df[chexpert_df['multilabel_ref'] == 'AtelectasisPleural Effusion'].sample(int(15470*(0.5)))\n",
        "d = chexpert_df[chexpert_df['multilabel_ref'] == 'Lung OpacityAtelectasis'].sample(int(11422*(0.8)))\n",
        "e = chexpert_df[chexpert_df['multilabel_ref'] == 'Lung OpacityPneumothoraxPleural Effusion'].sample(int(9657*(1)))\n",
        "f = chexpert_df[chexpert_df['multilabel_ref'] == 'Lung OpacityPneumothorax'].sample(int(8110*(1)))\n",
        "g = chexpert_df[chexpert_df['multilabel_ref'] == 'PneumothoraxPleural Effusion'].sample(int(3302*(0.8)))\n",
        "h = chexpert_df[chexpert_df['multilabel_ref'] == 'AtelectasisPneumothorax'].sample(int(2114*(1)))\n",
        "i = chexpert_df[chexpert_df['multilabel_ref'] == 'Lung OpacityAtelectasisPneumothorax'].sample(int(2097*(1)))\n",
        "j = chexpert_df[chexpert_df['multilabel_ref'] == 'AtelectasisPneumothoraxPleural Effusion'].sample(int(1917*(1)))\n",
        "k = chexpert_df[chexpert_df['multilabel_ref'] == 'Lung OpacityAtelectasisPneumothoraxPleural Effusion'].sample(int(1824*(1)))\n",
        "\n",
        "chexpert_df_balanced = pd.concat((a, b, c, d, e, f, g, h, i , j, k))"
      ],
      "metadata": {
        "id": "cb6btVXTWiGw"
      },
      "execution_count": 201,
      "outputs": []
    },
    {
      "cell_type": "code",
      "source": [
        "count_findings = list()\n",
        "for finding in classes:\n",
        "  count = dict(chexpert_df_balanced[finding].value_counts())[1.0]\n",
        "  count_findings.append(count)\n",
        "\n",
        "plt.figure(figsize = (20, 10))\n",
        "plt.bar(classes, count_findings)\n",
        "plt.xticks(rotation = 30, size = 20)\n",
        "plt.ylabel('Imagens', size = 20)\n",
        "plt.title('Quantidade Total de Imagens: Base de Dados CheXpert - Multirrótulo', \n",
        "          size = 25)"
      ],
      "metadata": {
        "colab": {
          "base_uri": "https://localhost:8080/",
          "height": 577
        },
        "id": "9jGm9ByFMeGH",
        "outputId": "79f36bc2-a2d9-49be-debc-f22f5467beab"
      },
      "execution_count": 207,
      "outputs": [
        {
          "output_type": "execute_result",
          "data": {
            "text/plain": [
              "Text(0.5, 1.0, 'Quantidade Total de Imagens: Base de Dados CheXpert - Multirrótulo')"
            ]
          },
          "metadata": {},
          "execution_count": 207
        },
        {
          "output_type": "display_data",
          "data": {
            "text/plain": [
              "<Figure size 1440x720 with 1 Axes>"
            ],
            "image/png": "[encoded data removed]"
          },
          "metadata": {
            "needs_background": "light"
          }
        }
      ]
    },
    {
      "cell_type": "code",
      "source": [
        "chexpert_df_balanced"
      ],
      "metadata": {
        "colab": {
          "base_uri": "https://localhost:8080/",
          "height": 765
        },
        "id": "z162iGKokPEM",
        "outputId": "4947307c-be78-4d92-acc0-08404523dbed"
      },
      "execution_count": 209,
      "outputs": [
        {
          "output_type": "execute_result",
          "data": {
            "text/plain": [
              "         Dataset                                               Path     Sex  \\\n",
              "47629   CheXpert  /content/CheXpert-v1.0-small/train/patient1152...  female   \n",
              "102350  CheXpert  /content/CheXpert-v1.0-small/train/patient2457...    male   \n",
              "171711  CheXpert  /content/CheXpert-v1.0-small/train/patient4004...  female   \n",
              "132865  CheXpert  /content/CheXpert-v1.0-small/train/patient3187...    male   \n",
              "179979  CheXpert  /content/CheXpert-v1.0-small/train/patient4230...    male   \n",
              "...          ...                                                ...     ...   \n",
              "124544  CheXpert  /content/CheXpert-v1.0-small/train/patient2981...  female   \n",
              "188437  CheXpert  /content/CheXpert-v1.0-small/train/patient4496...  female   \n",
              "182718  CheXpert  /content/CheXpert-v1.0-small/train/patient4311...    male   \n",
              "152732  CheXpert  /content/CheXpert-v1.0-small/train/patient3601...    male   \n",
              "69516   CheXpert  /content/CheXpert-v1.0-small/train/patient1664...    male   \n",
              "\n",
              "        Label Type  No Finding  Lung Opacity  Atelectasis  Pneumothorax  \\\n",
              "47629   Multilabel         0.0           1.0          0.0           0.0   \n",
              "102350  Multilabel         0.0           1.0          0.0           0.0   \n",
              "171711  Multilabel         0.0           1.0          0.0           0.0   \n",
              "132865  Multilabel         0.0           1.0          0.0           0.0   \n",
              "179979  Multilabel         0.0           1.0          0.0           0.0   \n",
              "...            ...         ...           ...          ...           ...   \n",
              "124544  Multilabel         0.0           1.0          1.0           1.0   \n",
              "188437  Multilabel         0.0           1.0          1.0           1.0   \n",
              "182718  Multilabel         0.0           1.0          1.0           1.0   \n",
              "152732  Multilabel         0.0           1.0          1.0           1.0   \n",
              "69516   Multilabel         0.0           1.0          1.0           1.0   \n",
              "\n",
              "        Pleural Effusion                                     multilabel_ref  \n",
              "47629                1.0                       Lung OpacityPleural Effusion  \n",
              "102350               1.0                       Lung OpacityPleural Effusion  \n",
              "171711               1.0                       Lung OpacityPleural Effusion  \n",
              "132865               1.0                       Lung OpacityPleural Effusion  \n",
              "179979               1.0                       Lung OpacityPleural Effusion  \n",
              "...                  ...                                                ...  \n",
              "124544               1.0  Lung OpacityAtelectasisPneumothoraxPleural Eff...  \n",
              "188437               1.0  Lung OpacityAtelectasisPneumothoraxPleural Eff...  \n",
              "182718               1.0  Lung OpacityAtelectasisPneumothoraxPleural Eff...  \n",
              "152732               1.0  Lung OpacityAtelectasisPneumothoraxPleural Eff...  \n",
              "69516                1.0  Lung OpacityAtelectasisPneumothoraxPleural Eff...  \n",
              "\n",
              "[50985 rows x 10 columns]"
            ],
            "text/html": [
              "\n",
              "  <div id=\"df-4d67f1c0-d57b-442b-b494-0a038eb4385e\">\n",
              "    <div class=\"colab-df-container\">\n",
              "      <div>\n",
              "<style scoped>\n",
              "    .dataframe tbody tr th:only-of-type {\n",
              "        vertical-align: middle;\n",
              "    }\n",
              "\n",
              "    .dataframe tbody tr th {\n",
              "        vertical-align: top;\n",
              "    }\n",
              "\n",
              "    .dataframe thead th {\n",
              "        text-align: right;\n",
              "    }\n",
              "</style>\n",
              "<table border=\"1\" class=\"dataframe\">\n",
              "  <thead>\n",
              "    <tr style=\"text-align: right;\">\n",
              "      <th></th>\n",
              "      <th>Dataset</th>\n",
              "      <th>Path</th>\n",
              "      <th>Sex</th>\n",
              "      <th>Label Type</th>\n",
              "      <th>No Finding</th>\n",
              "      <th>Lung Opacity</th>\n",
              "      <th>Atelectasis</th>\n",
              "      <th>Pneumothorax</th>\n",
              "      <th>Pleural Effusion</th>\n",
              "      <th>multilabel_ref</th>\n",
              "    </tr>\n",
              "  </thead>\n",
              "  <tbody>\n",
              "    <tr>\n",
              "      <th>47629</th>\n",
              "      <td>CheXpert</td>\n",
              "      <td>/content/CheXpert-v1.0-small/train/patient1152...</td>\n",
              "      <td>female</td>\n",
              "      <td>Multilabel</td>\n",
              "      <td>0.0</td>\n",
              "      <td>1.0</td>\n",
              "      <td>0.0</td>\n",
              "      <td>0.0</td>\n",
              "      <td>1.0</td>\n",
              "      <td>Lung OpacityPleural Effusion</td>\n",
              "    </tr>\n",
              "    <tr>\n",
              "      <th>102350</th>\n",
              "      <td>CheXpert</td>\n",
              "      <td>/content/CheXpert-v1.0-small/train/patient2457...</td>\n",
              "      <td>male</td>\n",
              "      <td>Multilabel</td>\n",
              "      <td>0.0</td>\n",
              "      <td>1.0</td>\n",
              "      <td>0.0</td>\n",
              "      <td>0.0</td>\n",
              "      <td>1.0</td>\n",
              "      <td>Lung OpacityPleural Effusion</td>\n",
              "    </tr>\n",
              "    <tr>\n",
              "      <th>171711</th>\n",
              "      <td>CheXpert</td>\n",
              "      <td>/content/CheXpert-v1.0-small/train/patient4004...</td>\n",
              "      <td>female</td>\n",
              "      <td>Multilabel</td>\n",
              "      <td>0.0</td>\n",
              "      <td>1.0</td>\n",
              "      <td>0.0</td>\n",
              "      <td>0.0</td>\n",
              "      <td>1.0</td>\n",
              "      <td>Lung OpacityPleural Effusion</td>\n",
              "    </tr>\n",
              "    <tr>\n",
              "      <th>132865</th>\n",
              "      <td>CheXpert</td>\n",
              "      <td>/content/CheXpert-v1.0-small/train/patient3187...</td>\n",
              "      <td>male</td>\n",
              "      <td>Multilabel</td>\n",
              "      <td>0.0</td>\n",
              "      <td>1.0</td>\n",
              "      <td>0.0</td>\n",
              "      <td>0.0</td>\n",
              "      <td>1.0</td>\n",
              "      <td>Lung OpacityPleural Effusion</td>\n",
              "    </tr>\n",
              "    <tr>\n",
              "      <th>179979</th>\n",
              "      <td>CheXpert</td>\n",
              "      <td>/content/CheXpert-v1.0-small/train/patient4230...</td>\n",
              "      <td>male</td>\n",
              "      <td>Multilabel</td>\n",
              "      <td>0.0</td>\n",
              "      <td>1.0</td>\n",
              "      <td>0.0</td>\n",
              "      <td>0.0</td>\n",
              "      <td>1.0</td>\n",
              "      <td>Lung OpacityPleural Effusion</td>\n",
              "    </tr>\n",
              "    <tr>\n",
              "      <th>...</th>\n",
              "      <td>...</td>\n",
              "      <td>...</td>\n",
              "      <td>...</td>\n",
              "      <td>...</td>\n",
              "      <td>...</td>\n",
              "      <td>...</td>\n",
              "      <td>...</td>\n",
              "      <td>...</td>\n",
              "      <td>...</td>\n",
              "      <td>...</td>\n",
              "    </tr>\n",
              "    <tr>\n",
              "      <th>124544</th>\n",
              "      <td>CheXpert</td>\n",
              "      <td>/content/CheXpert-v1.0-small/train/patient2981...</td>\n",
              "      <td>female</td>\n",
              "      <td>Multilabel</td>\n",
              "      <td>0.0</td>\n",
              "      <td>1.0</td>\n",
              "      <td>1.0</td>\n",
              "      <td>1.0</td>\n",
              "      <td>1.0</td>\n",
              "      <td>Lung OpacityAtelectasisPneumothoraxPleural Eff...</td>\n",
              "    </tr>\n",
              "    <tr>\n",
              "      <th>188437</th>\n",
              "      <td>CheXpert</td>\n",
              "      <td>/content/CheXpert-v1.0-small/train/patient4496...</td>\n",
              "      <td>female</td>\n",
              "      <td>Multilabel</td>\n",
              "      <td>0.0</td>\n",
              "      <td>1.0</td>\n",
              "      <td>1.0</td>\n",
              "      <td>1.0</td>\n",
              "      <td>1.0</td>\n",
              "      <td>Lung OpacityAtelectasisPneumothoraxPleural Eff...</td>\n",
              "    </tr>\n",
              "    <tr>\n",
              "      <th>182718</th>\n",
              "      <td>CheXpert</td>\n",
              "      <td>/content/CheXpert-v1.0-small/train/patient4311...</td>\n",
              "      <td>male</td>\n",
              "      <td>Multilabel</td>\n",
              "      <td>0.0</td>\n",
              "      <td>1.0</td>\n",
              "      <td>1.0</td>\n",
              "      <td>1.0</td>\n",
              "      <td>1.0</td>\n",
              "      <td>Lung OpacityAtelectasisPneumothoraxPleural Eff...</td>\n",
              "    </tr>\n",
              "    <tr>\n",
              "      <th>152732</th>\n",
              "      <td>CheXpert</td>\n",
              "      <td>/content/CheXpert-v1.0-small/train/patient3601...</td>\n",
              "      <td>male</td>\n",
              "      <td>Multilabel</td>\n",
              "      <td>0.0</td>\n",
              "      <td>1.0</td>\n",
              "      <td>1.0</td>\n",
              "      <td>1.0</td>\n",
              "      <td>1.0</td>\n",
              "      <td>Lung OpacityAtelectasisPneumothoraxPleural Eff...</td>\n",
              "    </tr>\n",
              "    <tr>\n",
              "      <th>69516</th>\n",
              "      <td>CheXpert</td>\n",
              "      <td>/content/CheXpert-v1.0-small/train/patient1664...</td>\n",
              "      <td>male</td>\n",
              "      <td>Multilabel</td>\n",
              "      <td>0.0</td>\n",
              "      <td>1.0</td>\n",
              "      <td>1.0</td>\n",
              "      <td>1.0</td>\n",
              "      <td>1.0</td>\n",
              "      <td>Lung OpacityAtelectasisPneumothoraxPleural Eff...</td>\n",
              "    </tr>\n",
              "  </tbody>\n",
              "</table>\n",
              "<p>50985 rows × 10 columns</p>\n",
              "</div>\n",
              "      <button class=\"colab-df-convert\" onclick=\"convertToInteractive('df-4d67f1c0-d57b-442b-b494-0a038eb4385e')\"\n",
              "              title=\"Convert this dataframe to an interactive table.\"\n",
              "              style=\"display:none;\">\n",
              "        \n",
              "  <svg xmlns=\"http://www.w3.org/2000/svg\" height=\"24px\"viewBox=\"0 0 24 24\"\n",
              "       width=\"24px\">\n",
              "    <path d=\"M0 0h24v24H0V0z\" fill=\"none\"/>\n",
              "    <path d=\"M18.56 5.44l.94 2.06.94-2.06 2.06-.94-2.06-.94-.94-2.06-.94 2.06-2.06.94zm-11 1L8.5 8.5l.94-2.06 2.06-.94-2.06-.94L8.5 2.5l-.94 2.06-2.06.94zm10 10l.94 2.06.94-2.06 2.06-.94-2.06-.94-.94-2.06-.94 2.06-2.06.94z\"/><path d=\"M17.41 7.96l-1.37-1.37c-.4-.4-.92-.59-1.43-.59-.52 0-1.04.2-1.43.59L10.3 9.45l-7.72 7.72c-.78.78-.78 2.05 0 2.83L4 21.41c.39.39.9.59 1.41.59.51 0 1.02-.2 1.41-.59l7.78-7.78 2.81-2.81c.8-.78.8-2.07 0-2.86zM5.41 20L4 18.59l7.72-7.72 1.47 1.35L5.41 20z\"/>\n",
              "  </svg>\n",
              "      </button>\n",
              "      \n",
              "  <style>\n",
              "    .colab-df-container {\n",
              "      display:flex;\n",
              "      flex-wrap:wrap;\n",
              "      gap: 12px;\n",
              "    }\n",
              "\n",
              "    .colab-df-convert {\n",
              "      background-color: #E8F0FE;\n",
              "      border: none;\n",
              "      border-radius: 50%;\n",
              "      cursor: pointer;\n",
              "      display: none;\n",
              "      fill: #1967D2;\n",
              "      height: 32px;\n",
              "      padding: 0 0 0 0;\n",
              "      width: 32px;\n",
              "    }\n",
              "\n",
              "    .colab-df-convert:hover {\n",
              "      background-color: #E2EBFA;\n",
              "      box-shadow: 0px 1px 2px rgba(60, 64, 67, 0.3), 0px 1px 3px 1px rgba(60, 64, 67, 0.15);\n",
              "      fill: #174EA6;\n",
              "    }\n",
              "\n",
              "    [theme=dark] .colab-df-convert {\n",
              "      background-color: #3B4455;\n",
              "      fill: #D2E3FC;\n",
              "    }\n",
              "\n",
              "    [theme=dark] .colab-df-convert:hover {\n",
              "      background-color: #434B5C;\n",
              "      box-shadow: 0px 1px 3px 1px rgba(0, 0, 0, 0.15);\n",
              "      filter: drop-shadow(0px 1px 2px rgba(0, 0, 0, 0.3));\n",
              "      fill: #FFFFFF;\n",
              "    }\n",
              "  </style>\n",
              "\n",
              "      <script>\n",
              "        const buttonEl =\n",
              "          document.querySelector('#df-4d67f1c0-d57b-442b-b494-0a038eb4385e button.colab-df-convert');\n",
              "        buttonEl.style.display =\n",
              "          google.colab.kernel.accessAllowed ? 'block' : 'none';\n",
              "\n",
              "        async function convertToInteractive(key) {\n",
              "          const element = document.querySelector('#df-4d67f1c0-d57b-442b-b494-0a038eb4385e');\n",
              "          const dataTable =\n",
              "            await google.colab.kernel.invokeFunction('convertToInteractive',\n",
              "                                                     [key], {});\n",
              "          if (!dataTable) return;\n",
              "\n",
              "          const docLinkHtml = 'Like what you see? Visit the ' +\n",
              "            '<a target=\"_blank\" href=https://colab.research.google.com/notebooks/data_table.ipynb>data table notebook</a>'\n",
              "            + ' to learn more about interactive tables.';\n",
              "          element.innerHTML = '';\n",
              "          dataTable['output_type'] = 'display_data';\n",
              "          await google.colab.output.renderOutput(dataTable, element);\n",
              "          const docLink = document.createElement('div');\n",
              "          docLink.innerHTML = docLinkHtml;\n",
              "          element.appendChild(docLink);\n",
              "        }\n",
              "      </script>\n",
              "    </div>\n",
              "  </div>\n",
              "  "
            ]
          },
          "metadata": {},
          "execution_count": 209
        }
      ]
    },
    {
      "cell_type": "code",
      "source": [
        "chexpert_df_balanced.drop('multilabel_ref', axis = 1)\n",
        "chexpert_df_balanced.to_csv(path_or_buf = 'chexpert_df_multilabel.csv', columns = columns)"
      ],
      "metadata": {
        "id": "98j76OAuiQ1R"
      },
      "execution_count": 210,
      "outputs": []
    }
  ]
}