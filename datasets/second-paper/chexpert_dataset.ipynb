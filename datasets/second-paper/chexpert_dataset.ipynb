{
  "nbformat": 4,
  "nbformat_minor": 0,
  "metadata": {
    "colab": {
      "name": "chexpert-dataset.ipynb",
      "provenance": []
    },
    "kernelspec": {
      "name": "python3",
      "display_name": "Python 3"
    },
    "language_info": {
      "name": "python"
    }
  },
  "cells": [
    {
      "cell_type": "code",
      "source": [
        "from functools import partial\n",
        "import pandas as pd"
      ],
      "metadata": {
        "id": "dlFBPuszb5LB"
      },
      "execution_count": 30,
      "outputs": []
    },
    {
      "cell_type": "code",
      "source": [
        "def add_path(file_, path):\n",
        "  '''\n",
        "  add the images folder to the file name\n",
        "\n",
        "  Args:\n",
        "    file_ (str) --> file that is inside the folder\n",
        "    path (str) --> folder that contains the files\n",
        "  \n",
        "  Returns:\n",
        "    filepath (str) --> file with destination path\n",
        "  '''\n",
        "\n",
        "  return path + file_"
      ],
      "metadata": {
        "id": "tdaOV9kMgpij"
      },
      "execution_count": 31,
      "outputs": []
    },
    {
      "cell_type": "code",
      "execution_count": 1,
      "metadata": {
        "id": "rnU5q6dSV1zD"
      },
      "outputs": [],
      "source": [
        "!cp /content/drive/MyDrive/datasets/chexpert-v10-small.zip /content/\n",
        "!unzip /content/chexpert-v10-small.zip"
      ]
    },
    {
      "cell_type": "code",
      "source": [
        "chexpert_df = pd.read_csv('/content/CheXpert-v1.0-small/train.csv')\n",
        "chexpert_df = chexpert_df.fillna(0)\n",
        "\n",
        "chexpert_df = chexpert_df.drop(['Age', 'Enlarged Cardiomediastinum', \n",
        "                                'Cardiomegaly', 'Pleural Other',\n",
        "                                'Fracture', 'Support Devices'], axis = 1)\n",
        "\n",
        "chexpert_df = chexpert_df[chexpert_df['Frontal/Lateral'] == 'Frontal']\n",
        "chexpert_df = chexpert_df[(chexpert_df['AP/PA'] == 'AP') |\n",
        "                          (chexpert_df['AP/PA'] == 'PA')]\n",
        "chexpert_df = chexpert_df.drop(['Frontal/Lateral', 'AP/PA'], axis = 1)"
      ],
      "metadata": {
        "id": "LlL81zHnb2y1"
      },
      "execution_count": 73,
      "outputs": []
    },
    {
      "cell_type": "code",
      "source": [
        "path = list(chexpert_df['Path'])\n",
        "partial_add_path = partial(add_path, path = '/content/')\n",
        "path = list(map(partial_add_path, path))\n",
        "chexpert_df['Path'] = path\n",
        "chexpert_df['Sex'].replace({'Female': 'female', 'Male': 'male'}, inplace = True)"
      ],
      "metadata": {
        "id": "USIDTMOid_U1"
      },
      "execution_count": 74,
      "outputs": []
    },
    {
      "cell_type": "code",
      "source": [
        "findings = list()\n",
        "classes = ['No Finding', 'Lung Opacity', 'Lung Lesion', 'Edema', \n",
        "           'Consolidation', 'Pneumonia', 'Atelectasis', 'Pneumothorax',\n",
        "           'Pleural Effusion']\n",
        "\n",
        "for classe in classes:\n",
        "  classes_aux = classes.copy()\n",
        "  classes_aux.remove(classe)\n",
        "  finding = chexpert_df[(chexpert_df[classe] == 1.0) & \n",
        "                        (chexpert_df[classes_aux[0]] == 0.0) &\n",
        "                        (chexpert_df[classes_aux[1]] == 0.0) &\n",
        "                        (chexpert_df[classes_aux[2]] == 0.0) &\n",
        "                        (chexpert_df[classes_aux[3]] == 0.0) &\n",
        "                        (chexpert_df[classes_aux[4]] == 0.0) &\n",
        "                        (chexpert_df[classes_aux[5]] == 0.0) &\n",
        "                        (chexpert_df[classes_aux[6]] == 0.0) &\n",
        "                        (chexpert_df[classes_aux[7]] == 0.0)]\n",
        "  findings.append(finding)\n",
        "\n",
        "del findings[0]\n",
        "\n",
        "chexpert_df = pd.concat((findings[0], findings[1], findings[2], findings[3],\n",
        "                         findings[4], findings[5], findings[6], findings[7]))"
      ],
      "metadata": {
        "id": "xY8GkGknhdT4"
      },
      "execution_count": 75,
      "outputs": []
    },
    {
      "cell_type": "code",
      "source": [
        "chexpert_df = chexpert_df.drop('No Finding', axis = 1)\n",
        "chexpert_df['Dataset'] = ['CheXpert'] * len(chexpert_df)\n",
        "columns = ['Dataset', 'Path', 'Sex', 'Lung Opacity', 'Lung Lesion', 'Edema', \n",
        "           'Consolidation', 'Pneumonia', 'Atelectasis', 'Pneumothorax',\n",
        "           'Pleural Effusion']\n",
        "chexpert_df = chexpert_df[columns]"
      ],
      "metadata": {
        "id": "DoGFqAyjkpzy"
      },
      "execution_count": 76,
      "outputs": []
    },
    {
      "cell_type": "code",
      "source": [
        "chexpert_df.to_csv(path_or_buf = 'chexpert_df.csv', columns = columns)"
      ],
      "metadata": {
        "id": "5yQFub7Jl0FF"
      },
      "execution_count": 77,
      "outputs": []
    }
  ]
}