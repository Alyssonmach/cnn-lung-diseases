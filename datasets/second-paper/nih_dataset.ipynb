{
 "cells": [
  {
   "cell_type": "code",
   "execution_count": 80,
   "metadata": {
    "id": "-0wP_BkP6yn8"
   },
   "outputs": [],
   "source": [
    "from functools import partial\n",
    "import pandas as pd\n",
    "import numpy as np\n",
    "import tarfile \n",
    "import os"
   ]
  },
  {
   "cell_type": "code",
   "execution_count": 32,
   "metadata": {
    "id": "F308RkwbAXBJ"
   },
   "outputs": [],
   "source": [
    "def add_path(file_, path):\n",
    "  '''\n",
    "  add the images folder to the file name\n",
    "\n",
    "  Args:\n",
    "    file_ (str) --> file that is inside the folder\n",
    "    path (str) --> folder that contains the files\n",
    "  \n",
    "  Returns:\n",
    "    filepath (str) --> file with destination path\n",
    "  '''\n",
    "\n",
    "  return path + file_"
   ]
  },
  {
   "cell_type": "code",
   "execution_count": 35,
   "metadata": {
    "id": "HBIdcxrpAs95"
   },
   "outputs": [],
   "source": [
    "!cp -r /content/drive/MyDrive/datasets/nih-files /content"
   ]
  },
  {
   "cell_type": "code",
   "execution_count": null,
   "metadata": {
    "id": "J5Y--5lbBGea"
   },
   "outputs": [],
   "source": [
    "extract_files = os.listdir('/content/nih-files')\n",
    "\n",
    "for files in extract_files:\n",
    "  file_ = tarfile.open(f'/content/nih-files/{files}') \n",
    "  file_.extractall('/content/') \n",
    "  file_.close() "
   ]
  },
  {
   "cell_type": "code",
   "execution_count": 8,
   "metadata": {
    "id": "mWwXopw87iA0"
   },
   "outputs": [],
   "source": [
    "nih_df = pd.read_csv('/content/Data_Entry_2017_v2020.csv')\n",
    "nih_df = nih_df.drop(['Follow-up #', 'Patient ID', 'Patient Age', \n",
    "                      'View Position', 'OriginalImage[Width', 'Height]', \n",
    "                      'OriginalImagePixelSpacing[x', 'y]'], axis = 1)"
   ]
  },
  {
   "cell_type": "code",
   "execution_count": 40,
   "metadata": {
    "id": "5Kx0xiQg_DXE"
   },
   "outputs": [],
   "source": [
    "nih_df.rename(columns = {'Patient Gender': 'Sex'}, inplace = True)\n",
    "nih_df['Sex'].replace({'M': 'male', 'F': 'female'}, inplace = True)\n",
    "\n",
    "image_index = list(nih_df['Image Index'])\n",
    "partial_add_path = partial(add_path, path = '/content/images/')\n",
    "image_index = list(map(partial_add_path, image_index))\n",
    "\n",
    "nih_df['Path'] = image_index\n",
    "nih_df = nih_df.drop(['Image Index'], axis = 1)\n",
    "nih_df['Dataset'] = ['NIH'] * len(nih_df)"
   ]
  },
  {
   "cell_type": "code",
   "execution_count": null,
   "metadata": {
    "id": "nuF6xr-t74wy"
   },
   "outputs": [],
   "source": [
    "infiltration = nih_df[nih_df['Finding Labels'] == 'Infiltration']\n",
    "nodule = nih_df[nih_df['Finding Labels'] == 'Nodule']\n",
    "emphysema = nih_df[nih_df['Finding Labels'] == 'Emphysema']\n",
    "effusion = nih_df[nih_df['Finding Labels'] == 'Effusion']\n",
    "atelectasis = nih_df[nih_df['Finding Labels'] == 'Atelectasis']\n",
    "pleural_thickening = nih_df[nih_df['Finding Labels'] == 'Pleural_Thickening']\n",
    "pneumothorax = nih_df[nih_df['Finding Labels'] == 'Pneumothorax']\n",
    "mass = nih_df[nih_df['Finding Labels'] == 'Mass']\n",
    "fibrosis = nih_df[nih_df['Finding Labels'] == 'Fibrosis']\n",
    "consolidation = nih_df[nih_df['Finding Labels'] == 'Consolidation']\n",
    "edema = nih_df[nih_df['Finding Labels'] == 'Edema']\n",
    "pneumonia = nih_df[nih_df['Finding Labels'] == 'Pneumonia']\n",
    "\n",
    "dict_abnormalities = {'Infiltration': infiltration, 'Nodule': nodule,\n",
    "                      'Emphysema': emphysema, 'Effusion': effusion,\n",
    "                      'Atelectasis': atelectasis, 'Mass': mass,\n",
    "                      'Pleural_Thickening': pleural_thickening,\n",
    "                      'Pneumothorax': pneumothorax, 'Fibrosis': fibrosis,\n",
    "                      'Consolidation': consolidation, 'Edema': edema,\n",
    "                      'Pneumonia': pneumonia}\n",
    "\n",
    "for keys, items in dict_abnormalities.items():\n",
    "  dict_abnormalities[keys][keys] = [1] * len(items)\n",
    "  columns_others = list(dict_abnormalities.keys())\n",
    "  columns_others.remove(keys)\n",
    "  zeros = np.zeros((len(items), 11))\n",
    "  others_df = pd.DataFrame(data = zeros, columns = columns_others)\n",
    "  dict_abnormalities[keys] = dict_abnormalities[keys].join(others_df)\n",
    "  dict_abnormalities[keys] = dict_abnormalities[keys].fillna(0)\n",
    "  columns = np.concatenate((['Dataset', 'Path', 'Sex', 'Finding Labels'], \n",
    "                           list(dict_abnormalities.keys())))\n",
    "  dict_abnormalities[keys] = dict_abnormalities[keys][columns]"
   ]
  },
  {
   "cell_type": "code",
   "execution_count": 154,
   "metadata": {
    "id": "-LHKdFvWJWP7"
   },
   "outputs": [],
   "source": [
    "nih_df = pd.concat((dict_abnormalities['Infiltration'], dict_abnormalities['Nodule'],\n",
    "          dict_abnormalities['Emphysema'], dict_abnormalities['Effusion'],\n",
    "          dict_abnormalities['Atelectasis'], dict_abnormalities['Pleural_Thickening'],\n",
    "          dict_abnormalities['Pneumothorax'], dict_abnormalities['Mass'],\n",
    "          dict_abnormalities['Fibrosis'], dict_abnormalities['Consolidation'],\n",
    "          dict_abnormalities['Edema'], dict_abnormalities['Pneumonia']))\n",
    "nih_df = nih_df.drop(['Finding Labels'], axis = 1)"
   ]
  },
  {
   "cell_type": "code",
   "execution_count": 158,
   "metadata": {
    "id": "yChXm5jVJe52"
   },
   "outputs": [],
   "source": [
    "columns = np.concatenate((['Dataset', 'Path', 'Sex'], \n",
    "                          list(dict_abnormalities.keys())))\n",
    "nih_df.to_csv(path_or_buf = 'nih_df.csv', columns = columns)"
   ]
  }
 ],
 "metadata": {
  "colab": {
   "name": "nih-dataset.ipynb",
   "provenance": []
  },
  "kernelspec": {
   "display_name": "Python 3 (ipykernel)",
   "language": "python",
   "name": "python3"
  },
  "language_info": {
   "codemirror_mode": {
    "name": "ipython",
    "version": 3
   },
   "file_extension": ".py",
   "mimetype": "text/x-python",
   "name": "python",
   "nbconvert_exporter": "python",
   "pygments_lexer": "ipython3",
   "version": "3.8.10"
  }
 },
 "nbformat": 4,
 "nbformat_minor": 1
}
