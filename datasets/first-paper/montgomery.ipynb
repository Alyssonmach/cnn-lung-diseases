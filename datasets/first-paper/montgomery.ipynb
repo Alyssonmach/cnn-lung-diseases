{
 "cells": [
  {
   "cell_type": "markdown",
   "id": "stable-former",
   "metadata": {
    "id": "stable-former"
   },
   "source": [
    "# Conjunto de Dados 1: *Montgomery Dataset*\n",
    "***\n",
    "* Disponível em: <https://www.kaggle.com/kmader/pulmonary-chest-xray-abnormalities>. Acesso em 19 fev. 2021."
   ]
  },
  {
   "cell_type": "markdown",
   "id": "spanish-cabinet",
   "metadata": {
    "id": "spanish-cabinet"
   },
   "source": [
    "### Importação dos pacotes "
   ]
  },
  {
   "cell_type": "code",
   "execution_count": 22,
   "id": "copyrighted-quarter",
   "metadata": {
    "id": "copyrighted-quarter"
   },
   "outputs": [],
   "source": [
    "from keras.preprocessing.image import ImageDataGenerator\n",
    "from sklearn.model_selection import train_test_split\n",
    "from sklearn.utils import class_weight\n",
    "from tqdm import tqdm\n",
    "import urllib.request\n",
    "import pandas as pd\n",
    "import numpy as np\n",
    "import glob\n",
    "import re"
   ]
  },
  {
   "cell_type": "markdown",
   "id": "sought-hardware",
   "metadata": {},
   "source": [
    "### Pré-processamento dos dados"
   ]
  },
  {
   "cell_type": "code",
   "execution_count": 3,
   "id": "fundamental-tackle",
   "metadata": {
    "colab": {
     "base_uri": "https://localhost:8080/"
    },
    "id": "fundamental-tackle",
    "outputId": "a10e13b1-49c0-49ab-de79-4a67e803145d"
   },
   "outputs": [
    {
     "name": "stdout",
     "output_type": "stream",
     "text": [
      "quantidade de imagens: 138\n"
     ]
    }
   ],
   "source": [
    "path_file = '../0-datasets/montgomery-shenzen/arquivos-descompactados/Montgomery/MontgomerySet/CXR_png/*.png'\n",
    "filelist_montgomery = glob.glob(path_file)\n",
    "\n",
    "print('quantidade de imagens:', str(len(filelist_montgomery)))"
   ]
  },
  {
   "cell_type": "code",
   "execution_count": 4,
   "id": "adverse-league",
   "metadata": {
    "id": "adverse-league"
   },
   "outputs": [],
   "source": [
    "def extract_label(file_list):\n",
    "  '''\n",
    "  extraindo os rótulos da imagem\n",
    "\n",
    "  Args:\n",
    "    file_list (list) --> lista com a referência dos arquivos de imagem\n",
    "  \n",
    "  Returns:\n",
    "    labels (list) --> lista com as rotulações da imagem\n",
    "  '''\n",
    "    \n",
    "  labels = list()\n",
    "    \n",
    "  for file in tqdm(file_list):\n",
    "    current_label = re.findall('[0-9]{4}_(.+?).png', file)\n",
    "    if current_label[0] == '0':\n",
    "      labels.append('normal')\n",
    "    else:\n",
    "      labels.append('abnormal')\n",
    "        \n",
    "  return labels"
   ]
  },
  {
   "cell_type": "code",
   "execution_count": 6,
   "id": "adapted-wages",
   "metadata": {
    "colab": {
     "base_uri": "https://localhost:8080/"
    },
    "id": "adapted-wages",
    "outputId": "cb014096-ea11-40a7-9cce-047b4ac4f02d"
   },
   "outputs": [
    {
     "name": "stdout",
     "output_type": "stream",
     "text": [
      "quantidade de rótulos: 138\n"
     ]
    }
   ],
   "source": [
    "labels = extract_label(filelist_montgomery)\n",
    "print('quantidade de rótulos:', str(len(labels)))"
   ]
  },
  {
   "cell_type": "code",
   "execution_count": 10,
   "id": "otherwise-selection",
   "metadata": {
    "colab": {
     "base_uri": "https://localhost:8080/"
    },
    "id": "otherwise-selection",
    "outputId": "ff188c13-495a-4d0c-f202-00f13f8fbcd2"
   },
   "outputs": [
    {
     "name": "stdout",
     "output_type": "stream",
     "text": [
      "quantidade de imagens de treinamento: 88\n",
      "quantidade de rótulos de treinamento: 88\n",
      "quantidade de imagens de teste: 28\n",
      "quantidade de rótulos de teste: 28\n",
      "quantidade de imagens de validação: 22\n",
      "quantidade de rótulos de validação: 22\n"
     ]
    }
   ],
   "source": [
    "full_data = pd.DataFrame(filelist_montgomery, columns = ['filepath'])\n",
    "full_data['target'] = labels\n",
    "train_df, test_df = train_test_split(full_data, stratify = full_data['target'], test_size = 0.2, random_state = 42)\n",
    "train_df, validation_df = train_test_split(train_df, stratify = train_df['target'], test_size = 0.2, random_state = 42)\n",
    "\n",
    "print('quantidade de imagens de treinamento:', len(train_df['filepath']))\n",
    "print('quantidade de rótulos de treinamento:', len(train_df['target']))\n",
    "print('quantidade de imagens de teste:', len(test_df['filepath']))\n",
    "print('quantidade de rótulos de teste:', len(test_df['target']))\n",
    "print('quantidade de imagens de validação:', len(validation_df['filepath']))\n",
    "print('quantidade de rótulos de validação:', len(validation_df['target']))"
   ]
  },
  {
   "cell_type": "code",
   "execution_count": 26,
   "id": "9d58fe61-c158-464e-a649-4898cd10fe2e",
   "metadata": {},
   "outputs": [],
   "source": [
    "class_weights = class_weight.compute_class_weight('balanced', np.unique(train_df['target']), train_df['target'])\n",
    "class_weight = {0: class_weights[0], 1: class_weights[1]}\n",
    "\n",
    "train_df.to_csv('train_df.csv')\n",
    "validation_df.to_csv('validation_df.csv')\n",
    "test_df.to_csv('test_df.csv')"
   ]
  },
  {
   "cell_type": "markdown",
   "id": "cordless-acquisition",
   "metadata": {
    "id": "cordless-acquisition"
   },
   "source": [
    "### Gerados de dados para a rede pelo Keras"
   ]
  },
  {
   "cell_type": "code",
   "execution_count": 19,
   "id": "mental-boutique",
   "metadata": {
    "colab": {
     "base_uri": "https://localhost:8080/"
    },
    "id": "mental-boutique",
    "outputId": "19e84528-75fb-4e1d-acf1-3a0a146a4664"
   },
   "outputs": [
    {
     "name": "stdout",
     "output_type": "stream",
     "text": [
      "Found 88 validated image filenames belonging to 2 classes.\n",
      "Found 22 validated image filenames belonging to 2 classes.\n",
      "Found 28 validated image filenames belonging to 2 classes.\n"
     ]
    }
   ],
   "source": [
    "image_generator = ImageDataGenerator(samplewise_center = True, samplewise_std_normalization = True,\n",
    "                                     rotation_range = 20, zoom_range = 0.2)\n",
    "\n",
    "train_generator = image_generator.flow_from_dataframe(dataframe = train_df, directory = '', x_col = 'filepath',\n",
    "                                                      y_col = 'target', batch_size = 32, seed = 42, shuffle = True,\n",
    "                                                      class_mode = 'categorical', color_mode = 'rgb',\n",
    "                                                      target_size = (256, 256))\n",
    "\n",
    "valid_generator = image_generator.flow_from_dataframe(dataframe = validation_df, directory = '.', x_col = 'filepath',\n",
    "                                                      y_col = 'target', batch_size = 32, seed = 42,\n",
    "                                                      shuffle = True, class_mode = 'categorical', \n",
    "                                                      target_size = (256, 256))\n",
    "\n",
    "test_datagen = ImageDataGenerator(samplewise_center = True, samplewise_std_normalization = True)\n",
    "\n",
    "test_generator = test_datagen.flow_from_dataframe(dataframe = test_df, directory = '.', x_col = 'filepath',\n",
    "                                                  y_col = 'target', batch_size = 32, seed = 42,\n",
    "                                                  shuffle = True, class_mode = 'categorical',\n",
    "                                                  target_size = (256, 256))"
   ]
  },
  {
   "cell_type": "code",
   "execution_count": 20,
   "id": "1c7f6835-7411-4042-820d-f374f2addc26",
   "metadata": {},
   "outputs": [
    {
     "data": {
      "text/plain": [
       "{'abnormal': 0, 'normal': 1}"
      ]
     },
     "execution_count": 20,
     "metadata": {},
     "output_type": "execute_result"
    }
   ],
   "source": [
    "train_generator.class_indices"
   ]
  }
 ],
 "metadata": {
  "colab": {
   "name": "1-datasets-1-2.ipynb",
   "provenance": [],
   "toc_visible": true
  },
  "kernelspec": {
   "display_name": "Python 3",
   "language": "python",
   "name": "python3"
  },
  "language_info": {
   "codemirror_mode": {
    "name": "ipython",
    "version": 3
   },
   "file_extension": ".py",
   "mimetype": "text/x-python",
   "name": "python",
   "nbconvert_exporter": "python",
   "pygments_lexer": "ipython3",
   "version": "3.8.7"
  }
 },
 "nbformat": 4,
 "nbformat_minor": 5
}
