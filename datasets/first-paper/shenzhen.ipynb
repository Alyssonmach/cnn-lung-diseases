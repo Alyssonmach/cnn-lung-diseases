{
 "cells": [
  {
   "cell_type": "markdown",
   "id": "preceding-indonesia",
   "metadata": {},
   "source": [
    "# Conjunto de Dados 2: *Shezhen Dataset*\n",
    "***\n",
    "* Disponível em: <https://www.kaggle.com/kmader/pulmonary-chest-xray-abnormalities>. Acesso em 19 fev. 2021."
   ]
  },
  {
   "cell_type": "markdown",
   "id": "herbal-landing",
   "metadata": {},
   "source": [
    "### Importação dos pacotes"
   ]
  },
  {
   "cell_type": "code",
   "execution_count": 2,
   "id": "powered-pennsylvania",
   "metadata": {},
   "outputs": [],
   "source": [
    "from keras.preprocessing.image import ImageDataGeneratorimport glob\n",
    "from sklearn.model_selection import train_test_split\n",
    "from sklearn.utils import class_weight\n",
    "from tqdm import tqdm\n",
    "import urllib.request\n",
    "import pandas as pd\n",
    "import numpy as np\n",
    "import re"
   ]
  },
  {
   "cell_type": "markdown",
   "id": "egyptian-repair",
   "metadata": {},
   "source": [
    "### Pré-processamento dos Dados"
   ]
  },
  {
   "cell_type": "code",
   "execution_count": 4,
   "id": "backed-barrel",
   "metadata": {},
   "outputs": [
    {
     "name": "stdout",
     "output_type": "stream",
     "text": [
      "quantidade de imagens: 662\n"
     ]
    }
   ],
   "source": [
    "path_file = '../0-datasets/montgomery-shenzen/arquivos-descompactados/ChinaSet_AllFiles/ChinaSet_AllFiles/CXR_png/*.png'\n",
    "filelist_shenzen = glob.glob(path_file)\n",
    "\n",
    "print('quantidade de imagens:', str(len(filelist_shenzen)))"
   ]
  },
  {
   "cell_type": "code",
   "execution_count": 5,
   "id": "alternate-operations",
   "metadata": {},
   "outputs": [],
   "source": [
    "def extract_label(file_list):\n",
    "  '''\n",
    "  extraindo os rótulos da imagem\n",
    "\n",
    "  Args:\n",
    "    file_list (list) --> lista com a referência dos arquivos de imagem\n",
    "  \n",
    "  Returns:\n",
    "    labels (list) --> lista com as rotulações da imagem\n",
    "  '''\n",
    "\n",
    "  labels = list()\n",
    "    \n",
    "  for file in tqdm(file_list): \n",
    "    current_label = re.findall('[0-9]{4}_(.+?).png', file) \n",
    "    if current_label[0] == '0':\n",
    "      labels.append('normal')\n",
    "    else:\n",
    "      labels.append('abnormal')\n",
    "        \n",
    "  return labels"
   ]
  },
  {
   "cell_type": "code",
   "execution_count": 7,
   "id": "bizarre-aluminum",
   "metadata": {},
   "outputs": [
    {
     "name": "stdout",
     "output_type": "stream",
     "text": [
      "quantidade de rótulos: 662\n"
     ]
    }
   ],
   "source": [
    "labels = extract_label(filelist_shenzen)\n",
    "print('quantidade de rótulos:', str(len(labels)))"
   ]
  },
  {
   "cell_type": "code",
   "execution_count": 11,
   "id": "difficult-weekend",
   "metadata": {},
   "outputs": [
    {
     "name": "stdout",
     "output_type": "stream",
     "text": [
      "quantidade de imagens de treinamento: 423\n",
      "quantidade de rótulos de treinamento: 423\n",
      "quantidade de imagens de teste: 133\n",
      "quantidade de rótulos de teste: 133\n",
      "quantidade de imagens de validação: 106\n",
      "quantidade de rótulos de validação: 106\n"
     ]
    }
   ],
   "source": [
    "full_data = pd.DataFrame(filelist_shenzen, columns = ['filepath'])\n",
    "full_data['target'] = labels\n",
    "train_df, test_df = train_test_split(full_data, stratify = full_data['target'], test_size = 0.2, random_state = 42)\n",
    "train_df, validation_df = train_test_split(train_df, stratify = train_df['target'], test_size = 0.2, random_state = 42)\n",
    "\n",
    "print('quantidade de imagens de treinamento:', len(train_df['filepath']))\n",
    "print('quantidade de rótulos de treinamento:', len(train_df['target']))\n",
    "print('quantidade de imagens de teste:', len(test_df['filepath']))\n",
    "print('quantidade de rótulos de teste:', len(test_df['target']))\n",
    "print('quantidade de imagens de validação:', len(validation_df['filepath']))\n",
    "print('quantidade de rótulos de validação:', len(validation_df['target']))"
   ]
  },
  {
   "cell_type": "code",
   "execution_count": 13,
   "id": "a9cdb1de-d620-4eb4-a314-b134116fcc66",
   "metadata": {},
   "outputs": [],
   "source": [
    "class_weights = class_weight.compute_class_weight('balanced', np.unique(train_df['target']), train_df['target'])\n",
    "class_weight = {0: class_weights[0], 1: class_weights[1]}\n",
    "\n",
    "train_df.to_csv('train_df.csv')\n",
    "validation_df.to_csv('validation_df.csv')\n",
    "test_df.to_csv('test_df.csv')"
   ]
  },
  {
   "cell_type": "markdown",
   "id": "loaded-treat",
   "metadata": {},
   "source": [
    "### Gerador de dados para a rede pelo Keras"
   ]
  },
  {
   "cell_type": "code",
   "execution_count": 14,
   "id": "fossil-postage",
   "metadata": {},
   "outputs": [
    {
     "name": "stdout",
     "output_type": "stream",
     "text": [
      "Found 423 validated image filenames belonging to 2 classes.\n",
      "Found 106 validated image filenames belonging to 2 classes.\n",
      "Found 133 validated image filenames belonging to 2 classes.\n"
     ]
    }
   ],
   "source": [
    "image_generator = ImageDataGenerator(samplewise_center = True, samplewise_std_normalization = True,\n",
    "                                     rotation_range = 20, zoom_range = 0.2)\n",
    "\n",
    "train_generator = image_generator.flow_from_dataframe(dataframe = train_df, directory = '', x_col = 'filepath',\n",
    "                                                      y_col = 'target', batch_size = 32, seed = 42, shuffle = True,\n",
    "                                                      class_mode = 'categorical', target_size = (256, 256))\n",
    "\n",
    "valid_generator = image_generator.flow_from_dataframe(dataframe = validation_df, directory = '.', x_col = 'filepath',\n",
    "                                                      y_col = 'target', batch_size = 32, seed = 42,\n",
    "                                                      shuffle = True, class_mode = 'categorical',\n",
    "                                                      target_size = (256, 256))\n",
    "\n",
    "test_datagen = ImageDataGenerator(samplewise_center = True, samplewise_std_normalization = True)\n",
    "\n",
    "test_generator = test_datagen.flow_from_dataframe(dataframe = test_df, directory = '.', x_col = 'filepath',\n",
    "                                                  y_col = 'target', batch_size = 32, seed = 42,\n",
    "                                                  shuffle = True, class_mode = 'categorical',\n",
    "                                                  target_size = (256, 256))"
   ]
  },
  {
   "cell_type": "code",
   "execution_count": 15,
   "id": "9329e383-8c17-4e07-b0e2-a4d0124dd46b",
   "metadata": {},
   "outputs": [
    {
     "data": {
      "text/plain": [
       "{'abnormal': 0, 'normal': 1}"
      ]
     },
     "execution_count": 15,
     "metadata": {},
     "output_type": "execute_result"
    }
   ],
   "source": [
    "train_generator.class_indices"
   ]
  }
 ],
 "metadata": {
  "kernelspec": {
   "display_name": "Python 3",
   "language": "python",
   "name": "python3"
  },
  "language_info": {
   "codemirror_mode": {
    "name": "ipython",
    "version": 3
   },
   "file_extension": ".py",
   "mimetype": "text/x-python",
   "name": "python",
   "nbconvert_exporter": "python",
   "pygments_lexer": "ipython3",
   "version": "3.8.7"
  }
 },
 "nbformat": 4,
 "nbformat_minor": 5
}
