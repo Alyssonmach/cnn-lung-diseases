{
 "cells": [
  {
   "cell_type": "code",
   "execution_count": 3,
   "metadata": {
    "colab": {
     "base_uri": "https://localhost:8080/"
    },
    "id": "8bOjW7sP4mUy",
    "outputId": "c5992d74-00da-4ccc-bcbd-071b22adb71a"
   },
   "outputs": [
    {
     "name": "stdout",
     "output_type": "stream",
     "text": [
      "Mounted at /content/drive\n"
     ]
    }
   ],
   "source": [
    "from google.colab import drive\n",
    "drive.mount('/content/drive')"
   ]
  },
  {
   "cell_type": "code",
   "execution_count": 62,
   "metadata": {
    "id": "b0NpE-au4sU-"
   },
   "outputs": [],
   "source": [
    "# importando o pacote para baixar dados de url\n",
    "import urllib.request as url\n",
    "# importando o pacote para manipulação de arquivos\n",
    "import os\n",
    "# importando o pacote de visualização gráfica\n",
    "import matplotlib.pyplot as plt\n",
    "# imortando o pacote de manipulação de imagens\n",
    "from PIL import Image\n",
    "# importando pacote para gerenciamento de arquivos\n",
    "import shutil\n",
    "\n",
    "def download_scripts(scripts, file_):\n",
    "\n",
    "  # baixando os scripts no arquivo definido\n",
    "  url.urlretrieve(script, file_)\n",
    "\n",
    "  return None\n",
    "\n",
    "def listdir(dir_name):\n",
    "  # capturando os caminhos dos arquivos existentes no diretório \n",
    "  full_files = os.listdir(dir_name)\n",
    "  \n",
    "  return full_files\n",
    "\n",
    "def he_files(files_list, dir_name, new_dir):\n",
    "\n",
    "  # iterando os arquivos da lista\n",
    "  for file_ in files_list:\n",
    "    # aplicando a equalização de histograma em cada um dos arquivos\n",
    "    image = histogram_equalization(dir_name + file_)\n",
    "    # carregando a imagem com o pacote PIL\n",
    "    im = Image.fromarray(image)\n",
    "    if im.mode != 'RGB':\n",
    "      im = im.convert('RGB')\n",
    "    # salvando a imagem normalizada no novo caminho\n",
    "    im.save(file_)\n",
    "    shutil.move('/content/' + file_, new_dir + file_)\n",
    "\n",
    "    return None"
   ]
  },
  {
   "cell_type": "code",
   "execution_count": 65,
   "metadata": {
    "id": "ETPXLN3N5xUY"
   },
   "outputs": [],
   "source": [
    "# scripts do repositório\n",
    "script = 'https://raw.githubusercontent.com/Alyssonmach/histogram-equalization/main/histogram_equalization.py'\n",
    "# nome do arquivo que contém os scripts\n",
    "file_ = 'histogram_equalization.py'\n",
    "\n",
    "# baixando os scripts no arquivo definido\n",
    "download_scripts(script, file_)\n",
    "\n",
    "# importando o pacote de equalização de histograma\n",
    "from histogram_equalization import histogram_equalization\n",
    "\n",
    "# listando os diretórios com as imagens médicas\n",
    "dir_name1 = '/content/drive/MyDrive/Montgomery/MontgomerySet/CXR_png/'\n",
    "dir_name2 = '/content/drive/MyDrive/ChinaSet_AllFiles/ChinaSet_AllFiles/CXR_png/'\n",
    "\n",
    "# adiciona os arquivos de todos os diretórios em uma única lista\n",
    "file_names1 = listdir(dir_name1)\n",
    "file_names2 = listdir(dir_name2)\n",
    "\n",
    "he_files(file_names1, dir_name1, '/content/motgomery_he')"
   ]
  },
  {
   "cell_type": "code",
   "execution_count": 49,
   "metadata": {
    "colab": {
     "base_uri": "https://localhost:8080/",
     "height": 286
    },
    "id": "aOsnaY4TEIT3",
    "outputId": "9fcc3c31-4714-4962-8045-1d3f06f41272"
   },
   "outputs": [
    {
     "data": {
      "text/plain": [
       "<matplotlib.image.AxesImage at 0x7f1710d1e5d0>"
      ]
     },
     "execution_count": 49,
     "metadata": {
      "tags": []
     },
     "output_type": "execute_result"
    },
    {
     "data": {
      "image/png": "[encoded data removed]",
      "text/plain": [
       "<Figure size 432x288 with 1 Axes>"
      ]
     },
     "metadata": {
      "needs_background": "light",
      "tags": []
     },
     "output_type": "display_data"
    }
   ],
   "source": [
    "plt.imshow(histogram_equalization(dir_name1 + file_names1[0]))"
   ]
  },
  {
   "cell_type": "code",
   "execution_count": 59,
   "metadata": {
    "colab": {
     "base_uri": "https://localhost:8080/"
    },
    "id": "JLTY5J79EePX",
    "outputId": "c36315e0-e4f0-47e5-9195-ac24f3fec423"
   },
   "outputs": [
    {
     "data": {
      "text/plain": [
       "(4892, 4020)"
      ]
     },
     "execution_count": 59,
     "metadata": {
      "tags": []
     },
     "output_type": "execute_result"
    }
   ],
   "source": [
    "plt.imread(dir_name1 + file_names1[3]).shape"
   ]
  },
  {
   "cell_type": "code",
   "execution_count": 51,
   "metadata": {
    "colab": {
     "base_uri": "https://localhost:8080/",
     "height": 35
    },
    "id": "sdbDJSwNEmK9",
    "outputId": "e27cfbce-1022-4a02-a0ae-06493306c769"
   },
   "outputs": [
    {
     "data": {
      "application/vnd.google.colaboratory.intrinsic+json": {
       "type": "string"
      },
      "text/plain": [
       "'/content/drive/MyDrive/Montgomery/MontgomerySet/CXR_png/MCUCXR_0002_0.png'"
      ]
     },
     "execution_count": 51,
     "metadata": {
      "tags": []
     },
     "output_type": "execute_result"
    }
   ],
   "source": [
    "dir_name1 + file_names1[0]"
   ]
  }
 ],
 "metadata": {
  "colab": {
   "authorship_tag": "ABX9TyNZCHZc0ubl3W1+LKc+EdYj",
   "name": "Untitled23.ipynb",
   "provenance": []
  },
  "kernelspec": {
   "display_name": "Python 3",
   "language": "python",
   "name": "python3"
  },
  "language_info": {
   "codemirror_mode": {
    "name": "ipython",
    "version": 3
   },
   "file_extension": ".py",
   "mimetype": "text/x-python",
   "name": "python",
   "nbconvert_exporter": "python",
   "pygments_lexer": "ipython3",
   "version": "3.8.7"
  }
 },
 "nbformat": 4,
 "nbformat_minor": 4
}
