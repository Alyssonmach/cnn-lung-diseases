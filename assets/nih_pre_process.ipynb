{
 "cells": [
  {
   "cell_type": "code",
   "execution_count": null,
   "metadata": {
    "id": "83nSN49_m5EC"
   },
   "outputs": [],
   "source": [
    "# importação dos pacotes necessários\n",
    "urllib.request.urlretrieve('https://raw.githubusercontent.com/Alyssonmach/cnn-lung-diseases/main/assets/cxr8_dados.py', 'cxr8_dados.py')\n",
    "from cxr8_dados import data_download, organize_csv, download_images, train_validation_test_split "
   ]
  },
  {
   "cell_type": "code",
   "execution_count": null,
   "metadata": {
    "id": "6Dc3gGhCwZUC"
   },
   "outputs": [],
   "source": [
    "# baixando as imagens a serem utilizadas\n",
    "download_images()"
   ]
  },
  {
   "cell_type": "code",
   "execution_count": null,
   "metadata": {
    "id": "5uQeWEFznE2X"
   },
   "outputs": [],
   "source": [
    "# descompactando os dados e redirecionando para novas pastas \n",
    "\n",
    "!tar -xvzf /content/drive/MyDrive/images_01.tar.gz -C /content/drive/MyDrive/images-nih1/\n",
    "!tar -xvzf /content/drive/MyDrive/images_02.tar.gz -C /content/drive/MyDrive/images-nih1/\n",
    "!tar -xvzf /content/drive/MyDrive/images_03.tar.gz -C /content/drive/MyDrive/images-nih1/\n",
    "\n",
    "!tar -xvzf /content/drive/MyDrive/images_04.tar.gz -C /content/drive/MyDrive/images-nih2/\n",
    "!tar -xvzf /content/drive/MyDrive/images_05.tar.gz -C /content/drive/MyDrive/images-nih2/\n",
    "!tar -xvzf /content/drive/MyDrive/images_06.tar.gz -C /content/drive/MyDrive/images-nih2/\n",
    "\n",
    "!tar -xvzf /content/drive/MyDrive/images_07.tar.gz -C /content/drive/MyDrive/images-nih3/\n",
    "!tar -xvzf /content/drive/MyDrive/images_08.tar.gz -C /content/drive/MyDrive/images-nih3/\n",
    "!tar -xvzf /content/drive/MyDrive/images_09.tar.gz -C /content/drive/MyDrive/images-nih3/\n",
    "\n",
    "!tar -xvzf /content/drive/MyDrive/images_10.tar.gz -C /content/drive/MyDrive/images-nih4/\n",
    "!tar -xvzf /content/drive/MyDrive/images_11.tar.gz -C /content/drive/MyDrive/images-nih4/\n",
    "!tar -xvzf /content/drive/MyDrive/images_12.tar.gz -C /content/drive/MyDrive/images-nih4/"
   ]
  }
 ],
 "metadata": {
  "colab": {
   "authorship_tag": "ABX9TyOinRtf83ncZrgGXpTTQwmK",
   "collapsed_sections": [],
   "name": "nih-pre-process.ipynb",
   "provenance": []
  },
  "kernelspec": {
   "display_name": "Python 3",
   "language": "python",
   "name": "python3"
  },
  "language_info": {
   "codemirror_mode": {
    "name": "ipython",
    "version": 3
   },
   "file_extension": ".py",
   "mimetype": "text/x-python",
   "name": "python",
   "nbconvert_exporter": "python",
   "pygments_lexer": "ipython3",
   "version": "3.8.7"
  }
 },
 "nbformat": 4,
 "nbformat_minor": 4
}
