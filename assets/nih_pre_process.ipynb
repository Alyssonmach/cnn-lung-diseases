{
  "nbformat": 4,
  "nbformat_minor": 0,
  "metadata": {
    "colab": {
      "name": "nih-pre-process.ipynb",
      "provenance": [],
      "collapsed_sections": [],
      "authorship_tag": "ABX9TyOinRtf83ncZrgGXpTTQwmK"
    },
    "kernelspec": {
      "name": "python3",
      "display_name": "Python 3"
    },
    "language_info": {
      "name": "python"
    }
  },
  "cells": [
    {
      "cell_type": "code",
      "metadata": {
        "id": "83nSN49_m5EC"
      },
      "source": [
        "# importação dos pacotes necessários\n",
        "urllib.request.urlretrieve('https://raw.githubusercontent.com/Alyssonmach/cnn-lung-diseases/main/assets/cxr8_dados.py', 'cxr8_dados.py')\n",
        "from cxr8_dados import data_download, organize_csv, download_images, train_validation_test_split "
      ],
      "execution_count": null,
      "outputs": []
    },
    {
      "cell_type": "code",
      "metadata": {
        "id": "6Dc3gGhCwZUC"
      },
      "source": [
        "# baixando as imagens a serem utilizadas\n",
        "download_images()"
      ],
      "execution_count": null,
      "outputs": []
    },
    {
      "cell_type": "code",
      "metadata": {
        "id": "5uQeWEFznE2X"
      },
      "source": [
        "# descompactando os dados e redirecionando para novas pastas \n",
        "\n",
        "!tar -xvzf /content/drive/MyDrive/images_01.tar.gz -C /content/drive/MyDrive/images-nih1/\n",
        "!tar -xvzf /content/drive/MyDrive/images_02.tar.gz -C /content/drive/MyDrive/images-nih1/\n",
        "!tar -xvzf /content/drive/MyDrive/images_03.tar.gz -C /content/drive/MyDrive/images-nih1/\n",
        "\n",
        "!tar -xvzf /content/drive/MyDrive/images_04.tar.gz -C /content/drive/MyDrive/images-nih2/\n",
        "!tar -xvzf /content/drive/MyDrive/images_05.tar.gz -C /content/drive/MyDrive/images-nih2/\n",
        "!tar -xvzf /content/drive/MyDrive/images_06.tar.gz -C /content/drive/MyDrive/images-nih2/\n",
        "\n",
        "!tar -xvzf /content/drive/MyDrive/images_07.tar.gz -C /content/drive/MyDrive/images-nih3/\n",
        "!tar -xvzf /content/drive/MyDrive/images_08.tar.gz -C /content/drive/MyDrive/images-nih3/\n",
        "!tar -xvzf /content/drive/MyDrive/images_09.tar.gz -C /content/drive/MyDrive/images-nih3/\n",
        "\n",
        "!tar -xvzf /content/drive/MyDrive/images_10.tar.gz -C /content/drive/MyDrive/images-nih4/\n",
        "!tar -xvzf /content/drive/MyDrive/images_11.tar.gz -C /content/drive/MyDrive/images-nih4/\n",
        "!tar -xvzf /content/drive/MyDrive/images_12.tar.gz -C /content/drive/MyDrive/images-nih4/"
      ],
      "execution_count": null,
      "outputs": []
    }
  ]
}