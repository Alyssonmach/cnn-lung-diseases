{
  "nbformat": 4,
  "nbformat_minor": 5,
  "metadata": {
    "kernelspec": {
      "display_name": "Python 3",
      "language": "python",
      "name": "python3"
    },
    "language_info": {
      "codemirror_mode": {
        "name": "ipython",
        "version": 3
      },
      "file_extension": ".py",
      "mimetype": "text/x-python",
      "name": "python",
      "nbconvert_exporter": "python",
      "pygments_lexer": "ipython3",
      "version": "3.8.7"
    },
    "colab": {
      "name": "experimento1-dataset2-parte1.ipynb",
      "provenance": [],
      "toc_visible": true
    },
    "accelerator": "GPU"
  },
  "cells": [
    {
      "cell_type": "markdown",
      "metadata": {
        "id": "isolated-intermediate"
      },
      "source": [
        "# Experimento 1\n",
        "***\n",
        "- Conjuntos de dados: Shenzen\n",
        "- Testando a equalização de histograma em comparação com a mudança típica de escala"
      ],
      "id": "isolated-intermediate"
    },
    {
      "cell_type": "markdown",
      "metadata": {
        "id": "secure-rocket"
      },
      "source": [
        "### Importando os pacotes necessários"
      ],
      "id": "secure-rocket"
    },
    {
      "cell_type": "code",
      "metadata": {
        "id": "published-reasoning"
      },
      "source": [
        "import glob\n",
        "import re\n",
        "from tqdm import tqdm\n",
        "import urllib.request\n",
        "import pandas as pd\n",
        "from sklearn.model_selection import train_test_split\n",
        "from keras.preprocessing.image import ImageDataGenerator\n",
        "from sklearn.metrics import confusion_matrix, precision_recall_fscore_support\n",
        "import matplotlib.pyplot as plt\n",
        "import numpy as np\n",
        "\n",
        "from tensorflow.keras import layers\n",
        "from tensorflow.keras import Model\n",
        "from tensorflow.keras.applications.inception_v3 import InceptionV3\n",
        "from tensorflow.keras import optimizers\n",
        "from tensorflow.keras.callbacks import ModelCheckpoint\n",
        "\n",
        "import warnings\n",
        "warnings.filterwarnings(\"ignore\")"
      ],
      "id": "published-reasoning",
      "execution_count": 73,
      "outputs": []
    },
    {
      "cell_type": "markdown",
      "metadata": {
        "id": "contained-waterproof"
      },
      "source": [
        "### Pré-processando os dados"
      ],
      "id": "contained-waterproof"
    },
    {
      "cell_type": "code",
      "metadata": {
        "id": "right-hungarian"
      },
      "source": [
        "# coletando o caminho dos arquivos dos dados do hospital shenzen\n",
        "filelist_shenzen = glob.glob('/content/drive/MyDrive/ChinaSet_AllFiles/ChinaSet_AllFiles/CXR_png/*.png')"
      ],
      "id": "right-hungarian",
      "execution_count": 39,
      "outputs": []
    },
    {
      "cell_type": "code",
      "metadata": {
        "colab": {
          "base_uri": "https://localhost:8080/"
        },
        "id": "vital-cloud",
        "outputId": "b1790224-a7b6-4929-be09-6b153aaa4f8a"
      },
      "source": [
        "# quantidade de imagens disponíveis no dataset\n",
        "print('quantidade de imagens:', str(len(filelist_shenzen)))"
      ],
      "id": "vital-cloud",
      "execution_count": 40,
      "outputs": [
        {
          "output_type": "stream",
          "text": [
            "quantidade de imagens: 662\n"
          ],
          "name": "stdout"
        }
      ]
    },
    {
      "cell_type": "code",
      "metadata": {
        "id": "authorized-maine"
      },
      "source": [
        "def extract_label(file_list):\n",
        "    \n",
        "    # inicializando uma lista vazia\n",
        "    labels = []\n",
        "    \n",
        "    # iterando na lista de arquivos\n",
        "    for file in tqdm(file_list):\n",
        "        # detectando as classes presentes no nome da imagem\n",
        "        current_label = re.findall('[0-9]{4}_(.+?).png', file)\n",
        "        # adicionando a lista de rótulos as classes correspondentes a cada uma das imagens\n",
        "        labels.append(current_label[0])\n",
        "        \n",
        "    return labels"
      ],
      "id": "authorized-maine",
      "execution_count": 41,
      "outputs": []
    },
    {
      "cell_type": "code",
      "metadata": {
        "colab": {
          "base_uri": "https://localhost:8080/"
        },
        "id": "verified-legislation",
        "outputId": "cd8846c3-7e7e-4233-a4fe-071b5104c404"
      },
      "source": [
        "# extraindo os rótulos\n",
        "labels = extract_label(filelist_shenzen)"
      ],
      "id": "verified-legislation",
      "execution_count": 42,
      "outputs": [
        {
          "output_type": "stream",
          "text": [
            "100%|██████████| 662/662 [00:00<00:00, 235567.09it/s]\n"
          ],
          "name": "stderr"
        }
      ]
    },
    {
      "cell_type": "code",
      "metadata": {
        "colab": {
          "base_uri": "https://localhost:8080/"
        },
        "id": "pressing-dakota",
        "outputId": "52348009-d41d-4f7b-ec47-e11eef1f4f80"
      },
      "source": [
        "# visualizando a quantidade de rótulos\n",
        "print('quantidade de rótulos:', str(len(labels)))"
      ],
      "id": "pressing-dakota",
      "execution_count": 43,
      "outputs": [
        {
          "output_type": "stream",
          "text": [
            "quantidade de rótulos: 662\n"
          ],
          "name": "stdout"
        }
      ]
    },
    {
      "cell_type": "code",
      "metadata": {
        "id": "extra-tennessee"
      },
      "source": [
        "# criando um dataframe com os caminhos das imagens\n",
        "full_data = pd.DataFrame(filelist_shenzen, columns = ['filepath'])\n",
        "# adicionando os rótulos em cada imagem\n",
        "full_data['target'] = labels"
      ],
      "id": "extra-tennessee",
      "execution_count": 44,
      "outputs": []
    },
    {
      "cell_type": "code",
      "metadata": {
        "id": "subtle-planet"
      },
      "source": [
        "# modificando o formato dos dados para float32\n",
        "dict_type = {'target': 'float32'}\n",
        "full_data = full_data.astype(dict_type)"
      ],
      "id": "subtle-planet",
      "execution_count": 45,
      "outputs": []
    },
    {
      "cell_type": "code",
      "metadata": {
        "id": "certified-allah"
      },
      "source": [
        "# separando os dados de treinamento e de teste\n",
        "train_df, test_df = train_test_split(full_data, stratify = full_data['target'],\n",
        "                                     test_size = 0.2, random_state = 42)"
      ],
      "id": "certified-allah",
      "execution_count": 46,
      "outputs": []
    },
    {
      "cell_type": "code",
      "metadata": {
        "id": "homeless-treasurer"
      },
      "source": [
        "# separando os dados de validação dos dados de treinamento\n",
        "train_df, validation_df = train_test_split(train_df, stratify = train_df['target'],\n",
        "                                           test_size = 0.2, random_state = 42)"
      ],
      "id": "homeless-treasurer",
      "execution_count": 47,
      "outputs": []
    },
    {
      "cell_type": "code",
      "metadata": {
        "colab": {
          "base_uri": "https://localhost:8080/"
        },
        "id": "british-alloy",
        "outputId": "689e47d5-c494-4699-f5c3-0fd41d95b054"
      },
      "source": [
        "# visualizando a quantidade de dados\n",
        "print('quantidade de imagens de treinamento:', len(train_df['filepath']))\n",
        "print('quantidade de rótulos de treinamento:', len(train_df['target']))\n",
        "print('quantidade de imagens de teste:', len(test_df['filepath']))\n",
        "print('quantidade de rótulos de teste:', len(test_df['target']))\n",
        "print('quantidade de imagens de validação:', len(validation_df['filepath']))\n",
        "print('quantidade de rótulos de validação:', len(validation_df['target']))"
      ],
      "id": "british-alloy",
      "execution_count": 48,
      "outputs": [
        {
          "output_type": "stream",
          "text": [
            "quantidade de imagens de treinamento: 423\n",
            "quantidade de rótulos de treinamento: 423\n",
            "quantidade de imagens de teste: 133\n",
            "quantidade de rótulos de teste: 133\n",
            "quantidade de imagens de validação: 106\n",
            "quantidade de rótulos de validação: 106\n"
          ],
          "name": "stdout"
        }
      ]
    },
    {
      "cell_type": "markdown",
      "metadata": {
        "id": "other-nightlife"
      },
      "source": [
        "### Aplicando mudança de escala típica"
      ],
      "id": "other-nightlife"
    },
    {
      "cell_type": "code",
      "metadata": {
        "colab": {
          "base_uri": "https://localhost:8080/"
        },
        "id": "altered-insert",
        "outputId": "143cd2e9-f5a9-4e56-ba1d-e3687e6aecef"
      },
      "source": [
        "# normalizando as imagens de treinamento e aplicando aumento de dados\n",
        "image_generator = ImageDataGenerator(rescale = 1./255., rotation_range = 10, zoom_range = 0.2)\n",
        "\n",
        "# criando o gerador de imagens de treinamento \n",
        "train_generator = image_generator.flow_from_dataframe(\n",
        "                                                      dataframe = train_df,\n",
        "                                                      directory = '',\n",
        "                                                      x_col = 'filepath',\n",
        "                                                      y_col = 'target',\n",
        "                                                      batch_size = 32,\n",
        "                                                      seed = 42,\n",
        "                                                      shuffle = True,\n",
        "                                                      class_mode = 'raw',\n",
        "                                                      color_mode = 'rgb',\n",
        "                                                      target_size = (256, 256))\n",
        "# criando o gerador de imagens de validação \n",
        "valid_generator = image_generator.flow_from_dataframe(\n",
        "                                                      dataframe = validation_df,\n",
        "                                                      directory = '.', \n",
        "                                                      x_col = 'filepath',\n",
        "                                                      y_col = 'target',\n",
        "                                                      batch_size = 32,\n",
        "                                                      seed = 42,\n",
        "                                                      shuffle = True,\n",
        "                                                      class_mode = 'raw',\n",
        "                                                      target_size = (256, 256))\n",
        "\n",
        "# normalizando as imagens de teste \n",
        "test_datagen = ImageDataGenerator(rescale = 1./255.)\n",
        "\n",
        "test_generator = test_datagen.flow_from_dataframe(\n",
        "                                                  dataframe = test_df, \n",
        "                                                  directory = '.',\n",
        "                                                  x_col = 'filepath',\n",
        "                                                  y_col = 'target',\n",
        "                                                  batch_size = 32,\n",
        "                                                  seed = 42,\n",
        "                                                  shuffle = True,\n",
        "                                                  class_mode = 'raw',\n",
        "                                                  target_size = (256, 256))"
      ],
      "id": "altered-insert",
      "execution_count": 49,
      "outputs": [
        {
          "output_type": "stream",
          "text": [
            "Found 423 validated image filenames.\n",
            "Found 106 validated image filenames.\n",
            "Found 133 validated image filenames.\n"
          ],
          "name": "stdout"
        }
      ]
    },
    {
      "cell_type": "markdown",
      "metadata": {
        "id": "primary-appliance"
      },
      "source": [
        "### Preparando a rede neural convolucional"
      ],
      "id": "primary-appliance"
    },
    {
      "cell_type": "code",
      "metadata": {
        "colab": {
          "base_uri": "https://localhost:8080/"
        },
        "id": "occasional-oklahoma",
        "outputId": "a09558b9-7560-4cdb-c241-d516554d1b42"
      },
      "source": [
        "# baixando os pesos treinados da rede inception\n",
        "!wget --no-check-certificate \\\n",
        "    https://storage.googleapis.com/mledu-datasets/inception_v3_weights_tf_dim_ordering_tf_kernels_notop.h5 \\\n",
        "    -O /tmp/inception_v3_weights_tf_dim_ordering_tf_kernels_notop.h5"
      ],
      "id": "occasional-oklahoma",
      "execution_count": 50,
      "outputs": [
        {
          "output_type": "stream",
          "text": [
            "--2021-03-02 20:44:39--  https://storage.googleapis.com/mledu-datasets/inception_v3_weights_tf_dim_ordering_tf_kernels_notop.h5\n",
            "Resolving storage.googleapis.com (storage.googleapis.com)... 74.125.20.128, 74.125.142.128, 74.125.195.128, ...\n",
            "Connecting to storage.googleapis.com (storage.googleapis.com)|74.125.20.128|:443... connected.\n",
            "HTTP request sent, awaiting response... 200 OK\n",
            "Length: 87910968 (84M) [application/x-hdf]\n",
            "Saving to: ‘/tmp/inception_v3_weights_tf_dim_ordering_tf_kernels_notop.h5’\n",
            "\n",
            "/tmp/inception_v3_w 100%[===================>]  83.84M   141MB/s    in 0.6s    \n",
            "\n",
            "2021-03-02 20:44:39 (141 MB/s) - ‘/tmp/inception_v3_weights_tf_dim_ordering_tf_kernels_notop.h5’ saved [87910968/87910968]\n",
            "\n"
          ],
          "name": "stdout"
        }
      ]
    },
    {
      "cell_type": "code",
      "metadata": {
        "colab": {
          "base_uri": "https://localhost:8080/"
        },
        "id": "developed-coordinator",
        "outputId": "f1fad576-a486-48a7-b0d0-4545e17087fd"
      },
      "source": [
        "# referenciando o local em que os pesos estão armazenados\n",
        "local_weights_file = '/tmp/inception_v3_weights_tf_dim_ordering_tf_kernels_notop.h5'\n",
        "\n",
        "# carregando a arquitetura inception pré-treinada\n",
        "pre_trained_model = InceptionV3(input_shape = (256, 256, 3), \n",
        "                                include_top = False, \n",
        "                                weights = None)\n",
        "\n",
        "# carregando os pesos treinados com outros dados \n",
        "pre_trained_model.load_weights(local_weights_file)\n",
        "\n",
        "# definindo as flags iniciais  \n",
        "pre_trained_model.trainable = True\n",
        "set_trainable = False\n",
        "\n",
        "# para a arquitetura inception, a rede será retreinada a partir da camada 'mixed6'\n",
        "for layer in pre_trained_model.layers:\n",
        "    if layer.name == 'mixed6':\n",
        "        set_trainable = True\n",
        "    if set_trainable:\n",
        "        layer.trainable = True\n",
        "    else:\n",
        "        layer.trainable = False\n",
        "\n",
        "# visualizando a arquitetura definida\n",
        "pre_trained_model.summary()\n",
        "\n",
        "# obtendo a última camada como sendo a nomeada por 'mixed7'\n",
        "last_layer = pre_trained_model.get_layer('mixed7')\n",
        "last_output = last_layer.output"
      ],
      "id": "developed-coordinator",
      "execution_count": 51,
      "outputs": [
        {
          "output_type": "stream",
          "text": [
            "Model: \"inception_v3\"\n",
            "__________________________________________________________________________________________________\n",
            "Layer (type)                    Output Shape         Param #     Connected to                     \n",
            "==================================================================================================\n",
            "input_3 (InputLayer)            [(None, 256, 256, 3) 0                                            \n",
            "__________________________________________________________________________________________________\n",
            "conv2d_188 (Conv2D)             (None, 127, 127, 32) 864         input_3[0][0]                    \n",
            "__________________________________________________________________________________________________\n",
            "batch_normalization_188 (BatchN (None, 127, 127, 32) 96          conv2d_188[0][0]                 \n",
            "__________________________________________________________________________________________________\n",
            "activation_188 (Activation)     (None, 127, 127, 32) 0           batch_normalization_188[0][0]    \n",
            "__________________________________________________________________________________________________\n",
            "conv2d_189 (Conv2D)             (None, 125, 125, 32) 9216        activation_188[0][0]             \n",
            "__________________________________________________________________________________________________\n",
            "batch_normalization_189 (BatchN (None, 125, 125, 32) 96          conv2d_189[0][0]                 \n",
            "__________________________________________________________________________________________________\n",
            "activation_189 (Activation)     (None, 125, 125, 32) 0           batch_normalization_189[0][0]    \n",
            "__________________________________________________________________________________________________\n",
            "conv2d_190 (Conv2D)             (None, 125, 125, 64) 18432       activation_189[0][0]             \n",
            "__________________________________________________________________________________________________\n",
            "batch_normalization_190 (BatchN (None, 125, 125, 64) 192         conv2d_190[0][0]                 \n",
            "__________________________________________________________________________________________________\n",
            "activation_190 (Activation)     (None, 125, 125, 64) 0           batch_normalization_190[0][0]    \n",
            "__________________________________________________________________________________________________\n",
            "max_pooling2d_8 (MaxPooling2D)  (None, 62, 62, 64)   0           activation_190[0][0]             \n",
            "__________________________________________________________________________________________________\n",
            "conv2d_191 (Conv2D)             (None, 62, 62, 80)   5120        max_pooling2d_8[0][0]            \n",
            "__________________________________________________________________________________________________\n",
            "batch_normalization_191 (BatchN (None, 62, 62, 80)   240         conv2d_191[0][0]                 \n",
            "__________________________________________________________________________________________________\n",
            "activation_191 (Activation)     (None, 62, 62, 80)   0           batch_normalization_191[0][0]    \n",
            "__________________________________________________________________________________________________\n",
            "conv2d_192 (Conv2D)             (None, 60, 60, 192)  138240      activation_191[0][0]             \n",
            "__________________________________________________________________________________________________\n",
            "batch_normalization_192 (BatchN (None, 60, 60, 192)  576         conv2d_192[0][0]                 \n",
            "__________________________________________________________________________________________________\n",
            "activation_192 (Activation)     (None, 60, 60, 192)  0           batch_normalization_192[0][0]    \n",
            "__________________________________________________________________________________________________\n",
            "max_pooling2d_9 (MaxPooling2D)  (None, 29, 29, 192)  0           activation_192[0][0]             \n",
            "__________________________________________________________________________________________________\n",
            "conv2d_196 (Conv2D)             (None, 29, 29, 64)   12288       max_pooling2d_9[0][0]            \n",
            "__________________________________________________________________________________________________\n",
            "batch_normalization_196 (BatchN (None, 29, 29, 64)   192         conv2d_196[0][0]                 \n",
            "__________________________________________________________________________________________________\n",
            "activation_196 (Activation)     (None, 29, 29, 64)   0           batch_normalization_196[0][0]    \n",
            "__________________________________________________________________________________________________\n",
            "conv2d_194 (Conv2D)             (None, 29, 29, 48)   9216        max_pooling2d_9[0][0]            \n",
            "__________________________________________________________________________________________________\n",
            "conv2d_197 (Conv2D)             (None, 29, 29, 96)   55296       activation_196[0][0]             \n",
            "__________________________________________________________________________________________________\n",
            "batch_normalization_194 (BatchN (None, 29, 29, 48)   144         conv2d_194[0][0]                 \n",
            "__________________________________________________________________________________________________\n",
            "batch_normalization_197 (BatchN (None, 29, 29, 96)   288         conv2d_197[0][0]                 \n",
            "__________________________________________________________________________________________________\n",
            "activation_194 (Activation)     (None, 29, 29, 48)   0           batch_normalization_194[0][0]    \n",
            "__________________________________________________________________________________________________\n",
            "activation_197 (Activation)     (None, 29, 29, 96)   0           batch_normalization_197[0][0]    \n",
            "__________________________________________________________________________________________________\n",
            "average_pooling2d_18 (AveragePo (None, 29, 29, 192)  0           max_pooling2d_9[0][0]            \n",
            "__________________________________________________________________________________________________\n",
            "conv2d_193 (Conv2D)             (None, 29, 29, 64)   12288       max_pooling2d_9[0][0]            \n",
            "__________________________________________________________________________________________________\n",
            "conv2d_195 (Conv2D)             (None, 29, 29, 64)   76800       activation_194[0][0]             \n",
            "__________________________________________________________________________________________________\n",
            "conv2d_198 (Conv2D)             (None, 29, 29, 96)   82944       activation_197[0][0]             \n",
            "__________________________________________________________________________________________________\n",
            "conv2d_199 (Conv2D)             (None, 29, 29, 32)   6144        average_pooling2d_18[0][0]       \n",
            "__________________________________________________________________________________________________\n",
            "batch_normalization_193 (BatchN (None, 29, 29, 64)   192         conv2d_193[0][0]                 \n",
            "__________________________________________________________________________________________________\n",
            "batch_normalization_195 (BatchN (None, 29, 29, 64)   192         conv2d_195[0][0]                 \n",
            "__________________________________________________________________________________________________\n",
            "batch_normalization_198 (BatchN (None, 29, 29, 96)   288         conv2d_198[0][0]                 \n",
            "__________________________________________________________________________________________________\n",
            "batch_normalization_199 (BatchN (None, 29, 29, 32)   96          conv2d_199[0][0]                 \n",
            "__________________________________________________________________________________________________\n",
            "activation_193 (Activation)     (None, 29, 29, 64)   0           batch_normalization_193[0][0]    \n",
            "__________________________________________________________________________________________________\n",
            "activation_195 (Activation)     (None, 29, 29, 64)   0           batch_normalization_195[0][0]    \n",
            "__________________________________________________________________________________________________\n",
            "activation_198 (Activation)     (None, 29, 29, 96)   0           batch_normalization_198[0][0]    \n",
            "__________________________________________________________________________________________________\n",
            "activation_199 (Activation)     (None, 29, 29, 32)   0           batch_normalization_199[0][0]    \n",
            "__________________________________________________________________________________________________\n",
            "mixed0 (Concatenate)            (None, 29, 29, 256)  0           activation_193[0][0]             \n",
            "                                                                 activation_195[0][0]             \n",
            "                                                                 activation_198[0][0]             \n",
            "                                                                 activation_199[0][0]             \n",
            "__________________________________________________________________________________________________\n",
            "conv2d_203 (Conv2D)             (None, 29, 29, 64)   16384       mixed0[0][0]                     \n",
            "__________________________________________________________________________________________________\n",
            "batch_normalization_203 (BatchN (None, 29, 29, 64)   192         conv2d_203[0][0]                 \n",
            "__________________________________________________________________________________________________\n",
            "activation_203 (Activation)     (None, 29, 29, 64)   0           batch_normalization_203[0][0]    \n",
            "__________________________________________________________________________________________________\n",
            "conv2d_201 (Conv2D)             (None, 29, 29, 48)   12288       mixed0[0][0]                     \n",
            "__________________________________________________________________________________________________\n",
            "conv2d_204 (Conv2D)             (None, 29, 29, 96)   55296       activation_203[0][0]             \n",
            "__________________________________________________________________________________________________\n",
            "batch_normalization_201 (BatchN (None, 29, 29, 48)   144         conv2d_201[0][0]                 \n",
            "__________________________________________________________________________________________________\n",
            "batch_normalization_204 (BatchN (None, 29, 29, 96)   288         conv2d_204[0][0]                 \n",
            "__________________________________________________________________________________________________\n",
            "activation_201 (Activation)     (None, 29, 29, 48)   0           batch_normalization_201[0][0]    \n",
            "__________________________________________________________________________________________________\n",
            "activation_204 (Activation)     (None, 29, 29, 96)   0           batch_normalization_204[0][0]    \n",
            "__________________________________________________________________________________________________\n",
            "average_pooling2d_19 (AveragePo (None, 29, 29, 256)  0           mixed0[0][0]                     \n",
            "__________________________________________________________________________________________________\n",
            "conv2d_200 (Conv2D)             (None, 29, 29, 64)   16384       mixed0[0][0]                     \n",
            "__________________________________________________________________________________________________\n",
            "conv2d_202 (Conv2D)             (None, 29, 29, 64)   76800       activation_201[0][0]             \n",
            "__________________________________________________________________________________________________\n",
            "conv2d_205 (Conv2D)             (None, 29, 29, 96)   82944       activation_204[0][0]             \n",
            "__________________________________________________________________________________________________\n",
            "conv2d_206 (Conv2D)             (None, 29, 29, 64)   16384       average_pooling2d_19[0][0]       \n",
            "__________________________________________________________________________________________________\n",
            "batch_normalization_200 (BatchN (None, 29, 29, 64)   192         conv2d_200[0][0]                 \n",
            "__________________________________________________________________________________________________\n",
            "batch_normalization_202 (BatchN (None, 29, 29, 64)   192         conv2d_202[0][0]                 \n",
            "__________________________________________________________________________________________________\n",
            "batch_normalization_205 (BatchN (None, 29, 29, 96)   288         conv2d_205[0][0]                 \n",
            "__________________________________________________________________________________________________\n",
            "batch_normalization_206 (BatchN (None, 29, 29, 64)   192         conv2d_206[0][0]                 \n",
            "__________________________________________________________________________________________________\n",
            "activation_200 (Activation)     (None, 29, 29, 64)   0           batch_normalization_200[0][0]    \n",
            "__________________________________________________________________________________________________\n",
            "activation_202 (Activation)     (None, 29, 29, 64)   0           batch_normalization_202[0][0]    \n",
            "__________________________________________________________________________________________________\n",
            "activation_205 (Activation)     (None, 29, 29, 96)   0           batch_normalization_205[0][0]    \n",
            "__________________________________________________________________________________________________\n",
            "activation_206 (Activation)     (None, 29, 29, 64)   0           batch_normalization_206[0][0]    \n",
            "__________________________________________________________________________________________________\n",
            "mixed1 (Concatenate)            (None, 29, 29, 288)  0           activation_200[0][0]             \n",
            "                                                                 activation_202[0][0]             \n",
            "                                                                 activation_205[0][0]             \n",
            "                                                                 activation_206[0][0]             \n",
            "__________________________________________________________________________________________________\n",
            "conv2d_210 (Conv2D)             (None, 29, 29, 64)   18432       mixed1[0][0]                     \n",
            "__________________________________________________________________________________________________\n",
            "batch_normalization_210 (BatchN (None, 29, 29, 64)   192         conv2d_210[0][0]                 \n",
            "__________________________________________________________________________________________________\n",
            "activation_210 (Activation)     (None, 29, 29, 64)   0           batch_normalization_210[0][0]    \n",
            "__________________________________________________________________________________________________\n",
            "conv2d_208 (Conv2D)             (None, 29, 29, 48)   13824       mixed1[0][0]                     \n",
            "__________________________________________________________________________________________________\n",
            "conv2d_211 (Conv2D)             (None, 29, 29, 96)   55296       activation_210[0][0]             \n",
            "__________________________________________________________________________________________________\n",
            "batch_normalization_208 (BatchN (None, 29, 29, 48)   144         conv2d_208[0][0]                 \n",
            "__________________________________________________________________________________________________\n",
            "batch_normalization_211 (BatchN (None, 29, 29, 96)   288         conv2d_211[0][0]                 \n",
            "__________________________________________________________________________________________________\n",
            "activation_208 (Activation)     (None, 29, 29, 48)   0           batch_normalization_208[0][0]    \n",
            "__________________________________________________________________________________________________\n",
            "activation_211 (Activation)     (None, 29, 29, 96)   0           batch_normalization_211[0][0]    \n",
            "__________________________________________________________________________________________________\n",
            "average_pooling2d_20 (AveragePo (None, 29, 29, 288)  0           mixed1[0][0]                     \n",
            "__________________________________________________________________________________________________\n",
            "conv2d_207 (Conv2D)             (None, 29, 29, 64)   18432       mixed1[0][0]                     \n",
            "__________________________________________________________________________________________________\n",
            "conv2d_209 (Conv2D)             (None, 29, 29, 64)   76800       activation_208[0][0]             \n",
            "__________________________________________________________________________________________________\n",
            "conv2d_212 (Conv2D)             (None, 29, 29, 96)   82944       activation_211[0][0]             \n",
            "__________________________________________________________________________________________________\n",
            "conv2d_213 (Conv2D)             (None, 29, 29, 64)   18432       average_pooling2d_20[0][0]       \n",
            "__________________________________________________________________________________________________\n",
            "batch_normalization_207 (BatchN (None, 29, 29, 64)   192         conv2d_207[0][0]                 \n",
            "__________________________________________________________________________________________________\n",
            "batch_normalization_209 (BatchN (None, 29, 29, 64)   192         conv2d_209[0][0]                 \n",
            "__________________________________________________________________________________________________\n",
            "batch_normalization_212 (BatchN (None, 29, 29, 96)   288         conv2d_212[0][0]                 \n",
            "__________________________________________________________________________________________________\n",
            "batch_normalization_213 (BatchN (None, 29, 29, 64)   192         conv2d_213[0][0]                 \n",
            "__________________________________________________________________________________________________\n",
            "activation_207 (Activation)     (None, 29, 29, 64)   0           batch_normalization_207[0][0]    \n",
            "__________________________________________________________________________________________________\n",
            "activation_209 (Activation)     (None, 29, 29, 64)   0           batch_normalization_209[0][0]    \n",
            "__________________________________________________________________________________________________\n",
            "activation_212 (Activation)     (None, 29, 29, 96)   0           batch_normalization_212[0][0]    \n",
            "__________________________________________________________________________________________________\n",
            "activation_213 (Activation)     (None, 29, 29, 64)   0           batch_normalization_213[0][0]    \n",
            "__________________________________________________________________________________________________\n",
            "mixed2 (Concatenate)            (None, 29, 29, 288)  0           activation_207[0][0]             \n",
            "                                                                 activation_209[0][0]             \n",
            "                                                                 activation_212[0][0]             \n",
            "                                                                 activation_213[0][0]             \n",
            "__________________________________________________________________________________________________\n",
            "conv2d_215 (Conv2D)             (None, 29, 29, 64)   18432       mixed2[0][0]                     \n",
            "__________________________________________________________________________________________________\n",
            "batch_normalization_215 (BatchN (None, 29, 29, 64)   192         conv2d_215[0][0]                 \n",
            "__________________________________________________________________________________________________\n",
            "activation_215 (Activation)     (None, 29, 29, 64)   0           batch_normalization_215[0][0]    \n",
            "__________________________________________________________________________________________________\n",
            "conv2d_216 (Conv2D)             (None, 29, 29, 96)   55296       activation_215[0][0]             \n",
            "__________________________________________________________________________________________________\n",
            "batch_normalization_216 (BatchN (None, 29, 29, 96)   288         conv2d_216[0][0]                 \n",
            "__________________________________________________________________________________________________\n",
            "activation_216 (Activation)     (None, 29, 29, 96)   0           batch_normalization_216[0][0]    \n",
            "__________________________________________________________________________________________________\n",
            "conv2d_214 (Conv2D)             (None, 14, 14, 384)  995328      mixed2[0][0]                     \n",
            "__________________________________________________________________________________________________\n",
            "conv2d_217 (Conv2D)             (None, 14, 14, 96)   82944       activation_216[0][0]             \n",
            "__________________________________________________________________________________________________\n",
            "batch_normalization_214 (BatchN (None, 14, 14, 384)  1152        conv2d_214[0][0]                 \n",
            "__________________________________________________________________________________________________\n",
            "batch_normalization_217 (BatchN (None, 14, 14, 96)   288         conv2d_217[0][0]                 \n",
            "__________________________________________________________________________________________________\n",
            "activation_214 (Activation)     (None, 14, 14, 384)  0           batch_normalization_214[0][0]    \n",
            "__________________________________________________________________________________________________\n",
            "activation_217 (Activation)     (None, 14, 14, 96)   0           batch_normalization_217[0][0]    \n",
            "__________________________________________________________________________________________________\n",
            "max_pooling2d_10 (MaxPooling2D) (None, 14, 14, 288)  0           mixed2[0][0]                     \n",
            "__________________________________________________________________________________________________\n",
            "mixed3 (Concatenate)            (None, 14, 14, 768)  0           activation_214[0][0]             \n",
            "                                                                 activation_217[0][0]             \n",
            "                                                                 max_pooling2d_10[0][0]           \n",
            "__________________________________________________________________________________________________\n",
            "conv2d_222 (Conv2D)             (None, 14, 14, 128)  98304       mixed3[0][0]                     \n",
            "__________________________________________________________________________________________________\n",
            "batch_normalization_222 (BatchN (None, 14, 14, 128)  384         conv2d_222[0][0]                 \n",
            "__________________________________________________________________________________________________\n",
            "activation_222 (Activation)     (None, 14, 14, 128)  0           batch_normalization_222[0][0]    \n",
            "__________________________________________________________________________________________________\n",
            "conv2d_223 (Conv2D)             (None, 14, 14, 128)  114688      activation_222[0][0]             \n",
            "__________________________________________________________________________________________________\n",
            "batch_normalization_223 (BatchN (None, 14, 14, 128)  384         conv2d_223[0][0]                 \n",
            "__________________________________________________________________________________________________\n",
            "activation_223 (Activation)     (None, 14, 14, 128)  0           batch_normalization_223[0][0]    \n",
            "__________________________________________________________________________________________________\n",
            "conv2d_219 (Conv2D)             (None, 14, 14, 128)  98304       mixed3[0][0]                     \n",
            "__________________________________________________________________________________________________\n",
            "conv2d_224 (Conv2D)             (None, 14, 14, 128)  114688      activation_223[0][0]             \n",
            "__________________________________________________________________________________________________\n",
            "batch_normalization_219 (BatchN (None, 14, 14, 128)  384         conv2d_219[0][0]                 \n",
            "__________________________________________________________________________________________________\n",
            "batch_normalization_224 (BatchN (None, 14, 14, 128)  384         conv2d_224[0][0]                 \n",
            "__________________________________________________________________________________________________\n",
            "activation_219 (Activation)     (None, 14, 14, 128)  0           batch_normalization_219[0][0]    \n",
            "__________________________________________________________________________________________________\n",
            "activation_224 (Activation)     (None, 14, 14, 128)  0           batch_normalization_224[0][0]    \n",
            "__________________________________________________________________________________________________\n",
            "conv2d_220 (Conv2D)             (None, 14, 14, 128)  114688      activation_219[0][0]             \n",
            "__________________________________________________________________________________________________\n",
            "conv2d_225 (Conv2D)             (None, 14, 14, 128)  114688      activation_224[0][0]             \n",
            "__________________________________________________________________________________________________\n",
            "batch_normalization_220 (BatchN (None, 14, 14, 128)  384         conv2d_220[0][0]                 \n",
            "__________________________________________________________________________________________________\n",
            "batch_normalization_225 (BatchN (None, 14, 14, 128)  384         conv2d_225[0][0]                 \n",
            "__________________________________________________________________________________________________\n",
            "activation_220 (Activation)     (None, 14, 14, 128)  0           batch_normalization_220[0][0]    \n",
            "__________________________________________________________________________________________________\n",
            "activation_225 (Activation)     (None, 14, 14, 128)  0           batch_normalization_225[0][0]    \n",
            "__________________________________________________________________________________________________\n",
            "average_pooling2d_21 (AveragePo (None, 14, 14, 768)  0           mixed3[0][0]                     \n",
            "__________________________________________________________________________________________________\n",
            "conv2d_218 (Conv2D)             (None, 14, 14, 192)  147456      mixed3[0][0]                     \n",
            "__________________________________________________________________________________________________\n",
            "conv2d_221 (Conv2D)             (None, 14, 14, 192)  172032      activation_220[0][0]             \n",
            "__________________________________________________________________________________________________\n",
            "conv2d_226 (Conv2D)             (None, 14, 14, 192)  172032      activation_225[0][0]             \n",
            "__________________________________________________________________________________________________\n",
            "conv2d_227 (Conv2D)             (None, 14, 14, 192)  147456      average_pooling2d_21[0][0]       \n",
            "__________________________________________________________________________________________________\n",
            "batch_normalization_218 (BatchN (None, 14, 14, 192)  576         conv2d_218[0][0]                 \n",
            "__________________________________________________________________________________________________\n",
            "batch_normalization_221 (BatchN (None, 14, 14, 192)  576         conv2d_221[0][0]                 \n",
            "__________________________________________________________________________________________________\n",
            "batch_normalization_226 (BatchN (None, 14, 14, 192)  576         conv2d_226[0][0]                 \n",
            "__________________________________________________________________________________________________\n",
            "batch_normalization_227 (BatchN (None, 14, 14, 192)  576         conv2d_227[0][0]                 \n",
            "__________________________________________________________________________________________________\n",
            "activation_218 (Activation)     (None, 14, 14, 192)  0           batch_normalization_218[0][0]    \n",
            "__________________________________________________________________________________________________\n",
            "activation_221 (Activation)     (None, 14, 14, 192)  0           batch_normalization_221[0][0]    \n",
            "__________________________________________________________________________________________________\n",
            "activation_226 (Activation)     (None, 14, 14, 192)  0           batch_normalization_226[0][0]    \n",
            "__________________________________________________________________________________________________\n",
            "activation_227 (Activation)     (None, 14, 14, 192)  0           batch_normalization_227[0][0]    \n",
            "__________________________________________________________________________________________________\n",
            "mixed4 (Concatenate)            (None, 14, 14, 768)  0           activation_218[0][0]             \n",
            "                                                                 activation_221[0][0]             \n",
            "                                                                 activation_226[0][0]             \n",
            "                                                                 activation_227[0][0]             \n",
            "__________________________________________________________________________________________________\n",
            "conv2d_232 (Conv2D)             (None, 14, 14, 160)  122880      mixed4[0][0]                     \n",
            "__________________________________________________________________________________________________\n",
            "batch_normalization_232 (BatchN (None, 14, 14, 160)  480         conv2d_232[0][0]                 \n",
            "__________________________________________________________________________________________________\n",
            "activation_232 (Activation)     (None, 14, 14, 160)  0           batch_normalization_232[0][0]    \n",
            "__________________________________________________________________________________________________\n",
            "conv2d_233 (Conv2D)             (None, 14, 14, 160)  179200      activation_232[0][0]             \n",
            "__________________________________________________________________________________________________\n",
            "batch_normalization_233 (BatchN (None, 14, 14, 160)  480         conv2d_233[0][0]                 \n",
            "__________________________________________________________________________________________________\n",
            "activation_233 (Activation)     (None, 14, 14, 160)  0           batch_normalization_233[0][0]    \n",
            "__________________________________________________________________________________________________\n",
            "conv2d_229 (Conv2D)             (None, 14, 14, 160)  122880      mixed4[0][0]                     \n",
            "__________________________________________________________________________________________________\n",
            "conv2d_234 (Conv2D)             (None, 14, 14, 160)  179200      activation_233[0][0]             \n",
            "__________________________________________________________________________________________________\n",
            "batch_normalization_229 (BatchN (None, 14, 14, 160)  480         conv2d_229[0][0]                 \n",
            "__________________________________________________________________________________________________\n",
            "batch_normalization_234 (BatchN (None, 14, 14, 160)  480         conv2d_234[0][0]                 \n",
            "__________________________________________________________________________________________________\n",
            "activation_229 (Activation)     (None, 14, 14, 160)  0           batch_normalization_229[0][0]    \n",
            "__________________________________________________________________________________________________\n",
            "activation_234 (Activation)     (None, 14, 14, 160)  0           batch_normalization_234[0][0]    \n",
            "__________________________________________________________________________________________________\n",
            "conv2d_230 (Conv2D)             (None, 14, 14, 160)  179200      activation_229[0][0]             \n",
            "__________________________________________________________________________________________________\n",
            "conv2d_235 (Conv2D)             (None, 14, 14, 160)  179200      activation_234[0][0]             \n",
            "__________________________________________________________________________________________________\n",
            "batch_normalization_230 (BatchN (None, 14, 14, 160)  480         conv2d_230[0][0]                 \n",
            "__________________________________________________________________________________________________\n",
            "batch_normalization_235 (BatchN (None, 14, 14, 160)  480         conv2d_235[0][0]                 \n",
            "__________________________________________________________________________________________________\n",
            "activation_230 (Activation)     (None, 14, 14, 160)  0           batch_normalization_230[0][0]    \n",
            "__________________________________________________________________________________________________\n",
            "activation_235 (Activation)     (None, 14, 14, 160)  0           batch_normalization_235[0][0]    \n",
            "__________________________________________________________________________________________________\n",
            "average_pooling2d_22 (AveragePo (None, 14, 14, 768)  0           mixed4[0][0]                     \n",
            "__________________________________________________________________________________________________\n",
            "conv2d_228 (Conv2D)             (None, 14, 14, 192)  147456      mixed4[0][0]                     \n",
            "__________________________________________________________________________________________________\n",
            "conv2d_231 (Conv2D)             (None, 14, 14, 192)  215040      activation_230[0][0]             \n",
            "__________________________________________________________________________________________________\n",
            "conv2d_236 (Conv2D)             (None, 14, 14, 192)  215040      activation_235[0][0]             \n",
            "__________________________________________________________________________________________________\n",
            "conv2d_237 (Conv2D)             (None, 14, 14, 192)  147456      average_pooling2d_22[0][0]       \n",
            "__________________________________________________________________________________________________\n",
            "batch_normalization_228 (BatchN (None, 14, 14, 192)  576         conv2d_228[0][0]                 \n",
            "__________________________________________________________________________________________________\n",
            "batch_normalization_231 (BatchN (None, 14, 14, 192)  576         conv2d_231[0][0]                 \n",
            "__________________________________________________________________________________________________\n",
            "batch_normalization_236 (BatchN (None, 14, 14, 192)  576         conv2d_236[0][0]                 \n",
            "__________________________________________________________________________________________________\n",
            "batch_normalization_237 (BatchN (None, 14, 14, 192)  576         conv2d_237[0][0]                 \n",
            "__________________________________________________________________________________________________\n",
            "activation_228 (Activation)     (None, 14, 14, 192)  0           batch_normalization_228[0][0]    \n",
            "__________________________________________________________________________________________________\n",
            "activation_231 (Activation)     (None, 14, 14, 192)  0           batch_normalization_231[0][0]    \n",
            "__________________________________________________________________________________________________\n",
            "activation_236 (Activation)     (None, 14, 14, 192)  0           batch_normalization_236[0][0]    \n",
            "__________________________________________________________________________________________________\n",
            "activation_237 (Activation)     (None, 14, 14, 192)  0           batch_normalization_237[0][0]    \n",
            "__________________________________________________________________________________________________\n",
            "mixed5 (Concatenate)            (None, 14, 14, 768)  0           activation_228[0][0]             \n",
            "                                                                 activation_231[0][0]             \n",
            "                                                                 activation_236[0][0]             \n",
            "                                                                 activation_237[0][0]             \n",
            "__________________________________________________________________________________________________\n",
            "conv2d_242 (Conv2D)             (None, 14, 14, 160)  122880      mixed5[0][0]                     \n",
            "__________________________________________________________________________________________________\n",
            "batch_normalization_242 (BatchN (None, 14, 14, 160)  480         conv2d_242[0][0]                 \n",
            "__________________________________________________________________________________________________\n",
            "activation_242 (Activation)     (None, 14, 14, 160)  0           batch_normalization_242[0][0]    \n",
            "__________________________________________________________________________________________________\n",
            "conv2d_243 (Conv2D)             (None, 14, 14, 160)  179200      activation_242[0][0]             \n",
            "__________________________________________________________________________________________________\n",
            "batch_normalization_243 (BatchN (None, 14, 14, 160)  480         conv2d_243[0][0]                 \n",
            "__________________________________________________________________________________________________\n",
            "activation_243 (Activation)     (None, 14, 14, 160)  0           batch_normalization_243[0][0]    \n",
            "__________________________________________________________________________________________________\n",
            "conv2d_239 (Conv2D)             (None, 14, 14, 160)  122880      mixed5[0][0]                     \n",
            "__________________________________________________________________________________________________\n",
            "conv2d_244 (Conv2D)             (None, 14, 14, 160)  179200      activation_243[0][0]             \n",
            "__________________________________________________________________________________________________\n",
            "batch_normalization_239 (BatchN (None, 14, 14, 160)  480         conv2d_239[0][0]                 \n",
            "__________________________________________________________________________________________________\n",
            "batch_normalization_244 (BatchN (None, 14, 14, 160)  480         conv2d_244[0][0]                 \n",
            "__________________________________________________________________________________________________\n",
            "activation_239 (Activation)     (None, 14, 14, 160)  0           batch_normalization_239[0][0]    \n",
            "__________________________________________________________________________________________________\n",
            "activation_244 (Activation)     (None, 14, 14, 160)  0           batch_normalization_244[0][0]    \n",
            "__________________________________________________________________________________________________\n",
            "conv2d_240 (Conv2D)             (None, 14, 14, 160)  179200      activation_239[0][0]             \n",
            "__________________________________________________________________________________________________\n",
            "conv2d_245 (Conv2D)             (None, 14, 14, 160)  179200      activation_244[0][0]             \n",
            "__________________________________________________________________________________________________\n",
            "batch_normalization_240 (BatchN (None, 14, 14, 160)  480         conv2d_240[0][0]                 \n",
            "__________________________________________________________________________________________________\n",
            "batch_normalization_245 (BatchN (None, 14, 14, 160)  480         conv2d_245[0][0]                 \n",
            "__________________________________________________________________________________________________\n",
            "activation_240 (Activation)     (None, 14, 14, 160)  0           batch_normalization_240[0][0]    \n",
            "__________________________________________________________________________________________________\n",
            "activation_245 (Activation)     (None, 14, 14, 160)  0           batch_normalization_245[0][0]    \n",
            "__________________________________________________________________________________________________\n",
            "average_pooling2d_23 (AveragePo (None, 14, 14, 768)  0           mixed5[0][0]                     \n",
            "__________________________________________________________________________________________________\n",
            "conv2d_238 (Conv2D)             (None, 14, 14, 192)  147456      mixed5[0][0]                     \n",
            "__________________________________________________________________________________________________\n",
            "conv2d_241 (Conv2D)             (None, 14, 14, 192)  215040      activation_240[0][0]             \n",
            "__________________________________________________________________________________________________\n",
            "conv2d_246 (Conv2D)             (None, 14, 14, 192)  215040      activation_245[0][0]             \n",
            "__________________________________________________________________________________________________\n",
            "conv2d_247 (Conv2D)             (None, 14, 14, 192)  147456      average_pooling2d_23[0][0]       \n",
            "__________________________________________________________________________________________________\n",
            "batch_normalization_238 (BatchN (None, 14, 14, 192)  576         conv2d_238[0][0]                 \n",
            "__________________________________________________________________________________________________\n",
            "batch_normalization_241 (BatchN (None, 14, 14, 192)  576         conv2d_241[0][0]                 \n",
            "__________________________________________________________________________________________________\n",
            "batch_normalization_246 (BatchN (None, 14, 14, 192)  576         conv2d_246[0][0]                 \n",
            "__________________________________________________________________________________________________\n",
            "batch_normalization_247 (BatchN (None, 14, 14, 192)  576         conv2d_247[0][0]                 \n",
            "__________________________________________________________________________________________________\n",
            "activation_238 (Activation)     (None, 14, 14, 192)  0           batch_normalization_238[0][0]    \n",
            "__________________________________________________________________________________________________\n",
            "activation_241 (Activation)     (None, 14, 14, 192)  0           batch_normalization_241[0][0]    \n",
            "__________________________________________________________________________________________________\n",
            "activation_246 (Activation)     (None, 14, 14, 192)  0           batch_normalization_246[0][0]    \n",
            "__________________________________________________________________________________________________\n",
            "activation_247 (Activation)     (None, 14, 14, 192)  0           batch_normalization_247[0][0]    \n",
            "__________________________________________________________________________________________________\n",
            "mixed6 (Concatenate)            (None, 14, 14, 768)  0           activation_238[0][0]             \n",
            "                                                                 activation_241[0][0]             \n",
            "                                                                 activation_246[0][0]             \n",
            "                                                                 activation_247[0][0]             \n",
            "__________________________________________________________________________________________________\n",
            "conv2d_252 (Conv2D)             (None, 14, 14, 192)  147456      mixed6[0][0]                     \n",
            "__________________________________________________________________________________________________\n",
            "batch_normalization_252 (BatchN (None, 14, 14, 192)  576         conv2d_252[0][0]                 \n",
            "__________________________________________________________________________________________________\n",
            "activation_252 (Activation)     (None, 14, 14, 192)  0           batch_normalization_252[0][0]    \n",
            "__________________________________________________________________________________________________\n",
            "conv2d_253 (Conv2D)             (None, 14, 14, 192)  258048      activation_252[0][0]             \n",
            "__________________________________________________________________________________________________\n",
            "batch_normalization_253 (BatchN (None, 14, 14, 192)  576         conv2d_253[0][0]                 \n",
            "__________________________________________________________________________________________________\n",
            "activation_253 (Activation)     (None, 14, 14, 192)  0           batch_normalization_253[0][0]    \n",
            "__________________________________________________________________________________________________\n",
            "conv2d_249 (Conv2D)             (None, 14, 14, 192)  147456      mixed6[0][0]                     \n",
            "__________________________________________________________________________________________________\n",
            "conv2d_254 (Conv2D)             (None, 14, 14, 192)  258048      activation_253[0][0]             \n",
            "__________________________________________________________________________________________________\n",
            "batch_normalization_249 (BatchN (None, 14, 14, 192)  576         conv2d_249[0][0]                 \n",
            "__________________________________________________________________________________________________\n",
            "batch_normalization_254 (BatchN (None, 14, 14, 192)  576         conv2d_254[0][0]                 \n",
            "__________________________________________________________________________________________________\n",
            "activation_249 (Activation)     (None, 14, 14, 192)  0           batch_normalization_249[0][0]    \n",
            "__________________________________________________________________________________________________\n",
            "activation_254 (Activation)     (None, 14, 14, 192)  0           batch_normalization_254[0][0]    \n",
            "__________________________________________________________________________________________________\n",
            "conv2d_250 (Conv2D)             (None, 14, 14, 192)  258048      activation_249[0][0]             \n",
            "__________________________________________________________________________________________________\n",
            "conv2d_255 (Conv2D)             (None, 14, 14, 192)  258048      activation_254[0][0]             \n",
            "__________________________________________________________________________________________________\n",
            "batch_normalization_250 (BatchN (None, 14, 14, 192)  576         conv2d_250[0][0]                 \n",
            "__________________________________________________________________________________________________\n",
            "batch_normalization_255 (BatchN (None, 14, 14, 192)  576         conv2d_255[0][0]                 \n",
            "__________________________________________________________________________________________________\n",
            "activation_250 (Activation)     (None, 14, 14, 192)  0           batch_normalization_250[0][0]    \n",
            "__________________________________________________________________________________________________\n",
            "activation_255 (Activation)     (None, 14, 14, 192)  0           batch_normalization_255[0][0]    \n",
            "__________________________________________________________________________________________________\n",
            "average_pooling2d_24 (AveragePo (None, 14, 14, 768)  0           mixed6[0][0]                     \n",
            "__________________________________________________________________________________________________\n",
            "conv2d_248 (Conv2D)             (None, 14, 14, 192)  147456      mixed6[0][0]                     \n",
            "__________________________________________________________________________________________________\n",
            "conv2d_251 (Conv2D)             (None, 14, 14, 192)  258048      activation_250[0][0]             \n",
            "__________________________________________________________________________________________________\n",
            "conv2d_256 (Conv2D)             (None, 14, 14, 192)  258048      activation_255[0][0]             \n",
            "__________________________________________________________________________________________________\n",
            "conv2d_257 (Conv2D)             (None, 14, 14, 192)  147456      average_pooling2d_24[0][0]       \n",
            "__________________________________________________________________________________________________\n",
            "batch_normalization_248 (BatchN (None, 14, 14, 192)  576         conv2d_248[0][0]                 \n",
            "__________________________________________________________________________________________________\n",
            "batch_normalization_251 (BatchN (None, 14, 14, 192)  576         conv2d_251[0][0]                 \n",
            "__________________________________________________________________________________________________\n",
            "batch_normalization_256 (BatchN (None, 14, 14, 192)  576         conv2d_256[0][0]                 \n",
            "__________________________________________________________________________________________________\n",
            "batch_normalization_257 (BatchN (None, 14, 14, 192)  576         conv2d_257[0][0]                 \n",
            "__________________________________________________________________________________________________\n",
            "activation_248 (Activation)     (None, 14, 14, 192)  0           batch_normalization_248[0][0]    \n",
            "__________________________________________________________________________________________________\n",
            "activation_251 (Activation)     (None, 14, 14, 192)  0           batch_normalization_251[0][0]    \n",
            "__________________________________________________________________________________________________\n",
            "activation_256 (Activation)     (None, 14, 14, 192)  0           batch_normalization_256[0][0]    \n",
            "__________________________________________________________________________________________________\n",
            "activation_257 (Activation)     (None, 14, 14, 192)  0           batch_normalization_257[0][0]    \n",
            "__________________________________________________________________________________________________\n",
            "mixed7 (Concatenate)            (None, 14, 14, 768)  0           activation_248[0][0]             \n",
            "                                                                 activation_251[0][0]             \n",
            "                                                                 activation_256[0][0]             \n",
            "                                                                 activation_257[0][0]             \n",
            "__________________________________________________________________________________________________\n",
            "conv2d_260 (Conv2D)             (None, 14, 14, 192)  147456      mixed7[0][0]                     \n",
            "__________________________________________________________________________________________________\n",
            "batch_normalization_260 (BatchN (None, 14, 14, 192)  576         conv2d_260[0][0]                 \n",
            "__________________________________________________________________________________________________\n",
            "activation_260 (Activation)     (None, 14, 14, 192)  0           batch_normalization_260[0][0]    \n",
            "__________________________________________________________________________________________________\n",
            "conv2d_261 (Conv2D)             (None, 14, 14, 192)  258048      activation_260[0][0]             \n",
            "__________________________________________________________________________________________________\n",
            "batch_normalization_261 (BatchN (None, 14, 14, 192)  576         conv2d_261[0][0]                 \n",
            "__________________________________________________________________________________________________\n",
            "activation_261 (Activation)     (None, 14, 14, 192)  0           batch_normalization_261[0][0]    \n",
            "__________________________________________________________________________________________________\n",
            "conv2d_258 (Conv2D)             (None, 14, 14, 192)  147456      mixed7[0][0]                     \n",
            "__________________________________________________________________________________________________\n",
            "conv2d_262 (Conv2D)             (None, 14, 14, 192)  258048      activation_261[0][0]             \n",
            "__________________________________________________________________________________________________\n",
            "batch_normalization_258 (BatchN (None, 14, 14, 192)  576         conv2d_258[0][0]                 \n",
            "__________________________________________________________________________________________________\n",
            "batch_normalization_262 (BatchN (None, 14, 14, 192)  576         conv2d_262[0][0]                 \n",
            "__________________________________________________________________________________________________\n",
            "activation_258 (Activation)     (None, 14, 14, 192)  0           batch_normalization_258[0][0]    \n",
            "__________________________________________________________________________________________________\n",
            "activation_262 (Activation)     (None, 14, 14, 192)  0           batch_normalization_262[0][0]    \n",
            "__________________________________________________________________________________________________\n",
            "conv2d_259 (Conv2D)             (None, 6, 6, 320)    552960      activation_258[0][0]             \n",
            "__________________________________________________________________________________________________\n",
            "conv2d_263 (Conv2D)             (None, 6, 6, 192)    331776      activation_262[0][0]             \n",
            "__________________________________________________________________________________________________\n",
            "batch_normalization_259 (BatchN (None, 6, 6, 320)    960         conv2d_259[0][0]                 \n",
            "__________________________________________________________________________________________________\n",
            "batch_normalization_263 (BatchN (None, 6, 6, 192)    576         conv2d_263[0][0]                 \n",
            "__________________________________________________________________________________________________\n",
            "activation_259 (Activation)     (None, 6, 6, 320)    0           batch_normalization_259[0][0]    \n",
            "__________________________________________________________________________________________________\n",
            "activation_263 (Activation)     (None, 6, 6, 192)    0           batch_normalization_263[0][0]    \n",
            "__________________________________________________________________________________________________\n",
            "max_pooling2d_11 (MaxPooling2D) (None, 6, 6, 768)    0           mixed7[0][0]                     \n",
            "__________________________________________________________________________________________________\n",
            "mixed8 (Concatenate)            (None, 6, 6, 1280)   0           activation_259[0][0]             \n",
            "                                                                 activation_263[0][0]             \n",
            "                                                                 max_pooling2d_11[0][0]           \n",
            "__________________________________________________________________________________________________\n",
            "conv2d_268 (Conv2D)             (None, 6, 6, 448)    573440      mixed8[0][0]                     \n",
            "__________________________________________________________________________________________________\n",
            "batch_normalization_268 (BatchN (None, 6, 6, 448)    1344        conv2d_268[0][0]                 \n",
            "__________________________________________________________________________________________________\n",
            "activation_268 (Activation)     (None, 6, 6, 448)    0           batch_normalization_268[0][0]    \n",
            "__________________________________________________________________________________________________\n",
            "conv2d_265 (Conv2D)             (None, 6, 6, 384)    491520      mixed8[0][0]                     \n",
            "__________________________________________________________________________________________________\n",
            "conv2d_269 (Conv2D)             (None, 6, 6, 384)    1548288     activation_268[0][0]             \n",
            "__________________________________________________________________________________________________\n",
            "batch_normalization_265 (BatchN (None, 6, 6, 384)    1152        conv2d_265[0][0]                 \n",
            "__________________________________________________________________________________________________\n",
            "batch_normalization_269 (BatchN (None, 6, 6, 384)    1152        conv2d_269[0][0]                 \n",
            "__________________________________________________________________________________________________\n",
            "activation_265 (Activation)     (None, 6, 6, 384)    0           batch_normalization_265[0][0]    \n",
            "__________________________________________________________________________________________________\n",
            "activation_269 (Activation)     (None, 6, 6, 384)    0           batch_normalization_269[0][0]    \n",
            "__________________________________________________________________________________________________\n",
            "conv2d_266 (Conv2D)             (None, 6, 6, 384)    442368      activation_265[0][0]             \n",
            "__________________________________________________________________________________________________\n",
            "conv2d_267 (Conv2D)             (None, 6, 6, 384)    442368      activation_265[0][0]             \n",
            "__________________________________________________________________________________________________\n",
            "conv2d_270 (Conv2D)             (None, 6, 6, 384)    442368      activation_269[0][0]             \n",
            "__________________________________________________________________________________________________\n",
            "conv2d_271 (Conv2D)             (None, 6, 6, 384)    442368      activation_269[0][0]             \n",
            "__________________________________________________________________________________________________\n",
            "average_pooling2d_25 (AveragePo (None, 6, 6, 1280)   0           mixed8[0][0]                     \n",
            "__________________________________________________________________________________________________\n",
            "conv2d_264 (Conv2D)             (None, 6, 6, 320)    409600      mixed8[0][0]                     \n",
            "__________________________________________________________________________________________________\n",
            "batch_normalization_266 (BatchN (None, 6, 6, 384)    1152        conv2d_266[0][0]                 \n",
            "__________________________________________________________________________________________________\n",
            "batch_normalization_267 (BatchN (None, 6, 6, 384)    1152        conv2d_267[0][0]                 \n",
            "__________________________________________________________________________________________________\n",
            "batch_normalization_270 (BatchN (None, 6, 6, 384)    1152        conv2d_270[0][0]                 \n",
            "__________________________________________________________________________________________________\n",
            "batch_normalization_271 (BatchN (None, 6, 6, 384)    1152        conv2d_271[0][0]                 \n",
            "__________________________________________________________________________________________________\n",
            "conv2d_272 (Conv2D)             (None, 6, 6, 192)    245760      average_pooling2d_25[0][0]       \n",
            "__________________________________________________________________________________________________\n",
            "batch_normalization_264 (BatchN (None, 6, 6, 320)    960         conv2d_264[0][0]                 \n",
            "__________________________________________________________________________________________________\n",
            "activation_266 (Activation)     (None, 6, 6, 384)    0           batch_normalization_266[0][0]    \n",
            "__________________________________________________________________________________________________\n",
            "activation_267 (Activation)     (None, 6, 6, 384)    0           batch_normalization_267[0][0]    \n",
            "__________________________________________________________________________________________________\n",
            "activation_270 (Activation)     (None, 6, 6, 384)    0           batch_normalization_270[0][0]    \n",
            "__________________________________________________________________________________________________\n",
            "activation_271 (Activation)     (None, 6, 6, 384)    0           batch_normalization_271[0][0]    \n",
            "__________________________________________________________________________________________________\n",
            "batch_normalization_272 (BatchN (None, 6, 6, 192)    576         conv2d_272[0][0]                 \n",
            "__________________________________________________________________________________________________\n",
            "activation_264 (Activation)     (None, 6, 6, 320)    0           batch_normalization_264[0][0]    \n",
            "__________________________________________________________________________________________________\n",
            "mixed9_0 (Concatenate)          (None, 6, 6, 768)    0           activation_266[0][0]             \n",
            "                                                                 activation_267[0][0]             \n",
            "__________________________________________________________________________________________________\n",
            "concatenate_4 (Concatenate)     (None, 6, 6, 768)    0           activation_270[0][0]             \n",
            "                                                                 activation_271[0][0]             \n",
            "__________________________________________________________________________________________________\n",
            "activation_272 (Activation)     (None, 6, 6, 192)    0           batch_normalization_272[0][0]    \n",
            "__________________________________________________________________________________________________\n",
            "mixed9 (Concatenate)            (None, 6, 6, 2048)   0           activation_264[0][0]             \n",
            "                                                                 mixed9_0[0][0]                   \n",
            "                                                                 concatenate_4[0][0]              \n",
            "                                                                 activation_272[0][0]             \n",
            "__________________________________________________________________________________________________\n",
            "conv2d_277 (Conv2D)             (None, 6, 6, 448)    917504      mixed9[0][0]                     \n",
            "__________________________________________________________________________________________________\n",
            "batch_normalization_277 (BatchN (None, 6, 6, 448)    1344        conv2d_277[0][0]                 \n",
            "__________________________________________________________________________________________________\n",
            "activation_277 (Activation)     (None, 6, 6, 448)    0           batch_normalization_277[0][0]    \n",
            "__________________________________________________________________________________________________\n",
            "conv2d_274 (Conv2D)             (None, 6, 6, 384)    786432      mixed9[0][0]                     \n",
            "__________________________________________________________________________________________________\n",
            "conv2d_278 (Conv2D)             (None, 6, 6, 384)    1548288     activation_277[0][0]             \n",
            "__________________________________________________________________________________________________\n",
            "batch_normalization_274 (BatchN (None, 6, 6, 384)    1152        conv2d_274[0][0]                 \n",
            "__________________________________________________________________________________________________\n",
            "batch_normalization_278 (BatchN (None, 6, 6, 384)    1152        conv2d_278[0][0]                 \n",
            "__________________________________________________________________________________________________\n",
            "activation_274 (Activation)     (None, 6, 6, 384)    0           batch_normalization_274[0][0]    \n",
            "__________________________________________________________________________________________________\n",
            "activation_278 (Activation)     (None, 6, 6, 384)    0           batch_normalization_278[0][0]    \n",
            "__________________________________________________________________________________________________\n",
            "conv2d_275 (Conv2D)             (None, 6, 6, 384)    442368      activation_274[0][0]             \n",
            "__________________________________________________________________________________________________\n",
            "conv2d_276 (Conv2D)             (None, 6, 6, 384)    442368      activation_274[0][0]             \n",
            "__________________________________________________________________________________________________\n",
            "conv2d_279 (Conv2D)             (None, 6, 6, 384)    442368      activation_278[0][0]             \n",
            "__________________________________________________________________________________________________\n",
            "conv2d_280 (Conv2D)             (None, 6, 6, 384)    442368      activation_278[0][0]             \n",
            "__________________________________________________________________________________________________\n",
            "average_pooling2d_26 (AveragePo (None, 6, 6, 2048)   0           mixed9[0][0]                     \n",
            "__________________________________________________________________________________________________\n",
            "conv2d_273 (Conv2D)             (None, 6, 6, 320)    655360      mixed9[0][0]                     \n",
            "__________________________________________________________________________________________________\n",
            "batch_normalization_275 (BatchN (None, 6, 6, 384)    1152        conv2d_275[0][0]                 \n",
            "__________________________________________________________________________________________________\n",
            "batch_normalization_276 (BatchN (None, 6, 6, 384)    1152        conv2d_276[0][0]                 \n",
            "__________________________________________________________________________________________________\n",
            "batch_normalization_279 (BatchN (None, 6, 6, 384)    1152        conv2d_279[0][0]                 \n",
            "__________________________________________________________________________________________________\n",
            "batch_normalization_280 (BatchN (None, 6, 6, 384)    1152        conv2d_280[0][0]                 \n",
            "__________________________________________________________________________________________________\n",
            "conv2d_281 (Conv2D)             (None, 6, 6, 192)    393216      average_pooling2d_26[0][0]       \n",
            "__________________________________________________________________________________________________\n",
            "batch_normalization_273 (BatchN (None, 6, 6, 320)    960         conv2d_273[0][0]                 \n",
            "__________________________________________________________________________________________________\n",
            "activation_275 (Activation)     (None, 6, 6, 384)    0           batch_normalization_275[0][0]    \n",
            "__________________________________________________________________________________________________\n",
            "activation_276 (Activation)     (None, 6, 6, 384)    0           batch_normalization_276[0][0]    \n",
            "__________________________________________________________________________________________________\n",
            "activation_279 (Activation)     (None, 6, 6, 384)    0           batch_normalization_279[0][0]    \n",
            "__________________________________________________________________________________________________\n",
            "activation_280 (Activation)     (None, 6, 6, 384)    0           batch_normalization_280[0][0]    \n",
            "__________________________________________________________________________________________________\n",
            "batch_normalization_281 (BatchN (None, 6, 6, 192)    576         conv2d_281[0][0]                 \n",
            "__________________________________________________________________________________________________\n",
            "activation_273 (Activation)     (None, 6, 6, 320)    0           batch_normalization_273[0][0]    \n",
            "__________________________________________________________________________________________________\n",
            "mixed9_1 (Concatenate)          (None, 6, 6, 768)    0           activation_275[0][0]             \n",
            "                                                                 activation_276[0][0]             \n",
            "__________________________________________________________________________________________________\n",
            "concatenate_5 (Concatenate)     (None, 6, 6, 768)    0           activation_279[0][0]             \n",
            "                                                                 activation_280[0][0]             \n",
            "__________________________________________________________________________________________________\n",
            "activation_281 (Activation)     (None, 6, 6, 192)    0           batch_normalization_281[0][0]    \n",
            "__________________________________________________________________________________________________\n",
            "mixed10 (Concatenate)           (None, 6, 6, 2048)   0           activation_273[0][0]             \n",
            "                                                                 mixed9_1[0][0]                   \n",
            "                                                                 concatenate_5[0][0]              \n",
            "                                                                 activation_281[0][0]             \n",
            "==================================================================================================\n",
            "Total params: 21,802,784\n",
            "Trainable params: 14,951,936\n",
            "Non-trainable params: 6,850,848\n",
            "__________________________________________________________________________________________________\n"
          ],
          "name": "stdout"
        }
      ]
    },
    {
      "cell_type": "code",
      "metadata": {
        "id": "sustainable-devil"
      },
      "source": [
        "# definindo uma camada de achatamento\n",
        "x = layers.Flatten()(last_output)\n",
        "# conecatando a rede uma camada com 1024 neurônios e função de ativação relu\n",
        "x = layers.Dense(units = 1024, activation = 'relu')(x)     \n",
        "# conecatando a rede uma camada com 128 neurônios e função de ativação relu\n",
        "x = layers.Dense(units = 512, activation = 'relu')(x) \n",
        "# aplicando uma camada de dropout com uma taxa de 20% (normalização)\n",
        "x = layers.Dropout(rate = 0.2)(x)                  \n",
        "# adicionando uma camada de saída com um neurônio e uma função de ativação sigmoide\n",
        "x = layers.Dense  (units = 1, activation = 'sigmoid')(x)           \n",
        "\n",
        "# conecatando as camadas definidas acima com a arquitetura inception\n",
        "model = Model(pre_trained_model.input, x) \n",
        "\n",
        "# compilando a rede \n",
        "model.compile(optimizer = optimizers.RMSprop(learning_rate = 0.0001), loss = 'binary_crossentropy', \n",
        "              metrics = ['acc']) "
      ],
      "id": "sustainable-devil",
      "execution_count": 52,
      "outputs": []
    },
    {
      "cell_type": "code",
      "metadata": {
        "id": "weighted-enhancement"
      },
      "source": [
        "# definindo o caminho pelo qual os pesos serão armazenados \n",
        "filepath = \"transferlearning_weights.hdf5\"\n",
        "# callback para salvar o melhor valor dos pesos em relação ao desempenho com os dados de validação \n",
        "checkpoint = ModelCheckpoint(filepath, monitor = 'val_acc', verbose = 1, save_best_only = True, mode = 'max')"
      ],
      "id": "weighted-enhancement",
      "execution_count": 53,
      "outputs": []
    },
    {
      "cell_type": "code",
      "metadata": {
        "id": "understood-calgary"
      },
      "source": [
        "# definindo um array de callbacks\n",
        "callbacks = [checkpoint]"
      ],
      "id": "understood-calgary",
      "execution_count": 54,
      "outputs": []
    },
    {
      "cell_type": "code",
      "metadata": {
        "colab": {
          "base_uri": "https://localhost:8080/"
        },
        "id": "criminal-terror",
        "outputId": "e07d50f1-66a5-4ac6-948b-98d1bac24b63"
      },
      "source": [
        "# treinando a rede neural convolucional\n",
        "history = model.fit_generator(train_generator, steps_per_epoch = 423  // 32, \n",
        "                              validation_data = valid_generator, validation_steps = 106 // 32,\n",
        "                              callbacks = callbacks, epochs = 100)"
      ],
      "id": "criminal-terror",
      "execution_count": 57,
      "outputs": [
        {
          "output_type": "stream",
          "text": [
            "Epoch 1/100\n",
            "13/13 [==============================] - 370s 28s/step - loss: 1.2329 - acc: 0.5582 - val_loss: 0.5002 - val_acc: 0.7500\n",
            "\n",
            "Epoch 00001: val_acc improved from -inf to 0.75000, saving model to transferlearning_weights.hdf5\n",
            "Epoch 2/100\n",
            "13/13 [==============================] - 84s 7s/step - loss: 0.5805 - acc: 0.7394 - val_loss: 0.4132 - val_acc: 0.8229\n",
            "\n",
            "Epoch 00002: val_acc improved from 0.75000 to 0.82292, saving model to transferlearning_weights.hdf5\n",
            "Epoch 3/100\n",
            "13/13 [==============================] - 75s 6s/step - loss: 0.3808 - acc: 0.8396 - val_loss: 0.5802 - val_acc: 0.7188\n",
            "\n",
            "Epoch 00003: val_acc did not improve from 0.82292\n",
            "Epoch 4/100\n",
            "13/13 [==============================] - 51s 4s/step - loss: 0.4062 - acc: 0.8217 - val_loss: 0.5415 - val_acc: 0.7604\n",
            "\n",
            "Epoch 00004: val_acc did not improve from 0.82292\n",
            "Epoch 5/100\n",
            "13/13 [==============================] - 51s 4s/step - loss: 0.3805 - acc: 0.8219 - val_loss: 0.5090 - val_acc: 0.7917\n",
            "\n",
            "Epoch 00005: val_acc did not improve from 0.82292\n",
            "Epoch 6/100\n",
            "13/13 [==============================] - 51s 4s/step - loss: 0.2679 - acc: 0.9022 - val_loss: 0.4498 - val_acc: 0.8438\n",
            "\n",
            "Epoch 00006: val_acc improved from 0.82292 to 0.84375, saving model to transferlearning_weights.hdf5\n",
            "Epoch 7/100\n",
            "13/13 [==============================] - 53s 4s/step - loss: 0.3828 - acc: 0.8122 - val_loss: 0.4390 - val_acc: 0.8438\n",
            "\n",
            "Epoch 00007: val_acc did not improve from 0.84375\n",
            "Epoch 8/100\n",
            "13/13 [==============================] - 52s 4s/step - loss: 0.2211 - acc: 0.9256 - val_loss: 0.5907 - val_acc: 0.7917\n",
            "\n",
            "Epoch 00008: val_acc did not improve from 0.84375\n",
            "Epoch 9/100\n",
            "13/13 [==============================] - 52s 4s/step - loss: 0.2194 - acc: 0.9042 - val_loss: 0.9643 - val_acc: 0.7500\n",
            "\n",
            "Epoch 00009: val_acc did not improve from 0.84375\n",
            "Epoch 10/100\n",
            "13/13 [==============================] - 53s 4s/step - loss: 0.2540 - acc: 0.8876 - val_loss: 0.6398 - val_acc: 0.7500\n",
            "\n",
            "Epoch 00010: val_acc did not improve from 0.84375\n",
            "Epoch 11/100\n",
            "13/13 [==============================] - 52s 4s/step - loss: 0.1633 - acc: 0.9253 - val_loss: 0.8592 - val_acc: 0.7812\n",
            "\n",
            "Epoch 00011: val_acc did not improve from 0.84375\n",
            "Epoch 12/100\n",
            "13/13 [==============================] - 52s 4s/step - loss: 0.1607 - acc: 0.9416 - val_loss: 0.4801 - val_acc: 0.8646\n",
            "\n",
            "Epoch 00012: val_acc improved from 0.84375 to 0.86458, saving model to transferlearning_weights.hdf5\n",
            "Epoch 13/100\n",
            "13/13 [==============================] - 54s 4s/step - loss: 0.1660 - acc: 0.9301 - val_loss: 0.5999 - val_acc: 0.8438\n",
            "\n",
            "Epoch 00013: val_acc did not improve from 0.86458\n",
            "Epoch 14/100\n",
            "13/13 [==============================] - 52s 4s/step - loss: 0.1721 - acc: 0.9261 - val_loss: 0.8652 - val_acc: 0.7812\n",
            "\n",
            "Epoch 00014: val_acc did not improve from 0.86458\n",
            "Epoch 15/100\n",
            "13/13 [==============================] - 52s 4s/step - loss: 0.1017 - acc: 0.9699 - val_loss: 1.0103 - val_acc: 0.8021\n",
            "\n",
            "Epoch 00015: val_acc did not improve from 0.86458\n",
            "Epoch 16/100\n",
            "13/13 [==============================] - 52s 4s/step - loss: 0.2061 - acc: 0.9159 - val_loss: 0.7724 - val_acc: 0.8229\n",
            "\n",
            "Epoch 00016: val_acc did not improve from 0.86458\n",
            "Epoch 17/100\n",
            "13/13 [==============================] - 52s 4s/step - loss: 0.0781 - acc: 0.9709 - val_loss: 1.4240 - val_acc: 0.7500\n",
            "\n",
            "Epoch 00017: val_acc did not improve from 0.86458\n",
            "Epoch 18/100\n",
            "13/13 [==============================] - 52s 4s/step - loss: 0.0955 - acc: 0.9600 - val_loss: 1.1709 - val_acc: 0.7917\n",
            "\n",
            "Epoch 00018: val_acc did not improve from 0.86458\n",
            "Epoch 19/100\n",
            "13/13 [==============================] - 52s 4s/step - loss: 0.1711 - acc: 0.9338 - val_loss: 0.7889 - val_acc: 0.8438\n",
            "\n",
            "Epoch 00019: val_acc did not improve from 0.86458\n",
            "Epoch 20/100\n",
            "13/13 [==============================] - 52s 4s/step - loss: 0.0481 - acc: 0.9842 - val_loss: 0.5683 - val_acc: 0.8646\n",
            "\n",
            "Epoch 00020: val_acc did not improve from 0.86458\n",
            "Epoch 21/100\n",
            "13/13 [==============================] - 52s 4s/step - loss: 0.0491 - acc: 0.9769 - val_loss: 1.0536 - val_acc: 0.7812\n",
            "\n",
            "Epoch 00021: val_acc did not improve from 0.86458\n",
            "Epoch 22/100\n",
            "13/13 [==============================] - 52s 4s/step - loss: 0.0586 - acc: 0.9756 - val_loss: 1.1505 - val_acc: 0.8229\n",
            "\n",
            "Epoch 00022: val_acc did not improve from 0.86458\n",
            "Epoch 23/100\n",
            "13/13 [==============================] - 52s 4s/step - loss: 0.0282 - acc: 0.9909 - val_loss: 1.0787 - val_acc: 0.8125\n",
            "\n",
            "Epoch 00023: val_acc did not improve from 0.86458\n",
            "Epoch 24/100\n",
            "13/13 [==============================] - 52s 4s/step - loss: 0.1083 - acc: 0.9434 - val_loss: 1.0265 - val_acc: 0.8542\n",
            "\n",
            "Epoch 00024: val_acc did not improve from 0.86458\n",
            "Epoch 25/100\n",
            "13/13 [==============================] - 52s 4s/step - loss: 0.1794 - acc: 0.9489 - val_loss: 0.9222 - val_acc: 0.8542\n",
            "\n",
            "Epoch 00025: val_acc did not improve from 0.86458\n",
            "Epoch 26/100\n",
            "13/13 [==============================] - 52s 4s/step - loss: 0.0190 - acc: 0.9917 - val_loss: 0.8685 - val_acc: 0.8021\n",
            "\n",
            "Epoch 00026: val_acc did not improve from 0.86458\n",
            "Epoch 27/100\n",
            "13/13 [==============================] - 52s 4s/step - loss: 0.0217 - acc: 0.9935 - val_loss: 1.1740 - val_acc: 0.8229\n",
            "\n",
            "Epoch 00027: val_acc did not improve from 0.86458\n",
            "Epoch 28/100\n",
            "13/13 [==============================] - 52s 4s/step - loss: 0.0255 - acc: 0.9919 - val_loss: 1.3007 - val_acc: 0.8229\n",
            "\n",
            "Epoch 00028: val_acc did not improve from 0.86458\n",
            "Epoch 29/100\n",
            "13/13 [==============================] - 52s 4s/step - loss: 0.0365 - acc: 0.9835 - val_loss: 1.0102 - val_acc: 0.8229\n",
            "\n",
            "Epoch 00029: val_acc did not improve from 0.86458\n",
            "Epoch 30/100\n",
            "13/13 [==============================] - 52s 4s/step - loss: 0.0298 - acc: 0.9896 - val_loss: 1.7458 - val_acc: 0.7812\n",
            "\n",
            "Epoch 00030: val_acc did not improve from 0.86458\n",
            "Epoch 31/100\n",
            "13/13 [==============================] - 52s 4s/step - loss: 0.1135 - acc: 0.9586 - val_loss: 0.9354 - val_acc: 0.8854\n",
            "\n",
            "Epoch 00031: val_acc improved from 0.86458 to 0.88542, saving model to transferlearning_weights.hdf5\n",
            "Epoch 32/100\n",
            "13/13 [==============================] - 54s 4s/step - loss: 0.0158 - acc: 0.9912 - val_loss: 1.2061 - val_acc: 0.8438\n",
            "\n",
            "Epoch 00032: val_acc did not improve from 0.88542\n",
            "Epoch 33/100\n",
            "13/13 [==============================] - 52s 4s/step - loss: 0.0182 - acc: 0.9926 - val_loss: 1.8034 - val_acc: 0.8438\n",
            "\n",
            "Epoch 00033: val_acc did not improve from 0.88542\n",
            "Epoch 34/100\n",
            "13/13 [==============================] - 52s 4s/step - loss: 0.1328 - acc: 0.9587 - val_loss: 1.3455 - val_acc: 0.8542\n",
            "\n",
            "Epoch 00034: val_acc did not improve from 0.88542\n",
            "Epoch 35/100\n",
            "13/13 [==============================] - 53s 4s/step - loss: 0.0209 - acc: 0.9924 - val_loss: 1.0512 - val_acc: 0.8333\n",
            "\n",
            "Epoch 00035: val_acc did not improve from 0.88542\n",
            "Epoch 36/100\n",
            "13/13 [==============================] - 52s 4s/step - loss: 0.0298 - acc: 0.9919 - val_loss: 1.5232 - val_acc: 0.8542\n",
            "\n",
            "Epoch 00036: val_acc did not improve from 0.88542\n",
            "Epoch 37/100\n",
            "13/13 [==============================] - 52s 4s/step - loss: 0.0204 - acc: 0.9900 - val_loss: 1.5928 - val_acc: 0.8333\n",
            "\n",
            "Epoch 00037: val_acc did not improve from 0.88542\n",
            "Epoch 38/100\n",
            "13/13 [==============================] - 52s 4s/step - loss: 0.0028 - acc: 0.9996 - val_loss: 1.3895 - val_acc: 0.7812\n",
            "\n",
            "Epoch 00038: val_acc did not improve from 0.88542\n",
            "Epoch 39/100\n",
            "13/13 [==============================] - 52s 4s/step - loss: 0.0660 - acc: 0.9710 - val_loss: 2.2128 - val_acc: 0.7917\n",
            "\n",
            "Epoch 00039: val_acc did not improve from 0.88542\n",
            "Epoch 40/100\n",
            "13/13 [==============================] - 53s 4s/step - loss: 0.0330 - acc: 0.9916 - val_loss: 1.8198 - val_acc: 0.8229\n",
            "\n",
            "Epoch 00040: val_acc did not improve from 0.88542\n",
            "Epoch 41/100\n",
            "13/13 [==============================] - 52s 4s/step - loss: 0.0037 - acc: 0.9994 - val_loss: 2.0592 - val_acc: 0.7917\n",
            "\n",
            "Epoch 00041: val_acc did not improve from 0.88542\n",
            "Epoch 42/100\n",
            "13/13 [==============================] - 51s 4s/step - loss: 0.0181 - acc: 0.9897 - val_loss: 2.4987 - val_acc: 0.8021\n",
            "\n",
            "Epoch 00042: val_acc did not improve from 0.88542\n",
            "Epoch 43/100\n",
            "13/13 [==============================] - 52s 4s/step - loss: 0.0317 - acc: 0.9894 - val_loss: 1.6325 - val_acc: 0.8438\n",
            "\n",
            "Epoch 00043: val_acc did not improve from 0.88542\n",
            "Epoch 44/100\n",
            "13/13 [==============================] - 51s 4s/step - loss: 0.0421 - acc: 0.9870 - val_loss: 1.9941 - val_acc: 0.8438\n",
            "\n",
            "Epoch 00044: val_acc did not improve from 0.88542\n",
            "Epoch 45/100\n",
            "13/13 [==============================] - 51s 4s/step - loss: 0.0130 - acc: 0.9927 - val_loss: 1.7691 - val_acc: 0.8542\n",
            "\n",
            "Epoch 00045: val_acc did not improve from 0.88542\n",
            "Epoch 46/100\n",
            "13/13 [==============================] - 52s 4s/step - loss: 0.0060 - acc: 0.9962 - val_loss: 2.0318 - val_acc: 0.8333\n",
            "\n",
            "Epoch 00046: val_acc did not improve from 0.88542\n",
            "Epoch 47/100\n",
            "13/13 [==============================] - 51s 4s/step - loss: 0.0017 - acc: 1.0000 - val_loss: 1.9507 - val_acc: 0.8229\n",
            "\n",
            "Epoch 00047: val_acc did not improve from 0.88542\n",
            "Epoch 48/100\n",
            "13/13 [==============================] - 51s 4s/step - loss: 0.0142 - acc: 0.9980 - val_loss: 2.6695 - val_acc: 0.8021\n",
            "\n",
            "Epoch 00048: val_acc did not improve from 0.88542\n",
            "Epoch 49/100\n",
            "13/13 [==============================] - 51s 4s/step - loss: 0.0293 - acc: 0.9882 - val_loss: 1.8716 - val_acc: 0.8021\n",
            "\n",
            "Epoch 00049: val_acc did not improve from 0.88542\n",
            "Epoch 50/100\n",
            "13/13 [==============================] - 51s 4s/step - loss: 0.0431 - acc: 0.9860 - val_loss: 2.1361 - val_acc: 0.8333\n",
            "\n",
            "Epoch 00050: val_acc did not improve from 0.88542\n",
            "Epoch 51/100\n",
            "13/13 [==============================] - 51s 4s/step - loss: 0.0047 - acc: 0.9984 - val_loss: 2.4245 - val_acc: 0.8646\n",
            "\n",
            "Epoch 00051: val_acc did not improve from 0.88542\n",
            "Epoch 52/100\n",
            "13/13 [==============================] - 51s 4s/step - loss: 0.0067 - acc: 0.9996 - val_loss: 2.0585 - val_acc: 0.8125\n",
            "\n",
            "Epoch 00052: val_acc did not improve from 0.88542\n",
            "Epoch 53/100\n",
            "13/13 [==============================] - 52s 4s/step - loss: 0.1465 - acc: 0.9804 - val_loss: 2.3756 - val_acc: 0.8125\n",
            "\n",
            "Epoch 00053: val_acc did not improve from 0.88542\n",
            "Epoch 54/100\n",
            "13/13 [==============================] - 51s 4s/step - loss: 0.0391 - acc: 0.9932 - val_loss: 2.0817 - val_acc: 0.8333\n",
            "\n",
            "Epoch 00054: val_acc did not improve from 0.88542\n",
            "Epoch 55/100\n",
            "13/13 [==============================] - 51s 4s/step - loss: 0.0030 - acc: 0.9987 - val_loss: 2.2014 - val_acc: 0.8438\n",
            "\n",
            "Epoch 00055: val_acc did not improve from 0.88542\n",
            "Epoch 56/100\n",
            "13/13 [==============================] - 52s 4s/step - loss: 0.0049 - acc: 1.0000 - val_loss: 2.3807 - val_acc: 0.8438\n",
            "\n",
            "Epoch 00056: val_acc did not improve from 0.88542\n",
            "Epoch 57/100\n",
            "13/13 [==============================] - 51s 4s/step - loss: 0.0018 - acc: 1.0000 - val_loss: 2.4453 - val_acc: 0.8438\n",
            "\n",
            "Epoch 00057: val_acc did not improve from 0.88542\n",
            "Epoch 58/100\n",
            "13/13 [==============================] - 51s 4s/step - loss: 0.0016 - acc: 1.0000 - val_loss: 2.2687 - val_acc: 0.8333\n",
            "\n",
            "Epoch 00058: val_acc did not improve from 0.88542\n",
            "Epoch 59/100\n",
            "13/13 [==============================] - 51s 4s/step - loss: 0.0200 - acc: 0.9920 - val_loss: 2.6419 - val_acc: 0.8646\n",
            "\n",
            "Epoch 00059: val_acc did not improve from 0.88542\n",
            "Epoch 60/100\n",
            "13/13 [==============================] - 51s 4s/step - loss: 0.0017 - acc: 1.0000 - val_loss: 3.6172 - val_acc: 0.7604\n",
            "\n",
            "Epoch 00060: val_acc did not improve from 0.88542\n",
            "Epoch 61/100\n",
            "13/13 [==============================] - 51s 4s/step - loss: 0.0073 - acc: 0.9976 - val_loss: 4.9928 - val_acc: 0.7083\n",
            "\n",
            "Epoch 00061: val_acc did not improve from 0.88542\n",
            "Epoch 62/100\n",
            "13/13 [==============================] - 51s 4s/step - loss: 0.2136 - acc: 0.9499 - val_loss: 2.5711 - val_acc: 0.8542\n",
            "\n",
            "Epoch 00062: val_acc did not improve from 0.88542\n",
            "Epoch 63/100\n",
            "13/13 [==============================] - 51s 4s/step - loss: 0.0033 - acc: 0.9971 - val_loss: 2.3077 - val_acc: 0.8229\n",
            "\n",
            "Epoch 00063: val_acc did not improve from 0.88542\n",
            "Epoch 64/100\n",
            "13/13 [==============================] - 51s 4s/step - loss: 0.0025 - acc: 0.9985 - val_loss: 1.8913 - val_acc: 0.8229\n",
            "\n",
            "Epoch 00064: val_acc did not improve from 0.88542\n",
            "Epoch 65/100\n",
            "13/13 [==============================] - 51s 4s/step - loss: 0.0025 - acc: 0.9994 - val_loss: 1.9159 - val_acc: 0.8854\n",
            "\n",
            "Epoch 00065: val_acc did not improve from 0.88542\n",
            "Epoch 66/100\n",
            "13/13 [==============================] - 51s 4s/step - loss: 0.0837 - acc: 0.9877 - val_loss: 3.0080 - val_acc: 0.7604\n",
            "\n",
            "Epoch 00066: val_acc did not improve from 0.88542\n",
            "Epoch 67/100\n",
            "13/13 [==============================] - 51s 4s/step - loss: 0.0155 - acc: 0.9953 - val_loss: 2.6530 - val_acc: 0.7708\n",
            "\n",
            "Epoch 00067: val_acc did not improve from 0.88542\n",
            "Epoch 68/100\n",
            "13/13 [==============================] - 52s 4s/step - loss: 0.0171 - acc: 0.9921 - val_loss: 2.9756 - val_acc: 0.7917\n",
            "\n",
            "Epoch 00068: val_acc did not improve from 0.88542\n",
            "Epoch 69/100\n",
            "13/13 [==============================] - 51s 4s/step - loss: 5.6958e-04 - acc: 1.0000 - val_loss: 1.8089 - val_acc: 0.8333\n",
            "\n",
            "Epoch 00069: val_acc did not improve from 0.88542\n",
            "Epoch 70/100\n",
            "13/13 [==============================] - 51s 4s/step - loss: 0.0113 - acc: 0.9956 - val_loss: 2.3399 - val_acc: 0.8333\n",
            "\n",
            "Epoch 00070: val_acc did not improve from 0.88542\n",
            "Epoch 71/100\n",
            "13/13 [==============================] - 52s 4s/step - loss: 0.0261 - acc: 0.9937 - val_loss: 2.5112 - val_acc: 0.8333\n",
            "\n",
            "Epoch 00071: val_acc did not improve from 0.88542\n",
            "Epoch 72/100\n",
            "13/13 [==============================] - 52s 4s/step - loss: 0.0140 - acc: 0.9922 - val_loss: 2.3327 - val_acc: 0.8333\n",
            "\n",
            "Epoch 00072: val_acc did not improve from 0.88542\n",
            "Epoch 73/100\n",
            "13/13 [==============================] - 51s 4s/step - loss: 0.0075 - acc: 0.9954 - val_loss: 2.2007 - val_acc: 0.8438\n",
            "\n",
            "Epoch 00073: val_acc did not improve from 0.88542\n",
            "Epoch 74/100\n",
            "13/13 [==============================] - 51s 4s/step - loss: 0.0015 - acc: 0.9996 - val_loss: 2.1777 - val_acc: 0.8125\n",
            "\n",
            "Epoch 00074: val_acc did not improve from 0.88542\n",
            "Epoch 75/100\n",
            "13/13 [==============================] - 51s 4s/step - loss: 0.3845 - acc: 0.9513 - val_loss: 1.3299 - val_acc: 0.8646\n",
            "\n",
            "Epoch 00075: val_acc did not improve from 0.88542\n",
            "Epoch 76/100\n",
            "13/13 [==============================] - 51s 4s/step - loss: 0.0035 - acc: 0.9990 - val_loss: 1.7009 - val_acc: 0.8750\n",
            "\n",
            "Epoch 00076: val_acc did not improve from 0.88542\n",
            "Epoch 77/100\n",
            "13/13 [==============================] - 52s 4s/step - loss: 0.0023 - acc: 1.0000 - val_loss: 1.6268 - val_acc: 0.8229\n",
            "\n",
            "Epoch 00077: val_acc did not improve from 0.88542\n",
            "Epoch 78/100\n",
            "13/13 [==============================] - 52s 4s/step - loss: 0.0154 - acc: 0.9937 - val_loss: 1.8183 - val_acc: 0.8125\n",
            "\n",
            "Epoch 00078: val_acc did not improve from 0.88542\n",
            "Epoch 79/100\n",
            "13/13 [==============================] - 52s 4s/step - loss: 0.0549 - acc: 0.9836 - val_loss: 1.8630 - val_acc: 0.8125\n",
            "\n",
            "Epoch 00079: val_acc did not improve from 0.88542\n",
            "Epoch 80/100\n",
            "13/13 [==============================] - 52s 4s/step - loss: 3.7209e-04 - acc: 1.0000 - val_loss: 1.8372 - val_acc: 0.8021\n",
            "\n",
            "Epoch 00080: val_acc did not improve from 0.88542\n",
            "Epoch 81/100\n",
            "13/13 [==============================] - 51s 4s/step - loss: 0.0169 - acc: 0.9900 - val_loss: 1.5235 - val_acc: 0.8438\n",
            "\n",
            "Epoch 00081: val_acc did not improve from 0.88542\n",
            "Epoch 82/100\n",
            "13/13 [==============================] - 52s 4s/step - loss: 0.0029 - acc: 0.9973 - val_loss: 2.1040 - val_acc: 0.8125\n",
            "\n",
            "Epoch 00082: val_acc did not improve from 0.88542\n",
            "Epoch 83/100\n",
            "13/13 [==============================] - 52s 4s/step - loss: 0.0398 - acc: 0.9854 - val_loss: 1.6103 - val_acc: 0.8646\n",
            "\n",
            "Epoch 00083: val_acc did not improve from 0.88542\n",
            "Epoch 84/100\n",
            "13/13 [==============================] - 52s 4s/step - loss: 7.5666e-04 - acc: 1.0000 - val_loss: 2.1156 - val_acc: 0.7812\n",
            "\n",
            "Epoch 00084: val_acc did not improve from 0.88542\n",
            "Epoch 85/100\n",
            "13/13 [==============================] - 52s 4s/step - loss: 0.0100 - acc: 0.9991 - val_loss: 1.8939 - val_acc: 0.8542\n",
            "\n",
            "Epoch 00085: val_acc did not improve from 0.88542\n",
            "Epoch 86/100\n",
            "13/13 [==============================] - 52s 4s/step - loss: 0.0128 - acc: 0.9945 - val_loss: 1.5450 - val_acc: 0.8646\n",
            "\n",
            "Epoch 00086: val_acc did not improve from 0.88542\n",
            "Epoch 87/100\n",
            "13/13 [==============================] - 52s 4s/step - loss: 0.0032 - acc: 0.9980 - val_loss: 2.3534 - val_acc: 0.8229\n",
            "\n",
            "Epoch 00087: val_acc did not improve from 0.88542\n",
            "Epoch 88/100\n",
            "13/13 [==============================] - 51s 4s/step - loss: 0.0066 - acc: 0.9966 - val_loss: 2.2382 - val_acc: 0.8646\n",
            "\n",
            "Epoch 00088: val_acc did not improve from 0.88542\n",
            "Epoch 89/100\n",
            "13/13 [==============================] - 52s 4s/step - loss: 0.0051 - acc: 0.9967 - val_loss: 1.8148 - val_acc: 0.8438\n",
            "\n",
            "Epoch 00089: val_acc did not improve from 0.88542\n",
            "Epoch 90/100\n",
            "13/13 [==============================] - 52s 4s/step - loss: 0.0044 - acc: 0.9978 - val_loss: 2.1184 - val_acc: 0.8646\n",
            "\n",
            "Epoch 00090: val_acc did not improve from 0.88542\n",
            "Epoch 91/100\n",
            "13/13 [==============================] - 51s 4s/step - loss: 2.4326e-04 - acc: 1.0000 - val_loss: 2.2491 - val_acc: 0.8750\n",
            "\n",
            "Epoch 00091: val_acc did not improve from 0.88542\n",
            "Epoch 92/100\n",
            "13/13 [==============================] - 52s 4s/step - loss: 7.3541e-05 - acc: 1.0000 - val_loss: 2.1337 - val_acc: 0.8229\n",
            "\n",
            "Epoch 00092: val_acc did not improve from 0.88542\n",
            "Epoch 93/100\n",
            "13/13 [==============================] - 52s 4s/step - loss: 2.7192e-05 - acc: 1.0000 - val_loss: 2.7751 - val_acc: 0.7812\n",
            "\n",
            "Epoch 00093: val_acc did not improve from 0.88542\n",
            "Epoch 94/100\n",
            "13/13 [==============================] - 52s 4s/step - loss: 1.3042e-04 - acc: 1.0000 - val_loss: 2.1295 - val_acc: 0.8750\n",
            "\n",
            "Epoch 00094: val_acc did not improve from 0.88542\n",
            "Epoch 95/100\n",
            "13/13 [==============================] - 52s 4s/step - loss: 0.0019 - acc: 0.9992 - val_loss: 1.4083 - val_acc: 0.8646\n",
            "\n",
            "Epoch 00095: val_acc did not improve from 0.88542\n",
            "Epoch 96/100\n",
            "13/13 [==============================] - 52s 4s/step - loss: 0.0133 - acc: 0.9937 - val_loss: 1.2599 - val_acc: 0.9062\n",
            "\n",
            "Epoch 00096: val_acc improved from 0.88542 to 0.90625, saving model to transferlearning_weights.hdf5\n",
            "Epoch 97/100\n",
            "13/13 [==============================] - 53s 4s/step - loss: 0.0554 - acc: 0.9919 - val_loss: 2.3687 - val_acc: 0.8333\n",
            "\n",
            "Epoch 00097: val_acc did not improve from 0.90625\n",
            "Epoch 98/100\n",
            "13/13 [==============================] - 52s 4s/step - loss: 0.1065 - acc: 0.9814 - val_loss: 1.9295 - val_acc: 0.8854\n",
            "\n",
            "Epoch 00098: val_acc did not improve from 0.90625\n",
            "Epoch 99/100\n",
            "13/13 [==============================] - 52s 4s/step - loss: 5.8127e-04 - acc: 1.0000 - val_loss: 1.3361 - val_acc: 0.8854\n",
            "\n",
            "Epoch 00099: val_acc did not improve from 0.90625\n",
            "Epoch 100/100\n",
            "13/13 [==============================] - 52s 4s/step - loss: 4.6370e-05 - acc: 1.0000 - val_loss: 1.9915 - val_acc: 0.8333\n",
            "\n",
            "Epoch 00100: val_acc did not improve from 0.90625\n"
          ],
          "name": "stdout"
        }
      ]
    },
    {
      "cell_type": "code",
      "metadata": {
        "id": "qxbUJrmeCDfw",
        "outputId": "c9d38389-c1ee-49f2-b4d2-9975fdb84cd0",
        "colab": {
          "base_uri": "https://localhost:8080/"
        }
      },
      "source": [
        "model.evaluate(test_generator)"
      ],
      "id": "qxbUJrmeCDfw",
      "execution_count": 58,
      "outputs": [
        {
          "output_type": "stream",
          "text": [
            "5/5 [==============================] - 88s 21s/step - loss: 1.7678 - acc: 0.8571\n"
          ],
          "name": "stdout"
        },
        {
          "output_type": "execute_result",
          "data": {
            "text/plain": [
              "[1.7677589654922485, 0.8571428656578064]"
            ]
          },
          "metadata": {
            "tags": []
          },
          "execution_count": 58
        }
      ]
    },
    {
      "cell_type": "code",
      "metadata": {
        "id": "TjU2eNSSCHzi"
      },
      "source": [
        "best_model = model\r\n",
        "best_model.load_weights('/content/transferlearning_weights.hdf5')"
      ],
      "id": "TjU2eNSSCHzi",
      "execution_count": 59,
      "outputs": []
    },
    {
      "cell_type": "code",
      "metadata": {
        "id": "JEIwG3tRCKK1",
        "outputId": "0c2b7135-c2be-4f6d-84ee-57b8081ca498",
        "colab": {
          "base_uri": "https://localhost:8080/"
        }
      },
      "source": [
        "best_model.evaluate(test_generator)"
      ],
      "id": "JEIwG3tRCKK1",
      "execution_count": 60,
      "outputs": [
        {
          "output_type": "stream",
          "text": [
            "5/5 [==============================] - 13s 2s/step - loss: 1.5337 - acc: 0.8647\n"
          ],
          "name": "stdout"
        },
        {
          "output_type": "execute_result",
          "data": {
            "text/plain": [
              "[1.5337355136871338, 0.8646616339683533]"
            ]
          },
          "metadata": {
            "tags": []
          },
          "execution_count": 60
        }
      ]
    },
    {
      "cell_type": "code",
      "metadata": {
        "id": "x5CqCbGICNuz"
      },
      "source": [
        "(x1, y1) = test_generator[0]\r\n",
        "(x2, y2) = test_generator[1]\r\n",
        "(x3, y3) = test_generator[2]\r\n",
        "(x4, y4) = test_generator[3]\r\n",
        "(x5, y5) = test_generator[4]"
      ],
      "id": "x5CqCbGICNuz",
      "execution_count": 71,
      "outputs": []
    },
    {
      "cell_type": "code",
      "metadata": {
        "id": "ckuLLAXzD7Zx"
      },
      "source": [
        "x = np.concatenate((x1, x2, x3, x4, x5))\r\n",
        "y = np.concatenate((y1, y2, y3, y4, y5))"
      ],
      "id": "ckuLLAXzD7Zx",
      "execution_count": 76,
      "outputs": []
    },
    {
      "cell_type": "code",
      "metadata": {
        "id": "VhdA0mmHFGMJ"
      },
      "source": [
        "predict = best_model.predict(x)"
      ],
      "id": "VhdA0mmHFGMJ",
      "execution_count": 77,
      "outputs": []
    },
    {
      "cell_type": "code",
      "metadata": {
        "id": "rgM24ftsFLVA",
        "outputId": "cc600766-524f-4689-ead1-d4dd5cdc6e14",
        "colab": {
          "base_uri": "https://localhost:8080/"
        }
      },
      "source": [
        "predict"
      ],
      "id": "rgM24ftsFLVA",
      "execution_count": 78,
      "outputs": [
        {
          "output_type": "execute_result",
          "data": {
            "text/plain": [
              "array([[5.2208062e-03],\n",
              "       [1.7564675e-02],\n",
              "       [2.3706079e-02],\n",
              "       [4.4439593e-01],\n",
              "       [9.9995804e-01],\n",
              "       [1.0000000e+00],\n",
              "       [2.8992530e-30],\n",
              "       [1.0127876e-05],\n",
              "       [9.9881113e-01],\n",
              "       [1.4176417e-05],\n",
              "       [7.8398829e-21],\n",
              "       [1.3247133e-05],\n",
              "       [5.1180258e-11],\n",
              "       [9.9997890e-01],\n",
              "       [9.9999750e-01],\n",
              "       [9.9874949e-01],\n",
              "       [5.6465890e-09],\n",
              "       [1.0000000e+00],\n",
              "       [1.0000000e+00],\n",
              "       [1.0000000e+00],\n",
              "       [2.0225481e-13],\n",
              "       [9.9999976e-01],\n",
              "       [1.0000000e+00],\n",
              "       [4.6603105e-29],\n",
              "       [1.3956423e-08],\n",
              "       [9.6726034e-17],\n",
              "       [9.9999881e-01],\n",
              "       [3.8301281e-17],\n",
              "       [7.4556229e-11],\n",
              "       [1.0000000e+00],\n",
              "       [2.5648606e-06],\n",
              "       [3.9916487e-31],\n",
              "       [3.5382461e-04],\n",
              "       [9.9999976e-01],\n",
              "       [1.3242317e-11],\n",
              "       [1.0000000e+00],\n",
              "       [9.9995482e-01],\n",
              "       [2.2994489e-09],\n",
              "       [3.8686110e-07],\n",
              "       [1.0000000e+00],\n",
              "       [6.9650860e-06],\n",
              "       [1.0000000e+00],\n",
              "       [6.6081825e-24],\n",
              "       [1.0000000e+00],\n",
              "       [7.7691516e-12],\n",
              "       [9.9566615e-01],\n",
              "       [1.0000000e+00],\n",
              "       [8.3055317e-01],\n",
              "       [1.0000000e+00],\n",
              "       [8.3968133e-01],\n",
              "       [1.0000000e+00],\n",
              "       [2.3970339e-17],\n",
              "       [9.9097288e-01],\n",
              "       [1.9493135e-10],\n",
              "       [9.9890220e-01],\n",
              "       [1.0594748e-06],\n",
              "       [1.5187909e-09],\n",
              "       [5.7308189e-09],\n",
              "       [1.0000000e+00],\n",
              "       [1.9586879e-09],\n",
              "       [1.0105782e-06],\n",
              "       [9.9836057e-01],\n",
              "       [1.0000000e+00],\n",
              "       [9.9994600e-01],\n",
              "       [7.4228484e-07],\n",
              "       [1.0000000e+00],\n",
              "       [1.0000000e+00],\n",
              "       [9.9999964e-01],\n",
              "       [9.5867032e-01],\n",
              "       [1.0000000e+00],\n",
              "       [5.5400828e-06],\n",
              "       [9.9636722e-01],\n",
              "       [1.0000000e+00],\n",
              "       [9.9999976e-01],\n",
              "       [3.3952230e-09],\n",
              "       [2.3835736e-26],\n",
              "       [1.6219758e-14],\n",
              "       [1.0000000e+00],\n",
              "       [8.8419285e-05],\n",
              "       [3.1270630e-16],\n",
              "       [1.0000000e+00],\n",
              "       [9.3207875e-21],\n",
              "       [9.9999952e-01],\n",
              "       [5.8796402e-05],\n",
              "       [1.3411258e-13],\n",
              "       [1.0000000e+00],\n",
              "       [1.0000000e+00],\n",
              "       [2.3325208e-13],\n",
              "       [1.0000000e+00],\n",
              "       [9.9999356e-01],\n",
              "       [9.9994767e-01],\n",
              "       [1.0000000e+00],\n",
              "       [1.0000000e+00],\n",
              "       [8.7121975e-01],\n",
              "       [7.6154192e-06],\n",
              "       [2.5960548e-05],\n",
              "       [5.8916562e-14],\n",
              "       [1.0000000e+00],\n",
              "       [1.8815374e-05],\n",
              "       [1.3213481e-06],\n",
              "       [5.2092213e-07],\n",
              "       [9.9999976e-01],\n",
              "       [9.9999988e-01],\n",
              "       [1.0000000e+00],\n",
              "       [1.5660747e-07],\n",
              "       [1.0000000e+00],\n",
              "       [1.0000000e+00],\n",
              "       [9.9954730e-01],\n",
              "       [1.0000000e+00],\n",
              "       [5.9233234e-20],\n",
              "       [8.6275804e-12],\n",
              "       [1.0000000e+00],\n",
              "       [9.1165034e-16],\n",
              "       [5.3982426e-11],\n",
              "       [2.4083876e-08],\n",
              "       [1.6063306e-09],\n",
              "       [4.2951794e-14],\n",
              "       [9.9963403e-01],\n",
              "       [1.2851194e-03],\n",
              "       [1.2795610e-05],\n",
              "       [9.9994016e-01],\n",
              "       [1.0000000e+00],\n",
              "       [1.4588971e-17],\n",
              "       [6.7372494e-06],\n",
              "       [3.1609661e-25],\n",
              "       [1.0000000e+00],\n",
              "       [9.9999988e-01],\n",
              "       [1.7428207e-05],\n",
              "       [9.9999309e-01],\n",
              "       [1.0000000e+00],\n",
              "       [1.5010658e-08],\n",
              "       [4.8955326e-04],\n",
              "       [7.3872316e-13]], dtype=float32)"
            ]
          },
          "metadata": {
            "tags": []
          },
          "execution_count": 78
        }
      ]
    },
    {
      "cell_type": "code",
      "metadata": {
        "id": "g4ZJNaLNFOVA",
        "outputId": "37938644-1509-43e2-c464-37d28019893d",
        "colab": {
          "base_uri": "https://localhost:8080/"
        }
      },
      "source": [
        "y"
      ],
      "id": "g4ZJNaLNFOVA",
      "execution_count": 79,
      "outputs": [
        {
          "output_type": "execute_result",
          "data": {
            "text/plain": [
              "array([0., 0., 0., 1., 1., 0., 0., 0., 1., 0., 0., 0., 0., 1., 1., 1., 0.,\n",
              "       1., 1., 1., 0., 1., 1., 0., 0., 0., 1., 0., 0., 1., 0., 0., 0., 1.,\n",
              "       0., 1., 0., 0., 1., 1., 0., 1., 0., 0., 0., 0., 1., 1., 1., 0., 1.,\n",
              "       0., 1., 0., 1., 0., 0., 0., 1., 0., 0., 0., 1., 1., 0., 1., 1., 0.,\n",
              "       0., 1., 1., 1., 1., 1., 1., 0., 0., 1., 0., 0., 1., 0., 1., 1., 0.,\n",
              "       1., 1., 0., 1., 1., 1., 1., 1., 1., 1., 0., 0., 1., 0., 0., 0., 1.,\n",
              "       1., 1., 0., 1., 1., 1., 1., 0., 0., 1., 0., 1., 0., 0., 0., 1., 1.,\n",
              "       0., 1., 1., 0., 0., 0., 1., 1., 1., 1., 1., 0., 1., 0.],\n",
              "      dtype=float32)"
            ]
          },
          "metadata": {
            "tags": []
          },
          "execution_count": 79
        }
      ]
    },
    {
      "cell_type": "code",
      "metadata": {
        "id": "Pd6gsp3cFQnI"
      },
      "source": [
        "predict_ = []\r\n",
        "for i in predict:\r\n",
        "  if i > 0.95:\r\n",
        "    predict_.append(1)\r\n",
        "  else:\r\n",
        "    predict_.append(0)"
      ],
      "id": "Pd6gsp3cFQnI",
      "execution_count": 80,
      "outputs": []
    },
    {
      "cell_type": "code",
      "metadata": {
        "id": "_KWoMhdWFS14",
        "outputId": "41b10b35-d639-40d0-925a-b8d2919df6d6",
        "colab": {
          "base_uri": "https://localhost:8080/"
        }
      },
      "source": [
        "confusion_matrix(predict_, y)"
      ],
      "id": "_KWoMhdWFS14",
      "execution_count": 81,
      "outputs": [
        {
          "output_type": "execute_result",
          "data": {
            "text/plain": [
              "array([[58, 12],\n",
              "       [ 7, 56]])"
            ]
          },
          "metadata": {
            "tags": []
          },
          "execution_count": 81
        }
      ]
    },
    {
      "cell_type": "code",
      "metadata": {
        "id": "3jSgRE93FWb3",
        "outputId": "55a89d3f-8271-41b6-b102-f079604d443b",
        "colab": {
          "base_uri": "https://localhost:8080/"
        }
      },
      "source": [
        "precision_recall_fscore_support(predict_, y)"
      ],
      "id": "3jSgRE93FWb3",
      "execution_count": 82,
      "outputs": [
        {
          "output_type": "execute_result",
          "data": {
            "text/plain": [
              "(array([0.89230769, 0.82352941]),\n",
              " array([0.82857143, 0.88888889]),\n",
              " array([0.85925926, 0.85496183]),\n",
              " array([70, 63]))"
            ]
          },
          "metadata": {
            "tags": []
          },
          "execution_count": 82
        }
      ]
    },
    {
      "cell_type": "code",
      "metadata": {
        "id": "w7Yq1pfcFbOl",
        "outputId": "0ea33066-e274-4529-b728-dcdb092855fc",
        "colab": {
          "base_uri": "https://localhost:8080/"
        }
      },
      "source": [
        "precision = 58 / (58 + 12)\r\n",
        "precision"
      ],
      "id": "w7Yq1pfcFbOl",
      "execution_count": 83,
      "outputs": [
        {
          "output_type": "execute_result",
          "data": {
            "text/plain": [
              "0.8285714285714286"
            ]
          },
          "metadata": {
            "tags": []
          },
          "execution_count": 83
        }
      ]
    },
    {
      "cell_type": "code",
      "metadata": {
        "id": "9jUm2-5hFfQ5",
        "outputId": "1df6930f-497d-4937-a226-8e1afbbe094f",
        "colab": {
          "base_uri": "https://localhost:8080/"
        }
      },
      "source": [
        "recall = 58 / (58 + 7)\r\n",
        "recall"
      ],
      "id": "9jUm2-5hFfQ5",
      "execution_count": 84,
      "outputs": [
        {
          "output_type": "execute_result",
          "data": {
            "text/plain": [
              "0.8923076923076924"
            ]
          },
          "metadata": {
            "tags": []
          },
          "execution_count": 84
        }
      ]
    },
    {
      "cell_type": "code",
      "metadata": {
        "id": "5vyxE53oFllk",
        "outputId": "efb9e1a6-a591-4f4a-d759-066878fbf19c",
        "colab": {
          "base_uri": "https://localhost:8080/"
        }
      },
      "source": [
        "f1 = (2 * precision * recall) / (precision + recall)\r\n",
        "f1"
      ],
      "id": "5vyxE53oFllk",
      "execution_count": 85,
      "outputs": [
        {
          "output_type": "execute_result",
          "data": {
            "text/plain": [
              "0.8592592592592593"
            ]
          },
          "metadata": {
            "tags": []
          },
          "execution_count": 85
        }
      ]
    },
    {
      "cell_type": "code",
      "metadata": {
        "id": "TmdCYuWKFn-K",
        "outputId": "5d0f0e10-200d-4be9-b0e0-6dd7cdd82ba3",
        "colab": {
          "base_uri": "https://localhost:8080/"
        }
      },
      "source": [
        "model.save('model1')\r\n",
        "best_model.save('model2')"
      ],
      "id": "TmdCYuWKFn-K",
      "execution_count": 86,
      "outputs": [
        {
          "output_type": "stream",
          "text": [
            "INFO:tensorflow:Assets written to: model1/assets\n",
            "INFO:tensorflow:Assets written to: model2/assets\n"
          ],
          "name": "stdout"
        }
      ]
    },
    {
      "cell_type": "code",
      "metadata": {
        "id": "UtwBFntlFqWo",
        "outputId": "e787f85e-5e45-4791-b265-f4c2498b6175",
        "colab": {
          "base_uri": "https://localhost:8080/",
          "height": 590
        }
      },
      "source": [
        "plt.plot(history.history['acc'])\r\n",
        "plt.plot(history.history['val_acc'])\r\n",
        "plt.title('model accuracy')\r\n",
        "plt.ylabel('accuracy')\r\n",
        "plt.xlabel('epoch')\r\n",
        "plt.legend(['train', 'test'], loc='upper left')\r\n",
        "plt.show()\r\n",
        "plt.savefig('model-accuracy')\r\n",
        "# summarize history for loss\r\n",
        "plt.plot(history.history['loss'])\r\n",
        "plt.plot(history.history['val_loss'])\r\n",
        "plt.title('model loss')\r\n",
        "plt.ylabel('loss')\r\n",
        "plt.xlabel('epoch')\r\n",
        "plt.legend(['train', 'test'], loc='upper left')\r\n",
        "plt.show()\r\n",
        "plt.savefig('model-loss')"
      ],
      "id": "UtwBFntlFqWo",
      "execution_count": 87,
      "outputs": [
        {
          "output_type": "display_data",
          "data": {
            "image/png": "[encoded data removed]",
            "text/plain": [
              "<Figure size 432x288 with 1 Axes>"
            ]
          },
          "metadata": {
            "tags": [],
            "needs_background": "light"
          }
        },
        {
          "output_type": "display_data",
          "data": {
            "image/png": "[encoded data removed]",
            "text/plain": [
              "<Figure size 432x288 with 1 Axes>"
            ]
          },
          "metadata": {
            "tags": [],
            "needs_background": "light"
          }
        },
        {
          "output_type": "display_data",
          "data": {
            "text/plain": [
              "<Figure size 432x288 with 0 Axes>"
            ]
          },
          "metadata": {
            "tags": []
          }
        }
      ]
    }
  ]
}