{
  "nbformat": 4,
  "nbformat_minor": 5,
  "metadata": {
    "kernelspec": {
      "display_name": "Python 3",
      "language": "python",
      "name": "python3"
    },
    "language_info": {
      "codemirror_mode": {
        "name": "ipython",
        "version": 3
      },
      "file_extension": ".py",
      "mimetype": "text/x-python",
      "name": "python",
      "nbconvert_exporter": "python",
      "pygments_lexer": "ipython3",
      "version": "3.8.7"
    },
    "colab": {
      "name": "experimento2-dataset4.ipynb",
      "provenance": [],
      "toc_visible": true,
      "machine_shape": "hm"
    },
    "accelerator": "GPU"
  },
  "cells": [
    {
      "cell_type": "markdown",
      "metadata": {
        "id": "demanding-medication"
      },
      "source": [
        "# Experimento 2\n",
        "***\n",
        "- Conjunto de Dados: VinBigData\n",
        "- Analisando o efeito do valor médio de duas redes treinadas."
      ],
      "id": "demanding-medication"
    },
    {
      "cell_type": "markdown",
      "metadata": {
        "id": "laughing-kazakhstan"
      },
      "source": [
        "### Importação dos pacotes"
      ],
      "id": "laughing-kazakhstan"
    },
    {
      "cell_type": "code",
      "metadata": {
        "id": "applicable-billion"
      },
      "source": [
        "import os\n",
        "import pandas as pd\n",
        "from sklearn.model_selection import train_test_split\n",
        "from keras.preprocessing.image import ImageDataGenerator\n",
        "from sklearn.metrics import confusion_matrix, precision_recall_fscore_support, accuracy_score\n",
        "import matplotlib.pyplot as plt\n",
        "import numpy as np\n",
        "\n",
        "import tensorflow as tf\n",
        "from tensorflow.keras import layers\n",
        "from tensorflow.keras import Model\n",
        "#from tensorflow.keras.applications.inception_v3 import InceptionV3\n",
        "from tensorflow.keras.applications import MobileNetV2\n",
        "from tensorflow.keras import optimizers\n",
        "from tensorflow.keras.callbacks import ModelCheckpoint\n",
        "import tensorflow as tf\n",
        "import urllib.request as url\n",
        "\n",
        "url.urlretrieve('https://raw.githubusercontent.com/Alyssonmach/cnn-lung-diseases/main/assets/lung_segmentation.py', \n",
        "                'lung_segmentation.py')\n",
        "from lung_segmentation import segmentation\n",
        "\n",
        "import warnings\n",
        "warnings.filterwarnings(\"ignore\")"
      ],
      "id": "applicable-billion",
      "execution_count": null,
      "outputs": []
    },
    {
      "cell_type": "code",
      "metadata": {
        "id": "Ca8k892QZQ1y"
      },
      "source": [
        "import numpy as np\n",
        "import pandas as pd\n",
        "import cv2\n",
        "import torch\n",
        "import albumentations as A\n",
        "from lungs_segmentation.pre_trained_models import create_model\n",
        "from tensorflow.keras.preprocessing.image import ImageDataGenerator\n",
        "from lungs_segmentation.pre_trained_models import create_model\n",
        "import lungs_segmentation.inference as inference\n",
        "import matplotlib.pyplot as plt\n",
        "import matplotlib\n",
        "import tensorflow as tf\n",
        "import os\n",
        "\n",
        "model_seg = create_model(\"resnet34\", )\n",
        "\n",
        "#device = torch.device('cuda' if torch.cuda.is_available() else 'cpu')\n",
        "#model_seg = model_seg.to(device)\n",
        "\n",
        "def segmentation(image, path = 'image.png'):\n",
        "\n",
        "  image = tf.keras.preprocessing.image.array_to_img(image)\n",
        "  tf.keras.preprocessing.image.save_img(path, image)\n",
        "  image, mask = inference.inference(model_seg, path, 0.2)\n",
        "  os.remove(path)\n",
        "  for values_i in range(0, len(mask[0])):\n",
        "    for values_j in range(0, len(mask[0])):\n",
        "      if (mask[0, values_i, values_j] + mask[1, values_i, values_j]) == 0:\n",
        "        image[values_i, values_j, 0] = 0\n",
        "        image[values_i, values_j, 1] = 0\n",
        "        image[values_i, values_j, 2] = 0\n",
        "  \n",
        "  return image"
      ],
      "id": "Ca8k892QZQ1y",
      "execution_count": 5,
      "outputs": []
    },
    {
      "cell_type": "markdown",
      "metadata": {
        "id": "worst-fisher"
      },
      "source": [
        "### Pré-processamento nos dados"
      ],
      "id": "worst-fisher"
    },
    {
      "cell_type": "code",
      "metadata": {
        "id": "regulation-costume"
      },
      "source": [
        "# lendo os dados de um arquivo csv\n",
        "dataframe = pd.read_csv('/content/drive/MyDrive/vinbigdata/train.csv')\n",
        "# criando uma coluna com os caminhos relativos as imagens\n",
        "dataframe['image_path'] = '/content/drive/MyDrive/vinbigdata/train/' + dataframe.image_id + '.jpg'"
      ],
      "id": "regulation-costume",
      "execution_count": 8,
      "outputs": []
    },
    {
      "cell_type": "code",
      "metadata": {
        "id": "necessary-medication",
        "colab": {
          "base_uri": "https://localhost:8080/"
        },
        "outputId": "ff6a0313-cd98-43f8-a8ef-3048cb049ed7"
      },
      "source": [
        "print('total de imagens disponíveis:', str(len(set(dataframe['image_path']))))"
      ],
      "id": "necessary-medication",
      "execution_count": 9,
      "outputs": [
        {
          "output_type": "stream",
          "text": [
            "total de imagens disponíveis: 15000\n"
          ],
          "name": "stdout"
        }
      ]
    },
    {
      "cell_type": "code",
      "metadata": {
        "id": "widespread-enclosure",
        "colab": {
          "base_uri": "https://localhost:8080/"
        },
        "outputId": "584a2803-d10e-42e9-f3cb-815f630dead8"
      },
      "source": [
        "# visualizando os casos disponíveis\n",
        "dataframe['class_name'].value_counts()"
      ],
      "id": "widespread-enclosure",
      "execution_count": 10,
      "outputs": [
        {
          "output_type": "execute_result",
          "data": {
            "text/plain": [
              "No finding            31818\n",
              "Aortic enlargement     7162\n",
              "Cardiomegaly           5427\n",
              "Pleural thickening     4842\n",
              "Pulmonary fibrosis     4655\n",
              "Nodule/Mass            2580\n",
              "Lung Opacity           2483\n",
              "Pleural effusion       2476\n",
              "Other lesion           2203\n",
              "Infiltration           1247\n",
              "ILD                    1000\n",
              "Calcification           960\n",
              "Consolidation           556\n",
              "Atelectasis             279\n",
              "Pneumothorax            226\n",
              "Name: class_name, dtype: int64"
            ]
          },
          "metadata": {
            "tags": []
          },
          "execution_count": 10
        }
      ]
    },
    {
      "cell_type": "code",
      "metadata": {
        "id": "informal-ottawa"
      },
      "source": [
        "# removendo os casos não relativos a distúrbios pulmonares\n",
        "dataframe = dataframe[dataframe.class_name != 'Aortic enlargement']\n",
        "dataframe = dataframe[dataframe.class_name != 'Cardiomegaly']\n",
        "dataframe = dataframe[dataframe.class_name != 'Other lesion']\n",
        "dataframe = dataframe[dataframe.class_name != 'Consolidation']"
      ],
      "id": "informal-ottawa",
      "execution_count": 11,
      "outputs": []
    },
    {
      "cell_type": "code",
      "metadata": {
        "id": "plastic-master",
        "colab": {
          "base_uri": "https://localhost:8080/"
        },
        "outputId": "e896f10f-702f-4b74-bf4e-c9e43a549ab5"
      },
      "source": [
        "# separando os casos rotulados como normais e anormais\n",
        "normal_cases = dataframe[(dataframe.class_id == 14) & (dataframe.class_name == 'No finding')]\n",
        "abnormal_cases = dataframe[(dataframe.class_id != 14) & (dataframe.class_name != 'No finding')]\n",
        "\n",
        "print('total de dados após a filtração:', str(len(set(normal_cases['image_path'])) + len(set(abnormal_cases['image_path']))))"
      ],
      "id": "plastic-master",
      "execution_count": 12,
      "outputs": [
        {
          "output_type": "stream",
          "text": [
            "total de dados após a filtração: 13948\n"
          ],
          "name": "stdout"
        }
      ]
    },
    {
      "cell_type": "code",
      "metadata": {
        "id": "secure-alignment"
      },
      "source": [
        "# removendo as imagens repetidas\n",
        "normal_data = normal_cases[['image_path', 'class_name']].drop_duplicates(subset = 'image_path', )\n",
        "abnormal_data = abnormal_cases[['image_path', 'class_name']].drop_duplicates(subset = 'image_path', )\n",
        "\n",
        "# criando dataframes especifos com caminhos para as imagens e rótulos\n",
        "normal_data['target'] = 'normal'\n",
        "abnormal_data['target'] = 'abnormal'"
      ],
      "id": "secure-alignment",
      "execution_count": 13,
      "outputs": []
    },
    {
      "cell_type": "code",
      "metadata": {
        "id": "sudden-platform",
        "colab": {
          "base_uri": "https://localhost:8080/"
        },
        "outputId": "74521fda-1584-4a76-da46-81458479bf94"
      },
      "source": [
        "print('quantidade de dados rotulados como normais:', len(normal_data))\n",
        "print('quantidade de dados rotulados como anormais:', len(abnormal_data))"
      ],
      "id": "sudden-platform",
      "execution_count": 14,
      "outputs": [
        {
          "output_type": "stream",
          "text": [
            "quantidade de dados rotulados como normais: 10606\n",
            "quantidade de dados rotulados como anormais: 3342\n"
          ],
          "name": "stdout"
        }
      ]
    },
    {
      "cell_type": "code",
      "metadata": {
        "id": "prompt-embassy"
      },
      "source": [
        "# removendo 69% dos casos normais para balancear os dados\n",
        "normal, _ = train_test_split(normal_data, test_size = 0.69, random_state = 42)"
      ],
      "id": "prompt-embassy",
      "execution_count": 15,
      "outputs": []
    },
    {
      "cell_type": "code",
      "metadata": {
        "id": "sitting-works",
        "colab": {
          "base_uri": "https://localhost:8080/"
        },
        "outputId": "6dc28dc3-dfb0-4914-c5ea-374ff87a41e6"
      },
      "source": [
        "print('quantidade de dados rotulados como normais:', len(normal))\n",
        "print('quantidade de dados rotulados como anormais:', len(abnormal_data))"
      ],
      "id": "sitting-works",
      "execution_count": 16,
      "outputs": [
        {
          "output_type": "stream",
          "text": [
            "quantidade de dados rotulados como normais: 3287\n",
            "quantidade de dados rotulados como anormais: 3342\n"
          ],
          "name": "stdout"
        }
      ]
    },
    {
      "cell_type": "code",
      "metadata": {
        "id": "funny-document"
      },
      "source": [
        "# concatenando os dataframes de casos normais e anormais\n",
        "full_data = pd.concat([normal, abnormal_data])"
      ],
      "id": "funny-document",
      "execution_count": 17,
      "outputs": []
    },
    {
      "cell_type": "code",
      "metadata": {
        "id": "bMgFfvv6vuvI"
      },
      "source": [
        "fibrosis = full_data[full_data.class_name == 'Pulmonary fibrosis']\n",
        "fibrosis['finding_labels'] =  'yes'\n",
        "others = full_data[full_data.class_name != 'Pulmonary fibrosis']\n",
        "others = full_data[full_data.class_name != 'No finding']\n",
        "others['finding_labels'] = 'no'\n",
        "full_data = pd.concat([fibrosis, others])"
      ],
      "id": "bMgFfvv6vuvI",
      "execution_count": 20,
      "outputs": []
    },
    {
      "cell_type": "code",
      "metadata": {
        "id": "golden-reading"
      },
      "source": [
        "# misturando todos os dados do dataframe e reiniciando os valores dos índices \n",
        "full_data = full_data.sample(frac = 1, axis = 0, random_state = 42).reset_index(drop=True)"
      ],
      "id": "golden-reading",
      "execution_count": 23,
      "outputs": []
    },
    {
      "cell_type": "code",
      "metadata": {
        "id": "medium-brand"
      },
      "source": [
        "# separando os dados de treinamento e de teste\n",
        "train_df, test_df = train_test_split(full_data, stratify = full_data['finding_labels'],\n",
        "                                     test_size = 0.2, random_state = 42)"
      ],
      "id": "medium-brand",
      "execution_count": 24,
      "outputs": []
    },
    {
      "cell_type": "code",
      "metadata": {
        "id": "extraordinary-retrieval"
      },
      "source": [
        "# separando os dados de validação dos dados de treinamento\n",
        "train_df, validation_df = train_test_split(train_df, stratify = train_df['finding_labels'],\n",
        "                                           test_size = 0.2, random_state = 42)"
      ],
      "id": "extraordinary-retrieval",
      "execution_count": 25,
      "outputs": []
    },
    {
      "cell_type": "code",
      "metadata": {
        "id": "dependent-collins",
        "colab": {
          "base_uri": "https://localhost:8080/"
        },
        "outputId": "76268159-b84b-4942-e111-7dbe7c88c6f3"
      },
      "source": [
        "# visualizando a quantidade de dados\n",
        "print('quantidade de imagens de treinamento:', len(train_df['image_path']))\n",
        "print('quantidade de rótulos de treinamento:', len(train_df['target']))\n",
        "print('quantidade de imagens de teste:', len(test_df['image_path']))\n",
        "print('quantidade de rótulos de teste:', len(test_df['target']))\n",
        "print('quantidade de imagens de validação:', len(validation_df['image_path']))\n",
        "print('quantidade de rótulos de validação:', len(validation_df['target']))"
      ],
      "id": "dependent-collins",
      "execution_count": 26,
      "outputs": [
        {
          "output_type": "stream",
          "text": [
            "quantidade de imagens de treinamento: 2616\n",
            "quantidade de rótulos de treinamento: 2616\n",
            "quantidade de imagens de teste: 818\n",
            "quantidade de rótulos de teste: 818\n",
            "quantidade de imagens de validação: 654\n",
            "quantidade de rótulos de validação: 654\n"
          ],
          "name": "stdout"
        }
      ]
    },
    {
      "cell_type": "code",
      "metadata": {
        "id": "BUGdPMp1MnFy",
        "colab": {
          "base_uri": "https://localhost:8080/"
        },
        "outputId": "aea744a2-b75e-4652-e05a-a42eaf429a09"
      },
      "source": [
        "# visualizando a quantidade de exemplos disponíveis nos dados de treinamento\n",
        "train_df['finding_labels'].value_counts()"
      ],
      "id": "BUGdPMp1MnFy",
      "execution_count": 27,
      "outputs": [
        {
          "output_type": "execute_result",
          "data": {
            "text/plain": [
              "no     2138\n",
              "yes     478\n",
              "Name: finding_labels, dtype: int64"
            ]
          },
          "metadata": {
            "tags": []
          },
          "execution_count": 27
        }
      ]
    },
    {
      "cell_type": "code",
      "metadata": {
        "id": "15lrj6xgM2by",
        "colab": {
          "base_uri": "https://localhost:8080/"
        },
        "outputId": "ac706f36-62d9-49e8-a707-df4aaa3f60dd"
      },
      "source": [
        "# visualizando a quantidade de exemplos disponíveis nos dados de validação\n",
        "validation_df['finding_labels'].value_counts()"
      ],
      "id": "15lrj6xgM2by",
      "execution_count": 28,
      "outputs": [
        {
          "output_type": "execute_result",
          "data": {
            "text/plain": [
              "no     535\n",
              "yes    119\n",
              "Name: finding_labels, dtype: int64"
            ]
          },
          "metadata": {
            "tags": []
          },
          "execution_count": 28
        }
      ]
    },
    {
      "cell_type": "code",
      "metadata": {
        "id": "Tmr4M8tgM630",
        "colab": {
          "base_uri": "https://localhost:8080/"
        },
        "outputId": "574c5fbb-b643-4110-9979-c173df0103a7"
      },
      "source": [
        "# visualizando a quantidade de exemplos disponíveis nos dados de teste\n",
        "test_df['finding_labels'].value_counts()"
      ],
      "id": "Tmr4M8tgM630",
      "execution_count": 29,
      "outputs": [
        {
          "output_type": "execute_result",
          "data": {
            "text/plain": [
              "no     669\n",
              "yes    149\n",
              "Name: finding_labels, dtype: int64"
            ]
          },
          "metadata": {
            "tags": []
          },
          "execution_count": 29
        }
      ]
    },
    {
      "cell_type": "code",
      "metadata": {
        "id": "requested-pakistan",
        "colab": {
          "base_uri": "https://localhost:8080/"
        },
        "outputId": "30550c5c-b1a2-4dbc-c156-97cc6149d9b9"
      },
      "source": [
        "# normalizando as imagens de treinamento e aplicando aumento de dados\n",
        "image_generator = ImageDataGenerator(preprocessing_function = segmentation)\n",
        "\n",
        "# criando o gerador de imagens de treinamento \n",
        "train_generator = image_generator.flow_from_dataframe(\n",
        "                                                      dataframe = train_df,\n",
        "                                                      directory = '',\n",
        "                                                      x_col = 'image_path',\n",
        "                                                      y_col = 'finding_labels',\n",
        "                                                      batch_size = 32,\n",
        "                                                      seed = 42,\n",
        "                                                      shuffle = True,\n",
        "                                                      class_mode = 'categorical',\n",
        "                                                      target_size = (512, 512))\n",
        "# criando o gerador de imagens de validação \n",
        "valid_generator = image_generator.flow_from_dataframe(\n",
        "                                                      dataframe = validation_df,\n",
        "                                                      directory = '.', \n",
        "                                                      x_col = 'image_path',\n",
        "                                                      y_col = 'finding_labels',\n",
        "                                                      batch_size = 32,\n",
        "                                                      seed = 42,\n",
        "                                                      shuffle = True,\n",
        "                                                      class_mode = 'categorical',\n",
        "                                                      target_size = (512, 512))\n",
        "\n",
        "# normalizando as imagens de teste \n",
        "test_datagen = ImageDataGenerator(preprocessing_function = segmentation)\n",
        "\n",
        "test_generator = test_datagen.flow_from_dataframe(\n",
        "                                                  dataframe = test_df, \n",
        "                                                  directory = '.',\n",
        "                                                  x_col = 'image_path',\n",
        "                                                  y_col = 'finding_labels',\n",
        "                                                  batch_size = 32,\n",
        "                                                  seed = 42,\n",
        "                                                  shuffle = True,\n",
        "                                                  class_mode = 'categorical',\n",
        "                                                  target_size = (512, 512))"
      ],
      "id": "requested-pakistan",
      "execution_count": 30,
      "outputs": [
        {
          "output_type": "stream",
          "text": [
            "Found 2616 validated image filenames belonging to 2 classes.\n",
            "Found 654 validated image filenames belonging to 2 classes.\n",
            "Found 818 validated image filenames belonging to 2 classes.\n"
          ],
          "name": "stdout"
        }
      ]
    },
    {
      "cell_type": "code",
      "metadata": {
        "id": "XEybnwZ7xNYB",
        "colab": {
          "base_uri": "https://localhost:8080/"
        },
        "outputId": "9b825f5c-ce87-42df-b29b-dccca7275996"
      },
      "source": [
        "# visualizando os atributos numéricos nos dados de treinamento\n",
        "train_generator.class_indices"
      ],
      "id": "XEybnwZ7xNYB",
      "execution_count": 31,
      "outputs": [
        {
          "output_type": "execute_result",
          "data": {
            "text/plain": [
              "{'no': 0, 'yes': 1}"
            ]
          },
          "metadata": {
            "tags": []
          },
          "execution_count": 31
        }
      ]
    },
    {
      "cell_type": "markdown",
      "metadata": {
        "id": "uzAUyG95WjVy"
      },
      "source": [
        "### Preparando a rede neural convolucional"
      ],
      "id": "uzAUyG95WjVy"
    },
    {
      "cell_type": "code",
      "metadata": {
        "id": "pe4WsyWLWlqo",
        "colab": {
          "base_uri": "https://localhost:8080/"
        },
        "outputId": "c6f86af1-a3e0-40e4-9283-1b7622335149"
      },
      "source": [
        "model = MobileNetV2(input_shape = (512, 512, 3), include_top = False, weights = 'imagenet', \n",
        "                    classes = 2, classifier_activation = 'softmax')\n",
        "x = tf.keras.layers.GlobalAveragePooling2D()(model.output)\n",
        "x = tf.keras.layers.Dense(units = 512, activation = 'relu')(x)\n",
        "x = tf.keras.layers.Dense(units = 216, activation = 'relu')(x)\n",
        "x = tf.keras.layers.Dropout(rate = 0.2)(x)\n",
        "x = tf.keras.layers.Dense(units = 2, activation = 'softmax')(x)\n",
        "\n",
        "model = tf.keras.models.Model(inputs = model.input, outputs = x)"
      ],
      "id": "pe4WsyWLWlqo",
      "execution_count": 32,
      "outputs": [
        {
          "output_type": "stream",
          "text": [
            "WARNING:tensorflow:`input_shape` is undefined or non-square, or `rows` is not in [96, 128, 160, 192, 224]. Weights for input shape (224, 224) will be loaded as the default.\n"
          ],
          "name": "stdout"
        },
        {
          "output_type": "stream",
          "text": [
            "WARNING:tensorflow:`input_shape` is undefined or non-square, or `rows` is not in [96, 128, 160, 192, 224]. Weights for input shape (224, 224) will be loaded as the default.\n"
          ],
          "name": "stderr"
        },
        {
          "output_type": "stream",
          "text": [
            "Downloading data from https://storage.googleapis.com/tensorflow/keras-applications/mobilenet_v2/mobilenet_v2_weights_tf_dim_ordering_tf_kernels_1.0_224_no_top.h5\n",
            "9412608/9406464 [==============================] - 0s 0us/step\n"
          ],
          "name": "stdout"
        }
      ]
    },
    {
      "cell_type": "code",
      "metadata": {
        "id": "8lu_vmNGXy1B"
      },
      "source": [
        "# definindo o caminho pelo qual os pesos serão armazenados \n",
        "filepath = \"transferlearning_weights.hdf5\"\n",
        "# callback para salvar o melhor valor dos pesos em relação ao desempenho com os dados de validação \n",
        "checkpoint = ModelCheckpoint(filepath, monitor = 'val_acc', verbose = 1, save_best_only = True, mode = 'max')"
      ],
      "id": "8lu_vmNGXy1B",
      "execution_count": 33,
      "outputs": []
    },
    {
      "cell_type": "code",
      "metadata": {
        "id": "eB-Mbi3QX3YK"
      },
      "source": [
        "# definindo um array de callbacks\n",
        "callbacks = [checkpoint]"
      ],
      "id": "eB-Mbi3QX3YK",
      "execution_count": 34,
      "outputs": []
    },
    {
      "cell_type": "code",
      "metadata": {
        "id": "INOBVe1vYR-n"
      },
      "source": [
        "# compilando a rede \n",
        "model.compile(optimizer = optimizers.RMSprop(learning_rate = 0.0001), loss = 'categorical_crossentropy', \n",
        "              metrics = ['acc'])"
      ],
      "id": "INOBVe1vYR-n",
      "execution_count": 35,
      "outputs": []
    },
    {
      "cell_type": "code",
      "metadata": {
        "id": "ECumd3GBX7wC",
        "colab": {
          "base_uri": "https://localhost:8080/"
        },
        "outputId": "2e992da7-a7df-4278-f54a-15f122a7f2c1"
      },
      "source": [
        "# treinando a rede neural convolucional\n",
        "history = model.fit_generator(train_generator, steps_per_epoch = 2616 // 32, \n",
        "                              validation_data = valid_generator, validation_steps = 654 // 32,\n",
        "                              callbacks = callbacks, epochs = 10)"
      ],
      "id": "ECumd3GBX7wC",
      "execution_count": null,
      "outputs": [
        {
          "output_type": "stream",
          "text": [
            "Epoch 1/10\n",
            "79/81 [============================>.] - ETA: 1:55 - loss: 0.5397 - acc: 0.7744"
          ],
          "name": "stdout"
        }
      ]
    }
  ]
}