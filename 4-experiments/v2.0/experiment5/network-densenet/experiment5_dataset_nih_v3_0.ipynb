{
 "cells": [
  {
   "cell_type": "markdown",
   "metadata": {
    "id": "luZGr6ualBXF"
   },
   "source": [
    "# Experimento 5\n",
    "***\n",
    "- Rede DenseNet\n",
    "- Conjunto de Dados NIH\n",
    "- Analisando o treinamento da rede com multiclassificadores"
   ]
  },
  {
   "cell_type": "markdown",
   "metadata": {
    "id": "yHx0IARvlO1B"
   },
   "source": [
    "### Importação dos Pacotes"
   ]
  },
  {
   "cell_type": "code",
   "execution_count": 1,
   "metadata": {
    "id": "Sh2MRvfIk8-y"
   },
   "outputs": [],
   "source": [
    "from sklearn.model_selection import train_test_split\n",
    "from keras.preprocessing.image import ImageDataGenerator\n",
    "from sklearn.metrics import confusion_matrix, precision_recall_fscore_support, accuracy_score\n",
    "import matplotlib.pyplot as plt\n",
    "import numpy as np\n",
    "import pandas as pd\n",
    "\n",
    "import tensorflow as tf\n",
    "from tensorflow.keras import layers\n",
    "from tensorflow.keras import Model\n",
    "from keras.applications.densenet import DenseNet121\n",
    "from tensorflow.keras import optimizers\n",
    "from tensorflow.keras.callbacks import ModelCheckpoint\n",
    "import tensorflow as tf\n",
    "\n",
    "import warnings\n",
    "warnings.filterwarnings(\"ignore\")"
   ]
  },
  {
   "cell_type": "markdown",
   "metadata": {
    "id": "vz6v6BnzC_8n"
   },
   "source": [
    "### Importação dos dados\n",
    "***\n",
    "- Todo o dataset foi pré-processado anteriormente"
   ]
  },
  {
   "cell_type": "code",
   "execution_count": 2,
   "metadata": {
    "id": "9ka98ZB7lWCQ"
   },
   "outputs": [],
   "source": [
    "# importando os dataframes dos dados de treinamento, validação e teste\n",
    "train_df = pd.read_csv('/content/drive/MyDrive/train_df.csv', sep = ',', index_col=  0)\n",
    "validation_df = pd.read_csv('/content/drive/MyDrive/validation_df.csv', sep = ',', index_col=  0)\n",
    "test_df = pd.read_csv('/content/drive/MyDrive/test_df.csv' , sep = ',', index_col=  0)"
   ]
  },
  {
   "cell_type": "code",
   "execution_count": 3,
   "metadata": {
    "id": "rHLcRLm55gyO"
   },
   "outputs": [],
   "source": [
    "# tornando as classes na coluna 'labels' categórica\n",
    "train_df.loc[train_df.labels == 1, 'labels'] = 'abnormal'\n",
    "train_df.loc[train_df.labels == 0, 'labels'] = 'normal'\n",
    "\n",
    "validation_df.loc[validation_df.labels == 1, 'labels'] = 'abnormal'\n",
    "validation_df.loc[validation_df.labels == 0, 'labels'] = 'normal'\n",
    "\n",
    "test_df.loc[test_df.labels == 1, 'labels'] = 'abnormal'\n",
    "test_df.loc[test_df.labels == 0, 'labels'] = 'normal'"
   ]
  },
  {
   "cell_type": "code",
   "execution_count": 4,
   "metadata": {
    "colab": {
     "base_uri": "https://localhost:8080/",
     "height": 204
    },
    "id": "g1HO3ajAl1mf",
    "outputId": "964923b5-c420-4583-a200-77aa7c630409"
   },
   "outputs": [
    {
     "data": {
      "text/html": [
       "<div>\n",
       "<style scoped>\n",
       "    .dataframe tbody tr th:only-of-type {\n",
       "        vertical-align: middle;\n",
       "    }\n",
       "\n",
       "    .dataframe tbody tr th {\n",
       "        vertical-align: top;\n",
       "    }\n",
       "\n",
       "    .dataframe thead th {\n",
       "        text-align: right;\n",
       "    }\n",
       "</style>\n",
       "<table border=\"1\" class=\"dataframe\">\n",
       "  <thead>\n",
       "    <tr style=\"text-align: right;\">\n",
       "      <th></th>\n",
       "      <th>Image Index</th>\n",
       "      <th>finding_labels</th>\n",
       "      <th>labels</th>\n",
       "    </tr>\n",
       "  </thead>\n",
       "  <tbody>\n",
       "    <tr>\n",
       "      <th>87745</th>\n",
       "      <td>/content/drive/MyDrive/images-nih1/images/0000...</td>\n",
       "      <td>Consolidation</td>\n",
       "      <td>abnormal</td>\n",
       "    </tr>\n",
       "    <tr>\n",
       "      <th>82970</th>\n",
       "      <td>/content/drive/MyDrive/images-nih1/images/0000...</td>\n",
       "      <td>No Finding</td>\n",
       "      <td>normal</td>\n",
       "    </tr>\n",
       "    <tr>\n",
       "      <th>51704</th>\n",
       "      <td>/content/drive/MyDrive/images-nih3/images/0001...</td>\n",
       "      <td>No Finding</td>\n",
       "      <td>normal</td>\n",
       "    </tr>\n",
       "    <tr>\n",
       "      <th>38340</th>\n",
       "      <td>/content/drive/MyDrive/images-nih3/images/0001...</td>\n",
       "      <td>No Finding</td>\n",
       "      <td>normal</td>\n",
       "    </tr>\n",
       "    <tr>\n",
       "      <th>71153</th>\n",
       "      <td>/content/drive/MyDrive/images-nih4/images/0002...</td>\n",
       "      <td>Infiltration</td>\n",
       "      <td>abnormal</td>\n",
       "    </tr>\n",
       "  </tbody>\n",
       "</table>\n",
       "</div>"
      ],
      "text/plain": [
       "                                             Image Index  ...    labels\n",
       "87745  /content/drive/MyDrive/images-nih1/images/0000...  ...  abnormal\n",
       "82970  /content/drive/MyDrive/images-nih1/images/0000...  ...    normal\n",
       "51704  /content/drive/MyDrive/images-nih3/images/0001...  ...    normal\n",
       "38340  /content/drive/MyDrive/images-nih3/images/0001...  ...    normal\n",
       "71153  /content/drive/MyDrive/images-nih4/images/0002...  ...  abnormal\n",
       "\n",
       "[5 rows x 3 columns]"
      ]
     },
     "execution_count": 4,
     "metadata": {
      "tags": []
     },
     "output_type": "execute_result"
    }
   ],
   "source": [
    "# visualizando como é a organização do dataframe pré-processado\n",
    "train_df.head()"
   ]
  },
  {
   "cell_type": "code",
   "execution_count": 5,
   "metadata": {
    "colab": {
     "base_uri": "https://localhost:8080/"
    },
    "id": "1iFNiqinl4G2",
    "outputId": "210bca78-026d-45f4-c5cf-66f1c3c5d0cd"
   },
   "outputs": [
    {
     "data": {
      "text/plain": [
       "No Finding            55622\n",
       "Infiltration           8770\n",
       "Atelectasis            3902\n",
       "Effusion               3645\n",
       "Nodule                 2497\n",
       "Pneumothorax           2024\n",
       "Consolidation          1224\n",
       "Pleural_Thickening     1028\n",
       "Emphysema               818\n",
       "Fibrosis                671\n",
       "Edema                   578\n",
       "Pneumonia               295\n",
       "Name: finding_labels, dtype: int64"
      ]
     },
     "execution_count": 5,
     "metadata": {
      "tags": []
     },
     "output_type": "execute_result"
    }
   ],
   "source": [
    "# visualizando a quantidade de imagens disponíveis por classe\n",
    "train_df['finding_labels'].value_counts()"
   ]
  },
  {
   "cell_type": "code",
   "execution_count": 6,
   "metadata": {
    "id": "VHdRfDhUsfgz"
   },
   "outputs": [],
   "source": [
    "# organizando o balanceamento das classes\n",
    "total_train_examples = 55622 + 8770 + 3902 + 3645 + 2497 + 2024 + 1224 + 1028 + 818 + 671 + 578 + 295\n",
    "class_weight = {0: total_train_examples / 3902,\n",
    "                1: total_train_examples / 1224,\n",
    "                2: total_train_examples / 578,\n",
    "                3: total_train_examples / 3645,\n",
    "                4: total_train_examples / 818,\n",
    "                5: total_train_examples / 671,\n",
    "                6: total_train_examples / 8770,\n",
    "                7: total_train_examples / 55622,\n",
    "                8: total_train_examples / 2497,\n",
    "                9: total_train_examples / 1028,\n",
    "                10: total_train_examples / 295,\n",
    "                11: total_train_examples / 2024}"
   ]
  },
  {
   "cell_type": "code",
   "execution_count": 7,
   "metadata": {
    "colab": {
     "base_uri": "https://localhost:8080/"
    },
    "id": "WsfuAOIrl4vX",
    "outputId": "29a44be0-80fe-4abb-99fb-7613f224197b"
   },
   "outputs": [
    {
     "name": "stdout",
     "output_type": "stream",
     "text": [
      "Found 81074 validated image filenames belonging to 12 classes.\n",
      "Found 4268 validated image filenames belonging to 12 classes.\n",
      "Found 2640 validated image filenames belonging to 12 classes.\n"
     ]
    }
   ],
   "source": [
    "# normalizando as imagens de treinamento e aplicando aumento de dados\n",
    "image_generator = ImageDataGenerator(rescale = 1./255., rotation_range = 10, zoom_range = 0.2)\n",
    "\n",
    "# criando o gerador de imagens de treinamento \n",
    "train_generator = image_generator.flow_from_dataframe(\n",
    "                                                      dataframe = train_df,\n",
    "                                                      x_col = 'Image Index',\n",
    "                                                      y_col = 'finding_labels',\n",
    "                                                      batch_size = 256,\n",
    "                                                      seed = 42,\n",
    "                                                      shuffle = True,\n",
    "                                                      class_mode = 'categorical',\n",
    "                                                      color_mode = 'rgb',\n",
    "                                                      target_size = (256, 256))\n",
    "\n",
    "# normalizando as imagens de teste \n",
    "test_datagen = ImageDataGenerator(rescale = 1./255.)\n",
    "\n",
    "# criando o gerador de imagens de validação \n",
    "valid_generator = test_datagen.flow_from_dataframe(\n",
    "                                                    dataframe = validation_df,\n",
    "                                                    x_col = 'Image Index',\n",
    "                                                    y_col = 'finding_labels',\n",
    "                                                    batch_size = 128,\n",
    "                                                    seed = 42,\n",
    "                                                    shuffle = True,\n",
    "                                                    class_mode = 'categorical',\n",
    "                                                    target_size = (256, 256))\n",
    "\n",
    "test_generator = test_datagen.flow_from_dataframe(\n",
    "                                                  dataframe = test_df, \n",
    "                                                  x_col = 'Image Index',\n",
    "                                                  y_col = 'finding_labels',\n",
    "                                                  batch_size = 128,\n",
    "                                                  seed = 42,\n",
    "                                                  shuffle = True,\n",
    "                                                  class_mode = 'categorical',\n",
    "                                                  target_size = (256, 256))"
   ]
  },
  {
   "cell_type": "code",
   "execution_count": 8,
   "metadata": {
    "colab": {
     "base_uri": "https://localhost:8080/"
    },
    "id": "34NNyYGR97Cr",
    "outputId": "f4a6fda8-f608-4f15-c118-743457213329"
   },
   "outputs": [
    {
     "data": {
      "text/plain": [
       "{'Atelectasis': 0,\n",
       " 'Consolidation': 1,\n",
       " 'Edema': 2,\n",
       " 'Effusion': 3,\n",
       " 'Emphysema': 4,\n",
       " 'Fibrosis': 5,\n",
       " 'Infiltration': 6,\n",
       " 'No Finding': 7,\n",
       " 'Nodule': 8,\n",
       " 'Pleural_Thickening': 9,\n",
       " 'Pneumonia': 10,\n",
       " 'Pneumothorax': 11}"
      ]
     },
     "execution_count": 8,
     "metadata": {
      "tags": []
     },
     "output_type": "execute_result"
    }
   ],
   "source": [
    "# visualizando a ordem numérica das classes nos dados de treinamento \n",
    "train_generator.class_indices"
   ]
  },
  {
   "cell_type": "markdown",
   "metadata": {
    "id": "GOstO1Y5l9rr"
   },
   "source": [
    "### Preparando a rede neural convolucional"
   ]
  },
  {
   "cell_type": "code",
   "execution_count": 9,
   "metadata": {
    "id": "6IZSxdnHl7n2"
   },
   "outputs": [],
   "source": [
    "base_model = DenseNet121(input_shape = (256, 256, 3), weights = 'imagenet', include_top = False)\n",
    "\n",
    "# pegando a última camada da DenseNet\n",
    "x = base_model.output\n",
    "# adicionando uma camada de Global Average Pooling\n",
    "x = layers.GlobalAveragePooling2D()(x)\n",
    "# adicionando uma camada densa com 512 neurônios\n",
    "x = layers.Dense(units = 512, activation = tf.nn.relu)(x)     \n",
    "# conecatando a rede uma camada com 128 neurônios e função de ativação relu\n",
    "x = layers.Dense(units = 256, activation = tf.nn.relu)(x) \n",
    "# aplicando uma camada de dropout com uma taxa de 20% (normalização)\n",
    "x = layers.Dropout(rate = 0.2)(x)             \n",
    "# adicionando a camada de saída da rede \n",
    "predictions = layers.Dense(units = 12, activation = tf.nn.softmax)(x)\n",
    "\n",
    "# concatenando a rede importada com a rede definida (ajuste fino)\n",
    "model = Model(inputs=base_model.input, outputs=predictions)"
   ]
  },
  {
   "cell_type": "code",
   "execution_count": 10,
   "metadata": {
    "id": "NuWfLqf8mIGC"
   },
   "outputs": [],
   "source": [
    "# definindo as flags iniciais  \n",
    "model.trainable = True\n",
    "set_trainable = False\n",
    "\n",
    "# para a arquitetura DenseNet, a rede será retreinada a partir da camada 'conv5_block1_1_conv'\n",
    "for layer in model.layers:\n",
    "    if layer.name == 'conv5_block1_1_conv':\n",
    "        set_trainable = True\n",
    "    if set_trainable:\n",
    "        layer.trainable = True\n",
    "    else:\n",
    "        layer.trainable = False"
   ]
  },
  {
   "cell_type": "code",
   "execution_count": 11,
   "metadata": {
    "id": "jdm4aeQYmKEe"
   },
   "outputs": [],
   "source": [
    "# compilando a rede \n",
    "model.compile(optimizer = optimizers.RMSprop(learning_rate = 0.0001), loss = 'categorical_crossentropy', \n",
    "              metrics = ['acc'])"
   ]
  },
  {
   "cell_type": "code",
   "execution_count": 12,
   "metadata": {
    "id": "vJfN3R9NmMi4"
   },
   "outputs": [],
   "source": [
    "# definindo o caminho pelo qual os pesos serão armazenados \n",
    "filepath = \"/content/drive/MyDrive/weights-nih/densenet/transferlearning_weights_v3.0.hdf5\"\n",
    "# callback para salvar o melhor valor dos pesos em relação ao desempenho com os dados de validação \n",
    "checkpoint = ModelCheckpoint(filepath, monitor = 'val_acc', verbose = 1, save_best_only = True, \n",
    "                             mode = 'max')"
   ]
  },
  {
   "cell_type": "code",
   "execution_count": 13,
   "metadata": {
    "id": "mz_9cT0rmYEI"
   },
   "outputs": [],
   "source": [
    "# definindo um array de callbacks\n",
    "callbacks = [checkpoint]"
   ]
  },
  {
   "cell_type": "code",
   "execution_count": null,
   "metadata": {
    "colab": {
     "base_uri": "https://localhost:8080/"
    },
    "id": "JMXNpIAUmZrn",
    "outputId": "a547cddc-85df-4260-9e84-ed4418aa82e3"
   },
   "outputs": [
    {
     "name": "stdout",
     "output_type": "stream",
     "text": [
      "Epoch 1/10\n",
      "WARNING:tensorflow:multiprocessing can interact badly with TensorFlow, causing nondeterministic deadlocks. For high performance data pipelines tf.data is recommended.\n",
      "210/316 [==================>...........] - ETA: 24:19 - loss: 28.7983 - acc: 0.1161"
     ]
    }
   ],
   "source": [
    "# treinando a rede neural convolucional\n",
    "history = model.fit_generator(train_generator, steps_per_epoch = 81072 // 256, \n",
    "                              validation_data = valid_generator, validation_steps = 4268 // 128,\n",
    "                              callbacks = callbacks, epochs = 10, class_weight = class_weight,\n",
    "                              use_multiprocessing = True, workers = 8)"
   ]
  }
 ],
 "metadata": {
  "accelerator": "GPU",
  "colab": {
   "authorship_tag": "ABX9TyO+uFJyLX6GcrHPwQIth6cs",
   "machine_shape": "hm",
   "name": "experiment5-dataset-nih-v3.0.ipynb",
   "provenance": [],
   "toc_visible": true
  },
  "kernelspec": {
   "display_name": "Python 3",
   "language": "python",
   "name": "python3"
  },
  "language_info": {
   "codemirror_mode": {
    "name": "ipython",
    "version": 3
   },
   "file_extension": ".py",
   "mimetype": "text/x-python",
   "name": "python",
   "nbconvert_exporter": "python",
   "pygments_lexer": "ipython3",
   "version": "3.8.7"
  }
 },
 "nbformat": 4,
 "nbformat_minor": 4
}
