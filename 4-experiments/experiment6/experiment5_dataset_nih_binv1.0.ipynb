{
  "nbformat": 4,
  "nbformat_minor": 0,
  "metadata": {
    "accelerator": "GPU",
    "colab": {
      "name": "experiment5_dataset_nih.ipynb",
      "provenance": [],
      "collapsed_sections": [],
      "toc_visible": true,
      "machine_shape": "hm",
      "include_colab_link": true
    },
    "kernelspec": {
      "display_name": "Python 3",
      "name": "python3"
    },
    "language_info": {
      "name": "python"
    }
  },
  "cells": [
    {
      "cell_type": "markdown",
      "metadata": {
        "id": "view-in-github",
        "colab_type": "text"
      },
      "source": [
        "<a href=\"https://colab.research.google.com/github/Alyssonmach/cnn-lung-diseases/blob/main/4-experiments/experiment6/experiment5_dataset_nih_binv1.0.ipynb\" target=\"_parent\"><img src=\"https://colab.research.google.com/assets/colab-badge.svg\" alt=\"Open In Colab\"/></a>"
      ]
    },
    {
      "cell_type": "markdown",
      "metadata": {
        "id": "lltg8Aim2eBk"
      },
      "source": [
        "# Experimento 5\n",
        "***\n",
        "- Rede Inception\n",
        "- Conjunto de Dados: NIH\n",
        "- Analisando o treinamento de uma rede com multiclassificadores"
      ]
    },
    {
      "cell_type": "markdown",
      "metadata": {
        "id": "oGc_sJwE2v7L"
      },
      "source": [
        "### Importação dos pacotes"
      ]
    },
    {
      "cell_type": "code",
      "metadata": {
        "id": "2VNdgNJh2nu_"
      },
      "source": [
        "import pandas as pd\n",
        "from sklearn.model_selection import train_test_split\n",
        "from sklearn.utils import class_weight\n",
        "from keras.preprocessing.image import ImageDataGenerator\n",
        "from sklearn.metrics import confusion_matrix, precision_recall_fscore_support, accuracy_score\n",
        "import matplotlib.pyplot as plt\n",
        "import numpy as np\n",
        "\n",
        "import tensorflow as tf\n",
        "from tensorflow.keras import layers\n",
        "from tensorflow.keras import Model\n",
        "from tensorflow.keras.applications.inception_v3 import InceptionV3\n",
        "from tensorflow.keras import optimizers\n",
        "from tensorflow.keras.callbacks import ModelCheckpoint\n",
        "import tensorflow as tf\n",
        "\n",
        "import warnings\n",
        "warnings.filterwarnings(\"ignore\")"
      ],
      "execution_count": null,
      "outputs": []
    },
    {
      "cell_type": "markdown",
      "metadata": {
        "id": "OBlFN3uN250P"
      },
      "source": [
        "### Importação dos dados\n",
        "***\n",
        "- Todo o dataset foi pré-processado anteriormente"
      ]
    },
    {
      "cell_type": "code",
      "metadata": {
        "id": "J8L6EUve227_"
      },
      "source": [
        "# importando os dataframes dos dados de treinamento, validação e teste\n",
        "train_df = pd.read_csv('/content/drive/MyDrive/train_df.csv', sep = ',', index_col=  0)\n",
        "validation_df = pd.read_csv('/content/drive/MyDrive/validation_df.csv', sep = ',', index_col=  0)\n",
        "test_df = pd.read_csv('/content/drive/MyDrive/test_df.csv' , sep = ',', index_col=  0)"
      ],
      "execution_count": null,
      "outputs": []
    },
    {
      "cell_type": "code",
      "metadata": {
        "id": "IqKuqHF4DUa1"
      },
      "source": [
        "# tornando as classes na coluna 'labels' categórica\n",
        "train_df.loc[train_df.labels == 1, 'labels'] = 'abnormal'\n",
        "train_df.loc[train_df.labels == 0, 'labels'] = 'normal'\n",
        "\n",
        "validation_df.loc[validation_df.labels == 1, 'labels'] = 'abnormal'\n",
        "validation_df.loc[validation_df.labels == 0, 'labels'] = 'normal'\n",
        "\n",
        "test_df.loc[test_df.labels == 1, 'labels'] = 'abnormal'\n",
        "test_df.loc[test_df.labels == 0, 'labels'] = 'normal'"
      ],
      "execution_count": null,
      "outputs": []
    },
    {
      "cell_type": "code",
      "metadata": {
        "id": "VK3FCgkiiRer"
      },
      "source": [
        "# ajustando a quantidade de exemplos nos dados de treinamento relativo a radiográficas normais\n",
        "train_normal_cases = train_df[train_df.labels == 'normal']\n",
        "train_abnormal_cases = train_df[train_df.labels == 'abnormal']\n",
        "train_normal_cases, _ = train_test_split(train_normal_cases, test_size = 0.5, random_state = 42)\n",
        "train = np.concatenate((train_normal_cases, train_abnormal_cases))\n",
        "train_df = pd.DataFrame(train, columns = ['Image Index', 'finding_labels', 'labels'])"
      ],
      "execution_count": null,
      "outputs": []
    },
    {
      "cell_type": "code",
      "metadata": {
        "colab": {
          "base_uri": "https://localhost:8080/",
          "height": 204
        },
        "id": "a9uNHRrS4Uin",
        "outputId": "8b95fc90-e129-40d0-b2a2-4186ddc435c4"
      },
      "source": [
        "# visualizando como é a organização do dataframe pré-processado\n",
        "train_df.head()"
      ],
      "execution_count": null,
      "outputs": [
        {
          "output_type": "execute_result",
          "data": {
            "text/html": [
              "<div>\n",
              "<style scoped>\n",
              "    .dataframe tbody tr th:only-of-type {\n",
              "        vertical-align: middle;\n",
              "    }\n",
              "\n",
              "    .dataframe tbody tr th {\n",
              "        vertical-align: top;\n",
              "    }\n",
              "\n",
              "    .dataframe thead th {\n",
              "        text-align: right;\n",
              "    }\n",
              "</style>\n",
              "<table border=\"1\" class=\"dataframe\">\n",
              "  <thead>\n",
              "    <tr style=\"text-align: right;\">\n",
              "      <th></th>\n",
              "      <th>Image Index</th>\n",
              "      <th>finding_labels</th>\n",
              "      <th>labels</th>\n",
              "    </tr>\n",
              "  </thead>\n",
              "  <tbody>\n",
              "    <tr>\n",
              "      <th>0</th>\n",
              "      <td>/content/drive/MyDrive/images-nih4/images/0002...</td>\n",
              "      <td>No Finding</td>\n",
              "      <td>normal</td>\n",
              "    </tr>\n",
              "    <tr>\n",
              "      <th>1</th>\n",
              "      <td>/content/drive/MyDrive/images-nih3/images/0001...</td>\n",
              "      <td>No Finding</td>\n",
              "      <td>normal</td>\n",
              "    </tr>\n",
              "    <tr>\n",
              "      <th>2</th>\n",
              "      <td>/content/drive/MyDrive/images-nih2/images/0000...</td>\n",
              "      <td>No Finding</td>\n",
              "      <td>normal</td>\n",
              "    </tr>\n",
              "    <tr>\n",
              "      <th>3</th>\n",
              "      <td>/content/drive/MyDrive/images-nih2/images/0000...</td>\n",
              "      <td>No Finding</td>\n",
              "      <td>normal</td>\n",
              "    </tr>\n",
              "    <tr>\n",
              "      <th>4</th>\n",
              "      <td>/content/drive/MyDrive/images-nih2/images/0001...</td>\n",
              "      <td>No Finding</td>\n",
              "      <td>normal</td>\n",
              "    </tr>\n",
              "  </tbody>\n",
              "</table>\n",
              "</div>"
            ],
            "text/plain": [
              "                                         Image Index finding_labels  labels\n",
              "0  /content/drive/MyDrive/images-nih4/images/0002...     No Finding  normal\n",
              "1  /content/drive/MyDrive/images-nih3/images/0001...     No Finding  normal\n",
              "2  /content/drive/MyDrive/images-nih2/images/0000...     No Finding  normal\n",
              "3  /content/drive/MyDrive/images-nih2/images/0000...     No Finding  normal\n",
              "4  /content/drive/MyDrive/images-nih2/images/0001...     No Finding  normal"
            ]
          },
          "metadata": {
            "tags": []
          },
          "execution_count": 7
        }
      ]
    },
    {
      "cell_type": "code",
      "metadata": {
        "colab": {
          "base_uri": "https://localhost:8080/"
        },
        "id": "9QGd53xcdiiY",
        "outputId": "4113ab5a-d3a5-4742-cd03-e741e7f3d533"
      },
      "source": [
        "# visualizando a quantidade de imagens disponíveis por classe\n",
        "train_df['labels'].value_counts()"
      ],
      "execution_count": null,
      "outputs": [
        {
          "output_type": "execute_result",
          "data": {
            "text/plain": [
              "normal      27811\n",
              "abnormal    25452\n",
              "Name: labels, dtype: int64"
            ]
          },
          "metadata": {
            "tags": []
          },
          "execution_count": 8
        }
      ]
    },
    {
      "cell_type": "code",
      "metadata": {
        "id": "nIdbGooef88-"
      },
      "source": [
        "# organizando um dicionário para realizar o balanceamento nos dados das classes\n",
        "class_weights = class_weight.compute_class_weight('balanced', np.unique(train_df['labels']),\n",
        "                                                  train_df['labels'])\n",
        "class_weight = {0: class_weights[0], 1: class_weights[1]}"
      ],
      "execution_count": null,
      "outputs": []
    },
    {
      "cell_type": "code",
      "metadata": {
        "colab": {
          "background_save": true
        },
        "id": "Nikcd9Fj4tpv",
        "outputId": "eab5b35f-1e62-4f18-ba6b-40e656c24900"
      },
      "source": [
        "# normalizando as imagens de treinamento e aplicando aumento de dados\n",
        "image_generator = ImageDataGenerator(rescale = 1./255., rotation_range = 10, zoom_range = 0.2)\n",
        "\n",
        "# criando o gerador de imagens de treinamento \n",
        "train_generator = image_generator.flow_from_dataframe(\n",
        "                                                      dataframe = train_df,\n",
        "                                                      x_col = 'Image Index',\n",
        "                                                      y_col = 'labels',\n",
        "                                                      batch_size = 256,\n",
        "                                                      seed = 42,\n",
        "                                                      shuffle = True,\n",
        "                                                      class_mode = 'categorical',\n",
        "                                                      color_mode = 'rgb',\n",
        "                                                      target_size = (256, 256))\n",
        "\n",
        "# normalizando as imagens de teste \n",
        "test_datagen = ImageDataGenerator(rescale = 1./255.)\n",
        "\n",
        "# criando o gerador de imagens de validação \n",
        "valid_generator = test_datagen.flow_from_dataframe(\n",
        "                                                    dataframe = validation_df,\n",
        "                                                    x_col = 'Image Index',\n",
        "                                                    y_col = 'labels',\n",
        "                                                    batch_size = 128,\n",
        "                                                    seed = 42,\n",
        "                                                    shuffle = True,\n",
        "                                                    class_mode = 'categorical',\n",
        "                                                    target_size = (256, 256))\n",
        "\n",
        "test_generator = test_datagen.flow_from_dataframe(\n",
        "                                                  dataframe = test_df, \n",
        "                                                  x_col = 'Image Index',\n",
        "                                                  y_col = 'labels',\n",
        "                                                  batch_size = 128,\n",
        "                                                  seed = 42,\n",
        "                                                  shuffle = True,\n",
        "                                                  class_mode = 'categorical',\n",
        "                                                  target_size = (256, 256))"
      ],
      "execution_count": null,
      "outputs": [
        {
          "output_type": "stream",
          "text": [
            "Found 53259 validated image filenames belonging to 2 classes.\n",
            "Found 4268 validated image filenames belonging to 2 classes.\n",
            "Found 2640 validated image filenames belonging to 2 classes.\n"
          ],
          "name": "stdout"
        }
      ]
    },
    {
      "cell_type": "code",
      "metadata": {
        "colab": {
          "background_save": true
        },
        "id": "s37H75lFDbZ_",
        "outputId": "34b12aa2-3f60-4ac1-bc91-8a996fec1857"
      },
      "source": [
        "# visualizando a ordem numérica das classes nos dados de treinamento\n",
        "train_generator.class_indices"
      ],
      "execution_count": null,
      "outputs": [
        {
          "output_type": "execute_result",
          "data": {
            "text/plain": [
              "{'abnormal': 0, 'normal': 1}"
            ]
          },
          "metadata": {
            "tags": []
          },
          "execution_count": 0
        }
      ]
    },
    {
      "cell_type": "markdown",
      "metadata": {
        "id": "hy6pLh4c5Gk4"
      },
      "source": [
        "### Preparando a rede neural convolucional "
      ]
    },
    {
      "cell_type": "code",
      "metadata": {
        "colab": {
          "background_save": true
        },
        "id": "Tp0U2-Ut5Xvq",
        "outputId": "77fbb693-4e90-49c1-d9e6-887f26f0b9dd"
      },
      "source": [
        "# baixando os pesos treinados da rede inception\n",
        "!wget --no-check-certificate \\\n",
        "    https://storage.googleapis.com/mledu-datasets/inception_v3_weights_tf_dim_ordering_tf_kernels_notop.h5 \\\n",
        "    -O /tmp/inception_v3_weights_tf_dim_ordering_tf_kernels_notop.h5"
      ],
      "execution_count": null,
      "outputs": [
        {
          "output_type": "stream",
          "text": [
            "--2021-04-14 00:15:28--  https://storage.googleapis.com/mledu-datasets/inception_v3_weights_tf_dim_ordering_tf_kernels_notop.h5\n",
            "Resolving storage.googleapis.com (storage.googleapis.com)... 74.125.195.128, 74.125.20.128, 74.125.142.128, ...\n",
            "Connecting to storage.googleapis.com (storage.googleapis.com)|74.125.195.128|:443... connected.\n",
            "HTTP request sent, awaiting response... 200 OK\n",
            "Length: 87910968 (84M) [application/x-hdf]\n",
            "Saving to: ‘/tmp/inception_v3_weights_tf_dim_ordering_tf_kernels_notop.h5’\n",
            "\n",
            "/tmp/inception_v3_w 100%[===================>]  83.84M   189MB/s    in 0.4s    \n",
            "\n",
            "2021-04-14 00:15:29 (189 MB/s) - ‘/tmp/inception_v3_weights_tf_dim_ordering_tf_kernels_notop.h5’ saved [87910968/87910968]\n",
            "\n"
          ],
          "name": "stdout"
        }
      ]
    },
    {
      "cell_type": "code",
      "metadata": {
        "colab": {
          "background_save": true
        },
        "id": "ZxH8IPA15bIi"
      },
      "source": [
        "# referenciando o local em que os pesos estão armazenados\n",
        "local_weights_file = '/tmp/inception_v3_weights_tf_dim_ordering_tf_kernels_notop.h5'\n",
        "\n",
        "# carregando a arquitetura inception pré-treinada\n",
        "pre_trained_model = InceptionV3(input_shape = (256, 256, 3), include_top = False, weights = None)\n",
        "\n",
        "# carregando os pesos treinados com outros dados \n",
        "pre_trained_model.load_weights(local_weights_file)\n",
        "\n",
        "# definindo as flags iniciais  \n",
        "pre_trained_model.trainable = True\n",
        "set_trainable = False\n",
        "\n",
        "# para a arquitetura inception, a rede será retreinada a partir da camada 'mixed6'\n",
        "for layer in pre_trained_model.layers:\n",
        "    if layer.name == 'mixed6':\n",
        "        set_trainable = True\n",
        "    if set_trainable:\n",
        "        layer.trainable = True\n",
        "    else:\n",
        "        layer.trainable = False\n",
        "\n",
        "# obtendo a última camada como sendo a nomeada por 'mixed7'\n",
        "last_layer = pre_trained_model.get_layer('mixed7')\n",
        "last_output = last_layer.output"
      ],
      "execution_count": null,
      "outputs": []
    },
    {
      "cell_type": "code",
      "metadata": {
        "id": "gXwzaXiT58Oi"
      },
      "source": [
        "# definindo uma camada de achatamento\n",
        "x = layers.Flatten()(last_output)\n",
        "# conecatando a rede uma camada com 1024 neurônios e função de ativação relu\n",
        "x = layers.Dense(units = 1024, activation = tf.nn.relu)(x)     \n",
        "# conecatando a rede uma camada com 128 neurônios e função de ativação relu\n",
        "x = layers.Dense(units = 512, activation = tf.nn.relu)(x) \n",
        "# aplicando uma camada de dropout com uma taxa de 20% (normalização)\n",
        "x = layers.Dropout(rate = 0.2)(x)                 \n",
        "# adicionando uma camada de saída com um neurônio e uma função de ativação sigmoide\n",
        "x = layers.Dense  (units = 2, activation = tf.nn.softmax)(x)           \n",
        "\n",
        "# conecatando as camadas definidas acima com a arquitetura inception\n",
        "model = Model(pre_trained_model.input, x) \n",
        "\n",
        "# compilando a rede \n",
        "model.compile(optimizer = optimizers.RMSprop(learning_rate = 0.001), loss = 'categorical_crossentropy', \n",
        "              metrics = ['acc']) "
      ],
      "execution_count": 14,
      "outputs": []
    },
    {
      "cell_type": "code",
      "metadata": {
        "id": "VrMrO-fi62SW"
      },
      "source": [
        "# definindo o caminho pelo qual os pesos serão armazenados \n",
        "filepath = \"/content/drive/MyDrive/weights-nih/inception/transferlearning_weights_bin_v1.0.hdf5\"\n",
        "# callback para salvar o melhor valor dos pesos em relação ao desempenho com os dados de validação \n",
        "checkpoint = ModelCheckpoint(filepath, monitor = 'val_acc', verbose = 1, save_best_only = True, mode = 'max')"
      ],
      "execution_count": 15,
      "outputs": []
    },
    {
      "cell_type": "code",
      "metadata": {
        "id": "sbbzuySD62xG"
      },
      "source": [
        "# definindo um array de callbacks\n",
        "callbacks = [checkpoint]"
      ],
      "execution_count": 16,
      "outputs": []
    },
    {
      "cell_type": "code",
      "metadata": {
        "colab": {
          "base_uri": "https://localhost:8080/"
        },
        "id": "CwaUi23Z659p",
        "outputId": "e4b45402-1540-4003-ead8-9af9db9382fb"
      },
      "source": [
        "# treinando a rede neural convolucional\n",
        "history = model.fit_generator(train_generator, steps_per_epoch = 53263 // 256, \n",
        "                              validation_data = valid_generator, validation_steps = 4268 // 128,\n",
        "                              callbacks = callbacks, epochs = 10, class_weight = class_weight,\n",
        "                              use_multiprocessing = True, workers = 8)"
      ],
      "execution_count": 17,
      "outputs": [
        {
          "output_type": "stream",
          "text": [
            "Epoch 1/10\n",
            "WARNING:tensorflow:multiprocessing can interact badly with TensorFlow, causing nondeterministic deadlocks. For high performance data pipelines tf.data is recommended.\n",
            "208/208 [==============================] - ETA: 0s - loss: 8.1826 - acc: 0.5508 WARNING:tensorflow:multiprocessing can interact badly with TensorFlow, causing nondeterministic deadlocks. For high performance data pipelines tf.data is recommended.\n",
            "208/208 [==============================] - 3488s 16s/step - loss: 8.1542 - acc: 0.5510 - val_loss: 0.7319 - val_acc: 0.6375\n",
            "\n",
            "Epoch 00001: val_acc improved from -inf to 0.63755, saving model to /content/drive/MyDrive/weights-nih/inception/transferlearning_weights_bin_v1.0.hdf5\n",
            "Epoch 2/10\n",
            "WARNING:tensorflow:multiprocessing can interact badly with TensorFlow, causing nondeterministic deadlocks. For high performance data pipelines tf.data is recommended.\n",
            "208/208 [==============================] - ETA: 0s - loss: 0.6402 - acc: 0.6450WARNING:tensorflow:multiprocessing can interact badly with TensorFlow, causing nondeterministic deadlocks. For high performance data pipelines tf.data is recommended.\n",
            "208/208 [==============================] - 1476s 7s/step - loss: 0.6402 - acc: 0.6450 - val_loss: 0.6323 - val_acc: 0.6428\n",
            "\n",
            "Epoch 00002: val_acc improved from 0.63755 to 0.64276, saving model to /content/drive/MyDrive/weights-nih/inception/transferlearning_weights_bin_v1.0.hdf5\n",
            "Epoch 3/10\n",
            "WARNING:tensorflow:multiprocessing can interact badly with TensorFlow, causing nondeterministic deadlocks. For high performance data pipelines tf.data is recommended.\n",
            "208/208 [==============================] - ETA: 0s - loss: 0.6254 - acc: 0.6554WARNING:tensorflow:multiprocessing can interact badly with TensorFlow, causing nondeterministic deadlocks. For high performance data pipelines tf.data is recommended.\n",
            "208/208 [==============================] - 1338s 6s/step - loss: 0.6254 - acc: 0.6554 - val_loss: 0.7333 - val_acc: 0.5753\n",
            "\n",
            "Epoch 00003: val_acc did not improve from 0.64276\n",
            "Epoch 4/10\n",
            "WARNING:tensorflow:multiprocessing can interact badly with TensorFlow, causing nondeterministic deadlocks. For high performance data pipelines tf.data is recommended.\n",
            "208/208 [==============================] - ETA: 0s - loss: 0.6219 - acc: 0.6595WARNING:tensorflow:multiprocessing can interact badly with TensorFlow, causing nondeterministic deadlocks. For high performance data pipelines tf.data is recommended.\n",
            "208/208 [==============================] - 672s 3s/step - loss: 0.6219 - acc: 0.6596 - val_loss: 0.6698 - val_acc: 0.5665\n",
            "\n",
            "Epoch 00004: val_acc did not improve from 0.64276\n",
            "Epoch 5/10\n",
            "WARNING:tensorflow:multiprocessing can interact badly with TensorFlow, causing nondeterministic deadlocks. For high performance data pipelines tf.data is recommended.\n",
            "208/208 [==============================] - ETA: 0s - loss: 0.6118 - acc: 0.6680WARNING:tensorflow:multiprocessing can interact badly with TensorFlow, causing nondeterministic deadlocks. For high performance data pipelines tf.data is recommended.\n",
            "208/208 [==============================] - 650s 3s/step - loss: 0.6118 - acc: 0.6679 - val_loss: 0.6348 - val_acc: 0.6525\n",
            "\n",
            "Epoch 00005: val_acc improved from 0.64276 to 0.65246, saving model to /content/drive/MyDrive/weights-nih/inception/transferlearning_weights_bin_v1.0.hdf5\n",
            "Epoch 6/10\n",
            "WARNING:tensorflow:multiprocessing can interact badly with TensorFlow, causing nondeterministic deadlocks. For high performance data pipelines tf.data is recommended.\n",
            "208/208 [==============================] - ETA: 0s - loss: 0.6072 - acc: 0.6736WARNING:tensorflow:multiprocessing can interact badly with TensorFlow, causing nondeterministic deadlocks. For high performance data pipelines tf.data is recommended.\n",
            "208/208 [==============================] - 1297s 6s/step - loss: 0.6072 - acc: 0.6736 - val_loss: 0.6204 - val_acc: 0.6610\n",
            "\n",
            "Epoch 00006: val_acc improved from 0.65246 to 0.66098, saving model to /content/drive/MyDrive/weights-nih/inception/transferlearning_weights_bin_v1.0.hdf5\n",
            "Epoch 7/10\n",
            "WARNING:tensorflow:multiprocessing can interact badly with TensorFlow, causing nondeterministic deadlocks. For high performance data pipelines tf.data is recommended.\n",
            "208/208 [==============================] - ETA: 0s - loss: 0.5972 - acc: 0.6796WARNING:tensorflow:multiprocessing can interact badly with TensorFlow, causing nondeterministic deadlocks. For high performance data pipelines tf.data is recommended.\n",
            "208/208 [==============================] - 1355s 6s/step - loss: 0.5972 - acc: 0.6796 - val_loss: 0.6045 - val_acc: 0.6688\n",
            "\n",
            "Epoch 00007: val_acc improved from 0.66098 to 0.66880, saving model to /content/drive/MyDrive/weights-nih/inception/transferlearning_weights_bin_v1.0.hdf5\n",
            "Epoch 8/10\n",
            "WARNING:tensorflow:multiprocessing can interact badly with TensorFlow, causing nondeterministic deadlocks. For high performance data pipelines tf.data is recommended.\n",
            "208/208 [==============================] - ETA: 0s - loss: 0.5898 - acc: 0.6820WARNING:tensorflow:multiprocessing can interact badly with TensorFlow, causing nondeterministic deadlocks. For high performance data pipelines tf.data is recommended.\n",
            "208/208 [==============================] - 1295s 6s/step - loss: 0.5898 - acc: 0.6820 - val_loss: 0.6150 - val_acc: 0.6790\n",
            "\n",
            "Epoch 00008: val_acc improved from 0.66880 to 0.67898, saving model to /content/drive/MyDrive/weights-nih/inception/transferlearning_weights_bin_v1.0.hdf5\n",
            "Epoch 9/10\n",
            "WARNING:tensorflow:multiprocessing can interact badly with TensorFlow, causing nondeterministic deadlocks. For high performance data pipelines tf.data is recommended.\n",
            "208/208 [==============================] - ETA: 0s - loss: 0.5804 - acc: 0.6877WARNING:tensorflow:multiprocessing can interact badly with TensorFlow, causing nondeterministic deadlocks. For high performance data pipelines tf.data is recommended.\n",
            "208/208 [==============================] - 1449s 7s/step - loss: 0.5804 - acc: 0.6877 - val_loss: 0.7130 - val_acc: 0.6236\n",
            "\n",
            "Epoch 00009: val_acc did not improve from 0.67898\n",
            "Epoch 10/10\n",
            "WARNING:tensorflow:multiprocessing can interact badly with TensorFlow, causing nondeterministic deadlocks. For high performance data pipelines tf.data is recommended.\n",
            "208/208 [==============================] - ETA: 0s - loss: 0.5689 - acc: 0.7009WARNING:tensorflow:multiprocessing can interact badly with TensorFlow, causing nondeterministic deadlocks. For high performance data pipelines tf.data is recommended.\n",
            "208/208 [==============================] - 676s 3s/step - loss: 0.5689 - acc: 0.7009 - val_loss: 0.6013 - val_acc: 0.7022\n",
            "\n",
            "Epoch 00010: val_acc improved from 0.67898 to 0.70218, saving model to /content/drive/MyDrive/weights-nih/inception/transferlearning_weights_bin_v1.0.hdf5\n"
          ],
          "name": "stdout"
        }
      ]
    },
    {
      "cell_type": "code",
      "metadata": {
        "colab": {
          "base_uri": "https://localhost:8080/"
        },
        "id": "4rDqbuUqksHb",
        "outputId": "f24b1518-f1dd-4f78-88fe-801c849da192"
      },
      "source": [
        "model.evaluate(test_generator)"
      ],
      "execution_count": 18,
      "outputs": [
        {
          "output_type": "stream",
          "text": [
            "21/21 [==============================] - 1831s 91s/step - loss: 0.6030 - acc: 0.6920\n"
          ],
          "name": "stdout"
        },
        {
          "output_type": "execute_result",
          "data": {
            "text/plain": [
              "[0.6029810309410095, 0.6920454502105713]"
            ]
          },
          "metadata": {
            "tags": []
          },
          "execution_count": 18
        }
      ]
    },
    {
      "cell_type": "code",
      "metadata": {
        "colab": {
          "base_uri": "https://localhost:8080/"
        },
        "id": "QjQudMoWohfi",
        "outputId": "f354a117-e5e4-49a2-ee35-b6b914ff4c3f"
      },
      "source": [
        "model.save('/content/drive/MyDrive/weights-nih/inception/model_binv1.0')"
      ],
      "execution_count": 19,
      "outputs": [
        {
          "output_type": "stream",
          "text": [
            "INFO:tensorflow:Assets written to: /content/drive/MyDrive/weights-nih/inception/model_binv1.0/assets\n"
          ],
          "name": "stdout"
        }
      ]
    }
  ]
}