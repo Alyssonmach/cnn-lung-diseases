{
 "cells": [
  {
   "cell_type": "markdown",
   "id": "2462dfb7-2652-4a72-a051-06e53c5f1422",
   "metadata": {},
   "source": [
    "### Importação dos pacotes"
   ]
  },
  {
   "cell_type": "code",
   "execution_count": 1,
   "id": "a122af1a-6cc0-4aa9-9216-379a71435698",
   "metadata": {},
   "outputs": [],
   "source": [
    "import pandas as pd\n",
    "from keras.preprocessing.image import ImageDataGenerator\n",
    "from sklearn.utils import class_weight\n",
    "import numpy as np\n",
    "import tensorflow as tf"
   ]
  },
  {
   "cell_type": "markdown",
   "id": "d117af64-8e46-4036-b730-ddca335b257a",
   "metadata": {},
   "source": [
    "### Configuração dos conjuntos de dados"
   ]
  },
  {
   "cell_type": "code",
   "execution_count": 2,
   "id": "e157a027-9094-4559-bb7f-c3842686275d",
   "metadata": {},
   "outputs": [],
   "source": [
    "# configurando o caminho dos datasets \n",
    "path_train = '../2-datasets-preprocessing/dataframes/vinbigdata/train_df.csv'\n",
    "path_validation = '../2-datasets-preprocessing/dataframes/vinbigdata/validation_df.csv'\n",
    "path_test = '../2-datasets-preprocessing/dataframes/vinbigdata/test_df.csv'\n",
    "# criando objetos para armazenar os datasets com os subconjuntos de dados tratados\n",
    "train_df = pd.read_csv(path_train, sep  = ',', index_col = 0)\n",
    "validation_df = pd.read_csv(path_validation, sep = ',', index_col = 0)\n",
    "test_df = pd.read_csv(path_test, sep = ',', index_col = 0)"
   ]
  },
  {
   "cell_type": "code",
   "execution_count": 3,
   "id": "e8958d65-67b1-42b8-aa0d-9254c43ed3d3",
   "metadata": {},
   "outputs": [
    {
     "data": {
      "text/plain": [
       "No finding            2104\n",
       "Pleural thickening     566\n",
       "Pulmonary fibrosis     503\n",
       "Lung Opacity           279\n",
       "Nodule/Mass            230\n",
       "Pleural effusion       211\n",
       "Calcification          106\n",
       "Infiltration           104\n",
       "ILD                     93\n",
       "Atelectasis             27\n",
       "Pneumothorax            19\n",
       "Name: class_name, dtype: int64"
      ]
     },
     "execution_count": 3,
     "metadata": {},
     "output_type": "execute_result"
    }
   ],
   "source": [
    "# visualizando a distribuição de dados no conjunto de treinamento\n",
    "train_df['class_name'].value_counts()"
   ]
  },
  {
   "cell_type": "code",
   "execution_count": 4,
   "id": "0c42ac10-aa43-4cdd-ad6e-a28c56f4fb97",
   "metadata": {},
   "outputs": [
    {
     "data": {
      "text/plain": [
       "No finding            526\n",
       "Pleural thickening    154\n",
       "Pulmonary fibrosis    118\n",
       "Lung Opacity           68\n",
       "Nodule/Mass            53\n",
       "Pleural effusion       47\n",
       "Calcification          31\n",
       "Infiltration           29\n",
       "ILD                    27\n",
       "Atelectasis             6\n",
       "Pneumothorax            2\n",
       "Name: class_name, dtype: int64"
      ]
     },
     "execution_count": 4,
     "metadata": {},
     "output_type": "execute_result"
    }
   ],
   "source": [
    "# visualizando a distribuição de dados no conjunto de validação\n",
    "validation_df['class_name'].value_counts()"
   ]
  },
  {
   "cell_type": "code",
   "execution_count": 5,
   "id": "8ff5cf48-70f5-4757-a8e2-1f1eb0d25f39",
   "metadata": {},
   "outputs": [
    {
     "data": {
      "text/plain": [
       "No finding            657\n",
       "Pleural thickening    188\n",
       "Pulmonary fibrosis    125\n",
       "Lung Opacity          101\n",
       "Pleural effusion       74\n",
       "Nodule/Mass            64\n",
       "Infiltration           36\n",
       "ILD                    32\n",
       "Calcification          30\n",
       "Atelectasis            12\n",
       "Pneumothorax            7\n",
       "Name: class_name, dtype: int64"
      ]
     },
     "execution_count": 5,
     "metadata": {},
     "output_type": "execute_result"
    }
   ],
   "source": [
    "# visualizando a distribuição de dados no conjunto de teste\n",
    "test_df['class_name'].value_counts()"
   ]
  },
  {
   "cell_type": "code",
   "execution_count": 6,
   "id": "2785a4b0-290b-4023-8cf0-77aa403d7bdb",
   "metadata": {},
   "outputs": [
    {
     "name": "stdout",
     "output_type": "stream",
     "text": [
      "Found 4242 validated image filenames belonging to 11 classes.\n",
      "Found 1061 validated image filenames belonging to 11 classes.\n",
      "Found 1326 validated image filenames belonging to 11 classes.\n"
     ]
    }
   ],
   "source": [
    "# normalizando as imagens de treinamento \n",
    "image_generator = ImageDataGenerator(samplewise_center = True, samplewise_std_normalization = True)\n",
    "\n",
    "# criando o gerador de imagens de treinamento \n",
    "train_generator = image_generator.flow_from_dataframe(\n",
    "                                                      dataframe = train_df,\n",
    "                                                      directory = '',\n",
    "                                                      x_col = 'image_path',\n",
    "                                                      y_col = 'class_name',\n",
    "                                                      batch_size = 32,\n",
    "                                                      seed = 42,\n",
    "                                                      shuffle = True,\n",
    "                                                      class_mode = 'categorical',\n",
    "                                                      target_size = (512, 512))\n",
    "# criando o gerador de imagens de validação \n",
    "valid_generator = image_generator.flow_from_dataframe(\n",
    "                                                      dataframe = validation_df,\n",
    "                                                      directory = '', \n",
    "                                                      x_col = 'image_path',\n",
    "                                                      y_col = 'class_name',\n",
    "                                                      batch_size = 32,\n",
    "                                                      seed = 42,\n",
    "                                                      shuffle = True,\n",
    "                                                      class_mode = 'categorical',\n",
    "                                                      target_size = (512, 512))\n",
    "\n",
    "# normalizando as imagens de teste \n",
    "test_datagen = ImageDataGenerator(samplewise_center = True, samplewise_std_normalization = True)\n",
    "\n",
    "test_generator = test_datagen.flow_from_dataframe(\n",
    "                                                  dataframe = test_df, \n",
    "                                                  directory = '',\n",
    "                                                  x_col = 'image_path',\n",
    "                                                  y_col = 'class_name',\n",
    "                                                  batch_size = 32,\n",
    "                                                  seed = 42,\n",
    "                                                  shuffle = True,\n",
    "                                                  class_mode = 'categorical',\n",
    "                                                  target_size = (512, 512))"
   ]
  },
  {
   "cell_type": "code",
   "execution_count": 7,
   "id": "6b18155e-561e-4ca1-a924-881f61d35b58",
   "metadata": {},
   "outputs": [
    {
     "data": {
      "text/plain": [
       "{'Atelectasis': 0,\n",
       " 'Calcification': 1,\n",
       " 'ILD': 2,\n",
       " 'Infiltration': 3,\n",
       " 'Lung Opacity': 4,\n",
       " 'No finding': 5,\n",
       " 'Nodule/Mass': 6,\n",
       " 'Pleural effusion': 7,\n",
       " 'Pleural thickening': 8,\n",
       " 'Pneumothorax': 9,\n",
       " 'Pulmonary fibrosis': 10}"
      ]
     },
     "execution_count": 7,
     "metadata": {},
     "output_type": "execute_result"
    }
   ],
   "source": [
    "# visualizando atributos numéricos de cada uma das classes\n",
    "train_generator.class_indices"
   ]
  },
  {
   "cell_type": "code",
   "execution_count": 8,
   "id": "7a061000-677e-49ae-b052-f28f54d9a24b",
   "metadata": {},
   "outputs": [
    {
     "name": "stderr",
     "output_type": "stream",
     "text": [
      "c:\\users\\alysson\\appdata\\local\\programs\\python\\python38\\lib\\site-packages\\sklearn\\utils\\validation.py:70: FutureWarning: Pass classes=['Atelectasis' 'Calcification' 'ILD' 'Infiltration' 'Lung Opacity'\n",
      " 'No finding' 'Nodule/Mass' 'Pleural effusion' 'Pleural thickening'\n",
      " 'Pneumothorax' 'Pulmonary fibrosis'], y=39441         Nodule/Mass\n",
      "6231           No finding\n",
      "31582          No finding\n",
      "45648          No finding\n",
      "29139          No finding\n",
      "               ...       \n",
      "3404     Pleural effusion\n",
      "15909    Pleural effusion\n",
      "32371          No finding\n",
      "2765        Calcification\n",
      "4237         Lung Opacity\n",
      "Name: class_name, Length: 4242, dtype: object as keyword args. From version 1.0 (renaming of 0.25) passing these as positional arguments will result in an error\n",
      "  warnings.warn(f\"Pass {args_msg} as keyword args. From version \"\n"
     ]
    }
   ],
   "source": [
    "# organizando um dicionário para realizar o balanceamento nos dados das classes\n",
    "class_weights = class_weight.compute_class_weight('balanced', np.unique(train_df['class_name']),\n",
    "                                                  train_df['class_name'])\n",
    "class_weights = {0: class_weights[0], 1: class_weights[1], 2: class_weights[2], \n",
    "                 3: class_weights[3], 4: class_weights[4], 5: class_weights[5],\n",
    "                 6: class_weights[6], 7: class_weights[7], 8: class_weights[8],\n",
    "                 9: class_weights[9], 10: class_weights[10]}"
   ]
  },
  {
   "cell_type": "markdown",
   "id": "ac210e1b-4259-4b3a-aae8-307d81527546",
   "metadata": {},
   "source": [
    "### Configurano a rede neural artificial"
   ]
  },
  {
   "cell_type": "code",
   "execution_count": 9,
   "id": "420cc68c-40cb-4057-85fd-e2e0604886b3",
   "metadata": {},
   "outputs": [],
   "source": [
    "input_a = tf.keras.layers.Input(shape = (512, 512, 3))\n",
    "x = tf.keras.layers.Conv2D(filters = 32, kernel_size = (2, 2), activation = tf.nn.relu)(input_a)\n",
    "x = tf.keras.layers.MaxPooling2D(pool_size = (2, 2))(x)\n",
    "x = tf.keras.layers.Conv2D(filters = 64, kernel_size = (3, 3), activation = tf.nn.relu)(x)\n",
    "x = tf.keras.layers.Conv2D(filters = 64, kernel_size = (3, 3), activation = tf.nn.relu)(x)\n",
    "x = tf.keras.layers.MaxPooling2D(pool_size = (2, 2))(x)\n",
    "x = tf.keras.layers.Conv2D(filters = 128, kernel_size = (2, 2), activation = tf.nn.relu)(x)\n",
    "x = tf.keras.layers.Conv2D(filters = 128, kernel_size = (2, 2), activation = tf.nn.relu)(x)\n",
    "x = tf.keras.layers.MaxPooling2D(pool_size = (2, 2))(x)\n",
    "x = tf.keras.layers.Conv2D(filters = 256, kernel_size = (2, 2), activation = tf.nn.relu)(x)\n",
    "x = tf.keras.layers.Conv2D(filters = 256, kernel_size = (3, 3), activation = tf.nn.relu)(x)\n",
    "x = tf.keras.layers.MaxPooling2D(pool_size = (2, 2))(x)\n",
    "x = tf.keras.layers.Conv2D(filters = 512, kernel_size = (2, 2), activation = tf.nn.relu)(x)\n",
    "x = tf.keras.layers.Conv2D(filters = 512, kernel_size = (3, 3), activation = tf.nn.relu)(x)\n",
    "x = tf.keras.layers.MaxPooling2D(pool_size = (2, 2))(x)\n",
    "x = tf.keras.layers.Conv2D(filters = 1024, kernel_size = (2, 2), activation = tf.nn.relu)(x)\n",
    "x = tf.keras.layers.Conv2D(filters = 1024, kernel_size = (3, 3), activation = tf.nn.relu)(x)\n",
    "x = tf.keras.layers.AveragePooling2D(pool_size = (2, 2))(x)\n",
    "x = tf.keras.layers.Flatten()(x)\n",
    "x = tf.keras.layers.Dense(units = 11, activation = tf.nn.softmax)(x)\n",
    "model = tf.keras.models.Model(inputs = input_a, outputs = x)"
   ]
  },
  {
   "cell_type": "code",
   "execution_count": 10,
   "id": "1d572ba7-c752-423d-85a8-dbc5cbbf31c3",
   "metadata": {},
   "outputs": [],
   "source": [
    "model.compile(optimizer = 'adam', loss = 'categorical_crossentropy', metrics = ['acc']) "
   ]
  },
  {
   "cell_type": "code",
   "execution_count": 11,
   "id": "703d0403-410a-4b6a-9d76-16e95d409cb9",
   "metadata": {},
   "outputs": [],
   "source": [
    "# definindo o caminho pelo qual os pesos serão armazenados \n",
    "filepath = \"transferlearning_weights.hdf5\"\n",
    "# callback para salvar o melhor valor dos pesos em relação ao desempenho com os dados de validação \n",
    "checkpoint = tf.keras.callbacks.ModelCheckpoint(filepath, monitor = 'val_acc', verbose = 1, save_best_only = True, mode = 'max')\n",
    "callbacks = [checkpoint]"
   ]
  },
  {
   "cell_type": "code",
   "execution_count": null,
   "id": "d758012e-e793-4b77-8e07-1ff1320209cc",
   "metadata": {},
   "outputs": [
    {
     "name": "stderr",
     "output_type": "stream",
     "text": [
      "c:\\users\\alysson\\appdata\\local\\programs\\python\\python38\\lib\\site-packages\\tensorflow\\python\\keras\\engine\\training.py:1844: UserWarning: `Model.fit_generator` is deprecated and will be removed in a future version. Please use `Model.fit`, which supports generators.\n",
      "  warnings.warn('`Model.fit_generator` is deprecated and '\n"
     ]
    },
    {
     "name": "stdout",
     "output_type": "stream",
     "text": [
      "Epoch 1/10\n",
      " 83/132 [=================>............] - ETA: 22:56 - loss: 2.4405 - acc: 0.1390"
     ]
    }
   ],
   "source": [
    "# treinando a rede neural convolucional\n",
    "history = model.fit_generator(generator = train_generator, \n",
    "                              steps_per_epoch = 4242 // 32, \n",
    "                              validation_data = valid_generator, \n",
    "                              validation_steps = 1061 // 32,\n",
    "                              callbacks = callbacks, epochs = 10, class_weight = class_weights,\n",
    "                              verbose = 1)"
   ]
  }
 ],
 "metadata": {
  "kernelspec": {
   "display_name": "Python 3",
   "language": "python",
   "name": "python3"
  },
  "language_info": {
   "codemirror_mode": {
    "name": "ipython",
    "version": 3
   },
   "file_extension": ".py",
   "mimetype": "text/x-python",
   "name": "python",
   "nbconvert_exporter": "python",
   "pygments_lexer": "ipython3",
   "version": "3.8.7"
  }
 },
 "nbformat": 4,
 "nbformat_minor": 5
}
