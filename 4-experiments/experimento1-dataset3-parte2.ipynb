{
 "cells": [
  {
   "cell_type": "markdown",
   "id": "veterinary-quantum",
   "metadata": {
    "id": "veterinary-quantum"
   },
   "source": [
    "# Experimento 1\n",
    "***\n",
    "- Conjuntos de dados: Montgomery + Shenzen\n",
    "- Testando a equalização de histograma em comparação com a mudança típica de escala"
   ]
  },
  {
   "cell_type": "markdown",
   "id": "coral-meaning",
   "metadata": {
    "id": "coral-meaning"
   },
   "source": [
    "### Importando os pacotes necessários"
   ]
  },
  {
   "cell_type": "code",
   "execution_count": 26,
   "id": "hispanic-juvenile",
   "metadata": {
    "id": "hispanic-juvenile"
   },
   "outputs": [],
   "source": [
    "import glob\n",
    "import re\n",
    "from tqdm import tqdm\n",
    "import urllib.request\n",
    "import pandas as pd\n",
    "from sklearn.model_selection import train_test_split\n",
    "from keras.preprocessing.image import ImageDataGenerator\n",
    "from sklearn.metrics import confusion_matrix, precision_recall_fscore_support\n",
    "import matplotlib.pyplot as plt\n",
    "import numpy as np\n",
    "\n",
    "from tensorflow.keras import layers\n",
    "from tensorflow.keras import Model\n",
    "from tensorflow.keras.applications.inception_v3 import InceptionV3\n",
    "from tensorflow.keras import optimizers\n",
    "from tensorflow.keras.callbacks import ModelCheckpoint\n",
    "\n",
    "import warnings\n",
    "warnings.filterwarnings(\"ignore\")"
   ]
  },
  {
   "cell_type": "markdown",
   "id": "forced-connection",
   "metadata": {
    "id": "forced-connection"
   },
   "source": [
    "### Pré-processando os dados"
   ]
  },
  {
   "cell_type": "code",
   "execution_count": 4,
   "id": "apart-brush",
   "metadata": {
    "id": "apart-brush"
   },
   "outputs": [],
   "source": [
    "# coletando o caminho dos arquivos dos dados do hospital shenzen\n",
    "filelist_shenzen = glob.glob('/content/drive/MyDrive/ChinaSet_AllFiles/ChinaSet_AllFiles/CXR_png/*.png')\n",
    "# coletando o caminho dos arquivos dos dados do hospital montgomery\n",
    "filelist_montgomery = glob.glob('/content/drive/MyDrive/Montgomery/MontgomerySet/CXR_png/*.png')\n",
    "# juntando os dois datasets\n",
    "filelist = filelist_shenzen + filelist_montgomery"
   ]
  },
  {
   "cell_type": "code",
   "execution_count": 5,
   "id": "chicken-monthly",
   "metadata": {
    "colab": {
     "base_uri": "https://localhost:8080/"
    },
    "id": "chicken-monthly",
    "outputId": "d6b8400c-5e2a-419a-9aba-c6ff393cc930"
   },
   "outputs": [
    {
     "name": "stdout",
     "output_type": "stream",
     "text": [
      "quantidade de imagens: 662\n"
     ]
    }
   ],
   "source": [
    "# quantidade de imagens disponíveis no dataset\n",
    "print('quantidade de imagens:', str(len(filelist)))"
   ]
  },
  {
   "cell_type": "code",
   "execution_count": 6,
   "id": "front-butler",
   "metadata": {
    "id": "front-butler"
   },
   "outputs": [],
   "source": [
    "def extract_label(file_list):\n",
    "    \n",
    "    # inicializando uma lista vazia\n",
    "    labels = []\n",
    "    \n",
    "    # iterando na lista de arquivos\n",
    "    for file in tqdm(file_list):\n",
    "        # detectando as classes presentes no nome da imagem\n",
    "        current_label = re.findall('[0-9]{4}_(.+?).png', file)\n",
    "        # adicionando a lista de rótulos as classes correspondentes a cada uma das imagens\n",
    "        labels.append(current_label[0])\n",
    "        \n",
    "    return labels"
   ]
  },
  {
   "cell_type": "code",
   "execution_count": 7,
   "id": "connected-plastic",
   "metadata": {
    "colab": {
     "base_uri": "https://localhost:8080/"
    },
    "id": "connected-plastic",
    "outputId": "a94e341b-b8d6-45e6-8d6d-088ec52b1fed"
   },
   "outputs": [
    {
     "name": "stderr",
     "output_type": "stream",
     "text": [
      "100%|██████████| 662/662 [00:00<00:00, 166135.90it/s]\n"
     ]
    }
   ],
   "source": [
    "# extraindo os rótulos\n",
    "labels = extract_label(filelist)"
   ]
  },
  {
   "cell_type": "code",
   "execution_count": 8,
   "id": "fuzzy-variation",
   "metadata": {
    "colab": {
     "base_uri": "https://localhost:8080/"
    },
    "id": "fuzzy-variation",
    "outputId": "1cfd01d6-6426-41af-b30e-c9790076e712"
   },
   "outputs": [
    {
     "name": "stdout",
     "output_type": "stream",
     "text": [
      "quantidade de rótulos: 662\n"
     ]
    }
   ],
   "source": [
    "# visualizando a quantidade de rótulos\n",
    "print('quantidade de rótulos:', str(len(labels)))"
   ]
  },
  {
   "cell_type": "code",
   "execution_count": 9,
   "id": "solar-camera",
   "metadata": {
    "id": "solar-camera"
   },
   "outputs": [],
   "source": [
    "# criando um dataframe com os caminhos das imagens\n",
    "full_data = pd.DataFrame(filelist, columns = ['filepath'])\n",
    "# adicionando os rótulos em cada imagem\n",
    "full_data['target'] = labels"
   ]
  },
  {
   "cell_type": "code",
   "execution_count": 10,
   "id": "balanced-preliminary",
   "metadata": {
    "id": "balanced-preliminary"
   },
   "outputs": [],
   "source": [
    "# modificando o formato dos dados para float32\n",
    "dict_type = {'target': 'float32'}\n",
    "full_data = full_data.astype(dict_type)"
   ]
  },
  {
   "cell_type": "code",
   "execution_count": 11,
   "id": "coated-boards",
   "metadata": {
    "id": "coated-boards"
   },
   "outputs": [],
   "source": [
    "# separando os dados de treinamento e de teste\n",
    "train_df, test_df = train_test_split(full_data, stratify = full_data['target'],\n",
    "                                     test_size = 0.2, random_state = 42)"
   ]
  },
  {
   "cell_type": "code",
   "execution_count": 12,
   "id": "talented-program",
   "metadata": {
    "id": "talented-program"
   },
   "outputs": [],
   "source": [
    "# separando os dados de validação dos dados de treinamento\n",
    "train_df, validation_df = train_test_split(train_df, stratify = train_df['target'],\n",
    "                                           test_size = 0.2, random_state = 42)"
   ]
  },
  {
   "cell_type": "code",
   "execution_count": 13,
   "id": "funded-mouth",
   "metadata": {
    "colab": {
     "base_uri": "https://localhost:8080/"
    },
    "id": "funded-mouth",
    "outputId": "5a8251e0-1154-46f9-cd41-d02df511c1b8"
   },
   "outputs": [
    {
     "name": "stdout",
     "output_type": "stream",
     "text": [
      "quantidade de imagens de treinamento: 423\n",
      "quantidade de rótulos de treinamento: 423\n",
      "quantidade de imagens de teste: 133\n",
      "quantidade de rótulos de teste: 133\n",
      "quantidade de imagens de validação: 106\n",
      "quantidade de rótulos de validação: 106\n"
     ]
    }
   ],
   "source": [
    "# visualizando a quantidade de dados\n",
    "print('quantidade de imagens de treinamento:', len(train_df['filepath']))\n",
    "print('quantidade de rótulos de treinamento:', len(train_df['target']))\n",
    "print('quantidade de imagens de teste:', len(test_df['filepath']))\n",
    "print('quantidade de rótulos de teste:', len(test_df['target']))\n",
    "print('quantidade de imagens de validação:', len(validation_df['filepath']))\n",
    "print('quantidade de rótulos de validação:', len(validation_df['target']))"
   ]
  },
  {
   "cell_type": "markdown",
   "id": "relevant-century",
   "metadata": {
    "id": "relevant-century"
   },
   "source": [
    "### Aplicando equalização de histograma"
   ]
  },
  {
   "cell_type": "code",
   "execution_count": 14,
   "id": "fewer-local",
   "metadata": {
    "colab": {
     "base_uri": "https://localhost:8080/"
    },
    "id": "fewer-local",
    "outputId": "7e49af5a-a95f-464a-edab-5722eccdf23e"
   },
   "outputs": [
    {
     "name": "stdout",
     "output_type": "stream",
     "text": [
      "Found 423 validated image filenames.\n",
      "Found 106 validated image filenames.\n",
      "Found 133 validated image filenames.\n"
     ]
    }
   ],
   "source": [
    "# normalizando as imagens de treinamento e aplicando aumento de dados\n",
    "image_generator = ImageDataGenerator(samplewise_center = True, samplewise_std_normalization = True,\n",
    "                                     rotation_range = 10, zoom_range = 0.2)\n",
    "\n",
    "# criando o gerador de imagens de treinamento \n",
    "train_generator = image_generator.flow_from_dataframe(\n",
    "                                                      dataframe = train_df,\n",
    "                                                      directory = '',\n",
    "                                                      x_col = 'filepath',\n",
    "                                                      y_col = 'target',\n",
    "                                                      batch_size = 32,\n",
    "                                                      seed = 42,\n",
    "                                                      shuffle = True,\n",
    "                                                      class_mode = 'raw',\n",
    "                                                      color_mode = 'rgb',\n",
    "                                                      target_size = (256, 256))\n",
    "# criando o gerador de imagens de validação \n",
    "valid_generator = image_generator.flow_from_dataframe(\n",
    "                                                      dataframe = validation_df,\n",
    "                                                      directory = '.', \n",
    "                                                      x_col = 'filepath',\n",
    "                                                      y_col = 'target',\n",
    "                                                      batch_size = 32,\n",
    "                                                      seed = 42,\n",
    "                                                      shuffle = True,\n",
    "                                                      class_mode = 'raw',\n",
    "                                                      target_size = (256, 256))\n",
    "\n",
    "# normalizando as imagens de teste \n",
    "test_datagen = ImageDataGenerator(samplewise_center = True, samplewise_std_normalization = True)\n",
    "\n",
    "test_generator = test_datagen.flow_from_dataframe(\n",
    "                                                  dataframe = test_df, \n",
    "                                                  directory = '.',\n",
    "                                                  x_col = 'filepath',\n",
    "                                                  y_col = 'target',\n",
    "                                                  batch_size = 32,\n",
    "                                                  seed = 42,\n",
    "                                                  shuffle = True,\n",
    "                                                  class_mode = 'raw',\n",
    "                                                  target_size = (256, 256))"
   ]
  },
  {
   "cell_type": "markdown",
   "id": "ambient-combat",
   "metadata": {
    "id": "ambient-combat"
   },
   "source": [
    "### Preparando a rede neural convolucional"
   ]
  },
  {
   "cell_type": "code",
   "execution_count": 15,
   "id": "adjacent-dominant",
   "metadata": {
    "colab": {
     "base_uri": "https://localhost:8080/"
    },
    "id": "adjacent-dominant",
    "outputId": "4292afe0-007c-438d-b916-1546ceb2919a"
   },
   "outputs": [
    {
     "name": "stdout",
     "output_type": "stream",
     "text": [
      "--2021-03-02 20:54:16--  https://storage.googleapis.com/mledu-datasets/inception_v3_weights_tf_dim_ordering_tf_kernels_notop.h5\n",
      "Resolving storage.googleapis.com (storage.googleapis.com)... 74.125.142.128, 74.125.195.128, 2607:f8b0:400e:c07::80, ...\n",
      "Connecting to storage.googleapis.com (storage.googleapis.com)|74.125.142.128|:443... connected.\n",
      "HTTP request sent, awaiting response... 200 OK\n",
      "Length: 87910968 (84M) [application/x-hdf]\n",
      "Saving to: ‘/tmp/inception_v3_weights_tf_dim_ordering_tf_kernels_notop.h5’\n",
      "\n",
      "/tmp/inception_v3_w 100%[===================>]  83.84M   132MB/s    in 0.6s    \n",
      "\n",
      "2021-03-02 20:54:17 (132 MB/s) - ‘/tmp/inception_v3_weights_tf_dim_ordering_tf_kernels_notop.h5’ saved [87910968/87910968]\n",
      "\n"
     ]
    }
   ],
   "source": [
    "# baixando os pesos treinados da rede inception\n",
    "!wget --no-check-certificate \\\n",
    "    https://storage.googleapis.com/mledu-datasets/inception_v3_weights_tf_dim_ordering_tf_kernels_notop.h5 \\\n",
    "    -O /tmp/inception_v3_weights_tf_dim_ordering_tf_kernels_notop.h5"
   ]
  },
  {
   "cell_type": "code",
   "execution_count": 16,
   "id": "continental-holder",
   "metadata": {
    "colab": {
     "base_uri": "https://localhost:8080/"
    },
    "id": "continental-holder",
    "outputId": "7a0cc913-76d4-4ae3-9076-9fee8e472502"
   },
   "outputs": [
    {
     "name": "stdout",
     "output_type": "stream",
     "text": [
      "Model: \"inception_v3\"\n",
      "__________________________________________________________________________________________________\n",
      "Layer (type)                    Output Shape         Param #     Connected to                     \n",
      "==================================================================================================\n",
      "input_1 (InputLayer)            [(None, 256, 256, 3) 0                                            \n",
      "__________________________________________________________________________________________________\n",
      "conv2d (Conv2D)                 (None, 127, 127, 32) 864         input_1[0][0]                    \n",
      "__________________________________________________________________________________________________\n",
      "batch_normalization (BatchNorma (None, 127, 127, 32) 96          conv2d[0][0]                     \n",
      "__________________________________________________________________________________________________\n",
      "activation (Activation)         (None, 127, 127, 32) 0           batch_normalization[0][0]        \n",
      "__________________________________________________________________________________________________\n",
      "conv2d_1 (Conv2D)               (None, 125, 125, 32) 9216        activation[0][0]                 \n",
      "__________________________________________________________________________________________________\n",
      "batch_normalization_1 (BatchNor (None, 125, 125, 32) 96          conv2d_1[0][0]                   \n",
      "__________________________________________________________________________________________________\n",
      "activation_1 (Activation)       (None, 125, 125, 32) 0           batch_normalization_1[0][0]      \n",
      "__________________________________________________________________________________________________\n",
      "conv2d_2 (Conv2D)               (None, 125, 125, 64) 18432       activation_1[0][0]               \n",
      "__________________________________________________________________________________________________\n",
      "batch_normalization_2 (BatchNor (None, 125, 125, 64) 192         conv2d_2[0][0]                   \n",
      "__________________________________________________________________________________________________\n",
      "activation_2 (Activation)       (None, 125, 125, 64) 0           batch_normalization_2[0][0]      \n",
      "__________________________________________________________________________________________________\n",
      "max_pooling2d (MaxPooling2D)    (None, 62, 62, 64)   0           activation_2[0][0]               \n",
      "__________________________________________________________________________________________________\n",
      "conv2d_3 (Conv2D)               (None, 62, 62, 80)   5120        max_pooling2d[0][0]              \n",
      "__________________________________________________________________________________________________\n",
      "batch_normalization_3 (BatchNor (None, 62, 62, 80)   240         conv2d_3[0][0]                   \n",
      "__________________________________________________________________________________________________\n",
      "activation_3 (Activation)       (None, 62, 62, 80)   0           batch_normalization_3[0][0]      \n",
      "__________________________________________________________________________________________________\n",
      "conv2d_4 (Conv2D)               (None, 60, 60, 192)  138240      activation_3[0][0]               \n",
      "__________________________________________________________________________________________________\n",
      "batch_normalization_4 (BatchNor (None, 60, 60, 192)  576         conv2d_4[0][0]                   \n",
      "__________________________________________________________________________________________________\n",
      "activation_4 (Activation)       (None, 60, 60, 192)  0           batch_normalization_4[0][0]      \n",
      "__________________________________________________________________________________________________\n",
      "max_pooling2d_1 (MaxPooling2D)  (None, 29, 29, 192)  0           activation_4[0][0]               \n",
      "__________________________________________________________________________________________________\n",
      "conv2d_8 (Conv2D)               (None, 29, 29, 64)   12288       max_pooling2d_1[0][0]            \n",
      "__________________________________________________________________________________________________\n",
      "batch_normalization_8 (BatchNor (None, 29, 29, 64)   192         conv2d_8[0][0]                   \n",
      "__________________________________________________________________________________________________\n",
      "activation_8 (Activation)       (None, 29, 29, 64)   0           batch_normalization_8[0][0]      \n",
      "__________________________________________________________________________________________________\n",
      "conv2d_6 (Conv2D)               (None, 29, 29, 48)   9216        max_pooling2d_1[0][0]            \n",
      "__________________________________________________________________________________________________\n",
      "conv2d_9 (Conv2D)               (None, 29, 29, 96)   55296       activation_8[0][0]               \n",
      "__________________________________________________________________________________________________\n",
      "batch_normalization_6 (BatchNor (None, 29, 29, 48)   144         conv2d_6[0][0]                   \n",
      "__________________________________________________________________________________________________\n",
      "batch_normalization_9 (BatchNor (None, 29, 29, 96)   288         conv2d_9[0][0]                   \n",
      "__________________________________________________________________________________________________\n",
      "activation_6 (Activation)       (None, 29, 29, 48)   0           batch_normalization_6[0][0]      \n",
      "__________________________________________________________________________________________________\n",
      "activation_9 (Activation)       (None, 29, 29, 96)   0           batch_normalization_9[0][0]      \n",
      "__________________________________________________________________________________________________\n",
      "average_pooling2d (AveragePooli (None, 29, 29, 192)  0           max_pooling2d_1[0][0]            \n",
      "__________________________________________________________________________________________________\n",
      "conv2d_5 (Conv2D)               (None, 29, 29, 64)   12288       max_pooling2d_1[0][0]            \n",
      "__________________________________________________________________________________________________\n",
      "conv2d_7 (Conv2D)               (None, 29, 29, 64)   76800       activation_6[0][0]               \n",
      "__________________________________________________________________________________________________\n",
      "conv2d_10 (Conv2D)              (None, 29, 29, 96)   82944       activation_9[0][0]               \n",
      "__________________________________________________________________________________________________\n",
      "conv2d_11 (Conv2D)              (None, 29, 29, 32)   6144        average_pooling2d[0][0]          \n",
      "__________________________________________________________________________________________________\n",
      "batch_normalization_5 (BatchNor (None, 29, 29, 64)   192         conv2d_5[0][0]                   \n",
      "__________________________________________________________________________________________________\n",
      "batch_normalization_7 (BatchNor (None, 29, 29, 64)   192         conv2d_7[0][0]                   \n",
      "__________________________________________________________________________________________________\n",
      "batch_normalization_10 (BatchNo (None, 29, 29, 96)   288         conv2d_10[0][0]                  \n",
      "__________________________________________________________________________________________________\n",
      "batch_normalization_11 (BatchNo (None, 29, 29, 32)   96          conv2d_11[0][0]                  \n",
      "__________________________________________________________________________________________________\n",
      "activation_5 (Activation)       (None, 29, 29, 64)   0           batch_normalization_5[0][0]      \n",
      "__________________________________________________________________________________________________\n",
      "activation_7 (Activation)       (None, 29, 29, 64)   0           batch_normalization_7[0][0]      \n",
      "__________________________________________________________________________________________________\n",
      "activation_10 (Activation)      (None, 29, 29, 96)   0           batch_normalization_10[0][0]     \n",
      "__________________________________________________________________________________________________\n",
      "activation_11 (Activation)      (None, 29, 29, 32)   0           batch_normalization_11[0][0]     \n",
      "__________________________________________________________________________________________________\n",
      "mixed0 (Concatenate)            (None, 29, 29, 256)  0           activation_5[0][0]               \n",
      "                                                                 activation_7[0][0]               \n",
      "                                                                 activation_10[0][0]              \n",
      "                                                                 activation_11[0][0]              \n",
      "__________________________________________________________________________________________________\n",
      "conv2d_15 (Conv2D)              (None, 29, 29, 64)   16384       mixed0[0][0]                     \n",
      "__________________________________________________________________________________________________\n",
      "batch_normalization_15 (BatchNo (None, 29, 29, 64)   192         conv2d_15[0][0]                  \n",
      "__________________________________________________________________________________________________\n",
      "activation_15 (Activation)      (None, 29, 29, 64)   0           batch_normalization_15[0][0]     \n",
      "__________________________________________________________________________________________________\n",
      "conv2d_13 (Conv2D)              (None, 29, 29, 48)   12288       mixed0[0][0]                     \n",
      "__________________________________________________________________________________________________\n",
      "conv2d_16 (Conv2D)              (None, 29, 29, 96)   55296       activation_15[0][0]              \n",
      "__________________________________________________________________________________________________\n",
      "batch_normalization_13 (BatchNo (None, 29, 29, 48)   144         conv2d_13[0][0]                  \n",
      "__________________________________________________________________________________________________\n",
      "batch_normalization_16 (BatchNo (None, 29, 29, 96)   288         conv2d_16[0][0]                  \n",
      "__________________________________________________________________________________________________\n",
      "activation_13 (Activation)      (None, 29, 29, 48)   0           batch_normalization_13[0][0]     \n",
      "__________________________________________________________________________________________________\n",
      "activation_16 (Activation)      (None, 29, 29, 96)   0           batch_normalization_16[0][0]     \n",
      "__________________________________________________________________________________________________\n",
      "average_pooling2d_1 (AveragePoo (None, 29, 29, 256)  0           mixed0[0][0]                     \n",
      "__________________________________________________________________________________________________\n",
      "conv2d_12 (Conv2D)              (None, 29, 29, 64)   16384       mixed0[0][0]                     \n",
      "__________________________________________________________________________________________________\n",
      "conv2d_14 (Conv2D)              (None, 29, 29, 64)   76800       activation_13[0][0]              \n",
      "__________________________________________________________________________________________________\n",
      "conv2d_17 (Conv2D)              (None, 29, 29, 96)   82944       activation_16[0][0]              \n",
      "__________________________________________________________________________________________________\n",
      "conv2d_18 (Conv2D)              (None, 29, 29, 64)   16384       average_pooling2d_1[0][0]        \n",
      "__________________________________________________________________________________________________\n",
      "batch_normalization_12 (BatchNo (None, 29, 29, 64)   192         conv2d_12[0][0]                  \n",
      "__________________________________________________________________________________________________\n",
      "batch_normalization_14 (BatchNo (None, 29, 29, 64)   192         conv2d_14[0][0]                  \n",
      "__________________________________________________________________________________________________\n",
      "batch_normalization_17 (BatchNo (None, 29, 29, 96)   288         conv2d_17[0][0]                  \n",
      "__________________________________________________________________________________________________\n",
      "batch_normalization_18 (BatchNo (None, 29, 29, 64)   192         conv2d_18[0][0]                  \n",
      "__________________________________________________________________________________________________\n",
      "activation_12 (Activation)      (None, 29, 29, 64)   0           batch_normalization_12[0][0]     \n",
      "__________________________________________________________________________________________________\n",
      "activation_14 (Activation)      (None, 29, 29, 64)   0           batch_normalization_14[0][0]     \n",
      "__________________________________________________________________________________________________\n",
      "activation_17 (Activation)      (None, 29, 29, 96)   0           batch_normalization_17[0][0]     \n",
      "__________________________________________________________________________________________________\n",
      "activation_18 (Activation)      (None, 29, 29, 64)   0           batch_normalization_18[0][0]     \n",
      "__________________________________________________________________________________________________\n",
      "mixed1 (Concatenate)            (None, 29, 29, 288)  0           activation_12[0][0]              \n",
      "                                                                 activation_14[0][0]              \n",
      "                                                                 activation_17[0][0]              \n",
      "                                                                 activation_18[0][0]              \n",
      "__________________________________________________________________________________________________\n",
      "conv2d_22 (Conv2D)              (None, 29, 29, 64)   18432       mixed1[0][0]                     \n",
      "__________________________________________________________________________________________________\n",
      "batch_normalization_22 (BatchNo (None, 29, 29, 64)   192         conv2d_22[0][0]                  \n",
      "__________________________________________________________________________________________________\n",
      "activation_22 (Activation)      (None, 29, 29, 64)   0           batch_normalization_22[0][0]     \n",
      "__________________________________________________________________________________________________\n",
      "conv2d_20 (Conv2D)              (None, 29, 29, 48)   13824       mixed1[0][0]                     \n",
      "__________________________________________________________________________________________________\n",
      "conv2d_23 (Conv2D)              (None, 29, 29, 96)   55296       activation_22[0][0]              \n",
      "__________________________________________________________________________________________________\n",
      "batch_normalization_20 (BatchNo (None, 29, 29, 48)   144         conv2d_20[0][0]                  \n",
      "__________________________________________________________________________________________________\n",
      "batch_normalization_23 (BatchNo (None, 29, 29, 96)   288         conv2d_23[0][0]                  \n",
      "__________________________________________________________________________________________________\n",
      "activation_20 (Activation)      (None, 29, 29, 48)   0           batch_normalization_20[0][0]     \n",
      "__________________________________________________________________________________________________\n",
      "activation_23 (Activation)      (None, 29, 29, 96)   0           batch_normalization_23[0][0]     \n",
      "__________________________________________________________________________________________________\n",
      "average_pooling2d_2 (AveragePoo (None, 29, 29, 288)  0           mixed1[0][0]                     \n",
      "__________________________________________________________________________________________________\n",
      "conv2d_19 (Conv2D)              (None, 29, 29, 64)   18432       mixed1[0][0]                     \n",
      "__________________________________________________________________________________________________\n",
      "conv2d_21 (Conv2D)              (None, 29, 29, 64)   76800       activation_20[0][0]              \n",
      "__________________________________________________________________________________________________\n",
      "conv2d_24 (Conv2D)              (None, 29, 29, 96)   82944       activation_23[0][0]              \n",
      "__________________________________________________________________________________________________\n",
      "conv2d_25 (Conv2D)              (None, 29, 29, 64)   18432       average_pooling2d_2[0][0]        \n",
      "__________________________________________________________________________________________________\n",
      "batch_normalization_19 (BatchNo (None, 29, 29, 64)   192         conv2d_19[0][0]                  \n",
      "__________________________________________________________________________________________________\n",
      "batch_normalization_21 (BatchNo (None, 29, 29, 64)   192         conv2d_21[0][0]                  \n",
      "__________________________________________________________________________________________________\n",
      "batch_normalization_24 (BatchNo (None, 29, 29, 96)   288         conv2d_24[0][0]                  \n",
      "__________________________________________________________________________________________________\n",
      "batch_normalization_25 (BatchNo (None, 29, 29, 64)   192         conv2d_25[0][0]                  \n",
      "__________________________________________________________________________________________________\n",
      "activation_19 (Activation)      (None, 29, 29, 64)   0           batch_normalization_19[0][0]     \n",
      "__________________________________________________________________________________________________\n",
      "activation_21 (Activation)      (None, 29, 29, 64)   0           batch_normalization_21[0][0]     \n",
      "__________________________________________________________________________________________________\n",
      "activation_24 (Activation)      (None, 29, 29, 96)   0           batch_normalization_24[0][0]     \n",
      "__________________________________________________________________________________________________\n",
      "activation_25 (Activation)      (None, 29, 29, 64)   0           batch_normalization_25[0][0]     \n",
      "__________________________________________________________________________________________________\n",
      "mixed2 (Concatenate)            (None, 29, 29, 288)  0           activation_19[0][0]              \n",
      "                                                                 activation_21[0][0]              \n",
      "                                                                 activation_24[0][0]              \n",
      "                                                                 activation_25[0][0]              \n",
      "__________________________________________________________________________________________________\n",
      "conv2d_27 (Conv2D)              (None, 29, 29, 64)   18432       mixed2[0][0]                     \n",
      "__________________________________________________________________________________________________\n",
      "batch_normalization_27 (BatchNo (None, 29, 29, 64)   192         conv2d_27[0][0]                  \n",
      "__________________________________________________________________________________________________\n",
      "activation_27 (Activation)      (None, 29, 29, 64)   0           batch_normalization_27[0][0]     \n",
      "__________________________________________________________________________________________________\n",
      "conv2d_28 (Conv2D)              (None, 29, 29, 96)   55296       activation_27[0][0]              \n",
      "__________________________________________________________________________________________________\n",
      "batch_normalization_28 (BatchNo (None, 29, 29, 96)   288         conv2d_28[0][0]                  \n",
      "__________________________________________________________________________________________________\n",
      "activation_28 (Activation)      (None, 29, 29, 96)   0           batch_normalization_28[0][0]     \n",
      "__________________________________________________________________________________________________\n",
      "conv2d_26 (Conv2D)              (None, 14, 14, 384)  995328      mixed2[0][0]                     \n",
      "__________________________________________________________________________________________________\n",
      "conv2d_29 (Conv2D)              (None, 14, 14, 96)   82944       activation_28[0][0]              \n",
      "__________________________________________________________________________________________________\n",
      "batch_normalization_26 (BatchNo (None, 14, 14, 384)  1152        conv2d_26[0][0]                  \n",
      "__________________________________________________________________________________________________\n",
      "batch_normalization_29 (BatchNo (None, 14, 14, 96)   288         conv2d_29[0][0]                  \n",
      "__________________________________________________________________________________________________\n",
      "activation_26 (Activation)      (None, 14, 14, 384)  0           batch_normalization_26[0][0]     \n",
      "__________________________________________________________________________________________________\n",
      "activation_29 (Activation)      (None, 14, 14, 96)   0           batch_normalization_29[0][0]     \n",
      "__________________________________________________________________________________________________\n",
      "max_pooling2d_2 (MaxPooling2D)  (None, 14, 14, 288)  0           mixed2[0][0]                     \n",
      "__________________________________________________________________________________________________\n",
      "mixed3 (Concatenate)            (None, 14, 14, 768)  0           activation_26[0][0]              \n",
      "                                                                 activation_29[0][0]              \n",
      "                                                                 max_pooling2d_2[0][0]            \n",
      "__________________________________________________________________________________________________\n",
      "conv2d_34 (Conv2D)              (None, 14, 14, 128)  98304       mixed3[0][0]                     \n",
      "__________________________________________________________________________________________________\n",
      "batch_normalization_34 (BatchNo (None, 14, 14, 128)  384         conv2d_34[0][0]                  \n",
      "__________________________________________________________________________________________________\n",
      "activation_34 (Activation)      (None, 14, 14, 128)  0           batch_normalization_34[0][0]     \n",
      "__________________________________________________________________________________________________\n",
      "conv2d_35 (Conv2D)              (None, 14, 14, 128)  114688      activation_34[0][0]              \n",
      "__________________________________________________________________________________________________\n",
      "batch_normalization_35 (BatchNo (None, 14, 14, 128)  384         conv2d_35[0][0]                  \n",
      "__________________________________________________________________________________________________\n",
      "activation_35 (Activation)      (None, 14, 14, 128)  0           batch_normalization_35[0][0]     \n",
      "__________________________________________________________________________________________________\n",
      "conv2d_31 (Conv2D)              (None, 14, 14, 128)  98304       mixed3[0][0]                     \n",
      "__________________________________________________________________________________________________\n",
      "conv2d_36 (Conv2D)              (None, 14, 14, 128)  114688      activation_35[0][0]              \n",
      "__________________________________________________________________________________________________\n",
      "batch_normalization_31 (BatchNo (None, 14, 14, 128)  384         conv2d_31[0][0]                  \n",
      "__________________________________________________________________________________________________\n",
      "batch_normalization_36 (BatchNo (None, 14, 14, 128)  384         conv2d_36[0][0]                  \n",
      "__________________________________________________________________________________________________\n",
      "activation_31 (Activation)      (None, 14, 14, 128)  0           batch_normalization_31[0][0]     \n",
      "__________________________________________________________________________________________________\n",
      "activation_36 (Activation)      (None, 14, 14, 128)  0           batch_normalization_36[0][0]     \n",
      "__________________________________________________________________________________________________\n",
      "conv2d_32 (Conv2D)              (None, 14, 14, 128)  114688      activation_31[0][0]              \n",
      "__________________________________________________________________________________________________\n",
      "conv2d_37 (Conv2D)              (None, 14, 14, 128)  114688      activation_36[0][0]              \n",
      "__________________________________________________________________________________________________\n",
      "batch_normalization_32 (BatchNo (None, 14, 14, 128)  384         conv2d_32[0][0]                  \n",
      "__________________________________________________________________________________________________\n",
      "batch_normalization_37 (BatchNo (None, 14, 14, 128)  384         conv2d_37[0][0]                  \n",
      "__________________________________________________________________________________________________\n",
      "activation_32 (Activation)      (None, 14, 14, 128)  0           batch_normalization_32[0][0]     \n",
      "__________________________________________________________________________________________________\n",
      "activation_37 (Activation)      (None, 14, 14, 128)  0           batch_normalization_37[0][0]     \n",
      "__________________________________________________________________________________________________\n",
      "average_pooling2d_3 (AveragePoo (None, 14, 14, 768)  0           mixed3[0][0]                     \n",
      "__________________________________________________________________________________________________\n",
      "conv2d_30 (Conv2D)              (None, 14, 14, 192)  147456      mixed3[0][0]                     \n",
      "__________________________________________________________________________________________________\n",
      "conv2d_33 (Conv2D)              (None, 14, 14, 192)  172032      activation_32[0][0]              \n",
      "__________________________________________________________________________________________________\n",
      "conv2d_38 (Conv2D)              (None, 14, 14, 192)  172032      activation_37[0][0]              \n",
      "__________________________________________________________________________________________________\n",
      "conv2d_39 (Conv2D)              (None, 14, 14, 192)  147456      average_pooling2d_3[0][0]        \n",
      "__________________________________________________________________________________________________\n",
      "batch_normalization_30 (BatchNo (None, 14, 14, 192)  576         conv2d_30[0][0]                  \n",
      "__________________________________________________________________________________________________\n",
      "batch_normalization_33 (BatchNo (None, 14, 14, 192)  576         conv2d_33[0][0]                  \n",
      "__________________________________________________________________________________________________\n",
      "batch_normalization_38 (BatchNo (None, 14, 14, 192)  576         conv2d_38[0][0]                  \n",
      "__________________________________________________________________________________________________\n",
      "batch_normalization_39 (BatchNo (None, 14, 14, 192)  576         conv2d_39[0][0]                  \n",
      "__________________________________________________________________________________________________\n",
      "activation_30 (Activation)      (None, 14, 14, 192)  0           batch_normalization_30[0][0]     \n",
      "__________________________________________________________________________________________________\n",
      "activation_33 (Activation)      (None, 14, 14, 192)  0           batch_normalization_33[0][0]     \n",
      "__________________________________________________________________________________________________\n",
      "activation_38 (Activation)      (None, 14, 14, 192)  0           batch_normalization_38[0][0]     \n",
      "__________________________________________________________________________________________________\n",
      "activation_39 (Activation)      (None, 14, 14, 192)  0           batch_normalization_39[0][0]     \n",
      "__________________________________________________________________________________________________\n",
      "mixed4 (Concatenate)            (None, 14, 14, 768)  0           activation_30[0][0]              \n",
      "                                                                 activation_33[0][0]              \n",
      "                                                                 activation_38[0][0]              \n",
      "                                                                 activation_39[0][0]              \n",
      "__________________________________________________________________________________________________\n",
      "conv2d_44 (Conv2D)              (None, 14, 14, 160)  122880      mixed4[0][0]                     \n",
      "__________________________________________________________________________________________________\n",
      "batch_normalization_44 (BatchNo (None, 14, 14, 160)  480         conv2d_44[0][0]                  \n",
      "__________________________________________________________________________________________________\n",
      "activation_44 (Activation)      (None, 14, 14, 160)  0           batch_normalization_44[0][0]     \n",
      "__________________________________________________________________________________________________\n",
      "conv2d_45 (Conv2D)              (None, 14, 14, 160)  179200      activation_44[0][0]              \n",
      "__________________________________________________________________________________________________\n",
      "batch_normalization_45 (BatchNo (None, 14, 14, 160)  480         conv2d_45[0][0]                  \n",
      "__________________________________________________________________________________________________\n",
      "activation_45 (Activation)      (None, 14, 14, 160)  0           batch_normalization_45[0][0]     \n",
      "__________________________________________________________________________________________________\n",
      "conv2d_41 (Conv2D)              (None, 14, 14, 160)  122880      mixed4[0][0]                     \n",
      "__________________________________________________________________________________________________\n",
      "conv2d_46 (Conv2D)              (None, 14, 14, 160)  179200      activation_45[0][0]              \n",
      "__________________________________________________________________________________________________\n",
      "batch_normalization_41 (BatchNo (None, 14, 14, 160)  480         conv2d_41[0][0]                  \n",
      "__________________________________________________________________________________________________\n",
      "batch_normalization_46 (BatchNo (None, 14, 14, 160)  480         conv2d_46[0][0]                  \n",
      "__________________________________________________________________________________________________\n",
      "activation_41 (Activation)      (None, 14, 14, 160)  0           batch_normalization_41[0][0]     \n",
      "__________________________________________________________________________________________________\n",
      "activation_46 (Activation)      (None, 14, 14, 160)  0           batch_normalization_46[0][0]     \n",
      "__________________________________________________________________________________________________\n",
      "conv2d_42 (Conv2D)              (None, 14, 14, 160)  179200      activation_41[0][0]              \n",
      "__________________________________________________________________________________________________\n",
      "conv2d_47 (Conv2D)              (None, 14, 14, 160)  179200      activation_46[0][0]              \n",
      "__________________________________________________________________________________________________\n",
      "batch_normalization_42 (BatchNo (None, 14, 14, 160)  480         conv2d_42[0][0]                  \n",
      "__________________________________________________________________________________________________\n",
      "batch_normalization_47 (BatchNo (None, 14, 14, 160)  480         conv2d_47[0][0]                  \n",
      "__________________________________________________________________________________________________\n",
      "activation_42 (Activation)      (None, 14, 14, 160)  0           batch_normalization_42[0][0]     \n",
      "__________________________________________________________________________________________________\n",
      "activation_47 (Activation)      (None, 14, 14, 160)  0           batch_normalization_47[0][0]     \n",
      "__________________________________________________________________________________________________\n",
      "average_pooling2d_4 (AveragePoo (None, 14, 14, 768)  0           mixed4[0][0]                     \n",
      "__________________________________________________________________________________________________\n",
      "conv2d_40 (Conv2D)              (None, 14, 14, 192)  147456      mixed4[0][0]                     \n",
      "__________________________________________________________________________________________________\n",
      "conv2d_43 (Conv2D)              (None, 14, 14, 192)  215040      activation_42[0][0]              \n",
      "__________________________________________________________________________________________________\n",
      "conv2d_48 (Conv2D)              (None, 14, 14, 192)  215040      activation_47[0][0]              \n",
      "__________________________________________________________________________________________________\n",
      "conv2d_49 (Conv2D)              (None, 14, 14, 192)  147456      average_pooling2d_4[0][0]        \n",
      "__________________________________________________________________________________________________\n",
      "batch_normalization_40 (BatchNo (None, 14, 14, 192)  576         conv2d_40[0][0]                  \n",
      "__________________________________________________________________________________________________\n",
      "batch_normalization_43 (BatchNo (None, 14, 14, 192)  576         conv2d_43[0][0]                  \n",
      "__________________________________________________________________________________________________\n",
      "batch_normalization_48 (BatchNo (None, 14, 14, 192)  576         conv2d_48[0][0]                  \n",
      "__________________________________________________________________________________________________\n",
      "batch_normalization_49 (BatchNo (None, 14, 14, 192)  576         conv2d_49[0][0]                  \n",
      "__________________________________________________________________________________________________\n",
      "activation_40 (Activation)      (None, 14, 14, 192)  0           batch_normalization_40[0][0]     \n",
      "__________________________________________________________________________________________________\n",
      "activation_43 (Activation)      (None, 14, 14, 192)  0           batch_normalization_43[0][0]     \n",
      "__________________________________________________________________________________________________\n",
      "activation_48 (Activation)      (None, 14, 14, 192)  0           batch_normalization_48[0][0]     \n",
      "__________________________________________________________________________________________________\n",
      "activation_49 (Activation)      (None, 14, 14, 192)  0           batch_normalization_49[0][0]     \n",
      "__________________________________________________________________________________________________\n",
      "mixed5 (Concatenate)            (None, 14, 14, 768)  0           activation_40[0][0]              \n",
      "                                                                 activation_43[0][0]              \n",
      "                                                                 activation_48[0][0]              \n",
      "                                                                 activation_49[0][0]              \n",
      "__________________________________________________________________________________________________\n",
      "conv2d_54 (Conv2D)              (None, 14, 14, 160)  122880      mixed5[0][0]                     \n",
      "__________________________________________________________________________________________________\n",
      "batch_normalization_54 (BatchNo (None, 14, 14, 160)  480         conv2d_54[0][0]                  \n",
      "__________________________________________________________________________________________________\n",
      "activation_54 (Activation)      (None, 14, 14, 160)  0           batch_normalization_54[0][0]     \n",
      "__________________________________________________________________________________________________\n",
      "conv2d_55 (Conv2D)              (None, 14, 14, 160)  179200      activation_54[0][0]              \n",
      "__________________________________________________________________________________________________\n",
      "batch_normalization_55 (BatchNo (None, 14, 14, 160)  480         conv2d_55[0][0]                  \n",
      "__________________________________________________________________________________________________\n",
      "activation_55 (Activation)      (None, 14, 14, 160)  0           batch_normalization_55[0][0]     \n",
      "__________________________________________________________________________________________________\n",
      "conv2d_51 (Conv2D)              (None, 14, 14, 160)  122880      mixed5[0][0]                     \n",
      "__________________________________________________________________________________________________\n",
      "conv2d_56 (Conv2D)              (None, 14, 14, 160)  179200      activation_55[0][0]              \n",
      "__________________________________________________________________________________________________\n",
      "batch_normalization_51 (BatchNo (None, 14, 14, 160)  480         conv2d_51[0][0]                  \n",
      "__________________________________________________________________________________________________\n",
      "batch_normalization_56 (BatchNo (None, 14, 14, 160)  480         conv2d_56[0][0]                  \n",
      "__________________________________________________________________________________________________\n",
      "activation_51 (Activation)      (None, 14, 14, 160)  0           batch_normalization_51[0][0]     \n",
      "__________________________________________________________________________________________________\n",
      "activation_56 (Activation)      (None, 14, 14, 160)  0           batch_normalization_56[0][0]     \n",
      "__________________________________________________________________________________________________\n",
      "conv2d_52 (Conv2D)              (None, 14, 14, 160)  179200      activation_51[0][0]              \n",
      "__________________________________________________________________________________________________\n",
      "conv2d_57 (Conv2D)              (None, 14, 14, 160)  179200      activation_56[0][0]              \n",
      "__________________________________________________________________________________________________\n",
      "batch_normalization_52 (BatchNo (None, 14, 14, 160)  480         conv2d_52[0][0]                  \n",
      "__________________________________________________________________________________________________\n",
      "batch_normalization_57 (BatchNo (None, 14, 14, 160)  480         conv2d_57[0][0]                  \n",
      "__________________________________________________________________________________________________\n",
      "activation_52 (Activation)      (None, 14, 14, 160)  0           batch_normalization_52[0][0]     \n",
      "__________________________________________________________________________________________________\n",
      "activation_57 (Activation)      (None, 14, 14, 160)  0           batch_normalization_57[0][0]     \n",
      "__________________________________________________________________________________________________\n",
      "average_pooling2d_5 (AveragePoo (None, 14, 14, 768)  0           mixed5[0][0]                     \n",
      "__________________________________________________________________________________________________\n",
      "conv2d_50 (Conv2D)              (None, 14, 14, 192)  147456      mixed5[0][0]                     \n",
      "__________________________________________________________________________________________________\n",
      "conv2d_53 (Conv2D)              (None, 14, 14, 192)  215040      activation_52[0][0]              \n",
      "__________________________________________________________________________________________________\n",
      "conv2d_58 (Conv2D)              (None, 14, 14, 192)  215040      activation_57[0][0]              \n",
      "__________________________________________________________________________________________________\n",
      "conv2d_59 (Conv2D)              (None, 14, 14, 192)  147456      average_pooling2d_5[0][0]        \n",
      "__________________________________________________________________________________________________\n",
      "batch_normalization_50 (BatchNo (None, 14, 14, 192)  576         conv2d_50[0][0]                  \n",
      "__________________________________________________________________________________________________\n",
      "batch_normalization_53 (BatchNo (None, 14, 14, 192)  576         conv2d_53[0][0]                  \n",
      "__________________________________________________________________________________________________\n",
      "batch_normalization_58 (BatchNo (None, 14, 14, 192)  576         conv2d_58[0][0]                  \n",
      "__________________________________________________________________________________________________\n",
      "batch_normalization_59 (BatchNo (None, 14, 14, 192)  576         conv2d_59[0][0]                  \n",
      "__________________________________________________________________________________________________\n",
      "activation_50 (Activation)      (None, 14, 14, 192)  0           batch_normalization_50[0][0]     \n",
      "__________________________________________________________________________________________________\n",
      "activation_53 (Activation)      (None, 14, 14, 192)  0           batch_normalization_53[0][0]     \n",
      "__________________________________________________________________________________________________\n",
      "activation_58 (Activation)      (None, 14, 14, 192)  0           batch_normalization_58[0][0]     \n",
      "__________________________________________________________________________________________________\n",
      "activation_59 (Activation)      (None, 14, 14, 192)  0           batch_normalization_59[0][0]     \n",
      "__________________________________________________________________________________________________\n",
      "mixed6 (Concatenate)            (None, 14, 14, 768)  0           activation_50[0][0]              \n",
      "                                                                 activation_53[0][0]              \n",
      "                                                                 activation_58[0][0]              \n",
      "                                                                 activation_59[0][0]              \n",
      "__________________________________________________________________________________________________\n",
      "conv2d_64 (Conv2D)              (None, 14, 14, 192)  147456      mixed6[0][0]                     \n",
      "__________________________________________________________________________________________________\n",
      "batch_normalization_64 (BatchNo (None, 14, 14, 192)  576         conv2d_64[0][0]                  \n",
      "__________________________________________________________________________________________________\n",
      "activation_64 (Activation)      (None, 14, 14, 192)  0           batch_normalization_64[0][0]     \n",
      "__________________________________________________________________________________________________\n",
      "conv2d_65 (Conv2D)              (None, 14, 14, 192)  258048      activation_64[0][0]              \n",
      "__________________________________________________________________________________________________\n",
      "batch_normalization_65 (BatchNo (None, 14, 14, 192)  576         conv2d_65[0][0]                  \n",
      "__________________________________________________________________________________________________\n",
      "activation_65 (Activation)      (None, 14, 14, 192)  0           batch_normalization_65[0][0]     \n",
      "__________________________________________________________________________________________________\n",
      "conv2d_61 (Conv2D)              (None, 14, 14, 192)  147456      mixed6[0][0]                     \n",
      "__________________________________________________________________________________________________\n",
      "conv2d_66 (Conv2D)              (None, 14, 14, 192)  258048      activation_65[0][0]              \n",
      "__________________________________________________________________________________________________\n",
      "batch_normalization_61 (BatchNo (None, 14, 14, 192)  576         conv2d_61[0][0]                  \n",
      "__________________________________________________________________________________________________\n",
      "batch_normalization_66 (BatchNo (None, 14, 14, 192)  576         conv2d_66[0][0]                  \n",
      "__________________________________________________________________________________________________\n",
      "activation_61 (Activation)      (None, 14, 14, 192)  0           batch_normalization_61[0][0]     \n",
      "__________________________________________________________________________________________________\n",
      "activation_66 (Activation)      (None, 14, 14, 192)  0           batch_normalization_66[0][0]     \n",
      "__________________________________________________________________________________________________\n",
      "conv2d_62 (Conv2D)              (None, 14, 14, 192)  258048      activation_61[0][0]              \n",
      "__________________________________________________________________________________________________\n",
      "conv2d_67 (Conv2D)              (None, 14, 14, 192)  258048      activation_66[0][0]              \n",
      "__________________________________________________________________________________________________\n",
      "batch_normalization_62 (BatchNo (None, 14, 14, 192)  576         conv2d_62[0][0]                  \n",
      "__________________________________________________________________________________________________\n",
      "batch_normalization_67 (BatchNo (None, 14, 14, 192)  576         conv2d_67[0][0]                  \n",
      "__________________________________________________________________________________________________\n",
      "activation_62 (Activation)      (None, 14, 14, 192)  0           batch_normalization_62[0][0]     \n",
      "__________________________________________________________________________________________________\n",
      "activation_67 (Activation)      (None, 14, 14, 192)  0           batch_normalization_67[0][0]     \n",
      "__________________________________________________________________________________________________\n",
      "average_pooling2d_6 (AveragePoo (None, 14, 14, 768)  0           mixed6[0][0]                     \n",
      "__________________________________________________________________________________________________\n",
      "conv2d_60 (Conv2D)              (None, 14, 14, 192)  147456      mixed6[0][0]                     \n",
      "__________________________________________________________________________________________________\n",
      "conv2d_63 (Conv2D)              (None, 14, 14, 192)  258048      activation_62[0][0]              \n",
      "__________________________________________________________________________________________________\n",
      "conv2d_68 (Conv2D)              (None, 14, 14, 192)  258048      activation_67[0][0]              \n",
      "__________________________________________________________________________________________________\n",
      "conv2d_69 (Conv2D)              (None, 14, 14, 192)  147456      average_pooling2d_6[0][0]        \n",
      "__________________________________________________________________________________________________\n",
      "batch_normalization_60 (BatchNo (None, 14, 14, 192)  576         conv2d_60[0][0]                  \n",
      "__________________________________________________________________________________________________\n",
      "batch_normalization_63 (BatchNo (None, 14, 14, 192)  576         conv2d_63[0][0]                  \n",
      "__________________________________________________________________________________________________\n",
      "batch_normalization_68 (BatchNo (None, 14, 14, 192)  576         conv2d_68[0][0]                  \n",
      "__________________________________________________________________________________________________\n",
      "batch_normalization_69 (BatchNo (None, 14, 14, 192)  576         conv2d_69[0][0]                  \n",
      "__________________________________________________________________________________________________\n",
      "activation_60 (Activation)      (None, 14, 14, 192)  0           batch_normalization_60[0][0]     \n",
      "__________________________________________________________________________________________________\n",
      "activation_63 (Activation)      (None, 14, 14, 192)  0           batch_normalization_63[0][0]     \n",
      "__________________________________________________________________________________________________\n",
      "activation_68 (Activation)      (None, 14, 14, 192)  0           batch_normalization_68[0][0]     \n",
      "__________________________________________________________________________________________________\n",
      "activation_69 (Activation)      (None, 14, 14, 192)  0           batch_normalization_69[0][0]     \n",
      "__________________________________________________________________________________________________\n",
      "mixed7 (Concatenate)            (None, 14, 14, 768)  0           activation_60[0][0]              \n",
      "                                                                 activation_63[0][0]              \n",
      "                                                                 activation_68[0][0]              \n",
      "                                                                 activation_69[0][0]              \n",
      "__________________________________________________________________________________________________\n",
      "conv2d_72 (Conv2D)              (None, 14, 14, 192)  147456      mixed7[0][0]                     \n",
      "__________________________________________________________________________________________________\n",
      "batch_normalization_72 (BatchNo (None, 14, 14, 192)  576         conv2d_72[0][0]                  \n",
      "__________________________________________________________________________________________________\n",
      "activation_72 (Activation)      (None, 14, 14, 192)  0           batch_normalization_72[0][0]     \n",
      "__________________________________________________________________________________________________\n",
      "conv2d_73 (Conv2D)              (None, 14, 14, 192)  258048      activation_72[0][0]              \n",
      "__________________________________________________________________________________________________\n",
      "batch_normalization_73 (BatchNo (None, 14, 14, 192)  576         conv2d_73[0][0]                  \n",
      "__________________________________________________________________________________________________\n",
      "activation_73 (Activation)      (None, 14, 14, 192)  0           batch_normalization_73[0][0]     \n",
      "__________________________________________________________________________________________________\n",
      "conv2d_70 (Conv2D)              (None, 14, 14, 192)  147456      mixed7[0][0]                     \n",
      "__________________________________________________________________________________________________\n",
      "conv2d_74 (Conv2D)              (None, 14, 14, 192)  258048      activation_73[0][0]              \n",
      "__________________________________________________________________________________________________\n",
      "batch_normalization_70 (BatchNo (None, 14, 14, 192)  576         conv2d_70[0][0]                  \n",
      "__________________________________________________________________________________________________\n",
      "batch_normalization_74 (BatchNo (None, 14, 14, 192)  576         conv2d_74[0][0]                  \n",
      "__________________________________________________________________________________________________\n",
      "activation_70 (Activation)      (None, 14, 14, 192)  0           batch_normalization_70[0][0]     \n",
      "__________________________________________________________________________________________________\n",
      "activation_74 (Activation)      (None, 14, 14, 192)  0           batch_normalization_74[0][0]     \n",
      "__________________________________________________________________________________________________\n",
      "conv2d_71 (Conv2D)              (None, 6, 6, 320)    552960      activation_70[0][0]              \n",
      "__________________________________________________________________________________________________\n",
      "conv2d_75 (Conv2D)              (None, 6, 6, 192)    331776      activation_74[0][0]              \n",
      "__________________________________________________________________________________________________\n",
      "batch_normalization_71 (BatchNo (None, 6, 6, 320)    960         conv2d_71[0][0]                  \n",
      "__________________________________________________________________________________________________\n",
      "batch_normalization_75 (BatchNo (None, 6, 6, 192)    576         conv2d_75[0][0]                  \n",
      "__________________________________________________________________________________________________\n",
      "activation_71 (Activation)      (None, 6, 6, 320)    0           batch_normalization_71[0][0]     \n",
      "__________________________________________________________________________________________________\n",
      "activation_75 (Activation)      (None, 6, 6, 192)    0           batch_normalization_75[0][0]     \n",
      "__________________________________________________________________________________________________\n",
      "max_pooling2d_3 (MaxPooling2D)  (None, 6, 6, 768)    0           mixed7[0][0]                     \n",
      "__________________________________________________________________________________________________\n",
      "mixed8 (Concatenate)            (None, 6, 6, 1280)   0           activation_71[0][0]              \n",
      "                                                                 activation_75[0][0]              \n",
      "                                                                 max_pooling2d_3[0][0]            \n",
      "__________________________________________________________________________________________________\n",
      "conv2d_80 (Conv2D)              (None, 6, 6, 448)    573440      mixed8[0][0]                     \n",
      "__________________________________________________________________________________________________\n",
      "batch_normalization_80 (BatchNo (None, 6, 6, 448)    1344        conv2d_80[0][0]                  \n",
      "__________________________________________________________________________________________________\n",
      "activation_80 (Activation)      (None, 6, 6, 448)    0           batch_normalization_80[0][0]     \n",
      "__________________________________________________________________________________________________\n",
      "conv2d_77 (Conv2D)              (None, 6, 6, 384)    491520      mixed8[0][0]                     \n",
      "__________________________________________________________________________________________________\n",
      "conv2d_81 (Conv2D)              (None, 6, 6, 384)    1548288     activation_80[0][0]              \n",
      "__________________________________________________________________________________________________\n",
      "batch_normalization_77 (BatchNo (None, 6, 6, 384)    1152        conv2d_77[0][0]                  \n",
      "__________________________________________________________________________________________________\n",
      "batch_normalization_81 (BatchNo (None, 6, 6, 384)    1152        conv2d_81[0][0]                  \n",
      "__________________________________________________________________________________________________\n",
      "activation_77 (Activation)      (None, 6, 6, 384)    0           batch_normalization_77[0][0]     \n",
      "__________________________________________________________________________________________________\n",
      "activation_81 (Activation)      (None, 6, 6, 384)    0           batch_normalization_81[0][0]     \n",
      "__________________________________________________________________________________________________\n",
      "conv2d_78 (Conv2D)              (None, 6, 6, 384)    442368      activation_77[0][0]              \n",
      "__________________________________________________________________________________________________\n",
      "conv2d_79 (Conv2D)              (None, 6, 6, 384)    442368      activation_77[0][0]              \n",
      "__________________________________________________________________________________________________\n",
      "conv2d_82 (Conv2D)              (None, 6, 6, 384)    442368      activation_81[0][0]              \n",
      "__________________________________________________________________________________________________\n",
      "conv2d_83 (Conv2D)              (None, 6, 6, 384)    442368      activation_81[0][0]              \n",
      "__________________________________________________________________________________________________\n",
      "average_pooling2d_7 (AveragePoo (None, 6, 6, 1280)   0           mixed8[0][0]                     \n",
      "__________________________________________________________________________________________________\n",
      "conv2d_76 (Conv2D)              (None, 6, 6, 320)    409600      mixed8[0][0]                     \n",
      "__________________________________________________________________________________________________\n",
      "batch_normalization_78 (BatchNo (None, 6, 6, 384)    1152        conv2d_78[0][0]                  \n",
      "__________________________________________________________________________________________________\n",
      "batch_normalization_79 (BatchNo (None, 6, 6, 384)    1152        conv2d_79[0][0]                  \n",
      "__________________________________________________________________________________________________\n",
      "batch_normalization_82 (BatchNo (None, 6, 6, 384)    1152        conv2d_82[0][0]                  \n",
      "__________________________________________________________________________________________________\n",
      "batch_normalization_83 (BatchNo (None, 6, 6, 384)    1152        conv2d_83[0][0]                  \n",
      "__________________________________________________________________________________________________\n",
      "conv2d_84 (Conv2D)              (None, 6, 6, 192)    245760      average_pooling2d_7[0][0]        \n",
      "__________________________________________________________________________________________________\n",
      "batch_normalization_76 (BatchNo (None, 6, 6, 320)    960         conv2d_76[0][0]                  \n",
      "__________________________________________________________________________________________________\n",
      "activation_78 (Activation)      (None, 6, 6, 384)    0           batch_normalization_78[0][0]     \n",
      "__________________________________________________________________________________________________\n",
      "activation_79 (Activation)      (None, 6, 6, 384)    0           batch_normalization_79[0][0]     \n",
      "__________________________________________________________________________________________________\n",
      "activation_82 (Activation)      (None, 6, 6, 384)    0           batch_normalization_82[0][0]     \n",
      "__________________________________________________________________________________________________\n",
      "activation_83 (Activation)      (None, 6, 6, 384)    0           batch_normalization_83[0][0]     \n",
      "__________________________________________________________________________________________________\n",
      "batch_normalization_84 (BatchNo (None, 6, 6, 192)    576         conv2d_84[0][0]                  \n",
      "__________________________________________________________________________________________________\n",
      "activation_76 (Activation)      (None, 6, 6, 320)    0           batch_normalization_76[0][0]     \n",
      "__________________________________________________________________________________________________\n",
      "mixed9_0 (Concatenate)          (None, 6, 6, 768)    0           activation_78[0][0]              \n",
      "                                                                 activation_79[0][0]              \n",
      "__________________________________________________________________________________________________\n",
      "concatenate (Concatenate)       (None, 6, 6, 768)    0           activation_82[0][0]              \n",
      "                                                                 activation_83[0][0]              \n",
      "__________________________________________________________________________________________________\n",
      "activation_84 (Activation)      (None, 6, 6, 192)    0           batch_normalization_84[0][0]     \n",
      "__________________________________________________________________________________________________\n",
      "mixed9 (Concatenate)            (None, 6, 6, 2048)   0           activation_76[0][0]              \n",
      "                                                                 mixed9_0[0][0]                   \n",
      "                                                                 concatenate[0][0]                \n",
      "                                                                 activation_84[0][0]              \n",
      "__________________________________________________________________________________________________\n",
      "conv2d_89 (Conv2D)              (None, 6, 6, 448)    917504      mixed9[0][0]                     \n",
      "__________________________________________________________________________________________________\n",
      "batch_normalization_89 (BatchNo (None, 6, 6, 448)    1344        conv2d_89[0][0]                  \n",
      "__________________________________________________________________________________________________\n",
      "activation_89 (Activation)      (None, 6, 6, 448)    0           batch_normalization_89[0][0]     \n",
      "__________________________________________________________________________________________________\n",
      "conv2d_86 (Conv2D)              (None, 6, 6, 384)    786432      mixed9[0][0]                     \n",
      "__________________________________________________________________________________________________\n",
      "conv2d_90 (Conv2D)              (None, 6, 6, 384)    1548288     activation_89[0][0]              \n",
      "__________________________________________________________________________________________________\n",
      "batch_normalization_86 (BatchNo (None, 6, 6, 384)    1152        conv2d_86[0][0]                  \n",
      "__________________________________________________________________________________________________\n",
      "batch_normalization_90 (BatchNo (None, 6, 6, 384)    1152        conv2d_90[0][0]                  \n",
      "__________________________________________________________________________________________________\n",
      "activation_86 (Activation)      (None, 6, 6, 384)    0           batch_normalization_86[0][0]     \n",
      "__________________________________________________________________________________________________\n",
      "activation_90 (Activation)      (None, 6, 6, 384)    0           batch_normalization_90[0][0]     \n",
      "__________________________________________________________________________________________________\n",
      "conv2d_87 (Conv2D)              (None, 6, 6, 384)    442368      activation_86[0][0]              \n",
      "__________________________________________________________________________________________________\n",
      "conv2d_88 (Conv2D)              (None, 6, 6, 384)    442368      activation_86[0][0]              \n",
      "__________________________________________________________________________________________________\n",
      "conv2d_91 (Conv2D)              (None, 6, 6, 384)    442368      activation_90[0][0]              \n",
      "__________________________________________________________________________________________________\n",
      "conv2d_92 (Conv2D)              (None, 6, 6, 384)    442368      activation_90[0][0]              \n",
      "__________________________________________________________________________________________________\n",
      "average_pooling2d_8 (AveragePoo (None, 6, 6, 2048)   0           mixed9[0][0]                     \n",
      "__________________________________________________________________________________________________\n",
      "conv2d_85 (Conv2D)              (None, 6, 6, 320)    655360      mixed9[0][0]                     \n",
      "__________________________________________________________________________________________________\n",
      "batch_normalization_87 (BatchNo (None, 6, 6, 384)    1152        conv2d_87[0][0]                  \n",
      "__________________________________________________________________________________________________\n",
      "batch_normalization_88 (BatchNo (None, 6, 6, 384)    1152        conv2d_88[0][0]                  \n",
      "__________________________________________________________________________________________________\n",
      "batch_normalization_91 (BatchNo (None, 6, 6, 384)    1152        conv2d_91[0][0]                  \n",
      "__________________________________________________________________________________________________\n",
      "batch_normalization_92 (BatchNo (None, 6, 6, 384)    1152        conv2d_92[0][0]                  \n",
      "__________________________________________________________________________________________________\n",
      "conv2d_93 (Conv2D)              (None, 6, 6, 192)    393216      average_pooling2d_8[0][0]        \n",
      "__________________________________________________________________________________________________\n",
      "batch_normalization_85 (BatchNo (None, 6, 6, 320)    960         conv2d_85[0][0]                  \n",
      "__________________________________________________________________________________________________\n",
      "activation_87 (Activation)      (None, 6, 6, 384)    0           batch_normalization_87[0][0]     \n",
      "__________________________________________________________________________________________________\n",
      "activation_88 (Activation)      (None, 6, 6, 384)    0           batch_normalization_88[0][0]     \n",
      "__________________________________________________________________________________________________\n",
      "activation_91 (Activation)      (None, 6, 6, 384)    0           batch_normalization_91[0][0]     \n",
      "__________________________________________________________________________________________________\n",
      "activation_92 (Activation)      (None, 6, 6, 384)    0           batch_normalization_92[0][0]     \n",
      "__________________________________________________________________________________________________\n",
      "batch_normalization_93 (BatchNo (None, 6, 6, 192)    576         conv2d_93[0][0]                  \n",
      "__________________________________________________________________________________________________\n",
      "activation_85 (Activation)      (None, 6, 6, 320)    0           batch_normalization_85[0][0]     \n",
      "__________________________________________________________________________________________________\n",
      "mixed9_1 (Concatenate)          (None, 6, 6, 768)    0           activation_87[0][0]              \n",
      "                                                                 activation_88[0][0]              \n",
      "__________________________________________________________________________________________________\n",
      "concatenate_1 (Concatenate)     (None, 6, 6, 768)    0           activation_91[0][0]              \n",
      "                                                                 activation_92[0][0]              \n",
      "__________________________________________________________________________________________________\n",
      "activation_93 (Activation)      (None, 6, 6, 192)    0           batch_normalization_93[0][0]     \n",
      "__________________________________________________________________________________________________\n",
      "mixed10 (Concatenate)           (None, 6, 6, 2048)   0           activation_85[0][0]              \n",
      "                                                                 mixed9_1[0][0]                   \n",
      "                                                                 concatenate_1[0][0]              \n",
      "                                                                 activation_93[0][0]              \n",
      "==================================================================================================\n",
      "Total params: 21,802,784\n",
      "Trainable params: 14,951,936\n",
      "Non-trainable params: 6,850,848\n",
      "__________________________________________________________________________________________________\n"
     ]
    }
   ],
   "source": [
    "# referenciando o local em que os pesos estão armazenados\n",
    "local_weights_file = '/tmp/inception_v3_weights_tf_dim_ordering_tf_kernels_notop.h5'\n",
    "\n",
    "# carregando a arquitetura inception pré-treinada\n",
    "pre_trained_model = InceptionV3(input_shape = (256, 256, 3), \n",
    "                                include_top = False, \n",
    "                                weights = None)\n",
    "\n",
    "# carregando os pesos treinados com outros dados \n",
    "pre_trained_model.load_weights(local_weights_file)\n",
    "\n",
    "# definindo as flags iniciais  \n",
    "pre_trained_model.trainable = True\n",
    "set_trainable = False\n",
    "\n",
    "# para a arquitetura inception, a rede será retreinada a partir da camada 'mixed6'\n",
    "for layer in pre_trained_model.layers:\n",
    "    if layer.name == 'mixed6':\n",
    "        set_trainable = True\n",
    "    if set_trainable:\n",
    "        layer.trainable = True\n",
    "    else:\n",
    "        layer.trainable = False\n",
    "\n",
    "# visualizando a arquitetura definida\n",
    "pre_trained_model.summary()\n",
    "\n",
    "# obtendo a última camada como sendo a nomeada por 'mixed7'\n",
    "last_layer = pre_trained_model.get_layer('mixed7')\n",
    "last_output = last_layer.output"
   ]
  },
  {
   "cell_type": "code",
   "execution_count": 17,
   "id": "dynamic-hacker",
   "metadata": {
    "id": "dynamic-hacker"
   },
   "outputs": [],
   "source": [
    "# definindo uma camada de achatamento\n",
    "x = layers.Flatten()(last_output)\n",
    "# conecatando a rede uma camada com 1024 neurônios e função de ativação relu\n",
    "x = layers.Dense(units = 1024, activation = 'relu')(x)     \n",
    "# conecatando a rede uma camada com 128 neurônios e função de ativação relu\n",
    "x = layers.Dense(units = 512, activation = 'relu')(x) \n",
    "# aplicando uma camada de dropout com uma taxa de 20% (normalização)\n",
    "x = layers.Dropout(rate = 0.2)(x)                  \n",
    "# adicionando uma camada de saída com um neurônio e uma função de ativação sigmoide\n",
    "x = layers.Dense  (units = 1, activation = 'sigmoid')(x)           \n",
    "\n",
    "# conecatando as camadas definidas acima com a arquitetura inception\n",
    "model = Model(pre_trained_model.input, x) \n",
    "\n",
    "# compilando a rede \n",
    "model.compile(optimizer = optimizers.RMSprop(learning_rate = 0.0001), loss = 'binary_crossentropy', \n",
    "              metrics = ['acc']) "
   ]
  },
  {
   "cell_type": "code",
   "execution_count": 18,
   "id": "robust-child",
   "metadata": {
    "id": "robust-child"
   },
   "outputs": [],
   "source": [
    "# definindo o caminho pelo qual os pesos serão armazenados \n",
    "filepath = \"transferlearning_weights.hdf5\"\n",
    "# callback para salvar o melhor valor dos pesos em relação ao desempenho com os dados de validação \n",
    "checkpoint = ModelCheckpoint(filepath, monitor = 'val_acc', verbose = 1, save_best_only = True, mode = 'max')"
   ]
  },
  {
   "cell_type": "code",
   "execution_count": 19,
   "id": "foster-melbourne",
   "metadata": {
    "id": "foster-melbourne"
   },
   "outputs": [],
   "source": [
    "# definindo um array de callbacks\n",
    "callbacks = [checkpoint]"
   ]
  },
  {
   "cell_type": "code",
   "execution_count": 20,
   "id": "atlantic-climb",
   "metadata": {
    "colab": {
     "base_uri": "https://localhost:8080/"
    },
    "id": "atlantic-climb",
    "outputId": "d4f918af-7eb1-4be9-d3ad-13e7e1b7658f"
   },
   "outputs": [
    {
     "name": "stdout",
     "output_type": "stream",
     "text": [
      "Epoch 1/100\n",
      "13/13 [==============================] - 241s 16s/step - loss: 1.2381 - acc: 0.6309 - val_loss: 0.6357 - val_acc: 0.7188\n",
      "\n",
      "Epoch 00001: val_acc improved from -inf to 0.71875, saving model to transferlearning_weights.hdf5\n",
      "Epoch 2/100\n",
      "13/13 [==============================] - 92s 7s/step - loss: 0.4301 - acc: 0.8089 - val_loss: 0.5375 - val_acc: 0.7917\n",
      "\n",
      "Epoch 00002: val_acc improved from 0.71875 to 0.79167, saving model to transferlearning_weights.hdf5\n",
      "Epoch 3/100\n",
      "13/13 [==============================] - 80s 6s/step - loss: 0.4740 - acc: 0.8006 - val_loss: 0.6002 - val_acc: 0.7396\n",
      "\n",
      "Epoch 00003: val_acc did not improve from 0.79167\n",
      "Epoch 4/100\n",
      "13/13 [==============================] - 52s 4s/step - loss: 0.4742 - acc: 0.7696 - val_loss: 0.4947 - val_acc: 0.7708\n",
      "\n",
      "Epoch 00004: val_acc did not improve from 0.79167\n",
      "Epoch 5/100\n",
      "13/13 [==============================] - 53s 4s/step - loss: 0.4990 - acc: 0.7906 - val_loss: 0.5263 - val_acc: 0.7812\n",
      "\n",
      "Epoch 00005: val_acc did not improve from 0.79167\n",
      "Epoch 6/100\n",
      "13/13 [==============================] - 52s 4s/step - loss: 0.4102 - acc: 0.8250 - val_loss: 0.4040 - val_acc: 0.8542\n",
      "\n",
      "Epoch 00006: val_acc improved from 0.79167 to 0.85417, saving model to transferlearning_weights.hdf5\n",
      "Epoch 7/100\n",
      "13/13 [==============================] - 51s 4s/step - loss: 0.2950 - acc: 0.8705 - val_loss: 0.5902 - val_acc: 0.7604\n",
      "\n",
      "Epoch 00007: val_acc did not improve from 0.85417\n",
      "Epoch 8/100\n",
      "13/13 [==============================] - 51s 4s/step - loss: 0.4270 - acc: 0.8188 - val_loss: 0.4692 - val_acc: 0.8125\n",
      "\n",
      "Epoch 00008: val_acc did not improve from 0.85417\n",
      "Epoch 9/100\n",
      "13/13 [==============================] - 51s 4s/step - loss: 0.3504 - acc: 0.8400 - val_loss: 0.4451 - val_acc: 0.8646\n",
      "\n",
      "Epoch 00009: val_acc improved from 0.85417 to 0.86458, saving model to transferlearning_weights.hdf5\n",
      "Epoch 10/100\n",
      "13/13 [==============================] - 52s 4s/step - loss: 0.3005 - acc: 0.8737 - val_loss: 0.4534 - val_acc: 0.8750\n",
      "\n",
      "Epoch 00010: val_acc improved from 0.86458 to 0.87500, saving model to transferlearning_weights.hdf5\n",
      "Epoch 11/100\n",
      "13/13 [==============================] - 52s 4s/step - loss: 0.2740 - acc: 0.8911 - val_loss: 0.4595 - val_acc: 0.8333\n",
      "\n",
      "Epoch 00011: val_acc did not improve from 0.87500\n",
      "Epoch 12/100\n",
      "13/13 [==============================] - 51s 4s/step - loss: 0.2940 - acc: 0.8762 - val_loss: 0.4712 - val_acc: 0.8229\n",
      "\n",
      "Epoch 00012: val_acc did not improve from 0.87500\n",
      "Epoch 13/100\n",
      "13/13 [==============================] - 51s 4s/step - loss: 0.2056 - acc: 0.9278 - val_loss: 0.6207 - val_acc: 0.7604\n",
      "\n",
      "Epoch 00013: val_acc did not improve from 0.87500\n",
      "Epoch 14/100\n",
      "13/13 [==============================] - 51s 4s/step - loss: 0.2522 - acc: 0.8746 - val_loss: 0.6612 - val_acc: 0.7708\n",
      "\n",
      "Epoch 00014: val_acc did not improve from 0.87500\n",
      "Epoch 15/100\n",
      "13/13 [==============================] - 51s 4s/step - loss: 0.3965 - acc: 0.8417 - val_loss: 0.5181 - val_acc: 0.7396\n",
      "\n",
      "Epoch 00015: val_acc did not improve from 0.87500\n",
      "Epoch 16/100\n",
      "13/13 [==============================] - 51s 4s/step - loss: 0.1574 - acc: 0.9435 - val_loss: 0.5343 - val_acc: 0.8438\n",
      "\n",
      "Epoch 00016: val_acc did not improve from 0.87500\n",
      "Epoch 17/100\n",
      "13/13 [==============================] - 52s 4s/step - loss: 0.2484 - acc: 0.8917 - val_loss: 0.5458 - val_acc: 0.8750\n",
      "\n",
      "Epoch 00017: val_acc did not improve from 0.87500\n",
      "Epoch 18/100\n",
      "13/13 [==============================] - 51s 4s/step - loss: 0.1367 - acc: 0.9431 - val_loss: 0.6934 - val_acc: 0.8333\n",
      "\n",
      "Epoch 00018: val_acc did not improve from 0.87500\n",
      "Epoch 19/100\n",
      "13/13 [==============================] - 51s 4s/step - loss: 0.2000 - acc: 0.9100 - val_loss: 0.5971 - val_acc: 0.8542\n",
      "\n",
      "Epoch 00019: val_acc did not improve from 0.87500\n",
      "Epoch 20/100\n",
      "13/13 [==============================] - 51s 4s/step - loss: 0.1379 - acc: 0.9557 - val_loss: 0.8640 - val_acc: 0.7604\n",
      "\n",
      "Epoch 00020: val_acc did not improve from 0.87500\n",
      "Epoch 21/100\n",
      "13/13 [==============================] - 51s 4s/step - loss: 0.1518 - acc: 0.9420 - val_loss: 0.6601 - val_acc: 0.8438\n",
      "\n",
      "Epoch 00021: val_acc did not improve from 0.87500\n",
      "Epoch 22/100\n",
      "13/13 [==============================] - 51s 4s/step - loss: 0.1018 - acc: 0.9620 - val_loss: 0.5808 - val_acc: 0.7917\n",
      "\n",
      "Epoch 00022: val_acc did not improve from 0.87500\n",
      "Epoch 23/100\n",
      "13/13 [==============================] - 51s 4s/step - loss: 0.1222 - acc: 0.9500 - val_loss: 0.5893 - val_acc: 0.8229\n",
      "\n",
      "Epoch 00023: val_acc did not improve from 0.87500\n",
      "Epoch 24/100\n",
      "13/13 [==============================] - 51s 4s/step - loss: 0.0996 - acc: 0.9646 - val_loss: 0.7948 - val_acc: 0.8021\n",
      "\n",
      "Epoch 00024: val_acc did not improve from 0.87500\n",
      "Epoch 25/100\n",
      "13/13 [==============================] - 51s 4s/step - loss: 0.0832 - acc: 0.9691 - val_loss: 1.1289 - val_acc: 0.7708\n",
      "\n",
      "Epoch 00025: val_acc did not improve from 0.87500\n",
      "Epoch 26/100\n",
      "13/13 [==============================] - 51s 4s/step - loss: 0.1655 - acc: 0.9692 - val_loss: 0.8422 - val_acc: 0.8125\n",
      "\n",
      "Epoch 00026: val_acc did not improve from 0.87500\n",
      "Epoch 27/100\n",
      "13/13 [==============================] - 51s 4s/step - loss: 0.0675 - acc: 0.9760 - val_loss: 0.6990 - val_acc: 0.8021\n",
      "\n",
      "Epoch 00027: val_acc did not improve from 0.87500\n",
      "Epoch 28/100\n",
      "13/13 [==============================] - 51s 4s/step - loss: 0.1181 - acc: 0.9437 - val_loss: 0.8022 - val_acc: 0.8021\n",
      "\n",
      "Epoch 00028: val_acc did not improve from 0.87500\n",
      "Epoch 29/100\n",
      "13/13 [==============================] - 52s 4s/step - loss: 0.2295 - acc: 0.9300 - val_loss: 0.7770 - val_acc: 0.8542\n",
      "\n",
      "Epoch 00029: val_acc did not improve from 0.87500\n",
      "Epoch 30/100\n",
      "13/13 [==============================] - 52s 4s/step - loss: 0.0648 - acc: 0.9814 - val_loss: 0.8569 - val_acc: 0.8542\n",
      "\n",
      "Epoch 00030: val_acc did not improve from 0.87500\n",
      "Epoch 31/100\n",
      "13/13 [==============================] - 52s 4s/step - loss: 0.0769 - acc: 0.9681 - val_loss: 0.9378 - val_acc: 0.8125\n",
      "\n",
      "Epoch 00031: val_acc did not improve from 0.87500\n",
      "Epoch 32/100\n",
      "13/13 [==============================] - 52s 4s/step - loss: 0.0502 - acc: 0.9755 - val_loss: 0.7628 - val_acc: 0.8333\n",
      "\n",
      "Epoch 00032: val_acc did not improve from 0.87500\n",
      "Epoch 33/100\n",
      "13/13 [==============================] - 53s 4s/step - loss: 0.1261 - acc: 0.9537 - val_loss: 1.2366 - val_acc: 0.8125\n",
      "\n",
      "Epoch 00033: val_acc did not improve from 0.87500\n",
      "Epoch 34/100\n",
      "13/13 [==============================] - 52s 4s/step - loss: 0.1437 - acc: 0.9523 - val_loss: 0.9201 - val_acc: 0.8542\n",
      "\n",
      "Epoch 00034: val_acc did not improve from 0.87500\n",
      "Epoch 35/100\n",
      "13/13 [==============================] - 52s 4s/step - loss: 0.1102 - acc: 0.9781 - val_loss: 0.9468 - val_acc: 0.8646\n",
      "\n",
      "Epoch 00035: val_acc did not improve from 0.87500\n",
      "Epoch 36/100\n",
      "13/13 [==============================] - 52s 4s/step - loss: 0.1363 - acc: 0.9504 - val_loss: 0.8967 - val_acc: 0.8542\n",
      "\n",
      "Epoch 00036: val_acc did not improve from 0.87500\n",
      "Epoch 37/100\n",
      "13/13 [==============================] - 52s 4s/step - loss: 0.0469 - acc: 0.9853 - val_loss: 1.1136 - val_acc: 0.8438\n",
      "\n",
      "Epoch 00037: val_acc did not improve from 0.87500\n",
      "Epoch 38/100\n",
      "13/13 [==============================] - 52s 4s/step - loss: 0.0938 - acc: 0.9821 - val_loss: 0.7288 - val_acc: 0.8750\n",
      "\n",
      "Epoch 00038: val_acc did not improve from 0.87500\n",
      "Epoch 39/100\n",
      "13/13 [==============================] - 53s 4s/step - loss: 0.0965 - acc: 0.9611 - val_loss: 0.8496 - val_acc: 0.8438\n",
      "\n",
      "Epoch 00039: val_acc did not improve from 0.87500\n",
      "Epoch 40/100\n",
      "13/13 [==============================] - 51s 4s/step - loss: 0.0800 - acc: 0.9632 - val_loss: 1.2196 - val_acc: 0.8229\n",
      "\n",
      "Epoch 00040: val_acc did not improve from 0.87500\n",
      "Epoch 41/100\n",
      "13/13 [==============================] - 51s 4s/step - loss: 0.1081 - acc: 0.9530 - val_loss: 0.6762 - val_acc: 0.8542\n",
      "\n",
      "Epoch 00041: val_acc did not improve from 0.87500\n",
      "Epoch 42/100\n",
      "13/13 [==============================] - 51s 4s/step - loss: 0.0801 - acc: 0.9627 - val_loss: 1.2480 - val_acc: 0.8229\n",
      "\n",
      "Epoch 00042: val_acc did not improve from 0.87500\n",
      "Epoch 43/100\n",
      "13/13 [==============================] - 51s 4s/step - loss: 0.0645 - acc: 0.9679 - val_loss: 1.0134 - val_acc: 0.8438\n",
      "\n",
      "Epoch 00043: val_acc did not improve from 0.87500\n",
      "Epoch 44/100\n",
      "13/13 [==============================] - 51s 4s/step - loss: 0.0233 - acc: 0.9947 - val_loss: 1.2068 - val_acc: 0.8125\n",
      "\n",
      "Epoch 00044: val_acc did not improve from 0.87500\n",
      "Epoch 45/100\n",
      "13/13 [==============================] - 51s 4s/step - loss: 0.0676 - acc: 0.9744 - val_loss: 1.2239 - val_acc: 0.8021\n",
      "\n",
      "Epoch 00045: val_acc did not improve from 0.87500\n",
      "Epoch 46/100\n",
      "13/13 [==============================] - 51s 4s/step - loss: 0.1564 - acc: 0.9587 - val_loss: 1.1201 - val_acc: 0.8542\n",
      "\n",
      "Epoch 00046: val_acc did not improve from 0.87500\n",
      "Epoch 47/100\n",
      "13/13 [==============================] - 51s 4s/step - loss: 0.0377 - acc: 0.9848 - val_loss: 1.2867 - val_acc: 0.8021\n",
      "\n",
      "Epoch 00047: val_acc did not improve from 0.87500\n",
      "Epoch 48/100\n",
      "13/13 [==============================] - 51s 4s/step - loss: 0.0941 - acc: 0.9757 - val_loss: 1.2017 - val_acc: 0.8021\n",
      "\n",
      "Epoch 00048: val_acc did not improve from 0.87500\n",
      "Epoch 49/100\n",
      "13/13 [==============================] - 51s 4s/step - loss: 0.0218 - acc: 0.9922 - val_loss: 0.9259 - val_acc: 0.8438\n",
      "\n",
      "Epoch 00049: val_acc did not improve from 0.87500\n",
      "Epoch 50/100\n",
      "13/13 [==============================] - 51s 4s/step - loss: 0.0620 - acc: 0.9730 - val_loss: 0.8875 - val_acc: 0.8229\n",
      "\n",
      "Epoch 00050: val_acc did not improve from 0.87500\n",
      "Epoch 51/100\n",
      "13/13 [==============================] - 51s 4s/step - loss: 0.1351 - acc: 0.9704 - val_loss: 1.2158 - val_acc: 0.8438\n",
      "\n",
      "Epoch 00051: val_acc did not improve from 0.87500\n",
      "Epoch 52/100\n",
      "13/13 [==============================] - 51s 4s/step - loss: 0.1775 - acc: 0.9528 - val_loss: 1.3340 - val_acc: 0.8438\n",
      "\n",
      "Epoch 00052: val_acc did not improve from 0.87500\n",
      "Epoch 53/100\n",
      "13/13 [==============================] - 51s 4s/step - loss: 0.0548 - acc: 0.9840 - val_loss: 0.8507 - val_acc: 0.8229\n",
      "\n",
      "Epoch 00053: val_acc did not improve from 0.87500\n",
      "Epoch 54/100\n",
      "13/13 [==============================] - 51s 4s/step - loss: 0.0606 - acc: 0.9779 - val_loss: 1.1704 - val_acc: 0.8021\n",
      "\n",
      "Epoch 00054: val_acc did not improve from 0.87500\n",
      "Epoch 55/100\n",
      "13/13 [==============================] - 51s 4s/step - loss: 0.0509 - acc: 0.9796 - val_loss: 1.1280 - val_acc: 0.7917\n",
      "\n",
      "Epoch 00055: val_acc did not improve from 0.87500\n",
      "Epoch 56/100\n",
      "13/13 [==============================] - 51s 4s/step - loss: 0.0487 - acc: 0.9851 - val_loss: 1.6019 - val_acc: 0.7396\n",
      "\n",
      "Epoch 00056: val_acc did not improve from 0.87500\n",
      "Epoch 57/100\n",
      "13/13 [==============================] - 52s 4s/step - loss: 0.0434 - acc: 0.9822 - val_loss: 1.2936 - val_acc: 0.8125\n",
      "\n",
      "Epoch 00057: val_acc did not improve from 0.87500\n",
      "Epoch 58/100\n",
      "13/13 [==============================] - 51s 4s/step - loss: 0.0730 - acc: 0.9730 - val_loss: 1.0737 - val_acc: 0.8333\n",
      "\n",
      "Epoch 00058: val_acc did not improve from 0.87500\n",
      "Epoch 59/100\n",
      "13/13 [==============================] - 51s 4s/step - loss: 0.0156 - acc: 0.9948 - val_loss: 1.5162 - val_acc: 0.8542\n",
      "\n",
      "Epoch 00059: val_acc did not improve from 0.87500\n",
      "Epoch 60/100\n",
      "13/13 [==============================] - 51s 4s/step - loss: 0.0229 - acc: 0.9888 - val_loss: 1.5751 - val_acc: 0.8333\n",
      "\n",
      "Epoch 00060: val_acc did not improve from 0.87500\n",
      "Epoch 61/100\n",
      "13/13 [==============================] - 51s 4s/step - loss: 0.1697 - acc: 0.9457 - val_loss: 1.0724 - val_acc: 0.8750\n",
      "\n",
      "Epoch 00061: val_acc did not improve from 0.87500\n",
      "Epoch 62/100\n",
      "13/13 [==============================] - 51s 4s/step - loss: 0.0181 - acc: 0.9963 - val_loss: 1.2250 - val_acc: 0.8333\n",
      "\n",
      "Epoch 00062: val_acc did not improve from 0.87500\n",
      "Epoch 63/100\n",
      "13/13 [==============================] - 51s 4s/step - loss: 0.0634 - acc: 0.9852 - val_loss: 1.3746 - val_acc: 0.8542\n",
      "\n",
      "Epoch 00063: val_acc did not improve from 0.87500\n",
      "Epoch 64/100\n",
      "13/13 [==============================] - 51s 4s/step - loss: 0.1206 - acc: 0.9648 - val_loss: 0.9455 - val_acc: 0.8438\n",
      "\n",
      "Epoch 00064: val_acc did not improve from 0.87500\n",
      "Epoch 65/100\n",
      "13/13 [==============================] - 51s 4s/step - loss: 0.0275 - acc: 0.9895 - val_loss: 0.9794 - val_acc: 0.8438\n",
      "\n",
      "Epoch 00065: val_acc did not improve from 0.87500\n",
      "Epoch 66/100\n",
      "13/13 [==============================] - 51s 4s/step - loss: 0.0266 - acc: 0.9902 - val_loss: 1.4328 - val_acc: 0.8021\n",
      "\n",
      "Epoch 00066: val_acc did not improve from 0.87500\n",
      "Epoch 67/100\n",
      "13/13 [==============================] - 51s 4s/step - loss: 0.0863 - acc: 0.9764 - val_loss: 1.2025 - val_acc: 0.8438\n",
      "\n",
      "Epoch 00067: val_acc did not improve from 0.87500\n",
      "Epoch 68/100\n",
      "13/13 [==============================] - 51s 4s/step - loss: 0.0139 - acc: 0.9963 - val_loss: 1.1843 - val_acc: 0.8021\n",
      "\n",
      "Epoch 00068: val_acc did not improve from 0.87500\n",
      "Epoch 69/100\n",
      "13/13 [==============================] - 51s 4s/step - loss: 0.0234 - acc: 0.9930 - val_loss: 1.8262 - val_acc: 0.7396\n",
      "\n",
      "Epoch 00069: val_acc did not improve from 0.87500\n",
      "Epoch 70/100\n",
      "13/13 [==============================] - 51s 4s/step - loss: 0.1773 - acc: 0.9422 - val_loss: 0.9896 - val_acc: 0.8542\n",
      "\n",
      "Epoch 00070: val_acc did not improve from 0.87500\n",
      "Epoch 71/100\n",
      "13/13 [==============================] - 51s 4s/step - loss: 0.0128 - acc: 0.9903 - val_loss: 1.6498 - val_acc: 0.7917\n",
      "\n",
      "Epoch 00071: val_acc did not improve from 0.87500\n",
      "Epoch 72/100\n",
      "13/13 [==============================] - 51s 4s/step - loss: 0.0397 - acc: 0.9886 - val_loss: 1.1379 - val_acc: 0.8125\n",
      "\n",
      "Epoch 00072: val_acc did not improve from 0.87500\n",
      "Epoch 73/100\n",
      "13/13 [==============================] - 52s 4s/step - loss: 0.0238 - acc: 0.9899 - val_loss: 1.1312 - val_acc: 0.8542\n",
      "\n",
      "Epoch 00073: val_acc did not improve from 0.87500\n",
      "Epoch 74/100\n",
      "13/13 [==============================] - 51s 4s/step - loss: 0.0350 - acc: 0.9896 - val_loss: 1.4525 - val_acc: 0.8333\n",
      "\n",
      "Epoch 00074: val_acc did not improve from 0.87500\n",
      "Epoch 75/100\n",
      "13/13 [==============================] - 51s 4s/step - loss: 0.0358 - acc: 0.9788 - val_loss: 1.2340 - val_acc: 0.8229\n",
      "\n",
      "Epoch 00075: val_acc did not improve from 0.87500\n",
      "Epoch 76/100\n",
      "13/13 [==============================] - 51s 4s/step - loss: 0.0106 - acc: 0.9949 - val_loss: 2.2084 - val_acc: 0.8125\n",
      "\n",
      "Epoch 00076: val_acc did not improve from 0.87500\n",
      "Epoch 77/100\n",
      "13/13 [==============================] - 51s 4s/step - loss: 0.0723 - acc: 0.9799 - val_loss: 1.4518 - val_acc: 0.8333\n",
      "\n",
      "Epoch 00077: val_acc did not improve from 0.87500\n",
      "Epoch 78/100\n",
      "13/13 [==============================] - 51s 4s/step - loss: 0.0158 - acc: 0.9965 - val_loss: 2.2812 - val_acc: 0.6979\n",
      "\n",
      "Epoch 00078: val_acc did not improve from 0.87500\n",
      "Epoch 79/100\n",
      "13/13 [==============================] - 51s 4s/step - loss: 0.1061 - acc: 0.9742 - val_loss: 1.4730 - val_acc: 0.7917\n",
      "\n",
      "Epoch 00079: val_acc did not improve from 0.87500\n",
      "Epoch 80/100\n",
      "13/13 [==============================] - 51s 4s/step - loss: 0.0265 - acc: 0.9833 - val_loss: 1.5600 - val_acc: 0.8229\n",
      "\n",
      "Epoch 00080: val_acc did not improve from 0.87500\n",
      "Epoch 81/100\n",
      "13/13 [==============================] - 51s 4s/step - loss: 0.0400 - acc: 0.9878 - val_loss: 1.1817 - val_acc: 0.8958\n",
      "\n",
      "Epoch 00081: val_acc improved from 0.87500 to 0.89583, saving model to transferlearning_weights.hdf5\n",
      "Epoch 82/100\n",
      "13/13 [==============================] - 52s 4s/step - loss: 0.0370 - acc: 0.9917 - val_loss: 1.7300 - val_acc: 0.8021\n",
      "\n",
      "Epoch 00082: val_acc did not improve from 0.89583\n",
      "Epoch 83/100\n",
      "13/13 [==============================] - 51s 4s/step - loss: 0.0412 - acc: 0.9844 - val_loss: 1.5778 - val_acc: 0.8125\n",
      "\n",
      "Epoch 00083: val_acc did not improve from 0.89583\n",
      "Epoch 84/100\n",
      "13/13 [==============================] - 51s 4s/step - loss: 0.0157 - acc: 0.9942 - val_loss: 1.4072 - val_acc: 0.8333\n",
      "\n",
      "Epoch 00084: val_acc did not improve from 0.89583\n",
      "Epoch 85/100\n",
      "13/13 [==============================] - 51s 4s/step - loss: 0.0097 - acc: 0.9982 - val_loss: 1.5914 - val_acc: 0.8125\n",
      "\n",
      "Epoch 00085: val_acc did not improve from 0.89583\n",
      "Epoch 86/100\n",
      "13/13 [==============================] - 51s 4s/step - loss: 0.0241 - acc: 0.9895 - val_loss: 1.2743 - val_acc: 0.8333\n",
      "\n",
      "Epoch 00086: val_acc did not improve from 0.89583\n",
      "Epoch 87/100\n",
      "13/13 [==============================] - 52s 4s/step - loss: 0.0212 - acc: 0.9850 - val_loss: 1.7299 - val_acc: 0.8021\n",
      "\n",
      "Epoch 00087: val_acc did not improve from 0.89583\n",
      "Epoch 88/100\n",
      "13/13 [==============================] - 52s 4s/step - loss: 0.0207 - acc: 0.9890 - val_loss: 2.9857 - val_acc: 0.7604\n",
      "\n",
      "Epoch 00088: val_acc did not improve from 0.89583\n",
      "Epoch 89/100\n",
      "13/13 [==============================] - 51s 4s/step - loss: 0.0451 - acc: 0.9865 - val_loss: 1.4890 - val_acc: 0.8542\n",
      "\n",
      "Epoch 00089: val_acc did not improve from 0.89583\n",
      "Epoch 90/100\n",
      "13/13 [==============================] - 52s 4s/step - loss: 0.0168 - acc: 0.9872 - val_loss: 2.6518 - val_acc: 0.8021\n",
      "\n",
      "Epoch 00090: val_acc did not improve from 0.89583\n",
      "Epoch 91/100\n",
      "13/13 [==============================] - 51s 4s/step - loss: 0.0263 - acc: 0.9854 - val_loss: 2.1417 - val_acc: 0.8333\n",
      "\n",
      "Epoch 00091: val_acc did not improve from 0.89583\n",
      "Epoch 92/100\n",
      "13/13 [==============================] - 51s 4s/step - loss: 0.0209 - acc: 0.9967 - val_loss: 1.5651 - val_acc: 0.8333\n",
      "\n",
      "Epoch 00092: val_acc did not improve from 0.89583\n",
      "Epoch 93/100\n",
      "13/13 [==============================] - 51s 4s/step - loss: 0.0243 - acc: 0.9797 - val_loss: 2.0028 - val_acc: 0.8021\n",
      "\n",
      "Epoch 00093: val_acc did not improve from 0.89583\n",
      "Epoch 94/100\n",
      "13/13 [==============================] - 51s 4s/step - loss: 0.0067 - acc: 0.9982 - val_loss: 1.7523 - val_acc: 0.8854\n",
      "\n",
      "Epoch 00094: val_acc did not improve from 0.89583\n",
      "Epoch 95/100\n",
      "13/13 [==============================] - 51s 4s/step - loss: 0.0538 - acc: 0.9930 - val_loss: 1.7041 - val_acc: 0.8021\n",
      "\n",
      "Epoch 00095: val_acc did not improve from 0.89583\n",
      "Epoch 96/100\n",
      "13/13 [==============================] - 52s 4s/step - loss: 0.0896 - acc: 0.9884 - val_loss: 1.5937 - val_acc: 0.8333\n",
      "\n",
      "Epoch 00096: val_acc did not improve from 0.89583\n",
      "Epoch 97/100\n",
      "13/13 [==============================] - 52s 4s/step - loss: 0.0053 - acc: 1.0000 - val_loss: 1.7068 - val_acc: 0.8646\n",
      "\n",
      "Epoch 00097: val_acc did not improve from 0.89583\n",
      "Epoch 98/100\n",
      "13/13 [==============================] - 53s 4s/step - loss: 0.0813 - acc: 0.9844 - val_loss: 1.8051 - val_acc: 0.8021\n",
      "\n",
      "Epoch 00098: val_acc did not improve from 0.89583\n",
      "Epoch 99/100\n",
      "13/13 [==============================] - 52s 4s/step - loss: 0.0363 - acc: 0.9881 - val_loss: 1.6555 - val_acc: 0.8542\n",
      "\n",
      "Epoch 00099: val_acc did not improve from 0.89583\n",
      "Epoch 100/100\n",
      "13/13 [==============================] - 51s 4s/step - loss: 0.0098 - acc: 0.9984 - val_loss: 2.0403 - val_acc: 0.8229\n",
      "\n",
      "Epoch 00100: val_acc did not improve from 0.89583\n"
     ]
    }
   ],
   "source": [
    "# treinando a rede neural convolucional\n",
    "history = model.fit_generator(train_generator, steps_per_epoch = 423  // 32, \n",
    "                              validation_data = valid_generator, validation_steps = 106 // 32,\n",
    "                              callbacks = callbacks, epochs = 100)"
   ]
  },
  {
   "cell_type": "code",
   "execution_count": 21,
   "id": "-8zn_8gWGM9I",
   "metadata": {
    "colab": {
     "base_uri": "https://localhost:8080/"
    },
    "id": "-8zn_8gWGM9I",
    "outputId": "67547f77-fc0d-426b-f0af-23d0b4c7063a"
   },
   "outputs": [
    {
     "name": "stdout",
     "output_type": "stream",
     "text": [
      "5/5 [==============================] - 49s 12s/step - loss: 1.1196 - acc: 0.8496\n"
     ]
    },
    {
     "data": {
      "text/plain": [
       "[1.1195971965789795, 0.8496240377426147]"
      ]
     },
     "execution_count": 21,
     "metadata": {
      "tags": []
     },
     "output_type": "execute_result"
    }
   ],
   "source": [
    "model.evaluate(test_generator)"
   ]
  },
  {
   "cell_type": "code",
   "execution_count": 22,
   "id": "7kqjvfTfGQMd",
   "metadata": {
    "id": "7kqjvfTfGQMd"
   },
   "outputs": [],
   "source": [
    "best_model = model\n",
    "best_model.load_weights('/content/transferlearning_weights.hdf5')"
   ]
  },
  {
   "cell_type": "code",
   "execution_count": 23,
   "id": "OKp1AtaaGSfp",
   "metadata": {
    "colab": {
     "base_uri": "https://localhost:8080/"
    },
    "id": "OKp1AtaaGSfp",
    "outputId": "fe4f5aa5-d8bb-4182-fa1e-58f3117ee622"
   },
   "outputs": [
    {
     "name": "stdout",
     "output_type": "stream",
     "text": [
      "5/5 [==============================] - 12s 2s/step - loss: 0.8562 - acc: 0.8571\n"
     ]
    },
    {
     "data": {
      "text/plain": [
       "[0.8561679124832153, 0.8571428656578064]"
      ]
     },
     "execution_count": 23,
     "metadata": {
      "tags": []
     },
     "output_type": "execute_result"
    }
   ],
   "source": [
    "best_model.evaluate(test_generator)"
   ]
  },
  {
   "cell_type": "code",
   "execution_count": 24,
   "id": "RpUtiWkjGrIq",
   "metadata": {
    "id": "RpUtiWkjGrIq"
   },
   "outputs": [],
   "source": [
    "(x1, y1) = test_generator[0]\n",
    "(x2, y2) = test_generator[1]\n",
    "(x3, y3) = test_generator[2]\n",
    "(x4, y4) = test_generator[3]\n",
    "(x5, y5) = test_generator[4]"
   ]
  },
  {
   "cell_type": "code",
   "execution_count": 27,
   "id": "s3JKAfiNGr_q",
   "metadata": {
    "id": "s3JKAfiNGr_q"
   },
   "outputs": [],
   "source": [
    "x = np.concatenate((x1, x2, x3, x4, x5))\n",
    "y = np.concatenate((y1, y2, y3, y4, y5))"
   ]
  },
  {
   "cell_type": "code",
   "execution_count": 28,
   "id": "YGjs1k5PGt0v",
   "metadata": {
    "id": "YGjs1k5PGt0v"
   },
   "outputs": [],
   "source": [
    "predict = best_model.predict(x)"
   ]
  },
  {
   "cell_type": "code",
   "execution_count": 29,
   "id": "NEdvXfRRG6ip",
   "metadata": {
    "id": "NEdvXfRRG6ip"
   },
   "outputs": [],
   "source": [
    "predict_ = []\n",
    "for i in predict:\n",
    "  if i > 0.95:\n",
    "    predict_.append(1)\n",
    "  else:\n",
    "    predict_.append(0)"
   ]
  },
  {
   "cell_type": "code",
   "execution_count": 30,
   "id": "-YN6LRh8G7a-",
   "metadata": {
    "colab": {
     "base_uri": "https://localhost:8080/"
    },
    "id": "-YN6LRh8G7a-",
    "outputId": "696189e0-ce36-4ae7-b50f-a14d8b75d53a"
   },
   "outputs": [
    {
     "data": {
      "text/plain": [
       "array([[60, 16],\n",
       "       [ 5, 52]])"
      ]
     },
     "execution_count": 30,
     "metadata": {
      "tags": []
     },
     "output_type": "execute_result"
    }
   ],
   "source": [
    "confusion_matrix(predict_, y)"
   ]
  },
  {
   "cell_type": "code",
   "execution_count": 31,
   "id": "Sl5CawDCG_2c",
   "metadata": {
    "colab": {
     "base_uri": "https://localhost:8080/"
    },
    "id": "Sl5CawDCG_2c",
    "outputId": "bf8659d3-564b-4d3b-e013-0e8e1ada2bd5"
   },
   "outputs": [
    {
     "data": {
      "text/plain": [
       "(array([0.92307692, 0.76470588]),\n",
       " array([0.78947368, 0.9122807 ]),\n",
       " array([0.85106383, 0.832     ]),\n",
       " array([76, 57]))"
      ]
     },
     "execution_count": 31,
     "metadata": {
      "tags": []
     },
     "output_type": "execute_result"
    }
   ],
   "source": [
    "precision_recall_fscore_support(predict_, y)"
   ]
  },
  {
   "cell_type": "code",
   "execution_count": 32,
   "id": "fWUczQq7HFdQ",
   "metadata": {
    "colab": {
     "base_uri": "https://localhost:8080/"
    },
    "id": "fWUczQq7HFdQ",
    "outputId": "2f3267ac-69ee-417d-8616-f0d618109190"
   },
   "outputs": [
    {
     "data": {
      "text/plain": [
       "0.7894736842105263"
      ]
     },
     "execution_count": 32,
     "metadata": {
      "tags": []
     },
     "output_type": "execute_result"
    }
   ],
   "source": [
    "precision = 60 / (60 + 16)\n",
    "precision"
   ]
  },
  {
   "cell_type": "code",
   "execution_count": 33,
   "id": "YUkh5k1-HJwI",
   "metadata": {
    "colab": {
     "base_uri": "https://localhost:8080/"
    },
    "id": "YUkh5k1-HJwI",
    "outputId": "523e2436-1c6f-47d9-d384-bd04fec7e036"
   },
   "outputs": [
    {
     "data": {
      "text/plain": [
       "0.9230769230769231"
      ]
     },
     "execution_count": 33,
     "metadata": {
      "tags": []
     },
     "output_type": "execute_result"
    }
   ],
   "source": [
    "recall = 60 / (60 + 5)\n",
    "recall"
   ]
  },
  {
   "cell_type": "code",
   "execution_count": 34,
   "id": "K_cSc_xdHOfH",
   "metadata": {
    "colab": {
     "base_uri": "https://localhost:8080/"
    },
    "id": "K_cSc_xdHOfH",
    "outputId": "e63a96b6-e368-4886-9cdf-ad573c1d97f8"
   },
   "outputs": [
    {
     "data": {
      "text/plain": [
       "0.8510638297872342"
      ]
     },
     "execution_count": 34,
     "metadata": {
      "tags": []
     },
     "output_type": "execute_result"
    }
   ],
   "source": [
    "f1 = (2 * precision * recall) / (precision + recall)\n",
    "f1"
   ]
  },
  {
   "cell_type": "code",
   "execution_count": 35,
   "id": "DpNh3gdcHS5T",
   "metadata": {
    "colab": {
     "base_uri": "https://localhost:8080/"
    },
    "id": "DpNh3gdcHS5T",
    "outputId": "8391db85-4e8b-4abe-9e26-b789395f3056"
   },
   "outputs": [
    {
     "name": "stdout",
     "output_type": "stream",
     "text": [
      "INFO:tensorflow:Assets written to: model1/assets\n",
      "INFO:tensorflow:Assets written to: model2/assets\n"
     ]
    }
   ],
   "source": [
    "model.save('model1')\n",
    "best_model.save('model2')"
   ]
  },
  {
   "cell_type": "code",
   "execution_count": 36,
   "id": "X4UhBG6SHTyQ",
   "metadata": {
    "colab": {
     "base_uri": "https://localhost:8080/",
     "height": 590
    },
    "id": "X4UhBG6SHTyQ",
    "outputId": "1e6fcbaf-a453-40a8-e31c-f6e850f457ea"
   },
   "outputs": [
    {
     "data": {
      "image/png": "[encoded data removed]",
      "text/plain": [
       "<Figure size 432x288 with 1 Axes>"
      ]
     },
     "metadata": {
      "needs_background": "light",
      "tags": []
     },
     "output_type": "display_data"
    },
    {
     "data": {
      "image/png": "[encoded data removed]",
      "text/plain": [
       "<Figure size 432x288 with 1 Axes>"
      ]
     },
     "metadata": {
      "needs_background": "light",
      "tags": []
     },
     "output_type": "display_data"
    },
    {
     "data": {
      "text/plain": [
       "<Figure size 432x288 with 0 Axes>"
      ]
     },
     "metadata": {
      "tags": []
     },
     "output_type": "display_data"
    }
   ],
   "source": [
    "plt.plot(history.history['acc'])\n",
    "plt.plot(history.history['val_acc'])\n",
    "plt.title('model accuracy')\n",
    "plt.ylabel('accuracy')\n",
    "plt.xlabel('epoch')\n",
    "plt.legend(['train', 'test'], loc='upper left')\n",
    "plt.show()\n",
    "plt.savefig('model-accuracy')\n",
    "# summarize history for loss\n",
    "plt.plot(history.history['loss'])\n",
    "plt.plot(history.history['val_loss'])\n",
    "plt.title('model loss')\n",
    "plt.ylabel('loss')\n",
    "plt.xlabel('epoch')\n",
    "plt.legend(['train', 'test'], loc='upper left')\n",
    "plt.show()\n",
    "plt.savefig('model-loss')"
   ]
  }
 ],
 "metadata": {
  "accelerator": "GPU",
  "colab": {
   "name": "experimento1-dataset2-parte2.ipynb",
   "provenance": [],
   "toc_visible": true
  },
  "kernelspec": {
   "display_name": "Python 3",
   "language": "python",
   "name": "python3"
  },
  "language_info": {
   "codemirror_mode": {
    "name": "ipython",
    "version": 3
   },
   "file_extension": ".py",
   "mimetype": "text/x-python",
   "name": "python",
   "nbconvert_exporter": "python",
   "pygments_lexer": "ipython3",
   "version": "3.8.7"
  }
 },
 "nbformat": 4,
 "nbformat_minor": 5
}
