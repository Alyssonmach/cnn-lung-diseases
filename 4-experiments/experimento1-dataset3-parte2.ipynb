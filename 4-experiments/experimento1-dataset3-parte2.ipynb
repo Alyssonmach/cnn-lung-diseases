{
  "nbformat": 4,
  "nbformat_minor": 5,
  "metadata": {
    "accelerator": "GPU",
    "colab": {
      "name": "experimento1-dataset2-parte2.ipynb",
      "provenance": [],
      "toc_visible": true
    },
    "kernelspec": {
      "display_name": "Python 3",
      "language": "python",
      "name": "python3"
    },
    "language_info": {
      "codemirror_mode": {
        "name": "ipython",
        "version": 3
      },
      "file_extension": ".py",
      "mimetype": "text/x-python",
      "name": "python",
      "nbconvert_exporter": "python",
      "pygments_lexer": "ipython3",
      "version": "3.8.7"
    }
  },
  "cells": [
    {
      "cell_type": "markdown",
      "metadata": {
        "id": "veterinary-quantum"
      },
      "source": [
        "# Experimento 1\n",
        "***\n",
        "- Conjuntos de dados: Montgomery + Shenzen\n",
        "- Testando a equalização de histograma em comparação com a mudança típica de escala"
      ],
      "id": "veterinary-quantum"
    },
    {
      "cell_type": "markdown",
      "metadata": {
        "id": "coral-meaning"
      },
      "source": [
        "### Importando os pacotes necessários"
      ],
      "id": "coral-meaning"
    },
    {
      "cell_type": "code",
      "metadata": {
        "id": "hispanic-juvenile"
      },
      "source": [
        "import glob\n",
        "import re\n",
        "from tqdm import tqdm\n",
        "import urllib.request\n",
        "import pandas as pd\n",
        "from sklearn.model_selection import train_test_split\n",
        "from keras.preprocessing.image import ImageDataGenerator\n",
        "from sklearn.metrics import confusion_matrix, precision_recall_fscore_support\n",
        "import matplotlib.pyplot as plt\n",
        "import numpy as np\n",
        "\n",
        "from tensorflow.keras import layers\n",
        "from tensorflow.keras import Model\n",
        "from tensorflow.keras.applications.inception_v3 import InceptionV3\n",
        "from tensorflow.keras import optimizers\n",
        "from tensorflow.keras.callbacks import ModelCheckpoint\n",
        "\n",
        "import warnings\n",
        "warnings.filterwarnings(\"ignore\")"
      ],
      "id": "hispanic-juvenile",
      "execution_count": 1,
      "outputs": []
    },
    {
      "cell_type": "markdown",
      "metadata": {
        "id": "forced-connection"
      },
      "source": [
        "### Pré-processando os dados"
      ],
      "id": "forced-connection"
    },
    {
      "cell_type": "code",
      "metadata": {
        "id": "apart-brush"
      },
      "source": [
        "# coletando o caminho dos arquivos dos dados do hospital shenzen\n",
        "filelist_shenzen = glob.glob('/content/drive/MyDrive/ChinaSet_AllFiles/ChinaSet_AllFiles/CXR_png/*.png')\n",
        "# coletando o caminho dos arquivos dos dados do hospital montgomery\n",
        "filelist_montgomery = glob.glob('/content/drive/MyDrive/Montgomery/MontgomerySet/CXR_png/*.png')\n",
        "# juntando os dois datasets\n",
        "filelist = filelist_shenzen + filelist_montgomery"
      ],
      "id": "apart-brush",
      "execution_count": 3,
      "outputs": []
    },
    {
      "cell_type": "code",
      "metadata": {
        "colab": {
          "base_uri": "https://localhost:8080/"
        },
        "id": "chicken-monthly",
        "outputId": "f615ff0c-ff54-4ddb-cbf8-7cd7a9ab8260"
      },
      "source": [
        "# quantidade de imagens disponíveis no dataset\n",
        "print('quantidade de imagens:', str(len(filelist)))"
      ],
      "id": "chicken-monthly",
      "execution_count": 4,
      "outputs": [
        {
          "output_type": "stream",
          "text": [
            "quantidade de imagens: 800\n"
          ],
          "name": "stdout"
        }
      ]
    },
    {
      "cell_type": "code",
      "metadata": {
        "id": "front-butler"
      },
      "source": [
        "def extract_label(file_list):\n",
        "    \n",
        "    # inicializando uma lista vazia\n",
        "    labels = []\n",
        "    \n",
        "    # iterando na lista de arquivos\n",
        "    for file in tqdm(file_list):\n",
        "        # detectando as classes presentes no nome da imagem\n",
        "        current_label = re.findall('[0-9]{4}_(.+?).png', file)\n",
        "        # adicionando a lista de rótulos as classes correspondentes a cada uma das imagens\n",
        "        labels.append(current_label[0])\n",
        "        \n",
        "    return labels"
      ],
      "id": "front-butler",
      "execution_count": 5,
      "outputs": []
    },
    {
      "cell_type": "code",
      "metadata": {
        "colab": {
          "base_uri": "https://localhost:8080/"
        },
        "id": "connected-plastic",
        "outputId": "42bd14bf-a682-401d-94ab-af7eb353565f"
      },
      "source": [
        "# extraindo os rótulos\n",
        "labels = extract_label(filelist)"
      ],
      "id": "connected-plastic",
      "execution_count": 6,
      "outputs": [
        {
          "output_type": "stream",
          "text": [
            "100%|██████████| 800/800 [00:00<00:00, 157591.73it/s]\n"
          ],
          "name": "stderr"
        }
      ]
    },
    {
      "cell_type": "code",
      "metadata": {
        "colab": {
          "base_uri": "https://localhost:8080/"
        },
        "id": "fuzzy-variation",
        "outputId": "d243f650-42a3-422c-f828-e5c299971189"
      },
      "source": [
        "# visualizando a quantidade de rótulos\n",
        "print('quantidade de rótulos:', str(len(labels)))"
      ],
      "id": "fuzzy-variation",
      "execution_count": 7,
      "outputs": [
        {
          "output_type": "stream",
          "text": [
            "quantidade de rótulos: 800\n"
          ],
          "name": "stdout"
        }
      ]
    },
    {
      "cell_type": "code",
      "metadata": {
        "id": "solar-camera"
      },
      "source": [
        "# criando um dataframe com os caminhos das imagens\n",
        "full_data = pd.DataFrame(filelist, columns = ['filepath'])\n",
        "# adicionando os rótulos em cada imagem\n",
        "full_data['target'] = labels"
      ],
      "id": "solar-camera",
      "execution_count": 8,
      "outputs": []
    },
    {
      "cell_type": "code",
      "metadata": {
        "id": "balanced-preliminary"
      },
      "source": [
        "# modificando o formato dos dados para float32\n",
        "dict_type = {'target': 'float32'}\n",
        "full_data = full_data.astype(dict_type)"
      ],
      "id": "balanced-preliminary",
      "execution_count": 9,
      "outputs": []
    },
    {
      "cell_type": "code",
      "metadata": {
        "id": "coated-boards"
      },
      "source": [
        "# separando os dados de treinamento e de teste\n",
        "train_df, test_df = train_test_split(full_data, stratify = full_data['target'],\n",
        "                                     test_size = 0.2, random_state = 42)"
      ],
      "id": "coated-boards",
      "execution_count": 10,
      "outputs": []
    },
    {
      "cell_type": "code",
      "metadata": {
        "id": "talented-program"
      },
      "source": [
        "# separando os dados de validação dos dados de treinamento\n",
        "train_df, validation_df = train_test_split(train_df, stratify = train_df['target'],\n",
        "                                           test_size = 0.2, random_state = 42)"
      ],
      "id": "talented-program",
      "execution_count": 11,
      "outputs": []
    },
    {
      "cell_type": "code",
      "metadata": {
        "colab": {
          "base_uri": "https://localhost:8080/"
        },
        "id": "funded-mouth",
        "outputId": "bb662cfc-6fc3-47e8-dbf2-c6cd95c11a7f"
      },
      "source": [
        "# visualizando a quantidade de dados\n",
        "print('quantidade de imagens de treinamento:', len(train_df['filepath']))\n",
        "print('quantidade de rótulos de treinamento:', len(train_df['target']))\n",
        "print('quantidade de imagens de teste:', len(test_df['filepath']))\n",
        "print('quantidade de rótulos de teste:', len(test_df['target']))\n",
        "print('quantidade de imagens de validação:', len(validation_df['filepath']))\n",
        "print('quantidade de rótulos de validação:', len(validation_df['target']))"
      ],
      "id": "funded-mouth",
      "execution_count": 12,
      "outputs": [
        {
          "output_type": "stream",
          "text": [
            "quantidade de imagens de treinamento: 512\n",
            "quantidade de rótulos de treinamento: 512\n",
            "quantidade de imagens de teste: 160\n",
            "quantidade de rótulos de teste: 160\n",
            "quantidade de imagens de validação: 128\n",
            "quantidade de rótulos de validação: 128\n"
          ],
          "name": "stdout"
        }
      ]
    },
    {
      "cell_type": "markdown",
      "metadata": {
        "id": "relevant-century"
      },
      "source": [
        "### Aplicando equalização de histograma"
      ],
      "id": "relevant-century"
    },
    {
      "cell_type": "code",
      "metadata": {
        "colab": {
          "base_uri": "https://localhost:8080/"
        },
        "id": "fewer-local",
        "outputId": "8c6ca30a-c667-4d54-999d-2f41988d2279"
      },
      "source": [
        "# normalizando as imagens de treinamento e aplicando aumento de dados\n",
        "image_generator = ImageDataGenerator(samplewise_center = True, samplewise_std_normalization = True,\n",
        "                                     rotation_range = 10, zoom_range = 0.2)\n",
        "\n",
        "# criando o gerador de imagens de treinamento \n",
        "train_generator = image_generator.flow_from_dataframe(\n",
        "                                                      dataframe = train_df,\n",
        "                                                      directory = '',\n",
        "                                                      x_col = 'filepath',\n",
        "                                                      y_col = 'target',\n",
        "                                                      batch_size = 32,\n",
        "                                                      seed = 42,\n",
        "                                                      shuffle = True,\n",
        "                                                      class_mode = 'raw',\n",
        "                                                      color_mode = 'rgb',\n",
        "                                                      target_size = (256, 256))\n",
        "# criando o gerador de imagens de validação \n",
        "valid_generator = image_generator.flow_from_dataframe(\n",
        "                                                      dataframe = validation_df,\n",
        "                                                      directory = '.', \n",
        "                                                      x_col = 'filepath',\n",
        "                                                      y_col = 'target',\n",
        "                                                      batch_size = 32,\n",
        "                                                      seed = 42,\n",
        "                                                      shuffle = True,\n",
        "                                                      class_mode = 'raw',\n",
        "                                                      target_size = (256, 256))\n",
        "\n",
        "# normalizando as imagens de teste \n",
        "test_datagen = ImageDataGenerator(samplewise_center = True, samplewise_std_normalization = True)\n",
        "\n",
        "test_generator = test_datagen.flow_from_dataframe(\n",
        "                                                  dataframe = test_df, \n",
        "                                                  directory = '.',\n",
        "                                                  x_col = 'filepath',\n",
        "                                                  y_col = 'target',\n",
        "                                                  batch_size = 32,\n",
        "                                                  seed = 42,\n",
        "                                                  shuffle = True,\n",
        "                                                  class_mode = 'raw',\n",
        "                                                  target_size = (256, 256))"
      ],
      "id": "fewer-local",
      "execution_count": 13,
      "outputs": [
        {
          "output_type": "stream",
          "text": [
            "Found 512 validated image filenames.\n",
            "Found 128 validated image filenames.\n",
            "Found 160 validated image filenames.\n"
          ],
          "name": "stdout"
        }
      ]
    },
    {
      "cell_type": "markdown",
      "metadata": {
        "id": "ambient-combat"
      },
      "source": [
        "### Preparando a rede neural convolucional"
      ],
      "id": "ambient-combat"
    },
    {
      "cell_type": "code",
      "metadata": {
        "colab": {
          "base_uri": "https://localhost:8080/"
        },
        "id": "adjacent-dominant",
        "outputId": "48958796-356f-4447-c209-00ac865f3ac8"
      },
      "source": [
        "# baixando os pesos treinados da rede inception\n",
        "!wget --no-check-certificate \\\n",
        "    https://storage.googleapis.com/mledu-datasets/inception_v3_weights_tf_dim_ordering_tf_kernels_notop.h5 \\\n",
        "    -O /tmp/inception_v3_weights_tf_dim_ordering_tf_kernels_notop.h5"
      ],
      "id": "adjacent-dominant",
      "execution_count": 14,
      "outputs": [
        {
          "output_type": "stream",
          "text": [
            "--2021-03-03 01:13:22--  https://storage.googleapis.com/mledu-datasets/inception_v3_weights_tf_dim_ordering_tf_kernels_notop.h5\n",
            "Resolving storage.googleapis.com (storage.googleapis.com)... 172.217.12.240, 172.217.15.112, 172.217.2.112, ...\n",
            "Connecting to storage.googleapis.com (storage.googleapis.com)|172.217.12.240|:443... connected.\n",
            "HTTP request sent, awaiting response... 200 OK\n",
            "Length: 87910968 (84M) [application/x-hdf]\n",
            "Saving to: ‘/tmp/inception_v3_weights_tf_dim_ordering_tf_kernels_notop.h5’\n",
            "\n",
            "/tmp/inception_v3_w 100%[===================>]  83.84M   264MB/s    in 0.3s    \n",
            "\n",
            "2021-03-03 01:13:23 (264 MB/s) - ‘/tmp/inception_v3_weights_tf_dim_ordering_tf_kernels_notop.h5’ saved [87910968/87910968]\n",
            "\n"
          ],
          "name": "stdout"
        }
      ]
    },
    {
      "cell_type": "code",
      "metadata": {
        "colab": {
          "base_uri": "https://localhost:8080/"
        },
        "id": "continental-holder",
        "outputId": "4b1e2a2d-7afd-423c-ebe2-9115bcad0a48"
      },
      "source": [
        "# referenciando o local em que os pesos estão armazenados\n",
        "local_weights_file = '/tmp/inception_v3_weights_tf_dim_ordering_tf_kernels_notop.h5'\n",
        "\n",
        "# carregando a arquitetura inception pré-treinada\n",
        "pre_trained_model = InceptionV3(input_shape = (256, 256, 3), \n",
        "                                include_top = False, \n",
        "                                weights = None)\n",
        "\n",
        "# carregando os pesos treinados com outros dados \n",
        "pre_trained_model.load_weights(local_weights_file)\n",
        "\n",
        "# definindo as flags iniciais  \n",
        "pre_trained_model.trainable = True\n",
        "set_trainable = False\n",
        "\n",
        "# para a arquitetura inception, a rede será retreinada a partir da camada 'mixed6'\n",
        "for layer in pre_trained_model.layers:\n",
        "    if layer.name == 'mixed6':\n",
        "        set_trainable = True\n",
        "    if set_trainable:\n",
        "        layer.trainable = True\n",
        "    else:\n",
        "        layer.trainable = False\n",
        "\n",
        "# visualizando a arquitetura definida\n",
        "pre_trained_model.summary()\n",
        "\n",
        "# obtendo a última camada como sendo a nomeada por 'mixed7'\n",
        "last_layer = pre_trained_model.get_layer('mixed7')\n",
        "last_output = last_layer.output"
      ],
      "id": "continental-holder",
      "execution_count": 15,
      "outputs": [
        {
          "output_type": "stream",
          "text": [
            "Model: \"inception_v3\"\n",
            "__________________________________________________________________________________________________\n",
            "Layer (type)                    Output Shape         Param #     Connected to                     \n",
            "==================================================================================================\n",
            "input_1 (InputLayer)            [(None, 256, 256, 3) 0                                            \n",
            "__________________________________________________________________________________________________\n",
            "conv2d (Conv2D)                 (None, 127, 127, 32) 864         input_1[0][0]                    \n",
            "__________________________________________________________________________________________________\n",
            "batch_normalization (BatchNorma (None, 127, 127, 32) 96          conv2d[0][0]                     \n",
            "__________________________________________________________________________________________________\n",
            "activation (Activation)         (None, 127, 127, 32) 0           batch_normalization[0][0]        \n",
            "__________________________________________________________________________________________________\n",
            "conv2d_1 (Conv2D)               (None, 125, 125, 32) 9216        activation[0][0]                 \n",
            "__________________________________________________________________________________________________\n",
            "batch_normalization_1 (BatchNor (None, 125, 125, 32) 96          conv2d_1[0][0]                   \n",
            "__________________________________________________________________________________________________\n",
            "activation_1 (Activation)       (None, 125, 125, 32) 0           batch_normalization_1[0][0]      \n",
            "__________________________________________________________________________________________________\n",
            "conv2d_2 (Conv2D)               (None, 125, 125, 64) 18432       activation_1[0][0]               \n",
            "__________________________________________________________________________________________________\n",
            "batch_normalization_2 (BatchNor (None, 125, 125, 64) 192         conv2d_2[0][0]                   \n",
            "__________________________________________________________________________________________________\n",
            "activation_2 (Activation)       (None, 125, 125, 64) 0           batch_normalization_2[0][0]      \n",
            "__________________________________________________________________________________________________\n",
            "max_pooling2d (MaxPooling2D)    (None, 62, 62, 64)   0           activation_2[0][0]               \n",
            "__________________________________________________________________________________________________\n",
            "conv2d_3 (Conv2D)               (None, 62, 62, 80)   5120        max_pooling2d[0][0]              \n",
            "__________________________________________________________________________________________________\n",
            "batch_normalization_3 (BatchNor (None, 62, 62, 80)   240         conv2d_3[0][0]                   \n",
            "__________________________________________________________________________________________________\n",
            "activation_3 (Activation)       (None, 62, 62, 80)   0           batch_normalization_3[0][0]      \n",
            "__________________________________________________________________________________________________\n",
            "conv2d_4 (Conv2D)               (None, 60, 60, 192)  138240      activation_3[0][0]               \n",
            "__________________________________________________________________________________________________\n",
            "batch_normalization_4 (BatchNor (None, 60, 60, 192)  576         conv2d_4[0][0]                   \n",
            "__________________________________________________________________________________________________\n",
            "activation_4 (Activation)       (None, 60, 60, 192)  0           batch_normalization_4[0][0]      \n",
            "__________________________________________________________________________________________________\n",
            "max_pooling2d_1 (MaxPooling2D)  (None, 29, 29, 192)  0           activation_4[0][0]               \n",
            "__________________________________________________________________________________________________\n",
            "conv2d_8 (Conv2D)               (None, 29, 29, 64)   12288       max_pooling2d_1[0][0]            \n",
            "__________________________________________________________________________________________________\n",
            "batch_normalization_8 (BatchNor (None, 29, 29, 64)   192         conv2d_8[0][0]                   \n",
            "__________________________________________________________________________________________________\n",
            "activation_8 (Activation)       (None, 29, 29, 64)   0           batch_normalization_8[0][0]      \n",
            "__________________________________________________________________________________________________\n",
            "conv2d_6 (Conv2D)               (None, 29, 29, 48)   9216        max_pooling2d_1[0][0]            \n",
            "__________________________________________________________________________________________________\n",
            "conv2d_9 (Conv2D)               (None, 29, 29, 96)   55296       activation_8[0][0]               \n",
            "__________________________________________________________________________________________________\n",
            "batch_normalization_6 (BatchNor (None, 29, 29, 48)   144         conv2d_6[0][0]                   \n",
            "__________________________________________________________________________________________________\n",
            "batch_normalization_9 (BatchNor (None, 29, 29, 96)   288         conv2d_9[0][0]                   \n",
            "__________________________________________________________________________________________________\n",
            "activation_6 (Activation)       (None, 29, 29, 48)   0           batch_normalization_6[0][0]      \n",
            "__________________________________________________________________________________________________\n",
            "activation_9 (Activation)       (None, 29, 29, 96)   0           batch_normalization_9[0][0]      \n",
            "__________________________________________________________________________________________________\n",
            "average_pooling2d (AveragePooli (None, 29, 29, 192)  0           max_pooling2d_1[0][0]            \n",
            "__________________________________________________________________________________________________\n",
            "conv2d_5 (Conv2D)               (None, 29, 29, 64)   12288       max_pooling2d_1[0][0]            \n",
            "__________________________________________________________________________________________________\n",
            "conv2d_7 (Conv2D)               (None, 29, 29, 64)   76800       activation_6[0][0]               \n",
            "__________________________________________________________________________________________________\n",
            "conv2d_10 (Conv2D)              (None, 29, 29, 96)   82944       activation_9[0][0]               \n",
            "__________________________________________________________________________________________________\n",
            "conv2d_11 (Conv2D)              (None, 29, 29, 32)   6144        average_pooling2d[0][0]          \n",
            "__________________________________________________________________________________________________\n",
            "batch_normalization_5 (BatchNor (None, 29, 29, 64)   192         conv2d_5[0][0]                   \n",
            "__________________________________________________________________________________________________\n",
            "batch_normalization_7 (BatchNor (None, 29, 29, 64)   192         conv2d_7[0][0]                   \n",
            "__________________________________________________________________________________________________\n",
            "batch_normalization_10 (BatchNo (None, 29, 29, 96)   288         conv2d_10[0][0]                  \n",
            "__________________________________________________________________________________________________\n",
            "batch_normalization_11 (BatchNo (None, 29, 29, 32)   96          conv2d_11[0][0]                  \n",
            "__________________________________________________________________________________________________\n",
            "activation_5 (Activation)       (None, 29, 29, 64)   0           batch_normalization_5[0][0]      \n",
            "__________________________________________________________________________________________________\n",
            "activation_7 (Activation)       (None, 29, 29, 64)   0           batch_normalization_7[0][0]      \n",
            "__________________________________________________________________________________________________\n",
            "activation_10 (Activation)      (None, 29, 29, 96)   0           batch_normalization_10[0][0]     \n",
            "__________________________________________________________________________________________________\n",
            "activation_11 (Activation)      (None, 29, 29, 32)   0           batch_normalization_11[0][0]     \n",
            "__________________________________________________________________________________________________\n",
            "mixed0 (Concatenate)            (None, 29, 29, 256)  0           activation_5[0][0]               \n",
            "                                                                 activation_7[0][0]               \n",
            "                                                                 activation_10[0][0]              \n",
            "                                                                 activation_11[0][0]              \n",
            "__________________________________________________________________________________________________\n",
            "conv2d_15 (Conv2D)              (None, 29, 29, 64)   16384       mixed0[0][0]                     \n",
            "__________________________________________________________________________________________________\n",
            "batch_normalization_15 (BatchNo (None, 29, 29, 64)   192         conv2d_15[0][0]                  \n",
            "__________________________________________________________________________________________________\n",
            "activation_15 (Activation)      (None, 29, 29, 64)   0           batch_normalization_15[0][0]     \n",
            "__________________________________________________________________________________________________\n",
            "conv2d_13 (Conv2D)              (None, 29, 29, 48)   12288       mixed0[0][0]                     \n",
            "__________________________________________________________________________________________________\n",
            "conv2d_16 (Conv2D)              (None, 29, 29, 96)   55296       activation_15[0][0]              \n",
            "__________________________________________________________________________________________________\n",
            "batch_normalization_13 (BatchNo (None, 29, 29, 48)   144         conv2d_13[0][0]                  \n",
            "__________________________________________________________________________________________________\n",
            "batch_normalization_16 (BatchNo (None, 29, 29, 96)   288         conv2d_16[0][0]                  \n",
            "__________________________________________________________________________________________________\n",
            "activation_13 (Activation)      (None, 29, 29, 48)   0           batch_normalization_13[0][0]     \n",
            "__________________________________________________________________________________________________\n",
            "activation_16 (Activation)      (None, 29, 29, 96)   0           batch_normalization_16[0][0]     \n",
            "__________________________________________________________________________________________________\n",
            "average_pooling2d_1 (AveragePoo (None, 29, 29, 256)  0           mixed0[0][0]                     \n",
            "__________________________________________________________________________________________________\n",
            "conv2d_12 (Conv2D)              (None, 29, 29, 64)   16384       mixed0[0][0]                     \n",
            "__________________________________________________________________________________________________\n",
            "conv2d_14 (Conv2D)              (None, 29, 29, 64)   76800       activation_13[0][0]              \n",
            "__________________________________________________________________________________________________\n",
            "conv2d_17 (Conv2D)              (None, 29, 29, 96)   82944       activation_16[0][0]              \n",
            "__________________________________________________________________________________________________\n",
            "conv2d_18 (Conv2D)              (None, 29, 29, 64)   16384       average_pooling2d_1[0][0]        \n",
            "__________________________________________________________________________________________________\n",
            "batch_normalization_12 (BatchNo (None, 29, 29, 64)   192         conv2d_12[0][0]                  \n",
            "__________________________________________________________________________________________________\n",
            "batch_normalization_14 (BatchNo (None, 29, 29, 64)   192         conv2d_14[0][0]                  \n",
            "__________________________________________________________________________________________________\n",
            "batch_normalization_17 (BatchNo (None, 29, 29, 96)   288         conv2d_17[0][0]                  \n",
            "__________________________________________________________________________________________________\n",
            "batch_normalization_18 (BatchNo (None, 29, 29, 64)   192         conv2d_18[0][0]                  \n",
            "__________________________________________________________________________________________________\n",
            "activation_12 (Activation)      (None, 29, 29, 64)   0           batch_normalization_12[0][0]     \n",
            "__________________________________________________________________________________________________\n",
            "activation_14 (Activation)      (None, 29, 29, 64)   0           batch_normalization_14[0][0]     \n",
            "__________________________________________________________________________________________________\n",
            "activation_17 (Activation)      (None, 29, 29, 96)   0           batch_normalization_17[0][0]     \n",
            "__________________________________________________________________________________________________\n",
            "activation_18 (Activation)      (None, 29, 29, 64)   0           batch_normalization_18[0][0]     \n",
            "__________________________________________________________________________________________________\n",
            "mixed1 (Concatenate)            (None, 29, 29, 288)  0           activation_12[0][0]              \n",
            "                                                                 activation_14[0][0]              \n",
            "                                                                 activation_17[0][0]              \n",
            "                                                                 activation_18[0][0]              \n",
            "__________________________________________________________________________________________________\n",
            "conv2d_22 (Conv2D)              (None, 29, 29, 64)   18432       mixed1[0][0]                     \n",
            "__________________________________________________________________________________________________\n",
            "batch_normalization_22 (BatchNo (None, 29, 29, 64)   192         conv2d_22[0][0]                  \n",
            "__________________________________________________________________________________________________\n",
            "activation_22 (Activation)      (None, 29, 29, 64)   0           batch_normalization_22[0][0]     \n",
            "__________________________________________________________________________________________________\n",
            "conv2d_20 (Conv2D)              (None, 29, 29, 48)   13824       mixed1[0][0]                     \n",
            "__________________________________________________________________________________________________\n",
            "conv2d_23 (Conv2D)              (None, 29, 29, 96)   55296       activation_22[0][0]              \n",
            "__________________________________________________________________________________________________\n",
            "batch_normalization_20 (BatchNo (None, 29, 29, 48)   144         conv2d_20[0][0]                  \n",
            "__________________________________________________________________________________________________\n",
            "batch_normalization_23 (BatchNo (None, 29, 29, 96)   288         conv2d_23[0][0]                  \n",
            "__________________________________________________________________________________________________\n",
            "activation_20 (Activation)      (None, 29, 29, 48)   0           batch_normalization_20[0][0]     \n",
            "__________________________________________________________________________________________________\n",
            "activation_23 (Activation)      (None, 29, 29, 96)   0           batch_normalization_23[0][0]     \n",
            "__________________________________________________________________________________________________\n",
            "average_pooling2d_2 (AveragePoo (None, 29, 29, 288)  0           mixed1[0][0]                     \n",
            "__________________________________________________________________________________________________\n",
            "conv2d_19 (Conv2D)              (None, 29, 29, 64)   18432       mixed1[0][0]                     \n",
            "__________________________________________________________________________________________________\n",
            "conv2d_21 (Conv2D)              (None, 29, 29, 64)   76800       activation_20[0][0]              \n",
            "__________________________________________________________________________________________________\n",
            "conv2d_24 (Conv2D)              (None, 29, 29, 96)   82944       activation_23[0][0]              \n",
            "__________________________________________________________________________________________________\n",
            "conv2d_25 (Conv2D)              (None, 29, 29, 64)   18432       average_pooling2d_2[0][0]        \n",
            "__________________________________________________________________________________________________\n",
            "batch_normalization_19 (BatchNo (None, 29, 29, 64)   192         conv2d_19[0][0]                  \n",
            "__________________________________________________________________________________________________\n",
            "batch_normalization_21 (BatchNo (None, 29, 29, 64)   192         conv2d_21[0][0]                  \n",
            "__________________________________________________________________________________________________\n",
            "batch_normalization_24 (BatchNo (None, 29, 29, 96)   288         conv2d_24[0][0]                  \n",
            "__________________________________________________________________________________________________\n",
            "batch_normalization_25 (BatchNo (None, 29, 29, 64)   192         conv2d_25[0][0]                  \n",
            "__________________________________________________________________________________________________\n",
            "activation_19 (Activation)      (None, 29, 29, 64)   0           batch_normalization_19[0][0]     \n",
            "__________________________________________________________________________________________________\n",
            "activation_21 (Activation)      (None, 29, 29, 64)   0           batch_normalization_21[0][0]     \n",
            "__________________________________________________________________________________________________\n",
            "activation_24 (Activation)      (None, 29, 29, 96)   0           batch_normalization_24[0][0]     \n",
            "__________________________________________________________________________________________________\n",
            "activation_25 (Activation)      (None, 29, 29, 64)   0           batch_normalization_25[0][0]     \n",
            "__________________________________________________________________________________________________\n",
            "mixed2 (Concatenate)            (None, 29, 29, 288)  0           activation_19[0][0]              \n",
            "                                                                 activation_21[0][0]              \n",
            "                                                                 activation_24[0][0]              \n",
            "                                                                 activation_25[0][0]              \n",
            "__________________________________________________________________________________________________\n",
            "conv2d_27 (Conv2D)              (None, 29, 29, 64)   18432       mixed2[0][0]                     \n",
            "__________________________________________________________________________________________________\n",
            "batch_normalization_27 (BatchNo (None, 29, 29, 64)   192         conv2d_27[0][0]                  \n",
            "__________________________________________________________________________________________________\n",
            "activation_27 (Activation)      (None, 29, 29, 64)   0           batch_normalization_27[0][0]     \n",
            "__________________________________________________________________________________________________\n",
            "conv2d_28 (Conv2D)              (None, 29, 29, 96)   55296       activation_27[0][0]              \n",
            "__________________________________________________________________________________________________\n",
            "batch_normalization_28 (BatchNo (None, 29, 29, 96)   288         conv2d_28[0][0]                  \n",
            "__________________________________________________________________________________________________\n",
            "activation_28 (Activation)      (None, 29, 29, 96)   0           batch_normalization_28[0][0]     \n",
            "__________________________________________________________________________________________________\n",
            "conv2d_26 (Conv2D)              (None, 14, 14, 384)  995328      mixed2[0][0]                     \n",
            "__________________________________________________________________________________________________\n",
            "conv2d_29 (Conv2D)              (None, 14, 14, 96)   82944       activation_28[0][0]              \n",
            "__________________________________________________________________________________________________\n",
            "batch_normalization_26 (BatchNo (None, 14, 14, 384)  1152        conv2d_26[0][0]                  \n",
            "__________________________________________________________________________________________________\n",
            "batch_normalization_29 (BatchNo (None, 14, 14, 96)   288         conv2d_29[0][0]                  \n",
            "__________________________________________________________________________________________________\n",
            "activation_26 (Activation)      (None, 14, 14, 384)  0           batch_normalization_26[0][0]     \n",
            "__________________________________________________________________________________________________\n",
            "activation_29 (Activation)      (None, 14, 14, 96)   0           batch_normalization_29[0][0]     \n",
            "__________________________________________________________________________________________________\n",
            "max_pooling2d_2 (MaxPooling2D)  (None, 14, 14, 288)  0           mixed2[0][0]                     \n",
            "__________________________________________________________________________________________________\n",
            "mixed3 (Concatenate)            (None, 14, 14, 768)  0           activation_26[0][0]              \n",
            "                                                                 activation_29[0][0]              \n",
            "                                                                 max_pooling2d_2[0][0]            \n",
            "__________________________________________________________________________________________________\n",
            "conv2d_34 (Conv2D)              (None, 14, 14, 128)  98304       mixed3[0][0]                     \n",
            "__________________________________________________________________________________________________\n",
            "batch_normalization_34 (BatchNo (None, 14, 14, 128)  384         conv2d_34[0][0]                  \n",
            "__________________________________________________________________________________________________\n",
            "activation_34 (Activation)      (None, 14, 14, 128)  0           batch_normalization_34[0][0]     \n",
            "__________________________________________________________________________________________________\n",
            "conv2d_35 (Conv2D)              (None, 14, 14, 128)  114688      activation_34[0][0]              \n",
            "__________________________________________________________________________________________________\n",
            "batch_normalization_35 (BatchNo (None, 14, 14, 128)  384         conv2d_35[0][0]                  \n",
            "__________________________________________________________________________________________________\n",
            "activation_35 (Activation)      (None, 14, 14, 128)  0           batch_normalization_35[0][0]     \n",
            "__________________________________________________________________________________________________\n",
            "conv2d_31 (Conv2D)              (None, 14, 14, 128)  98304       mixed3[0][0]                     \n",
            "__________________________________________________________________________________________________\n",
            "conv2d_36 (Conv2D)              (None, 14, 14, 128)  114688      activation_35[0][0]              \n",
            "__________________________________________________________________________________________________\n",
            "batch_normalization_31 (BatchNo (None, 14, 14, 128)  384         conv2d_31[0][0]                  \n",
            "__________________________________________________________________________________________________\n",
            "batch_normalization_36 (BatchNo (None, 14, 14, 128)  384         conv2d_36[0][0]                  \n",
            "__________________________________________________________________________________________________\n",
            "activation_31 (Activation)      (None, 14, 14, 128)  0           batch_normalization_31[0][0]     \n",
            "__________________________________________________________________________________________________\n",
            "activation_36 (Activation)      (None, 14, 14, 128)  0           batch_normalization_36[0][0]     \n",
            "__________________________________________________________________________________________________\n",
            "conv2d_32 (Conv2D)              (None, 14, 14, 128)  114688      activation_31[0][0]              \n",
            "__________________________________________________________________________________________________\n",
            "conv2d_37 (Conv2D)              (None, 14, 14, 128)  114688      activation_36[0][0]              \n",
            "__________________________________________________________________________________________________\n",
            "batch_normalization_32 (BatchNo (None, 14, 14, 128)  384         conv2d_32[0][0]                  \n",
            "__________________________________________________________________________________________________\n",
            "batch_normalization_37 (BatchNo (None, 14, 14, 128)  384         conv2d_37[0][0]                  \n",
            "__________________________________________________________________________________________________\n",
            "activation_32 (Activation)      (None, 14, 14, 128)  0           batch_normalization_32[0][0]     \n",
            "__________________________________________________________________________________________________\n",
            "activation_37 (Activation)      (None, 14, 14, 128)  0           batch_normalization_37[0][0]     \n",
            "__________________________________________________________________________________________________\n",
            "average_pooling2d_3 (AveragePoo (None, 14, 14, 768)  0           mixed3[0][0]                     \n",
            "__________________________________________________________________________________________________\n",
            "conv2d_30 (Conv2D)              (None, 14, 14, 192)  147456      mixed3[0][0]                     \n",
            "__________________________________________________________________________________________________\n",
            "conv2d_33 (Conv2D)              (None, 14, 14, 192)  172032      activation_32[0][0]              \n",
            "__________________________________________________________________________________________________\n",
            "conv2d_38 (Conv2D)              (None, 14, 14, 192)  172032      activation_37[0][0]              \n",
            "__________________________________________________________________________________________________\n",
            "conv2d_39 (Conv2D)              (None, 14, 14, 192)  147456      average_pooling2d_3[0][0]        \n",
            "__________________________________________________________________________________________________\n",
            "batch_normalization_30 (BatchNo (None, 14, 14, 192)  576         conv2d_30[0][0]                  \n",
            "__________________________________________________________________________________________________\n",
            "batch_normalization_33 (BatchNo (None, 14, 14, 192)  576         conv2d_33[0][0]                  \n",
            "__________________________________________________________________________________________________\n",
            "batch_normalization_38 (BatchNo (None, 14, 14, 192)  576         conv2d_38[0][0]                  \n",
            "__________________________________________________________________________________________________\n",
            "batch_normalization_39 (BatchNo (None, 14, 14, 192)  576         conv2d_39[0][0]                  \n",
            "__________________________________________________________________________________________________\n",
            "activation_30 (Activation)      (None, 14, 14, 192)  0           batch_normalization_30[0][0]     \n",
            "__________________________________________________________________________________________________\n",
            "activation_33 (Activation)      (None, 14, 14, 192)  0           batch_normalization_33[0][0]     \n",
            "__________________________________________________________________________________________________\n",
            "activation_38 (Activation)      (None, 14, 14, 192)  0           batch_normalization_38[0][0]     \n",
            "__________________________________________________________________________________________________\n",
            "activation_39 (Activation)      (None, 14, 14, 192)  0           batch_normalization_39[0][0]     \n",
            "__________________________________________________________________________________________________\n",
            "mixed4 (Concatenate)            (None, 14, 14, 768)  0           activation_30[0][0]              \n",
            "                                                                 activation_33[0][0]              \n",
            "                                                                 activation_38[0][0]              \n",
            "                                                                 activation_39[0][0]              \n",
            "__________________________________________________________________________________________________\n",
            "conv2d_44 (Conv2D)              (None, 14, 14, 160)  122880      mixed4[0][0]                     \n",
            "__________________________________________________________________________________________________\n",
            "batch_normalization_44 (BatchNo (None, 14, 14, 160)  480         conv2d_44[0][0]                  \n",
            "__________________________________________________________________________________________________\n",
            "activation_44 (Activation)      (None, 14, 14, 160)  0           batch_normalization_44[0][0]     \n",
            "__________________________________________________________________________________________________\n",
            "conv2d_45 (Conv2D)              (None, 14, 14, 160)  179200      activation_44[0][0]              \n",
            "__________________________________________________________________________________________________\n",
            "batch_normalization_45 (BatchNo (None, 14, 14, 160)  480         conv2d_45[0][0]                  \n",
            "__________________________________________________________________________________________________\n",
            "activation_45 (Activation)      (None, 14, 14, 160)  0           batch_normalization_45[0][0]     \n",
            "__________________________________________________________________________________________________\n",
            "conv2d_41 (Conv2D)              (None, 14, 14, 160)  122880      mixed4[0][0]                     \n",
            "__________________________________________________________________________________________________\n",
            "conv2d_46 (Conv2D)              (None, 14, 14, 160)  179200      activation_45[0][0]              \n",
            "__________________________________________________________________________________________________\n",
            "batch_normalization_41 (BatchNo (None, 14, 14, 160)  480         conv2d_41[0][0]                  \n",
            "__________________________________________________________________________________________________\n",
            "batch_normalization_46 (BatchNo (None, 14, 14, 160)  480         conv2d_46[0][0]                  \n",
            "__________________________________________________________________________________________________\n",
            "activation_41 (Activation)      (None, 14, 14, 160)  0           batch_normalization_41[0][0]     \n",
            "__________________________________________________________________________________________________\n",
            "activation_46 (Activation)      (None, 14, 14, 160)  0           batch_normalization_46[0][0]     \n",
            "__________________________________________________________________________________________________\n",
            "conv2d_42 (Conv2D)              (None, 14, 14, 160)  179200      activation_41[0][0]              \n",
            "__________________________________________________________________________________________________\n",
            "conv2d_47 (Conv2D)              (None, 14, 14, 160)  179200      activation_46[0][0]              \n",
            "__________________________________________________________________________________________________\n",
            "batch_normalization_42 (BatchNo (None, 14, 14, 160)  480         conv2d_42[0][0]                  \n",
            "__________________________________________________________________________________________________\n",
            "batch_normalization_47 (BatchNo (None, 14, 14, 160)  480         conv2d_47[0][0]                  \n",
            "__________________________________________________________________________________________________\n",
            "activation_42 (Activation)      (None, 14, 14, 160)  0           batch_normalization_42[0][0]     \n",
            "__________________________________________________________________________________________________\n",
            "activation_47 (Activation)      (None, 14, 14, 160)  0           batch_normalization_47[0][0]     \n",
            "__________________________________________________________________________________________________\n",
            "average_pooling2d_4 (AveragePoo (None, 14, 14, 768)  0           mixed4[0][0]                     \n",
            "__________________________________________________________________________________________________\n",
            "conv2d_40 (Conv2D)              (None, 14, 14, 192)  147456      mixed4[0][0]                     \n",
            "__________________________________________________________________________________________________\n",
            "conv2d_43 (Conv2D)              (None, 14, 14, 192)  215040      activation_42[0][0]              \n",
            "__________________________________________________________________________________________________\n",
            "conv2d_48 (Conv2D)              (None, 14, 14, 192)  215040      activation_47[0][0]              \n",
            "__________________________________________________________________________________________________\n",
            "conv2d_49 (Conv2D)              (None, 14, 14, 192)  147456      average_pooling2d_4[0][0]        \n",
            "__________________________________________________________________________________________________\n",
            "batch_normalization_40 (BatchNo (None, 14, 14, 192)  576         conv2d_40[0][0]                  \n",
            "__________________________________________________________________________________________________\n",
            "batch_normalization_43 (BatchNo (None, 14, 14, 192)  576         conv2d_43[0][0]                  \n",
            "__________________________________________________________________________________________________\n",
            "batch_normalization_48 (BatchNo (None, 14, 14, 192)  576         conv2d_48[0][0]                  \n",
            "__________________________________________________________________________________________________\n",
            "batch_normalization_49 (BatchNo (None, 14, 14, 192)  576         conv2d_49[0][0]                  \n",
            "__________________________________________________________________________________________________\n",
            "activation_40 (Activation)      (None, 14, 14, 192)  0           batch_normalization_40[0][0]     \n",
            "__________________________________________________________________________________________________\n",
            "activation_43 (Activation)      (None, 14, 14, 192)  0           batch_normalization_43[0][0]     \n",
            "__________________________________________________________________________________________________\n",
            "activation_48 (Activation)      (None, 14, 14, 192)  0           batch_normalization_48[0][0]     \n",
            "__________________________________________________________________________________________________\n",
            "activation_49 (Activation)      (None, 14, 14, 192)  0           batch_normalization_49[0][0]     \n",
            "__________________________________________________________________________________________________\n",
            "mixed5 (Concatenate)            (None, 14, 14, 768)  0           activation_40[0][0]              \n",
            "                                                                 activation_43[0][0]              \n",
            "                                                                 activation_48[0][0]              \n",
            "                                                                 activation_49[0][0]              \n",
            "__________________________________________________________________________________________________\n",
            "conv2d_54 (Conv2D)              (None, 14, 14, 160)  122880      mixed5[0][0]                     \n",
            "__________________________________________________________________________________________________\n",
            "batch_normalization_54 (BatchNo (None, 14, 14, 160)  480         conv2d_54[0][0]                  \n",
            "__________________________________________________________________________________________________\n",
            "activation_54 (Activation)      (None, 14, 14, 160)  0           batch_normalization_54[0][0]     \n",
            "__________________________________________________________________________________________________\n",
            "conv2d_55 (Conv2D)              (None, 14, 14, 160)  179200      activation_54[0][0]              \n",
            "__________________________________________________________________________________________________\n",
            "batch_normalization_55 (BatchNo (None, 14, 14, 160)  480         conv2d_55[0][0]                  \n",
            "__________________________________________________________________________________________________\n",
            "activation_55 (Activation)      (None, 14, 14, 160)  0           batch_normalization_55[0][0]     \n",
            "__________________________________________________________________________________________________\n",
            "conv2d_51 (Conv2D)              (None, 14, 14, 160)  122880      mixed5[0][0]                     \n",
            "__________________________________________________________________________________________________\n",
            "conv2d_56 (Conv2D)              (None, 14, 14, 160)  179200      activation_55[0][0]              \n",
            "__________________________________________________________________________________________________\n",
            "batch_normalization_51 (BatchNo (None, 14, 14, 160)  480         conv2d_51[0][0]                  \n",
            "__________________________________________________________________________________________________\n",
            "batch_normalization_56 (BatchNo (None, 14, 14, 160)  480         conv2d_56[0][0]                  \n",
            "__________________________________________________________________________________________________\n",
            "activation_51 (Activation)      (None, 14, 14, 160)  0           batch_normalization_51[0][0]     \n",
            "__________________________________________________________________________________________________\n",
            "activation_56 (Activation)      (None, 14, 14, 160)  0           batch_normalization_56[0][0]     \n",
            "__________________________________________________________________________________________________\n",
            "conv2d_52 (Conv2D)              (None, 14, 14, 160)  179200      activation_51[0][0]              \n",
            "__________________________________________________________________________________________________\n",
            "conv2d_57 (Conv2D)              (None, 14, 14, 160)  179200      activation_56[0][0]              \n",
            "__________________________________________________________________________________________________\n",
            "batch_normalization_52 (BatchNo (None, 14, 14, 160)  480         conv2d_52[0][0]                  \n",
            "__________________________________________________________________________________________________\n",
            "batch_normalization_57 (BatchNo (None, 14, 14, 160)  480         conv2d_57[0][0]                  \n",
            "__________________________________________________________________________________________________\n",
            "activation_52 (Activation)      (None, 14, 14, 160)  0           batch_normalization_52[0][0]     \n",
            "__________________________________________________________________________________________________\n",
            "activation_57 (Activation)      (None, 14, 14, 160)  0           batch_normalization_57[0][0]     \n",
            "__________________________________________________________________________________________________\n",
            "average_pooling2d_5 (AveragePoo (None, 14, 14, 768)  0           mixed5[0][0]                     \n",
            "__________________________________________________________________________________________________\n",
            "conv2d_50 (Conv2D)              (None, 14, 14, 192)  147456      mixed5[0][0]                     \n",
            "__________________________________________________________________________________________________\n",
            "conv2d_53 (Conv2D)              (None, 14, 14, 192)  215040      activation_52[0][0]              \n",
            "__________________________________________________________________________________________________\n",
            "conv2d_58 (Conv2D)              (None, 14, 14, 192)  215040      activation_57[0][0]              \n",
            "__________________________________________________________________________________________________\n",
            "conv2d_59 (Conv2D)              (None, 14, 14, 192)  147456      average_pooling2d_5[0][0]        \n",
            "__________________________________________________________________________________________________\n",
            "batch_normalization_50 (BatchNo (None, 14, 14, 192)  576         conv2d_50[0][0]                  \n",
            "__________________________________________________________________________________________________\n",
            "batch_normalization_53 (BatchNo (None, 14, 14, 192)  576         conv2d_53[0][0]                  \n",
            "__________________________________________________________________________________________________\n",
            "batch_normalization_58 (BatchNo (None, 14, 14, 192)  576         conv2d_58[0][0]                  \n",
            "__________________________________________________________________________________________________\n",
            "batch_normalization_59 (BatchNo (None, 14, 14, 192)  576         conv2d_59[0][0]                  \n",
            "__________________________________________________________________________________________________\n",
            "activation_50 (Activation)      (None, 14, 14, 192)  0           batch_normalization_50[0][0]     \n",
            "__________________________________________________________________________________________________\n",
            "activation_53 (Activation)      (None, 14, 14, 192)  0           batch_normalization_53[0][0]     \n",
            "__________________________________________________________________________________________________\n",
            "activation_58 (Activation)      (None, 14, 14, 192)  0           batch_normalization_58[0][0]     \n",
            "__________________________________________________________________________________________________\n",
            "activation_59 (Activation)      (None, 14, 14, 192)  0           batch_normalization_59[0][0]     \n",
            "__________________________________________________________________________________________________\n",
            "mixed6 (Concatenate)            (None, 14, 14, 768)  0           activation_50[0][0]              \n",
            "                                                                 activation_53[0][0]              \n",
            "                                                                 activation_58[0][0]              \n",
            "                                                                 activation_59[0][0]              \n",
            "__________________________________________________________________________________________________\n",
            "conv2d_64 (Conv2D)              (None, 14, 14, 192)  147456      mixed6[0][0]                     \n",
            "__________________________________________________________________________________________________\n",
            "batch_normalization_64 (BatchNo (None, 14, 14, 192)  576         conv2d_64[0][0]                  \n",
            "__________________________________________________________________________________________________\n",
            "activation_64 (Activation)      (None, 14, 14, 192)  0           batch_normalization_64[0][0]     \n",
            "__________________________________________________________________________________________________\n",
            "conv2d_65 (Conv2D)              (None, 14, 14, 192)  258048      activation_64[0][0]              \n",
            "__________________________________________________________________________________________________\n",
            "batch_normalization_65 (BatchNo (None, 14, 14, 192)  576         conv2d_65[0][0]                  \n",
            "__________________________________________________________________________________________________\n",
            "activation_65 (Activation)      (None, 14, 14, 192)  0           batch_normalization_65[0][0]     \n",
            "__________________________________________________________________________________________________\n",
            "conv2d_61 (Conv2D)              (None, 14, 14, 192)  147456      mixed6[0][0]                     \n",
            "__________________________________________________________________________________________________\n",
            "conv2d_66 (Conv2D)              (None, 14, 14, 192)  258048      activation_65[0][0]              \n",
            "__________________________________________________________________________________________________\n",
            "batch_normalization_61 (BatchNo (None, 14, 14, 192)  576         conv2d_61[0][0]                  \n",
            "__________________________________________________________________________________________________\n",
            "batch_normalization_66 (BatchNo (None, 14, 14, 192)  576         conv2d_66[0][0]                  \n",
            "__________________________________________________________________________________________________\n",
            "activation_61 (Activation)      (None, 14, 14, 192)  0           batch_normalization_61[0][0]     \n",
            "__________________________________________________________________________________________________\n",
            "activation_66 (Activation)      (None, 14, 14, 192)  0           batch_normalization_66[0][0]     \n",
            "__________________________________________________________________________________________________\n",
            "conv2d_62 (Conv2D)              (None, 14, 14, 192)  258048      activation_61[0][0]              \n",
            "__________________________________________________________________________________________________\n",
            "conv2d_67 (Conv2D)              (None, 14, 14, 192)  258048      activation_66[0][0]              \n",
            "__________________________________________________________________________________________________\n",
            "batch_normalization_62 (BatchNo (None, 14, 14, 192)  576         conv2d_62[0][0]                  \n",
            "__________________________________________________________________________________________________\n",
            "batch_normalization_67 (BatchNo (None, 14, 14, 192)  576         conv2d_67[0][0]                  \n",
            "__________________________________________________________________________________________________\n",
            "activation_62 (Activation)      (None, 14, 14, 192)  0           batch_normalization_62[0][0]     \n",
            "__________________________________________________________________________________________________\n",
            "activation_67 (Activation)      (None, 14, 14, 192)  0           batch_normalization_67[0][0]     \n",
            "__________________________________________________________________________________________________\n",
            "average_pooling2d_6 (AveragePoo (None, 14, 14, 768)  0           mixed6[0][0]                     \n",
            "__________________________________________________________________________________________________\n",
            "conv2d_60 (Conv2D)              (None, 14, 14, 192)  147456      mixed6[0][0]                     \n",
            "__________________________________________________________________________________________________\n",
            "conv2d_63 (Conv2D)              (None, 14, 14, 192)  258048      activation_62[0][0]              \n",
            "__________________________________________________________________________________________________\n",
            "conv2d_68 (Conv2D)              (None, 14, 14, 192)  258048      activation_67[0][0]              \n",
            "__________________________________________________________________________________________________\n",
            "conv2d_69 (Conv2D)              (None, 14, 14, 192)  147456      average_pooling2d_6[0][0]        \n",
            "__________________________________________________________________________________________________\n",
            "batch_normalization_60 (BatchNo (None, 14, 14, 192)  576         conv2d_60[0][0]                  \n",
            "__________________________________________________________________________________________________\n",
            "batch_normalization_63 (BatchNo (None, 14, 14, 192)  576         conv2d_63[0][0]                  \n",
            "__________________________________________________________________________________________________\n",
            "batch_normalization_68 (BatchNo (None, 14, 14, 192)  576         conv2d_68[0][0]                  \n",
            "__________________________________________________________________________________________________\n",
            "batch_normalization_69 (BatchNo (None, 14, 14, 192)  576         conv2d_69[0][0]                  \n",
            "__________________________________________________________________________________________________\n",
            "activation_60 (Activation)      (None, 14, 14, 192)  0           batch_normalization_60[0][0]     \n",
            "__________________________________________________________________________________________________\n",
            "activation_63 (Activation)      (None, 14, 14, 192)  0           batch_normalization_63[0][0]     \n",
            "__________________________________________________________________________________________________\n",
            "activation_68 (Activation)      (None, 14, 14, 192)  0           batch_normalization_68[0][0]     \n",
            "__________________________________________________________________________________________________\n",
            "activation_69 (Activation)      (None, 14, 14, 192)  0           batch_normalization_69[0][0]     \n",
            "__________________________________________________________________________________________________\n",
            "mixed7 (Concatenate)            (None, 14, 14, 768)  0           activation_60[0][0]              \n",
            "                                                                 activation_63[0][0]              \n",
            "                                                                 activation_68[0][0]              \n",
            "                                                                 activation_69[0][0]              \n",
            "__________________________________________________________________________________________________\n",
            "conv2d_72 (Conv2D)              (None, 14, 14, 192)  147456      mixed7[0][0]                     \n",
            "__________________________________________________________________________________________________\n",
            "batch_normalization_72 (BatchNo (None, 14, 14, 192)  576         conv2d_72[0][0]                  \n",
            "__________________________________________________________________________________________________\n",
            "activation_72 (Activation)      (None, 14, 14, 192)  0           batch_normalization_72[0][0]     \n",
            "__________________________________________________________________________________________________\n",
            "conv2d_73 (Conv2D)              (None, 14, 14, 192)  258048      activation_72[0][0]              \n",
            "__________________________________________________________________________________________________\n",
            "batch_normalization_73 (BatchNo (None, 14, 14, 192)  576         conv2d_73[0][0]                  \n",
            "__________________________________________________________________________________________________\n",
            "activation_73 (Activation)      (None, 14, 14, 192)  0           batch_normalization_73[0][0]     \n",
            "__________________________________________________________________________________________________\n",
            "conv2d_70 (Conv2D)              (None, 14, 14, 192)  147456      mixed7[0][0]                     \n",
            "__________________________________________________________________________________________________\n",
            "conv2d_74 (Conv2D)              (None, 14, 14, 192)  258048      activation_73[0][0]              \n",
            "__________________________________________________________________________________________________\n",
            "batch_normalization_70 (BatchNo (None, 14, 14, 192)  576         conv2d_70[0][0]                  \n",
            "__________________________________________________________________________________________________\n",
            "batch_normalization_74 (BatchNo (None, 14, 14, 192)  576         conv2d_74[0][0]                  \n",
            "__________________________________________________________________________________________________\n",
            "activation_70 (Activation)      (None, 14, 14, 192)  0           batch_normalization_70[0][0]     \n",
            "__________________________________________________________________________________________________\n",
            "activation_74 (Activation)      (None, 14, 14, 192)  0           batch_normalization_74[0][0]     \n",
            "__________________________________________________________________________________________________\n",
            "conv2d_71 (Conv2D)              (None, 6, 6, 320)    552960      activation_70[0][0]              \n",
            "__________________________________________________________________________________________________\n",
            "conv2d_75 (Conv2D)              (None, 6, 6, 192)    331776      activation_74[0][0]              \n",
            "__________________________________________________________________________________________________\n",
            "batch_normalization_71 (BatchNo (None, 6, 6, 320)    960         conv2d_71[0][0]                  \n",
            "__________________________________________________________________________________________________\n",
            "batch_normalization_75 (BatchNo (None, 6, 6, 192)    576         conv2d_75[0][0]                  \n",
            "__________________________________________________________________________________________________\n",
            "activation_71 (Activation)      (None, 6, 6, 320)    0           batch_normalization_71[0][0]     \n",
            "__________________________________________________________________________________________________\n",
            "activation_75 (Activation)      (None, 6, 6, 192)    0           batch_normalization_75[0][0]     \n",
            "__________________________________________________________________________________________________\n",
            "max_pooling2d_3 (MaxPooling2D)  (None, 6, 6, 768)    0           mixed7[0][0]                     \n",
            "__________________________________________________________________________________________________\n",
            "mixed8 (Concatenate)            (None, 6, 6, 1280)   0           activation_71[0][0]              \n",
            "                                                                 activation_75[0][0]              \n",
            "                                                                 max_pooling2d_3[0][0]            \n",
            "__________________________________________________________________________________________________\n",
            "conv2d_80 (Conv2D)              (None, 6, 6, 448)    573440      mixed8[0][0]                     \n",
            "__________________________________________________________________________________________________\n",
            "batch_normalization_80 (BatchNo (None, 6, 6, 448)    1344        conv2d_80[0][0]                  \n",
            "__________________________________________________________________________________________________\n",
            "activation_80 (Activation)      (None, 6, 6, 448)    0           batch_normalization_80[0][0]     \n",
            "__________________________________________________________________________________________________\n",
            "conv2d_77 (Conv2D)              (None, 6, 6, 384)    491520      mixed8[0][0]                     \n",
            "__________________________________________________________________________________________________\n",
            "conv2d_81 (Conv2D)              (None, 6, 6, 384)    1548288     activation_80[0][0]              \n",
            "__________________________________________________________________________________________________\n",
            "batch_normalization_77 (BatchNo (None, 6, 6, 384)    1152        conv2d_77[0][0]                  \n",
            "__________________________________________________________________________________________________\n",
            "batch_normalization_81 (BatchNo (None, 6, 6, 384)    1152        conv2d_81[0][0]                  \n",
            "__________________________________________________________________________________________________\n",
            "activation_77 (Activation)      (None, 6, 6, 384)    0           batch_normalization_77[0][0]     \n",
            "__________________________________________________________________________________________________\n",
            "activation_81 (Activation)      (None, 6, 6, 384)    0           batch_normalization_81[0][0]     \n",
            "__________________________________________________________________________________________________\n",
            "conv2d_78 (Conv2D)              (None, 6, 6, 384)    442368      activation_77[0][0]              \n",
            "__________________________________________________________________________________________________\n",
            "conv2d_79 (Conv2D)              (None, 6, 6, 384)    442368      activation_77[0][0]              \n",
            "__________________________________________________________________________________________________\n",
            "conv2d_82 (Conv2D)              (None, 6, 6, 384)    442368      activation_81[0][0]              \n",
            "__________________________________________________________________________________________________\n",
            "conv2d_83 (Conv2D)              (None, 6, 6, 384)    442368      activation_81[0][0]              \n",
            "__________________________________________________________________________________________________\n",
            "average_pooling2d_7 (AveragePoo (None, 6, 6, 1280)   0           mixed8[0][0]                     \n",
            "__________________________________________________________________________________________________\n",
            "conv2d_76 (Conv2D)              (None, 6, 6, 320)    409600      mixed8[0][0]                     \n",
            "__________________________________________________________________________________________________\n",
            "batch_normalization_78 (BatchNo (None, 6, 6, 384)    1152        conv2d_78[0][0]                  \n",
            "__________________________________________________________________________________________________\n",
            "batch_normalization_79 (BatchNo (None, 6, 6, 384)    1152        conv2d_79[0][0]                  \n",
            "__________________________________________________________________________________________________\n",
            "batch_normalization_82 (BatchNo (None, 6, 6, 384)    1152        conv2d_82[0][0]                  \n",
            "__________________________________________________________________________________________________\n",
            "batch_normalization_83 (BatchNo (None, 6, 6, 384)    1152        conv2d_83[0][0]                  \n",
            "__________________________________________________________________________________________________\n",
            "conv2d_84 (Conv2D)              (None, 6, 6, 192)    245760      average_pooling2d_7[0][0]        \n",
            "__________________________________________________________________________________________________\n",
            "batch_normalization_76 (BatchNo (None, 6, 6, 320)    960         conv2d_76[0][0]                  \n",
            "__________________________________________________________________________________________________\n",
            "activation_78 (Activation)      (None, 6, 6, 384)    0           batch_normalization_78[0][0]     \n",
            "__________________________________________________________________________________________________\n",
            "activation_79 (Activation)      (None, 6, 6, 384)    0           batch_normalization_79[0][0]     \n",
            "__________________________________________________________________________________________________\n",
            "activation_82 (Activation)      (None, 6, 6, 384)    0           batch_normalization_82[0][0]     \n",
            "__________________________________________________________________________________________________\n",
            "activation_83 (Activation)      (None, 6, 6, 384)    0           batch_normalization_83[0][0]     \n",
            "__________________________________________________________________________________________________\n",
            "batch_normalization_84 (BatchNo (None, 6, 6, 192)    576         conv2d_84[0][0]                  \n",
            "__________________________________________________________________________________________________\n",
            "activation_76 (Activation)      (None, 6, 6, 320)    0           batch_normalization_76[0][0]     \n",
            "__________________________________________________________________________________________________\n",
            "mixed9_0 (Concatenate)          (None, 6, 6, 768)    0           activation_78[0][0]              \n",
            "                                                                 activation_79[0][0]              \n",
            "__________________________________________________________________________________________________\n",
            "concatenate (Concatenate)       (None, 6, 6, 768)    0           activation_82[0][0]              \n",
            "                                                                 activation_83[0][0]              \n",
            "__________________________________________________________________________________________________\n",
            "activation_84 (Activation)      (None, 6, 6, 192)    0           batch_normalization_84[0][0]     \n",
            "__________________________________________________________________________________________________\n",
            "mixed9 (Concatenate)            (None, 6, 6, 2048)   0           activation_76[0][0]              \n",
            "                                                                 mixed9_0[0][0]                   \n",
            "                                                                 concatenate[0][0]                \n",
            "                                                                 activation_84[0][0]              \n",
            "__________________________________________________________________________________________________\n",
            "conv2d_89 (Conv2D)              (None, 6, 6, 448)    917504      mixed9[0][0]                     \n",
            "__________________________________________________________________________________________________\n",
            "batch_normalization_89 (BatchNo (None, 6, 6, 448)    1344        conv2d_89[0][0]                  \n",
            "__________________________________________________________________________________________________\n",
            "activation_89 (Activation)      (None, 6, 6, 448)    0           batch_normalization_89[0][0]     \n",
            "__________________________________________________________________________________________________\n",
            "conv2d_86 (Conv2D)              (None, 6, 6, 384)    786432      mixed9[0][0]                     \n",
            "__________________________________________________________________________________________________\n",
            "conv2d_90 (Conv2D)              (None, 6, 6, 384)    1548288     activation_89[0][0]              \n",
            "__________________________________________________________________________________________________\n",
            "batch_normalization_86 (BatchNo (None, 6, 6, 384)    1152        conv2d_86[0][0]                  \n",
            "__________________________________________________________________________________________________\n",
            "batch_normalization_90 (BatchNo (None, 6, 6, 384)    1152        conv2d_90[0][0]                  \n",
            "__________________________________________________________________________________________________\n",
            "activation_86 (Activation)      (None, 6, 6, 384)    0           batch_normalization_86[0][0]     \n",
            "__________________________________________________________________________________________________\n",
            "activation_90 (Activation)      (None, 6, 6, 384)    0           batch_normalization_90[0][0]     \n",
            "__________________________________________________________________________________________________\n",
            "conv2d_87 (Conv2D)              (None, 6, 6, 384)    442368      activation_86[0][0]              \n",
            "__________________________________________________________________________________________________\n",
            "conv2d_88 (Conv2D)              (None, 6, 6, 384)    442368      activation_86[0][0]              \n",
            "__________________________________________________________________________________________________\n",
            "conv2d_91 (Conv2D)              (None, 6, 6, 384)    442368      activation_90[0][0]              \n",
            "__________________________________________________________________________________________________\n",
            "conv2d_92 (Conv2D)              (None, 6, 6, 384)    442368      activation_90[0][0]              \n",
            "__________________________________________________________________________________________________\n",
            "average_pooling2d_8 (AveragePoo (None, 6, 6, 2048)   0           mixed9[0][0]                     \n",
            "__________________________________________________________________________________________________\n",
            "conv2d_85 (Conv2D)              (None, 6, 6, 320)    655360      mixed9[0][0]                     \n",
            "__________________________________________________________________________________________________\n",
            "batch_normalization_87 (BatchNo (None, 6, 6, 384)    1152        conv2d_87[0][0]                  \n",
            "__________________________________________________________________________________________________\n",
            "batch_normalization_88 (BatchNo (None, 6, 6, 384)    1152        conv2d_88[0][0]                  \n",
            "__________________________________________________________________________________________________\n",
            "batch_normalization_91 (BatchNo (None, 6, 6, 384)    1152        conv2d_91[0][0]                  \n",
            "__________________________________________________________________________________________________\n",
            "batch_normalization_92 (BatchNo (None, 6, 6, 384)    1152        conv2d_92[0][0]                  \n",
            "__________________________________________________________________________________________________\n",
            "conv2d_93 (Conv2D)              (None, 6, 6, 192)    393216      average_pooling2d_8[0][0]        \n",
            "__________________________________________________________________________________________________\n",
            "batch_normalization_85 (BatchNo (None, 6, 6, 320)    960         conv2d_85[0][0]                  \n",
            "__________________________________________________________________________________________________\n",
            "activation_87 (Activation)      (None, 6, 6, 384)    0           batch_normalization_87[0][0]     \n",
            "__________________________________________________________________________________________________\n",
            "activation_88 (Activation)      (None, 6, 6, 384)    0           batch_normalization_88[0][0]     \n",
            "__________________________________________________________________________________________________\n",
            "activation_91 (Activation)      (None, 6, 6, 384)    0           batch_normalization_91[0][0]     \n",
            "__________________________________________________________________________________________________\n",
            "activation_92 (Activation)      (None, 6, 6, 384)    0           batch_normalization_92[0][0]     \n",
            "__________________________________________________________________________________________________\n",
            "batch_normalization_93 (BatchNo (None, 6, 6, 192)    576         conv2d_93[0][0]                  \n",
            "__________________________________________________________________________________________________\n",
            "activation_85 (Activation)      (None, 6, 6, 320)    0           batch_normalization_85[0][0]     \n",
            "__________________________________________________________________________________________________\n",
            "mixed9_1 (Concatenate)          (None, 6, 6, 768)    0           activation_87[0][0]              \n",
            "                                                                 activation_88[0][0]              \n",
            "__________________________________________________________________________________________________\n",
            "concatenate_1 (Concatenate)     (None, 6, 6, 768)    0           activation_91[0][0]              \n",
            "                                                                 activation_92[0][0]              \n",
            "__________________________________________________________________________________________________\n",
            "activation_93 (Activation)      (None, 6, 6, 192)    0           batch_normalization_93[0][0]     \n",
            "__________________________________________________________________________________________________\n",
            "mixed10 (Concatenate)           (None, 6, 6, 2048)   0           activation_85[0][0]              \n",
            "                                                                 mixed9_1[0][0]                   \n",
            "                                                                 concatenate_1[0][0]              \n",
            "                                                                 activation_93[0][0]              \n",
            "==================================================================================================\n",
            "Total params: 21,802,784\n",
            "Trainable params: 14,951,936\n",
            "Non-trainable params: 6,850,848\n",
            "__________________________________________________________________________________________________\n"
          ],
          "name": "stdout"
        }
      ]
    },
    {
      "cell_type": "code",
      "metadata": {
        "id": "dynamic-hacker"
      },
      "source": [
        "# definindo uma camada de achatamento\n",
        "x = layers.Flatten()(last_output)\n",
        "# conecatando a rede uma camada com 1024 neurônios e função de ativação relu\n",
        "x = layers.Dense(units = 1024, activation = 'relu')(x)     \n",
        "# conecatando a rede uma camada com 128 neurônios e função de ativação relu\n",
        "x = layers.Dense(units = 512, activation = 'relu')(x) \n",
        "# aplicando uma camada de dropout com uma taxa de 20% (normalização)\n",
        "x = layers.Dropout(rate = 0.2)(x)                  \n",
        "# adicionando uma camada de saída com um neurônio e uma função de ativação sigmoide\n",
        "x = layers.Dense  (units = 1, activation = 'sigmoid')(x)           \n",
        "\n",
        "# conecatando as camadas definidas acima com a arquitetura inception\n",
        "model = Model(pre_trained_model.input, x) \n",
        "\n",
        "# compilando a rede \n",
        "model.compile(optimizer = optimizers.RMSprop(learning_rate = 0.0001), loss = 'binary_crossentropy', \n",
        "              metrics = ['acc']) "
      ],
      "id": "dynamic-hacker",
      "execution_count": 16,
      "outputs": []
    },
    {
      "cell_type": "code",
      "metadata": {
        "id": "robust-child"
      },
      "source": [
        "# definindo o caminho pelo qual os pesos serão armazenados \n",
        "filepath = \"transferlearning_weights.hdf5\"\n",
        "# callback para salvar o melhor valor dos pesos em relação ao desempenho com os dados de validação \n",
        "checkpoint = ModelCheckpoint(filepath, monitor = 'val_acc', verbose = 1, save_best_only = True, mode = 'max')"
      ],
      "id": "robust-child",
      "execution_count": 17,
      "outputs": []
    },
    {
      "cell_type": "code",
      "metadata": {
        "id": "foster-melbourne"
      },
      "source": [
        "# definindo um array de callbacks\n",
        "callbacks = [checkpoint]"
      ],
      "id": "foster-melbourne",
      "execution_count": 18,
      "outputs": []
    },
    {
      "cell_type": "code",
      "metadata": {
        "colab": {
          "base_uri": "https://localhost:8080/"
        },
        "id": "atlantic-climb",
        "outputId": "6ce0b669-4600-48f5-8f76-a75c0fc2d3d0"
      },
      "source": [
        "# treinando a rede neural convolucional\n",
        "history = model.fit_generator(train_generator, steps_per_epoch = 512  // 32, \n",
        "                              validation_data = valid_generator, validation_steps = 128 // 32,\n",
        "                              callbacks = callbacks, epochs = 100)"
      ],
      "id": "atlantic-climb",
      "execution_count": 19,
      "outputs": [
        {
          "output_type": "stream",
          "text": [
            "Epoch 1/100\n",
            "16/16 [==============================] - 281s 16s/step - loss: 1.5698 - acc: 0.5538 - val_loss: 0.5664 - val_acc: 0.7344\n",
            "\n",
            "Epoch 00001: val_acc improved from -inf to 0.73438, saving model to transferlearning_weights.hdf5\n",
            "Epoch 2/100\n",
            "16/16 [==============================] - 126s 8s/step - loss: 0.5387 - acc: 0.7535 - val_loss: 0.4698 - val_acc: 0.7656\n",
            "\n",
            "Epoch 00002: val_acc improved from 0.73438 to 0.76562, saving model to transferlearning_weights.hdf5\n",
            "Epoch 3/100\n",
            "16/16 [==============================] - 124s 8s/step - loss: 0.4724 - acc: 0.7932 - val_loss: 0.4656 - val_acc: 0.7344\n",
            "\n",
            "Epoch 00003: val_acc did not improve from 0.76562\n",
            "Epoch 4/100\n",
            "16/16 [==============================] - 84s 5s/step - loss: 0.4222 - acc: 0.8037 - val_loss: 0.4191 - val_acc: 0.8281\n",
            "\n",
            "Epoch 00004: val_acc improved from 0.76562 to 0.82812, saving model to transferlearning_weights.hdf5\n",
            "Epoch 5/100\n",
            "16/16 [==============================] - 83s 5s/step - loss: 0.4616 - acc: 0.7901 - val_loss: 0.4105 - val_acc: 0.8125\n",
            "\n",
            "Epoch 00005: val_acc did not improve from 0.82812\n",
            "Epoch 6/100\n",
            "16/16 [==============================] - 82s 5s/step - loss: 0.3332 - acc: 0.8643 - val_loss: 0.4371 - val_acc: 0.8125\n",
            "\n",
            "Epoch 00006: val_acc did not improve from 0.82812\n",
            "Epoch 7/100\n",
            "16/16 [==============================] - 82s 5s/step - loss: 0.3823 - acc: 0.8451 - val_loss: 0.3575 - val_acc: 0.8359\n",
            "\n",
            "Epoch 00007: val_acc improved from 0.82812 to 0.83594, saving model to transferlearning_weights.hdf5\n",
            "Epoch 8/100\n",
            "16/16 [==============================] - 83s 5s/step - loss: 0.3958 - acc: 0.8571 - val_loss: 0.4804 - val_acc: 0.8594\n",
            "\n",
            "Epoch 00008: val_acc improved from 0.83594 to 0.85938, saving model to transferlearning_weights.hdf5\n",
            "Epoch 9/100\n",
            "16/16 [==============================] - 84s 5s/step - loss: 0.3045 - acc: 0.8801 - val_loss: 0.3370 - val_acc: 0.8359\n",
            "\n",
            "Epoch 00009: val_acc did not improve from 0.85938\n",
            "Epoch 10/100\n",
            "16/16 [==============================] - 82s 5s/step - loss: 0.2025 - acc: 0.9202 - val_loss: 0.4252 - val_acc: 0.8047\n",
            "\n",
            "Epoch 00010: val_acc did not improve from 0.85938\n",
            "Epoch 11/100\n",
            "16/16 [==============================] - 81s 5s/step - loss: 0.2814 - acc: 0.9044 - val_loss: 0.6093 - val_acc: 0.7969\n",
            "\n",
            "Epoch 00011: val_acc did not improve from 0.85938\n",
            "Epoch 12/100\n",
            "16/16 [==============================] - 81s 5s/step - loss: 0.2389 - acc: 0.8971 - val_loss: 0.5027 - val_acc: 0.8203\n",
            "\n",
            "Epoch 00012: val_acc did not improve from 0.85938\n",
            "Epoch 13/100\n",
            "16/16 [==============================] - 81s 5s/step - loss: 0.1891 - acc: 0.9315 - val_loss: 0.4865 - val_acc: 0.8359\n",
            "\n",
            "Epoch 00013: val_acc did not improve from 0.85938\n",
            "Epoch 14/100\n",
            "16/16 [==============================] - 81s 5s/step - loss: 0.2561 - acc: 0.9210 - val_loss: 0.3888 - val_acc: 0.8750\n",
            "\n",
            "Epoch 00014: val_acc improved from 0.85938 to 0.87500, saving model to transferlearning_weights.hdf5\n",
            "Epoch 15/100\n",
            "16/16 [==============================] - 84s 5s/step - loss: 0.1485 - acc: 0.9341 - val_loss: 0.3375 - val_acc: 0.8906\n",
            "\n",
            "Epoch 00015: val_acc improved from 0.87500 to 0.89062, saving model to transferlearning_weights.hdf5\n",
            "Epoch 16/100\n",
            "16/16 [==============================] - 84s 5s/step - loss: 0.1647 - acc: 0.9358 - val_loss: 0.6518 - val_acc: 0.7891\n",
            "\n",
            "Epoch 00016: val_acc did not improve from 0.89062\n",
            "Epoch 17/100\n",
            "16/16 [==============================] - 81s 5s/step - loss: 0.1731 - acc: 0.9374 - val_loss: 0.5217 - val_acc: 0.8750\n",
            "\n",
            "Epoch 00017: val_acc did not improve from 0.89062\n",
            "Epoch 18/100\n",
            "16/16 [==============================] - 81s 5s/step - loss: 0.1436 - acc: 0.9427 - val_loss: 0.7042 - val_acc: 0.8438\n",
            "\n",
            "Epoch 00018: val_acc did not improve from 0.89062\n",
            "Epoch 19/100\n",
            "16/16 [==============================] - 81s 5s/step - loss: 0.1629 - acc: 0.9326 - val_loss: 0.5980 - val_acc: 0.8281\n",
            "\n",
            "Epoch 00019: val_acc did not improve from 0.89062\n",
            "Epoch 20/100\n",
            "16/16 [==============================] - 81s 5s/step - loss: 0.1744 - acc: 0.9346 - val_loss: 0.7301 - val_acc: 0.8438\n",
            "\n",
            "Epoch 00020: val_acc did not improve from 0.89062\n",
            "Epoch 21/100\n",
            "16/16 [==============================] - 81s 5s/step - loss: 0.1562 - acc: 0.9324 - val_loss: 0.4842 - val_acc: 0.8672\n",
            "\n",
            "Epoch 00021: val_acc did not improve from 0.89062\n",
            "Epoch 22/100\n",
            "16/16 [==============================] - 81s 5s/step - loss: 0.1030 - acc: 0.9644 - val_loss: 0.5023 - val_acc: 0.8672\n",
            "\n",
            "Epoch 00022: val_acc did not improve from 0.89062\n",
            "Epoch 23/100\n",
            "16/16 [==============================] - 81s 5s/step - loss: 0.1514 - acc: 0.9396 - val_loss: 0.4877 - val_acc: 0.8438\n",
            "\n",
            "Epoch 00023: val_acc did not improve from 0.89062\n",
            "Epoch 24/100\n",
            "16/16 [==============================] - 81s 5s/step - loss: 0.0740 - acc: 0.9745 - val_loss: 0.6856 - val_acc: 0.8203\n",
            "\n",
            "Epoch 00024: val_acc did not improve from 0.89062\n",
            "Epoch 25/100\n",
            "16/16 [==============================] - 81s 5s/step - loss: 0.1107 - acc: 0.9688 - val_loss: 0.6352 - val_acc: 0.8359\n",
            "\n",
            "Epoch 00025: val_acc did not improve from 0.89062\n",
            "Epoch 26/100\n",
            "16/16 [==============================] - 81s 5s/step - loss: 0.1064 - acc: 0.9754 - val_loss: 0.9929 - val_acc: 0.8203\n",
            "\n",
            "Epoch 00026: val_acc did not improve from 0.89062\n",
            "Epoch 27/100\n",
            "16/16 [==============================] - 81s 5s/step - loss: 0.0637 - acc: 0.9747 - val_loss: 0.9760 - val_acc: 0.8125\n",
            "\n",
            "Epoch 00027: val_acc did not improve from 0.89062\n",
            "Epoch 28/100\n",
            "16/16 [==============================] - 81s 5s/step - loss: 0.0834 - acc: 0.9669 - val_loss: 0.7650 - val_acc: 0.8359\n",
            "\n",
            "Epoch 00028: val_acc did not improve from 0.89062\n",
            "Epoch 29/100\n",
            "16/16 [==============================] - 81s 5s/step - loss: 0.1301 - acc: 0.9555 - val_loss: 0.6341 - val_acc: 0.8438\n",
            "\n",
            "Epoch 00029: val_acc did not improve from 0.89062\n",
            "Epoch 30/100\n",
            "16/16 [==============================] - 81s 5s/step - loss: 0.1248 - acc: 0.9548 - val_loss: 0.8183 - val_acc: 0.8359\n",
            "\n",
            "Epoch 00030: val_acc did not improve from 0.89062\n",
            "Epoch 31/100\n",
            "16/16 [==============================] - 82s 5s/step - loss: 0.1080 - acc: 0.9549 - val_loss: 0.4163 - val_acc: 0.8828\n",
            "\n",
            "Epoch 00031: val_acc did not improve from 0.89062\n",
            "Epoch 32/100\n",
            "16/16 [==============================] - 82s 5s/step - loss: 0.0555 - acc: 0.9781 - val_loss: 0.5688 - val_acc: 0.8828\n",
            "\n",
            "Epoch 00032: val_acc did not improve from 0.89062\n",
            "Epoch 33/100\n",
            "16/16 [==============================] - 81s 5s/step - loss: 0.0695 - acc: 0.9692 - val_loss: 0.7125 - val_acc: 0.8438\n",
            "\n",
            "Epoch 00033: val_acc did not improve from 0.89062\n",
            "Epoch 34/100\n",
            "16/16 [==============================] - 81s 5s/step - loss: 0.0624 - acc: 0.9804 - val_loss: 0.5331 - val_acc: 0.8516\n",
            "\n",
            "Epoch 00034: val_acc did not improve from 0.89062\n",
            "Epoch 35/100\n",
            "16/16 [==============================] - 81s 5s/step - loss: 0.0465 - acc: 0.9834 - val_loss: 0.9418 - val_acc: 0.8047\n",
            "\n",
            "Epoch 00035: val_acc did not improve from 0.89062\n",
            "Epoch 36/100\n",
            "16/16 [==============================] - 81s 5s/step - loss: 0.0671 - acc: 0.9673 - val_loss: 0.6421 - val_acc: 0.8438\n",
            "\n",
            "Epoch 00036: val_acc did not improve from 0.89062\n",
            "Epoch 37/100\n",
            "16/16 [==============================] - 81s 5s/step - loss: 0.0719 - acc: 0.9675 - val_loss: 0.7570 - val_acc: 0.8672\n",
            "\n",
            "Epoch 00037: val_acc did not improve from 0.89062\n",
            "Epoch 38/100\n",
            "16/16 [==============================] - 80s 5s/step - loss: 0.0782 - acc: 0.9737 - val_loss: 0.7699 - val_acc: 0.8984\n",
            "\n",
            "Epoch 00038: val_acc improved from 0.89062 to 0.89844, saving model to transferlearning_weights.hdf5\n",
            "Epoch 39/100\n",
            "16/16 [==============================] - 83s 5s/step - loss: 0.0459 - acc: 0.9832 - val_loss: 0.9260 - val_acc: 0.8125\n",
            "\n",
            "Epoch 00039: val_acc did not improve from 0.89844\n",
            "Epoch 40/100\n",
            "16/16 [==============================] - 81s 5s/step - loss: 0.0485 - acc: 0.9802 - val_loss: 0.6612 - val_acc: 0.8516\n",
            "\n",
            "Epoch 00040: val_acc did not improve from 0.89844\n",
            "Epoch 41/100\n",
            "16/16 [==============================] - 80s 5s/step - loss: 0.0430 - acc: 0.9851 - val_loss: 1.5461 - val_acc: 0.8125\n",
            "\n",
            "Epoch 00041: val_acc did not improve from 0.89844\n",
            "Epoch 42/100\n",
            "16/16 [==============================] - 80s 5s/step - loss: 0.0536 - acc: 0.9829 - val_loss: 1.4340 - val_acc: 0.8203\n",
            "\n",
            "Epoch 00042: val_acc did not improve from 0.89844\n",
            "Epoch 43/100\n",
            "16/16 [==============================] - 81s 5s/step - loss: 0.1297 - acc: 0.9656 - val_loss: 0.7617 - val_acc: 0.8203\n",
            "\n",
            "Epoch 00043: val_acc did not improve from 0.89844\n",
            "Epoch 44/100\n",
            "16/16 [==============================] - 81s 5s/step - loss: 0.0479 - acc: 0.9802 - val_loss: 0.6972 - val_acc: 0.7891\n",
            "\n",
            "Epoch 00044: val_acc did not improve from 0.89844\n",
            "Epoch 45/100\n",
            "16/16 [==============================] - 80s 5s/step - loss: 0.0760 - acc: 0.9822 - val_loss: 0.9701 - val_acc: 0.8359\n",
            "\n",
            "Epoch 00045: val_acc did not improve from 0.89844\n",
            "Epoch 46/100\n",
            "16/16 [==============================] - 80s 5s/step - loss: 0.0354 - acc: 0.9809 - val_loss: 0.8646 - val_acc: 0.8359\n",
            "\n",
            "Epoch 00046: val_acc did not improve from 0.89844\n",
            "Epoch 47/100\n",
            "16/16 [==============================] - 81s 5s/step - loss: 0.0338 - acc: 0.9898 - val_loss: 0.8738 - val_acc: 0.8594\n",
            "\n",
            "Epoch 00047: val_acc did not improve from 0.89844\n",
            "Epoch 48/100\n",
            "16/16 [==============================] - 81s 5s/step - loss: 0.0448 - acc: 0.9849 - val_loss: 0.7767 - val_acc: 0.8672\n",
            "\n",
            "Epoch 00048: val_acc did not improve from 0.89844\n",
            "Epoch 49/100\n",
            "16/16 [==============================] - 81s 5s/step - loss: 0.0879 - acc: 0.9645 - val_loss: 0.7046 - val_acc: 0.8594\n",
            "\n",
            "Epoch 00049: val_acc did not improve from 0.89844\n",
            "Epoch 50/100\n",
            "16/16 [==============================] - 81s 5s/step - loss: 0.0497 - acc: 0.9838 - val_loss: 0.8975 - val_acc: 0.8594\n",
            "\n",
            "Epoch 00050: val_acc did not improve from 0.89844\n",
            "Epoch 51/100\n",
            "16/16 [==============================] - 81s 5s/step - loss: 0.0865 - acc: 0.9700 - val_loss: 0.8385 - val_acc: 0.8203\n",
            "\n",
            "Epoch 00051: val_acc did not improve from 0.89844\n",
            "Epoch 52/100\n",
            "16/16 [==============================] - 80s 5s/step - loss: 0.0376 - acc: 0.9821 - val_loss: 0.9328 - val_acc: 0.8516\n",
            "\n",
            "Epoch 00052: val_acc did not improve from 0.89844\n",
            "Epoch 53/100\n",
            "16/16 [==============================] - 80s 5s/step - loss: 0.0200 - acc: 0.9937 - val_loss: 0.9951 - val_acc: 0.7734\n",
            "\n",
            "Epoch 00053: val_acc did not improve from 0.89844\n",
            "Epoch 54/100\n",
            "16/16 [==============================] - 79s 5s/step - loss: 0.0617 - acc: 0.9757 - val_loss: 0.8255 - val_acc: 0.8281\n",
            "\n",
            "Epoch 00054: val_acc did not improve from 0.89844\n",
            "Epoch 55/100\n",
            "16/16 [==============================] - 80s 5s/step - loss: 0.0686 - acc: 0.9784 - val_loss: 1.3394 - val_acc: 0.8203\n",
            "\n",
            "Epoch 00055: val_acc did not improve from 0.89844\n",
            "Epoch 56/100\n",
            "16/16 [==============================] - 80s 5s/step - loss: 0.0247 - acc: 0.9863 - val_loss: 0.9965 - val_acc: 0.8594\n",
            "\n",
            "Epoch 00056: val_acc did not improve from 0.89844\n",
            "Epoch 57/100\n",
            "16/16 [==============================] - 80s 5s/step - loss: 0.0583 - acc: 0.9848 - val_loss: 1.0255 - val_acc: 0.8047\n",
            "\n",
            "Epoch 00057: val_acc did not improve from 0.89844\n",
            "Epoch 58/100\n",
            "16/16 [==============================] - 80s 5s/step - loss: 0.0494 - acc: 0.9798 - val_loss: 0.7728 - val_acc: 0.8516\n",
            "\n",
            "Epoch 00058: val_acc did not improve from 0.89844\n",
            "Epoch 59/100\n",
            "16/16 [==============================] - 81s 5s/step - loss: 0.0414 - acc: 0.9813 - val_loss: 0.8609 - val_acc: 0.8516\n",
            "\n",
            "Epoch 00059: val_acc did not improve from 0.89844\n",
            "Epoch 60/100\n",
            "16/16 [==============================] - 80s 5s/step - loss: 0.0422 - acc: 0.9902 - val_loss: 0.9901 - val_acc: 0.8203\n",
            "\n",
            "Epoch 00060: val_acc did not improve from 0.89844\n",
            "Epoch 61/100\n",
            "16/16 [==============================] - 80s 5s/step - loss: 0.0480 - acc: 0.9842 - val_loss: 1.2063 - val_acc: 0.8203\n",
            "\n",
            "Epoch 00061: val_acc did not improve from 0.89844\n",
            "Epoch 62/100\n",
            "16/16 [==============================] - 80s 5s/step - loss: 0.0473 - acc: 0.9894 - val_loss: 0.7909 - val_acc: 0.8438\n",
            "\n",
            "Epoch 00062: val_acc did not improve from 0.89844\n",
            "Epoch 63/100\n",
            "16/16 [==============================] - 80s 5s/step - loss: 0.0171 - acc: 0.9950 - val_loss: 0.8257 - val_acc: 0.8047\n",
            "\n",
            "Epoch 00063: val_acc did not improve from 0.89844\n",
            "Epoch 64/100\n",
            "16/16 [==============================] - 80s 5s/step - loss: 0.0312 - acc: 0.9900 - val_loss: 0.9804 - val_acc: 0.8281\n",
            "\n",
            "Epoch 00064: val_acc did not improve from 0.89844\n",
            "Epoch 65/100\n",
            "16/16 [==============================] - 80s 5s/step - loss: 0.0168 - acc: 0.9947 - val_loss: 1.1661 - val_acc: 0.8125\n",
            "\n",
            "Epoch 00065: val_acc did not improve from 0.89844\n",
            "Epoch 66/100\n",
            "16/16 [==============================] - 79s 5s/step - loss: 0.0131 - acc: 0.9978 - val_loss: 1.5943 - val_acc: 0.7734\n",
            "\n",
            "Epoch 00066: val_acc did not improve from 0.89844\n",
            "Epoch 67/100\n",
            "16/16 [==============================] - 80s 5s/step - loss: 0.0357 - acc: 0.9861 - val_loss: 1.3204 - val_acc: 0.8203\n",
            "\n",
            "Epoch 00067: val_acc did not improve from 0.89844\n",
            "Epoch 68/100\n",
            "16/16 [==============================] - 80s 5s/step - loss: 0.0163 - acc: 0.9960 - val_loss: 1.3329 - val_acc: 0.8281\n",
            "\n",
            "Epoch 00068: val_acc did not improve from 0.89844\n",
            "Epoch 69/100\n",
            "16/16 [==============================] - 80s 5s/step - loss: 0.0288 - acc: 0.9912 - val_loss: 1.4246 - val_acc: 0.8125\n",
            "\n",
            "Epoch 00069: val_acc did not improve from 0.89844\n",
            "Epoch 70/100\n",
            "16/16 [==============================] - 80s 5s/step - loss: 0.2229 - acc: 0.9320 - val_loss: 1.2119 - val_acc: 0.8438\n",
            "\n",
            "Epoch 00070: val_acc did not improve from 0.89844\n",
            "Epoch 71/100\n",
            "16/16 [==============================] - 80s 5s/step - loss: 0.0047 - acc: 1.0000 - val_loss: 1.4621 - val_acc: 0.8047\n",
            "\n",
            "Epoch 00071: val_acc did not improve from 0.89844\n",
            "Epoch 72/100\n",
            "16/16 [==============================] - 80s 5s/step - loss: 0.0015 - acc: 1.0000 - val_loss: 1.1710 - val_acc: 0.8594\n",
            "\n",
            "Epoch 00072: val_acc did not improve from 0.89844\n",
            "Epoch 73/100\n",
            "16/16 [==============================] - 80s 5s/step - loss: 0.0565 - acc: 0.9835 - val_loss: 0.7415 - val_acc: 0.8594\n",
            "\n",
            "Epoch 00073: val_acc did not improve from 0.89844\n",
            "Epoch 74/100\n",
            "16/16 [==============================] - 80s 5s/step - loss: 0.0102 - acc: 0.9964 - val_loss: 0.8309 - val_acc: 0.8438\n",
            "\n",
            "Epoch 00074: val_acc did not improve from 0.89844\n",
            "Epoch 75/100\n",
            "16/16 [==============================] - 80s 5s/step - loss: 0.0890 - acc: 0.9837 - val_loss: 1.0446 - val_acc: 0.8359\n",
            "\n",
            "Epoch 00075: val_acc did not improve from 0.89844\n",
            "Epoch 76/100\n",
            "16/16 [==============================] - 80s 5s/step - loss: 0.0492 - acc: 0.9848 - val_loss: 1.4966 - val_acc: 0.7891\n",
            "\n",
            "Epoch 00076: val_acc did not improve from 0.89844\n",
            "Epoch 77/100\n",
            "16/16 [==============================] - 79s 5s/step - loss: 0.0415 - acc: 0.9853 - val_loss: 1.7030 - val_acc: 0.8281\n",
            "\n",
            "Epoch 00077: val_acc did not improve from 0.89844\n",
            "Epoch 78/100\n",
            "16/16 [==============================] - 80s 5s/step - loss: 0.0068 - acc: 0.9998 - val_loss: 1.0176 - val_acc: 0.8359\n",
            "\n",
            "Epoch 00078: val_acc did not improve from 0.89844\n",
            "Epoch 79/100\n",
            "16/16 [==============================] - 80s 5s/step - loss: 0.0641 - acc: 0.9742 - val_loss: 1.3472 - val_acc: 0.8438\n",
            "\n",
            "Epoch 00079: val_acc did not improve from 0.89844\n",
            "Epoch 80/100\n",
            "16/16 [==============================] - 80s 5s/step - loss: 0.0233 - acc: 0.9922 - val_loss: 1.5939 - val_acc: 0.8281\n",
            "\n",
            "Epoch 00080: val_acc did not improve from 0.89844\n",
            "Epoch 81/100\n",
            "16/16 [==============================] - 80s 5s/step - loss: 0.0047 - acc: 1.0000 - val_loss: 1.2242 - val_acc: 0.8438\n",
            "\n",
            "Epoch 00081: val_acc did not improve from 0.89844\n",
            "Epoch 82/100\n",
            "16/16 [==============================] - 80s 5s/step - loss: 0.0120 - acc: 0.9956 - val_loss: 1.1333 - val_acc: 0.8281\n",
            "\n",
            "Epoch 00082: val_acc did not improve from 0.89844\n",
            "Epoch 83/100\n",
            "16/16 [==============================] - 80s 5s/step - loss: 0.0379 - acc: 0.9914 - val_loss: 2.2244 - val_acc: 0.8047\n",
            "\n",
            "Epoch 00083: val_acc did not improve from 0.89844\n",
            "Epoch 84/100\n",
            "16/16 [==============================] - 80s 5s/step - loss: 0.0711 - acc: 0.9755 - val_loss: 1.5706 - val_acc: 0.8516\n",
            "\n",
            "Epoch 00084: val_acc did not improve from 0.89844\n",
            "Epoch 85/100\n",
            "16/16 [==============================] - 80s 5s/step - loss: 0.0197 - acc: 0.9930 - val_loss: 1.3657 - val_acc: 0.8438\n",
            "\n",
            "Epoch 00085: val_acc did not improve from 0.89844\n",
            "Epoch 86/100\n",
            "16/16 [==============================] - 80s 5s/step - loss: 0.0116 - acc: 0.9957 - val_loss: 0.8612 - val_acc: 0.8750\n",
            "\n",
            "Epoch 00086: val_acc did not improve from 0.89844\n",
            "Epoch 87/100\n",
            "16/16 [==============================] - 80s 5s/step - loss: 0.0019 - acc: 0.9998 - val_loss: 1.6692 - val_acc: 0.8047\n",
            "\n",
            "Epoch 00087: val_acc did not improve from 0.89844\n",
            "Epoch 88/100\n",
            "16/16 [==============================] - 79s 5s/step - loss: 0.1614 - acc: 0.9788 - val_loss: 1.6537 - val_acc: 0.8281\n",
            "\n",
            "Epoch 00088: val_acc did not improve from 0.89844\n",
            "Epoch 89/100\n",
            "16/16 [==============================] - 79s 5s/step - loss: 0.0383 - acc: 0.9939 - val_loss: 1.7658 - val_acc: 0.8672\n",
            "\n",
            "Epoch 00089: val_acc did not improve from 0.89844\n",
            "Epoch 90/100\n",
            "16/16 [==============================] - 79s 5s/step - loss: 0.0027 - acc: 1.0000 - val_loss: 1.1381 - val_acc: 0.8438\n",
            "\n",
            "Epoch 00090: val_acc did not improve from 0.89844\n",
            "Epoch 91/100\n",
            "16/16 [==============================] - 80s 5s/step - loss: 0.0080 - acc: 0.9988 - val_loss: 1.2560 - val_acc: 0.8359\n",
            "\n",
            "Epoch 00091: val_acc did not improve from 0.89844\n",
            "Epoch 92/100\n",
            "16/16 [==============================] - 81s 5s/step - loss: 0.0134 - acc: 0.9970 - val_loss: 1.1290 - val_acc: 0.8594\n",
            "\n",
            "Epoch 00092: val_acc did not improve from 0.89844\n",
            "Epoch 93/100\n",
            "16/16 [==============================] - 80s 5s/step - loss: 0.0068 - acc: 0.9975 - val_loss: 1.5136 - val_acc: 0.8516\n",
            "\n",
            "Epoch 00093: val_acc did not improve from 0.89844\n",
            "Epoch 94/100\n",
            "16/16 [==============================] - 80s 5s/step - loss: 0.0041 - acc: 1.0000 - val_loss: 1.1096 - val_acc: 0.8516\n",
            "\n",
            "Epoch 00094: val_acc did not improve from 0.89844\n",
            "Epoch 95/100\n",
            "16/16 [==============================] - 79s 5s/step - loss: 0.0213 - acc: 0.9946 - val_loss: 1.0242 - val_acc: 0.8203\n",
            "\n",
            "Epoch 00095: val_acc did not improve from 0.89844\n",
            "Epoch 96/100\n",
            "16/16 [==============================] - 80s 5s/step - loss: 0.0109 - acc: 0.9963 - val_loss: 1.4908 - val_acc: 0.8359\n",
            "\n",
            "Epoch 00096: val_acc did not improve from 0.89844\n",
            "Epoch 97/100\n",
            "16/16 [==============================] - 80s 5s/step - loss: 0.0096 - acc: 0.9990 - val_loss: 1.4850 - val_acc: 0.8594\n",
            "\n",
            "Epoch 00097: val_acc did not improve from 0.89844\n",
            "Epoch 98/100\n",
            "16/16 [==============================] - 81s 5s/step - loss: 0.0171 - acc: 0.9919 - val_loss: 1.0714 - val_acc: 0.8516\n",
            "\n",
            "Epoch 00098: val_acc did not improve from 0.89844\n",
            "Epoch 99/100\n",
            "16/16 [==============================] - 81s 5s/step - loss: 4.9443e-04 - acc: 1.0000 - val_loss: 1.4261 - val_acc: 0.8516\n",
            "\n",
            "Epoch 00099: val_acc did not improve from 0.89844\n",
            "Epoch 100/100\n",
            "16/16 [==============================] - 80s 5s/step - loss: 0.0010 - acc: 1.0000 - val_loss: 1.8675 - val_acc: 0.8359\n",
            "\n",
            "Epoch 00100: val_acc did not improve from 0.89844\n"
          ],
          "name": "stdout"
        }
      ]
    },
    {
      "cell_type": "code",
      "metadata": {
        "colab": {
          "base_uri": "https://localhost:8080/"
        },
        "id": "-8zn_8gWGM9I",
        "outputId": "b674fe22-d4e8-4901-b675-5aa888c50c23"
      },
      "source": [
        "model.evaluate(test_generator)"
      ],
      "id": "-8zn_8gWGM9I",
      "execution_count": 20,
      "outputs": [
        {
          "output_type": "stream",
          "text": [
            "5/5 [==============================] - 50s 11s/step - loss: 2.2689 - acc: 0.8000\n"
          ],
          "name": "stdout"
        },
        {
          "output_type": "execute_result",
          "data": {
            "text/plain": [
              "[2.268907070159912, 0.800000011920929]"
            ]
          },
          "metadata": {
            "tags": []
          },
          "execution_count": 20
        }
      ]
    },
    {
      "cell_type": "code",
      "metadata": {
        "id": "7kqjvfTfGQMd"
      },
      "source": [
        "best_model = model\n",
        "best_model.load_weights('/content/transferlearning_weights.hdf5')"
      ],
      "id": "7kqjvfTfGQMd",
      "execution_count": 21,
      "outputs": []
    },
    {
      "cell_type": "code",
      "metadata": {
        "colab": {
          "base_uri": "https://localhost:8080/"
        },
        "id": "OKp1AtaaGSfp",
        "outputId": "1b157f90-20dd-4112-d452-88ebd445b7df"
      },
      "source": [
        "best_model.evaluate(test_generator)"
      ],
      "id": "OKp1AtaaGSfp",
      "execution_count": 22,
      "outputs": [
        {
          "output_type": "stream",
          "text": [
            "5/5 [==============================] - 20s 4s/step - loss: 1.4953 - acc: 0.7875\n"
          ],
          "name": "stdout"
        },
        {
          "output_type": "execute_result",
          "data": {
            "text/plain": [
              "[1.495276689529419, 0.7875000238418579]"
            ]
          },
          "metadata": {
            "tags": []
          },
          "execution_count": 22
        }
      ]
    },
    {
      "cell_type": "code",
      "metadata": {
        "id": "RpUtiWkjGrIq"
      },
      "source": [
        "(x1, y1) = test_generator[0]\n",
        "(x2, y2) = test_generator[1]\n",
        "(x3, y3) = test_generator[2]\n",
        "(x4, y4) = test_generator[3]\n",
        "(x5, y5) = test_generator[4]"
      ],
      "id": "RpUtiWkjGrIq",
      "execution_count": 23,
      "outputs": []
    },
    {
      "cell_type": "code",
      "metadata": {
        "id": "s3JKAfiNGr_q"
      },
      "source": [
        "x = np.concatenate((x1, x2, x3, x4, x5))\n",
        "y = np.concatenate((y1, y2, y3, y4, y5))"
      ],
      "id": "s3JKAfiNGr_q",
      "execution_count": 24,
      "outputs": []
    },
    {
      "cell_type": "code",
      "metadata": {
        "id": "YGjs1k5PGt0v"
      },
      "source": [
        "predict = model.predict(x)"
      ],
      "id": "YGjs1k5PGt0v",
      "execution_count": 31,
      "outputs": []
    },
    {
      "cell_type": "code",
      "metadata": {
        "id": "NEdvXfRRG6ip"
      },
      "source": [
        "predict_ = []\n",
        "for i in predict:\n",
        "  if i > 0.95:\n",
        "    predict_.append(1)\n",
        "  else:\n",
        "    predict_.append(0)"
      ],
      "id": "NEdvXfRRG6ip",
      "execution_count": 32,
      "outputs": []
    },
    {
      "cell_type": "code",
      "metadata": {
        "colab": {
          "base_uri": "https://localhost:8080/"
        },
        "id": "-YN6LRh8G7a-",
        "outputId": "fe1b0e36-4280-4648-9638-c626d174ed14"
      },
      "source": [
        "confusion_matrix(predict_, y)"
      ],
      "id": "-YN6LRh8G7a-",
      "execution_count": 33,
      "outputs": [
        {
          "output_type": "execute_result",
          "data": {
            "text/plain": [
              "array([[74, 30],\n",
              "       [ 7, 49]])"
            ]
          },
          "metadata": {
            "tags": []
          },
          "execution_count": 33
        }
      ]
    },
    {
      "cell_type": "code",
      "metadata": {
        "colab": {
          "base_uri": "https://localhost:8080/"
        },
        "id": "Sl5CawDCG_2c",
        "outputId": "57de1931-a103-4b22-ca7f-43f96a7ca117"
      },
      "source": [
        "precision_recall_fscore_support(predict_, y)"
      ],
      "id": "Sl5CawDCG_2c",
      "execution_count": 34,
      "outputs": [
        {
          "output_type": "execute_result",
          "data": {
            "text/plain": [
              "(array([0.91358025, 0.62025316]),\n",
              " array([0.71153846, 0.875     ]),\n",
              " array([0.8       , 0.72592593]),\n",
              " array([104,  56]))"
            ]
          },
          "metadata": {
            "tags": []
          },
          "execution_count": 34
        }
      ]
    },
    {
      "cell_type": "code",
      "metadata": {
        "colab": {
          "base_uri": "https://localhost:8080/"
        },
        "id": "fWUczQq7HFdQ",
        "outputId": "df7fe3ce-22b8-4d98-cd2e-722304502dfa"
      },
      "source": [
        "precision = 74 / (74 + 30)\n",
        "precision"
      ],
      "id": "fWUczQq7HFdQ",
      "execution_count": 35,
      "outputs": [
        {
          "output_type": "execute_result",
          "data": {
            "text/plain": [
              "0.7115384615384616"
            ]
          },
          "metadata": {
            "tags": []
          },
          "execution_count": 35
        }
      ]
    },
    {
      "cell_type": "code",
      "metadata": {
        "colab": {
          "base_uri": "https://localhost:8080/"
        },
        "id": "YUkh5k1-HJwI",
        "outputId": "2b503ab8-a859-4e5f-c56e-ada2ae2de44e"
      },
      "source": [
        "recall = 74 / (74 + 7)\n",
        "recall"
      ],
      "id": "YUkh5k1-HJwI",
      "execution_count": 36,
      "outputs": [
        {
          "output_type": "execute_result",
          "data": {
            "text/plain": [
              "0.9135802469135802"
            ]
          },
          "metadata": {
            "tags": []
          },
          "execution_count": 36
        }
      ]
    },
    {
      "cell_type": "code",
      "metadata": {
        "colab": {
          "base_uri": "https://localhost:8080/"
        },
        "id": "K_cSc_xdHOfH",
        "outputId": "71b4818e-f706-42f2-bbfe-2ce8d53db279"
      },
      "source": [
        "f1 = (2 * precision * recall) / (precision + recall)\n",
        "f1"
      ],
      "id": "K_cSc_xdHOfH",
      "execution_count": 37,
      "outputs": [
        {
          "output_type": "execute_result",
          "data": {
            "text/plain": [
              "0.8"
            ]
          },
          "metadata": {
            "tags": []
          },
          "execution_count": 37
        }
      ]
    },
    {
      "cell_type": "code",
      "metadata": {
        "colab": {
          "base_uri": "https://localhost:8080/"
        },
        "id": "DpNh3gdcHS5T",
        "outputId": "fa6eeb30-7c1d-43a7-f9a1-beca4e97c9cc"
      },
      "source": [
        "model.save('model1')\n",
        "best_model.save('model2')"
      ],
      "id": "DpNh3gdcHS5T",
      "execution_count": 38,
      "outputs": [
        {
          "output_type": "stream",
          "text": [
            "INFO:tensorflow:Assets written to: model1/assets\n",
            "INFO:tensorflow:Assets written to: model2/assets\n"
          ],
          "name": "stdout"
        }
      ]
    },
    {
      "cell_type": "code",
      "metadata": {
        "colab": {
          "base_uri": "https://localhost:8080/",
          "height": 590
        },
        "id": "X4UhBG6SHTyQ",
        "outputId": "d0c7364f-aff8-470d-8e23-8fa27ad533ac"
      },
      "source": [
        "plt.plot(history.history['acc'])\n",
        "plt.plot(history.history['val_acc'])\n",
        "plt.title('model accuracy')\n",
        "plt.ylabel('accuracy')\n",
        "plt.xlabel('epoch')\n",
        "plt.legend(['train', 'test'], loc='upper left')\n",
        "plt.show()\n",
        "plt.savefig('model-accuracy')\n",
        "# summarize history for loss\n",
        "plt.plot(history.history['loss'])\n",
        "plt.plot(history.history['val_loss'])\n",
        "plt.title('model loss')\n",
        "plt.ylabel('loss')\n",
        "plt.xlabel('epoch')\n",
        "plt.legend(['train', 'test'], loc='upper left')\n",
        "plt.show()\n",
        "plt.savefig('model-loss')"
      ],
      "id": "X4UhBG6SHTyQ",
      "execution_count": 39,
      "outputs": [
        {
          "output_type": "display_data",
          "data": {
            "image/png": "[encoded data removed]",
            "text/plain": [
              "<Figure size 432x288 with 1 Axes>"
            ]
          },
          "metadata": {
            "tags": [],
            "needs_background": "light"
          }
        },
        {
          "output_type": "display_data",
          "data": {
            "image/png": "[encoded data removed]",
            "text/plain": [
              "<Figure size 432x288 with 1 Axes>"
            ]
          },
          "metadata": {
            "tags": [],
            "needs_background": "light"
          }
        },
        {
          "output_type": "display_data",
          "data": {
            "text/plain": [
              "<Figure size 432x288 with 0 Axes>"
            ]
          },
          "metadata": {
            "tags": []
          }
        }
      ]
    }
  ]
}