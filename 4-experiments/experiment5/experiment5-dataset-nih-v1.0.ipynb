{
  "nbformat": 4,
  "nbformat_minor": 0,
  "metadata": {
    "colab": {
      "name": "experiment5-dataset-nih.ipynb",
      "provenance": [],
      "mount_file_id": "1Bw1YBgOdKtmEJQhIilBDN6cwvvnnOUL7",
      "authorship_tag": "ABX9TyMX9eToFdvLL+5mR4OsKcb1"
    },
    "kernelspec": {
      "name": "python3",
      "display_name": "Python 3"
    },
    "language_info": {
      "name": "python"
    },
    "accelerator": "GPU"
  },
  "cells": [
    {
      "cell_type": "code",
      "metadata": {
        "id": "WGLgcqBx2V6Y"
      },
      "source": [
        ""
      ],
      "execution_count": null,
      "outputs": []
    },
    {
      "cell_type": "markdown",
      "metadata": {
        "id": "lltg8Aim2eBk"
      },
      "source": [
        "# Experimento 5\n",
        "***\n",
        "- Conjunto de Dados: NIH\n",
        "- Analisando o treinamento de uma rede com multiclassificadores"
      ]
    },
    {
      "cell_type": "markdown",
      "metadata": {
        "id": "oGc_sJwE2v7L"
      },
      "source": [
        "### Importação dos pacotes"
      ]
    },
    {
      "cell_type": "code",
      "metadata": {
        "id": "2VNdgNJh2nu_"
      },
      "source": [
        "import pandas as pd\n",
        "from sklearn.model_selection import train_test_split\n",
        "from keras.preprocessing.image import ImageDataGenerator\n",
        "from sklearn.metrics import confusion_matrix, precision_recall_fscore_support, accuracy_score\n",
        "import matplotlib.pyplot as plt\n",
        "import numpy as np\n",
        "\n",
        "import tensorflow as tf\n",
        "from tensorflow.keras import layers\n",
        "from tensorflow.keras import Model\n",
        "from tensorflow.keras.applications.inception_v3 import InceptionV3\n",
        "from tensorflow.keras import optimizers\n",
        "from tensorflow.keras.callbacks import ModelCheckpoint\n",
        "import tensorflow as tf\n",
        "\n",
        "import warnings\n",
        "warnings.filterwarnings(\"ignore\")"
      ],
      "execution_count": 1,
      "outputs": []
    },
    {
      "cell_type": "markdown",
      "metadata": {
        "id": "OBlFN3uN250P"
      },
      "source": [
        "### Importação dos dados\n",
        "***\n",
        "- Todos os dados já foram pré-processados anteriormente"
      ]
    },
    {
      "cell_type": "code",
      "metadata": {
        "id": "J8L6EUve227_"
      },
      "source": [
        "# importando os dataframes dos dados de treinamento, validação e teste\n",
        "train_df = pd.read_csv('/content/drive/MyDrive/train_df.csv', sep = ',', index_col=  0)\n",
        "validation_df = pd.read_csv('/content/drive/MyDrive/validation_df.csv', sep = ',', index_col=  0)\n",
        "test_df = pd.read_csv('/content/drive/MyDrive/test_df.csv' , sep = ',', index_col=  0)"
      ],
      "execution_count": 2,
      "outputs": []
    },
    {
      "cell_type": "code",
      "metadata": {
        "colab": {
          "base_uri": "https://localhost:8080/",
          "height": 204
        },
        "id": "a9uNHRrS4Uin",
        "outputId": "c0cdf040-6f08-4c02-ddce-e51a2fa46dc3"
      },
      "source": [
        "# visualizando como é a organização do dataframe pré-processado\n",
        "train_df.head()"
      ],
      "execution_count": 3,
      "outputs": [
        {
          "output_type": "execute_result",
          "data": {
            "text/html": [
              "<div>\n",
              "<style scoped>\n",
              "    .dataframe tbody tr th:only-of-type {\n",
              "        vertical-align: middle;\n",
              "    }\n",
              "\n",
              "    .dataframe tbody tr th {\n",
              "        vertical-align: top;\n",
              "    }\n",
              "\n",
              "    .dataframe thead th {\n",
              "        text-align: right;\n",
              "    }\n",
              "</style>\n",
              "<table border=\"1\" class=\"dataframe\">\n",
              "  <thead>\n",
              "    <tr style=\"text-align: right;\">\n",
              "      <th></th>\n",
              "      <th>Image Index</th>\n",
              "      <th>finding_labels</th>\n",
              "      <th>labels</th>\n",
              "    </tr>\n",
              "  </thead>\n",
              "  <tbody>\n",
              "    <tr>\n",
              "      <th>87745</th>\n",
              "      <td>/content/drive/MyDrive/images-nih1/images/0000...</td>\n",
              "      <td>Consolidation</td>\n",
              "      <td>1</td>\n",
              "    </tr>\n",
              "    <tr>\n",
              "      <th>82970</th>\n",
              "      <td>/content/drive/MyDrive/images-nih1/images/0000...</td>\n",
              "      <td>No Finding</td>\n",
              "      <td>0</td>\n",
              "    </tr>\n",
              "    <tr>\n",
              "      <th>51704</th>\n",
              "      <td>/content/drive/MyDrive/images-nih3/images/0001...</td>\n",
              "      <td>No Finding</td>\n",
              "      <td>0</td>\n",
              "    </tr>\n",
              "    <tr>\n",
              "      <th>38340</th>\n",
              "      <td>/content/drive/MyDrive/images-nih3/images/0001...</td>\n",
              "      <td>No Finding</td>\n",
              "      <td>0</td>\n",
              "    </tr>\n",
              "    <tr>\n",
              "      <th>71153</th>\n",
              "      <td>/content/drive/MyDrive/images-nih4/images/0002...</td>\n",
              "      <td>Infiltration</td>\n",
              "      <td>1</td>\n",
              "    </tr>\n",
              "  </tbody>\n",
              "</table>\n",
              "</div>"
            ],
            "text/plain": [
              "                                             Image Index finding_labels  labels\n",
              "87745  /content/drive/MyDrive/images-nih1/images/0000...  Consolidation       1\n",
              "82970  /content/drive/MyDrive/images-nih1/images/0000...     No Finding       0\n",
              "51704  /content/drive/MyDrive/images-nih3/images/0001...     No Finding       0\n",
              "38340  /content/drive/MyDrive/images-nih3/images/0001...     No Finding       0\n",
              "71153  /content/drive/MyDrive/images-nih4/images/0002...   Infiltration       1"
            ]
          },
          "metadata": {
            "tags": []
          },
          "execution_count": 3
        }
      ]
    },
    {
      "cell_type": "code",
      "metadata": {
        "id": "RZiuieV54kWO"
      },
      "source": [
        "# dicionário com o balancemanto de imagens por classe dos dados de treinamento\n",
        "class_weights = {0: 3902, 1: 1224, 2: 578, 3: 3645, 4: 818, 5: 671,\n",
        "                 6: 8770, 7: 55622, 8: 2497, 9: 1028, 10: 295, 11: 2024}"
      ],
      "execution_count": 4,
      "outputs": []
    },
    {
      "cell_type": "code",
      "metadata": {
        "colab": {
          "base_uri": "https://localhost:8080/"
        },
        "id": "Nikcd9Fj4tpv",
        "outputId": "6fef4b21-cadf-4137-c231-8d7c9e3ec6d6"
      },
      "source": [
        "# normalizando as imagens de treinamento e aplicando aumento de dados\n",
        "image_generator = ImageDataGenerator(rescale = 1./255., rotation_range = 10, zoom_range = 0.2)\n",
        "\n",
        "# criando o gerador de imagens de treinamento \n",
        "train_generator = image_generator.flow_from_dataframe(\n",
        "                                                      dataframe = train_df,\n",
        "                                                      x_col = 'Image Index',\n",
        "                                                      y_col = 'finding_labels',\n",
        "                                                      batch_size = 512,\n",
        "                                                      seed = 42,\n",
        "                                                      shuffle = True,\n",
        "                                                      class_mode = 'categorical',\n",
        "                                                      color_mode = 'rgb',\n",
        "                                                      target_size = (256, 256))\n",
        "\n",
        "# normalizando as imagens de teste \n",
        "test_datagen = ImageDataGenerator(rescale = 1./255.)\n",
        "\n",
        "# criando o gerador de imagens de validação \n",
        "valid_generator = test_datagen.flow_from_dataframe(\n",
        "                                                    dataframe = validation_df,\n",
        "                                                    x_col = 'Image Index',\n",
        "                                                    y_col = 'finding_labels',\n",
        "                                                    batch_size = 256,\n",
        "                                                    seed = 42,\n",
        "                                                    shuffle = True,\n",
        "                                                    class_mode = 'categorical',\n",
        "                                                    target_size = (256, 256))\n",
        "\n",
        "test_generator = test_datagen.flow_from_dataframe(\n",
        "                                                  dataframe = test_df, \n",
        "                                                  x_col = 'Image Index',\n",
        "                                                  y_col = 'finding_labels',\n",
        "                                                  batch_size = 256,\n",
        "                                                  seed = 42,\n",
        "                                                  shuffle = True,\n",
        "                                                  class_mode = 'categorical',\n",
        "                                                  target_size = (256, 256))"
      ],
      "execution_count": 5,
      "outputs": [
        {
          "output_type": "stream",
          "text": [
            "Found 81069 validated image filenames belonging to 12 classes.\n",
            "Found 4268 validated image filenames belonging to 12 classes.\n",
            "Found 2640 validated image filenames belonging to 12 classes.\n"
          ],
          "name": "stdout"
        }
      ]
    },
    {
      "cell_type": "markdown",
      "metadata": {
        "id": "hy6pLh4c5Gk4"
      },
      "source": [
        "### Preparando a rede neural convolucional "
      ]
    },
    {
      "cell_type": "code",
      "metadata": {
        "colab": {
          "base_uri": "https://localhost:8080/"
        },
        "id": "Tp0U2-Ut5Xvq",
        "outputId": "72e1a6d4-55b8-483a-d620-ae509553eb8b"
      },
      "source": [
        "# baixando os pesos treinados da rede inception\n",
        "!wget --no-check-certificate \\\n",
        "    https://storage.googleapis.com/mledu-datasets/inception_v3_weights_tf_dim_ordering_tf_kernels_notop.h5 \\\n",
        "    -O /tmp/inception_v3_weights_tf_dim_ordering_tf_kernels_notop.h5"
      ],
      "execution_count": 6,
      "outputs": [
        {
          "output_type": "stream",
          "text": [
            "--2021-04-07 12:44:48--  https://storage.googleapis.com/mledu-datasets/inception_v3_weights_tf_dim_ordering_tf_kernels_notop.h5\n",
            "Resolving storage.googleapis.com (storage.googleapis.com)... 142.250.128.128, 142.251.6.128, 74.125.70.128, ...\n",
            "Connecting to storage.googleapis.com (storage.googleapis.com)|142.250.128.128|:443... connected.\n",
            "HTTP request sent, awaiting response... 200 OK\n",
            "Length: 87910968 (84M) [application/x-hdf]\n",
            "Saving to: ‘/tmp/inception_v3_weights_tf_dim_ordering_tf_kernels_notop.h5’\n",
            "\n",
            "/tmp/inception_v3_w 100%[===================>]  83.84M  57.7MB/s    in 1.5s    \n",
            "\n",
            "2021-04-07 12:44:50 (57.7 MB/s) - ‘/tmp/inception_v3_weights_tf_dim_ordering_tf_kernels_notop.h5’ saved [87910968/87910968]\n",
            "\n"
          ],
          "name": "stdout"
        }
      ]
    },
    {
      "cell_type": "code",
      "metadata": {
        "id": "ZxH8IPA15bIi"
      },
      "source": [
        "# referenciando o local em que os pesos estão armazenados\n",
        "local_weights_file = '/tmp/inception_v3_weights_tf_dim_ordering_tf_kernels_notop.h5'\n",
        "\n",
        "# carregando a arquitetura inception pré-treinada\n",
        "pre_trained_model = InceptionV3(input_shape = (256, 256, 3), \n",
        "                                include_top = False, \n",
        "                                weights = None)\n",
        "\n",
        "# carregando os pesos treinados com outros dados \n",
        "pre_trained_model.load_weights(local_weights_file)\n",
        "\n",
        "# definindo as flags iniciais  \n",
        "pre_trained_model.trainable = True\n",
        "set_trainable = False\n",
        "\n",
        "# para a arquitetura inception, a rede será retreinada a partir da camada 'mixed6'\n",
        "for layer in pre_trained_model.layers:\n",
        "    if layer.name == 'mixed6':\n",
        "        set_trainable = True\n",
        "    if set_trainable:\n",
        "        layer.trainable = True\n",
        "    else:\n",
        "        layer.trainable = False\n",
        "\n",
        "# obtendo a última camada como sendo a nomeada por 'mixed7'\n",
        "last_layer = pre_trained_model.get_layer('mixed7')\n",
        "last_output = last_layer.output"
      ],
      "execution_count": 7,
      "outputs": []
    },
    {
      "cell_type": "code",
      "metadata": {
        "id": "gXwzaXiT58Oi"
      },
      "source": [
        "# definindo uma camada de achatamento\n",
        "x = layers.Flatten()(last_output)\n",
        "# conecatando a rede uma camada com 1024 neurônios e função de ativação relu\n",
        "x = layers.Dense(units = 1024, activation = 'relu')(x)     \n",
        "# conecatando a rede uma camada com 128 neurônios e função de ativação relu\n",
        "x = layers.Dense(units = 512, activation = 'relu')(x) \n",
        "# aplicando uma camada de dropout com uma taxa de 20% (normalização)\n",
        "x = layers.Dropout(rate = 0.2)(x)                  \n",
        "# adicionando uma camada de saída com um neurônio e uma função de ativação sigmoide\n",
        "x = layers.Dense  (units = 12, activation = 'softmax')(x)           \n",
        "\n",
        "# conecatando as camadas definidas acima com a arquitetura inception\n",
        "model = Model(pre_trained_model.input, x) \n",
        "\n",
        "# compilando a rede \n",
        "model.compile(optimizer = optimizers.RMSprop(learning_rate = 0.0001), loss = 'categorical_crossentropy', \n",
        "              metrics = ['acc']) "
      ],
      "execution_count": 8,
      "outputs": []
    },
    {
      "cell_type": "code",
      "metadata": {
        "id": "VrMrO-fi62SW"
      },
      "source": [
        "# definindo o caminho pelo qual os pesos serão armazenados \n",
        "filepath = \"/content/drive/MyDrive/weights-nih/transferlearning_weights.hdf5\"\n",
        "# callback para salvar o melhor valor dos pesos em relação ao desempenho com os dados de validação \n",
        "checkpoint = ModelCheckpoint(filepath, monitor = 'val_acc', verbose = 1, save_best_only = True, mode = 'max')"
      ],
      "execution_count": 9,
      "outputs": []
    },
    {
      "cell_type": "code",
      "metadata": {
        "id": "sbbzuySD62xG"
      },
      "source": [
        "# definindo um array de callbacks\n",
        "callbacks = [checkpoint]"
      ],
      "execution_count": 10,
      "outputs": []
    },
    {
      "cell_type": "code",
      "metadata": {
        "colab": {
          "base_uri": "https://localhost:8080/"
        },
        "id": "CwaUi23Z659p",
        "outputId": "e80379c0-0ee3-41d6-8200-9d1a39703568"
      },
      "source": [
        "# treinando a rede neural convolucional\n",
        "history = model.fit_generator(train_generator, steps_per_epoch = 81072 // 512, \n",
        "                              validation_data = valid_generator, validation_steps = 4268 // 256,\n",
        "                              callbacks = callbacks, epochs = 10, class_weight = class_weights)"
      ],
      "execution_count": null,
      "outputs": [
        {
          "output_type": "stream",
          "text": [
            "Epoch 1/10\n",
            "  2/158 [..............................] - ETA: 4:26:25 - loss: 84066.9805 - acc: 0.2393"
          ],
          "name": "stdout"
        }
      ]
    }
  ]
}