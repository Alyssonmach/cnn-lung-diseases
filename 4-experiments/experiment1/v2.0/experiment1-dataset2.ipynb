{
  "nbformat": 4,
  "nbformat_minor": 5,
  "metadata": {
    "kernelspec": {
      "display_name": "Python 3",
      "language": "python",
      "name": "python3"
    },
    "language_info": {
      "codemirror_mode": {
        "name": "ipython",
        "version": 3
      },
      "file_extension": ".py",
      "mimetype": "text/x-python",
      "name": "python",
      "nbconvert_exporter": "python",
      "pygments_lexer": "ipython3",
      "version": "3.8.7"
    },
    "colab": {
      "name": "experimento1-dataset2-parte1.ipynb",
      "provenance": [],
      "toc_visible": true
    }
  },
  "cells": [
    {
      "cell_type": "markdown",
      "metadata": {
        "id": "isolated-intermediate"
      },
      "source": [
        "# Experimento 1 - Atualizado\n",
        "***\n",
        "- Conjuntos de dados: Shenzen\n",
        "- Aplicando mudança de escala típica nas imagens"
      ],
      "id": "isolated-intermediate"
    },
    {
      "cell_type": "markdown",
      "metadata": {
        "id": "secure-rocket"
      },
      "source": [
        "### Importando os pacotes necessários"
      ],
      "id": "secure-rocket"
    },
    {
      "cell_type": "code",
      "metadata": {
        "id": "published-reasoning"
      },
      "source": [
        "import glob\n",
        "import re\n",
        "from tqdm import tqdm\n",
        "import urllib.request\n",
        "import pandas as pd\n",
        "from sklearn.model_selection import train_test_split\n",
        "from keras.preprocessing.image import ImageDataGenerator\n",
        "from sklearn.metrics import confusion_matrix, precision_recall_fscore_support\n",
        "import matplotlib.pyplot as plt\n",
        "import numpy as np\n",
        "\n",
        "import tensorflow as tf\n",
        "from tensorflow.keras import layers\n",
        "from tensorflow.keras import Model\n",
        "from tensorflow.keras.applications.inception_v3 import InceptionV3\n",
        "from tensorflow.keras import optimizers\n",
        "from tensorflow.keras.callbacks import ModelCheckpoint\n",
        "\n",
        "import warnings\n",
        "warnings.filterwarnings(\"ignore\")"
      ],
      "id": "published-reasoning",
      "execution_count": 1,
      "outputs": []
    },
    {
      "cell_type": "markdown",
      "metadata": {
        "id": "contained-waterproof"
      },
      "source": [
        "### Pré-processando os dados"
      ],
      "id": "contained-waterproof"
    },
    {
      "cell_type": "code",
      "metadata": {
        "id": "right-hungarian"
      },
      "source": [
        "# coletando o caminho dos arquivos dos dados do hospital shenzen\n",
        "filelist_shenzen = glob.glob('/content/drive/MyDrive/ChinaSet_AllFiles/ChinaSet_AllFiles/CXR_png/*.png')"
      ],
      "id": "right-hungarian",
      "execution_count": 3,
      "outputs": []
    },
    {
      "cell_type": "code",
      "metadata": {
        "colab": {
          "base_uri": "https://localhost:8080/"
        },
        "id": "vital-cloud",
        "outputId": "b7c584a2-afbc-468a-ebac-4476d4423583"
      },
      "source": [
        "# quantidade de imagens disponíveis no dataset\n",
        "print('quantidade de imagens:', str(len(filelist_shenzen)))"
      ],
      "id": "vital-cloud",
      "execution_count": 4,
      "outputs": [
        {
          "output_type": "stream",
          "text": [
            "quantidade de imagens: 662\n"
          ],
          "name": "stdout"
        }
      ]
    },
    {
      "cell_type": "code",
      "metadata": {
        "id": "authorized-maine"
      },
      "source": [
        "def extract_label(file_list):\n",
        "    \n",
        "    # inicializando uma lista vazia\n",
        "    labels = []\n",
        "    \n",
        "    # iterando na lista de arquivos\n",
        "    for file in tqdm(file_list):\n",
        "        # detectando as classes presentes no nome da imagem\n",
        "        current_label = re.findall('[0-9]{4}_(.+?).png', file)\n",
        "        # adicionando a lista de rótulos as classes correspondentes a cada uma das imagens\n",
        "        if current_label[0] == '0':\n",
        "          labels.append('normal')\n",
        "        else:\n",
        "          labels.append('abnormal')\n",
        "        \n",
        "    return labels"
      ],
      "id": "authorized-maine",
      "execution_count": 5,
      "outputs": []
    },
    {
      "cell_type": "code",
      "metadata": {
        "colab": {
          "base_uri": "https://localhost:8080/"
        },
        "id": "verified-legislation",
        "outputId": "070032e3-ae86-459e-f270-5568ce8f1d8d"
      },
      "source": [
        "# extraindo os rótulos\n",
        "labels = extract_label(filelist_shenzen)"
      ],
      "id": "verified-legislation",
      "execution_count": 6,
      "outputs": [
        {
          "output_type": "stream",
          "text": [
            "100%|██████████| 662/662 [00:00<00:00, 74400.57it/s]\n"
          ],
          "name": "stderr"
        }
      ]
    },
    {
      "cell_type": "code",
      "metadata": {
        "colab": {
          "base_uri": "https://localhost:8080/"
        },
        "id": "pressing-dakota",
        "outputId": "28cb77d6-1a5e-4e0b-eea6-d5d1205f04b2"
      },
      "source": [
        "# visualizando a quantidade de rótulos\n",
        "print('quantidade de rótulos:', str(len(labels)))"
      ],
      "id": "pressing-dakota",
      "execution_count": 7,
      "outputs": [
        {
          "output_type": "stream",
          "text": [
            "quantidade de rótulos: 662\n"
          ],
          "name": "stdout"
        }
      ]
    },
    {
      "cell_type": "code",
      "metadata": {
        "id": "extra-tennessee"
      },
      "source": [
        "# criando um dataframe com os caminhos das imagens\n",
        "full_data = pd.DataFrame(filelist_shenzen, columns = ['filepath'])\n",
        "# adicionando os rótulos em cada imagem\n",
        "full_data['target'] = labels"
      ],
      "id": "extra-tennessee",
      "execution_count": 8,
      "outputs": []
    },
    {
      "cell_type": "code",
      "metadata": {
        "id": "certified-allah"
      },
      "source": [
        "# separando os dados de treinamento e de teste\n",
        "train_df, test_df = train_test_split(full_data, stratify = full_data['target'],\n",
        "                                     test_size = 0.2, random_state = 42)"
      ],
      "id": "certified-allah",
      "execution_count": 9,
      "outputs": []
    },
    {
      "cell_type": "code",
      "metadata": {
        "id": "homeless-treasurer"
      },
      "source": [
        "# separando os dados de validação dos dados de treinamento\n",
        "train_df, validation_df = train_test_split(train_df, stratify = train_df['target'],\n",
        "                                           test_size = 0.2, random_state = 42)"
      ],
      "id": "homeless-treasurer",
      "execution_count": 10,
      "outputs": []
    },
    {
      "cell_type": "code",
      "metadata": {
        "colab": {
          "base_uri": "https://localhost:8080/"
        },
        "id": "british-alloy",
        "outputId": "4459d76d-fc9a-45dd-f058-d0cd03ceabe1"
      },
      "source": [
        "# visualizando a quantidade de dados\n",
        "print('quantidade de imagens de treinamento:', len(train_df['filepath']))\n",
        "print('quantidade de rótulos de treinamento:', len(train_df['target']))\n",
        "print('quantidade de imagens de teste:', len(test_df['filepath']))\n",
        "print('quantidade de rótulos de teste:', len(test_df['target']))\n",
        "print('quantidade de imagens de validação:', len(validation_df['filepath']))\n",
        "print('quantidade de rótulos de validação:', len(validation_df['target']))"
      ],
      "id": "british-alloy",
      "execution_count": 11,
      "outputs": [
        {
          "output_type": "stream",
          "text": [
            "quantidade de imagens de treinamento: 423\n",
            "quantidade de rótulos de treinamento: 423\n",
            "quantidade de imagens de teste: 133\n",
            "quantidade de rótulos de teste: 133\n",
            "quantidade de imagens de validação: 106\n",
            "quantidade de rótulos de validação: 106\n"
          ],
          "name": "stdout"
        }
      ]
    },
    {
      "cell_type": "code",
      "metadata": {
        "id": "SGaf2t1u2JDU",
        "outputId": "bf625369-67a7-4716-fdcf-7bcd8804e866",
        "colab": {
          "base_uri": "https://localhost:8080/"
        }
      },
      "source": [
        "# observando a distribuição na quantidade de dados disponíveis\n",
        "train_df['target'].value_counts()"
      ],
      "id": "SGaf2t1u2JDU",
      "execution_count": 18,
      "outputs": [
        {
          "output_type": "execute_result",
          "data": {
            "text/plain": [
              "abnormal    214\n",
              "normal      209\n",
              "Name: target, dtype: int64"
            ]
          },
          "metadata": {
            "tags": []
          },
          "execution_count": 18
        }
      ]
    },
    {
      "cell_type": "code",
      "metadata": {
        "id": "mPLzedE421--"
      },
      "source": [
        "# fazendo um balanceamento nos pesos das classes\n",
        "class_weight = {0: (214+209)/214, 1: (214+209)/209}"
      ],
      "id": "mPLzedE421--",
      "execution_count": 19,
      "outputs": []
    },
    {
      "cell_type": "markdown",
      "metadata": {
        "id": "other-nightlife"
      },
      "source": [
        "### Aplicando mudança de escala típica"
      ],
      "id": "other-nightlife"
    },
    {
      "cell_type": "code",
      "metadata": {
        "colab": {
          "base_uri": "https://localhost:8080/"
        },
        "id": "altered-insert",
        "outputId": "6f17a621-6659-42ab-8b5d-6e965ece8a0a"
      },
      "source": [
        "# normalizando as imagens de treinamento e aplicando aumento de dados\n",
        "image_generator = ImageDataGenerator(rescale = 1./255., rotation_range = 10, zoom_range = 0.2)\n",
        "\n",
        "# criando o gerador de imagens de treinamento \n",
        "train_generator = image_generator.flow_from_dataframe(\n",
        "                                                      dataframe = train_df,\n",
        "                                                      directory = '',\n",
        "                                                      x_col = 'filepath',\n",
        "                                                      y_col = 'target',\n",
        "                                                      batch_size = 32,\n",
        "                                                      seed = 42,\n",
        "                                                      shuffle = True,\n",
        "                                                      class_mode = 'categorical',\n",
        "                                                      color_mode = 'rgb',\n",
        "                                                      target_size = (256, 256))\n",
        "\n",
        "# normalizando as imagens de teste e validação\n",
        "test_datagen = ImageDataGenerator(rescale = 1./255.)\n",
        "\n",
        "# criando o gerador de imagens de validação \n",
        "valid_generator = test_datagen.flow_from_dataframe(\n",
        "                                                      dataframe = validation_df,\n",
        "                                                      directory = '.', \n",
        "                                                      x_col = 'filepath',\n",
        "                                                      y_col = 'target',\n",
        "                                                      batch_size = 32,\n",
        "                                                      seed = 42,\n",
        "                                                      shuffle = True,\n",
        "                                                      class_mode = 'categorical',\n",
        "                                                      target_size = (256, 256))\n",
        "\n",
        "test_generator = test_datagen.flow_from_dataframe(\n",
        "                                                  dataframe = test_df, \n",
        "                                                  directory = '.',\n",
        "                                                  x_col = 'filepath',\n",
        "                                                  y_col = 'target',\n",
        "                                                  batch_size = 32,\n",
        "                                                  seed = 42,\n",
        "                                                  shuffle = True,\n",
        "                                                  class_mode = 'categorical',\n",
        "                                                  target_size = (256, 256))"
      ],
      "id": "altered-insert",
      "execution_count": 15,
      "outputs": [
        {
          "output_type": "stream",
          "text": [
            "Found 423 validated image filenames belonging to 2 classes.\n",
            "Found 106 validated image filenames belonging to 2 classes.\n",
            "Found 133 validated image filenames belonging to 2 classes.\n"
          ],
          "name": "stdout"
        }
      ]
    },
    {
      "cell_type": "code",
      "metadata": {
        "id": "pPwCrFqU2pgI",
        "outputId": "353c1391-4047-4f80-fe09-3f018034335d",
        "colab": {
          "base_uri": "https://localhost:8080/"
        }
      },
      "source": [
        "# visualizando a ordem dos atributos numéricos das classes\n",
        "train_generator.class_indices"
      ],
      "id": "pPwCrFqU2pgI",
      "execution_count": 16,
      "outputs": [
        {
          "output_type": "execute_result",
          "data": {
            "text/plain": [
              "{'abnormal': 0, 'normal': 1}"
            ]
          },
          "metadata": {
            "tags": []
          },
          "execution_count": 16
        }
      ]
    },
    {
      "cell_type": "markdown",
      "metadata": {
        "id": "primary-appliance"
      },
      "source": [
        "### Preparando a rede neural convolucional"
      ],
      "id": "primary-appliance"
    },
    {
      "cell_type": "code",
      "metadata": {
        "colab": {
          "base_uri": "https://localhost:8080/"
        },
        "id": "occasional-oklahoma",
        "outputId": "31306317-ea12-45f5-8cac-0e372ae0cc35"
      },
      "source": [
        "# baixando os pesos treinados da rede inception\n",
        "!wget --no-check-certificate \\\n",
        "    https://storage.googleapis.com/mledu-datasets/inception_v3_weights_tf_dim_ordering_tf_kernels_notop.h5 \\\n",
        "    -O /tmp/inception_v3_weights_tf_dim_ordering_tf_kernels_notop.h5"
      ],
      "id": "occasional-oklahoma",
      "execution_count": 20,
      "outputs": [
        {
          "output_type": "stream",
          "text": [
            "--2021-04-09 13:39:19--  https://storage.googleapis.com/mledu-datasets/inception_v3_weights_tf_dim_ordering_tf_kernels_notop.h5\n",
            "Resolving storage.googleapis.com (storage.googleapis.com)... 172.217.9.208, 172.217.15.112, 142.250.73.240, ...\n",
            "Connecting to storage.googleapis.com (storage.googleapis.com)|172.217.9.208|:443... connected.\n",
            "HTTP request sent, awaiting response... 200 OK\n",
            "Length: 87910968 (84M) [application/x-hdf]\n",
            "Saving to: ‘/tmp/inception_v3_weights_tf_dim_ordering_tf_kernels_notop.h5’\n",
            "\n",
            "/tmp/inception_v3_w 100%[===================>]  83.84M   140MB/s    in 0.6s    \n",
            "\n",
            "2021-04-09 13:39:20 (140 MB/s) - ‘/tmp/inception_v3_weights_tf_dim_ordering_tf_kernels_notop.h5’ saved [87910968/87910968]\n",
            "\n"
          ],
          "name": "stdout"
        }
      ]
    },
    {
      "cell_type": "code",
      "metadata": {
        "id": "developed-coordinator"
      },
      "source": [
        "# referenciando o local em que os pesos estão armazenados\n",
        "local_weights_file = '/tmp/inception_v3_weights_tf_dim_ordering_tf_kernels_notop.h5'\n",
        "\n",
        "# carregando a arquitetura inception pré-treinada\n",
        "pre_trained_model = InceptionV3(input_shape = (256, 256, 3), include_top = False, weights = None)\n",
        "\n",
        "# carregando os pesos treinados com outros dados \n",
        "pre_trained_model.load_weights(local_weights_file)\n",
        "\n",
        "# obtendo a última camada como sendo a nomeada por 'mixed7'\n",
        "last_layer = pre_trained_model.get_layer('mixed7')\n",
        "last_output = last_layer.output"
      ],
      "id": "developed-coordinator",
      "execution_count": 21,
      "outputs": []
    },
    {
      "cell_type": "code",
      "metadata": {
        "id": "sustainable-devil"
      },
      "source": [
        "x = layers.GlobalAveragePooling2D()(last_output)\n",
        "# adicionando uma camada densa com 512 neurônios\n",
        "x = layers.Dense(units = 512, activation = tf.nn.relu)(x)     \n",
        "# conecatando a rede uma camada com 128 neurônios e função de ativação relu\n",
        "x = layers.Dense(units = 256, activation = tf.nn.relu)(x) \n",
        "# aplicando uma camada de dropout com uma taxa de 20% (normalização)\n",
        "x = layers.Dropout(rate = 0.2)(x)      \n",
        "# adicionando uma camada de saída com um neurônio e uma função de ativação sigmoide\n",
        "x = layers.Dense  (units = 2, activation = tf.nn.softmax)(x)    \n",
        "\n",
        "# conecatando as camadas definidas acima com a arquitetura inception\n",
        "model = Model(pre_trained_model.input, x) \n",
        "\n",
        "# compilando a rede \n",
        "model.compile(optimizer = optimizers.RMSprop(learning_rate = 0.0001), loss = 'categorical_crossentropy', \n",
        "              metrics = ['acc']) "
      ],
      "id": "sustainable-devil",
      "execution_count": null,
      "outputs": []
    },
    {
      "cell_type": "code",
      "metadata": {
        "id": "m9lSaoKd35D6"
      },
      "source": [
        "# definindo as flags iniciais  \n",
        "pre_trained_model.trainable = True\n",
        "set_trainable = False\n",
        "\n",
        "# para a arquitetura inception, a rede será retreinada a partir da camada 'mixed6'\n",
        "for layer in pre_trained_model.layers:\n",
        "    if layer.name == 'mixed6':\n",
        "        set_trainable = True\n",
        "    if set_trainable:\n",
        "        layer.trainable = True\n",
        "    else:\n",
        "        layer.trainable = False"
      ],
      "id": "m9lSaoKd35D6",
      "execution_count": null,
      "outputs": []
    },
    {
      "cell_type": "code",
      "metadata": {
        "id": "weighted-enhancement"
      },
      "source": [
        "# definindo o caminho pelo qual os pesos serão armazenados \n",
        "filepath = \"transferlearning_weights.hdf5\"\n",
        "# callback para salvar o melhor valor dos pesos em relação ao desempenho com os dados de validação \n",
        "checkpoint = ModelCheckpoint(filepath, monitor = 'val_acc', verbose = 1, save_best_only = True, mode = 'max')"
      ],
      "id": "weighted-enhancement",
      "execution_count": null,
      "outputs": []
    },
    {
      "cell_type": "code",
      "metadata": {
        "id": "understood-calgary"
      },
      "source": [
        "# definindo um array de callbacks\n",
        "callbacks = [checkpoint]"
      ],
      "id": "understood-calgary",
      "execution_count": null,
      "outputs": []
    },
    {
      "cell_type": "code",
      "metadata": {
        "colab": {
          "base_uri": "https://localhost:8080/"
        },
        "id": "criminal-terror",
        "outputId": "e07d50f1-66a5-4ac6-948b-98d1bac24b63"
      },
      "source": [
        "# treinando a rede neural convolucional\n",
        "history = model.fit_generator(train_generator, steps_per_epoch = 423  // 32, \n",
        "                              validation_data = valid_generator, validation_steps = 106 // 32,\n",
        "                              callbacks = callbacks, epochs = 100,\n",
        "                              use_multiprocessing = True, workers = 4)"
      ],
      "id": "criminal-terror",
      "execution_count": null,
      "outputs": [
        {
          "output_type": "stream",
          "text": [
            "Epoch 1/100\n",
            "13/13 [==============================] - 370s 28s/step - loss: 1.2329 - acc: 0.5582 - val_loss: 0.5002 - val_acc: 0.7500\n",
            "\n",
            "Epoch 00001: val_acc improved from -inf to 0.75000, saving model to transferlearning_weights.hdf5\n",
            "Epoch 2/100\n",
            "13/13 [==============================] - 84s 7s/step - loss: 0.5805 - acc: 0.7394 - val_loss: 0.4132 - val_acc: 0.8229\n",
            "\n",
            "Epoch 00002: val_acc improved from 0.75000 to 0.82292, saving model to transferlearning_weights.hdf5\n",
            "Epoch 3/100\n",
            "13/13 [==============================] - 75s 6s/step - loss: 0.3808 - acc: 0.8396 - val_loss: 0.5802 - val_acc: 0.7188\n",
            "\n",
            "Epoch 00003: val_acc did not improve from 0.82292\n",
            "Epoch 4/100\n",
            "13/13 [==============================] - 51s 4s/step - loss: 0.4062 - acc: 0.8217 - val_loss: 0.5415 - val_acc: 0.7604\n",
            "\n",
            "Epoch 00004: val_acc did not improve from 0.82292\n",
            "Epoch 5/100\n",
            "13/13 [==============================] - 51s 4s/step - loss: 0.3805 - acc: 0.8219 - val_loss: 0.5090 - val_acc: 0.7917\n",
            "\n",
            "Epoch 00005: val_acc did not improve from 0.82292\n",
            "Epoch 6/100\n",
            "13/13 [==============================] - 51s 4s/step - loss: 0.2679 - acc: 0.9022 - val_loss: 0.4498 - val_acc: 0.8438\n",
            "\n",
            "Epoch 00006: val_acc improved from 0.82292 to 0.84375, saving model to transferlearning_weights.hdf5\n",
            "Epoch 7/100\n",
            "13/13 [==============================] - 53s 4s/step - loss: 0.3828 - acc: 0.8122 - val_loss: 0.4390 - val_acc: 0.8438\n",
            "\n",
            "Epoch 00007: val_acc did not improve from 0.84375\n",
            "Epoch 8/100\n",
            "13/13 [==============================] - 52s 4s/step - loss: 0.2211 - acc: 0.9256 - val_loss: 0.5907 - val_acc: 0.7917\n",
            "\n",
            "Epoch 00008: val_acc did not improve from 0.84375\n",
            "Epoch 9/100\n",
            "13/13 [==============================] - 52s 4s/step - loss: 0.2194 - acc: 0.9042 - val_loss: 0.9643 - val_acc: 0.7500\n",
            "\n",
            "Epoch 00009: val_acc did not improve from 0.84375\n",
            "Epoch 10/100\n",
            "13/13 [==============================] - 53s 4s/step - loss: 0.2540 - acc: 0.8876 - val_loss: 0.6398 - val_acc: 0.7500\n",
            "\n",
            "Epoch 00010: val_acc did not improve from 0.84375\n",
            "Epoch 11/100\n",
            "13/13 [==============================] - 52s 4s/step - loss: 0.1633 - acc: 0.9253 - val_loss: 0.8592 - val_acc: 0.7812\n",
            "\n",
            "Epoch 00011: val_acc did not improve from 0.84375\n",
            "Epoch 12/100\n",
            "13/13 [==============================] - 52s 4s/step - loss: 0.1607 - acc: 0.9416 - val_loss: 0.4801 - val_acc: 0.8646\n",
            "\n",
            "Epoch 00012: val_acc improved from 0.84375 to 0.86458, saving model to transferlearning_weights.hdf5\n",
            "Epoch 13/100\n",
            "13/13 [==============================] - 54s 4s/step - loss: 0.1660 - acc: 0.9301 - val_loss: 0.5999 - val_acc: 0.8438\n",
            "\n",
            "Epoch 00013: val_acc did not improve from 0.86458\n",
            "Epoch 14/100\n",
            "13/13 [==============================] - 52s 4s/step - loss: 0.1721 - acc: 0.9261 - val_loss: 0.8652 - val_acc: 0.7812\n",
            "\n",
            "Epoch 00014: val_acc did not improve from 0.86458\n",
            "Epoch 15/100\n",
            "13/13 [==============================] - 52s 4s/step - loss: 0.1017 - acc: 0.9699 - val_loss: 1.0103 - val_acc: 0.8021\n",
            "\n",
            "Epoch 00015: val_acc did not improve from 0.86458\n",
            "Epoch 16/100\n",
            "13/13 [==============================] - 52s 4s/step - loss: 0.2061 - acc: 0.9159 - val_loss: 0.7724 - val_acc: 0.8229\n",
            "\n",
            "Epoch 00016: val_acc did not improve from 0.86458\n",
            "Epoch 17/100\n",
            "13/13 [==============================] - 52s 4s/step - loss: 0.0781 - acc: 0.9709 - val_loss: 1.4240 - val_acc: 0.7500\n",
            "\n",
            "Epoch 00017: val_acc did not improve from 0.86458\n",
            "Epoch 18/100\n",
            "13/13 [==============================] - 52s 4s/step - loss: 0.0955 - acc: 0.9600 - val_loss: 1.1709 - val_acc: 0.7917\n",
            "\n",
            "Epoch 00018: val_acc did not improve from 0.86458\n",
            "Epoch 19/100\n",
            "13/13 [==============================] - 52s 4s/step - loss: 0.1711 - acc: 0.9338 - val_loss: 0.7889 - val_acc: 0.8438\n",
            "\n",
            "Epoch 00019: val_acc did not improve from 0.86458\n",
            "Epoch 20/100\n",
            "13/13 [==============================] - 52s 4s/step - loss: 0.0481 - acc: 0.9842 - val_loss: 0.5683 - val_acc: 0.8646\n",
            "\n",
            "Epoch 00020: val_acc did not improve from 0.86458\n",
            "Epoch 21/100\n",
            "13/13 [==============================] - 52s 4s/step - loss: 0.0491 - acc: 0.9769 - val_loss: 1.0536 - val_acc: 0.7812\n",
            "\n",
            "Epoch 00021: val_acc did not improve from 0.86458\n",
            "Epoch 22/100\n",
            "13/13 [==============================] - 52s 4s/step - loss: 0.0586 - acc: 0.9756 - val_loss: 1.1505 - val_acc: 0.8229\n",
            "\n",
            "Epoch 00022: val_acc did not improve from 0.86458\n",
            "Epoch 23/100\n",
            "13/13 [==============================] - 52s 4s/step - loss: 0.0282 - acc: 0.9909 - val_loss: 1.0787 - val_acc: 0.8125\n",
            "\n",
            "Epoch 00023: val_acc did not improve from 0.86458\n",
            "Epoch 24/100\n",
            "13/13 [==============================] - 52s 4s/step - loss: 0.1083 - acc: 0.9434 - val_loss: 1.0265 - val_acc: 0.8542\n",
            "\n",
            "Epoch 00024: val_acc did not improve from 0.86458\n",
            "Epoch 25/100\n",
            "13/13 [==============================] - 52s 4s/step - loss: 0.1794 - acc: 0.9489 - val_loss: 0.9222 - val_acc: 0.8542\n",
            "\n",
            "Epoch 00025: val_acc did not improve from 0.86458\n",
            "Epoch 26/100\n",
            "13/13 [==============================] - 52s 4s/step - loss: 0.0190 - acc: 0.9917 - val_loss: 0.8685 - val_acc: 0.8021\n",
            "\n",
            "Epoch 00026: val_acc did not improve from 0.86458\n",
            "Epoch 27/100\n",
            "13/13 [==============================] - 52s 4s/step - loss: 0.0217 - acc: 0.9935 - val_loss: 1.1740 - val_acc: 0.8229\n",
            "\n",
            "Epoch 00027: val_acc did not improve from 0.86458\n",
            "Epoch 28/100\n",
            "13/13 [==============================] - 52s 4s/step - loss: 0.0255 - acc: 0.9919 - val_loss: 1.3007 - val_acc: 0.8229\n",
            "\n",
            "Epoch 00028: val_acc did not improve from 0.86458\n",
            "Epoch 29/100\n",
            "13/13 [==============================] - 52s 4s/step - loss: 0.0365 - acc: 0.9835 - val_loss: 1.0102 - val_acc: 0.8229\n",
            "\n",
            "Epoch 00029: val_acc did not improve from 0.86458\n",
            "Epoch 30/100\n",
            "13/13 [==============================] - 52s 4s/step - loss: 0.0298 - acc: 0.9896 - val_loss: 1.7458 - val_acc: 0.7812\n",
            "\n",
            "Epoch 00030: val_acc did not improve from 0.86458\n",
            "Epoch 31/100\n",
            "13/13 [==============================] - 52s 4s/step - loss: 0.1135 - acc: 0.9586 - val_loss: 0.9354 - val_acc: 0.8854\n",
            "\n",
            "Epoch 00031: val_acc improved from 0.86458 to 0.88542, saving model to transferlearning_weights.hdf5\n",
            "Epoch 32/100\n",
            "13/13 [==============================] - 54s 4s/step - loss: 0.0158 - acc: 0.9912 - val_loss: 1.2061 - val_acc: 0.8438\n",
            "\n",
            "Epoch 00032: val_acc did not improve from 0.88542\n",
            "Epoch 33/100\n",
            "13/13 [==============================] - 52s 4s/step - loss: 0.0182 - acc: 0.9926 - val_loss: 1.8034 - val_acc: 0.8438\n",
            "\n",
            "Epoch 00033: val_acc did not improve from 0.88542\n",
            "Epoch 34/100\n",
            "13/13 [==============================] - 52s 4s/step - loss: 0.1328 - acc: 0.9587 - val_loss: 1.3455 - val_acc: 0.8542\n",
            "\n",
            "Epoch 00034: val_acc did not improve from 0.88542\n",
            "Epoch 35/100\n",
            "13/13 [==============================] - 53s 4s/step - loss: 0.0209 - acc: 0.9924 - val_loss: 1.0512 - val_acc: 0.8333\n",
            "\n",
            "Epoch 00035: val_acc did not improve from 0.88542\n",
            "Epoch 36/100\n",
            "13/13 [==============================] - 52s 4s/step - loss: 0.0298 - acc: 0.9919 - val_loss: 1.5232 - val_acc: 0.8542\n",
            "\n",
            "Epoch 00036: val_acc did not improve from 0.88542\n",
            "Epoch 37/100\n",
            "13/13 [==============================] - 52s 4s/step - loss: 0.0204 - acc: 0.9900 - val_loss: 1.5928 - val_acc: 0.8333\n",
            "\n",
            "Epoch 00037: val_acc did not improve from 0.88542\n",
            "Epoch 38/100\n",
            "13/13 [==============================] - 52s 4s/step - loss: 0.0028 - acc: 0.9996 - val_loss: 1.3895 - val_acc: 0.7812\n",
            "\n",
            "Epoch 00038: val_acc did not improve from 0.88542\n",
            "Epoch 39/100\n",
            "13/13 [==============================] - 52s 4s/step - loss: 0.0660 - acc: 0.9710 - val_loss: 2.2128 - val_acc: 0.7917\n",
            "\n",
            "Epoch 00039: val_acc did not improve from 0.88542\n",
            "Epoch 40/100\n",
            "13/13 [==============================] - 53s 4s/step - loss: 0.0330 - acc: 0.9916 - val_loss: 1.8198 - val_acc: 0.8229\n",
            "\n",
            "Epoch 00040: val_acc did not improve from 0.88542\n",
            "Epoch 41/100\n",
            "13/13 [==============================] - 52s 4s/step - loss: 0.0037 - acc: 0.9994 - val_loss: 2.0592 - val_acc: 0.7917\n",
            "\n",
            "Epoch 00041: val_acc did not improve from 0.88542\n",
            "Epoch 42/100\n",
            "13/13 [==============================] - 51s 4s/step - loss: 0.0181 - acc: 0.9897 - val_loss: 2.4987 - val_acc: 0.8021\n",
            "\n",
            "Epoch 00042: val_acc did not improve from 0.88542\n",
            "Epoch 43/100\n",
            "13/13 [==============================] - 52s 4s/step - loss: 0.0317 - acc: 0.9894 - val_loss: 1.6325 - val_acc: 0.8438\n",
            "\n",
            "Epoch 00043: val_acc did not improve from 0.88542\n",
            "Epoch 44/100\n",
            "13/13 [==============================] - 51s 4s/step - loss: 0.0421 - acc: 0.9870 - val_loss: 1.9941 - val_acc: 0.8438\n",
            "\n",
            "Epoch 00044: val_acc did not improve from 0.88542\n",
            "Epoch 45/100\n",
            "13/13 [==============================] - 51s 4s/step - loss: 0.0130 - acc: 0.9927 - val_loss: 1.7691 - val_acc: 0.8542\n",
            "\n",
            "Epoch 00045: val_acc did not improve from 0.88542\n",
            "Epoch 46/100\n",
            "13/13 [==============================] - 52s 4s/step - loss: 0.0060 - acc: 0.9962 - val_loss: 2.0318 - val_acc: 0.8333\n",
            "\n",
            "Epoch 00046: val_acc did not improve from 0.88542\n",
            "Epoch 47/100\n",
            "13/13 [==============================] - 51s 4s/step - loss: 0.0017 - acc: 1.0000 - val_loss: 1.9507 - val_acc: 0.8229\n",
            "\n",
            "Epoch 00047: val_acc did not improve from 0.88542\n",
            "Epoch 48/100\n",
            "13/13 [==============================] - 51s 4s/step - loss: 0.0142 - acc: 0.9980 - val_loss: 2.6695 - val_acc: 0.8021\n",
            "\n",
            "Epoch 00048: val_acc did not improve from 0.88542\n",
            "Epoch 49/100\n",
            "13/13 [==============================] - 51s 4s/step - loss: 0.0293 - acc: 0.9882 - val_loss: 1.8716 - val_acc: 0.8021\n",
            "\n",
            "Epoch 00049: val_acc did not improve from 0.88542\n",
            "Epoch 50/100\n",
            "13/13 [==============================] - 51s 4s/step - loss: 0.0431 - acc: 0.9860 - val_loss: 2.1361 - val_acc: 0.8333\n",
            "\n",
            "Epoch 00050: val_acc did not improve from 0.88542\n",
            "Epoch 51/100\n",
            "13/13 [==============================] - 51s 4s/step - loss: 0.0047 - acc: 0.9984 - val_loss: 2.4245 - val_acc: 0.8646\n",
            "\n",
            "Epoch 00051: val_acc did not improve from 0.88542\n",
            "Epoch 52/100\n",
            "13/13 [==============================] - 51s 4s/step - loss: 0.0067 - acc: 0.9996 - val_loss: 2.0585 - val_acc: 0.8125\n",
            "\n",
            "Epoch 00052: val_acc did not improve from 0.88542\n",
            "Epoch 53/100\n",
            "13/13 [==============================] - 52s 4s/step - loss: 0.1465 - acc: 0.9804 - val_loss: 2.3756 - val_acc: 0.8125\n",
            "\n",
            "Epoch 00053: val_acc did not improve from 0.88542\n",
            "Epoch 54/100\n",
            "13/13 [==============================] - 51s 4s/step - loss: 0.0391 - acc: 0.9932 - val_loss: 2.0817 - val_acc: 0.8333\n",
            "\n",
            "Epoch 00054: val_acc did not improve from 0.88542\n",
            "Epoch 55/100\n",
            "13/13 [==============================] - 51s 4s/step - loss: 0.0030 - acc: 0.9987 - val_loss: 2.2014 - val_acc: 0.8438\n",
            "\n",
            "Epoch 00055: val_acc did not improve from 0.88542\n",
            "Epoch 56/100\n",
            "13/13 [==============================] - 52s 4s/step - loss: 0.0049 - acc: 1.0000 - val_loss: 2.3807 - val_acc: 0.8438\n",
            "\n",
            "Epoch 00056: val_acc did not improve from 0.88542\n",
            "Epoch 57/100\n",
            "13/13 [==============================] - 51s 4s/step - loss: 0.0018 - acc: 1.0000 - val_loss: 2.4453 - val_acc: 0.8438\n",
            "\n",
            "Epoch 00057: val_acc did not improve from 0.88542\n",
            "Epoch 58/100\n",
            "13/13 [==============================] - 51s 4s/step - loss: 0.0016 - acc: 1.0000 - val_loss: 2.2687 - val_acc: 0.8333\n",
            "\n",
            "Epoch 00058: val_acc did not improve from 0.88542\n",
            "Epoch 59/100\n",
            "13/13 [==============================] - 51s 4s/step - loss: 0.0200 - acc: 0.9920 - val_loss: 2.6419 - val_acc: 0.8646\n",
            "\n",
            "Epoch 00059: val_acc did not improve from 0.88542\n",
            "Epoch 60/100\n",
            "13/13 [==============================] - 51s 4s/step - loss: 0.0017 - acc: 1.0000 - val_loss: 3.6172 - val_acc: 0.7604\n",
            "\n",
            "Epoch 00060: val_acc did not improve from 0.88542\n",
            "Epoch 61/100\n",
            "13/13 [==============================] - 51s 4s/step - loss: 0.0073 - acc: 0.9976 - val_loss: 4.9928 - val_acc: 0.7083\n",
            "\n",
            "Epoch 00061: val_acc did not improve from 0.88542\n",
            "Epoch 62/100\n",
            "13/13 [==============================] - 51s 4s/step - loss: 0.2136 - acc: 0.9499 - val_loss: 2.5711 - val_acc: 0.8542\n",
            "\n",
            "Epoch 00062: val_acc did not improve from 0.88542\n",
            "Epoch 63/100\n",
            "13/13 [==============================] - 51s 4s/step - loss: 0.0033 - acc: 0.9971 - val_loss: 2.3077 - val_acc: 0.8229\n",
            "\n",
            "Epoch 00063: val_acc did not improve from 0.88542\n",
            "Epoch 64/100\n",
            "13/13 [==============================] - 51s 4s/step - loss: 0.0025 - acc: 0.9985 - val_loss: 1.8913 - val_acc: 0.8229\n",
            "\n",
            "Epoch 00064: val_acc did not improve from 0.88542\n",
            "Epoch 65/100\n",
            "13/13 [==============================] - 51s 4s/step - loss: 0.0025 - acc: 0.9994 - val_loss: 1.9159 - val_acc: 0.8854\n",
            "\n",
            "Epoch 00065: val_acc did not improve from 0.88542\n",
            "Epoch 66/100\n",
            "13/13 [==============================] - 51s 4s/step - loss: 0.0837 - acc: 0.9877 - val_loss: 3.0080 - val_acc: 0.7604\n",
            "\n",
            "Epoch 00066: val_acc did not improve from 0.88542\n",
            "Epoch 67/100\n",
            "13/13 [==============================] - 51s 4s/step - loss: 0.0155 - acc: 0.9953 - val_loss: 2.6530 - val_acc: 0.7708\n",
            "\n",
            "Epoch 00067: val_acc did not improve from 0.88542\n",
            "Epoch 68/100\n",
            "13/13 [==============================] - 52s 4s/step - loss: 0.0171 - acc: 0.9921 - val_loss: 2.9756 - val_acc: 0.7917\n",
            "\n",
            "Epoch 00068: val_acc did not improve from 0.88542\n",
            "Epoch 69/100\n",
            "13/13 [==============================] - 51s 4s/step - loss: 5.6958e-04 - acc: 1.0000 - val_loss: 1.8089 - val_acc: 0.8333\n",
            "\n",
            "Epoch 00069: val_acc did not improve from 0.88542\n",
            "Epoch 70/100\n",
            "13/13 [==============================] - 51s 4s/step - loss: 0.0113 - acc: 0.9956 - val_loss: 2.3399 - val_acc: 0.8333\n",
            "\n",
            "Epoch 00070: val_acc did not improve from 0.88542\n",
            "Epoch 71/100\n",
            "13/13 [==============================] - 52s 4s/step - loss: 0.0261 - acc: 0.9937 - val_loss: 2.5112 - val_acc: 0.8333\n",
            "\n",
            "Epoch 00071: val_acc did not improve from 0.88542\n",
            "Epoch 72/100\n",
            "13/13 [==============================] - 52s 4s/step - loss: 0.0140 - acc: 0.9922 - val_loss: 2.3327 - val_acc: 0.8333\n",
            "\n",
            "Epoch 00072: val_acc did not improve from 0.88542\n",
            "Epoch 73/100\n",
            "13/13 [==============================] - 51s 4s/step - loss: 0.0075 - acc: 0.9954 - val_loss: 2.2007 - val_acc: 0.8438\n",
            "\n",
            "Epoch 00073: val_acc did not improve from 0.88542\n",
            "Epoch 74/100\n",
            "13/13 [==============================] - 51s 4s/step - loss: 0.0015 - acc: 0.9996 - val_loss: 2.1777 - val_acc: 0.8125\n",
            "\n",
            "Epoch 00074: val_acc did not improve from 0.88542\n",
            "Epoch 75/100\n",
            "13/13 [==============================] - 51s 4s/step - loss: 0.3845 - acc: 0.9513 - val_loss: 1.3299 - val_acc: 0.8646\n",
            "\n",
            "Epoch 00075: val_acc did not improve from 0.88542\n",
            "Epoch 76/100\n",
            "13/13 [==============================] - 51s 4s/step - loss: 0.0035 - acc: 0.9990 - val_loss: 1.7009 - val_acc: 0.8750\n",
            "\n",
            "Epoch 00076: val_acc did not improve from 0.88542\n",
            "Epoch 77/100\n",
            "13/13 [==============================] - 52s 4s/step - loss: 0.0023 - acc: 1.0000 - val_loss: 1.6268 - val_acc: 0.8229\n",
            "\n",
            "Epoch 00077: val_acc did not improve from 0.88542\n",
            "Epoch 78/100\n",
            "13/13 [==============================] - 52s 4s/step - loss: 0.0154 - acc: 0.9937 - val_loss: 1.8183 - val_acc: 0.8125\n",
            "\n",
            "Epoch 00078: val_acc did not improve from 0.88542\n",
            "Epoch 79/100\n",
            "13/13 [==============================] - 52s 4s/step - loss: 0.0549 - acc: 0.9836 - val_loss: 1.8630 - val_acc: 0.8125\n",
            "\n",
            "Epoch 00079: val_acc did not improve from 0.88542\n",
            "Epoch 80/100\n",
            "13/13 [==============================] - 52s 4s/step - loss: 3.7209e-04 - acc: 1.0000 - val_loss: 1.8372 - val_acc: 0.8021\n",
            "\n",
            "Epoch 00080: val_acc did not improve from 0.88542\n",
            "Epoch 81/100\n",
            "13/13 [==============================] - 51s 4s/step - loss: 0.0169 - acc: 0.9900 - val_loss: 1.5235 - val_acc: 0.8438\n",
            "\n",
            "Epoch 00081: val_acc did not improve from 0.88542\n",
            "Epoch 82/100\n",
            "13/13 [==============================] - 52s 4s/step - loss: 0.0029 - acc: 0.9973 - val_loss: 2.1040 - val_acc: 0.8125\n",
            "\n",
            "Epoch 00082: val_acc did not improve from 0.88542\n",
            "Epoch 83/100\n",
            "13/13 [==============================] - 52s 4s/step - loss: 0.0398 - acc: 0.9854 - val_loss: 1.6103 - val_acc: 0.8646\n",
            "\n",
            "Epoch 00083: val_acc did not improve from 0.88542\n",
            "Epoch 84/100\n",
            "13/13 [==============================] - 52s 4s/step - loss: 7.5666e-04 - acc: 1.0000 - val_loss: 2.1156 - val_acc: 0.7812\n",
            "\n",
            "Epoch 00084: val_acc did not improve from 0.88542\n",
            "Epoch 85/100\n",
            "13/13 [==============================] - 52s 4s/step - loss: 0.0100 - acc: 0.9991 - val_loss: 1.8939 - val_acc: 0.8542\n",
            "\n",
            "Epoch 00085: val_acc did not improve from 0.88542\n",
            "Epoch 86/100\n",
            "13/13 [==============================] - 52s 4s/step - loss: 0.0128 - acc: 0.9945 - val_loss: 1.5450 - val_acc: 0.8646\n",
            "\n",
            "Epoch 00086: val_acc did not improve from 0.88542\n",
            "Epoch 87/100\n",
            "13/13 [==============================] - 52s 4s/step - loss: 0.0032 - acc: 0.9980 - val_loss: 2.3534 - val_acc: 0.8229\n",
            "\n",
            "Epoch 00087: val_acc did not improve from 0.88542\n",
            "Epoch 88/100\n",
            "13/13 [==============================] - 51s 4s/step - loss: 0.0066 - acc: 0.9966 - val_loss: 2.2382 - val_acc: 0.8646\n",
            "\n",
            "Epoch 00088: val_acc did not improve from 0.88542\n",
            "Epoch 89/100\n",
            "13/13 [==============================] - 52s 4s/step - loss: 0.0051 - acc: 0.9967 - val_loss: 1.8148 - val_acc: 0.8438\n",
            "\n",
            "Epoch 00089: val_acc did not improve from 0.88542\n",
            "Epoch 90/100\n",
            "13/13 [==============================] - 52s 4s/step - loss: 0.0044 - acc: 0.9978 - val_loss: 2.1184 - val_acc: 0.8646\n",
            "\n",
            "Epoch 00090: val_acc did not improve from 0.88542\n",
            "Epoch 91/100\n",
            "13/13 [==============================] - 51s 4s/step - loss: 2.4326e-04 - acc: 1.0000 - val_loss: 2.2491 - val_acc: 0.8750\n",
            "\n",
            "Epoch 00091: val_acc did not improve from 0.88542\n",
            "Epoch 92/100\n",
            "13/13 [==============================] - 52s 4s/step - loss: 7.3541e-05 - acc: 1.0000 - val_loss: 2.1337 - val_acc: 0.8229\n",
            "\n",
            "Epoch 00092: val_acc did not improve from 0.88542\n",
            "Epoch 93/100\n",
            "13/13 [==============================] - 52s 4s/step - loss: 2.7192e-05 - acc: 1.0000 - val_loss: 2.7751 - val_acc: 0.7812\n",
            "\n",
            "Epoch 00093: val_acc did not improve from 0.88542\n",
            "Epoch 94/100\n",
            "13/13 [==============================] - 52s 4s/step - loss: 1.3042e-04 - acc: 1.0000 - val_loss: 2.1295 - val_acc: 0.8750\n",
            "\n",
            "Epoch 00094: val_acc did not improve from 0.88542\n",
            "Epoch 95/100\n",
            "13/13 [==============================] - 52s 4s/step - loss: 0.0019 - acc: 0.9992 - val_loss: 1.4083 - val_acc: 0.8646\n",
            "\n",
            "Epoch 00095: val_acc did not improve from 0.88542\n",
            "Epoch 96/100\n",
            "13/13 [==============================] - 52s 4s/step - loss: 0.0133 - acc: 0.9937 - val_loss: 1.2599 - val_acc: 0.9062\n",
            "\n",
            "Epoch 00096: val_acc improved from 0.88542 to 0.90625, saving model to transferlearning_weights.hdf5\n",
            "Epoch 97/100\n",
            "13/13 [==============================] - 53s 4s/step - loss: 0.0554 - acc: 0.9919 - val_loss: 2.3687 - val_acc: 0.8333\n",
            "\n",
            "Epoch 00097: val_acc did not improve from 0.90625\n",
            "Epoch 98/100\n",
            "13/13 [==============================] - 52s 4s/step - loss: 0.1065 - acc: 0.9814 - val_loss: 1.9295 - val_acc: 0.8854\n",
            "\n",
            "Epoch 00098: val_acc did not improve from 0.90625\n",
            "Epoch 99/100\n",
            "13/13 [==============================] - 52s 4s/step - loss: 5.8127e-04 - acc: 1.0000 - val_loss: 1.3361 - val_acc: 0.8854\n",
            "\n",
            "Epoch 00099: val_acc did not improve from 0.90625\n",
            "Epoch 100/100\n",
            "13/13 [==============================] - 52s 4s/step - loss: 4.6370e-05 - acc: 1.0000 - val_loss: 1.9915 - val_acc: 0.8333\n",
            "\n",
            "Epoch 00100: val_acc did not improve from 0.90625\n"
          ],
          "name": "stdout"
        }
      ]
    },
    {
      "cell_type": "markdown",
      "metadata": {
        "id": "K7UihpZrmMei"
      },
      "source": [
        "### Salvando o modelo desenvolvido"
      ],
      "id": "K7UihpZrmMei"
    },
    {
      "cell_type": "code",
      "metadata": {
        "id": "TjU2eNSSCHzi"
      },
      "source": [
        "# carregando o melhor peso obtido para o modelo\n",
        "best_model = model\n",
        "best_model.load_weights('/content/transferlearning_weights.hdf5')"
      ],
      "id": "TjU2eNSSCHzi",
      "execution_count": null,
      "outputs": []
    },
    {
      "cell_type": "code",
      "metadata": {
        "id": "TmdCYuWKFn-K",
        "colab": {
          "base_uri": "https://localhost:8080/"
        },
        "outputId": "5d0f0e10-200d-4be9-b0e0-6dd7cdd82ba3"
      },
      "source": [
        "# salvando os dois modelos obtidos durante o treinamento\n",
        "model.save('model1')\n",
        "best_model.save('model2')"
      ],
      "id": "TmdCYuWKFn-K",
      "execution_count": null,
      "outputs": [
        {
          "output_type": "stream",
          "text": [
            "INFO:tensorflow:Assets written to: model1/assets\n",
            "INFO:tensorflow:Assets written to: model2/assets\n"
          ],
          "name": "stdout"
        }
      ]
    },
    {
      "cell_type": "code",
      "metadata": {
        "id": "PP8xIGj9mkfD"
      },
      "source": [
        "# carregando o melhor modelo para realização de testes de desempenho\n",
        "model = tf.keras.models.load_model('/content/drive/MyDrive/experimentos/experimento1-dataset2-parte1/model2')"
      ],
      "id": "PP8xIGj9mkfD",
      "execution_count": null,
      "outputs": []
    },
    {
      "cell_type": "markdown",
      "metadata": {
        "id": "JkT0D075nmvx"
      },
      "source": [
        "### Métricas de avaliação do modelo"
      ],
      "id": "JkT0D075nmvx"
    },
    {
      "cell_type": "code",
      "metadata": {
        "id": "49BGsMpFnlov"
      },
      "source": [
        "# carregando os dados de teste \n",
        "(x1, y1) = test_generator[0]\n",
        "(x2, y2) = test_generator[1]\n",
        "(x3, y3) = test_generator[2]\n",
        "(x4, y4) = test_generator[3]\n",
        "(x5, y5) = test_generator[4]\n",
        "\n",
        "x = np.concatenate((x1, x2, x3, x4, x5))\n",
        "y = np.concatenate((y1, y2, y3, y4, y5))"
      ],
      "id": "49BGsMpFnlov",
      "execution_count": null,
      "outputs": []
    },
    {
      "cell_type": "code",
      "metadata": {
        "id": "xXyQHez_oEgP"
      },
      "source": [
        "# realizando a predição para os dados de teste\n",
        "predict = model.predict(x)"
      ],
      "id": "xXyQHez_oEgP",
      "execution_count": null,
      "outputs": []
    },
    {
      "cell_type": "code",
      "metadata": {
        "id": "0FLODcQDoF0d"
      },
      "source": [
        "from sklearn.metrics import precision_score, recall_score, accuracy_score, f1_score, confusion_matrix\n",
        "\n",
        "def thresholds(limiar, predict):\n",
        "  '''predição para diferentes thresholds'''\n",
        "\n",
        "  predict_ = []\n",
        "  for i in predict:\n",
        "    if i > limiar:\n",
        "      predict_.append(1)\n",
        "    else:\n",
        "      predict_.append(0)\n",
        "  \n",
        "  return predict_\n",
        "\n",
        "def precision_recall_accuracy_curve(predict, y):\n",
        "  ''' Relaciona a curva da Precisão, Sensibilidade e Acurácia em relação a diferentes Thresholds'''\n",
        "\n",
        "  limiares = np.arange(0, 1, 0.05)\n",
        "  predicts = []\n",
        "  precisions = []\n",
        "  recalls = []\n",
        "  accuracy = []\n",
        "  flag = 0\n",
        "  for i in limiares:\n",
        "    predicts.append(thresholds(i, predict))\n",
        "    precisions.append(precision_score(predicts[flag], y))\n",
        "    recalls.append(recall_score(predicts[flag], y))\n",
        "    accuracy.append(accuracy_score(predicts[flag], y))\n",
        "    flag += 1\n",
        "  \n",
        "  return precisions, recalls, accuracy\n",
        "\n",
        "def plot_precision_recall_accuracy_curve(precisions, recalls, accuracy):\n",
        "  '''Plotando a curva de Precisão, Sensibilidade e Acurácia'''\n",
        "\n",
        "  plt.figure(figsize = (10,5))\n",
        "  plt.plot(np.arange(0, 1, 0.05), precisions, label = 'Precision')\n",
        "  plt.plot(np.arange(0, 1, 0.05), recalls, label = 'Recall')\n",
        "  plt.plot(np.arange(0, 1, 0.05), accuracy, label = 'Accuracy')\n",
        "  plt.title('Precisão, Sensibilidade e Acurácia para diferentes Thresholds')\n",
        "  plt.xlabel('Thresholds')\n",
        "  plt.legend()\n",
        "  plt.savefig('curve-analysis')\n",
        "\n",
        "  return None\n",
        "\n",
        "def best_metrics(threshold, predict, y):\n",
        "  '''Melhores valores para o threshold escolhido'''\n",
        "\n",
        "  predict_ = thresholds(threshold, predict)\n",
        "  print('Matriz de Confusão:\\n', confusion_matrix(predict_, y))\n",
        "  print('Acurácia:', accuracy_score(predict_, y))\n",
        "  print('Precisão', precision_score(predict_, y))\n",
        "  print('Sensibilidade:', recall_score(predict_, y)) \n",
        "  print('F1_Score:', f1_score(predict_, y))\n",
        "\n",
        "  return None"
      ],
      "id": "0FLODcQDoF0d",
      "execution_count": null,
      "outputs": []
    },
    {
      "cell_type": "code",
      "metadata": {
        "id": "mVHQeH0IoI-9",
        "colab": {
          "base_uri": "https://localhost:8080/",
          "height": 350
        },
        "outputId": "22ae00a7-51a6-4747-a0ae-78cfa22813ab"
      },
      "source": [
        "# plotando a curva da Precisão, Sensibilidade e Acurácia \n",
        "precisions, recalls, accuracy = precision_recall_accuracy_curve(predict, y)\n",
        "plot_precision_recall_accuracy_curve(precisions, recalls, accuracy)"
      ],
      "id": "mVHQeH0IoI-9",
      "execution_count": null,
      "outputs": [
        {
          "output_type": "display_data",
          "data": {
            "image/png": "[encoded data removed]",
            "text/plain": [
              "<Figure size 720x360 with 1 Axes>"
            ]
          },
          "metadata": {
            "tags": [],
            "needs_background": "light"
          }
        }
      ]
    },
    {
      "cell_type": "code",
      "metadata": {
        "id": "tUU9dEVZohtl",
        "colab": {
          "base_uri": "https://localhost:8080/"
        },
        "outputId": "72c8ce76-7fd7-417f-c502-d57699f1478b"
      },
      "source": [
        "# analisando as melhores métricas encontradas para o modelo\n",
        "best_metrics(threshold = 0.40, predict = predict, y = y)"
      ],
      "id": "tUU9dEVZohtl",
      "execution_count": null,
      "outputs": [
        {
          "output_type": "stream",
          "text": [
            "Matriz de Confusão:\n",
            " [[57  9]\n",
            " [ 8 59]]\n",
            "Acurácia: 0.8721804511278195\n",
            "Precisão 0.8676470588235294\n",
            "Sensibilidade: 0.8805970149253731\n",
            "F1_Score: 0.874074074074074\n"
          ],
          "name": "stdout"
        }
      ]
    },
    {
      "cell_type": "code",
      "metadata": {
        "id": "UtwBFntlFqWo",
        "colab": {
          "base_uri": "https://localhost:8080/",
          "height": 590
        },
        "outputId": "e787f85e-5e45-4791-b265-f4c2498b6175"
      },
      "source": [
        "plt.plot(history.history['acc'])\n",
        "plt.plot(history.history['val_acc'])\n",
        "plt.title('model accuracy')\n",
        "plt.ylabel('accuracy')\n",
        "plt.xlabel('epoch')\n",
        "plt.legend(['train', 'test'], loc='upper left')\n",
        "plt.show()\n",
        "plt.savefig('model-accuracy')\n",
        "# summarize history for loss\n",
        "plt.plot(history.history['loss'])\n",
        "plt.plot(history.history['val_loss'])\n",
        "plt.title('model loss')\n",
        "plt.ylabel('loss')\n",
        "plt.xlabel('epoch')\n",
        "plt.legend(['train', 'test'], loc='upper left')\n",
        "plt.show()\n",
        "plt.savefig('model-loss')"
      ],
      "id": "UtwBFntlFqWo",
      "execution_count": null,
      "outputs": [
        {
          "output_type": "display_data",
          "data": {
            "image/png": "[encoded data removed]",
            "text/plain": [
              "<Figure size 432x288 with 1 Axes>"
            ]
          },
          "metadata": {
            "tags": [],
            "needs_background": "light"
          }
        },
        {
          "output_type": "display_data",
          "data": {
            "image/png": "[encoded data removed]",
            "text/plain": [
              "<Figure size 432x288 with 1 Axes>"
            ]
          },
          "metadata": {
            "tags": [],
            "needs_background": "light"
          }
        },
        {
          "output_type": "display_data",
          "data": {
            "text/plain": [
              "<Figure size 432x288 with 0 Axes>"
            ]
          },
          "metadata": {
            "tags": []
          }
        }
      ]
    },
    {
      "cell_type": "code",
      "metadata": {
        "id": "IN-f8pSmpdj3",
        "colab": {
          "base_uri": "https://localhost:8080/"
        },
        "outputId": "44a2fb0c-b9d1-421a-b627-529c270b31bc"
      },
      "source": [
        "# visualizando arquitetura do modelo\n",
        "model.summary()"
      ],
      "id": "IN-f8pSmpdj3",
      "execution_count": null,
      "outputs": [
        {
          "output_type": "stream",
          "text": [
            "Model: \"model_2\"\n",
            "__________________________________________________________________________________________________\n",
            "Layer (type)                    Output Shape         Param #     Connected to                     \n",
            "==================================================================================================\n",
            "input_3 (InputLayer)            [(None, 256, 256, 3) 0                                            \n",
            "__________________________________________________________________________________________________\n",
            "conv2d_188 (Conv2D)             (None, 127, 127, 32) 864         input_3[0][0]                    \n",
            "__________________________________________________________________________________________________\n",
            "batch_normalization_188 (BatchN (None, 127, 127, 32) 96          conv2d_188[0][0]                 \n",
            "__________________________________________________________________________________________________\n",
            "activation_188 (Activation)     (None, 127, 127, 32) 0           batch_normalization_188[0][0]    \n",
            "__________________________________________________________________________________________________\n",
            "conv2d_189 (Conv2D)             (None, 125, 125, 32) 9216        activation_188[0][0]             \n",
            "__________________________________________________________________________________________________\n",
            "batch_normalization_189 (BatchN (None, 125, 125, 32) 96          conv2d_189[0][0]                 \n",
            "__________________________________________________________________________________________________\n",
            "activation_189 (Activation)     (None, 125, 125, 32) 0           batch_normalization_189[0][0]    \n",
            "__________________________________________________________________________________________________\n",
            "conv2d_190 (Conv2D)             (None, 125, 125, 64) 18432       activation_189[0][0]             \n",
            "__________________________________________________________________________________________________\n",
            "batch_normalization_190 (BatchN (None, 125, 125, 64) 192         conv2d_190[0][0]                 \n",
            "__________________________________________________________________________________________________\n",
            "activation_190 (Activation)     (None, 125, 125, 64) 0           batch_normalization_190[0][0]    \n",
            "__________________________________________________________________________________________________\n",
            "max_pooling2d_8 (MaxPooling2D)  (None, 62, 62, 64)   0           activation_190[0][0]             \n",
            "__________________________________________________________________________________________________\n",
            "conv2d_191 (Conv2D)             (None, 62, 62, 80)   5120        max_pooling2d_8[0][0]            \n",
            "__________________________________________________________________________________________________\n",
            "batch_normalization_191 (BatchN (None, 62, 62, 80)   240         conv2d_191[0][0]                 \n",
            "__________________________________________________________________________________________________\n",
            "activation_191 (Activation)     (None, 62, 62, 80)   0           batch_normalization_191[0][0]    \n",
            "__________________________________________________________________________________________________\n",
            "conv2d_192 (Conv2D)             (None, 60, 60, 192)  138240      activation_191[0][0]             \n",
            "__________________________________________________________________________________________________\n",
            "batch_normalization_192 (BatchN (None, 60, 60, 192)  576         conv2d_192[0][0]                 \n",
            "__________________________________________________________________________________________________\n",
            "activation_192 (Activation)     (None, 60, 60, 192)  0           batch_normalization_192[0][0]    \n",
            "__________________________________________________________________________________________________\n",
            "max_pooling2d_9 (MaxPooling2D)  (None, 29, 29, 192)  0           activation_192[0][0]             \n",
            "__________________________________________________________________________________________________\n",
            "conv2d_196 (Conv2D)             (None, 29, 29, 64)   12288       max_pooling2d_9[0][0]            \n",
            "__________________________________________________________________________________________________\n",
            "batch_normalization_196 (BatchN (None, 29, 29, 64)   192         conv2d_196[0][0]                 \n",
            "__________________________________________________________________________________________________\n",
            "activation_196 (Activation)     (None, 29, 29, 64)   0           batch_normalization_196[0][0]    \n",
            "__________________________________________________________________________________________________\n",
            "conv2d_194 (Conv2D)             (None, 29, 29, 48)   9216        max_pooling2d_9[0][0]            \n",
            "__________________________________________________________________________________________________\n",
            "conv2d_197 (Conv2D)             (None, 29, 29, 96)   55296       activation_196[0][0]             \n",
            "__________________________________________________________________________________________________\n",
            "batch_normalization_194 (BatchN (None, 29, 29, 48)   144         conv2d_194[0][0]                 \n",
            "__________________________________________________________________________________________________\n",
            "batch_normalization_197 (BatchN (None, 29, 29, 96)   288         conv2d_197[0][0]                 \n",
            "__________________________________________________________________________________________________\n",
            "activation_194 (Activation)     (None, 29, 29, 48)   0           batch_normalization_194[0][0]    \n",
            "__________________________________________________________________________________________________\n",
            "activation_197 (Activation)     (None, 29, 29, 96)   0           batch_normalization_197[0][0]    \n",
            "__________________________________________________________________________________________________\n",
            "average_pooling2d_18 (AveragePo (None, 29, 29, 192)  0           max_pooling2d_9[0][0]            \n",
            "__________________________________________________________________________________________________\n",
            "conv2d_193 (Conv2D)             (None, 29, 29, 64)   12288       max_pooling2d_9[0][0]            \n",
            "__________________________________________________________________________________________________\n",
            "conv2d_195 (Conv2D)             (None, 29, 29, 64)   76800       activation_194[0][0]             \n",
            "__________________________________________________________________________________________________\n",
            "conv2d_198 (Conv2D)             (None, 29, 29, 96)   82944       activation_197[0][0]             \n",
            "__________________________________________________________________________________________________\n",
            "conv2d_199 (Conv2D)             (None, 29, 29, 32)   6144        average_pooling2d_18[0][0]       \n",
            "__________________________________________________________________________________________________\n",
            "batch_normalization_193 (BatchN (None, 29, 29, 64)   192         conv2d_193[0][0]                 \n",
            "__________________________________________________________________________________________________\n",
            "batch_normalization_195 (BatchN (None, 29, 29, 64)   192         conv2d_195[0][0]                 \n",
            "__________________________________________________________________________________________________\n",
            "batch_normalization_198 (BatchN (None, 29, 29, 96)   288         conv2d_198[0][0]                 \n",
            "__________________________________________________________________________________________________\n",
            "batch_normalization_199 (BatchN (None, 29, 29, 32)   96          conv2d_199[0][0]                 \n",
            "__________________________________________________________________________________________________\n",
            "activation_193 (Activation)     (None, 29, 29, 64)   0           batch_normalization_193[0][0]    \n",
            "__________________________________________________________________________________________________\n",
            "activation_195 (Activation)     (None, 29, 29, 64)   0           batch_normalization_195[0][0]    \n",
            "__________________________________________________________________________________________________\n",
            "activation_198 (Activation)     (None, 29, 29, 96)   0           batch_normalization_198[0][0]    \n",
            "__________________________________________________________________________________________________\n",
            "activation_199 (Activation)     (None, 29, 29, 32)   0           batch_normalization_199[0][0]    \n",
            "__________________________________________________________________________________________________\n",
            "mixed0 (Concatenate)            (None, 29, 29, 256)  0           activation_193[0][0]             \n",
            "                                                                 activation_195[0][0]             \n",
            "                                                                 activation_198[0][0]             \n",
            "                                                                 activation_199[0][0]             \n",
            "__________________________________________________________________________________________________\n",
            "conv2d_203 (Conv2D)             (None, 29, 29, 64)   16384       mixed0[0][0]                     \n",
            "__________________________________________________________________________________________________\n",
            "batch_normalization_203 (BatchN (None, 29, 29, 64)   192         conv2d_203[0][0]                 \n",
            "__________________________________________________________________________________________________\n",
            "activation_203 (Activation)     (None, 29, 29, 64)   0           batch_normalization_203[0][0]    \n",
            "__________________________________________________________________________________________________\n",
            "conv2d_201 (Conv2D)             (None, 29, 29, 48)   12288       mixed0[0][0]                     \n",
            "__________________________________________________________________________________________________\n",
            "conv2d_204 (Conv2D)             (None, 29, 29, 96)   55296       activation_203[0][0]             \n",
            "__________________________________________________________________________________________________\n",
            "batch_normalization_201 (BatchN (None, 29, 29, 48)   144         conv2d_201[0][0]                 \n",
            "__________________________________________________________________________________________________\n",
            "batch_normalization_204 (BatchN (None, 29, 29, 96)   288         conv2d_204[0][0]                 \n",
            "__________________________________________________________________________________________________\n",
            "activation_201 (Activation)     (None, 29, 29, 48)   0           batch_normalization_201[0][0]    \n",
            "__________________________________________________________________________________________________\n",
            "activation_204 (Activation)     (None, 29, 29, 96)   0           batch_normalization_204[0][0]    \n",
            "__________________________________________________________________________________________________\n",
            "average_pooling2d_19 (AveragePo (None, 29, 29, 256)  0           mixed0[0][0]                     \n",
            "__________________________________________________________________________________________________\n",
            "conv2d_200 (Conv2D)             (None, 29, 29, 64)   16384       mixed0[0][0]                     \n",
            "__________________________________________________________________________________________________\n",
            "conv2d_202 (Conv2D)             (None, 29, 29, 64)   76800       activation_201[0][0]             \n",
            "__________________________________________________________________________________________________\n",
            "conv2d_205 (Conv2D)             (None, 29, 29, 96)   82944       activation_204[0][0]             \n",
            "__________________________________________________________________________________________________\n",
            "conv2d_206 (Conv2D)             (None, 29, 29, 64)   16384       average_pooling2d_19[0][0]       \n",
            "__________________________________________________________________________________________________\n",
            "batch_normalization_200 (BatchN (None, 29, 29, 64)   192         conv2d_200[0][0]                 \n",
            "__________________________________________________________________________________________________\n",
            "batch_normalization_202 (BatchN (None, 29, 29, 64)   192         conv2d_202[0][0]                 \n",
            "__________________________________________________________________________________________________\n",
            "batch_normalization_205 (BatchN (None, 29, 29, 96)   288         conv2d_205[0][0]                 \n",
            "__________________________________________________________________________________________________\n",
            "batch_normalization_206 (BatchN (None, 29, 29, 64)   192         conv2d_206[0][0]                 \n",
            "__________________________________________________________________________________________________\n",
            "activation_200 (Activation)     (None, 29, 29, 64)   0           batch_normalization_200[0][0]    \n",
            "__________________________________________________________________________________________________\n",
            "activation_202 (Activation)     (None, 29, 29, 64)   0           batch_normalization_202[0][0]    \n",
            "__________________________________________________________________________________________________\n",
            "activation_205 (Activation)     (None, 29, 29, 96)   0           batch_normalization_205[0][0]    \n",
            "__________________________________________________________________________________________________\n",
            "activation_206 (Activation)     (None, 29, 29, 64)   0           batch_normalization_206[0][0]    \n",
            "__________________________________________________________________________________________________\n",
            "mixed1 (Concatenate)            (None, 29, 29, 288)  0           activation_200[0][0]             \n",
            "                                                                 activation_202[0][0]             \n",
            "                                                                 activation_205[0][0]             \n",
            "                                                                 activation_206[0][0]             \n",
            "__________________________________________________________________________________________________\n",
            "conv2d_210 (Conv2D)             (None, 29, 29, 64)   18432       mixed1[0][0]                     \n",
            "__________________________________________________________________________________________________\n",
            "batch_normalization_210 (BatchN (None, 29, 29, 64)   192         conv2d_210[0][0]                 \n",
            "__________________________________________________________________________________________________\n",
            "activation_210 (Activation)     (None, 29, 29, 64)   0           batch_normalization_210[0][0]    \n",
            "__________________________________________________________________________________________________\n",
            "conv2d_208 (Conv2D)             (None, 29, 29, 48)   13824       mixed1[0][0]                     \n",
            "__________________________________________________________________________________________________\n",
            "conv2d_211 (Conv2D)             (None, 29, 29, 96)   55296       activation_210[0][0]             \n",
            "__________________________________________________________________________________________________\n",
            "batch_normalization_208 (BatchN (None, 29, 29, 48)   144         conv2d_208[0][0]                 \n",
            "__________________________________________________________________________________________________\n",
            "batch_normalization_211 (BatchN (None, 29, 29, 96)   288         conv2d_211[0][0]                 \n",
            "__________________________________________________________________________________________________\n",
            "activation_208 (Activation)     (None, 29, 29, 48)   0           batch_normalization_208[0][0]    \n",
            "__________________________________________________________________________________________________\n",
            "activation_211 (Activation)     (None, 29, 29, 96)   0           batch_normalization_211[0][0]    \n",
            "__________________________________________________________________________________________________\n",
            "average_pooling2d_20 (AveragePo (None, 29, 29, 288)  0           mixed1[0][0]                     \n",
            "__________________________________________________________________________________________________\n",
            "conv2d_207 (Conv2D)             (None, 29, 29, 64)   18432       mixed1[0][0]                     \n",
            "__________________________________________________________________________________________________\n",
            "conv2d_209 (Conv2D)             (None, 29, 29, 64)   76800       activation_208[0][0]             \n",
            "__________________________________________________________________________________________________\n",
            "conv2d_212 (Conv2D)             (None, 29, 29, 96)   82944       activation_211[0][0]             \n",
            "__________________________________________________________________________________________________\n",
            "conv2d_213 (Conv2D)             (None, 29, 29, 64)   18432       average_pooling2d_20[0][0]       \n",
            "__________________________________________________________________________________________________\n",
            "batch_normalization_207 (BatchN (None, 29, 29, 64)   192         conv2d_207[0][0]                 \n",
            "__________________________________________________________________________________________________\n",
            "batch_normalization_209 (BatchN (None, 29, 29, 64)   192         conv2d_209[0][0]                 \n",
            "__________________________________________________________________________________________________\n",
            "batch_normalization_212 (BatchN (None, 29, 29, 96)   288         conv2d_212[0][0]                 \n",
            "__________________________________________________________________________________________________\n",
            "batch_normalization_213 (BatchN (None, 29, 29, 64)   192         conv2d_213[0][0]                 \n",
            "__________________________________________________________________________________________________\n",
            "activation_207 (Activation)     (None, 29, 29, 64)   0           batch_normalization_207[0][0]    \n",
            "__________________________________________________________________________________________________\n",
            "activation_209 (Activation)     (None, 29, 29, 64)   0           batch_normalization_209[0][0]    \n",
            "__________________________________________________________________________________________________\n",
            "activation_212 (Activation)     (None, 29, 29, 96)   0           batch_normalization_212[0][0]    \n",
            "__________________________________________________________________________________________________\n",
            "activation_213 (Activation)     (None, 29, 29, 64)   0           batch_normalization_213[0][0]    \n",
            "__________________________________________________________________________________________________\n",
            "mixed2 (Concatenate)            (None, 29, 29, 288)  0           activation_207[0][0]             \n",
            "                                                                 activation_209[0][0]             \n",
            "                                                                 activation_212[0][0]             \n",
            "                                                                 activation_213[0][0]             \n",
            "__________________________________________________________________________________________________\n",
            "conv2d_215 (Conv2D)             (None, 29, 29, 64)   18432       mixed2[0][0]                     \n",
            "__________________________________________________________________________________________________\n",
            "batch_normalization_215 (BatchN (None, 29, 29, 64)   192         conv2d_215[0][0]                 \n",
            "__________________________________________________________________________________________________\n",
            "activation_215 (Activation)     (None, 29, 29, 64)   0           batch_normalization_215[0][0]    \n",
            "__________________________________________________________________________________________________\n",
            "conv2d_216 (Conv2D)             (None, 29, 29, 96)   55296       activation_215[0][0]             \n",
            "__________________________________________________________________________________________________\n",
            "batch_normalization_216 (BatchN (None, 29, 29, 96)   288         conv2d_216[0][0]                 \n",
            "__________________________________________________________________________________________________\n",
            "activation_216 (Activation)     (None, 29, 29, 96)   0           batch_normalization_216[0][0]    \n",
            "__________________________________________________________________________________________________\n",
            "conv2d_214 (Conv2D)             (None, 14, 14, 384)  995328      mixed2[0][0]                     \n",
            "__________________________________________________________________________________________________\n",
            "conv2d_217 (Conv2D)             (None, 14, 14, 96)   82944       activation_216[0][0]             \n",
            "__________________________________________________________________________________________________\n",
            "batch_normalization_214 (BatchN (None, 14, 14, 384)  1152        conv2d_214[0][0]                 \n",
            "__________________________________________________________________________________________________\n",
            "batch_normalization_217 (BatchN (None, 14, 14, 96)   288         conv2d_217[0][0]                 \n",
            "__________________________________________________________________________________________________\n",
            "activation_214 (Activation)     (None, 14, 14, 384)  0           batch_normalization_214[0][0]    \n",
            "__________________________________________________________________________________________________\n",
            "activation_217 (Activation)     (None, 14, 14, 96)   0           batch_normalization_217[0][0]    \n",
            "__________________________________________________________________________________________________\n",
            "max_pooling2d_10 (MaxPooling2D) (None, 14, 14, 288)  0           mixed2[0][0]                     \n",
            "__________________________________________________________________________________________________\n",
            "mixed3 (Concatenate)            (None, 14, 14, 768)  0           activation_214[0][0]             \n",
            "                                                                 activation_217[0][0]             \n",
            "                                                                 max_pooling2d_10[0][0]           \n",
            "__________________________________________________________________________________________________\n",
            "conv2d_222 (Conv2D)             (None, 14, 14, 128)  98304       mixed3[0][0]                     \n",
            "__________________________________________________________________________________________________\n",
            "batch_normalization_222 (BatchN (None, 14, 14, 128)  384         conv2d_222[0][0]                 \n",
            "__________________________________________________________________________________________________\n",
            "activation_222 (Activation)     (None, 14, 14, 128)  0           batch_normalization_222[0][0]    \n",
            "__________________________________________________________________________________________________\n",
            "conv2d_223 (Conv2D)             (None, 14, 14, 128)  114688      activation_222[0][0]             \n",
            "__________________________________________________________________________________________________\n",
            "batch_normalization_223 (BatchN (None, 14, 14, 128)  384         conv2d_223[0][0]                 \n",
            "__________________________________________________________________________________________________\n",
            "activation_223 (Activation)     (None, 14, 14, 128)  0           batch_normalization_223[0][0]    \n",
            "__________________________________________________________________________________________________\n",
            "conv2d_219 (Conv2D)             (None, 14, 14, 128)  98304       mixed3[0][0]                     \n",
            "__________________________________________________________________________________________________\n",
            "conv2d_224 (Conv2D)             (None, 14, 14, 128)  114688      activation_223[0][0]             \n",
            "__________________________________________________________________________________________________\n",
            "batch_normalization_219 (BatchN (None, 14, 14, 128)  384         conv2d_219[0][0]                 \n",
            "__________________________________________________________________________________________________\n",
            "batch_normalization_224 (BatchN (None, 14, 14, 128)  384         conv2d_224[0][0]                 \n",
            "__________________________________________________________________________________________________\n",
            "activation_219 (Activation)     (None, 14, 14, 128)  0           batch_normalization_219[0][0]    \n",
            "__________________________________________________________________________________________________\n",
            "activation_224 (Activation)     (None, 14, 14, 128)  0           batch_normalization_224[0][0]    \n",
            "__________________________________________________________________________________________________\n",
            "conv2d_220 (Conv2D)             (None, 14, 14, 128)  114688      activation_219[0][0]             \n",
            "__________________________________________________________________________________________________\n",
            "conv2d_225 (Conv2D)             (None, 14, 14, 128)  114688      activation_224[0][0]             \n",
            "__________________________________________________________________________________________________\n",
            "batch_normalization_220 (BatchN (None, 14, 14, 128)  384         conv2d_220[0][0]                 \n",
            "__________________________________________________________________________________________________\n",
            "batch_normalization_225 (BatchN (None, 14, 14, 128)  384         conv2d_225[0][0]                 \n",
            "__________________________________________________________________________________________________\n",
            "activation_220 (Activation)     (None, 14, 14, 128)  0           batch_normalization_220[0][0]    \n",
            "__________________________________________________________________________________________________\n",
            "activation_225 (Activation)     (None, 14, 14, 128)  0           batch_normalization_225[0][0]    \n",
            "__________________________________________________________________________________________________\n",
            "average_pooling2d_21 (AveragePo (None, 14, 14, 768)  0           mixed3[0][0]                     \n",
            "__________________________________________________________________________________________________\n",
            "conv2d_218 (Conv2D)             (None, 14, 14, 192)  147456      mixed3[0][0]                     \n",
            "__________________________________________________________________________________________________\n",
            "conv2d_221 (Conv2D)             (None, 14, 14, 192)  172032      activation_220[0][0]             \n",
            "__________________________________________________________________________________________________\n",
            "conv2d_226 (Conv2D)             (None, 14, 14, 192)  172032      activation_225[0][0]             \n",
            "__________________________________________________________________________________________________\n",
            "conv2d_227 (Conv2D)             (None, 14, 14, 192)  147456      average_pooling2d_21[0][0]       \n",
            "__________________________________________________________________________________________________\n",
            "batch_normalization_218 (BatchN (None, 14, 14, 192)  576         conv2d_218[0][0]                 \n",
            "__________________________________________________________________________________________________\n",
            "batch_normalization_221 (BatchN (None, 14, 14, 192)  576         conv2d_221[0][0]                 \n",
            "__________________________________________________________________________________________________\n",
            "batch_normalization_226 (BatchN (None, 14, 14, 192)  576         conv2d_226[0][0]                 \n",
            "__________________________________________________________________________________________________\n",
            "batch_normalization_227 (BatchN (None, 14, 14, 192)  576         conv2d_227[0][0]                 \n",
            "__________________________________________________________________________________________________\n",
            "activation_218 (Activation)     (None, 14, 14, 192)  0           batch_normalization_218[0][0]    \n",
            "__________________________________________________________________________________________________\n",
            "activation_221 (Activation)     (None, 14, 14, 192)  0           batch_normalization_221[0][0]    \n",
            "__________________________________________________________________________________________________\n",
            "activation_226 (Activation)     (None, 14, 14, 192)  0           batch_normalization_226[0][0]    \n",
            "__________________________________________________________________________________________________\n",
            "activation_227 (Activation)     (None, 14, 14, 192)  0           batch_normalization_227[0][0]    \n",
            "__________________________________________________________________________________________________\n",
            "mixed4 (Concatenate)            (None, 14, 14, 768)  0           activation_218[0][0]             \n",
            "                                                                 activation_221[0][0]             \n",
            "                                                                 activation_226[0][0]             \n",
            "                                                                 activation_227[0][0]             \n",
            "__________________________________________________________________________________________________\n",
            "conv2d_232 (Conv2D)             (None, 14, 14, 160)  122880      mixed4[0][0]                     \n",
            "__________________________________________________________________________________________________\n",
            "batch_normalization_232 (BatchN (None, 14, 14, 160)  480         conv2d_232[0][0]                 \n",
            "__________________________________________________________________________________________________\n",
            "activation_232 (Activation)     (None, 14, 14, 160)  0           batch_normalization_232[0][0]    \n",
            "__________________________________________________________________________________________________\n",
            "conv2d_233 (Conv2D)             (None, 14, 14, 160)  179200      activation_232[0][0]             \n",
            "__________________________________________________________________________________________________\n",
            "batch_normalization_233 (BatchN (None, 14, 14, 160)  480         conv2d_233[0][0]                 \n",
            "__________________________________________________________________________________________________\n",
            "activation_233 (Activation)     (None, 14, 14, 160)  0           batch_normalization_233[0][0]    \n",
            "__________________________________________________________________________________________________\n",
            "conv2d_229 (Conv2D)             (None, 14, 14, 160)  122880      mixed4[0][0]                     \n",
            "__________________________________________________________________________________________________\n",
            "conv2d_234 (Conv2D)             (None, 14, 14, 160)  179200      activation_233[0][0]             \n",
            "__________________________________________________________________________________________________\n",
            "batch_normalization_229 (BatchN (None, 14, 14, 160)  480         conv2d_229[0][0]                 \n",
            "__________________________________________________________________________________________________\n",
            "batch_normalization_234 (BatchN (None, 14, 14, 160)  480         conv2d_234[0][0]                 \n",
            "__________________________________________________________________________________________________\n",
            "activation_229 (Activation)     (None, 14, 14, 160)  0           batch_normalization_229[0][0]    \n",
            "__________________________________________________________________________________________________\n",
            "activation_234 (Activation)     (None, 14, 14, 160)  0           batch_normalization_234[0][0]    \n",
            "__________________________________________________________________________________________________\n",
            "conv2d_230 (Conv2D)             (None, 14, 14, 160)  179200      activation_229[0][0]             \n",
            "__________________________________________________________________________________________________\n",
            "conv2d_235 (Conv2D)             (None, 14, 14, 160)  179200      activation_234[0][0]             \n",
            "__________________________________________________________________________________________________\n",
            "batch_normalization_230 (BatchN (None, 14, 14, 160)  480         conv2d_230[0][0]                 \n",
            "__________________________________________________________________________________________________\n",
            "batch_normalization_235 (BatchN (None, 14, 14, 160)  480         conv2d_235[0][0]                 \n",
            "__________________________________________________________________________________________________\n",
            "activation_230 (Activation)     (None, 14, 14, 160)  0           batch_normalization_230[0][0]    \n",
            "__________________________________________________________________________________________________\n",
            "activation_235 (Activation)     (None, 14, 14, 160)  0           batch_normalization_235[0][0]    \n",
            "__________________________________________________________________________________________________\n",
            "average_pooling2d_22 (AveragePo (None, 14, 14, 768)  0           mixed4[0][0]                     \n",
            "__________________________________________________________________________________________________\n",
            "conv2d_228 (Conv2D)             (None, 14, 14, 192)  147456      mixed4[0][0]                     \n",
            "__________________________________________________________________________________________________\n",
            "conv2d_231 (Conv2D)             (None, 14, 14, 192)  215040      activation_230[0][0]             \n",
            "__________________________________________________________________________________________________\n",
            "conv2d_236 (Conv2D)             (None, 14, 14, 192)  215040      activation_235[0][0]             \n",
            "__________________________________________________________________________________________________\n",
            "conv2d_237 (Conv2D)             (None, 14, 14, 192)  147456      average_pooling2d_22[0][0]       \n",
            "__________________________________________________________________________________________________\n",
            "batch_normalization_228 (BatchN (None, 14, 14, 192)  576         conv2d_228[0][0]                 \n",
            "__________________________________________________________________________________________________\n",
            "batch_normalization_231 (BatchN (None, 14, 14, 192)  576         conv2d_231[0][0]                 \n",
            "__________________________________________________________________________________________________\n",
            "batch_normalization_236 (BatchN (None, 14, 14, 192)  576         conv2d_236[0][0]                 \n",
            "__________________________________________________________________________________________________\n",
            "batch_normalization_237 (BatchN (None, 14, 14, 192)  576         conv2d_237[0][0]                 \n",
            "__________________________________________________________________________________________________\n",
            "activation_228 (Activation)     (None, 14, 14, 192)  0           batch_normalization_228[0][0]    \n",
            "__________________________________________________________________________________________________\n",
            "activation_231 (Activation)     (None, 14, 14, 192)  0           batch_normalization_231[0][0]    \n",
            "__________________________________________________________________________________________________\n",
            "activation_236 (Activation)     (None, 14, 14, 192)  0           batch_normalization_236[0][0]    \n",
            "__________________________________________________________________________________________________\n",
            "activation_237 (Activation)     (None, 14, 14, 192)  0           batch_normalization_237[0][0]    \n",
            "__________________________________________________________________________________________________\n",
            "mixed5 (Concatenate)            (None, 14, 14, 768)  0           activation_228[0][0]             \n",
            "                                                                 activation_231[0][0]             \n",
            "                                                                 activation_236[0][0]             \n",
            "                                                                 activation_237[0][0]             \n",
            "__________________________________________________________________________________________________\n",
            "conv2d_242 (Conv2D)             (None, 14, 14, 160)  122880      mixed5[0][0]                     \n",
            "__________________________________________________________________________________________________\n",
            "batch_normalization_242 (BatchN (None, 14, 14, 160)  480         conv2d_242[0][0]                 \n",
            "__________________________________________________________________________________________________\n",
            "activation_242 (Activation)     (None, 14, 14, 160)  0           batch_normalization_242[0][0]    \n",
            "__________________________________________________________________________________________________\n",
            "conv2d_243 (Conv2D)             (None, 14, 14, 160)  179200      activation_242[0][0]             \n",
            "__________________________________________________________________________________________________\n",
            "batch_normalization_243 (BatchN (None, 14, 14, 160)  480         conv2d_243[0][0]                 \n",
            "__________________________________________________________________________________________________\n",
            "activation_243 (Activation)     (None, 14, 14, 160)  0           batch_normalization_243[0][0]    \n",
            "__________________________________________________________________________________________________\n",
            "conv2d_239 (Conv2D)             (None, 14, 14, 160)  122880      mixed5[0][0]                     \n",
            "__________________________________________________________________________________________________\n",
            "conv2d_244 (Conv2D)             (None, 14, 14, 160)  179200      activation_243[0][0]             \n",
            "__________________________________________________________________________________________________\n",
            "batch_normalization_239 (BatchN (None, 14, 14, 160)  480         conv2d_239[0][0]                 \n",
            "__________________________________________________________________________________________________\n",
            "batch_normalization_244 (BatchN (None, 14, 14, 160)  480         conv2d_244[0][0]                 \n",
            "__________________________________________________________________________________________________\n",
            "activation_239 (Activation)     (None, 14, 14, 160)  0           batch_normalization_239[0][0]    \n",
            "__________________________________________________________________________________________________\n",
            "activation_244 (Activation)     (None, 14, 14, 160)  0           batch_normalization_244[0][0]    \n",
            "__________________________________________________________________________________________________\n",
            "conv2d_240 (Conv2D)             (None, 14, 14, 160)  179200      activation_239[0][0]             \n",
            "__________________________________________________________________________________________________\n",
            "conv2d_245 (Conv2D)             (None, 14, 14, 160)  179200      activation_244[0][0]             \n",
            "__________________________________________________________________________________________________\n",
            "batch_normalization_240 (BatchN (None, 14, 14, 160)  480         conv2d_240[0][0]                 \n",
            "__________________________________________________________________________________________________\n",
            "batch_normalization_245 (BatchN (None, 14, 14, 160)  480         conv2d_245[0][0]                 \n",
            "__________________________________________________________________________________________________\n",
            "activation_240 (Activation)     (None, 14, 14, 160)  0           batch_normalization_240[0][0]    \n",
            "__________________________________________________________________________________________________\n",
            "activation_245 (Activation)     (None, 14, 14, 160)  0           batch_normalization_245[0][0]    \n",
            "__________________________________________________________________________________________________\n",
            "average_pooling2d_23 (AveragePo (None, 14, 14, 768)  0           mixed5[0][0]                     \n",
            "__________________________________________________________________________________________________\n",
            "conv2d_238 (Conv2D)             (None, 14, 14, 192)  147456      mixed5[0][0]                     \n",
            "__________________________________________________________________________________________________\n",
            "conv2d_241 (Conv2D)             (None, 14, 14, 192)  215040      activation_240[0][0]             \n",
            "__________________________________________________________________________________________________\n",
            "conv2d_246 (Conv2D)             (None, 14, 14, 192)  215040      activation_245[0][0]             \n",
            "__________________________________________________________________________________________________\n",
            "conv2d_247 (Conv2D)             (None, 14, 14, 192)  147456      average_pooling2d_23[0][0]       \n",
            "__________________________________________________________________________________________________\n",
            "batch_normalization_238 (BatchN (None, 14, 14, 192)  576         conv2d_238[0][0]                 \n",
            "__________________________________________________________________________________________________\n",
            "batch_normalization_241 (BatchN (None, 14, 14, 192)  576         conv2d_241[0][0]                 \n",
            "__________________________________________________________________________________________________\n",
            "batch_normalization_246 (BatchN (None, 14, 14, 192)  576         conv2d_246[0][0]                 \n",
            "__________________________________________________________________________________________________\n",
            "batch_normalization_247 (BatchN (None, 14, 14, 192)  576         conv2d_247[0][0]                 \n",
            "__________________________________________________________________________________________________\n",
            "activation_238 (Activation)     (None, 14, 14, 192)  0           batch_normalization_238[0][0]    \n",
            "__________________________________________________________________________________________________\n",
            "activation_241 (Activation)     (None, 14, 14, 192)  0           batch_normalization_241[0][0]    \n",
            "__________________________________________________________________________________________________\n",
            "activation_246 (Activation)     (None, 14, 14, 192)  0           batch_normalization_246[0][0]    \n",
            "__________________________________________________________________________________________________\n",
            "activation_247 (Activation)     (None, 14, 14, 192)  0           batch_normalization_247[0][0]    \n",
            "__________________________________________________________________________________________________\n",
            "mixed6 (Concatenate)            (None, 14, 14, 768)  0           activation_238[0][0]             \n",
            "                                                                 activation_241[0][0]             \n",
            "                                                                 activation_246[0][0]             \n",
            "                                                                 activation_247[0][0]             \n",
            "__________________________________________________________________________________________________\n",
            "conv2d_252 (Conv2D)             (None, 14, 14, 192)  147456      mixed6[0][0]                     \n",
            "__________________________________________________________________________________________________\n",
            "batch_normalization_252 (BatchN (None, 14, 14, 192)  576         conv2d_252[0][0]                 \n",
            "__________________________________________________________________________________________________\n",
            "activation_252 (Activation)     (None, 14, 14, 192)  0           batch_normalization_252[0][0]    \n",
            "__________________________________________________________________________________________________\n",
            "conv2d_253 (Conv2D)             (None, 14, 14, 192)  258048      activation_252[0][0]             \n",
            "__________________________________________________________________________________________________\n",
            "batch_normalization_253 (BatchN (None, 14, 14, 192)  576         conv2d_253[0][0]                 \n",
            "__________________________________________________________________________________________________\n",
            "activation_253 (Activation)     (None, 14, 14, 192)  0           batch_normalization_253[0][0]    \n",
            "__________________________________________________________________________________________________\n",
            "conv2d_249 (Conv2D)             (None, 14, 14, 192)  147456      mixed6[0][0]                     \n",
            "__________________________________________________________________________________________________\n",
            "conv2d_254 (Conv2D)             (None, 14, 14, 192)  258048      activation_253[0][0]             \n",
            "__________________________________________________________________________________________________\n",
            "batch_normalization_249 (BatchN (None, 14, 14, 192)  576         conv2d_249[0][0]                 \n",
            "__________________________________________________________________________________________________\n",
            "batch_normalization_254 (BatchN (None, 14, 14, 192)  576         conv2d_254[0][0]                 \n",
            "__________________________________________________________________________________________________\n",
            "activation_249 (Activation)     (None, 14, 14, 192)  0           batch_normalization_249[0][0]    \n",
            "__________________________________________________________________________________________________\n",
            "activation_254 (Activation)     (None, 14, 14, 192)  0           batch_normalization_254[0][0]    \n",
            "__________________________________________________________________________________________________\n",
            "conv2d_250 (Conv2D)             (None, 14, 14, 192)  258048      activation_249[0][0]             \n",
            "__________________________________________________________________________________________________\n",
            "conv2d_255 (Conv2D)             (None, 14, 14, 192)  258048      activation_254[0][0]             \n",
            "__________________________________________________________________________________________________\n",
            "batch_normalization_250 (BatchN (None, 14, 14, 192)  576         conv2d_250[0][0]                 \n",
            "__________________________________________________________________________________________________\n",
            "batch_normalization_255 (BatchN (None, 14, 14, 192)  576         conv2d_255[0][0]                 \n",
            "__________________________________________________________________________________________________\n",
            "activation_250 (Activation)     (None, 14, 14, 192)  0           batch_normalization_250[0][0]    \n",
            "__________________________________________________________________________________________________\n",
            "activation_255 (Activation)     (None, 14, 14, 192)  0           batch_normalization_255[0][0]    \n",
            "__________________________________________________________________________________________________\n",
            "average_pooling2d_24 (AveragePo (None, 14, 14, 768)  0           mixed6[0][0]                     \n",
            "__________________________________________________________________________________________________\n",
            "conv2d_248 (Conv2D)             (None, 14, 14, 192)  147456      mixed6[0][0]                     \n",
            "__________________________________________________________________________________________________\n",
            "conv2d_251 (Conv2D)             (None, 14, 14, 192)  258048      activation_250[0][0]             \n",
            "__________________________________________________________________________________________________\n",
            "conv2d_256 (Conv2D)             (None, 14, 14, 192)  258048      activation_255[0][0]             \n",
            "__________________________________________________________________________________________________\n",
            "conv2d_257 (Conv2D)             (None, 14, 14, 192)  147456      average_pooling2d_24[0][0]       \n",
            "__________________________________________________________________________________________________\n",
            "batch_normalization_248 (BatchN (None, 14, 14, 192)  576         conv2d_248[0][0]                 \n",
            "__________________________________________________________________________________________________\n",
            "batch_normalization_251 (BatchN (None, 14, 14, 192)  576         conv2d_251[0][0]                 \n",
            "__________________________________________________________________________________________________\n",
            "batch_normalization_256 (BatchN (None, 14, 14, 192)  576         conv2d_256[0][0]                 \n",
            "__________________________________________________________________________________________________\n",
            "batch_normalization_257 (BatchN (None, 14, 14, 192)  576         conv2d_257[0][0]                 \n",
            "__________________________________________________________________________________________________\n",
            "activation_248 (Activation)     (None, 14, 14, 192)  0           batch_normalization_248[0][0]    \n",
            "__________________________________________________________________________________________________\n",
            "activation_251 (Activation)     (None, 14, 14, 192)  0           batch_normalization_251[0][0]    \n",
            "__________________________________________________________________________________________________\n",
            "activation_256 (Activation)     (None, 14, 14, 192)  0           batch_normalization_256[0][0]    \n",
            "__________________________________________________________________________________________________\n",
            "activation_257 (Activation)     (None, 14, 14, 192)  0           batch_normalization_257[0][0]    \n",
            "__________________________________________________________________________________________________\n",
            "mixed7 (Concatenate)            (None, 14, 14, 768)  0           activation_248[0][0]             \n",
            "                                                                 activation_251[0][0]             \n",
            "                                                                 activation_256[0][0]             \n",
            "                                                                 activation_257[0][0]             \n",
            "__________________________________________________________________________________________________\n",
            "flatten_2 (Flatten)             (None, 150528)       0           mixed7[0][0]                     \n",
            "__________________________________________________________________________________________________\n",
            "dense_6 (Dense)                 (None, 1024)         154141696   flatten_2[0][0]                  \n",
            "__________________________________________________________________________________________________\n",
            "dense_7 (Dense)                 (None, 512)          524800      dense_6[0][0]                    \n",
            "__________________________________________________________________________________________________\n",
            "dropout_2 (Dropout)             (None, 512)          0           dense_7[0][0]                    \n",
            "__________________________________________________________________________________________________\n",
            "dense_8 (Dense)                 (None, 1)            513         dropout_2[0][0]                  \n",
            "==================================================================================================\n",
            "Total params: 163,642,273\n",
            "Trainable params: 163,623,457\n",
            "Non-trainable params: 18,816\n",
            "__________________________________________________________________________________________________\n"
          ],
          "name": "stdout"
        }
      ]
    }
  ]
}