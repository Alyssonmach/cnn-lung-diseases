{
 "cells": [
  {
   "cell_type": "markdown",
   "id": "emotional-style",
   "metadata": {},
   "source": [
    "# VinBigData Chest X-ray Abnormalities \n",
    "\n",
    "## Dataset Kaggle\n",
    "***\n",
    "- [VinBigData Chest X-ray Abnormalities](https://www.kaggle.com/awsaf49/vinbigdata-original-image-dataset)\n",
    "\n",
    "## Contexto do problema\n",
    "***\n",
    "> Distúrbios pulmonares são doenças que afeta muitas pessoas nos países em desenvolvimento. Embora o tratamento seja possível, ela requer um diagnóstico preciso primeiro. Nos projetos de países, há em muitos casos máquinas de raio-X disponíveis (por meio de projetos de baixo custo e doações), mas muitas vezes falta a experiência radiológica para avaliar com precisão as imagens. Um algoritmo que pudesse realizar essa tarefa de forma rápida e barata poderia melhorar drasticamente a capacidade de diagnosticar e, em última análise, tratar a doença.  \n",
    "***\n",
    "> Em países mais desenvolvidos, a radiografia de raio-X é frequentemente usada para rastrear recém-chegados e determinar a elegibilidade para uma autorização de trabalho. A tarefa de examinar manualmente as imagens é demorada e um algoritmo pode aumentar a eficiência, melhorar o desempenho e, por fim, reduzir o custo dessa triagem.   \n",
    "\n",
    "## Dataset 3: VinBigData Original Image Dataset\n",
    "***\n",
    "O Vingroup Big Data Institute (VinBigdata) concentra-se especificamente no campo da Ciência de Dados. A VinBigdata foi fundada em agosto de 2018 como parte de um desenvolvimento estratégico chave para o objetivo do Vingroup de se tornar uma empresa de Tecnologia - Industriais - Serviços de classe mundial, com a tecnologia no centro do palco. O conjunto de dados coletados do VinBigdata, compreende 18.000 varreduras CXR póstero-anterior (PA) em formato DICOM (convertidas para .jpg), cujas identificações foram removidas para proteger a privacidade do paciente. Todas as imagens foram marcadas por um painel de radiologistas experientes quanto à presença de 14 achados radiográficos críticos.\n",
    "\n",
    "## Referências\n",
    "***\n",
    "- Ha Q. Nguyen, Khanh Lam, Linh T. Le, Hieu H. Pham, Dat Q. Tran, Dung B. Nguyen, Dung D. Le, Chi M. Pham, Hang T. T. Tong, Diep H. Dinh, Cuong D. Do, Luu T. Doan, Cuong N. Nguyen, Binh T. Nguyen, Que V. Nguyen, Au D. Hoang, Hien N. Phan, Anh T. Nguyen, Phuong H. Ho, Dat T. Ngo, Nghia T. Nguyen, Nhan T. Nguyen, Minh Dao, & Van Vu. (2021). **VinDr-CXR: An open dataset of chest X-rays with radiologist's annotations**.\n"
   ]
  },
  {
   "cell_type": "markdown",
   "id": "rubber-china",
   "metadata": {},
   "source": [
    "## Importação dos pacotes"
   ]
  },
  {
   "cell_type": "code",
   "execution_count": 28,
   "id": "funny-chancellor",
   "metadata": {},
   "outputs": [],
   "source": [
    "import os\n",
    "import pandas as pd\n",
    "from sklearn.model_selection import train_test_split\n",
    "\n",
    "import warnings\n",
    "warnings.filterwarnings(\"ignore\")"
   ]
  },
  {
   "cell_type": "markdown",
   "id": "elect-daniel",
   "metadata": {},
   "source": [
    "## Indexando todas as imagens disponíveis no dataset\n",
    "***\n",
    "- `pandas`: ferramenta de análise e manipulação de dados."
   ]
  },
  {
   "cell_type": "code",
   "execution_count": 8,
   "id": "united-print",
   "metadata": {},
   "outputs": [],
   "source": [
    "# lendo os dados de um arquivo csv\n",
    "dataframe = pd.read_csv('../datasets/archive (1)/vinbigdata/train.csv')\n",
    "# criando uma coluna com os caminhos relativos as imagens\n",
    "dataframe['image_path'] = '../datasets/archive (1)/vinbigdata/train/' + dataframe.image_id + '.jpg'"
   ]
  },
  {
   "cell_type": "code",
   "execution_count": 103,
   "id": "quiet-interface",
   "metadata": {},
   "outputs": [
    {
     "name": "stdout",
     "output_type": "stream",
     "text": [
      "total de imagens disponíveis: 13948\n"
     ]
    }
   ],
   "source": [
    "print('total de imagens disponíveis:', str(len(set(dataframe['image_path']))))"
   ]
  },
  {
   "cell_type": "markdown",
   "id": "tracked-associate",
   "metadata": {},
   "source": [
    "## Extraindo os rótulos das imagens\n",
    "***\n",
    "\n",
    "#### Distúrbios datados\n",
    "- `No finding [14]`: a observação data o não achado de nenhuma das doenças abaixo.\n",
    "- `Aortic enlargement [0]`: protuberâncias anormais na aorta.\n",
    "- `Cardiomegaly [3]`: coração aumentado.\n",
    "- `Pleural thickening [11]`: tecido cicatricial desenvolvido no revestimento dos pulmões ou na pleura.\n",
    "- `Pulmonary fibrosis [13]`: doença pulmonar que ocorre quando o tecido pulmonar fica danificado e com cicatrizes.\n",
    "- `Nodule/Mass [8]`: lesão pulmonar bem definida, discreta, aproximadamente circular e com 3 cm ou menos de diâmetro.\n",
    "- `Lung Opacity [7]`: um nódulo do pulmão pode ser visível em uma radiografia ou tomografia do tórax de rotina.\n",
    "- `Pleural effusion [10]`: acúmulo de líquido entre os tecidos que revestem os pulmões e o tórax.\n",
    "- `Other lesion [9]`: outros tipos de lesões detectadas nas radiografias.\n",
    "- `Infiltration [6]`: distúrbio que afeta tanto o pulmão quanto o coração.\n",
    "- `ILD [5]`: grupo de doenças que causam a formação progressiva de cicatrizes no tecido pulmonar.\n",
    "- `Calcification [2]`: processo no qual os sais de cálcio se acumulam nos tecidos moles, tornando-os mais rígidos.\n",
    "- `Consolidation [4]`: refere-se aos espaços aéreos alveolares sendo preenchidos com fluido.\n",
    "- `Atelectasis [1]`: colapso completo ou parcial de um pulmão ou de uma seção (lóbulo) de um pulmão.\n",
    "- `Pneumothorax [12]`: ocorre quando o ar escoa para o espaço entre os pulmões e a parede torácica.\n",
    "\n",
    "### Rótulos removidos\n",
    "- `class_name[Aortic enlargement, Cardiomegaly, Other lesion, Consolidation]` == `class_id[0, 3, 9, 4]`\n",
    "\n",
    "#### Rótulos esperados\n",
    "- `[0]` caso normal;\n",
    "- `[1]` caso anormal;"
   ]
  },
  {
   "cell_type": "code",
   "execution_count": 41,
   "id": "decreased-welsh",
   "metadata": {},
   "outputs": [
    {
     "data": {
      "text/plain": [
       "No finding            31818\n",
       "Aortic enlargement     7162\n",
       "Cardiomegaly           5427\n",
       "Pleural thickening     4842\n",
       "Pulmonary fibrosis     4655\n",
       "Nodule/Mass            2580\n",
       "Lung Opacity           2483\n",
       "Pleural effusion       2476\n",
       "Other lesion           2203\n",
       "Infiltration           1247\n",
       "ILD                    1000\n",
       "Calcification           960\n",
       "Consolidation           556\n",
       "Atelectasis             279\n",
       "Pneumothorax            226\n",
       "Name: class_name, dtype: int64"
      ]
     },
     "execution_count": 41,
     "metadata": {},
     "output_type": "execute_result"
    }
   ],
   "source": [
    "# visualizando os casos disponíveis\n",
    "dataframe['class_name'].value_counts()"
   ]
  },
  {
   "cell_type": "code",
   "execution_count": 84,
   "id": "liquid-crawford",
   "metadata": {},
   "outputs": [],
   "source": [
    "# removendo os casos não relativos a distúrbios pulmonares\n",
    "dataframe = dataframe[dataframe.class_name != 'Aortic enlargement']\n",
    "dataframe = dataframe[dataframe.class_name != 'Cardiomegaly']\n",
    "dataframe = dataframe[dataframe.class_name != 'Other lesion']\n",
    "dataframe = dataframe[dataframe.class_name != 'Consolidation']"
   ]
  },
  {
   "cell_type": "code",
   "execution_count": 86,
   "id": "developmental-price",
   "metadata": {},
   "outputs": [],
   "source": [
    "# separando os casos rotulados como normais e anormais\n",
    "normal_cases = dataframe[(dataframe.class_id == 14) & (dataframe.class_name == 'No finding')]\n",
    "abnormal_cases = dataframe[(dataframe.class_id != 14) & (dataframe.class_name != 'No finding')]\n",
    "\n",
    "print('total de dados após a filtração:', str(len(set(normal_cases['image_path'])) + len(set(abnormal_cases['image_path']))))"
   ]
  },
  {
   "cell_type": "code",
   "execution_count": 104,
   "id": "preceding-kingdom",
   "metadata": {},
   "outputs": [],
   "source": [
    "# removendo as imagens repetidas\n",
    "normal_path = list(set(normal_cases['image_path']))\n",
    "abnormal_path = list(set(abnormal_cases['image_path']))\n",
    "\n",
    "# criando dataframes especifos com caminhos para as imagens e rótulos\n",
    "normal_data = pd.DataFrame(normal_path, columns = ['filepath'])\n",
    "normal_data['target'] = 0\n",
    "abnormal_data = pd.DataFrame(abnormal_path, columns = ['filepath'])\n",
    "abnormal_data['target'] = 1"
   ]
  },
  {
   "cell_type": "code",
   "execution_count": 114,
   "id": "genetic-astrology",
   "metadata": {},
   "outputs": [
    {
     "name": "stdout",
     "output_type": "stream",
     "text": [
      "quantidade de dados rotulados como normais: 10606\n",
      "quantidade de dados rotulados como anormais: 3342\n"
     ]
    }
   ],
   "source": [
    "print('quantidade de dados rotulados como normais:', len(normal_path))\n",
    "print('quantidade de dados rotulados como anormais:', len(abnormal_path))"
   ]
  },
  {
   "cell_type": "code",
   "execution_count": 107,
   "id": "infectious-gallery",
   "metadata": {},
   "outputs": [],
   "source": [
    "# concatenando os dataframes de casos normais e anormais\n",
    "full_data = pd.concat([normal_data, abnormal_data])\n",
    "# criando um dataframe para os rótulos, removendo-os do dataframe que contém as imagens\n",
    "full_labels = pd.DataFrame(full_data.pop('target'), columns = ['target'])"
   ]
  },
  {
   "cell_type": "markdown",
   "id": "rural-premises",
   "metadata": {},
   "source": [
    "## Dados [Treinamento - Validação - Teste]\n",
    "***\n",
    "- `scikit-learn:` biblioteca de aprendizado de máquina de código aberto."
   ]
  },
  {
   "cell_type": "code",
   "execution_count": 110,
   "id": "incorporate-andrew",
   "metadata": {},
   "outputs": [],
   "source": [
    "# separando os dados de treinamento e de teste\n",
    "train_X, test_X, train_y, test_y = train_test_split(full_data, full_labels, stratify = full_labels,\n",
    "                                                    test_size = 0.2, random_state = 42)"
   ]
  },
  {
   "cell_type": "code",
   "execution_count": 111,
   "id": "verified-integrity",
   "metadata": {},
   "outputs": [],
   "source": [
    "# adicionando os rótulos no dataframe dos dados de treinamento\n",
    "train_X['target'] = train_y['target']\n",
    "\n",
    "# carregando os rótulos do conjunto de treinamento e removendo-os do dataframe\n",
    "labels = train_X.pop('target')"
   ]
  },
  {
   "cell_type": "code",
   "execution_count": 112,
   "id": "center-veteran",
   "metadata": {},
   "outputs": [],
   "source": [
    "# separando os dados de validação dos dados de treinamento\n",
    "train_X, validation_X, train_y, validation_y = train_test_split(train_X, labels, stratify = labels,\n",
    "                                                                test_size = 0.2, random_state = 42)"
   ]
  },
  {
   "cell_type": "code",
   "execution_count": 113,
   "id": "arctic-prospect",
   "metadata": {},
   "outputs": [
    {
     "name": "stdout",
     "output_type": "stream",
     "text": [
      "quantidade de imagens de treinamento: 8926\n",
      "quantidade de rótulos de treinamento: 8926\n",
      "quantidade de imagens de teste: 2790\n",
      "quantidade de rótulos de teste: 2790\n",
      "quantidade de imagens de validação: 2232\n",
      "quantidade de rótulos de validação: 2232\n"
     ]
    }
   ],
   "source": [
    "# visualizando a quantidade de dados\n",
    "print('quantidade de imagens de treinamento:', len(train_X))\n",
    "print('quantidade de rótulos de treinamento:', len(train_y))\n",
    "print('quantidade de imagens de teste:', len(test_X))\n",
    "print('quantidade de rótulos de teste:', len(test_y))\n",
    "print('quantidade de imagens de validação:', len(validation_X))\n",
    "print('quantidade de rótulos de validação:', len(validation_y))"
   ]
  }
 ],
 "metadata": {
  "kernelspec": {
   "display_name": "Python 3",
   "language": "python",
   "name": "python3"
  },
  "language_info": {
   "codemirror_mode": {
    "name": "ipython",
    "version": 3
   },
   "file_extension": ".py",
   "mimetype": "text/x-python",
   "name": "python",
   "nbconvert_exporter": "python",
   "pygments_lexer": "ipython3",
   "version": "3.8.7"
  }
 },
 "nbformat": 4,
 "nbformat_minor": 5
}
